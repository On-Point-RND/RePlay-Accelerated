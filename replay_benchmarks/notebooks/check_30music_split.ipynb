{
 "cells": [
  {
   "cell_type": "code",
   "execution_count": 1,
   "metadata": {},
   "outputs": [],
   "source": [
    "# changing core directory\n",
    "import os, sys\n",
    "dir2 = os.path.abspath('')\n",
    "dir1 = os.path.dirname(dir2)\n",
    "if not dir1 in sys.path:\n",
    "    sys.path.append(dir1)\n",
    "os.chdir('../../..')"
   ]
  },
  {
   "cell_type": "code",
   "execution_count": 3,
   "metadata": {},
   "outputs": [
    {
     "name": "stderr",
     "output_type": "stream",
     "text": [
      "/opt/miniconda3/envs/tst/lib/python3.10/site-packages/tqdm/auto.py:21: TqdmWarning: IProgress not found. Please update jupyter and ipywidgets. See https://ipywidgets.readthedocs.io/en/stable/user_install.html\n",
      "  from .autonotebook import tqdm as notebook_tqdm\n"
     ]
    }
   ],
   "source": [
    "from replay.preprocessing.filters import MinCountFilter\n",
    "from replay.splitters import TimeSplitter, LastNSplitter, ColdUserRandomSplitter\n",
    "from replay.data import (\n",
    "    FeatureHint,\n",
    "    FeatureInfo,\n",
    "    FeatureSchema,\n",
    "    FeatureSource,\n",
    "    FeatureType,\n",
    "    Dataset,\n",
    ")\n",
    "from replay.data.nn import (\n",
    "    SequenceTokenizer,\n",
    "    SequentialDataset,\n",
    "    TensorFeatureSource,\n",
    "    TensorSchema,\n",
    "    TensorFeatureInfo\n",
    ")\n",
    "\n",
    "import pandas as pd"
   ]
  },
  {
   "cell_type": "code",
   "execution_count": 4,
   "metadata": {},
   "outputs": [],
   "source": [
    "import random\n",
    "import numpy as np\n",
    "import pandas as pd\n",
    "import matplotlib.pyplot as plt\n",
    "import seaborn as sns\n",
    "\n",
    "SEED = 42\n",
    "\n",
    "np.random.seed(SEED)\n",
    "random.seed(SEED)"
   ]
  },
  {
   "attachments": {},
   "cell_type": "markdown",
   "metadata": {},
   "source": [
    "## Prepare data"
   ]
  },
  {
   "cell_type": "code",
   "execution_count": 5,
   "metadata": {},
   "outputs": [],
   "source": [
    "interactions = pd.read_parquet(\"/RePlay-Accelerated/replay_benchmarks/data/30music/interactions.parquet\")"
   ]
  },
  {
   "cell_type": "code",
   "execution_count": 6,
   "metadata": {},
   "outputs": [
    {
     "data": {
      "text/html": [
       "<div>\n",
       "<style scoped>\n",
       "    .dataframe tbody tr th:only-of-type {\n",
       "        vertical-align: middle;\n",
       "    }\n",
       "\n",
       "    .dataframe tbody tr th {\n",
       "        vertical-align: top;\n",
       "    }\n",
       "\n",
       "    .dataframe thead th {\n",
       "        text-align: right;\n",
       "    }\n",
       "</style>\n",
       "<table border=\"1\" class=\"dataframe\">\n",
       "  <thead>\n",
       "    <tr style=\"text-align: right;\">\n",
       "      <th></th>\n",
       "      <th>timestamp</th>\n",
       "      <th>item_id</th>\n",
       "      <th>user_id</th>\n",
       "      <th>playtime</th>\n",
       "    </tr>\n",
       "  </thead>\n",
       "  <tbody>\n",
       "    <tr>\n",
       "      <th>0</th>\n",
       "      <td>1405079768</td>\n",
       "      <td>3351207</td>\n",
       "      <td>41504</td>\n",
       "      <td>176</td>\n",
       "    </tr>\n",
       "    <tr>\n",
       "      <th>1</th>\n",
       "      <td>1405079944</td>\n",
       "      <td>3351181</td>\n",
       "      <td>41504</td>\n",
       "      <td>181</td>\n",
       "    </tr>\n",
       "    <tr>\n",
       "      <th>2</th>\n",
       "      <td>1405080125</td>\n",
       "      <td>3351149</td>\n",
       "      <td>41504</td>\n",
       "      <td>149</td>\n",
       "    </tr>\n",
       "    <tr>\n",
       "      <th>3</th>\n",
       "      <td>1405080273</td>\n",
       "      <td>3351170</td>\n",
       "      <td>41504</td>\n",
       "      <td>223</td>\n",
       "    </tr>\n",
       "    <tr>\n",
       "      <th>4</th>\n",
       "      <td>1405080497</td>\n",
       "      <td>3351246</td>\n",
       "      <td>41504</td>\n",
       "      <td>290</td>\n",
       "    </tr>\n",
       "    <tr>\n",
       "      <th>...</th>\n",
       "      <td>...</td>\n",
       "      <td>...</td>\n",
       "      <td>...</td>\n",
       "      <td>...</td>\n",
       "    </tr>\n",
       "    <tr>\n",
       "      <th>31351940</th>\n",
       "      <td>1421379956</td>\n",
       "      <td>3719191</td>\n",
       "      <td>39905</td>\n",
       "      <td>467</td>\n",
       "    </tr>\n",
       "    <tr>\n",
       "      <th>31351941</th>\n",
       "      <td>1421530847</td>\n",
       "      <td>808210</td>\n",
       "      <td>39905</td>\n",
       "      <td>718</td>\n",
       "    </tr>\n",
       "    <tr>\n",
       "      <th>31351942</th>\n",
       "      <td>1421531288</td>\n",
       "      <td>2382015</td>\n",
       "      <td>39905</td>\n",
       "      <td>490</td>\n",
       "    </tr>\n",
       "    <tr>\n",
       "      <th>31351943</th>\n",
       "      <td>1421531780</td>\n",
       "      <td>3628315</td>\n",
       "      <td>39905</td>\n",
       "      <td>290</td>\n",
       "    </tr>\n",
       "    <tr>\n",
       "      <th>31351944</th>\n",
       "      <td>1421532241</td>\n",
       "      <td>1948549</td>\n",
       "      <td>39905</td>\n",
       "      <td>242</td>\n",
       "    </tr>\n",
       "  </tbody>\n",
       "</table>\n",
       "<p>31351945 rows × 4 columns</p>\n",
       "</div>"
      ],
      "text/plain": [
       "           timestamp  item_id  user_id  playtime\n",
       "0         1405079768  3351207    41504       176\n",
       "1         1405079944  3351181    41504       181\n",
       "2         1405080125  3351149    41504       149\n",
       "3         1405080273  3351170    41504       223\n",
       "4         1405080497  3351246    41504       290\n",
       "...              ...      ...      ...       ...\n",
       "31351940  1421379956  3719191    39905       467\n",
       "31351941  1421530847   808210    39905       718\n",
       "31351942  1421531288  2382015    39905       490\n",
       "31351943  1421531780  3628315    39905       290\n",
       "31351944  1421532241  1948549    39905       242\n",
       "\n",
       "[31351945 rows x 4 columns]"
      ]
     },
     "execution_count": 6,
     "metadata": {},
     "output_type": "execute_result"
    }
   ],
   "source": [
    "interactions"
   ]
  },
  {
   "cell_type": "code",
   "execution_count": 7,
   "metadata": {},
   "outputs": [
    {
     "data": {
      "text/plain": [
       "count    3.135194e+07\n",
       "mean     4.154113e+02\n",
       "std      1.268122e+05\n",
       "min     -1.000000e+00\n",
       "25%      1.800000e+02\n",
       "50%      2.260000e+02\n",
       "75%      2.780000e+02\n",
       "max      2.010915e+08\n",
       "Name: playtime, dtype: float64"
      ]
     },
     "execution_count": 7,
     "metadata": {},
     "output_type": "execute_result"
    }
   ],
   "source": [
    "interactions['playtime'].describe()"
   ]
  },
  {
   "cell_type": "code",
   "execution_count": 8,
   "metadata": {},
   "outputs": [
    {
     "name": "stdout",
     "output_type": "stream",
     "text": [
      "Number of unique users: 45175\n",
      "Number of unique items: 4519104\n"
     ]
    }
   ],
   "source": [
    "print(f\"Number of unique users: {interactions.user_id.nunique()}\")\n",
    "print(f\"Number of unique items: {interactions.item_id.nunique()}\")"
   ]
  },
  {
   "cell_type": "code",
   "execution_count": 14,
   "metadata": {},
   "outputs": [
    {
     "name": "stderr",
     "output_type": "stream",
     "text": [
      "/tmp/ipykernel_1801722/4186389301.py:1: FutureWarning: Treating datetime data as categorical rather than numeric in `.describe` is deprecated and will be removed in a future version of pandas. Specify `datetime_is_numeric=True` to silence this warning and adopt the future behavior now.\n",
      "  pd.to_datetime(interactions['timestamp'], unit='s').describe()\n"
     ]
    },
    {
     "data": {
      "text/plain": [
       "count                31351945\n",
       "unique               18024673\n",
       "top       2014-04-13 16:00:36\n",
       "freq                     1120\n",
       "first     2014-01-20 09:24:20\n",
       "last      2015-01-20 09:24:18\n",
       "Name: timestamp, dtype: object"
      ]
     },
     "execution_count": 14,
     "metadata": {},
     "output_type": "execute_result"
    }
   ],
   "source": [
    "pd.to_datetime(interactions['timestamp'], unit='s').describe()"
   ]
  },
  {
   "cell_type": "code",
   "execution_count": 15,
   "metadata": {},
   "outputs": [
    {
     "data": {
      "text/plain": [
       "0          2014-07-11 11:56:08\n",
       "1          2014-07-11 11:59:04\n",
       "2          2014-07-11 12:02:05\n",
       "3          2014-07-11 12:04:33\n",
       "4          2014-07-11 12:08:17\n",
       "                   ...        \n",
       "31351940   2015-01-16 03:45:56\n",
       "31351941   2015-01-17 21:40:47\n",
       "31351942   2015-01-17 21:48:08\n",
       "31351943   2015-01-17 21:56:20\n",
       "31351944   2015-01-17 22:04:01\n",
       "Name: timestamp, Length: 31351945, dtype: datetime64[ns]"
      ]
     },
     "execution_count": 15,
     "metadata": {},
     "output_type": "execute_result"
    }
   ],
   "source": [
    "pd.to_datetime(interactions['timestamp'], unit='s')"
   ]
  },
  {
   "cell_type": "code",
   "execution_count": 16,
   "metadata": {},
   "outputs": [
    {
     "data": {
      "text/html": [
       "<div>\n",
       "<style scoped>\n",
       "    .dataframe tbody tr th:only-of-type {\n",
       "        vertical-align: middle;\n",
       "    }\n",
       "\n",
       "    .dataframe tbody tr th {\n",
       "        vertical-align: top;\n",
       "    }\n",
       "\n",
       "    .dataframe thead th {\n",
       "        text-align: right;\n",
       "    }\n",
       "</style>\n",
       "<table border=\"1\" class=\"dataframe\">\n",
       "  <thead>\n",
       "    <tr style=\"text-align: right;\">\n",
       "      <th></th>\n",
       "      <th>timestamp</th>\n",
       "      <th>item_id</th>\n",
       "      <th>user_id</th>\n",
       "      <th>playtime</th>\n",
       "    </tr>\n",
       "  </thead>\n",
       "  <tbody>\n",
       "    <tr>\n",
       "      <th>0</th>\n",
       "      <td>1405079768</td>\n",
       "      <td>3351207</td>\n",
       "      <td>41504</td>\n",
       "      <td>176</td>\n",
       "    </tr>\n",
       "    <tr>\n",
       "      <th>1</th>\n",
       "      <td>1405079944</td>\n",
       "      <td>3351181</td>\n",
       "      <td>41504</td>\n",
       "      <td>181</td>\n",
       "    </tr>\n",
       "    <tr>\n",
       "      <th>2</th>\n",
       "      <td>1405080125</td>\n",
       "      <td>3351149</td>\n",
       "      <td>41504</td>\n",
       "      <td>149</td>\n",
       "    </tr>\n",
       "    <tr>\n",
       "      <th>3</th>\n",
       "      <td>1405080273</td>\n",
       "      <td>3351170</td>\n",
       "      <td>41504</td>\n",
       "      <td>223</td>\n",
       "    </tr>\n",
       "    <tr>\n",
       "      <th>4</th>\n",
       "      <td>1405080497</td>\n",
       "      <td>3351246</td>\n",
       "      <td>41504</td>\n",
       "      <td>290</td>\n",
       "    </tr>\n",
       "  </tbody>\n",
       "</table>\n",
       "</div>"
      ],
      "text/plain": [
       "    timestamp  item_id  user_id  playtime\n",
       "0  1405079768  3351207    41504       176\n",
       "1  1405079944  3351181    41504       181\n",
       "2  1405080125  3351149    41504       149\n",
       "3  1405080273  3351170    41504       223\n",
       "4  1405080497  3351246    41504       290"
      ]
     },
     "execution_count": 16,
     "metadata": {},
     "output_type": "execute_result"
    }
   ],
   "source": [
    "interactions.head()"
   ]
  },
  {
   "cell_type": "code",
   "execution_count": 17,
   "metadata": {},
   "outputs": [
    {
     "data": {
      "image/png": "[encoded data removed]",
      "text/plain": [
       "<Figure size 1200x600 with 1 Axes>"
      ]
     },
     "metadata": {},
     "output_type": "display_data"
    }
   ],
   "source": [
    "def plot_timestamp_distribution(df: pd.DataFrame, timestamp_col: str = 'timestamp', unit: str = 's', bins: int = 100):\n",
    "    df = df.copy()\n",
    "    df[timestamp_col] = pd.to_datetime(df[timestamp_col], unit=unit)\n",
    "    df = df.sort_values(timestamp_col)\n",
    "    \n",
    "    plt.figure(figsize=(12, 6))\n",
    "    plt.hist(df[timestamp_col], bins=bins, edgecolor='black', alpha=0.7)\n",
    "    plt.xlabel('Time')\n",
    "    plt.ylabel('Frequency')\n",
    "    plt.title(f'Distribution of {timestamp_col}')\n",
    "    plt.xticks(rotation=45)\n",
    "    plt.grid(axis='y', linestyle='--', alpha=0.7)\n",
    "    plt.show()\n",
    "\n",
    "plot_timestamp_distribution(interactions)\n"
   ]
  },
  {
   "cell_type": "code",
   "execution_count": 19,
   "metadata": {},
   "outputs": [
    {
     "name": "stdout",
     "output_type": "stream",
     "text": [
      "Before filtering - Min items per user: 2, Min users per item: 1\n",
      "After filtering - Min items per user: 3, Min users per item: 3\n"
     ]
    }
   ],
   "source": [
    "def filter_data(interactions: pd.DataFrame):\n",
    "    \"\"\"Filters raw data based on minimum interaction counts.\"\"\"\n",
    "\n",
    "    def log_min_counts(data: pd.DataFrame, message_prefix: str):\n",
    "        user_min = data.groupby(\"user_id\").size().min()\n",
    "        item_min = data.groupby(\"item_id\").size().min()\n",
    "        print(\n",
    "            f\"{message_prefix} - Min items per user: {user_min}, Min users per item: {item_min}\"\n",
    "        )\n",
    "\n",
    "    log_min_counts(interactions, \"Before filtering\")\n",
    "\n",
    "    interactions = MinCountFilter(\n",
    "        num_entries=5,\n",
    "        groupby_column=\"item_id\",\n",
    "    ).transform(interactions)\n",
    "\n",
    "    interactions = MinCountFilter(\n",
    "        num_entries=3,\n",
    "        groupby_column=\"user_id\",\n",
    "    ).transform(interactions)\n",
    "\n",
    "    log_min_counts(interactions, \"After filtering\")\n",
    "\n",
    "    return interactions\n",
    "\n",
    "interactions = filter_data(interactions)"
   ]
  },
  {
   "cell_type": "code",
   "execution_count": 20,
   "metadata": {},
   "outputs": [
    {
     "name": "stdout",
     "output_type": "stream",
     "text": [
      "(25639260, 4)\n",
      "2014-01-20 09:24:20\n",
      "2015-01-20 09:24:18\n",
      "Interaction Density: 0.064%\n",
      "Mean Sequence Length: 577.708\n"
     ]
    }
   ],
   "source": [
    "print(interactions.shape)\n",
    "print(pd.to_datetime(interactions.timestamp.min(), unit='s'))\n",
    "print(pd.to_datetime(interactions.timestamp.max(), unit='s'))\n",
    "density = (len(interactions) / (interactions['user_id'].nunique() * interactions['item_id'].nunique())) * 100\n",
    "print(f\"Interaction Density: {density:.3f}%\")\n",
    "mean_seq_len = interactions.groupby('user_id').size().mean()\n",
    "print(f\"Mean Sequence Length: {mean_seq_len:.3f}\")"
   ]
  },
  {
   "cell_type": "code",
   "execution_count": 21,
   "metadata": {},
   "outputs": [
    {
     "name": "stdout",
     "output_type": "stream",
     "text": [
      "Number of unique users: 44381\n",
      "Number of unique items: 909487\n"
     ]
    }
   ],
   "source": [
    "print(f\"Number of unique users: {interactions.user_id.nunique()}\")\n",
    "print(f\"Number of unique items: {interactions.item_id.nunique()}\")"
   ]
  },
  {
   "cell_type": "code",
   "execution_count": 22,
   "metadata": {},
   "outputs": [
    {
     "data": {
      "image/png": "[encoded data removed]",
      "text/plain": [
       "<Figure size 1200x600 with 1 Axes>"
      ]
     },
     "metadata": {},
     "output_type": "display_data"
    }
   ],
   "source": [
    "temp_interactions = interactions.copy()\n",
    "temp_interactions['timestamp'] = pd.to_datetime(temp_interactions['timestamp'], unit='s')\n",
    "daily_interactions = temp_interactions.resample('D', on='timestamp').size()\n",
    "percentile_90_date = daily_interactions.index[int(0.9 * len(daily_interactions)) - 1]\n",
    "percentile_100_date = daily_interactions.index[int(1 * len(daily_interactions)) - 1]\n",
    "plt.figure(figsize=(12, 6))\n",
    "daily_interactions.plot()\n",
    "plt.title('Daily User Interactions')\n",
    "plt.xlabel('Date')\n",
    "plt.ylabel('Number of Interactions')\n",
    "plt.axvline(x=percentile_90_date, color='red', linestyle='--', label=f'90th Percentile: {percentile_90_date.date()}')\n",
    "plt.axvline(x=percentile_100_date, color='green', linestyle='--', label=f'100th Percentile: {percentile_100_date.date()}')\n",
    "plt.legend()\n",
    "plt.grid(True)\n",
    "plt.show()"
   ]
  },
  {
   "cell_type": "code",
   "execution_count": 23,
   "metadata": {},
   "outputs": [
    {
     "name": "stdout",
     "output_type": "stream",
     "text": [
      "Distribution of seq_len in validation:\n",
      "count     4375.000000\n",
      "mean       479.754514\n",
      "std       1031.975606\n",
      "min          1.000000\n",
      "25%        128.000000\n",
      "50%        236.000000\n",
      "75%        531.000000\n",
      "max      21823.000000\n",
      "Name: item_id, dtype: float64.\n",
      "Distribution of seq_len in validation gt:\n",
      "count    4375.0\n",
      "mean        1.0\n",
      "std         0.0\n",
      "min         1.0\n",
      "25%         1.0\n",
      "50%         1.0\n",
      "75%         1.0\n",
      "max         1.0\n",
      "Name: item_id, dtype: float64.\n",
      "Distribution of seq_len in test:\n",
      "count    23247.000000\n",
      "mean       809.847077\n",
      "std       1774.189611\n",
      "min          2.000000\n",
      "25%        198.000000\n",
      "50%        470.000000\n",
      "75%        876.000000\n",
      "max      88861.000000\n",
      "Name: item_id, dtype: float64.\n",
      "Distribution of seq_len in test gt correct:\n",
      "count    23247.0\n",
      "mean         1.0\n",
      "std          0.0\n",
      "min          1.0\n",
      "25%          1.0\n",
      "50%          1.0\n",
      "75%          1.0\n",
      "max          1.0\n",
      "Name: item_id, dtype: float64.\n",
      "Distribution of seq_len in test gt:\n",
      "count    22674.0\n",
      "mean         1.0\n",
      "std          0.0\n",
      "min          1.0\n",
      "25%          1.0\n",
      "50%          1.0\n",
      "75%          1.0\n",
      "max          1.0\n",
      "Name: item_id, dtype: float64.\n"
     ]
    }
   ],
   "source": [
    "def split_data(interactions):\n",
    "    \"\"\"Split data for training, validation, and testing.\"\"\"\n",
    "    global_splitter = TimeSplitter(\n",
    "        time_threshold=0.1,\n",
    "        drop_cold_users=False,\n",
    "        drop_cold_items=True,\n",
    "        item_column=\"item_id\",\n",
    "        query_column=\"user_id\",\n",
    "        timestamp_column=\"timestamp\",\n",
    "    )\n",
    "    val_splitter = ColdUserRandomSplitter(\n",
    "        test_size=0.1,\n",
    "        drop_cold_items=True,\n",
    "        query_column=\"user_id\",\n",
    "        seed=42,\n",
    "    )\n",
    "    loo_splitter = LastNSplitter(\n",
    "        N=1,\n",
    "        drop_cold_users=True,\n",
    "        drop_cold_items=False,\n",
    "        divide_column=\"user_id\",\n",
    "        query_column=\"user_id\",\n",
    "        strategy=\"interactions\",\n",
    "    )\n",
    "\n",
    "    train, raw_test = global_splitter.split(interactions)\n",
    "    train_events, val = val_splitter.split(train)\n",
    "    test_users = set(raw_test['user_id']) - set(val['user_id'])\n",
    "    test_events, test_gt = loo_splitter.split(\n",
    "        interactions[\n",
    "            (interactions['user_id'].isin(test_users))\n",
    "            & interactions['item_id'].isin(train_events['item_id'].unique())\n",
    "        ]\n",
    "    )\n",
    "    validation_events, validation_gt = loo_splitter.split(val)\n",
    "    test_gt = test_gt[test_gt['item_id'].isin(train_events['item_id'])]\n",
    "    test_gt_correct = test_gt[test_gt['user_id'].isin(test_events['user_id'])]\n",
    "    test_gt = test_gt[test_gt['user_id'].isin(train_events['user_id'])]\n",
    "    print(\n",
    "            f\"Distribution of seq_len in validation:\\n{validation_events.groupby('user_id')['item_id'].agg('count').describe()}.\"\n",
    "        )\n",
    "    print(\n",
    "        f\"Distribution of seq_len in validation gt:\\n{validation_gt.groupby('user_id')['item_id'].agg('count').describe()}.\"\n",
    "    )\n",
    "    print(\n",
    "        f\"Distribution of seq_len in test:\\n{test_events.groupby('user_id')['item_id'].agg('count').describe()}.\"\n",
    "    )\n",
    "    print(\n",
    "        f\"Distribution of seq_len in test gt correct:\\n{test_gt_correct.groupby('user_id')['item_id'].agg('count').describe()}.\"\n",
    "    )\n",
    "    print(\n",
    "        f\"Distribution of seq_len in test gt:\\n{test_gt.groupby('user_id')['item_id'].agg('count').describe()}.\"\n",
    "    )\n",
    "\n",
    "    return {\n",
    "        \"train\": train_events,\n",
    "        \"validation\": validation_events,\n",
    "        \"validation_gt\": validation_gt,\n",
    "        \"test\": test_events,\n",
    "        \"test_gt\": test_gt,\n",
    "    }\n",
    "\n",
    "splits = split_data(interactions)"
   ]
  }
 ],
 "metadata": {
  "kernelspec": {
   "display_name": "Python 3",
   "language": "python",
   "name": "python3"
  },
  "language_info": {
   "codemirror_mode": {
    "name": "ipython",
    "version": 3
   },
   "file_extension": ".py",
   "mimetype": "text/x-python",
   "name": "python",
   "nbconvert_exporter": "python",
   "pygments_lexer": "ipython3",
   "version": "3.10.12"
  },
  "orig_nbformat": 4,
  "vscode": {
   "interpreter": {
    "hash": "0857f111b041889635bea848a6a183706c3f1c18c9dafdb447caa5e8bea01452"
   }
  }
 },
 "nbformat": 4,
 "nbformat_minor": 2
}
