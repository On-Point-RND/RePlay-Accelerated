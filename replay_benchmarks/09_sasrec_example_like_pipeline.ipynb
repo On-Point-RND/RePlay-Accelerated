{
 "cells": [
  {
   "attachments": {},
   "cell_type": "markdown",
   "metadata": {},
   "source": [
    "# Example of the SASRec training and inference stages\n",
    "Note that all the given examples can be run without using PySpark, using only Pandas"
   ]
  },
  {
   "cell_type": "code",
   "execution_count": 1,
   "metadata": {},
   "outputs": [],
   "source": [
    "# changing core directory\n",
    "import os, sys\n",
    "dir2 = os.path.abspath('')\n",
    "dir1 = os.path.dirname(dir2)\n",
    "if not dir1 in sys.path:\n",
    "    sys.path.append(dir1)\n",
    "os.chdir('..')"
   ]
  },
  {
   "cell_type": "code",
   "execution_count": 2,
   "metadata": {},
   "outputs": [],
   "source": [
    "os.environ[\"CUDA_DEVICE_ORDER\"] = \"PCI_BUS_ID\" \n",
    "os.environ[\"OMP_NUM_THREADS\"] = \"4\"\n",
    "os.environ[\"CUDA_VISIBLE_DEVICES\"] = \"0\"\n",
    "os.environ[\"KAGGLE_USERNAME\"] = \"recsysaccelerate\"\n",
    "os.environ[\"KAGGLE_KEY\"] = \"6363e91b656fea576c39e4f55dcc1d00\""
   ]
  },
  {
   "cell_type": "code",
   "execution_count": 3,
   "metadata": {},
   "outputs": [],
   "source": [
    "import lightning as L\n",
    "from lightning.pytorch.loggers import CSVLogger\n",
    "from lightning.pytorch.callbacks import ModelCheckpoint\n",
    "from torch.utils.data import DataLoader\n",
    "import torch\n",
    "\n",
    "from replay.preprocessing.filters import MinCountFilter\n",
    "from replay.metrics import OfflineMetrics, Recall, Precision, MAP, NDCG, HitRate, MRR\n",
    "from replay.metrics.torch_metrics_builder import metrics_to_df\n",
    "from replay.splitters import LastNSplitter, TimeSplitter\n",
    "from replay.utils import get_spark_session\n",
    "from replay.data import (\n",
    "    FeatureHint,\n",
    "    FeatureInfo,\n",
    "    FeatureSchema,\n",
    "    FeatureSource,\n",
    "    FeatureType,\n",
    "    Dataset,\n",
    ")\n",
    "from replay.models.nn.optimizer_utils import FatOptimizerFactory\n",
    "from replay.models.nn.sequential.callbacks import (\n",
    "    ValidationMetricsCallback,\n",
    "    SparkPredictionCallback,\n",
    "    PandasPredictionCallback, \n",
    "    TorchPredictionCallback,\n",
    "    QueryEmbeddingsPredictionCallback\n",
    ")\n",
    "from replay.models.nn.sequential.postprocessors import RemoveSeenItems\n",
    "from replay.data.nn import (\n",
    "    SequenceTokenizer,\n",
    "    SequentialDataset,\n",
    "    TensorFeatureSource,\n",
    "    TensorSchema,\n",
    "    TensorFeatureInfo\n",
    ")\n",
    "from replay.models.nn.sequential import SasRec\n",
    "from replay.models.nn.sequential.sasrec import (\n",
    "    SasRecPredictionDataset,\n",
    "    SasRecTrainingDataset,\n",
    "    SasRecValidationDataset,\n",
    "    SasRecPredictionBatch,\n",
    "    SasRecModel\n",
    ")\n",
    "\n",
    "import pandas as pd"
   ]
  },
  {
   "cell_type": "code",
   "execution_count": 4,
   "metadata": {},
   "outputs": [],
   "source": [
    "import random\n",
    "import numpy as np\n",
    "\n",
    "SEED = 777\n",
    "\n",
    "torch.manual_seed(SEED)\n",
    "torch.cuda.manual_seed(SEED)\n",
    "np.random.seed(SEED)\n",
    "random.seed(SEED)\n",
    "\n",
    "torch.backends.cudnn.deterministic=True"
   ]
  },
  {
   "attachments": {},
   "cell_type": "markdown",
   "metadata": {},
   "source": [
    "## Getting a spark session"
   ]
  },
  {
   "cell_type": "code",
   "execution_count": 5,
   "metadata": {},
   "outputs": [
    {
     "name": "stderr",
     "output_type": "stream",
     "text": [
      "/usr/local/lib/python3.11/site-packages/pyspark/bin/load-spark-env.sh: line 68: ps: command not found\n",
      "Setting default log level to \"WARN\".\n",
      "To adjust logging level use sc.setLogLevel(newLevel). For SparkR, use setLogLevel(newLevel).\n",
      "25/01/27 17:55:23 WARN NativeCodeLoader: Unable to load native-hadoop library for your platform... using builtin-java classes where applicable\n",
      "25/01/27 17:55:23 WARN SparkConf: Note that spark.local.dir will be overridden by the value set by the cluster manager (via SPARK_LOCAL_DIRS in mesos/standalone/kubernetes and LOCAL_DIRS in YARN).\n",
      "25/01/27 17:55:24 WARN Utils: Service 'SparkUI' could not bind on port 4040. Attempting port 4041.\n",
      "25/01/27 17:55:24 WARN Utils: Service 'SparkUI' could not bind on port 4041. Attempting port 4042.\n"
     ]
    }
   ],
   "source": [
    "spark_session = get_spark_session()"
   ]
  },
  {
   "attachments": {},
   "cell_type": "markdown",
   "metadata": {},
   "source": [
    "## Prepare data\n",
    "### Load raw movielens-1M interactions, item features and user features.\n",
    "In the current implementation, the SASRec does not take into account the features of items or users. They are only used to get a complete list of users and items."
   ]
  },
  {
   "cell_type": "code",
   "execution_count": 6,
   "metadata": {},
   "outputs": [
    {
     "name": "stdout",
     "output_type": "stream",
     "text": [
      "Requirement already satisfied: rs-datasets in /usr/local/lib/python3.11/site-packages (0.5.1)\n",
      "Requirement already satisfied: datatable in /usr/local/lib/python3.11/site-packages (from rs-datasets) (1.1.0)\n",
      "Requirement already satisfied: pandas in /usr/local/lib/python3.11/site-packages (from rs-datasets) (2.0.3)\n",
      "Requirement already satisfied: gdown in /usr/local/lib/python3.11/site-packages (from rs-datasets) (5.2.0)\n",
      "Requirement already satisfied: pyarrow in /usr/local/lib/python3.11/site-packages (from rs-datasets) (16.0.0)\n",
      "Requirement already satisfied: tqdm in /usr/local/lib/python3.11/site-packages (from rs-datasets) (4.66.4)\n",
      "Requirement already satisfied: xlrd in /usr/local/lib/python3.11/site-packages (from rs-datasets) (2.0.1)\n",
      "Requirement already satisfied: kaggle in /usr/local/lib/python3.11/site-packages (from rs-datasets) (1.6.17)\n",
      "Requirement already satisfied: py7zr in /usr/local/lib/python3.11/site-packages (from rs-datasets) (0.22.0)\n",
      "Requirement already satisfied: openpyxl in /usr/local/lib/python3.11/site-packages (from rs-datasets) (3.1.5)\n",
      "Requirement already satisfied: beautifulsoup4 in /usr/local/lib/python3.11/site-packages (from gdown->rs-datasets) (4.12.3)\n",
      "Requirement already satisfied: filelock in /usr/local/lib/python3.11/site-packages (from gdown->rs-datasets) (3.14.0)\n",
      "Requirement already satisfied: requests[socks] in /usr/local/lib/python3.11/site-packages (from gdown->rs-datasets) (2.32.3)\n",
      "Requirement already satisfied: six>=1.10 in /usr/local/lib/python3.11/site-packages (from kaggle->rs-datasets) (1.16.0)\n",
      "Requirement already satisfied: certifi>=2023.7.22 in /usr/local/lib/python3.11/site-packages (from kaggle->rs-datasets) (2024.6.2)\n",
      "Requirement already satisfied: python-dateutil in /usr/local/lib/python3.11/site-packages (from kaggle->rs-datasets) (2.9.0.post0)\n",
      "Requirement already satisfied: python-slugify in /usr/local/lib/python3.11/site-packages (from kaggle->rs-datasets) (8.0.4)\n",
      "Requirement already satisfied: urllib3 in /usr/local/lib/python3.11/site-packages (from kaggle->rs-datasets) (2.2.1)\n",
      "Requirement already satisfied: bleach in /usr/local/lib/python3.11/site-packages (from kaggle->rs-datasets) (6.1.0)\n",
      "Requirement already satisfied: et-xmlfile in /usr/local/lib/python3.11/site-packages (from openpyxl->rs-datasets) (2.0.0)\n",
      "Requirement already satisfied: pytz>=2020.1 in /usr/local/lib/python3.11/site-packages (from pandas->rs-datasets) (2024.1)\n",
      "Requirement already satisfied: tzdata>=2022.1 in /usr/local/lib/python3.11/site-packages (from pandas->rs-datasets) (2024.1)\n",
      "Requirement already satisfied: numpy>=1.21.0 in /usr/local/lib/python3.11/site-packages (from pandas->rs-datasets) (1.24.4)\n",
      "Requirement already satisfied: texttable in /usr/local/lib/python3.11/site-packages (from py7zr->rs-datasets) (1.7.0)\n",
      "Requirement already satisfied: pycryptodomex>=3.16.0 in /usr/local/lib/python3.11/site-packages (from py7zr->rs-datasets) (3.21.0)\n",
      "Requirement already satisfied: pyzstd>=0.15.9 in /usr/local/lib/python3.11/site-packages (from py7zr->rs-datasets) (0.16.2)\n",
      "Requirement already satisfied: pyppmd<1.2.0,>=1.1.0 in /usr/local/lib/python3.11/site-packages (from py7zr->rs-datasets) (1.1.0)\n",
      "Requirement already satisfied: pybcj<1.1.0,>=1.0.0 in /usr/local/lib/python3.11/site-packages (from py7zr->rs-datasets) (1.0.2)\n",
      "Requirement already satisfied: multivolumefile>=0.2.3 in /usr/local/lib/python3.11/site-packages (from py7zr->rs-datasets) (0.2.3)\n",
      "Requirement already satisfied: inflate64<1.1.0,>=1.0.0 in /usr/local/lib/python3.11/site-packages (from py7zr->rs-datasets) (1.0.0)\n",
      "Requirement already satisfied: brotli>=1.1.0 in /usr/local/lib/python3.11/site-packages (from py7zr->rs-datasets) (1.1.0)\n",
      "Requirement already satisfied: psutil in /usr/local/lib/python3.11/site-packages (from py7zr->rs-datasets) (6.0.0)\n",
      "Requirement already satisfied: soupsieve>1.2 in /usr/local/lib/python3.11/site-packages (from beautifulsoup4->gdown->rs-datasets) (2.5)\n",
      "Requirement already satisfied: webencodings in /usr/local/lib/python3.11/site-packages (from bleach->kaggle->rs-datasets) (0.5.1)\n",
      "Requirement already satisfied: text-unidecode>=1.3 in /usr/local/lib/python3.11/site-packages (from python-slugify->kaggle->rs-datasets) (1.3)\n",
      "Requirement already satisfied: charset-normalizer<4,>=2 in /usr/local/lib/python3.11/site-packages (from requests[socks]->gdown->rs-datasets) (3.3.2)\n",
      "Requirement already satisfied: idna<4,>=2.5 in /usr/local/lib/python3.11/site-packages (from requests[socks]->gdown->rs-datasets) (3.7)\n",
      "Requirement already satisfied: PySocks!=1.5.7,>=1.5.6 in /usr/local/lib/python3.11/site-packages (from requests[socks]->gdown->rs-datasets) (1.7.1)\n",
      "\u001b[33mWARNING: Running pip as the 'root' user can result in broken permissions and conflicting behaviour with the system package manager, possibly rendering your system unusable.It is recommended to use a virtual environment instead: https://pip.pypa.io/warnings/venv. Use the --root-user-action option if you know what you are doing and want to suppress this warning.\u001b[0m\u001b[33m\n",
      "\u001b[0m\n",
      "\u001b[1m[\u001b[0m\u001b[34;49mnotice\u001b[0m\u001b[1;39;49m]\u001b[0m\u001b[39;49m A new release of pip is available: \u001b[0m\u001b[31;49m24.2\u001b[0m\u001b[39;49m -> \u001b[0m\u001b[32;49m25.0\u001b[0m\n",
      "\u001b[1m[\u001b[0m\u001b[34;49mnotice\u001b[0m\u001b[1;39;49m]\u001b[0m\u001b[39;49m To update, run: \u001b[0m\u001b[32;49mpip install --upgrade pip\u001b[0m\n"
     ]
    }
   ],
   "source": [
    "!pip install rs-datasets"
   ]
  },
  {
   "cell_type": "code",
   "execution_count": 7,
   "metadata": {},
   "outputs": [
    {
     "data": {
      "text/html": [
       "<style type='text/css'>\n",
       ".datatable table.frame { margin-bottom: 0; }\n",
       ".datatable table.frame thead { border-bottom: none; }\n",
       ".datatable table.frame tr.coltypes td {  color: #FFFFFF;  line-height: 6px;  padding: 0 0.5em;}\n",
       ".datatable .bool    { background: #DDDD99; }\n",
       ".datatable .object  { background: #565656; }\n",
       ".datatable .int     { background: #5D9E5D; }\n",
       ".datatable .float   { background: #4040CC; }\n",
       ".datatable .str     { background: #CC4040; }\n",
       ".datatable .time    { background: #40CC40; }\n",
       ".datatable .row_index {  background: var(--jp-border-color3);  border-right: 1px solid var(--jp-border-color0);  color: var(--jp-ui-font-color3);  font-size: 9px;}\n",
       ".datatable .frame tbody td { text-align: left; }\n",
       ".datatable .frame tr.coltypes .row_index {  background: var(--jp-border-color0);}\n",
       ".datatable th:nth-child(2) { padding-left: 12px; }\n",
       ".datatable .hellipsis {  color: var(--jp-cell-editor-border-color);}\n",
       ".datatable .vellipsis {  background: var(--jp-layout-color0);  color: var(--jp-cell-editor-border-color);}\n",
       ".datatable .na {  color: var(--jp-cell-editor-border-color);  font-size: 80%;}\n",
       ".datatable .sp {  opacity: 0.25;}\n",
       ".datatable .footer { font-size: 9px; }\n",
       ".datatable .frame_dimensions {  background: var(--jp-border-color3);  border-top: 1px solid var(--jp-border-color0);  color: var(--jp-ui-font-color3);  display: inline-block;  opacity: 0.6;  padding: 1px 10px 1px 5px;}\n",
       "</style>\n"
      ],
      "text/plain": [
       "<IPython.core.display.HTML object>"
      ]
     },
     "metadata": {},
     "output_type": "display_data"
    }
   ],
   "source": [
    "from rs_datasets import MovieLens"
   ]
  },
  {
   "cell_type": "code",
   "execution_count": 8,
   "metadata": {},
   "outputs": [],
   "source": [
    "movielens = MovieLens(\"1m\")\n",
    "interactions = movielens.ratings\n",
    "user_features = movielens.users\n",
    "item_features = movielens.items\n",
    "\n",
    "interactions = interactions[interactions['rating'] >= 4]"
   ]
  },
  {
   "cell_type": "code",
   "execution_count": 9,
   "metadata": {},
   "outputs": [
    {
     "data": {
      "text/html": [
       "<div>\n",
       "<style scoped>\n",
       "    .dataframe tbody tr th:only-of-type {\n",
       "        vertical-align: middle;\n",
       "    }\n",
       "\n",
       "    .dataframe tbody tr th {\n",
       "        vertical-align: top;\n",
       "    }\n",
       "\n",
       "    .dataframe thead th {\n",
       "        text-align: right;\n",
       "    }\n",
       "</style>\n",
       "<table border=\"1\" class=\"dataframe\">\n",
       "  <thead>\n",
       "    <tr style=\"text-align: right;\">\n",
       "      <th></th>\n",
       "      <th>user_id</th>\n",
       "      <th>item_id</th>\n",
       "      <th>rating</th>\n",
       "      <th>timestamp</th>\n",
       "    </tr>\n",
       "  </thead>\n",
       "  <tbody>\n",
       "    <tr>\n",
       "      <th>0</th>\n",
       "      <td>1</td>\n",
       "      <td>1193</td>\n",
       "      <td>5</td>\n",
       "      <td>978300760</td>\n",
       "    </tr>\n",
       "    <tr>\n",
       "      <th>3</th>\n",
       "      <td>1</td>\n",
       "      <td>3408</td>\n",
       "      <td>4</td>\n",
       "      <td>978300275</td>\n",
       "    </tr>\n",
       "    <tr>\n",
       "      <th>4</th>\n",
       "      <td>1</td>\n",
       "      <td>2355</td>\n",
       "      <td>5</td>\n",
       "      <td>978824291</td>\n",
       "    </tr>\n",
       "    <tr>\n",
       "      <th>6</th>\n",
       "      <td>1</td>\n",
       "      <td>1287</td>\n",
       "      <td>5</td>\n",
       "      <td>978302039</td>\n",
       "    </tr>\n",
       "    <tr>\n",
       "      <th>7</th>\n",
       "      <td>1</td>\n",
       "      <td>2804</td>\n",
       "      <td>5</td>\n",
       "      <td>978300719</td>\n",
       "    </tr>\n",
       "  </tbody>\n",
       "</table>\n",
       "</div>"
      ],
      "text/plain": [
       "   user_id  item_id  rating  timestamp\n",
       "0        1     1193       5  978300760\n",
       "3        1     3408       4  978300275\n",
       "4        1     2355       5  978824291\n",
       "6        1     1287       5  978302039\n",
       "7        1     2804       5  978300719"
      ]
     },
     "execution_count": 9,
     "metadata": {},
     "output_type": "execute_result"
    }
   ],
   "source": [
    "interactions.head()"
   ]
  },
  {
   "cell_type": "code",
   "execution_count": 10,
   "metadata": {},
   "outputs": [
    {
     "data": {
      "text/html": [
       "<div>\n",
       "<style scoped>\n",
       "    .dataframe tbody tr th:only-of-type {\n",
       "        vertical-align: middle;\n",
       "    }\n",
       "\n",
       "    .dataframe tbody tr th {\n",
       "        vertical-align: top;\n",
       "    }\n",
       "\n",
       "    .dataframe thead th {\n",
       "        text-align: right;\n",
       "    }\n",
       "</style>\n",
       "<table border=\"1\" class=\"dataframe\">\n",
       "  <thead>\n",
       "    <tr style=\"text-align: right;\">\n",
       "      <th></th>\n",
       "      <th>user_id</th>\n",
       "      <th>gender</th>\n",
       "      <th>age</th>\n",
       "      <th>occupation</th>\n",
       "      <th>zip_code</th>\n",
       "    </tr>\n",
       "  </thead>\n",
       "  <tbody>\n",
       "    <tr>\n",
       "      <th>0</th>\n",
       "      <td>1</td>\n",
       "      <td>F</td>\n",
       "      <td>1</td>\n",
       "      <td>10</td>\n",
       "      <td>48067</td>\n",
       "    </tr>\n",
       "    <tr>\n",
       "      <th>1</th>\n",
       "      <td>2</td>\n",
       "      <td>M</td>\n",
       "      <td>56</td>\n",
       "      <td>16</td>\n",
       "      <td>70072</td>\n",
       "    </tr>\n",
       "    <tr>\n",
       "      <th>2</th>\n",
       "      <td>3</td>\n",
       "      <td>M</td>\n",
       "      <td>25</td>\n",
       "      <td>15</td>\n",
       "      <td>55117</td>\n",
       "    </tr>\n",
       "    <tr>\n",
       "      <th>3</th>\n",
       "      <td>4</td>\n",
       "      <td>M</td>\n",
       "      <td>45</td>\n",
       "      <td>7</td>\n",
       "      <td>02460</td>\n",
       "    </tr>\n",
       "    <tr>\n",
       "      <th>4</th>\n",
       "      <td>5</td>\n",
       "      <td>M</td>\n",
       "      <td>25</td>\n",
       "      <td>20</td>\n",
       "      <td>55455</td>\n",
       "    </tr>\n",
       "  </tbody>\n",
       "</table>\n",
       "</div>"
      ],
      "text/plain": [
       "   user_id gender  age  occupation zip_code\n",
       "0        1      F    1          10    48067\n",
       "1        2      M   56          16    70072\n",
       "2        3      M   25          15    55117\n",
       "3        4      M   45           7    02460\n",
       "4        5      M   25          20    55455"
      ]
     },
     "execution_count": 10,
     "metadata": {},
     "output_type": "execute_result"
    }
   ],
   "source": [
    "user_features.head()"
   ]
  },
  {
   "cell_type": "code",
   "execution_count": 11,
   "metadata": {},
   "outputs": [
    {
     "data": {
      "text/html": [
       "<div>\n",
       "<style scoped>\n",
       "    .dataframe tbody tr th:only-of-type {\n",
       "        vertical-align: middle;\n",
       "    }\n",
       "\n",
       "    .dataframe tbody tr th {\n",
       "        vertical-align: top;\n",
       "    }\n",
       "\n",
       "    .dataframe thead th {\n",
       "        text-align: right;\n",
       "    }\n",
       "</style>\n",
       "<table border=\"1\" class=\"dataframe\">\n",
       "  <thead>\n",
       "    <tr style=\"text-align: right;\">\n",
       "      <th></th>\n",
       "      <th>item_id</th>\n",
       "      <th>title</th>\n",
       "      <th>genres</th>\n",
       "    </tr>\n",
       "  </thead>\n",
       "  <tbody>\n",
       "    <tr>\n",
       "      <th>0</th>\n",
       "      <td>1</td>\n",
       "      <td>Toy Story (1995)</td>\n",
       "      <td>Animation|Children's|Comedy</td>\n",
       "    </tr>\n",
       "    <tr>\n",
       "      <th>1</th>\n",
       "      <td>2</td>\n",
       "      <td>Jumanji (1995)</td>\n",
       "      <td>Adventure|Children's|Fantasy</td>\n",
       "    </tr>\n",
       "    <tr>\n",
       "      <th>2</th>\n",
       "      <td>3</td>\n",
       "      <td>Grumpier Old Men (1995)</td>\n",
       "      <td>Comedy|Romance</td>\n",
       "    </tr>\n",
       "    <tr>\n",
       "      <th>3</th>\n",
       "      <td>4</td>\n",
       "      <td>Waiting to Exhale (1995)</td>\n",
       "      <td>Comedy|Drama</td>\n",
       "    </tr>\n",
       "    <tr>\n",
       "      <th>4</th>\n",
       "      <td>5</td>\n",
       "      <td>Father of the Bride Part II (1995)</td>\n",
       "      <td>Comedy</td>\n",
       "    </tr>\n",
       "  </tbody>\n",
       "</table>\n",
       "</div>"
      ],
      "text/plain": [
       "   item_id                               title                        genres\n",
       "0        1                    Toy Story (1995)   Animation|Children's|Comedy\n",
       "1        2                      Jumanji (1995)  Adventure|Children's|Fantasy\n",
       "2        3             Grumpier Old Men (1995)                Comedy|Romance\n",
       "3        4            Waiting to Exhale (1995)                  Comedy|Drama\n",
       "4        5  Father of the Bride Part II (1995)                        Comedy"
      ]
     },
     "execution_count": 11,
     "metadata": {},
     "output_type": "execute_result"
    }
   ],
   "source": [
    "item_features.head()"
   ]
  },
  {
   "cell_type": "code",
   "execution_count": 12,
   "metadata": {},
   "outputs": [
    {
     "data": {
      "text/html": [
       "<div>\n",
       "<style scoped>\n",
       "    .dataframe tbody tr th:only-of-type {\n",
       "        vertical-align: middle;\n",
       "    }\n",
       "\n",
       "    .dataframe tbody tr th {\n",
       "        vertical-align: top;\n",
       "    }\n",
       "\n",
       "    .dataframe thead th {\n",
       "        text-align: right;\n",
       "    }\n",
       "</style>\n",
       "<table border=\"1\" class=\"dataframe\">\n",
       "  <thead>\n",
       "    <tr style=\"text-align: right;\">\n",
       "      <th></th>\n",
       "      <th>user_id</th>\n",
       "      <th>item_id</th>\n",
       "      <th>rating</th>\n",
       "      <th>timestamp</th>\n",
       "    </tr>\n",
       "  </thead>\n",
       "  <tbody>\n",
       "    <tr>\n",
       "      <th>count</th>\n",
       "      <td>575281.000000</td>\n",
       "      <td>575281.000000</td>\n",
       "      <td>575281.000000</td>\n",
       "      <td>5.752810e+05</td>\n",
       "    </tr>\n",
       "    <tr>\n",
       "      <th>mean</th>\n",
       "      <td>3038.114852</td>\n",
       "      <td>1817.587070</td>\n",
       "      <td>4.393390</td>\n",
       "      <td>9.720128e+08</td>\n",
       "    </tr>\n",
       "    <tr>\n",
       "      <th>std</th>\n",
       "      <td>1733.654125</td>\n",
       "      <td>1083.844338</td>\n",
       "      <td>0.488503</td>\n",
       "      <td>1.187269e+07</td>\n",
       "    </tr>\n",
       "    <tr>\n",
       "      <th>min</th>\n",
       "      <td>1.000000</td>\n",
       "      <td>1.000000</td>\n",
       "      <td>4.000000</td>\n",
       "      <td>9.567039e+08</td>\n",
       "    </tr>\n",
       "    <tr>\n",
       "      <th>25%</th>\n",
       "      <td>1533.000000</td>\n",
       "      <td>1022.000000</td>\n",
       "      <td>4.000000</td>\n",
       "      <td>9.652633e+08</td>\n",
       "    </tr>\n",
       "    <tr>\n",
       "      <th>50%</th>\n",
       "      <td>3080.000000</td>\n",
       "      <td>1648.000000</td>\n",
       "      <td>4.000000</td>\n",
       "      <td>9.726760e+08</td>\n",
       "    </tr>\n",
       "    <tr>\n",
       "      <th>75%</th>\n",
       "      <td>4505.000000</td>\n",
       "      <td>2750.000000</td>\n",
       "      <td>5.000000</td>\n",
       "      <td>9.751613e+08</td>\n",
       "    </tr>\n",
       "    <tr>\n",
       "      <th>max</th>\n",
       "      <td>6040.000000</td>\n",
       "      <td>3952.000000</td>\n",
       "      <td>5.000000</td>\n",
       "      <td>1.046455e+09</td>\n",
       "    </tr>\n",
       "  </tbody>\n",
       "</table>\n",
       "</div>"
      ],
      "text/plain": [
       "             user_id        item_id         rating     timestamp\n",
       "count  575281.000000  575281.000000  575281.000000  5.752810e+05\n",
       "mean     3038.114852    1817.587070       4.393390  9.720128e+08\n",
       "std      1733.654125    1083.844338       0.488503  1.187269e+07\n",
       "min         1.000000       1.000000       4.000000  9.567039e+08\n",
       "25%      1533.000000    1022.000000       4.000000  9.652633e+08\n",
       "50%      3080.000000    1648.000000       4.000000  9.726760e+08\n",
       "75%      4505.000000    2750.000000       5.000000  9.751613e+08\n",
       "max      6040.000000    3952.000000       5.000000  1.046455e+09"
      ]
     },
     "execution_count": 12,
     "metadata": {},
     "output_type": "execute_result"
    }
   ],
   "source": [
    "interactions.describe()"
   ]
  },
  {
   "cell_type": "code",
   "execution_count": 13,
   "metadata": {},
   "outputs": [],
   "source": [
    "interactions = MinCountFilter(\n",
    "    num_entries=5,\n",
    "    groupby_column='item_id',\n",
    ").transform(interactions)\n",
    "\n",
    "interactions = MinCountFilter(\n",
    "    num_entries=3,\n",
    "    groupby_column='user_id',\n",
    ").transform(interactions)"
   ]
  },
  {
   "cell_type": "code",
   "execution_count": 14,
   "metadata": {},
   "outputs": [
    {
     "data": {
      "text/html": [
       "<div>\n",
       "<style scoped>\n",
       "    .dataframe tbody tr th:only-of-type {\n",
       "        vertical-align: middle;\n",
       "    }\n",
       "\n",
       "    .dataframe tbody tr th {\n",
       "        vertical-align: top;\n",
       "    }\n",
       "\n",
       "    .dataframe thead th {\n",
       "        text-align: right;\n",
       "    }\n",
       "</style>\n",
       "<table border=\"1\" class=\"dataframe\">\n",
       "  <thead>\n",
       "    <tr style=\"text-align: right;\">\n",
       "      <th></th>\n",
       "      <th>user_id</th>\n",
       "      <th>item_id</th>\n",
       "      <th>rating</th>\n",
       "      <th>timestamp</th>\n",
       "    </tr>\n",
       "  </thead>\n",
       "  <tbody>\n",
       "    <tr>\n",
       "      <th>count</th>\n",
       "      <td>574380.000000</td>\n",
       "      <td>574380.000000</td>\n",
       "      <td>574380.000000</td>\n",
       "      <td>5.743800e+05</td>\n",
       "    </tr>\n",
       "    <tr>\n",
       "      <th>mean</th>\n",
       "      <td>3038.125194</td>\n",
       "      <td>1817.036676</td>\n",
       "      <td>4.393593</td>\n",
       "      <td>9.720068e+08</td>\n",
       "    </tr>\n",
       "    <tr>\n",
       "      <th>std</th>\n",
       "      <td>1733.794550</td>\n",
       "      <td>1083.628435</td>\n",
       "      <td>0.488547</td>\n",
       "      <td>1.186381e+07</td>\n",
       "    </tr>\n",
       "    <tr>\n",
       "      <th>min</th>\n",
       "      <td>1.000000</td>\n",
       "      <td>1.000000</td>\n",
       "      <td>4.000000</td>\n",
       "      <td>9.567039e+08</td>\n",
       "    </tr>\n",
       "    <tr>\n",
       "      <th>25%</th>\n",
       "      <td>1533.000000</td>\n",
       "      <td>1022.000000</td>\n",
       "      <td>4.000000</td>\n",
       "      <td>9.652621e+08</td>\n",
       "    </tr>\n",
       "    <tr>\n",
       "      <th>50%</th>\n",
       "      <td>3080.000000</td>\n",
       "      <td>1645.000000</td>\n",
       "      <td>4.000000</td>\n",
       "      <td>9.726752e+08</td>\n",
       "    </tr>\n",
       "    <tr>\n",
       "      <th>75%</th>\n",
       "      <td>4505.000000</td>\n",
       "      <td>2748.000000</td>\n",
       "      <td>5.000000</td>\n",
       "      <td>9.751494e+08</td>\n",
       "    </tr>\n",
       "    <tr>\n",
       "      <th>max</th>\n",
       "      <td>6040.000000</td>\n",
       "      <td>3952.000000</td>\n",
       "      <td>5.000000</td>\n",
       "      <td>1.046455e+09</td>\n",
       "    </tr>\n",
       "  </tbody>\n",
       "</table>\n",
       "</div>"
      ],
      "text/plain": [
       "             user_id        item_id         rating     timestamp\n",
       "count  574380.000000  574380.000000  574380.000000  5.743800e+05\n",
       "mean     3038.125194    1817.036676       4.393593  9.720068e+08\n",
       "std      1733.794550    1083.628435       0.488547  1.186381e+07\n",
       "min         1.000000       1.000000       4.000000  9.567039e+08\n",
       "25%      1533.000000    1022.000000       4.000000  9.652621e+08\n",
       "50%      3080.000000    1645.000000       4.000000  9.726752e+08\n",
       "75%      4505.000000    2748.000000       5.000000  9.751494e+08\n",
       "max      6040.000000    3952.000000       5.000000  1.046455e+09"
      ]
     },
     "execution_count": 14,
     "metadata": {},
     "output_type": "execute_result"
    }
   ],
   "source": [
    "interactions.describe()"
   ]
  },
  {
   "attachments": {},
   "cell_type": "markdown",
   "metadata": {},
   "source": [
    "Removing duplicates in the timestamp column without changing the original items order where timestamp is the same"
   ]
  },
  {
   "cell_type": "code",
   "execution_count": 15,
   "metadata": {},
   "outputs": [],
   "source": [
    "# interactions[\"timestamp\"] = interactions[\"timestamp\"].astype(\"int64\")\n",
    "# interactions = interactions.sort_values(by=\"timestamp\")\n",
    "# interactions[\"timestamp\"] = interactions.groupby(\"user_id\").cumcount()\n",
    "# interactions"
   ]
  },
  {
   "attachments": {},
   "cell_type": "markdown",
   "metadata": {},
   "source": [
    "### Split interactions into the train, validation and test datasets using LastNSplitter"
   ]
  },
  {
   "cell_type": "code",
   "execution_count": 16,
   "metadata": {},
   "outputs": [],
   "source": [
    "# splitter = LastNSplitter(\n",
    "#     N=1,\n",
    "#     divide_column=\"user_id\",\n",
    "#     query_column=\"user_id\",\n",
    "#     strategy=\"interactions\",\n",
    "# )\n",
    "\n",
    "# raw_test_events, raw_test_gt = splitter.split(interactions)\n",
    "# raw_validation_events, raw_validation_gt = splitter.split(raw_test_events)\n",
    "# raw_train_events = raw_validation_events\n",
    "\n",
    "\n",
    "splitter = TimeSplitter(\n",
    "    time_threshold=0.1,\n",
    "    drop_cold_users=True,\n",
    "    drop_cold_items=True,\n",
    "    item_column='item_id',\n",
    "    query_column='user_id',\n",
    "    timestamp_column='timestamp',\n",
    ")\n",
    "\n",
    "# train_events, validation_events, validation_gt, test_events, test_gt = (\n",
    "#     _split_data(splitter, interactions)\n",
    "# )\n",
    "\n",
    "raw_test_events, raw_test_gt = splitter.split(interactions)\n",
    "raw_validation_events, raw_validation_gt = splitter.split(raw_test_events)\n",
    "raw_train_events = raw_validation_events\n",
    "\n",
    "raw_test_gt = raw_test_gt[raw_test_gt['item_id'].isin(raw_train_events['item_id'])]\n",
    "raw_test_gt = raw_test_gt[raw_test_gt['user_id'].isin(raw_train_events['user_id'])]"
   ]
  },
  {
   "cell_type": "code",
   "execution_count": 17,
   "metadata": {},
   "outputs": [
    {
     "data": {
      "text/plain": [
       "3120"
      ]
     },
     "execution_count": 17,
     "metadata": {},
     "output_type": "execute_result"
    }
   ],
   "source": [
    "raw_train_events['item_id'].nunique()"
   ]
  },
  {
   "cell_type": "code",
   "execution_count": 18,
   "metadata": {},
   "outputs": [],
   "source": [
    "def test_splitting(events, gt, name=''):\n",
    "    if events['timestamp'].max() > gt['timestamp'].min():\n",
    "        print(\"Problem with time points in\", name)\n",
    "    if len(set(gt['user_id'].unique().tolist()) - set(events['user_id'].unique().tolist())) > 0:\n",
    "        print(\"Problem with cold users in\", name)\n",
    "    if len(set(gt['item_id'].unique().tolist()) - set(events['item_id'].unique().tolist())) > 0:\n",
    "        print(\"Problem with cold items in\", name)\n",
    "\n",
    "\n",
    "test_splitting(raw_train_events, raw_test_gt, \"train events, test gt\")\n",
    "test_splitting(raw_train_events, raw_validation_gt, \"train events, valid gt\")"
   ]
  },
  {
   "attachments": {},
   "cell_type": "markdown",
   "metadata": {},
   "source": [
    "### Prepare FeatureSchema required to create Dataset"
   ]
  },
  {
   "cell_type": "code",
   "execution_count": 19,
   "metadata": {},
   "outputs": [],
   "source": [
    "def prepare_feature_schema(is_ground_truth: bool) -> FeatureSchema:\n",
    "    base_features = FeatureSchema(\n",
    "        [\n",
    "            FeatureInfo(\n",
    "                column=\"user_id\",\n",
    "                feature_hint=FeatureHint.QUERY_ID,\n",
    "                feature_type=FeatureType.CATEGORICAL,\n",
    "            ),\n",
    "            FeatureInfo(\n",
    "                column=\"item_id\",\n",
    "                feature_hint=FeatureHint.ITEM_ID,\n",
    "                feature_type=FeatureType.CATEGORICAL,\n",
    "            ),\n",
    "        ]\n",
    "    )\n",
    "    if is_ground_truth:\n",
    "        return base_features\n",
    "\n",
    "    all_features = base_features + FeatureSchema(\n",
    "        [\n",
    "            FeatureInfo(\n",
    "                column=\"timestamp\",\n",
    "                feature_type=FeatureType.NUMERICAL,\n",
    "                feature_hint=FeatureHint.TIMESTAMP,\n",
    "            ),\n",
    "        ]\n",
    "    )\n",
    "    return all_features"
   ]
  },
  {
   "attachments": {},
   "cell_type": "markdown",
   "metadata": {},
   "source": [
    "### Create Dataset for the training stage"
   ]
  },
  {
   "cell_type": "code",
   "execution_count": 20,
   "metadata": {},
   "outputs": [],
   "source": [
    "user_features = None\n",
    "item_features = None"
   ]
  },
  {
   "cell_type": "code",
   "execution_count": 21,
   "metadata": {},
   "outputs": [],
   "source": [
    "train_dataset = Dataset(\n",
    "    feature_schema=prepare_feature_schema(is_ground_truth=False),\n",
    "    interactions=raw_train_events,\n",
    "    query_features=user_features,\n",
    "    item_features=item_features,\n",
    "    check_consistency=True,\n",
    "    categorical_encoded=False,\n",
    ")"
   ]
  },
  {
   "attachments": {},
   "cell_type": "markdown",
   "metadata": {},
   "source": [
    "### Create Datasets (events and ground_truth) for the validation stage"
   ]
  },
  {
   "cell_type": "code",
   "execution_count": 22,
   "metadata": {},
   "outputs": [],
   "source": [
    "validation_dataset = Dataset(\n",
    "    feature_schema=prepare_feature_schema(is_ground_truth=False),\n",
    "    interactions=raw_validation_events,\n",
    "    query_features=user_features,\n",
    "    item_features=item_features,\n",
    "    check_consistency=True,\n",
    "    categorical_encoded=False,\n",
    ")\n",
    "validation_gt = Dataset(\n",
    "    feature_schema=prepare_feature_schema(is_ground_truth=True),\n",
    "    interactions=raw_validation_gt,\n",
    "    check_consistency=True,\n",
    "    categorical_encoded=False,\n",
    ")"
   ]
  },
  {
   "attachments": {},
   "cell_type": "markdown",
   "metadata": {},
   "source": [
    "### Create Datasets (events and ground_truth) for the testing stage"
   ]
  },
  {
   "cell_type": "code",
   "execution_count": 23,
   "metadata": {},
   "outputs": [],
   "source": [
    "test_dataset = Dataset(\n",
    "    feature_schema=prepare_feature_schema(is_ground_truth=False),\n",
    "    interactions=raw_test_events,\n",
    "    query_features=user_features,\n",
    "    item_features=item_features,\n",
    "    check_consistency=True,\n",
    "    categorical_encoded=False,\n",
    ")\n",
    "test_gt = Dataset(\n",
    "    feature_schema=prepare_feature_schema(is_ground_truth=True),\n",
    "    interactions=raw_test_gt,\n",
    "    check_consistency=True,\n",
    "    categorical_encoded=False,\n",
    ")"
   ]
  },
  {
   "attachments": {},
   "cell_type": "markdown",
   "metadata": {},
   "source": [
    "### Create the tensor schema\n",
    "A schema shows the correspondence of columns from the source dataset with the internal representation of tensors inside the model"
   ]
  },
  {
   "cell_type": "code",
   "execution_count": 24,
   "metadata": {},
   "outputs": [],
   "source": [
    "ITEM_FEATURE_NAME = \"item_id_seq\"\n",
    "\n",
    "tensor_schema = TensorSchema(\n",
    "    TensorFeatureInfo(\n",
    "        name=ITEM_FEATURE_NAME,\n",
    "        is_seq=True,\n",
    "        feature_type=FeatureType.CATEGORICAL,\n",
    "        feature_sources=[TensorFeatureSource(FeatureSource.INTERACTIONS, train_dataset.feature_schema.item_id_column)],\n",
    "        feature_hint=FeatureHint.ITEM_ID,\n",
    "    )\n",
    ")"
   ]
  },
  {
   "attachments": {},
   "cell_type": "markdown",
   "metadata": {},
   "source": [
    "### Create sequential datasets using SequenceTokenizer\n",
    "The SequentialDataset internally store data in the form of sequences of items sorted by increasing interaction time (timestamp). A SequenceTokenizer is used to convert to this format. In addition, the SequenceTokenizer encodes all categorical columns from the source dataset and stores mapping inside itself.\n",
    "SequentialDataset.keep_common_query_ids is used to leave only sequences from the same users"
   ]
  },
  {
   "cell_type": "code",
   "execution_count": 25,
   "metadata": {},
   "outputs": [],
   "source": [
    "tokenizer = SequenceTokenizer(tensor_schema, allow_collect_to_master=True, handle_unknown_rule=\"drop\")\n",
    "tokenizer.fit(train_dataset)\n",
    "\n",
    "sequential_train_dataset = tokenizer.transform(train_dataset)\n",
    "\n",
    "sequential_validation_dataset = tokenizer.transform(validation_dataset)\n",
    "sequential_validation_gt = tokenizer.transform(validation_gt, [tensor_schema.item_id_feature_name])\n",
    "\n",
    "sequential_validation_dataset, sequential_validation_gt = SequentialDataset.keep_common_query_ids(\n",
    "    sequential_validation_dataset, sequential_validation_gt\n",
    ")"
   ]
  },
  {
   "cell_type": "code",
   "execution_count": 26,
   "metadata": {},
   "outputs": [],
   "source": [
    "test_query_ids = test_gt.query_ids\n",
    "test_query_ids_np = tokenizer.query_id_encoder.transform(test_query_ids)[\"user_id\"].values\n",
    "sequential_test_dataset = tokenizer.transform(test_dataset).filter_by_query_id(test_query_ids_np)"
   ]
  },
  {
   "cell_type": "code",
   "execution_count": 27,
   "metadata": {},
   "outputs": [
    {
     "name": "stdout",
     "output_type": "stream",
     "text": [
      "SCHEMA CARDINALITY 3120\n"
     ]
    }
   ],
   "source": [
    "print('SCHEMA CARDINALITY', tensor_schema.item_id_features.item().cardinality)"
   ]
  },
  {
   "attachments": {},
   "cell_type": "markdown",
   "metadata": {},
   "source": [
    "You can get the user and item mapping and inverse mapping as follows"
   ]
  },
  {
   "cell_type": "code",
   "execution_count": 28,
   "metadata": {},
   "outputs": [
    {
     "name": "stdout",
     "output_type": "stream",
     "text": [
      "{'user_id': {6040: 0, 6039: 1, 6038: 2, 6037: 3, 6036: 4, 6035: 5, 6034: 6, 6033: 7, 6032: 8, 6031: 9, 6030: 10, 6029: 11, 6028: 12, 6027: 13, 6026: 14, 6025: 15, 6024: 16, 6023: 17, 6022: 18, 6021: 19, 6020: 20, 6019: 21, 6018: 22, 6017: 23, 6016: 24, 6015: 25, 6014: 26, 6013: 27, 6012: 28, 6011: 29, 6010: 30, 6009: 31, 6007: 32, 6008: 33, 6006: 34, 6005: 35, 6004: 36, 6003: 37, 6002: 38, 6001: 39, 6000: 40, 5999: 41, 5998: 42, 5997: 43, 5996: 44, 5995: 45, 5994: 46, 5993: 47, 5992: 48, 5991: 49, 5990: 50, 5989: 51, 5988: 52, 5987: 53, 5986: 54, 5984: 55, 5983: 56, 5982: 57, 5981: 58, 5979: 59, 5980: 60, 5977: 61, 5976: 62, 5975: 63, 5974: 64, 5973: 65, 5972: 66, 5971: 67, 5978: 68, 5970: 69, 5969: 70, 5968: 71, 5967: 72, 5966: 73, 5965: 74, 5964: 75, 5963: 76, 5962: 77, 5961: 78, 5960: 79, 5959: 80, 5958: 81, 5957: 82, 5956: 83, 5955: 84, 5954: 85, 5953: 86, 5952: 87, 5951: 88, 5950: 89, 5948: 90, 5947: 91, 5946: 92, 5945: 93, 5944: 94, 5943: 95, 5942: 96, 5941: 97, 5940: 98, 5939: 99, 5938: 100, 5937: 101, 5949: 102, 5936: 103, 5935: 104, 5934: 105, 5933: 106, 5932: 107, 5931: 108, 5930: 109, 5929: 110, 5928: 111, 5927: 112, 5926: 113, 5925: 114, 5924: 115, 5923: 116, 5922: 117, 5921: 118, 5920: 119, 5919: 120, 5918: 121, 5917: 122, 5916: 123, 5915: 124, 5914: 125, 5913: 126, 5912: 127, 5911: 128, 5910: 129, 5909: 130, 5908: 131, 5907: 132, 5906: 133, 5905: 134, 5904: 135, 5903: 136, 5902: 137, 5901: 138, 5900: 139, 5899: 140, 5898: 141, 5897: 142, 5896: 143, 5895: 144, 5894: 145, 5893: 146, 5892: 147, 5891: 148, 5890: 149, 5889: 150, 5888: 151, 5887: 152, 5886: 153, 5885: 154, 5884: 155, 5883: 156, 5881: 157, 5882: 158, 5880: 159, 5879: 160, 5878: 161, 5877: 162, 5876: 163, 5875: 164, 5874: 165, 5873: 166, 5872: 167, 5871: 168, 5870: 169, 5869: 170, 5868: 171, 5867: 172, 5866: 173, 5865: 174, 5864: 175, 5863: 176, 5862: 177, 5861: 178, 5860: 179, 5859: 180, 5858: 181, 5857: 182, 5856: 183, 5855: 184, 5854: 185, 5853: 186, 5852: 187, 5851: 188, 5849: 189, 5848: 190, 5847: 191, 5846: 192, 5845: 193, 5844: 194, 5843: 195, 5842: 196, 5841: 197, 5840: 198, 5839: 199, 5838: 200, 5837: 201, 5836: 202, 5835: 203, 5834: 204, 5833: 205, 5832: 206, 5831: 207, 5830: 208, 5828: 209, 5829: 210, 5827: 211, 5826: 212, 5825: 213, 5824: 214, 5823: 215, 5822: 216, 5821: 217, 5820: 218, 5819: 219, 5818: 220, 5817: 221, 5816: 222, 5815: 223, 5814: 224, 5813: 225, 5812: 226, 5811: 227, 5810: 228, 5809: 229, 5808: 230, 5807: 231, 5806: 232, 5805: 233, 5804: 234, 5803: 235, 5802: 236, 5801: 237, 5800: 238, 5799: 239, 5798: 240, 5797: 241, 5796: 242, 5795: 243, 5794: 244, 5793: 245, 5792: 246, 5791: 247, 5790: 248, 5789: 249, 5788: 250, 5787: 251, 5786: 252, 5785: 253, 5784: 254, 5783: 255, 5782: 256, 5781: 257, 5780: 258, 5779: 259, 5778: 260, 5777: 261, 5776: 262, 5775: 263, 5774: 264, 5773: 265, 5772: 266, 5771: 267, 5770: 268, 5769: 269, 5768: 270, 5767: 271, 5766: 272, 5765: 273, 5764: 274, 5763: 275, 5762: 276, 5761: 277, 5760: 278, 5759: 279, 5758: 280, 5757: 281, 5756: 282, 5755: 283, 5754: 284, 5753: 285, 5752: 286, 5751: 287, 5750: 288, 5749: 289, 5748: 290, 5747: 291, 5746: 292, 5745: 293, 5744: 294, 5743: 295, 5742: 296, 5741: 297, 5740: 298, 5739: 299, 5738: 300, 5737: 301, 5736: 302, 5735: 303, 5734: 304, 5733: 305, 5732: 306, 5731: 307, 5730: 308, 5729: 309, 5728: 310, 5727: 311, 5726: 312, 5725: 313, 5724: 314, 5723: 315, 5722: 316, 5721: 317, 5720: 318, 5719: 319, 5718: 320, 5717: 321, 5716: 322, 5715: 323, 5714: 324, 5713: 325, 5712: 326, 5711: 327, 5710: 328, 5709: 329, 5708: 330, 5707: 331, 5706: 332, 5705: 333, 5704: 334, 5703: 335, 5702: 336, 5701: 337, 5700: 338, 5699: 339, 5698: 340, 5697: 341, 5696: 342, 5695: 343, 5694: 344, 5693: 345, 5692: 346, 5691: 347, 5689: 348, 5690: 349, 5688: 350, 5687: 351, 5686: 352, 5685: 353, 5684: 354, 5683: 355, 5682: 356, 5681: 357, 5680: 358, 5679: 359, 5678: 360, 5676: 361, 5675: 362, 5674: 363, 5673: 364, 5672: 365, 5671: 366, 5670: 367, 5669: 368, 5668: 369, 5667: 370, 5666: 371, 5665: 372, 5664: 373, 5663: 374, 5662: 375, 5661: 376, 5660: 377, 5659: 378, 5658: 379, 5657: 380, 5656: 381, 5655: 382, 5654: 383, 5653: 384, 5652: 385, 5651: 386, 5650: 387, 5649: 388, 5648: 389, 5647: 390, 5646: 391, 5645: 392, 5644: 393, 5643: 394, 5642: 395, 5641: 396, 5677: 397, 5640: 398, 5639: 399, 5638: 400, 5637: 401, 5636: 402, 5635: 403, 5634: 404, 5633: 405, 5632: 406, 5631: 407, 5630: 408, 5629: 409, 5628: 410, 5627: 411, 5626: 412, 5625: 413, 5624: 414, 5623: 415, 5622: 416, 5621: 417, 5620: 418, 5619: 419, 5618: 420, 5617: 421, 5616: 422, 5615: 423, 5614: 424, 5613: 425, 5612: 426, 5611: 427, 5610: 428, 5609: 429, 5608: 430, 5607: 431, 5606: 432, 5605: 433, 5604: 434, 5603: 435, 5602: 436, 5601: 437, 5600: 438, 5599: 439, 5598: 440, 5597: 441, 5596: 442, 5595: 443, 5594: 444, 5593: 445, 5592: 446, 5591: 447, 5590: 448, 5589: 449, 5588: 450, 5587: 451, 5586: 452, 5585: 453, 5584: 454, 5583: 455, 5582: 456, 5581: 457, 5580: 458, 5578: 459, 5579: 460, 5577: 461, 5576: 462, 5575: 463, 5574: 464, 5573: 465, 5572: 466, 5571: 467, 5570: 468, 5569: 469, 5568: 470, 5567: 471, 5566: 472, 5565: 473, 5564: 474, 5563: 475, 5562: 476, 5561: 477, 5560: 478, 5559: 479, 5558: 480, 5557: 481, 5556: 482, 5555: 483, 5554: 484, 5553: 485, 5552: 486, 5551: 487, 5550: 488, 5549: 489, 5548: 490, 5547: 491, 5546: 492, 5545: 493, 5544: 494, 5543: 495, 5542: 496, 5541: 497, 5540: 498, 5539: 499, 5538: 500, 5537: 501, 5536: 502, 5535: 503, 5534: 504, 5533: 505, 5532: 506, 5531: 507, 5530: 508, 5529: 509, 5528: 510, 5527: 511, 5526: 512, 5525: 513, 5524: 514, 5523: 515, 5522: 516, 5521: 517, 5520: 518, 5519: 519, 5518: 520, 5517: 521, 5516: 522, 5515: 523, 5514: 524, 5513: 525, 5512: 526, 5511: 527, 5510: 528, 5509: 529, 5508: 530, 5507: 531, 5506: 532, 5505: 533, 5504: 534, 5503: 535, 5502: 536, 5501: 537, 5500: 538, 5499: 539, 5498: 540, 5497: 541, 5496: 542, 5495: 543, 5494: 544, 5493: 545, 5491: 546, 5490: 547, 5492: 548, 5489: 549, 5488: 550, 5487: 551, 5486: 552, 5485: 553, 5484: 554, 5483: 555, 5482: 556, 5481: 557, 5480: 558, 5479: 559, 5478: 560, 5477: 561, 5476: 562, 5474: 563, 5475: 564, 5473: 565, 5472: 566, 5471: 567, 5470: 568, 5469: 569, 5466: 570, 5468: 571, 5467: 572, 5465: 573, 5464: 574, 5463: 575, 5462: 576, 5461: 577, 5460: 578, 5459: 579, 5458: 580, 5457: 581, 5456: 582, 5455: 583, 5454: 584, 5453: 585, 5452: 586, 5451: 587, 5450: 588, 5449: 589, 5448: 590, 5447: 591, 5446: 592, 5445: 593, 5444: 594, 5443: 595, 5442: 596, 5441: 597, 5440: 598, 5439: 599, 5438: 600, 5437: 601, 5436: 602, 5435: 603, 5434: 604, 5433: 605, 5432: 606, 5431: 607, 5430: 608, 5429: 609, 5428: 610, 5427: 611, 5426: 612, 5425: 613, 5424: 614, 5423: 615, 5421: 616, 5420: 617, 5419: 618, 5418: 619, 5417: 620, 5416: 621, 5415: 622, 5414: 623, 5413: 624, 5412: 625, 5411: 626, 5410: 627, 5409: 628, 5408: 629, 5407: 630, 5406: 631, 5405: 632, 5422: 633, 5404: 634, 5403: 635, 5402: 636, 5401: 637, 5400: 638, 5399: 639, 5398: 640, 5397: 641, 5396: 642, 5395: 643, 5394: 644, 5393: 645, 5392: 646, 5391: 647, 5390: 648, 5389: 649, 5388: 650, 5387: 651, 5386: 652, 5385: 653, 5384: 654, 5383: 655, 5382: 656, 5381: 657, 5380: 658, 5379: 659, 5378: 660, 5377: 661, 5376: 662, 5375: 663, 5374: 664, 5373: 665, 5372: 666, 5371: 667, 5370: 668, 5369: 669, 5368: 670, 5366: 671, 5367: 672, 5365: 673, 5364: 674, 5363: 675, 5362: 676, 5361: 677, 5360: 678, 5359: 679, 5358: 680, 5357: 681, 5355: 682, 5356: 683, 5354: 684, 5353: 685, 5352: 686, 5985: 687, 5351: 688, 5350: 689, 5349: 690, 5348: 691, 5347: 692, 5346: 693, 5345: 694, 5344: 695, 5343: 696, 5342: 697, 5341: 698, 5340: 699, 5339: 700, 5338: 701, 5337: 702, 5336: 703, 5335: 704, 5334: 705, 5333: 706, 5332: 707, 5331: 708, 5330: 709, 5329: 710, 5328: 711, 5327: 712, 5326: 713, 5325: 714, 5324: 715, 5323: 716, 5322: 717, 5321: 718, 5320: 719, 5319: 720, 5318: 721, 5317: 722, 5316: 723, 5315: 724, 5314: 725, 5313: 726, 5312: 727, 5311: 728, 5310: 729, 5309: 730, 5308: 731, 5307: 732, 5306: 733, 5305: 734, 5304: 735, 5303: 736, 5302: 737, 5301: 738, 5300: 739, 5299: 740, 5298: 741, 5297: 742, 5296: 743, 5295: 744, 5294: 745, 5293: 746, 5292: 747, 5291: 748, 5290: 749, 5289: 750, 5288: 751, 5287: 752, 5286: 753, 5285: 754, 5284: 755, 5283: 756, 5282: 757, 5281: 758, 5280: 759, 5279: 760, 5278: 761, 5277: 762, 5276: 763, 5275: 764, 5274: 765, 5273: 766, 5272: 767, 5271: 768, 5270: 769, 5269: 770, 5268: 771, 5267: 772, 5266: 773, 5265: 774, 5264: 775, 5263: 776, 5262: 777, 5261: 778, 5260: 779, 5259: 780, 5258: 781, 5257: 782, 5256: 783, 5255: 784, 5254: 785, 5253: 786, 5252: 787, 5251: 788, 5250: 789, 5249: 790, 5248: 791, 5247: 792, 5246: 793, 5245: 794, 5244: 795, 5243: 796, 5242: 797, 5241: 798, 5240: 799, 5239: 800, 5238: 801, 5237: 802, 5236: 803, 5235: 804, 5234: 805, 5233: 806, 5232: 807, 5231: 808, 5230: 809, 5229: 810, 5228: 811, 5227: 812, 5225: 813, 5224: 814, 5223: 815, 5222: 816, 5221: 817, 5220: 818, 5219: 819, 5218: 820, 5217: 821, 5216: 822, 5215: 823, 5214: 824, 5213: 825, 5226: 826, 5212: 827, 5211: 828, 5210: 829, 5209: 830, 5208: 831, 5207: 832, 5206: 833, 5205: 834, 5204: 835, 5203: 836, 5202: 837, 5201: 838, 5200: 839, 5199: 840, 5198: 841, 5197: 842, 5196: 843, 5195: 844, 5194: 845, 5193: 846, 5192: 847, 5191: 848, 5190: 849, 5189: 850, 5188: 851, 5187: 852, 5186: 853, 5185: 854, 5184: 855, 5183: 856, 5182: 857, 5181: 858, 5180: 859, 5179: 860, 5178: 861, 5177: 862, 5176: 863, 5175: 864, 5174: 865, 5173: 866, 5171: 867, 5170: 868, 5169: 869, 5168: 870, 5167: 871, 5165: 872, 5166: 873, 5164: 874, 5163: 875, 5162: 876, 5161: 877, 5160: 878, 5159: 879, 5158: 880, 5156: 881, 5157: 882, 5155: 883, 5154: 884, 5153: 885, 5152: 886, 5151: 887, 5150: 888, 5149: 889, 5148: 890, 5147: 891, 5146: 892, 5145: 893, 5144: 894, 5143: 895, 5142: 896, 5141: 897, 5140: 898, 5139: 899, 5138: 900, 5137: 901, 5136: 902, 5135: 903, 5134: 904, 5133: 905, 5132: 906, 5131: 907, 5130: 908, 5129: 909, 5128: 910, 5127: 911, 5126: 912, 5125: 913, 5124: 914, 5123: 915, 5122: 916, 5121: 917, 5120: 918, 5119: 919, 5118: 920, 5117: 921, 5116: 922, 5115: 923, 5114: 924, 5113: 925, 5112: 926, 5111: 927, 5110: 928, 5109: 929, 5108: 930, 5107: 931, 5106: 932, 5105: 933, 5104: 934, 5103: 935, 5102: 936, 5100: 937, 5101: 938, 5099: 939, 5098: 940, 5097: 941, 5096: 942, 5095: 943, 5094: 944, 5093: 945, 5092: 946, 5091: 947, 5089: 948, 5090: 949, 5088: 950, 5087: 951, 5086: 952, 5085: 953, 5084: 954, 5083: 955, 5082: 956, 5081: 957, 5080: 958, 5079: 959, 5078: 960, 5077: 961, 5076: 962, 5075: 963, 5074: 964, 5073: 965, 5072: 966, 5071: 967, 5070: 968, 5068: 969, 5067: 970, 5066: 971, 5065: 972, 5064: 973, 5063: 974, 5062: 975, 5061: 976, 5060: 977, 5058: 978, 5059: 979, 5057: 980, 5056: 981, 5055: 982, 5054: 983, 5053: 984, 5052: 985, 5051: 986, 5050: 987, 5049: 988, 5048: 989, 5047: 990, 5046: 991, 5045: 992, 5044: 993, 5043: 994, 5042: 995, 5041: 996, 5040: 997, 5039: 998, 5038: 999, 5037: 1000, 5036: 1001, 5035: 1002, 5034: 1003, 5033: 1004, 5032: 1005, 5031: 1006, 5030: 1007, 5029: 1008, 5028: 1009, 5027: 1010, 5026: 1011, 5025: 1012, 5069: 1013, 5024: 1014, 5023: 1015, 5022: 1016, 5021: 1017, 5020: 1018, 5019: 1019, 5018: 1020, 5017: 1021, 5016: 1022, 5015: 1023, 5013: 1024, 5014: 1025, 5012: 1026, 5011: 1027, 5010: 1028, 5008: 1029, 5009: 1030, 5007: 1031, 5006: 1032, 5005: 1033, 5004: 1034, 5003: 1035, 5002: 1036, 5001: 1037, 5000: 1038, 4999: 1039, 4998: 1040, 4996: 1041, 4997: 1042, 4995: 1043, 4993: 1044, 4994: 1045, 4992: 1046, 4991: 1047, 4990: 1048, 4989: 1049, 4988: 1050, 4986: 1051, 4987: 1052, 4985: 1053, 4984: 1054, 4983: 1055, 4982: 1056, 4981: 1057, 4980: 1058, 4979: 1059, 4978: 1060, 4977: 1061, 4976: 1062, 4975: 1063, 4974: 1064, 4973: 1065, 4972: 1066, 4971: 1067, 4970: 1068, 4969: 1069, 4968: 1070, 4967: 1071, 4966: 1072, 4965: 1073, 4964: 1074, 4963: 1075, 4962: 1076, 4961: 1077, 4960: 1078, 4959: 1079, 4958: 1080, 4957: 1081, 4956: 1082, 4955: 1083, 4954: 1084, 4953: 1085, 4952: 1086, 4951: 1087, 4950: 1088, 4949: 1089, 4948: 1090, 4947: 1091, 4946: 1092, 4944: 1093, 4943: 1094, 4945: 1095, 4942: 1096, 4941: 1097, 4940: 1098, 4939: 1099, 4938: 1100, 4937: 1101, 4936: 1102, 4935: 1103, 4934: 1104, 4933: 1105, 4932: 1106, 4931: 1107, 4930: 1108, 4929: 1109, 4928: 1110, 4927: 1111, 4926: 1112, 4925: 1113, 4924: 1114, 4923: 1115, 4922: 1116, 4921: 1117, 4920: 1118, 4919: 1119, 4918: 1120, 4917: 1121, 4916: 1122, 4915: 1123, 4914: 1124, 4913: 1125, 4912: 1126, 4911: 1127, 4910: 1128, 4909: 1129, 4908: 1130, 4907: 1131, 4906: 1132, 4905: 1133, 4904: 1134, 4903: 1135, 4902: 1136, 4901: 1137, 4900: 1138, 4899: 1139, 4898: 1140, 4897: 1141, 5172: 1142, 4895: 1143, 4894: 1144, 4893: 1145, 4892: 1146, 4891: 1147, 4890: 1148, 4889: 1149, 4888: 1150, 4887: 1151, 4886: 1152, 4885: 1153, 4884: 1154, 4883: 1155, 4882: 1156, 4881: 1157, 4880: 1158, 4879: 1159, 4878: 1160, 4877: 1161, 4876: 1162, 4875: 1163, 4874: 1164, 4873: 1165, 4871: 1166, 4872: 1167, 4870: 1168, 4869: 1169, 4868: 1170, 4867: 1171, 4866: 1172, 4865: 1173, 4864: 1174, 4863: 1175, 4862: 1176, 4861: 1177, 4860: 1178, 4859: 1179, 4858: 1180, 4857: 1181, 4856: 1182, 4855: 1183, 4854: 1184, 4853: 1185, 4852: 1186, 4851: 1187, 4849: 1188, 4848: 1189, 4850: 1190, 4847: 1191, 4846: 1192, 4845: 1193, 4844: 1194, 4843: 1195, 4842: 1196, 4841: 1197, 4840: 1198, 4839: 1199, 4838: 1200, 4837: 1201, 4836: 1202, 4835: 1203, 4834: 1204, 4833: 1205, 4832: 1206, 4831: 1207, 4830: 1208, 4829: 1209, 4828: 1210, 4827: 1211, 4826: 1212, 4825: 1213, 4824: 1214, 4823: 1215, 4822: 1216, 4821: 1217, 4820: 1218, 4819: 1219, 4818: 1220, 4817: 1221, 4816: 1222, 4815: 1223, 4814: 1224, 4813: 1225, 4812: 1226, 4811: 1227, 4810: 1228, 4809: 1229, 4808: 1230, 4807: 1231, 4806: 1232, 4805: 1233, 4804: 1234, 4803: 1235, 4802: 1236, 4801: 1237, 4800: 1238, 4799: 1239, 4798: 1240, 4797: 1241, 4796: 1242, 4795: 1243, 4794: 1244, 4793: 1245, 4792: 1246, 4791: 1247, 4790: 1248, 4788: 1249, 4789: 1250, 4787: 1251, 4786: 1252, 4785: 1253, 4784: 1254, 4783: 1255, 4782: 1256, 4781: 1257, 4780: 1258, 4779: 1259, 4778: 1260, 4777: 1261, 4776: 1262, 4775: 1263, 4774: 1264, 4773: 1265, 4772: 1266, 4771: 1267, 4770: 1268, 4769: 1269, 4768: 1270, 4767: 1271, 4766: 1272, 4765: 1273, 4764: 1274, 4763: 1275, 4762: 1276, 4761: 1277, 4760: 1278, 4759: 1279, 4758: 1280, 4757: 1281, 4756: 1282, 4755: 1283, 4754: 1284, 4753: 1285, 4752: 1286, 4751: 1287, 4750: 1288, 4749: 1289, 4748: 1290, 4747: 1291, 4746: 1292, 4745: 1293, 4744: 1294, 4743: 1295, 4742: 1296, 4741: 1297, 4740: 1298, 4739: 1299, 4738: 1300, 4737: 1301, 4736: 1302, 4735: 1303, 4734: 1304, 4733: 1305, 4732: 1306, 4731: 1307, 4730: 1308, 4729: 1309, 4728: 1310, 4727: 1311, 4726: 1312, 4725: 1313, 4724: 1314, 4723: 1315, 4722: 1316, 4721: 1317, 4720: 1318, 4719: 1319, 4718: 1320, 4716: 1321, 4715: 1322, 4714: 1323, 4713: 1324, 4712: 1325, 4711: 1326, 4717: 1327, 4710: 1328, 4709: 1329, 4708: 1330, 4707: 1331, 4706: 1332, 4705: 1333, 4704: 1334, 4703: 1335, 4702: 1336, 4701: 1337, 4700: 1338, 4699: 1339, 4698: 1340, 4697: 1341, 4696: 1342, 4695: 1343, 4694: 1344, 4693: 1345, 4692: 1346, 4691: 1347, 4690: 1348, 4689: 1349, 4688: 1350, 4687: 1351, 4686: 1352, 4685: 1353, 4684: 1354, 4683: 1355, 4682: 1356, 4681: 1357, 4680: 1358, 4679: 1359, 4678: 1360, 4677: 1361, 4676: 1362, 4675: 1363, 4674: 1364, 4673: 1365, 4672: 1366, 4671: 1367, 4670: 1368, 4669: 1369, 4668: 1370, 4896: 1371, 4667: 1372, 4666: 1373, 4665: 1374, 4664: 1375, 4663: 1376, 4662: 1377, 4661: 1378, 4660: 1379, 4659: 1380, 4658: 1381, 4657: 1382, 4656: 1383, 4655: 1384, 4654: 1385, 4653: 1386, 4652: 1387, 4651: 1388, 4650: 1389, 4649: 1390, 4648: 1391, 4647: 1392, 4646: 1393, 4645: 1394, 4644: 1395, 4643: 1396, 4642: 1397, 4641: 1398, 4640: 1399, 4639: 1400, 4638: 1401, 4637: 1402, 4635: 1403, 4634: 1404, 4633: 1405, 4632: 1406, 4631: 1407, 4630: 1408, 4629: 1409, 4628: 1410, 4627: 1411, 4626: 1412, 4625: 1413, 4624: 1414, 4622: 1415, 4621: 1416, 4620: 1417, 4619: 1418, 4618: 1419, 4617: 1420, 4616: 1421, 4615: 1422, 4614: 1423, 4613: 1424, 4612: 1425, 4611: 1426, 4610: 1427, 4609: 1428, 4608: 1429, 4607: 1430, 4606: 1431, 4605: 1432, 4604: 1433, 4603: 1434, 4602: 1435, 4601: 1436, 4600: 1437, 4599: 1438, 4598: 1439, 4623: 1440, 4597: 1441, 4596: 1442, 4595: 1443, 4594: 1444, 4593: 1445, 4592: 1446, 4591: 1447, 4590: 1448, 4589: 1449, 4588: 1450, 4587: 1451, 4586: 1452, 4585: 1453, 4584: 1454, 4583: 1455, 4582: 1456, 4581: 1457, 4580: 1458, 4579: 1459, 4578: 1460, 4577: 1461, 4575: 1462, 4574: 1463, 4573: 1464, 4576: 1465, 4572: 1466, 4571: 1467, 4570: 1468, 4569: 1469, 4568: 1470, 4567: 1471, 4566: 1472, 4565: 1473, 4564: 1474, 4563: 1475, 4562: 1476, 4561: 1477, 4560: 1478, 4559: 1479, 4558: 1480, 4557: 1481, 4556: 1482, 4555: 1483, 4554: 1484, 4553: 1485, 4552: 1486, 4551: 1487, 4550: 1488, 4549: 1489, 4548: 1490, 4547: 1491, 4546: 1492, 4545: 1493, 4544: 1494, 4543: 1495, 4542: 1496, 4541: 1497, 4540: 1498, 4539: 1499, 4538: 1500, 4537: 1501, 4536: 1502, 4535: 1503, 4534: 1504, 4533: 1505, 4532: 1506, 4531: 1507, 4530: 1508, 4529: 1509, 4528: 1510, 4527: 1511, 4526: 1512, 4525: 1513, 4524: 1514, 4523: 1515, 4522: 1516, 4521: 1517, 4520: 1518, 4519: 1519, 4518: 1520, 4517: 1521, 4516: 1522, 4513: 1523, 4512: 1524, 4511: 1525, 4510: 1526, 4509: 1527, 4508: 1528, 4507: 1529, 4506: 1530, 4505: 1531, 4503: 1532, 4502: 1533, 4501: 1534, 4515: 1535, 4500: 1536, 4499: 1537, 4498: 1538, 4497: 1539, 4496: 1540, 4495: 1541, 4494: 1542, 4493: 1543, 4492: 1544, 4491: 1545, 4490: 1546, 4489: 1547, 4488: 1548, 4504: 1549, 4487: 1550, 4485: 1551, 4484: 1552, 4483: 1553, 4482: 1554, 4481: 1555, 4480: 1556, 4479: 1557, 4478: 1558, 4477: 1559, 4476: 1560, 4475: 1561, 4474: 1562, 4473: 1563, 4471: 1564, 4472: 1565, 4470: 1566, 4469: 1567, 4468: 1568, 4466: 1569, 4465: 1570, 4464: 1571, 4463: 1572, 4462: 1573, 4461: 1574, 4460: 1575, 4459: 1576, 4458: 1577, 4457: 1578, 4456: 1579, 4455: 1580, 4454: 1581, 4453: 1582, 4452: 1583, 4451: 1584, 4449: 1585, 4450: 1586, 4448: 1587, 4447: 1588, 4446: 1589, 4445: 1590, 4444: 1591, 4443: 1592, 4442: 1593, 4441: 1594, 4440: 1595, 4439: 1596, 4438: 1597, 4437: 1598, 4436: 1599, 4435: 1600, 4434: 1601, 4433: 1602, 4432: 1603, 4431: 1604, 4430: 1605, 4429: 1606, 4428: 1607, 4427: 1608, 4426: 1609, 4425: 1610, 4424: 1611, 4423: 1612, 4422: 1613, 4421: 1614, 4420: 1615, 4419: 1616, 4418: 1617, 4417: 1618, 4416: 1619, 4415: 1620, 4414: 1621, 4413: 1622, 4412: 1623, 4411: 1624, 4410: 1625, 4409: 1626, 4408: 1627, 4407: 1628, 4406: 1629, 4405: 1630, 4404: 1631, 4403: 1632, 4402: 1633, 4401: 1634, 4398: 1635, 4396: 1636, 4397: 1637, 4399: 1638, 4400: 1639, 4394: 1640, 4395: 1641, 4392: 1642, 4393: 1643, 4391: 1644, 4390: 1645, 4389: 1646, 4388: 1647, 4386: 1648, 4387: 1649, 4385: 1650, 4384: 1651, 4383: 1652, 4382: 1653, 4381: 1654, 4380: 1655, 4379: 1656, 4378: 1657, 4377: 1658, 4376: 1659, 4375: 1660, 4374: 1661, 4373: 1662, 4372: 1663, 4371: 1664, 4370: 1665, 4369: 1666, 4368: 1667, 4367: 1668, 4366: 1669, 4365: 1670, 4364: 1671, 4363: 1672, 4362: 1673, 4361: 1674, 4360: 1675, 4359: 1676, 4358: 1677, 4357: 1678, 4356: 1679, 4355: 1680, 4354: 1681, 4353: 1682, 4352: 1683, 4351: 1684, 4350: 1685, 4348: 1686, 4347: 1687, 4346: 1688, 4345: 1689, 4344: 1690, 4343: 1691, 4342: 1692, 4341: 1693, 4340: 1694, 4339: 1695, 4338: 1696, 4337: 1697, 4335: 1698, 4336: 1699, 4334: 1700, 4333: 1701, 4332: 1702, 4331: 1703, 4330: 1704, 4329: 1705, 4328: 1706, 4327: 1707, 4326: 1708, 4325: 1709, 4324: 1710, 4323: 1711, 4322: 1712, 4321: 1713, 4320: 1714, 4319: 1715, 4317: 1716, 4316: 1717, 4315: 1718, 4314: 1719, 4313: 1720, 4312: 1721, 4311: 1722, 4310: 1723, 4309: 1724, 4308: 1725, 4307: 1726, 4306: 1727, 4305: 1728, 4304: 1729, 4303: 1730, 4514: 1731, 4302: 1732, 4301: 1733, 4300: 1734, 4299: 1735, 4298: 1736, 4297: 1737, 4296: 1738, 4295: 1739, 4293: 1740, 4294: 1741, 4292: 1742, 4291: 1743, 4290: 1744, 4289: 1745, 4288: 1746, 4287: 1747, 4286: 1748, 4285: 1749, 4284: 1750, 4283: 1751, 4282: 1752, 4281: 1753, 4280: 1754, 4279: 1755, 4278: 1756, 4277: 1757, 4276: 1758, 4275: 1759, 4274: 1760, 4272: 1761, 4273: 1762, 4271: 1763, 4269: 1764, 4270: 1765, 4268: 1766, 4267: 1767, 4266: 1768, 4265: 1769, 4264: 1770, 4263: 1771, 4262: 1772, 4261: 1773, 4260: 1774, 4259: 1775, 4258: 1776, 4256: 1777, 4257: 1778, 4255: 1779, 4254: 1780, 4252: 1781, 4253: 1782, 4251: 1783, 4250: 1784, 4249: 1785, 4248: 1786, 4247: 1787, 4246: 1788, 4245: 1789, 4244: 1790, 4241: 1791, 4240: 1792, 4242: 1793, 4239: 1794, 4238: 1795, 4243: 1796, 4237: 1797, 4236: 1798, 4235: 1799, 4234: 1800, 4233: 1801, 4232: 1802, 4231: 1803, 4230: 1804, 4229: 1805, 4227: 1806, 4226: 1807, 4225: 1808, 4228: 1809, 4224: 1810, 4222: 1811, 4223: 1812, 4221: 1813, 4220: 1814, 4219: 1815, 4218: 1816, 4217: 1817, 4216: 1818, 4215: 1819, 4214: 1820, 4213: 1821, 4212: 1822, 4211: 1823, 4210: 1824, 4209: 1825, 4208: 1826, 4206: 1827, 4205: 1828, 4207: 1829, 4204: 1830, 4202: 1831, 4203: 1832, 4201: 1833, 4200: 1834, 4199: 1835, 4198: 1836, 4197: 1837, 4196: 1838, 4195: 1839, 4194: 1840, 4193: 1841, 4192: 1842, 4191: 1843, 4190: 1844, 4189: 1845, 4188: 1846, 4187: 1847, 4186: 1848, 4184: 1849, 4183: 1850, 4182: 1851, 4181: 1852, 4180: 1853, 4178: 1854, 4179: 1855, 4177: 1856, 4176: 1857, 4175: 1858, 4174: 1859, 4173: 1860, 4172: 1861, 4171: 1862, 4170: 1863, 4169: 1864, 4167: 1865, 4165: 1866, 4166: 1867, 4168: 1868, 4164: 1869, 4163: 1870, 4162: 1871, 4161: 1872, 4160: 1873, 4185: 1874, 4159: 1875, 4157: 1876, 4158: 1877, 4155: 1878, 4156: 1879, 4318: 1880, 4154: 1881, 4153: 1882, 4152: 1883, 4151: 1884, 4150: 1885, 4149: 1886, 4148: 1887, 4147: 1888, 4146: 1889, 4145: 1890, 4144: 1891, 4143: 1892, 4142: 1893, 4141: 1894, 4140: 1895, 4138: 1896, 4139: 1897, 4137: 1898, 4136: 1899, 4135: 1900, 4134: 1901, 4133: 1902, 4132: 1903, 4131: 1904, 4130: 1905, 4129: 1906, 4128: 1907, 4127: 1908, 4126: 1909, 4125: 1910, 4124: 1911, 4122: 1912, 4123: 1913, 4121: 1914, 4120: 1915, 4119: 1916, 4118: 1917, 4117: 1918, 4116: 1919, 4115: 1920, 4114: 1921, 4113: 1922, 4112: 1923, 4111: 1924, 4110: 1925, 4109: 1926, 4108: 1927, 4107: 1928, 4105: 1929, 4104: 1930, 4106: 1931, 4103: 1932, 4102: 1933, 4101: 1934, 4100: 1935, 4099: 1936, 4098: 1937, 4097: 1938, 4096: 1939, 4095: 1940, 4094: 1941, 4093: 1942, 4092: 1943, 4091: 1944, 4090: 1945, 4089: 1946, 4088: 1947, 4087: 1948, 4086: 1949, 4085: 1950, 4084: 1951, 4083: 1952, 4082: 1953, 4081: 1954, 4080: 1955, 4079: 1956, 4077: 1957, 4078: 1958, 4076: 1959, 4075: 1960, 4074: 1961, 4073: 1962, 4072: 1963, 4071: 1964, 4070: 1965, 4069: 1966, 4068: 1967, 4067: 1968, 4066: 1969, 4065: 1970, 4064: 1971, 4063: 1972, 4062: 1973, 4061: 1974, 4060: 1975, 4059: 1976, 4058: 1977, 4057: 1978, 4056: 1979, 4055: 1980, 4053: 1981, 4054: 1982, 4052: 1983, 4051: 1984, 4050: 1985, 4049: 1986, 4048: 1987, 4047: 1988, 4046: 1989, 4045: 1990, 4044: 1991, 4043: 1992, 4042: 1993, 4041: 1994, 4040: 1995, 4039: 1996, 4038: 1997, 4037: 1998, 4036: 1999, 4035: 2000, 4034: 2001, 4033: 2002, 4032: 2003, 4031: 2004, 4030: 2005, 4028: 2006, 4029: 2007, 4027: 2008, 4026: 2009, 4025: 2010, 4024: 2011, 4023: 2012, 4022: 2013, 4021: 2014, 4020: 2015, 4019: 2016, 4018: 2017, 4017: 2018, 4016: 2019, 4015: 2020, 4014: 2021, 4013: 2022, 4012: 2023, 4011: 2024, 4010: 2025, 4009: 2026, 4008: 2027, 4007: 2028, 4006: 2029, 4005: 2030, 4004: 2031, 4003: 2032, 4002: 2033, 4001: 2034, 4000: 2035, 3999: 2036, 3998: 2037, 3997: 2038, 3996: 2039, 3995: 2040, 3994: 2041, 3993: 2042, 3992: 2043, 3991: 2044, 3990: 2045, 3989: 2046, 3988: 2047, 3987: 2048, 3986: 2049, 3985: 2050, 3984: 2051, 3983: 2052, 3982: 2053, 3981: 2054, 3980: 2055, 3979: 2056, 3978: 2057, 3977: 2058, 3976: 2059, 3975: 2060, 3974: 2061, 3973: 2062, 3972: 2063, 3971: 2064, 3970: 2065, 3969: 2066, 3968: 2067, 3967: 2068, 3966: 2069, 3965: 2070, 3964: 2071, 3963: 2072, 3962: 2073, 3961: 2074, 3960: 2075, 3959: 2076, 3958: 2077, 3957: 2078, 3956: 2079, 3955: 2080, 3954: 2081, 3953: 2082, 3952: 2083, 3951: 2084, 3950: 2085, 3949: 2086, 3948: 2087, 3947: 2088, 3946: 2089, 3945: 2090, 3944: 2091, 3943: 2092, 3942: 2093, 3941: 2094, 3940: 2095, 3939: 2096, 3938: 2097, 3937: 2098, 3936: 2099, 3935: 2100, 3933: 2101, 3934: 2102, 3932: 2103, 3931: 2104, 3930: 2105, 3929: 2106, 3928: 2107, 3927: 2108, 3926: 2109, 3925: 2110, 3924: 2111, 3922: 2112, 3923: 2113, 3921: 2114, 3920: 2115, 3919: 2116, 3918: 2117, 3917: 2118, 3916: 2119, 3914: 2120, 3915: 2121, 3913: 2122, 3912: 2123, 3911: 2124, 3910: 2125, 3909: 2126, 3908: 2127, 3907: 2128, 3906: 2129, 3905: 2130, 3904: 2131, 3903: 2132, 3902: 2133, 3901: 2134, 3900: 2135, 3899: 2136, 3898: 2137, 3897: 2138, 3896: 2139, 3895: 2140, 3894: 2141, 3893: 2142, 3892: 2143, 3891: 2144, 3890: 2145, 3889: 2146, 3887: 2147, 3886: 2148, 3885: 2149, 3884: 2150, 3883: 2151, 3882: 2152, 3881: 2153, 3880: 2154, 3879: 2155, 3878: 2156, 3877: 2157, 3875: 2158, 3876: 2159, 3874: 2160, 3873: 2161, 3872: 2162, 3871: 2163, 3870: 2164, 3869: 2165, 3868: 2166, 3867: 2167, 3866: 2168, 3865: 2169, 3864: 2170, 3863: 2171, 3862: 2172, 3861: 2173, 3860: 2174, 3859: 2175, 3857: 2176, 3856: 2177, 3858: 2178, 3855: 2179, 3854: 2180, 3853: 2181, 3852: 2182, 3850: 2183, 3851: 2184, 3849: 2185, 3848: 2186, 3847: 2187, 3846: 2188, 3845: 2189, 3844: 2190, 3843: 2191, 3842: 2192, 3841: 2193, 3839: 2194, 3840: 2195, 3838: 2196, 3837: 2197, 3836: 2198, 3835: 2199, 3834: 2200, 3833: 2201, 3832: 2202, 3831: 2203, 3830: 2204, 3829: 2205, 3828: 2206, 3827: 2207, 3826: 2208, 3825: 2209, 3824: 2210, 3823: 2211, 3822: 2212, 3821: 2213, 3820: 2214, 3819: 2215, 3818: 2216, 3817: 2217, 3816: 2218, 3815: 2219, 3814: 2220, 3813: 2221, 3812: 2222, 3811: 2223, 3810: 2224, 3809: 2225, 3808: 2226, 3807: 2227, 3806: 2228, 3805: 2229, 3804: 2230, 3803: 2231, 3802: 2232, 3801: 2233, 3800: 2234, 3799: 2235, 3798: 2236, 3797: 2237, 3796: 2238, 3795: 2239, 3794: 2240, 3793: 2241, 3792: 2242, 3791: 2243, 3790: 2244, 3788: 2245, 3789: 2246, 3787: 2247, 3786: 2248, 3785: 2249, 3784: 2250, 3782: 2251, 3783: 2252, 3781: 2253, 3780: 2254, 3779: 2255, 3778: 2256, 3777: 2257, 3776: 2258, 3775: 2259, 3774: 2260, 3773: 2261, 3772: 2262, 3771: 2263, 3770: 2264, 3769: 2265, 3768: 2266, 3766: 2267, 3767: 2268, 3765: 2269, 3764: 2270, 3763: 2271, 3762: 2272, 3761: 2273, 3760: 2274, 3759: 2275, 3758: 2276, 3757: 2277, 3756: 2278, 3755: 2279, 3754: 2280, 3753: 2281, 3752: 2282, 3751: 2283, 3750: 2284, 3749: 2285, 3748: 2286, 3747: 2287, 3746: 2288, 3888: 2289, 3745: 2290, 3744: 2291, 3743: 2292, 3742: 2293, 3741: 2294, 3740: 2295, 3739: 2296, 3738: 2297, 3737: 2298, 3736: 2299, 3735: 2300, 3734: 2301, 3733: 2302, 3732: 2303, 3731: 2304, 3730: 2305, 3729: 2306, 3728: 2307, 3727: 2308, 3725: 2309, 3726: 2310, 3724: 2311, 3722: 2312, 3721: 2313, 3720: 2314, 3719: 2315, 3718: 2316, 3717: 2317, 3716: 2318, 3715: 2319, 3714: 2320, 3713: 2321, 3712: 2322, 3711: 2323, 3710: 2324, 3709: 2325, 3708: 2326, 3707: 2327, 3706: 2328, 3705: 2329, 3704: 2330, 3703: 2331, 3702: 2332, 3701: 2333, 3700: 2334, 3699: 2335, 3698: 2336, 3697: 2337, 3696: 2338, 3695: 2339, 3694: 2340, 3693: 2341, 3692: 2342, 3691: 2343, 3690: 2344, 3689: 2345, 3688: 2346, 3687: 2347, 3686: 2348, 3685: 2349, 3684: 2350, 3683: 2351, 3682: 2352, 3681: 2353, 3680: 2354, 3679: 2355, 3678: 2356, 3677: 2357, 3676: 2358, 3675: 2359, 3674: 2360, 3673: 2361, 3672: 2362, 3671: 2363, 3670: 2364, 3669: 2365, 3668: 2366, 3667: 2367, 3666: 2368, 3665: 2369, 3664: 2370, 3663: 2371, 3662: 2372, 3661: 2373, 3660: 2374, 3659: 2375, 3658: 2376, 3657: 2377, 3656: 2378, 3655: 2379, 3654: 2380, 3653: 2381, 3652: 2382, 3651: 2383, 3650: 2384, 3649: 2385, 3648: 2386, 3646: 2387, 3645: 2388, 3647: 2389, 3644: 2390, 3643: 2391, 3642: 2392, 3641: 2393, 3640: 2394, 3639: 2395, 3638: 2396, 3637: 2397, 3636: 2398, 3635: 2399, 3634: 2400, 3633: 2401, 3632: 2402, 3631: 2403, 3630: 2404, 3629: 2405, 3627: 2406, 3626: 2407, 3625: 2408, 3624: 2409, 3623: 2410, 3622: 2411, 3621: 2412, 3620: 2413, 3619: 2414, 3618: 2415, 3617: 2416, 3616: 2417, 3615: 2418, 3613: 2419, 3614: 2420, 3612: 2421, 3611: 2422, 3610: 2423, 3609: 2424, 3608: 2425, 3606: 2426, 3607: 2427, 3605: 2428, 3604: 2429, 3603: 2430, 3601: 2431, 3600: 2432, 3599: 2433, 3597: 2434, 3596: 2435, 3595: 2436, 3594: 2437, 3593: 2438, 3592: 2439, 3591: 2440, 3590: 2441, 3589: 2442, 3588: 2443, 3587: 2444, 3586: 2445, 3585: 2446, 3584: 2447, 3583: 2448, 3582: 2449, 3581: 2450, 3580: 2451, 3579: 2452, 3578: 2453, 3577: 2454, 3576: 2455, 3575: 2456, 3574: 2457, 3573: 2458, 3572: 2459, 3571: 2460, 3570: 2461, 3569: 2462, 3568: 2463, 3567: 2464, 3566: 2465, 3565: 2466, 3564: 2467, 3563: 2468, 3562: 2469, 3561: 2470, 3560: 2471, 3559: 2472, 3558: 2473, 3557: 2474, 3556: 2475, 3555: 2476, 3554: 2477, 3553: 2478, 3552: 2479, 3551: 2480, 3550: 2481, 3549: 2482, 3548: 2483, 3547: 2484, 3546: 2485, 3545: 2486, 3544: 2487, 3543: 2488, 3542: 2489, 3541: 2490, 3540: 2491, 3539: 2492, 3538: 2493, 3537: 2494, 3536: 2495, 3535: 2496, 3534: 2497, 3533: 2498, 3532: 2499, 3530: 2500, 3529: 2501, 3528: 2502, 3527: 2503, 3526: 2504, 3525: 2505, 3524: 2506, 3523: 2507, 3531: 2508, 3522: 2509, 3521: 2510, 3520: 2511, 3519: 2512, 3518: 2513, 3517: 2514, 3516: 2515, 3515: 2516, 3514: 2517, 3513: 2518, 3512: 2519, 3511: 2520, 3510: 2521, 3509: 2522, 3508: 2523, 3507: 2524, 3506: 2525, 3505: 2526, 3504: 2527, 3503: 2528, 3502: 2529, 3501: 2530, 3500: 2531, 3499: 2532, 3498: 2533, 3497: 2534, 3602: 2535, 3496: 2536, 3495: 2537, 3494: 2538, 3493: 2539, 3492: 2540, 3491: 2541, 3490: 2542, 3489: 2543, 3488: 2544, 3487: 2545, 3486: 2546, 3485: 2547, 3484: 2548, 3483: 2549, 3482: 2550, 3481: 2551, 3480: 2552, 3479: 2553, 3478: 2554, 3477: 2555, 3476: 2556, 3475: 2557, 3474: 2558, 3473: 2559, 3472: 2560, 3723: 2561, 3471: 2562, 3470: 2563, 3469: 2564, 3468: 2565, 3467: 2566, 3466: 2567, 3465: 2568, 3464: 2569, 3463: 2570, 3462: 2571, 3461: 2572, 3460: 2573, 3459: 2574, 3458: 2575, 3457: 2576, 3456: 2577, 3455: 2578, 3454: 2579, 3453: 2580, 3452: 2581, 3451: 2582, 3450: 2583, 3449: 2584, 3448: 2585, 3447: 2586, 3446: 2587, 3445: 2588, 3444: 2589, 3443: 2590, 3442: 2591, 3441: 2592, 3440: 2593, 3439: 2594, 3438: 2595, 3437: 2596, 3436: 2597, 3435: 2598, 3434: 2599, 3433: 2600, 3431: 2601, 3432: 2602, 3430: 2603, 3429: 2604, 3428: 2605, 3427: 2606, 3426: 2607, 3425: 2608, 3424: 2609, 3423: 2610, 3422: 2611, 3420: 2612, 3419: 2613, 3418: 2614, 3417: 2615, 3416: 2616, 3415: 2617, 3414: 2618, 3413: 2619, 3412: 2620, 3421: 2621, 3411: 2622, 3410: 2623, 3409: 2624, 3408: 2625, 3407: 2626, 3406: 2627, 3405: 2628, 3404: 2629, 3403: 2630, 3402: 2631, 3401: 2632, 3400: 2633, 3399: 2634, 3398: 2635, 3397: 2636, 3396: 2637, 3395: 2638, 3394: 2639, 3393: 2640, 3392: 2641, 3391: 2642, 3390: 2643, 3389: 2644, 3388: 2645, 3387: 2646, 3386: 2647, 3385: 2648, 3384: 2649, 3383: 2650, 3382: 2651, 3381: 2652, 3380: 2653, 3379: 2654, 3378: 2655, 3377: 2656, 3376: 2657, 3375: 2658, 3374: 2659, 3373: 2660, 3372: 2661, 3371: 2662, 3370: 2663, 3369: 2664, 3367: 2665, 3368: 2666, 3366: 2667, 3365: 2668, 3364: 2669, 3363: 2670, 3362: 2671, 3361: 2672, 3359: 2673, 3360: 2674, 3358: 2675, 3357: 2676, 3356: 2677, 3355: 2678, 3354: 2679, 3353: 2680, 3352: 2681, 3351: 2682, 3350: 2683, 3349: 2684, 3348: 2685, 3347: 2686, 3346: 2687, 3345: 2688, 3344: 2689, 3343: 2690, 3342: 2691, 3341: 2692, 3340: 2693, 3339: 2694, 3338: 2695, 3337: 2696, 3336: 2697, 3335: 2698, 3334: 2699, 3333: 2700, 3332: 2701, 3331: 2702, 3330: 2703, 3329: 2704, 3328: 2705, 3327: 2706, 3326: 2707, 3325: 2708, 3324: 2709, 3323: 2710, 3322: 2711, 3321: 2712, 3320: 2713, 3319: 2714, 3318: 2715, 3317: 2716, 3316: 2717, 3315: 2718, 3314: 2719, 3313: 2720, 3312: 2721, 3311: 2722, 3310: 2723, 3309: 2724, 3308: 2725, 3307: 2726, 3306: 2727, 3305: 2728, 3304: 2729, 3303: 2730, 3302: 2731, 3301: 2732, 3300: 2733, 3299: 2734, 3298: 2735, 3297: 2736, 3296: 2737, 3295: 2738, 3294: 2739, 3293: 2740, 3292: 2741, 3291: 2742, 3290: 2743, 3289: 2744, 3288: 2745, 3287: 2746, 3286: 2747, 3285: 2748, 3284: 2749, 3283: 2750, 3282: 2751, 3281: 2752, 3280: 2753, 3279: 2754, 3278: 2755, 3277: 2756, 3276: 2757, 3275: 2758, 3274: 2759, 3273: 2760, 3272: 2761, 3271: 2762, 3270: 2763, 3269: 2764, 3268: 2765, 3267: 2766, 3266: 2767, 3265: 2768, 3264: 2769, 3263: 2770, 3262: 2771, 3261: 2772, 3260: 2773, 3259: 2774, 3258: 2775, 3257: 2776, 3256: 2777, 3255: 2778, 3254: 2779, 3253: 2780, 3252: 2781, 3251: 2782, 3249: 2783, 3250: 2784, 3248: 2785, 3247: 2786, 3246: 2787, 3245: 2788, 3244: 2789, 3243: 2790, 3242: 2791, 3241: 2792, 3240: 2793, 3239: 2794, 3238: 2795, 3237: 2796, 3236: 2797, 3235: 2798, 3234: 2799, 3233: 2800, 3232: 2801, 3231: 2802, 3230: 2803, 3229: 2804, 3228: 2805, 3227: 2806, 3226: 2807, 3225: 2808, 3224: 2809, 3223: 2810, 3222: 2811, 3221: 2812, 3220: 2813, 3218: 2814, 3217: 2815, 3216: 2816, 3215: 2817, 3219: 2818, 3214: 2819, 3213: 2820, 3212: 2821, 3211: 2822, 3210: 2823, 3209: 2824, 3208: 2825, 3207: 2826, 3206: 2827, 3205: 2828, 3204: 2829, 3203: 2830, 3202: 2831, 3201: 2832, 3200: 2833, 3199: 2834, 3198: 2835, 3197: 2836, 3196: 2837, 3195: 2838, 3194: 2839, 3193: 2840, 3192: 2841, 3191: 2842, 3190: 2843, 3189: 2844, 3188: 2845, 3187: 2846, 3186: 2847, 3185: 2848, 3184: 2849, 3183: 2850, 3182: 2851, 3181: 2852, 3179: 2853, 3180: 2854, 3178: 2855, 3177: 2856, 3176: 2857, 3175: 2858, 3174: 2859, 3173: 2860, 3172: 2861, 3171: 2862, 3170: 2863, 3169: 2864, 3168: 2865, 3167: 2866, 3166: 2867, 3165: 2868, 3164: 2869, 3163: 2870, 3162: 2871, 3161: 2872, 3160: 2873, 3159: 2874, 3158: 2875, 3157: 2876, 3156: 2877, 3155: 2878, 3154: 2879, 3153: 2880, 3152: 2881, 3151: 2882, 3150: 2883, 3149: 2884, 3148: 2885, 3147: 2886, 3146: 2887, 3145: 2888, 3144: 2889, 3143: 2890, 3142: 2891, 3141: 2892, 3140: 2893, 3139: 2894, 3138: 2895, 3137: 2896, 3136: 2897, 3135: 2898, 3134: 2899, 3133: 2900, 3132: 2901, 3131: 2902, 3130: 2903, 3129: 2904, 3128: 2905, 3126: 2906, 3125: 2907, 3127: 2908, 3124: 2909, 3123: 2910, 3122: 2911, 3121: 2912, 3120: 2913, 3119: 2914, 3118: 2915, 3117: 2916, 3116: 2917, 3114: 2918, 3113: 2919, 3112: 2920, 3111: 2921, 3110: 2922, 3109: 2923, 3108: 2924, 3107: 2925, 3106: 2926, 3105: 2927, 3104: 2928, 3103: 2929, 3102: 2930, 3101: 2931, 3100: 2932, 3099: 2933, 3115: 2934, 3098: 2935, 3097: 2936, 3096: 2937, 3095: 2938, 3094: 2939, 3092: 2940, 3093: 2941, 3091: 2942, 3090: 2943, 3089: 2944, 3088: 2945, 3087: 2946, 3086: 2947, 3085: 2948, 3084: 2949, 3628: 2950, 3083: 2951, 3082: 2952, 3081: 2953, 3080: 2954, 3079: 2955, 3078: 2956, 3077: 2957, 3076: 2958, 3075: 2959, 3074: 2960, 3073: 2961, 3072: 2962, 3071: 2963, 3070: 2964, 3069: 2965, 3068: 2966, 3067: 2967, 3066: 2968, 3065: 2969, 3064: 2970, 3063: 2971, 3062: 2972, 3061: 2973, 3060: 2974, 3059: 2975, 3058: 2976, 3057: 2977, 3056: 2978, 3055: 2979, 3054: 2980, 3053: 2981, 3052: 2982, 3050: 2983, 3051: 2984, 3049: 2985, 3048: 2986, 3047: 2987, 3046: 2988, 3045: 2989, 3044: 2990, 3043: 2991, 3042: 2992, 3040: 2993, 3041: 2994, 3039: 2995, 3038: 2996, 3037: 2997, 3036: 2998, 3035: 2999, 3034: 3000, 3033: 3001, 3032: 3002, 3031: 3003, 3030: 3004, 3029: 3005, 3028: 3006, 3027: 3007, 3026: 3008, 3025: 3009, 3024: 3010, 3023: 3011, 3022: 3012, 3021: 3013, 3020: 3014, 3019: 3015, 3018: 3016, 3017: 3017, 3016: 3018, 3015: 3019, 3014: 3020, 3013: 3021, 3012: 3022, 3011: 3023, 3010: 3024, 3009: 3025, 3008: 3026, 3007: 3027, 3006: 3028, 3005: 3029, 3004: 3030, 3002: 3031, 3001: 3032, 3000: 3033, 2999: 3034, 2998: 3035, 2997: 3036, 2996: 3037, 2995: 3038, 2994: 3039, 2993: 3040, 2992: 3041, 2991: 3042, 2990: 3043, 2989: 3044, 3003: 3045, 2988: 3046, 2987: 3047, 2986: 3048, 2985: 3049, 2984: 3050, 2983: 3051, 2982: 3052, 2981: 3053, 2979: 3054, 2978: 3055, 2977: 3056, 2976: 3057, 2975: 3058, 2974: 3059, 2973: 3060, 2972: 3061, 2971: 3062, 2970: 3063, 2969: 3064, 2968: 3065, 2967: 3066, 2966: 3067, 2965: 3068, 2964: 3069, 2963: 3070, 2962: 3071, 2961: 3072, 2960: 3073, 2959: 3074, 2958: 3075, 2957: 3076, 2956: 3077, 2955: 3078, 2954: 3079, 2953: 3080, 2952: 3081, 2951: 3082, 2950: 3083, 2949: 3084, 2948: 3085, 2946: 3086, 2945: 3087, 2944: 3088, 2943: 3089, 2942: 3090, 2941: 3091, 2940: 3092, 2939: 3093, 2938: 3094, 2937: 3095, 2936: 3096, 2935: 3097, 2934: 3098, 2933: 3099, 2932: 3100, 2931: 3101, 2930: 3102, 2929: 3103, 2928: 3104, 2927: 3105, 2926: 3106, 2925: 3107, 2924: 3108, 2923: 3109, 2922: 3110, 2921: 3111, 2920: 3112, 2919: 3113, 2918: 3114, 2917: 3115, 2916: 3116, 2915: 3117, 2914: 3118, 2913: 3119, 2912: 3120, 2911: 3121, 2909: 3122, 2908: 3123, 2907: 3124, 2906: 3125, 2905: 3126, 2904: 3127, 2903: 3128, 2902: 3129, 2901: 3130, 2900: 3131, 2899: 3132, 2898: 3133, 2897: 3134, 2895: 3135, 2896: 3136, 2894: 3137, 2893: 3138, 2892: 3139, 2891: 3140, 2890: 3141, 2889: 3142, 2888: 3143, 2887: 3144, 2886: 3145, 2885: 3146, 2884: 3147, 2882: 3148, 2881: 3149, 2883: 3150, 2880: 3151, 2879: 3152, 2878: 3153, 2877: 3154, 2876: 3155, 2875: 3156, 2874: 3157, 2873: 3158, 2872: 3159, 2871: 3160, 2870: 3161, 2869: 3162, 2868: 3163, 2867: 3164, 2866: 3165, 2865: 3166, 2864: 3167, 2863: 3168, 2862: 3169, 2861: 3170, 2860: 3171, 2859: 3172, 2858: 3173, 2857: 3174, 2856: 3175, 2855: 3176, 2854: 3177, 2853: 3178, 2852: 3179, 2851: 3180, 2850: 3181, 2849: 3182, 2848: 3183, 2847: 3184, 2846: 3185, 2845: 3186, 2844: 3187, 2843: 3188, 2842: 3189, 2841: 3190, 2840: 3191, 2839: 3192, 2838: 3193, 2837: 3194, 2836: 3195, 2835: 3196, 2834: 3197, 2833: 3198, 2832: 3199, 2831: 3200, 2830: 3201, 2829: 3202, 2828: 3203, 2827: 3204, 2826: 3205, 2825: 3206, 2824: 3207, 2823: 3208, 2822: 3209, 2821: 3210, 2820: 3211, 2819: 3212, 2818: 3213, 2817: 3214, 2816: 3215, 2815: 3216, 2814: 3217, 2813: 3218, 2812: 3219, 2811: 3220, 2810: 3221, 2809: 3222, 2808: 3223, 2807: 3224, 2806: 3225, 2805: 3226, 2804: 3227, 2803: 3228, 2802: 3229, 2801: 3230, 2800: 3231, 2799: 3232, 2798: 3233, 2797: 3234, 2796: 3235, 2795: 3236, 2794: 3237, 2793: 3238, 2792: 3239, 2791: 3240, 2790: 3241, 2789: 3242, 2788: 3243, 2787: 3244, 2786: 3245, 2785: 3246, 2784: 3247, 2783: 3248, 2782: 3249, 2781: 3250, 2780: 3251, 2779: 3252, 2778: 3253, 2777: 3254, 2776: 3255, 2775: 3256, 2774: 3257, 2773: 3258, 2772: 3259, 2771: 3260, 2770: 3261, 2769: 3262, 2768: 3263, 2767: 3264, 2766: 3265, 2765: 3266, 2764: 3267, 2763: 3268, 2762: 3269, 2761: 3270, 2760: 3271, 2759: 3272, 2758: 3273, 2757: 3274, 2756: 3275, 2755: 3276, 2754: 3277, 2753: 3278, 2752: 3279, 2751: 3280, 2750: 3281, 2749: 3282, 2748: 3283, 2747: 3284, 2746: 3285, 2745: 3286, 2744: 3287, 2743: 3288, 2742: 3289, 2741: 3290, 2740: 3291, 2739: 3292, 2738: 3293, 2737: 3294, 2736: 3295, 2735: 3296, 2734: 3297, 2733: 3298, 2732: 3299, 2731: 3300, 2730: 3301, 2729: 3302, 2728: 3303, 2726: 3304, 2727: 3305, 2725: 3306, 2724: 3307, 2723: 3308, 2722: 3309, 2721: 3310, 2720: 3311, 2719: 3312, 2718: 3313, 2716: 3314, 2714: 3315, 2715: 3316, 2717: 3317, 2713: 3318, 2712: 3319, 2711: 3320, 2710: 3321, 2709: 3322, 2708: 3323, 2707: 3324, 2706: 3325, 2705: 3326, 2704: 3327, 2703: 3328, 2702: 3329, 2701: 3330, 2700: 3331, 2699: 3332, 2698: 3333, 2697: 3334, 2696: 3335, 2695: 3336, 2694: 3337, 2693: 3338, 2692: 3339, 2691: 3340, 2690: 3341, 2689: 3342, 2688: 3343, 2687: 3344, 2686: 3345, 2685: 3346, 2684: 3347, 2683: 3348, 2682: 3349, 2681: 3350, 2680: 3351, 2679: 3352, 2678: 3353, 2677: 3354, 2676: 3355, 2675: 3356, 2674: 3357, 2673: 3358, 2672: 3359, 2671: 3360, 2670: 3361, 2669: 3362, 2668: 3363, 2667: 3364, 2666: 3365, 2665: 3366, 2664: 3367, 2663: 3368, 2662: 3369, 2661: 3370, 2660: 3371, 2659: 3372, 2658: 3373, 2657: 3374, 2656: 3375, 2655: 3376, 2653: 3377, 2652: 3378, 2651: 3379, 2650: 3380, 2649: 3381, 2648: 3382, 2654: 3383, 2647: 3384, 2646: 3385, 2645: 3386, 2644: 3387, 2643: 3388, 2642: 3389, 2641: 3390, 2640: 3391, 2639: 3392, 2638: 3393, 2637: 3394, 2636: 3395, 2635: 3396, 2634: 3397, 2633: 3398, 2632: 3399, 2631: 3400, 2630: 3401, 2629: 3402, 2628: 3403, 2627: 3404, 2626: 3405, 2625: 3406, 2624: 3407, 2623: 3408, 2622: 3409, 2621: 3410, 2620: 3411, 2619: 3412, 2618: 3413, 2617: 3414, 2616: 3415, 2615: 3416, 2614: 3417, 2613: 3418, 2612: 3419, 2611: 3420, 2610: 3421, 2609: 3422, 2608: 3423, 2607: 3424, 2606: 3425, 2605: 3426, 2604: 3427, 2603: 3428, 2602: 3429, 2600: 3430, 2599: 3431, 2598: 3432, 2597: 3433, 2601: 3434, 2596: 3435, 2595: 3436, 2594: 3437, 2593: 3438, 2592: 3439, 2591: 3440, 2590: 3441, 2589: 3442, 2588: 3443, 2587: 3444, 2586: 3445, 2584: 3446, 2585: 3447, 2583: 3448, 2582: 3449, 2581: 3450, 2580: 3451, 2579: 3452, 2578: 3453, 2577: 3454, 2576: 3455, 2575: 3456, 2574: 3457, 2573: 3458, 2572: 3459, 2571: 3460, 2570: 3461, 2569: 3462, 2568: 3463, 2567: 3464, 2566: 3465, 2565: 3466, 2564: 3467, 2563: 3468, 2562: 3469, 2561: 3470, 2560: 3471, 2559: 3472, 2558: 3473, 2557: 3474, 2556: 3475, 2555: 3476, 2554: 3477, 2553: 3478, 2552: 3479, 2551: 3480, 2550: 3481, 2549: 3482, 2548: 3483, 2547: 3484, 2546: 3485, 2545: 3486, 2544: 3487, 2543: 3488, 2542: 3489, 2541: 3490, 2540: 3491, 2539: 3492, 2538: 3493, 2537: 3494, 2535: 3495, 2536: 3496, 2534: 3497, 2533: 3498, 2532: 3499, 2531: 3500, 2530: 3501, 2529: 3502, 2528: 3503, 2527: 3504, 2526: 3505, 2525: 3506, 2524: 3507, 2523: 3508, 2522: 3509, 2521: 3510, 2520: 3511, 2519: 3512, 2518: 3513, 2517: 3514, 2516: 3515, 2515: 3516, 2514: 3517, 2513: 3518, 2512: 3519, 2511: 3520, 2510: 3521, 2509: 3522, 2508: 3523, 2507: 3524, 2506: 3525, 2505: 3526, 2504: 3527, 2503: 3528, 2502: 3529, 2501: 3530, 2500: 3531, 2499: 3532, 2498: 3533, 2497: 3534, 2496: 3535, 2495: 3536, 2494: 3537, 2493: 3538, 2492: 3539, 2491: 3540, 2490: 3541, 2489: 3542, 2488: 3543, 2487: 3544, 2486: 3545, 2485: 3546, 2484: 3547, 2483: 3548, 2482: 3549, 2481: 3550, 2480: 3551, 2479: 3552, 2478: 3553, 2476: 3554, 2477: 3555, 2475: 3556, 2474: 3557, 2473: 3558, 2472: 3559, 2471: 3560, 2470: 3561, 2469: 3562, 2468: 3563, 2467: 3564, 2466: 3565, 2465: 3566, 2464: 3567, 2462: 3568, 2463: 3569, 2461: 3570, 2460: 3571, 2459: 3572, 2458: 3573, 2457: 3574, 2456: 3575, 2455: 3576, 2454: 3577, 2453: 3578, 2452: 3579, 2451: 3580, 2450: 3581, 2449: 3582, 2448: 3583, 2447: 3584, 2446: 3585, 2445: 3586, 2444: 3587, 2443: 3588, 2442: 3589, 2441: 3590, 2440: 3591, 2439: 3592, 2438: 3593, 2436: 3594, 2435: 3595, 2433: 3596, 2437: 3597, 2431: 3598, 2432: 3599, 2430: 3600, 2434: 3601, 2429: 3602, 2428: 3603, 2427: 3604, 2426: 3605, 2424: 3606, 2423: 3607, 2422: 3608, 2421: 3609, 2420: 3610, 2425: 3611, 2419: 3612, 2418: 3613, 2417: 3614, 2415: 3615, 2416: 3616, 2414: 3617, 2413: 3618, 2412: 3619, 2411: 3620, 2410: 3621, 2409: 3622, 2408: 3623, 2407: 3624, 2406: 3625, 2405: 3626, 2404: 3627, 2403: 3628, 2402: 3629, 2401: 3630, 2400: 3631, 2399: 3632, 2398: 3633, 2397: 3634, 2396: 3635, 2395: 3636, 2394: 3637, 2393: 3638, 2392: 3639, 2391: 3640, 2390: 3641, 2389: 3642, 2388: 3643, 2387: 3644, 2386: 3645, 2385: 3646, 2384: 3647, 2383: 3648, 2382: 3649, 2381: 3650, 2380: 3651, 2378: 3652, 2379: 3653, 2377: 3654, 2376: 3655, 2375: 3656, 2374: 3657, 2373: 3658, 2372: 3659, 2371: 3660, 2370: 3661, 2369: 3662, 2368: 3663, 2367: 3664, 2366: 3665, 2365: 3666, 2364: 3667, 2363: 3668, 2362: 3669, 2361: 3670, 2360: 3671, 2359: 3672, 2358: 3673, 2357: 3674, 2356: 3675, 2355: 3676, 2354: 3677, 2353: 3678, 2352: 3679, 2351: 3680, 2350: 3681, 2348: 3682, 2349: 3683, 2347: 3684, 2346: 3685, 2345: 3686, 2344: 3687, 2342: 3688, 2343: 3689, 2341: 3690, 2340: 3691, 2339: 3692, 2338: 3693, 2337: 3694, 2336: 3695, 2335: 3696, 2334: 3697, 2333: 3698, 2332: 3699, 2331: 3700, 2330: 3701, 2329: 3702, 2328: 3703, 2327: 3704, 2326: 3705, 2325: 3706, 2324: 3707, 2323: 3708, 2322: 3709, 2321: 3710, 2320: 3711, 2319: 3712, 2318: 3713, 2317: 3714, 2316: 3715, 2315: 3716, 2314: 3717, 2313: 3718, 2312: 3719, 2311: 3720, 2310: 3721, 2309: 3722, 2308: 3723, 2307: 3724, 2306: 3725, 2305: 3726, 2304: 3727, 2303: 3728, 2302: 3729, 2301: 3730, 2300: 3731, 2299: 3732, 2298: 3733, 2297: 3734, 2296: 3735, 2295: 3736, 2294: 3737, 2293: 3738, 2292: 3739, 2291: 3740, 2290: 3741, 2289: 3742, 2288: 3743, 2287: 3744, 2286: 3745, 2285: 3746, 2284: 3747, 2283: 3748, 2282: 3749, 2281: 3750, 2280: 3751, 2279: 3752, 2278: 3753, 2277: 3754, 2276: 3755, 2275: 3756, 2274: 3757, 2273: 3758, 2272: 3759, 2271: 3760, 2270: 3761, 2269: 3762, 2268: 3763, 2267: 3764, 2266: 3765, 2265: 3766, 2264: 3767, 2263: 3768, 2262: 3769, 2261: 3770, 2260: 3771, 2259: 3772, 2258: 3773, 2257: 3774, 2256: 3775, 2255: 3776, 2254: 3777, 2253: 3778, 2252: 3779, 2250: 3780, 2251: 3781, 2248: 3782, 2246: 3783, 2244: 3784, 2243: 3785, 2242: 3786, 2241: 3787, 2249: 3788, 2245: 3789, 2240: 3790, 2239: 3791, 2238: 3792, 2237: 3793, 2235: 3794, 2236: 3795, 2234: 3796, 2233: 3797, 2232: 3798, 2231: 3799, 2230: 3800, 2229: 3801, 2228: 3802, 2227: 3803, 2226: 3804, 2224: 3805, 2225: 3806, 2222: 3807, 2223: 3808, 2221: 3809, 2220: 3810, 2219: 3811, 2218: 3812, 2217: 3813, 2216: 3814, 2215: 3815, 2214: 3816, 2212: 3817, 2213: 3818, 2211: 3819, 2210: 3820, 2209: 3821, 2208: 3822, 2207: 3823, 2206: 3824, 2205: 3825, 2203: 3826, 2204: 3827, 2202: 3828, 2201: 3829, 2200: 3830, 2199: 3831, 2197: 3832, 2196: 3833, 2198: 3834, 2195: 3835, 2192: 3836, 2193: 3837, 2191: 3838, 2190: 3839, 2194: 3840, 2189: 3841, 2188: 3842, 2186: 3843, 2185: 3844, 2187: 3845, 2184: 3846, 2182: 3847, 2183: 3848, 2181: 3849, 2180: 3850, 2179: 3851, 2178: 3852, 2177: 3853, 2175: 3854, 2176: 3855, 2174: 3856, 2173: 3857, 2172: 3858, 2171: 3859, 2169: 3860, 2170: 3861, 2168: 3862, 2167: 3863, 2166: 3864, 2165: 3865, 2164: 3866, 2163: 3867, 2162: 3868, 2161: 3869, 2160: 3870, 2159: 3871, 2158: 3872, 2157: 3873, 2156: 3874, 2155: 3875, 2154: 3876, 2153: 3877, 2152: 3878, 2150: 3879, 2151: 3880, 2149: 3881, 2148: 3882, 2147: 3883, 2146: 3884, 2145: 3885, 2144: 3886, 2143: 3887, 2142: 3888, 2141: 3889, 2140: 3890, 2139: 3891, 2138: 3892, 2137: 3893, 2136: 3894, 2135: 3895, 2134: 3896, 2133: 3897, 2131: 3898, 2132: 3899, 2130: 3900, 2129: 3901, 2128: 3902, 2126: 3903, 2127: 3904, 2125: 3905, 2123: 3906, 2124: 3907, 2122: 3908, 2121: 3909, 2120: 3910, 2119: 3911, 2118: 3912, 2117: 3913, 2116: 3914, 2115: 3915, 2114: 3916, 2113: 3917, 2112: 3918, 2111: 3919, 2110: 3920, 2109: 3921, 2108: 3922, 2107: 3923, 2106: 3924, 2105: 3925, 2104: 3926, 2103: 3927, 2102: 3928, 2101: 3929, 2100: 3930, 2099: 3931, 2098: 3932, 2097: 3933, 2096: 3934, 2095: 3935, 2093: 3936, 2094: 3937, 2092: 3938, 2091: 3939, 2090: 3940, 2088: 3941, 2089: 3942, 2087: 3943, 2085: 3944, 2086: 3945, 2084: 3946, 2083: 3947, 2082: 3948, 2081: 3949, 2080: 3950, 2079: 3951, 2078: 3952, 2077: 3953, 2075: 3954, 2076: 3955, 2073: 3956, 2074: 3957, 2072: 3958, 2071: 3959, 2070: 3960, 2069: 3961, 2068: 3962, 2067: 3963, 2066: 3964, 2064: 3965, 2065: 3966, 2063: 3967, 2062: 3968, 2061: 3969, 2060: 3970, 2059: 3971, 2057: 3972, 2058: 3973, 2056: 3974, 2055: 3975, 2054: 3976, 2053: 3977, 2052: 3978, 2051: 3979, 2050: 3980, 2049: 3981, 2048: 3982, 2047: 3983, 2046: 3984, 2044: 3985, 2045: 3986, 2043: 3987, 2042: 3988, 2041: 3989, 2039: 3990, 2040: 3991, 2038: 3992, 2036: 3993, 2037: 3994, 2035: 3995, 2034: 3996, 2033: 3997, 2032: 3998, 2031: 3999, 2030: 4000, 2029: 4001, 2028: 4002, 2027: 4003, 2026: 4004, 2025: 4005, 2024: 4006, 2023: 4007, 2022: 4008, 2020: 4009, 2021: 4010, 2019: 4011, 2018: 4012, 2017: 4013, 2016: 4014, 2015: 4015, 2014: 4016, 2013: 4017, 2012: 4018, 2011: 4019, 2010: 4020, 2009: 4021, 2008: 4022, 2005: 4023, 2007: 4024, 2006: 4025, 2004: 4026, 2002: 4027, 2003: 4028, 2001: 4029, 2000: 4030, 1999: 4031, 1998: 4032, 1997: 4033, 1996: 4034, 1995: 4035, 1994: 4036, 1993: 4037, 1992: 4038, 1991: 4039, 1990: 4040, 1989: 4041, 1988: 4042, 1985: 4043, 1986: 4044, 1987: 4045, 1983: 4046, 1984: 4047, 1982: 4048, 1981: 4049, 1980: 4050, 1979: 4051, 1978: 4052, 1977: 4053, 1974: 4054, 1975: 4055, 1973: 4056, 1976: 4057, 1971: 4058, 1972: 4059, 1969: 4060, 1968: 4061, 1967: 4062, 1970: 4063, 1966: 4064, 1965: 4065, 1964: 4066, 1963: 4067, 1962: 4068, 1961: 4069, 1960: 4070, 1959: 4071, 1958: 4072, 1957: 4073, 1956: 4074, 1955: 4075, 1952: 4076, 1951: 4077, 1954: 4078, 1948: 4079, 1945: 4080, 1953: 4081, 1937: 4082, 1949: 4083, 1943: 4084, 1946: 4085, 1941: 4086, 1942: 4087, 1938: 4088, 1935: 4089, 1939: 4090, 1950: 4091, 1947: 4092, 1940: 4093, 1934: 4094, 1944: 4095, 1931: 4096, 1928: 4097, 1926: 4098, 1929: 4099, 1927: 4100, 1924: 4101, 1923: 4102, 1925: 4103, 1921: 4104, 1920: 4105, 1922: 4106, 1936: 4107, 1919: 4108, 1917: 4109, 1918: 4110, 1916: 4111, 1914: 4112, 1930: 4113, 1911: 4114, 1904: 4115, 1909: 4116, 1905: 4117, 1906: 4118, 1903: 4119, 1908: 4120, 1907: 4121, 1902: 4122, 1901: 4123, 1900: 4124, 1933: 4125, 1915: 4126, 1910: 4127, 1894: 4128, 1896: 4129, 1898: 4130, 1899: 4131, 1893: 4132, 1892: 4133, 1895: 4134, 1891: 4135, 1913: 4136, 1889: 4137, 1890: 4138, 1888: 4139, 1886: 4140, 1885: 4141, 1897: 4142, 1887: 4143, 1882: 4144, 1881: 4145, 1880: 4146, 1883: 4147, 1879: 4148, 1884: 4149, 1932: 4150, 1878: 4151, 1876: 4152, 1873: 4153, 1874: 4154, 1872: 4155, 1871: 4156, 1870: 4157, 1869: 4158, 1868: 4159, 1867: 4160, 1866: 4161, 1865: 4162, 1864: 4163, 1863: 4164, 1862: 4165, 1861: 4166, 1859: 4167, 1860: 4168, 1858: 4169, 1857: 4170, 1856: 4171, 1855: 4172, 1854: 4173, 1852: 4174, 1850: 4175, 1849: 4176, 1846: 4177, 1844: 4178, 1843: 4179, 1848: 4180, 1847: 4181, 1851: 4182, 1842: 4183, 1840: 4184, 1839: 4185, 1841: 4186, 1838: 4187, 1837: 4188, 1833: 4189, 1835: 4190, 1834: 4191, 1824: 4192, 1836: 4193, 1832: 4194, 1845: 4195, 1830: 4196, 1822: 4197, 1823: 4198, 1827: 4199, 1829: 4200, 1820: 4201, 1826: 4202, 1818: 4203, 1817: 4204, 1819: 4205, 1816: 4206, 1814: 4207, 1828: 4208, 1812: 4209, 1811: 4210, 1813: 4211, 1821: 4212, 1809: 4213, 1810: 4214, 1808: 4215, 1831: 4216, 1805: 4217, 1804: 4218, 1806: 4219, 1807: 4220, 1803: 4221, 1815: 4222, 1801: 4223, 1800: 4224, 1802: 4225, 1798: 4226, 1799: 4227, 1797: 4228, 1796: 4229, 1793: 4230, 1795: 4231, 1792: 4232, 1794: 4233, 1791: 4234, 1787: 4235, 1875: 4236, 1789: 4237, 1788: 4238, 1790: 4239, 1784: 4240, 1783: 4241, 1785: 4242, 1782: 4243, 1781: 4244, 1780: 4245, 1778: 4246, 1779: 4247, 1786: 4248, 1777: 4249, 1773: 4250, 1776: 4251, 1775: 4252, 1772: 4253, 1774: 4254, 1769: 4255, 1771: 4256, 1770: 4257, 1767: 4258, 1768: 4259, 1762: 4260, 1766: 4261, 1764: 4262, 1763: 4263, 1765: 4264, 1760: 4265, 1759: 4266, 1756: 4267, 1758: 4268, 1757: 4269, 1755: 4270, 1912: 4271, 1752: 4272, 1753: 4273, 1751: 4274, 1761: 4275, 1749: 4276, 1750: 4277, 1754: 4278, 1746: 4279, 1747: 4280, 1745: 4281, 1748: 4282, 1744: 4283, 1743: 4284, 1742: 4285, 1740: 4286, 1739: 4287, 1738: 4288, 1737: 4289, 1736: 4290, 1735: 4291, 1734: 4292, 1733: 4293, 1732: 4294, 1729: 4295, 1730: 4296, 1728: 4297, 1731: 4298, 1725: 4299, 1726: 4300, 1727: 4301, 1722: 4302, 1719: 4303, 1720: 4304, 1724: 4305, 1723: 4306, 1718: 4307, 1717: 4308, 1721: 4309, 1715: 4310, 1741: 4311, 1714: 4312, 1713: 4313, 1712: 4314, 1716: 4315, 1710: 4316, 1708: 4317, 1709: 4318, 1711: 4319, 1707: 4320, 1706: 4321, 1705: 4322, 1704: 4323, 1703: 4324, 1700: 4325, 1701: 4326, 1698: 4327, 1697: 4328, 1702: 4329, 1695: 4330, 1699: 4331, 1694: 4332, 1696: 4333, 1693: 4334, 1691: 4335, 1692: 4336, 1688: 4337, 1687: 4338, 1686: 4339, 1685: 4340, 1684: 4341, 1689: 4342, 1682: 4343, 1683: 4344, 1681: 4345, 1690: 4346, 1680: 4347, 1679: 4348, 1678: 4349, 1676: 4350, 1677: 4351, 1675: 4352, 1674: 4353, 1672: 4354, 1669: 4355, 1671: 4356, 1668: 4357, 1673: 4358, 1670: 4359, 1667: 4360, 1666: 4361, 1665: 4362, 1664: 4363, 1663: 4364, 1662: 4365, 1660: 4366, 1661: 4367, 1659: 4368, 1658: 4369, 1654: 4370, 1655: 4371, 1657: 4372, 1656: 4373, 1653: 4374, 1652: 4375, 1651: 4376, 1649: 4377, 1648: 4378, 1647: 4379, 1646: 4380, 1650: 4381, 1645: 4382, 1644: 4383, 1641: 4384, 1643: 4385, 1642: 4386, 1640: 4387, 1639: 4388, 1638: 4389, 1637: 4390, 1636: 4391, 1634: 4392, 1635: 4393, 1632: 4394, 1633: 4395, 1631: 4396, 1628: 4397, 1629: 4398, 1630: 4399, 1627: 4400, 1626: 4401, 1625: 4402, 1624: 4403, 1623: 4404, 1622: 4405, 1621: 4406, 1620: 4407, 1617: 4408, 1618: 4409, 1619: 4410, 1616: 4411, 1614: 4412, 1615: 4413, 1613: 4414, 1611: 4415, 1610: 4416, 1612: 4417, 1609: 4418, 1608: 4419, 1825: 4420, 1607: 4421, 1606: 4422, 1605: 4423, 1604: 4424, 1603: 4425, 1602: 4426, 1601: 4427, 1600: 4428, 1599: 4429, 1598: 4430, 1597: 4431, 1596: 4432, 1595: 4433, 1594: 4434, 1593: 4435, 1592: 4436, 1591: 4437, 1590: 4438, 1589: 4439, 1588: 4440, 1587: 4441, 1586: 4442, 1585: 4443, 1584: 4444, 1583: 4445, 1579: 4446, 1582: 4447, 1580: 4448, 1578: 4449, 1577: 4450, 1576: 4451, 1574: 4452, 1575: 4453, 1573: 4454, 1571: 4455, 1572: 4456, 1570: 4457, 1569: 4458, 1568: 4459, 1567: 4460, 1566: 4461, 1564: 4462, 1565: 4463, 1563: 4464, 1562: 4465, 1560: 4466, 1559: 4467, 1558: 4468, 1561: 4469, 1555: 4470, 1556: 4471, 1554: 4472, 1553: 4473, 1552: 4474, 1550: 4475, 1549: 4476, 1548: 4477, 1551: 4478, 1547: 4479, 1546: 4480, 1545: 4481, 1544: 4482, 1543: 4483, 1542: 4484, 1540: 4485, 1541: 4486, 1539: 4487, 1538: 4488, 1537: 4489, 1535: 4490, 1536: 4491, 1533: 4492, 1532: 4493, 1531: 4494, 1530: 4495, 1529: 4496, 1528: 4497, 1527: 4498, 1534: 4499, 1526: 4500, 1525: 4501, 1524: 4502, 1523: 4503, 1521: 4504, 1522: 4505, 1520: 4506, 1519: 4507, 1518: 4508, 1517: 4509, 1516: 4510, 1515: 4511, 1514: 4512, 1513: 4513, 1512: 4514, 1511: 4515, 1510: 4516, 1509: 4517, 1508: 4518, 1507: 4519, 1506: 4520, 1581: 4521, 1504: 4522, 1503: 4523, 1501: 4524, 1500: 4525, 1502: 4526, 1499: 4527, 1497: 4528, 1498: 4529, 1495: 4530, 1493: 4531, 1494: 4532, 1492: 4533, 1491: 4534, 1496: 4535, 1490: 4536, 1489: 4537, 1488: 4538, 1487: 4539, 1486: 4540, 1484: 4541, 1485: 4542, 1483: 4543, 1482: 4544, 1479: 4545, 1481: 4546, 1478: 4547, 1476: 4548, 1477: 4549, 1474: 4550, 1473: 4551, 1475: 4552, 1472: 4553, 1470: 4554, 1471: 4555, 1469: 4556, 1467: 4557, 1468: 4558, 1480: 4559, 1466: 4560, 1465: 4561, 1463: 4562, 1464: 4563, 1462: 4564, 1461: 4565, 1460: 4566, 1459: 4567, 1458: 4568, 1457: 4569, 1456: 4570, 1454: 4571, 1453: 4572, 1452: 4573, 1451: 4574, 1455: 4575, 1450: 4576, 1446: 4577, 1448: 4578, 1445: 4579, 1447: 4580, 1449: 4581, 1443: 4582, 1444: 4583, 1442: 4584, 1441: 4585, 1440: 4586, 1439: 4587, 1438: 4588, 1437: 4589, 1436: 4590, 1435: 4591, 1434: 4592, 1433: 4593, 1432: 4594, 1430: 4595, 1429: 4596, 1431: 4597, 1427: 4598, 1426: 4599, 1423: 4600, 1425: 4601, 1424: 4602, 1422: 4603, 1421: 4604, 1420: 4605, 1419: 4606, 1418: 4607, 1415: 4608, 1417: 4609, 1416: 4610, 1414: 4611, 1413: 4612, 1412: 4613, 1411: 4614, 1409: 4615, 1408: 4616, 1407: 4617, 1406: 4618, 1405: 4619, 1403: 4620, 1402: 4621, 1401: 4622, 1410: 4623, 1400: 4624, 1399: 4625, 1397: 4626, 1398: 4627, 1404: 4628, 1396: 4629, 1393: 4630, 1394: 4631, 1395: 4632, 1392: 4633, 1390: 4634, 1389: 4635, 1388: 4636, 1391: 4637, 1387: 4638, 1386: 4639, 1385: 4640, 1384: 4641, 1383: 4642, 1381: 4643, 1382: 4644, 1378: 4645, 1380: 4646, 1379: 4647, 1377: 4648, 1376: 4649, 1375: 4650, 1374: 4651, 1373: 4652, 1372: 4653, 1371: 4654, 1370: 4655, 1369: 4656, 1368: 4657, 1367: 4658, 1366: 4659, 1364: 4660, 1365: 4661, 1363: 4662, 1362: 4663, 1361: 4664, 1360: 4665, 1358: 4666, 1359: 4667, 1357: 4668, 1356: 4669, 1355: 4670, 1354: 4671, 1353: 4672, 1352: 4673, 1351: 4674, 1349: 4675, 1350: 4676, 1348: 4677, 1347: 4678, 1346: 4679, 1345: 4680, 1344: 4681, 1343: 4682, 1342: 4683, 1341: 4684, 1340: 4685, 1338: 4686, 1339: 4687, 1337: 4688, 1336: 4689, 1335: 4690, 1334: 4691, 1333: 4692, 1332: 4693, 1330: 4694, 1331: 4695, 1329: 4696, 1328: 4697, 1325: 4698, 1326: 4699, 1324: 4700, 1327: 4701, 1322: 4702, 1323: 4703, 1321: 4704, 1320: 4705, 1319: 4706, 1316: 4707, 1317: 4708, 1318: 4709, 1315: 4710, 1314: 4711, 1313: 4712, 1312: 4713, 1311: 4714, 1310: 4715, 1309: 4716, 1308: 4717, 1307: 4718, 1306: 4719, 1305: 4720, 1304: 4721, 1303: 4722, 1301: 4723, 1299: 4724, 1300: 4725, 1302: 4726, 1298: 4727, 1297: 4728, 1296: 4729, 1295: 4730, 1293: 4731, 1294: 4732, 1292: 4733, 1291: 4734, 1290: 4735, 1289: 4736, 1288: 4737, 1286: 4738, 1285: 4739, 1284: 4740, 1282: 4741, 1281: 4742, 1280: 4743, 1279: 4744, 1283: 4745, 1278: 4746, 1277: 4747, 1276: 4748, 1275: 4749, 1274: 4750, 1273: 4751, 1272: 4752, 1271: 4753, 1270: 4754, 1269: 4755, 1268: 4756, 1267: 4757, 1266: 4758, 1264: 4759, 1263: 4760, 1262: 4761, 1261: 4762, 1260: 4763, 1259: 4764, 1557: 4765, 1258: 4766, 1255: 4767, 1256: 4768, 1257: 4769, 1254: 4770, 1253: 4771, 1252: 4772, 1251: 4773, 1250: 4774, 1249: 4775, 1247: 4776, 1248: 4777, 1246: 4778, 1245: 4779, 1244: 4780, 1243: 4781, 1242: 4782, 1241: 4783, 1240: 4784, 1239: 4785, 1237: 4786, 1238: 4787, 1236: 4788, 1235: 4789, 1234: 4790, 1233: 4791, 1232: 4792, 1230: 4793, 1229: 4794, 1227: 4795, 1231: 4796, 1228: 4797, 1226: 4798, 1225: 4799, 1223: 4800, 1222: 4801, 1224: 4802, 1221: 4803, 1220: 4804, 1219: 4805, 1218: 4806, 1217: 4807, 1216: 4808, 1215: 4809, 1214: 4810, 1212: 4811, 1211: 4812, 1213: 4813, 1210: 4814, 1209: 4815, 1208: 4816, 1207: 4817, 1206: 4818, 1205: 4819, 1204: 4820, 1203: 4821, 1202: 4822, 1201: 4823, 1200: 4824, 1199: 4825, 1197: 4826, 1196: 4827, 1195: 4828, 1194: 4829, 1193: 4830, 1192: 4831, 1190: 4832, 1191: 4833, 1189: 4834, 1188: 4835, 1186: 4836, 1185: 4837, 1187: 4838, 1184: 4839, 1183: 4840, 1182: 4841, 1181: 4842, 1180: 4843, 1179: 4844, 1178: 4845, 1177: 4846, 1176: 4847, 1175: 4848, 1174: 4849, 1173: 4850, 1172: 4851, 1171: 4852, 1170: 4853, 1169: 4854, 1168: 4855, 1167: 4856, 1166: 4857, 1163: 4858, 1164: 4859, 1162: 4860, 1161: 4861, 1159: 4862, 1157: 4863, 1158: 4864, 1156: 4865, 1155: 4866, 1154: 4867, 1153: 4868, 1151: 4869, 1152: 4870, 1853: 4871, 1150: 4872, 1149: 4873, 1148: 4874, 1147: 4875, 1146: 4876, 1145: 4877, 1144: 4878, 1143: 4879, 1141: 4880, 1142: 4881, 1139: 4882, 1140: 4883, 1138: 4884, 1137: 4885, 1136: 4886, 1135: 4887, 1134: 4888, 1133: 4889, 1132: 4890, 1131: 4891, 1130: 4892, 1128: 4893, 1129: 4894, 1127: 4895, 1126: 4896, 1125: 4897, 1124: 4898, 1123: 4899, 1122: 4900, 1121: 4901, 1120: 4902, 1119: 4903, 1117: 4904, 1116: 4905, 1115: 4906, 1114: 4907, 1113: 4908, 1112: 4909, 1111: 4910, 1108: 4911, 1110: 4912, 1109: 4913, 1107: 4914, 1106: 4915, 1105: 4916, 1104: 4917, 1103: 4918, 1102: 4919, 1101: 4920, 1100: 4921, 1099: 4922, 1118: 4923, 1098: 4924, 1097: 4925, 1096: 4926, 1095: 4927, 1094: 4928, 1093: 4929, 1092: 4930, 1091: 4931, 1090: 4932, 1089: 4933, 1088: 4934, 1087: 4935, 1086: 4936, 1085: 4937, 1084: 4938, 1083: 4939, 1081: 4940, 1082: 4941, 1080: 4942, 1079: 4943, 1078: 4944, 1077: 4945, 1075: 4946, 1076: 4947, 1074: 4948, 1073: 4949, 1071: 4950, 1070: 4951, 1072: 4952, 1069: 4953, 1068: 4954, 1067: 4955, 1198: 4956, 1066: 4957, 1065: 4958, 1064: 4959, 1063: 4960, 1062: 4961, 1061: 4962, 1060: 4963, 1059: 4964, 1058: 4965, 1057: 4966, 1056: 4967, 1055: 4968, 1054: 4969, 1053: 4970, 1505: 4971, 1052: 4972, 1051: 4973, 1050: 4974, 1049: 4975, 1048: 4976, 1047: 4977, 1046: 4978, 1045: 4979, 1044: 4980, 1043: 4981, 1042: 4982, 1041: 4983, 1040: 4984, 1039: 4985, 1038: 4986, 1037: 4987, 1036: 4988, 1035: 4989, 1034: 4990, 1033: 4991, 1032: 4992, 1031: 4993, 1030: 4994, 1029: 4995, 1028: 4996, 1027: 4997, 1025: 4998, 1026: 4999, 1024: 5000, 1023: 5001, 1022: 5002, 1021: 5003, 1020: 5004, 1019: 5005, 1018: 5006, 1017: 5007, 1016: 5008, 1015: 5009, 1014: 5010, 1013: 5011, 1011: 5012, 1010: 5013, 1009: 5014, 1008: 5015, 1007: 5016, 1006: 5017, 1005: 5018, 1003: 5019, 1002: 5020, 1004: 5021, 1001: 5022, 1000: 5023, 999: 5024, 998: 5025, 997: 5026, 996: 5027, 995: 5028, 994: 5029, 993: 5030, 992: 5031, 1012: 5032, 991: 5033, 990: 5034, 989: 5035, 988: 5036, 986: 5037, 987: 5038, 985: 5039, 984: 5040, 983: 5041, 982: 5042, 981: 5043, 980: 5044, 979: 5045, 977: 5046, 976: 5047, 975: 5048, 978: 5049, 974: 5050, 973: 5051, 972: 5052, 971: 5053, 970: 5054, 969: 5055, 968: 5056, 966: 5057, 967: 5058, 964: 5059, 965: 5060, 963: 5061, 962: 5062, 961: 5063, 960: 5064, 959: 5065, 958: 5066, 957: 5067, 956: 5068, 955: 5069, 954: 5070, 953: 5071, 952: 5072, 950: 5073, 951: 5074, 949: 5075, 948: 5076, 947: 5077, 946: 5078, 945: 5079, 944: 5080, 1428: 5081, 943: 5082, 942: 5083, 941: 5084, 940: 5085, 938: 5086, 939: 5087, 937: 5088, 936: 5089, 935: 5090, 934: 5091, 933: 5092, 932: 5093, 931: 5094, 930: 5095, 929: 5096, 928: 5097, 927: 5098, 2247: 5099, 926: 5100, 925: 5101, 924: 5102, 923: 5103, 922: 5104, 921: 5105, 920: 5106, 919: 5107, 917: 5108, 916: 5109, 918: 5110, 915: 5111, 914: 5112, 913: 5113, 912: 5114, 911: 5115, 910: 5116, 909: 5117, 908: 5118, 907: 5119, 906: 5120, 905: 5121, 904: 5122, 903: 5123, 902: 5124, 901: 5125, 900: 5126, 899: 5127, 898: 5128, 897: 5129, 896: 5130, 895: 5131, 894: 5132, 893: 5133, 892: 5134, 891: 5135, 890: 5136, 889: 5137, 887: 5138, 888: 5139, 886: 5140, 885: 5141, 884: 5142, 883: 5143, 882: 5144, 881: 5145, 880: 5146, 879: 5147, 878: 5148, 877: 5149, 876: 5150, 875: 5151, 874: 5152, 873: 5153, 872: 5154, 871: 5155, 870: 5156, 869: 5157, 868: 5158, 867: 5159, 866: 5160, 865: 5161, 864: 5162, 863: 5163, 862: 5164, 861: 5165, 860: 5166, 859: 5167, 858: 5168, 857: 5169, 856: 5170, 854: 5171, 853: 5172, 852: 5173, 851: 5174, 850: 5175, 849: 5176, 848: 5177, 847: 5178, 845: 5179, 846: 5180, 844: 5181, 842: 5182, 841: 5183, 843: 5184, 840: 5185, 839: 5186, 838: 5187, 837: 5188, 836: 5189, 835: 5190, 834: 5191, 833: 5192, 832: 5193, 831: 5194, 830: 5195, 829: 5196, 828: 5197, 827: 5198, 826: 5199, 825: 5200, 824: 5201, 823: 5202, 822: 5203, 1165: 5204, 821: 5205, 820: 5206, 819: 5207, 818: 5208, 817: 5209, 816: 5210, 814: 5211, 815: 5212, 813: 5213, 811: 5214, 810: 5215, 809: 5216, 808: 5217, 807: 5218, 812: 5219, 806: 5220, 805: 5221, 804: 5222, 803: 5223, 802: 5224, 801: 5225, 800: 5226, 799: 5227, 798: 5228, 797: 5229, 796: 5230, 795: 5231, 794: 5232, 793: 5233, 792: 5234, 791: 5235, 790: 5236, 789: 5237, 788: 5238, 786: 5239, 787: 5240, 785: 5241, 784: 5242, 783: 5243, 782: 5244, 781: 5245, 780: 5246, 779: 5247, 778: 5248, 777: 5249, 776: 5250, 775: 5251, 774: 5252, 773: 5253, 772: 5254, 771: 5255, 770: 5256, 769: 5257, 768: 5258, 767: 5259, 766: 5260, 765: 5261, 764: 5262, 763: 5263, 762: 5264, 761: 5265, 760: 5266, 759: 5267, 758: 5268, 757: 5269, 756: 5270, 755: 5271, 754: 5272, 753: 5273, 752: 5274, 751: 5275, 750: 5276, 749: 5277, 748: 5278, 855: 5279, 747: 5280, 746: 5281, 745: 5282, 744: 5283, 743: 5284, 742: 5285, 741: 5286, 740: 5287, 739: 5288, 738: 5289, 737: 5290, 736: 5291, 735: 5292, 734: 5293, 733: 5294, 732: 5295, 731: 5296, 730: 5297, 729: 5298, 728: 5299, 727: 5300, 726: 5301, 725: 5302, 724: 5303, 723: 5304, 722: 5305, 721: 5306, 720: 5307, 719: 5308, 718: 5309, 717: 5310, 716: 5311, 715: 5312, 714: 5313, 713: 5314, 712: 5315, 711: 5316, 710: 5317, 709: 5318, 708: 5319, 707: 5320, 706: 5321, 705: 5322, 704: 5323, 703: 5324, 702: 5325, 701: 5326, 700: 5327, 699: 5328, 698: 5329, 697: 5330, 696: 5331, 695: 5332, 694: 5333, 693: 5334, 692: 5335, 691: 5336, 690: 5337, 689: 5338, 688: 5339, 687: 5340, 686: 5341, 685: 5342, 684: 5343, 682: 5344, 683: 5345, 681: 5346, 680: 5347, 679: 5348, 678: 5349, 677: 5350, 676: 5351, 675: 5352, 674: 5353, 673: 5354, 672: 5355, 671: 5356, 670: 5357, 669: 5358, 668: 5359, 667: 5360, 666: 5361, 665: 5362, 664: 5363, 663: 5364, 662: 5365, 661: 5366, 660: 5367, 659: 5368, 658: 5369, 657: 5370, 656: 5371, 655: 5372, 654: 5373, 653: 5374, 652: 5375, 651: 5376, 650: 5377, 649: 5378, 648: 5379, 647: 5380, 646: 5381, 645: 5382, 644: 5383, 643: 5384, 642: 5385, 641: 5386, 640: 5387, 639: 5388, 638: 5389, 637: 5390, 636: 5391, 635: 5392, 634: 5393, 633: 5394, 632: 5395, 631: 5396, 630: 5397, 628: 5398, 629: 5399, 627: 5400, 626: 5401, 625: 5402, 624: 5403, 623: 5404, 622: 5405, 621: 5406, 620: 5407, 619: 5408, 618: 5409, 617: 5410, 616: 5411, 615: 5412, 614: 5413, 613: 5414, 612: 5415, 611: 5416, 610: 5417, 609: 5418, 608: 5419, 607: 5420}} {'user_id': {0: 6040, 1: 6039, 2: 6038, 3: 6037, 4: 6036, 5: 6035, 6: 6034, 7: 6033, 8: 6032, 9: 6031, 10: 6030, 11: 6029, 12: 6028, 13: 6027, 14: 6026, 15: 6025, 16: 6024, 17: 6023, 18: 6022, 19: 6021, 20: 6020, 21: 6019, 22: 6018, 23: 6017, 24: 6016, 25: 6015, 26: 6014, 27: 6013, 28: 6012, 29: 6011, 30: 6010, 31: 6009, 32: 6007, 33: 6008, 34: 6006, 35: 6005, 36: 6004, 37: 6003, 38: 6002, 39: 6001, 40: 6000, 41: 5999, 42: 5998, 43: 5997, 44: 5996, 45: 5995, 46: 5994, 47: 5993, 48: 5992, 49: 5991, 50: 5990, 51: 5989, 52: 5988, 53: 5987, 54: 5986, 55: 5984, 56: 5983, 57: 5982, 58: 5981, 59: 5979, 60: 5980, 61: 5977, 62: 5976, 63: 5975, 64: 5974, 65: 5973, 66: 5972, 67: 5971, 68: 5978, 69: 5970, 70: 5969, 71: 5968, 72: 5967, 73: 5966, 74: 5965, 75: 5964, 76: 5963, 77: 5962, 78: 5961, 79: 5960, 80: 5959, 81: 5958, 82: 5957, 83: 5956, 84: 5955, 85: 5954, 86: 5953, 87: 5952, 88: 5951, 89: 5950, 90: 5948, 91: 5947, 92: 5946, 93: 5945, 94: 5944, 95: 5943, 96: 5942, 97: 5941, 98: 5940, 99: 5939, 100: 5938, 101: 5937, 102: 5949, 103: 5936, 104: 5935, 105: 5934, 106: 5933, 107: 5932, 108: 5931, 109: 5930, 110: 5929, 111: 5928, 112: 5927, 113: 5926, 114: 5925, 115: 5924, 116: 5923, 117: 5922, 118: 5921, 119: 5920, 120: 5919, 121: 5918, 122: 5917, 123: 5916, 124: 5915, 125: 5914, 126: 5913, 127: 5912, 128: 5911, 129: 5910, 130: 5909, 131: 5908, 132: 5907, 133: 5906, 134: 5905, 135: 5904, 136: 5903, 137: 5902, 138: 5901, 139: 5900, 140: 5899, 141: 5898, 142: 5897, 143: 5896, 144: 5895, 145: 5894, 146: 5893, 147: 5892, 148: 5891, 149: 5890, 150: 5889, 151: 5888, 152: 5887, 153: 5886, 154: 5885, 155: 5884, 156: 5883, 157: 5881, 158: 5882, 159: 5880, 160: 5879, 161: 5878, 162: 5877, 163: 5876, 164: 5875, 165: 5874, 166: 5873, 167: 5872, 168: 5871, 169: 5870, 170: 5869, 171: 5868, 172: 5867, 173: 5866, 174: 5865, 175: 5864, 176: 5863, 177: 5862, 178: 5861, 179: 5860, 180: 5859, 181: 5858, 182: 5857, 183: 5856, 184: 5855, 185: 5854, 186: 5853, 187: 5852, 188: 5851, 189: 5849, 190: 5848, 191: 5847, 192: 5846, 193: 5845, 194: 5844, 195: 5843, 196: 5842, 197: 5841, 198: 5840, 199: 5839, 200: 5838, 201: 5837, 202: 5836, 203: 5835, 204: 5834, 205: 5833, 206: 5832, 207: 5831, 208: 5830, 209: 5828, 210: 5829, 211: 5827, 212: 5826, 213: 5825, 214: 5824, 215: 5823, 216: 5822, 217: 5821, 218: 5820, 219: 5819, 220: 5818, 221: 5817, 222: 5816, 223: 5815, 224: 5814, 225: 5813, 226: 5812, 227: 5811, 228: 5810, 229: 5809, 230: 5808, 231: 5807, 232: 5806, 233: 5805, 234: 5804, 235: 5803, 236: 5802, 237: 5801, 238: 5800, 239: 5799, 240: 5798, 241: 5797, 242: 5796, 243: 5795, 244: 5794, 245: 5793, 246: 5792, 247: 5791, 248: 5790, 249: 5789, 250: 5788, 251: 5787, 252: 5786, 253: 5785, 254: 5784, 255: 5783, 256: 5782, 257: 5781, 258: 5780, 259: 5779, 260: 5778, 261: 5777, 262: 5776, 263: 5775, 264: 5774, 265: 5773, 266: 5772, 267: 5771, 268: 5770, 269: 5769, 270: 5768, 271: 5767, 272: 5766, 273: 5765, 274: 5764, 275: 5763, 276: 5762, 277: 5761, 278: 5760, 279: 5759, 280: 5758, 281: 5757, 282: 5756, 283: 5755, 284: 5754, 285: 5753, 286: 5752, 287: 5751, 288: 5750, 289: 5749, 290: 5748, 291: 5747, 292: 5746, 293: 5745, 294: 5744, 295: 5743, 296: 5742, 297: 5741, 298: 5740, 299: 5739, 300: 5738, 301: 5737, 302: 5736, 303: 5735, 304: 5734, 305: 5733, 306: 5732, 307: 5731, 308: 5730, 309: 5729, 310: 5728, 311: 5727, 312: 5726, 313: 5725, 314: 5724, 315: 5723, 316: 5722, 317: 5721, 318: 5720, 319: 5719, 320: 5718, 321: 5717, 322: 5716, 323: 5715, 324: 5714, 325: 5713, 326: 5712, 327: 5711, 328: 5710, 329: 5709, 330: 5708, 331: 5707, 332: 5706, 333: 5705, 334: 5704, 335: 5703, 336: 5702, 337: 5701, 338: 5700, 339: 5699, 340: 5698, 341: 5697, 342: 5696, 343: 5695, 344: 5694, 345: 5693, 346: 5692, 347: 5691, 348: 5689, 349: 5690, 350: 5688, 351: 5687, 352: 5686, 353: 5685, 354: 5684, 355: 5683, 356: 5682, 357: 5681, 358: 5680, 359: 5679, 360: 5678, 361: 5676, 362: 5675, 363: 5674, 364: 5673, 365: 5672, 366: 5671, 367: 5670, 368: 5669, 369: 5668, 370: 5667, 371: 5666, 372: 5665, 373: 5664, 374: 5663, 375: 5662, 376: 5661, 377: 5660, 378: 5659, 379: 5658, 380: 5657, 381: 5656, 382: 5655, 383: 5654, 384: 5653, 385: 5652, 386: 5651, 387: 5650, 388: 5649, 389: 5648, 390: 5647, 391: 5646, 392: 5645, 393: 5644, 394: 5643, 395: 5642, 396: 5641, 397: 5677, 398: 5640, 399: 5639, 400: 5638, 401: 5637, 402: 5636, 403: 5635, 404: 5634, 405: 5633, 406: 5632, 407: 5631, 408: 5630, 409: 5629, 410: 5628, 411: 5627, 412: 5626, 413: 5625, 414: 5624, 415: 5623, 416: 5622, 417: 5621, 418: 5620, 419: 5619, 420: 5618, 421: 5617, 422: 5616, 423: 5615, 424: 5614, 425: 5613, 426: 5612, 427: 5611, 428: 5610, 429: 5609, 430: 5608, 431: 5607, 432: 5606, 433: 5605, 434: 5604, 435: 5603, 436: 5602, 437: 5601, 438: 5600, 439: 5599, 440: 5598, 441: 5597, 442: 5596, 443: 5595, 444: 5594, 445: 5593, 446: 5592, 447: 5591, 448: 5590, 449: 5589, 450: 5588, 451: 5587, 452: 5586, 453: 5585, 454: 5584, 455: 5583, 456: 5582, 457: 5581, 458: 5580, 459: 5578, 460: 5579, 461: 5577, 462: 5576, 463: 5575, 464: 5574, 465: 5573, 466: 5572, 467: 5571, 468: 5570, 469: 5569, 470: 5568, 471: 5567, 472: 5566, 473: 5565, 474: 5564, 475: 5563, 476: 5562, 477: 5561, 478: 5560, 479: 5559, 480: 5558, 481: 5557, 482: 5556, 483: 5555, 484: 5554, 485: 5553, 486: 5552, 487: 5551, 488: 5550, 489: 5549, 490: 5548, 491: 5547, 492: 5546, 493: 5545, 494: 5544, 495: 5543, 496: 5542, 497: 5541, 498: 5540, 499: 5539, 500: 5538, 501: 5537, 502: 5536, 503: 5535, 504: 5534, 505: 5533, 506: 5532, 507: 5531, 508: 5530, 509: 5529, 510: 5528, 511: 5527, 512: 5526, 513: 5525, 514: 5524, 515: 5523, 516: 5522, 517: 5521, 518: 5520, 519: 5519, 520: 5518, 521: 5517, 522: 5516, 523: 5515, 524: 5514, 525: 5513, 526: 5512, 527: 5511, 528: 5510, 529: 5509, 530: 5508, 531: 5507, 532: 5506, 533: 5505, 534: 5504, 535: 5503, 536: 5502, 537: 5501, 538: 5500, 539: 5499, 540: 5498, 541: 5497, 542: 5496, 543: 5495, 544: 5494, 545: 5493, 546: 5491, 547: 5490, 548: 5492, 549: 5489, 550: 5488, 551: 5487, 552: 5486, 553: 5485, 554: 5484, 555: 5483, 556: 5482, 557: 5481, 558: 5480, 559: 5479, 560: 5478, 561: 5477, 562: 5476, 563: 5474, 564: 5475, 565: 5473, 566: 5472, 567: 5471, 568: 5470, 569: 5469, 570: 5466, 571: 5468, 572: 5467, 573: 5465, 574: 5464, 575: 5463, 576: 5462, 577: 5461, 578: 5460, 579: 5459, 580: 5458, 581: 5457, 582: 5456, 583: 5455, 584: 5454, 585: 5453, 586: 5452, 587: 5451, 588: 5450, 589: 5449, 590: 5448, 591: 5447, 592: 5446, 593: 5445, 594: 5444, 595: 5443, 596: 5442, 597: 5441, 598: 5440, 599: 5439, 600: 5438, 601: 5437, 602: 5436, 603: 5435, 604: 5434, 605: 5433, 606: 5432, 607: 5431, 608: 5430, 609: 5429, 610: 5428, 611: 5427, 612: 5426, 613: 5425, 614: 5424, 615: 5423, 616: 5421, 617: 5420, 618: 5419, 619: 5418, 620: 5417, 621: 5416, 622: 5415, 623: 5414, 624: 5413, 625: 5412, 626: 5411, 627: 5410, 628: 5409, 629: 5408, 630: 5407, 631: 5406, 632: 5405, 633: 5422, 634: 5404, 635: 5403, 636: 5402, 637: 5401, 638: 5400, 639: 5399, 640: 5398, 641: 5397, 642: 5396, 643: 5395, 644: 5394, 645: 5393, 646: 5392, 647: 5391, 648: 5390, 649: 5389, 650: 5388, 651: 5387, 652: 5386, 653: 5385, 654: 5384, 655: 5383, 656: 5382, 657: 5381, 658: 5380, 659: 5379, 660: 5378, 661: 5377, 662: 5376, 663: 5375, 664: 5374, 665: 5373, 666: 5372, 667: 5371, 668: 5370, 669: 5369, 670: 5368, 671: 5366, 672: 5367, 673: 5365, 674: 5364, 675: 5363, 676: 5362, 677: 5361, 678: 5360, 679: 5359, 680: 5358, 681: 5357, 682: 5355, 683: 5356, 684: 5354, 685: 5353, 686: 5352, 687: 5985, 688: 5351, 689: 5350, 690: 5349, 691: 5348, 692: 5347, 693: 5346, 694: 5345, 695: 5344, 696: 5343, 697: 5342, 698: 5341, 699: 5340, 700: 5339, 701: 5338, 702: 5337, 703: 5336, 704: 5335, 705: 5334, 706: 5333, 707: 5332, 708: 5331, 709: 5330, 710: 5329, 711: 5328, 712: 5327, 713: 5326, 714: 5325, 715: 5324, 716: 5323, 717: 5322, 718: 5321, 719: 5320, 720: 5319, 721: 5318, 722: 5317, 723: 5316, 724: 5315, 725: 5314, 726: 5313, 727: 5312, 728: 5311, 729: 5310, 730: 5309, 731: 5308, 732: 5307, 733: 5306, 734: 5305, 735: 5304, 736: 5303, 737: 5302, 738: 5301, 739: 5300, 740: 5299, 741: 5298, 742: 5297, 743: 5296, 744: 5295, 745: 5294, 746: 5293, 747: 5292, 748: 5291, 749: 5290, 750: 5289, 751: 5288, 752: 5287, 753: 5286, 754: 5285, 755: 5284, 756: 5283, 757: 5282, 758: 5281, 759: 5280, 760: 5279, 761: 5278, 762: 5277, 763: 5276, 764: 5275, 765: 5274, 766: 5273, 767: 5272, 768: 5271, 769: 5270, 770: 5269, 771: 5268, 772: 5267, 773: 5266, 774: 5265, 775: 5264, 776: 5263, 777: 5262, 778: 5261, 779: 5260, 780: 5259, 781: 5258, 782: 5257, 783: 5256, 784: 5255, 785: 5254, 786: 5253, 787: 5252, 788: 5251, 789: 5250, 790: 5249, 791: 5248, 792: 5247, 793: 5246, 794: 5245, 795: 5244, 796: 5243, 797: 5242, 798: 5241, 799: 5240, 800: 5239, 801: 5238, 802: 5237, 803: 5236, 804: 5235, 805: 5234, 806: 5233, 807: 5232, 808: 5231, 809: 5230, 810: 5229, 811: 5228, 812: 5227, 813: 5225, 814: 5224, 815: 5223, 816: 5222, 817: 5221, 818: 5220, 819: 5219, 820: 5218, 821: 5217, 822: 5216, 823: 5215, 824: 5214, 825: 5213, 826: 5226, 827: 5212, 828: 5211, 829: 5210, 830: 5209, 831: 5208, 832: 5207, 833: 5206, 834: 5205, 835: 5204, 836: 5203, 837: 5202, 838: 5201, 839: 5200, 840: 5199, 841: 5198, 842: 5197, 843: 5196, 844: 5195, 845: 5194, 846: 5193, 847: 5192, 848: 5191, 849: 5190, 850: 5189, 851: 5188, 852: 5187, 853: 5186, 854: 5185, 855: 5184, 856: 5183, 857: 5182, 858: 5181, 859: 5180, 860: 5179, 861: 5178, 862: 5177, 863: 5176, 864: 5175, 865: 5174, 866: 5173, 867: 5171, 868: 5170, 869: 5169, 870: 5168, 871: 5167, 872: 5165, 873: 5166, 874: 5164, 875: 5163, 876: 5162, 877: 5161, 878: 5160, 879: 5159, 880: 5158, 881: 5156, 882: 5157, 883: 5155, 884: 5154, 885: 5153, 886: 5152, 887: 5151, 888: 5150, 889: 5149, 890: 5148, 891: 5147, 892: 5146, 893: 5145, 894: 5144, 895: 5143, 896: 5142, 897: 5141, 898: 5140, 899: 5139, 900: 5138, 901: 5137, 902: 5136, 903: 5135, 904: 5134, 905: 5133, 906: 5132, 907: 5131, 908: 5130, 909: 5129, 910: 5128, 911: 5127, 912: 5126, 913: 5125, 914: 5124, 915: 5123, 916: 5122, 917: 5121, 918: 5120, 919: 5119, 920: 5118, 921: 5117, 922: 5116, 923: 5115, 924: 5114, 925: 5113, 926: 5112, 927: 5111, 928: 5110, 929: 5109, 930: 5108, 931: 5107, 932: 5106, 933: 5105, 934: 5104, 935: 5103, 936: 5102, 937: 5100, 938: 5101, 939: 5099, 940: 5098, 941: 5097, 942: 5096, 943: 5095, 944: 5094, 945: 5093, 946: 5092, 947: 5091, 948: 5089, 949: 5090, 950: 5088, 951: 5087, 952: 5086, 953: 5085, 954: 5084, 955: 5083, 956: 5082, 957: 5081, 958: 5080, 959: 5079, 960: 5078, 961: 5077, 962: 5076, 963: 5075, 964: 5074, 965: 5073, 966: 5072, 967: 5071, 968: 5070, 969: 5068, 970: 5067, 971: 5066, 972: 5065, 973: 5064, 974: 5063, 975: 5062, 976: 5061, 977: 5060, 978: 5058, 979: 5059, 980: 5057, 981: 5056, 982: 5055, 983: 5054, 984: 5053, 985: 5052, 986: 5051, 987: 5050, 988: 5049, 989: 5048, 990: 5047, 991: 5046, 992: 5045, 993: 5044, 994: 5043, 995: 5042, 996: 5041, 997: 5040, 998: 5039, 999: 5038, 1000: 5037, 1001: 5036, 1002: 5035, 1003: 5034, 1004: 5033, 1005: 5032, 1006: 5031, 1007: 5030, 1008: 5029, 1009: 5028, 1010: 5027, 1011: 5026, 1012: 5025, 1013: 5069, 1014: 5024, 1015: 5023, 1016: 5022, 1017: 5021, 1018: 5020, 1019: 5019, 1020: 5018, 1021: 5017, 1022: 5016, 1023: 5015, 1024: 5013, 1025: 5014, 1026: 5012, 1027: 5011, 1028: 5010, 1029: 5008, 1030: 5009, 1031: 5007, 1032: 5006, 1033: 5005, 1034: 5004, 1035: 5003, 1036: 5002, 1037: 5001, 1038: 5000, 1039: 4999, 1040: 4998, 1041: 4996, 1042: 4997, 1043: 4995, 1044: 4993, 1045: 4994, 1046: 4992, 1047: 4991, 1048: 4990, 1049: 4989, 1050: 4988, 1051: 4986, 1052: 4987, 1053: 4985, 1054: 4984, 1055: 4983, 1056: 4982, 1057: 4981, 1058: 4980, 1059: 4979, 1060: 4978, 1061: 4977, 1062: 4976, 1063: 4975, 1064: 4974, 1065: 4973, 1066: 4972, 1067: 4971, 1068: 4970, 1069: 4969, 1070: 4968, 1071: 4967, 1072: 4966, 1073: 4965, 1074: 4964, 1075: 4963, 1076: 4962, 1077: 4961, 1078: 4960, 1079: 4959, 1080: 4958, 1081: 4957, 1082: 4956, 1083: 4955, 1084: 4954, 1085: 4953, 1086: 4952, 1087: 4951, 1088: 4950, 1089: 4949, 1090: 4948, 1091: 4947, 1092: 4946, 1093: 4944, 1094: 4943, 1095: 4945, 1096: 4942, 1097: 4941, 1098: 4940, 1099: 4939, 1100: 4938, 1101: 4937, 1102: 4936, 1103: 4935, 1104: 4934, 1105: 4933, 1106: 4932, 1107: 4931, 1108: 4930, 1109: 4929, 1110: 4928, 1111: 4927, 1112: 4926, 1113: 4925, 1114: 4924, 1115: 4923, 1116: 4922, 1117: 4921, 1118: 4920, 1119: 4919, 1120: 4918, 1121: 4917, 1122: 4916, 1123: 4915, 1124: 4914, 1125: 4913, 1126: 4912, 1127: 4911, 1128: 4910, 1129: 4909, 1130: 4908, 1131: 4907, 1132: 4906, 1133: 4905, 1134: 4904, 1135: 4903, 1136: 4902, 1137: 4901, 1138: 4900, 1139: 4899, 1140: 4898, 1141: 4897, 1142: 5172, 1143: 4895, 1144: 4894, 1145: 4893, 1146: 4892, 1147: 4891, 1148: 4890, 1149: 4889, 1150: 4888, 1151: 4887, 1152: 4886, 1153: 4885, 1154: 4884, 1155: 4883, 1156: 4882, 1157: 4881, 1158: 4880, 1159: 4879, 1160: 4878, 1161: 4877, 1162: 4876, 1163: 4875, 1164: 4874, 1165: 4873, 1166: 4871, 1167: 4872, 1168: 4870, 1169: 4869, 1170: 4868, 1171: 4867, 1172: 4866, 1173: 4865, 1174: 4864, 1175: 4863, 1176: 4862, 1177: 4861, 1178: 4860, 1179: 4859, 1180: 4858, 1181: 4857, 1182: 4856, 1183: 4855, 1184: 4854, 1185: 4853, 1186: 4852, 1187: 4851, 1188: 4849, 1189: 4848, 1190: 4850, 1191: 4847, 1192: 4846, 1193: 4845, 1194: 4844, 1195: 4843, 1196: 4842, 1197: 4841, 1198: 4840, 1199: 4839, 1200: 4838, 1201: 4837, 1202: 4836, 1203: 4835, 1204: 4834, 1205: 4833, 1206: 4832, 1207: 4831, 1208: 4830, 1209: 4829, 1210: 4828, 1211: 4827, 1212: 4826, 1213: 4825, 1214: 4824, 1215: 4823, 1216: 4822, 1217: 4821, 1218: 4820, 1219: 4819, 1220: 4818, 1221: 4817, 1222: 4816, 1223: 4815, 1224: 4814, 1225: 4813, 1226: 4812, 1227: 4811, 1228: 4810, 1229: 4809, 1230: 4808, 1231: 4807, 1232: 4806, 1233: 4805, 1234: 4804, 1235: 4803, 1236: 4802, 1237: 4801, 1238: 4800, 1239: 4799, 1240: 4798, 1241: 4797, 1242: 4796, 1243: 4795, 1244: 4794, 1245: 4793, 1246: 4792, 1247: 4791, 1248: 4790, 1249: 4788, 1250: 4789, 1251: 4787, 1252: 4786, 1253: 4785, 1254: 4784, 1255: 4783, 1256: 4782, 1257: 4781, 1258: 4780, 1259: 4779, 1260: 4778, 1261: 4777, 1262: 4776, 1263: 4775, 1264: 4774, 1265: 4773, 1266: 4772, 1267: 4771, 1268: 4770, 1269: 4769, 1270: 4768, 1271: 4767, 1272: 4766, 1273: 4765, 1274: 4764, 1275: 4763, 1276: 4762, 1277: 4761, 1278: 4760, 1279: 4759, 1280: 4758, 1281: 4757, 1282: 4756, 1283: 4755, 1284: 4754, 1285: 4753, 1286: 4752, 1287: 4751, 1288: 4750, 1289: 4749, 1290: 4748, 1291: 4747, 1292: 4746, 1293: 4745, 1294: 4744, 1295: 4743, 1296: 4742, 1297: 4741, 1298: 4740, 1299: 4739, 1300: 4738, 1301: 4737, 1302: 4736, 1303: 4735, 1304: 4734, 1305: 4733, 1306: 4732, 1307: 4731, 1308: 4730, 1309: 4729, 1310: 4728, 1311: 4727, 1312: 4726, 1313: 4725, 1314: 4724, 1315: 4723, 1316: 4722, 1317: 4721, 1318: 4720, 1319: 4719, 1320: 4718, 1321: 4716, 1322: 4715, 1323: 4714, 1324: 4713, 1325: 4712, 1326: 4711, 1327: 4717, 1328: 4710, 1329: 4709, 1330: 4708, 1331: 4707, 1332: 4706, 1333: 4705, 1334: 4704, 1335: 4703, 1336: 4702, 1337: 4701, 1338: 4700, 1339: 4699, 1340: 4698, 1341: 4697, 1342: 4696, 1343: 4695, 1344: 4694, 1345: 4693, 1346: 4692, 1347: 4691, 1348: 4690, 1349: 4689, 1350: 4688, 1351: 4687, 1352: 4686, 1353: 4685, 1354: 4684, 1355: 4683, 1356: 4682, 1357: 4681, 1358: 4680, 1359: 4679, 1360: 4678, 1361: 4677, 1362: 4676, 1363: 4675, 1364: 4674, 1365: 4673, 1366: 4672, 1367: 4671, 1368: 4670, 1369: 4669, 1370: 4668, 1371: 4896, 1372: 4667, 1373: 4666, 1374: 4665, 1375: 4664, 1376: 4663, 1377: 4662, 1378: 4661, 1379: 4660, 1380: 4659, 1381: 4658, 1382: 4657, 1383: 4656, 1384: 4655, 1385: 4654, 1386: 4653, 1387: 4652, 1388: 4651, 1389: 4650, 1390: 4649, 1391: 4648, 1392: 4647, 1393: 4646, 1394: 4645, 1395: 4644, 1396: 4643, 1397: 4642, 1398: 4641, 1399: 4640, 1400: 4639, 1401: 4638, 1402: 4637, 1403: 4635, 1404: 4634, 1405: 4633, 1406: 4632, 1407: 4631, 1408: 4630, 1409: 4629, 1410: 4628, 1411: 4627, 1412: 4626, 1413: 4625, 1414: 4624, 1415: 4622, 1416: 4621, 1417: 4620, 1418: 4619, 1419: 4618, 1420: 4617, 1421: 4616, 1422: 4615, 1423: 4614, 1424: 4613, 1425: 4612, 1426: 4611, 1427: 4610, 1428: 4609, 1429: 4608, 1430: 4607, 1431: 4606, 1432: 4605, 1433: 4604, 1434: 4603, 1435: 4602, 1436: 4601, 1437: 4600, 1438: 4599, 1439: 4598, 1440: 4623, 1441: 4597, 1442: 4596, 1443: 4595, 1444: 4594, 1445: 4593, 1446: 4592, 1447: 4591, 1448: 4590, 1449: 4589, 1450: 4588, 1451: 4587, 1452: 4586, 1453: 4585, 1454: 4584, 1455: 4583, 1456: 4582, 1457: 4581, 1458: 4580, 1459: 4579, 1460: 4578, 1461: 4577, 1462: 4575, 1463: 4574, 1464: 4573, 1465: 4576, 1466: 4572, 1467: 4571, 1468: 4570, 1469: 4569, 1470: 4568, 1471: 4567, 1472: 4566, 1473: 4565, 1474: 4564, 1475: 4563, 1476: 4562, 1477: 4561, 1478: 4560, 1479: 4559, 1480: 4558, 1481: 4557, 1482: 4556, 1483: 4555, 1484: 4554, 1485: 4553, 1486: 4552, 1487: 4551, 1488: 4550, 1489: 4549, 1490: 4548, 1491: 4547, 1492: 4546, 1493: 4545, 1494: 4544, 1495: 4543, 1496: 4542, 1497: 4541, 1498: 4540, 1499: 4539, 1500: 4538, 1501: 4537, 1502: 4536, 1503: 4535, 1504: 4534, 1505: 4533, 1506: 4532, 1507: 4531, 1508: 4530, 1509: 4529, 1510: 4528, 1511: 4527, 1512: 4526, 1513: 4525, 1514: 4524, 1515: 4523, 1516: 4522, 1517: 4521, 1518: 4520, 1519: 4519, 1520: 4518, 1521: 4517, 1522: 4516, 1523: 4513, 1524: 4512, 1525: 4511, 1526: 4510, 1527: 4509, 1528: 4508, 1529: 4507, 1530: 4506, 1531: 4505, 1532: 4503, 1533: 4502, 1534: 4501, 1535: 4515, 1536: 4500, 1537: 4499, 1538: 4498, 1539: 4497, 1540: 4496, 1541: 4495, 1542: 4494, 1543: 4493, 1544: 4492, 1545: 4491, 1546: 4490, 1547: 4489, 1548: 4488, 1549: 4504, 1550: 4487, 1551: 4485, 1552: 4484, 1553: 4483, 1554: 4482, 1555: 4481, 1556: 4480, 1557: 4479, 1558: 4478, 1559: 4477, 1560: 4476, 1561: 4475, 1562: 4474, 1563: 4473, 1564: 4471, 1565: 4472, 1566: 4470, 1567: 4469, 1568: 4468, 1569: 4466, 1570: 4465, 1571: 4464, 1572: 4463, 1573: 4462, 1574: 4461, 1575: 4460, 1576: 4459, 1577: 4458, 1578: 4457, 1579: 4456, 1580: 4455, 1581: 4454, 1582: 4453, 1583: 4452, 1584: 4451, 1585: 4449, 1586: 4450, 1587: 4448, 1588: 4447, 1589: 4446, 1590: 4445, 1591: 4444, 1592: 4443, 1593: 4442, 1594: 4441, 1595: 4440, 1596: 4439, 1597: 4438, 1598: 4437, 1599: 4436, 1600: 4435, 1601: 4434, 1602: 4433, 1603: 4432, 1604: 4431, 1605: 4430, 1606: 4429, 1607: 4428, 1608: 4427, 1609: 4426, 1610: 4425, 1611: 4424, 1612: 4423, 1613: 4422, 1614: 4421, 1615: 4420, 1616: 4419, 1617: 4418, 1618: 4417, 1619: 4416, 1620: 4415, 1621: 4414, 1622: 4413, 1623: 4412, 1624: 4411, 1625: 4410, 1626: 4409, 1627: 4408, 1628: 4407, 1629: 4406, 1630: 4405, 1631: 4404, 1632: 4403, 1633: 4402, 1634: 4401, 1635: 4398, 1636: 4396, 1637: 4397, 1638: 4399, 1639: 4400, 1640: 4394, 1641: 4395, 1642: 4392, 1643: 4393, 1644: 4391, 1645: 4390, 1646: 4389, 1647: 4388, 1648: 4386, 1649: 4387, 1650: 4385, 1651: 4384, 1652: 4383, 1653: 4382, 1654: 4381, 1655: 4380, 1656: 4379, 1657: 4378, 1658: 4377, 1659: 4376, 1660: 4375, 1661: 4374, 1662: 4373, 1663: 4372, 1664: 4371, 1665: 4370, 1666: 4369, 1667: 4368, 1668: 4367, 1669: 4366, 1670: 4365, 1671: 4364, 1672: 4363, 1673: 4362, 1674: 4361, 1675: 4360, 1676: 4359, 1677: 4358, 1678: 4357, 1679: 4356, 1680: 4355, 1681: 4354, 1682: 4353, 1683: 4352, 1684: 4351, 1685: 4350, 1686: 4348, 1687: 4347, 1688: 4346, 1689: 4345, 1690: 4344, 1691: 4343, 1692: 4342, 1693: 4341, 1694: 4340, 1695: 4339, 1696: 4338, 1697: 4337, 1698: 4335, 1699: 4336, 1700: 4334, 1701: 4333, 1702: 4332, 1703: 4331, 1704: 4330, 1705: 4329, 1706: 4328, 1707: 4327, 1708: 4326, 1709: 4325, 1710: 4324, 1711: 4323, 1712: 4322, 1713: 4321, 1714: 4320, 1715: 4319, 1716: 4317, 1717: 4316, 1718: 4315, 1719: 4314, 1720: 4313, 1721: 4312, 1722: 4311, 1723: 4310, 1724: 4309, 1725: 4308, 1726: 4307, 1727: 4306, 1728: 4305, 1729: 4304, 1730: 4303, 1731: 4514, 1732: 4302, 1733: 4301, 1734: 4300, 1735: 4299, 1736: 4298, 1737: 4297, 1738: 4296, 1739: 4295, 1740: 4293, 1741: 4294, 1742: 4292, 1743: 4291, 1744: 4290, 1745: 4289, 1746: 4288, 1747: 4287, 1748: 4286, 1749: 4285, 1750: 4284, 1751: 4283, 1752: 4282, 1753: 4281, 1754: 4280, 1755: 4279, 1756: 4278, 1757: 4277, 1758: 4276, 1759: 4275, 1760: 4274, 1761: 4272, 1762: 4273, 1763: 4271, 1764: 4269, 1765: 4270, 1766: 4268, 1767: 4267, 1768: 4266, 1769: 4265, 1770: 4264, 1771: 4263, 1772: 4262, 1773: 4261, 1774: 4260, 1775: 4259, 1776: 4258, 1777: 4256, 1778: 4257, 1779: 4255, 1780: 4254, 1781: 4252, 1782: 4253, 1783: 4251, 1784: 4250, 1785: 4249, 1786: 4248, 1787: 4247, 1788: 4246, 1789: 4245, 1790: 4244, 1791: 4241, 1792: 4240, 1793: 4242, 1794: 4239, 1795: 4238, 1796: 4243, 1797: 4237, 1798: 4236, 1799: 4235, 1800: 4234, 1801: 4233, 1802: 4232, 1803: 4231, 1804: 4230, 1805: 4229, 1806: 4227, 1807: 4226, 1808: 4225, 1809: 4228, 1810: 4224, 1811: 4222, 1812: 4223, 1813: 4221, 1814: 4220, 1815: 4219, 1816: 4218, 1817: 4217, 1818: 4216, 1819: 4215, 1820: 4214, 1821: 4213, 1822: 4212, 1823: 4211, 1824: 4210, 1825: 4209, 1826: 4208, 1827: 4206, 1828: 4205, 1829: 4207, 1830: 4204, 1831: 4202, 1832: 4203, 1833: 4201, 1834: 4200, 1835: 4199, 1836: 4198, 1837: 4197, 1838: 4196, 1839: 4195, 1840: 4194, 1841: 4193, 1842: 4192, 1843: 4191, 1844: 4190, 1845: 4189, 1846: 4188, 1847: 4187, 1848: 4186, 1849: 4184, 1850: 4183, 1851: 4182, 1852: 4181, 1853: 4180, 1854: 4178, 1855: 4179, 1856: 4177, 1857: 4176, 1858: 4175, 1859: 4174, 1860: 4173, 1861: 4172, 1862: 4171, 1863: 4170, 1864: 4169, 1865: 4167, 1866: 4165, 1867: 4166, 1868: 4168, 1869: 4164, 1870: 4163, 1871: 4162, 1872: 4161, 1873: 4160, 1874: 4185, 1875: 4159, 1876: 4157, 1877: 4158, 1878: 4155, 1879: 4156, 1880: 4318, 1881: 4154, 1882: 4153, 1883: 4152, 1884: 4151, 1885: 4150, 1886: 4149, 1887: 4148, 1888: 4147, 1889: 4146, 1890: 4145, 1891: 4144, 1892: 4143, 1893: 4142, 1894: 4141, 1895: 4140, 1896: 4138, 1897: 4139, 1898: 4137, 1899: 4136, 1900: 4135, 1901: 4134, 1902: 4133, 1903: 4132, 1904: 4131, 1905: 4130, 1906: 4129, 1907: 4128, 1908: 4127, 1909: 4126, 1910: 4125, 1911: 4124, 1912: 4122, 1913: 4123, 1914: 4121, 1915: 4120, 1916: 4119, 1917: 4118, 1918: 4117, 1919: 4116, 1920: 4115, 1921: 4114, 1922: 4113, 1923: 4112, 1924: 4111, 1925: 4110, 1926: 4109, 1927: 4108, 1928: 4107, 1929: 4105, 1930: 4104, 1931: 4106, 1932: 4103, 1933: 4102, 1934: 4101, 1935: 4100, 1936: 4099, 1937: 4098, 1938: 4097, 1939: 4096, 1940: 4095, 1941: 4094, 1942: 4093, 1943: 4092, 1944: 4091, 1945: 4090, 1946: 4089, 1947: 4088, 1948: 4087, 1949: 4086, 1950: 4085, 1951: 4084, 1952: 4083, 1953: 4082, 1954: 4081, 1955: 4080, 1956: 4079, 1957: 4077, 1958: 4078, 1959: 4076, 1960: 4075, 1961: 4074, 1962: 4073, 1963: 4072, 1964: 4071, 1965: 4070, 1966: 4069, 1967: 4068, 1968: 4067, 1969: 4066, 1970: 4065, 1971: 4064, 1972: 4063, 1973: 4062, 1974: 4061, 1975: 4060, 1976: 4059, 1977: 4058, 1978: 4057, 1979: 4056, 1980: 4055, 1981: 4053, 1982: 4054, 1983: 4052, 1984: 4051, 1985: 4050, 1986: 4049, 1987: 4048, 1988: 4047, 1989: 4046, 1990: 4045, 1991: 4044, 1992: 4043, 1993: 4042, 1994: 4041, 1995: 4040, 1996: 4039, 1997: 4038, 1998: 4037, 1999: 4036, 2000: 4035, 2001: 4034, 2002: 4033, 2003: 4032, 2004: 4031, 2005: 4030, 2006: 4028, 2007: 4029, 2008: 4027, 2009: 4026, 2010: 4025, 2011: 4024, 2012: 4023, 2013: 4022, 2014: 4021, 2015: 4020, 2016: 4019, 2017: 4018, 2018: 4017, 2019: 4016, 2020: 4015, 2021: 4014, 2022: 4013, 2023: 4012, 2024: 4011, 2025: 4010, 2026: 4009, 2027: 4008, 2028: 4007, 2029: 4006, 2030: 4005, 2031: 4004, 2032: 4003, 2033: 4002, 2034: 4001, 2035: 4000, 2036: 3999, 2037: 3998, 2038: 3997, 2039: 3996, 2040: 3995, 2041: 3994, 2042: 3993, 2043: 3992, 2044: 3991, 2045: 3990, 2046: 3989, 2047: 3988, 2048: 3987, 2049: 3986, 2050: 3985, 2051: 3984, 2052: 3983, 2053: 3982, 2054: 3981, 2055: 3980, 2056: 3979, 2057: 3978, 2058: 3977, 2059: 3976, 2060: 3975, 2061: 3974, 2062: 3973, 2063: 3972, 2064: 3971, 2065: 3970, 2066: 3969, 2067: 3968, 2068: 3967, 2069: 3966, 2070: 3965, 2071: 3964, 2072: 3963, 2073: 3962, 2074: 3961, 2075: 3960, 2076: 3959, 2077: 3958, 2078: 3957, 2079: 3956, 2080: 3955, 2081: 3954, 2082: 3953, 2083: 3952, 2084: 3951, 2085: 3950, 2086: 3949, 2087: 3948, 2088: 3947, 2089: 3946, 2090: 3945, 2091: 3944, 2092: 3943, 2093: 3942, 2094: 3941, 2095: 3940, 2096: 3939, 2097: 3938, 2098: 3937, 2099: 3936, 2100: 3935, 2101: 3933, 2102: 3934, 2103: 3932, 2104: 3931, 2105: 3930, 2106: 3929, 2107: 3928, 2108: 3927, 2109: 3926, 2110: 3925, 2111: 3924, 2112: 3922, 2113: 3923, 2114: 3921, 2115: 3920, 2116: 3919, 2117: 3918, 2118: 3917, 2119: 3916, 2120: 3914, 2121: 3915, 2122: 3913, 2123: 3912, 2124: 3911, 2125: 3910, 2126: 3909, 2127: 3908, 2128: 3907, 2129: 3906, 2130: 3905, 2131: 3904, 2132: 3903, 2133: 3902, 2134: 3901, 2135: 3900, 2136: 3899, 2137: 3898, 2138: 3897, 2139: 3896, 2140: 3895, 2141: 3894, 2142: 3893, 2143: 3892, 2144: 3891, 2145: 3890, 2146: 3889, 2147: 3887, 2148: 3886, 2149: 3885, 2150: 3884, 2151: 3883, 2152: 3882, 2153: 3881, 2154: 3880, 2155: 3879, 2156: 3878, 2157: 3877, 2158: 3875, 2159: 3876, 2160: 3874, 2161: 3873, 2162: 3872, 2163: 3871, 2164: 3870, 2165: 3869, 2166: 3868, 2167: 3867, 2168: 3866, 2169: 3865, 2170: 3864, 2171: 3863, 2172: 3862, 2173: 3861, 2174: 3860, 2175: 3859, 2176: 3857, 2177: 3856, 2178: 3858, 2179: 3855, 2180: 3854, 2181: 3853, 2182: 3852, 2183: 3850, 2184: 3851, 2185: 3849, 2186: 3848, 2187: 3847, 2188: 3846, 2189: 3845, 2190: 3844, 2191: 3843, 2192: 3842, 2193: 3841, 2194: 3839, 2195: 3840, 2196: 3838, 2197: 3837, 2198: 3836, 2199: 3835, 2200: 3834, 2201: 3833, 2202: 3832, 2203: 3831, 2204: 3830, 2205: 3829, 2206: 3828, 2207: 3827, 2208: 3826, 2209: 3825, 2210: 3824, 2211: 3823, 2212: 3822, 2213: 3821, 2214: 3820, 2215: 3819, 2216: 3818, 2217: 3817, 2218: 3816, 2219: 3815, 2220: 3814, 2221: 3813, 2222: 3812, 2223: 3811, 2224: 3810, 2225: 3809, 2226: 3808, 2227: 3807, 2228: 3806, 2229: 3805, 2230: 3804, 2231: 3803, 2232: 3802, 2233: 3801, 2234: 3800, 2235: 3799, 2236: 3798, 2237: 3797, 2238: 3796, 2239: 3795, 2240: 3794, 2241: 3793, 2242: 3792, 2243: 3791, 2244: 3790, 2245: 3788, 2246: 3789, 2247: 3787, 2248: 3786, 2249: 3785, 2250: 3784, 2251: 3782, 2252: 3783, 2253: 3781, 2254: 3780, 2255: 3779, 2256: 3778, 2257: 3777, 2258: 3776, 2259: 3775, 2260: 3774, 2261: 3773, 2262: 3772, 2263: 3771, 2264: 3770, 2265: 3769, 2266: 3768, 2267: 3766, 2268: 3767, 2269: 3765, 2270: 3764, 2271: 3763, 2272: 3762, 2273: 3761, 2274: 3760, 2275: 3759, 2276: 3758, 2277: 3757, 2278: 3756, 2279: 3755, 2280: 3754, 2281: 3753, 2282: 3752, 2283: 3751, 2284: 3750, 2285: 3749, 2286: 3748, 2287: 3747, 2288: 3746, 2289: 3888, 2290: 3745, 2291: 3744, 2292: 3743, 2293: 3742, 2294: 3741, 2295: 3740, 2296: 3739, 2297: 3738, 2298: 3737, 2299: 3736, 2300: 3735, 2301: 3734, 2302: 3733, 2303: 3732, 2304: 3731, 2305: 3730, 2306: 3729, 2307: 3728, 2308: 3727, 2309: 3725, 2310: 3726, 2311: 3724, 2312: 3722, 2313: 3721, 2314: 3720, 2315: 3719, 2316: 3718, 2317: 3717, 2318: 3716, 2319: 3715, 2320: 3714, 2321: 3713, 2322: 3712, 2323: 3711, 2324: 3710, 2325: 3709, 2326: 3708, 2327: 3707, 2328: 3706, 2329: 3705, 2330: 3704, 2331: 3703, 2332: 3702, 2333: 3701, 2334: 3700, 2335: 3699, 2336: 3698, 2337: 3697, 2338: 3696, 2339: 3695, 2340: 3694, 2341: 3693, 2342: 3692, 2343: 3691, 2344: 3690, 2345: 3689, 2346: 3688, 2347: 3687, 2348: 3686, 2349: 3685, 2350: 3684, 2351: 3683, 2352: 3682, 2353: 3681, 2354: 3680, 2355: 3679, 2356: 3678, 2357: 3677, 2358: 3676, 2359: 3675, 2360: 3674, 2361: 3673, 2362: 3672, 2363: 3671, 2364: 3670, 2365: 3669, 2366: 3668, 2367: 3667, 2368: 3666, 2369: 3665, 2370: 3664, 2371: 3663, 2372: 3662, 2373: 3661, 2374: 3660, 2375: 3659, 2376: 3658, 2377: 3657, 2378: 3656, 2379: 3655, 2380: 3654, 2381: 3653, 2382: 3652, 2383: 3651, 2384: 3650, 2385: 3649, 2386: 3648, 2387: 3646, 2388: 3645, 2389: 3647, 2390: 3644, 2391: 3643, 2392: 3642, 2393: 3641, 2394: 3640, 2395: 3639, 2396: 3638, 2397: 3637, 2398: 3636, 2399: 3635, 2400: 3634, 2401: 3633, 2402: 3632, 2403: 3631, 2404: 3630, 2405: 3629, 2406: 3627, 2407: 3626, 2408: 3625, 2409: 3624, 2410: 3623, 2411: 3622, 2412: 3621, 2413: 3620, 2414: 3619, 2415: 3618, 2416: 3617, 2417: 3616, 2418: 3615, 2419: 3613, 2420: 3614, 2421: 3612, 2422: 3611, 2423: 3610, 2424: 3609, 2425: 3608, 2426: 3606, 2427: 3607, 2428: 3605, 2429: 3604, 2430: 3603, 2431: 3601, 2432: 3600, 2433: 3599, 2434: 3597, 2435: 3596, 2436: 3595, 2437: 3594, 2438: 3593, 2439: 3592, 2440: 3591, 2441: 3590, 2442: 3589, 2443: 3588, 2444: 3587, 2445: 3586, 2446: 3585, 2447: 3584, 2448: 3583, 2449: 3582, 2450: 3581, 2451: 3580, 2452: 3579, 2453: 3578, 2454: 3577, 2455: 3576, 2456: 3575, 2457: 3574, 2458: 3573, 2459: 3572, 2460: 3571, 2461: 3570, 2462: 3569, 2463: 3568, 2464: 3567, 2465: 3566, 2466: 3565, 2467: 3564, 2468: 3563, 2469: 3562, 2470: 3561, 2471: 3560, 2472: 3559, 2473: 3558, 2474: 3557, 2475: 3556, 2476: 3555, 2477: 3554, 2478: 3553, 2479: 3552, 2480: 3551, 2481: 3550, 2482: 3549, 2483: 3548, 2484: 3547, 2485: 3546, 2486: 3545, 2487: 3544, 2488: 3543, 2489: 3542, 2490: 3541, 2491: 3540, 2492: 3539, 2493: 3538, 2494: 3537, 2495: 3536, 2496: 3535, 2497: 3534, 2498: 3533, 2499: 3532, 2500: 3530, 2501: 3529, 2502: 3528, 2503: 3527, 2504: 3526, 2505: 3525, 2506: 3524, 2507: 3523, 2508: 3531, 2509: 3522, 2510: 3521, 2511: 3520, 2512: 3519, 2513: 3518, 2514: 3517, 2515: 3516, 2516: 3515, 2517: 3514, 2518: 3513, 2519: 3512, 2520: 3511, 2521: 3510, 2522: 3509, 2523: 3508, 2524: 3507, 2525: 3506, 2526: 3505, 2527: 3504, 2528: 3503, 2529: 3502, 2530: 3501, 2531: 3500, 2532: 3499, 2533: 3498, 2534: 3497, 2535: 3602, 2536: 3496, 2537: 3495, 2538: 3494, 2539: 3493, 2540: 3492, 2541: 3491, 2542: 3490, 2543: 3489, 2544: 3488, 2545: 3487, 2546: 3486, 2547: 3485, 2548: 3484, 2549: 3483, 2550: 3482, 2551: 3481, 2552: 3480, 2553: 3479, 2554: 3478, 2555: 3477, 2556: 3476, 2557: 3475, 2558: 3474, 2559: 3473, 2560: 3472, 2561: 3723, 2562: 3471, 2563: 3470, 2564: 3469, 2565: 3468, 2566: 3467, 2567: 3466, 2568: 3465, 2569: 3464, 2570: 3463, 2571: 3462, 2572: 3461, 2573: 3460, 2574: 3459, 2575: 3458, 2576: 3457, 2577: 3456, 2578: 3455, 2579: 3454, 2580: 3453, 2581: 3452, 2582: 3451, 2583: 3450, 2584: 3449, 2585: 3448, 2586: 3447, 2587: 3446, 2588: 3445, 2589: 3444, 2590: 3443, 2591: 3442, 2592: 3441, 2593: 3440, 2594: 3439, 2595: 3438, 2596: 3437, 2597: 3436, 2598: 3435, 2599: 3434, 2600: 3433, 2601: 3431, 2602: 3432, 2603: 3430, 2604: 3429, 2605: 3428, 2606: 3427, 2607: 3426, 2608: 3425, 2609: 3424, 2610: 3423, 2611: 3422, 2612: 3420, 2613: 3419, 2614: 3418, 2615: 3417, 2616: 3416, 2617: 3415, 2618: 3414, 2619: 3413, 2620: 3412, 2621: 3421, 2622: 3411, 2623: 3410, 2624: 3409, 2625: 3408, 2626: 3407, 2627: 3406, 2628: 3405, 2629: 3404, 2630: 3403, 2631: 3402, 2632: 3401, 2633: 3400, 2634: 3399, 2635: 3398, 2636: 3397, 2637: 3396, 2638: 3395, 2639: 3394, 2640: 3393, 2641: 3392, 2642: 3391, 2643: 3390, 2644: 3389, 2645: 3388, 2646: 3387, 2647: 3386, 2648: 3385, 2649: 3384, 2650: 3383, 2651: 3382, 2652: 3381, 2653: 3380, 2654: 3379, 2655: 3378, 2656: 3377, 2657: 3376, 2658: 3375, 2659: 3374, 2660: 3373, 2661: 3372, 2662: 3371, 2663: 3370, 2664: 3369, 2665: 3367, 2666: 3368, 2667: 3366, 2668: 3365, 2669: 3364, 2670: 3363, 2671: 3362, 2672: 3361, 2673: 3359, 2674: 3360, 2675: 3358, 2676: 3357, 2677: 3356, 2678: 3355, 2679: 3354, 2680: 3353, 2681: 3352, 2682: 3351, 2683: 3350, 2684: 3349, 2685: 3348, 2686: 3347, 2687: 3346, 2688: 3345, 2689: 3344, 2690: 3343, 2691: 3342, 2692: 3341, 2693: 3340, 2694: 3339, 2695: 3338, 2696: 3337, 2697: 3336, 2698: 3335, 2699: 3334, 2700: 3333, 2701: 3332, 2702: 3331, 2703: 3330, 2704: 3329, 2705: 3328, 2706: 3327, 2707: 3326, 2708: 3325, 2709: 3324, 2710: 3323, 2711: 3322, 2712: 3321, 2713: 3320, 2714: 3319, 2715: 3318, 2716: 3317, 2717: 3316, 2718: 3315, 2719: 3314, 2720: 3313, 2721: 3312, 2722: 3311, 2723: 3310, 2724: 3309, 2725: 3308, 2726: 3307, 2727: 3306, 2728: 3305, 2729: 3304, 2730: 3303, 2731: 3302, 2732: 3301, 2733: 3300, 2734: 3299, 2735: 3298, 2736: 3297, 2737: 3296, 2738: 3295, 2739: 3294, 2740: 3293, 2741: 3292, 2742: 3291, 2743: 3290, 2744: 3289, 2745: 3288, 2746: 3287, 2747: 3286, 2748: 3285, 2749: 3284, 2750: 3283, 2751: 3282, 2752: 3281, 2753: 3280, 2754: 3279, 2755: 3278, 2756: 3277, 2757: 3276, 2758: 3275, 2759: 3274, 2760: 3273, 2761: 3272, 2762: 3271, 2763: 3270, 2764: 3269, 2765: 3268, 2766: 3267, 2767: 3266, 2768: 3265, 2769: 3264, 2770: 3263, 2771: 3262, 2772: 3261, 2773: 3260, 2774: 3259, 2775: 3258, 2776: 3257, 2777: 3256, 2778: 3255, 2779: 3254, 2780: 3253, 2781: 3252, 2782: 3251, 2783: 3249, 2784: 3250, 2785: 3248, 2786: 3247, 2787: 3246, 2788: 3245, 2789: 3244, 2790: 3243, 2791: 3242, 2792: 3241, 2793: 3240, 2794: 3239, 2795: 3238, 2796: 3237, 2797: 3236, 2798: 3235, 2799: 3234, 2800: 3233, 2801: 3232, 2802: 3231, 2803: 3230, 2804: 3229, 2805: 3228, 2806: 3227, 2807: 3226, 2808: 3225, 2809: 3224, 2810: 3223, 2811: 3222, 2812: 3221, 2813: 3220, 2814: 3218, 2815: 3217, 2816: 3216, 2817: 3215, 2818: 3219, 2819: 3214, 2820: 3213, 2821: 3212, 2822: 3211, 2823: 3210, 2824: 3209, 2825: 3208, 2826: 3207, 2827: 3206, 2828: 3205, 2829: 3204, 2830: 3203, 2831: 3202, 2832: 3201, 2833: 3200, 2834: 3199, 2835: 3198, 2836: 3197, 2837: 3196, 2838: 3195, 2839: 3194, 2840: 3193, 2841: 3192, 2842: 3191, 2843: 3190, 2844: 3189, 2845: 3188, 2846: 3187, 2847: 3186, 2848: 3185, 2849: 3184, 2850: 3183, 2851: 3182, 2852: 3181, 2853: 3179, 2854: 3180, 2855: 3178, 2856: 3177, 2857: 3176, 2858: 3175, 2859: 3174, 2860: 3173, 2861: 3172, 2862: 3171, 2863: 3170, 2864: 3169, 2865: 3168, 2866: 3167, 2867: 3166, 2868: 3165, 2869: 3164, 2870: 3163, 2871: 3162, 2872: 3161, 2873: 3160, 2874: 3159, 2875: 3158, 2876: 3157, 2877: 3156, 2878: 3155, 2879: 3154, 2880: 3153, 2881: 3152, 2882: 3151, 2883: 3150, 2884: 3149, 2885: 3148, 2886: 3147, 2887: 3146, 2888: 3145, 2889: 3144, 2890: 3143, 2891: 3142, 2892: 3141, 2893: 3140, 2894: 3139, 2895: 3138, 2896: 3137, 2897: 3136, 2898: 3135, 2899: 3134, 2900: 3133, 2901: 3132, 2902: 3131, 2903: 3130, 2904: 3129, 2905: 3128, 2906: 3126, 2907: 3125, 2908: 3127, 2909: 3124, 2910: 3123, 2911: 3122, 2912: 3121, 2913: 3120, 2914: 3119, 2915: 3118, 2916: 3117, 2917: 3116, 2918: 3114, 2919: 3113, 2920: 3112, 2921: 3111, 2922: 3110, 2923: 3109, 2924: 3108, 2925: 3107, 2926: 3106, 2927: 3105, 2928: 3104, 2929: 3103, 2930: 3102, 2931: 3101, 2932: 3100, 2933: 3099, 2934: 3115, 2935: 3098, 2936: 3097, 2937: 3096, 2938: 3095, 2939: 3094, 2940: 3092, 2941: 3093, 2942: 3091, 2943: 3090, 2944: 3089, 2945: 3088, 2946: 3087, 2947: 3086, 2948: 3085, 2949: 3084, 2950: 3628, 2951: 3083, 2952: 3082, 2953: 3081, 2954: 3080, 2955: 3079, 2956: 3078, 2957: 3077, 2958: 3076, 2959: 3075, 2960: 3074, 2961: 3073, 2962: 3072, 2963: 3071, 2964: 3070, 2965: 3069, 2966: 3068, 2967: 3067, 2968: 3066, 2969: 3065, 2970: 3064, 2971: 3063, 2972: 3062, 2973: 3061, 2974: 3060, 2975: 3059, 2976: 3058, 2977: 3057, 2978: 3056, 2979: 3055, 2980: 3054, 2981: 3053, 2982: 3052, 2983: 3050, 2984: 3051, 2985: 3049, 2986: 3048, 2987: 3047, 2988: 3046, 2989: 3045, 2990: 3044, 2991: 3043, 2992: 3042, 2993: 3040, 2994: 3041, 2995: 3039, 2996: 3038, 2997: 3037, 2998: 3036, 2999: 3035, 3000: 3034, 3001: 3033, 3002: 3032, 3003: 3031, 3004: 3030, 3005: 3029, 3006: 3028, 3007: 3027, 3008: 3026, 3009: 3025, 3010: 3024, 3011: 3023, 3012: 3022, 3013: 3021, 3014: 3020, 3015: 3019, 3016: 3018, 3017: 3017, 3018: 3016, 3019: 3015, 3020: 3014, 3021: 3013, 3022: 3012, 3023: 3011, 3024: 3010, 3025: 3009, 3026: 3008, 3027: 3007, 3028: 3006, 3029: 3005, 3030: 3004, 3031: 3002, 3032: 3001, 3033: 3000, 3034: 2999, 3035: 2998, 3036: 2997, 3037: 2996, 3038: 2995, 3039: 2994, 3040: 2993, 3041: 2992, 3042: 2991, 3043: 2990, 3044: 2989, 3045: 3003, 3046: 2988, 3047: 2987, 3048: 2986, 3049: 2985, 3050: 2984, 3051: 2983, 3052: 2982, 3053: 2981, 3054: 2979, 3055: 2978, 3056: 2977, 3057: 2976, 3058: 2975, 3059: 2974, 3060: 2973, 3061: 2972, 3062: 2971, 3063: 2970, 3064: 2969, 3065: 2968, 3066: 2967, 3067: 2966, 3068: 2965, 3069: 2964, 3070: 2963, 3071: 2962, 3072: 2961, 3073: 2960, 3074: 2959, 3075: 2958, 3076: 2957, 3077: 2956, 3078: 2955, 3079: 2954, 3080: 2953, 3081: 2952, 3082: 2951, 3083: 2950, 3084: 2949, 3085: 2948, 3086: 2946, 3087: 2945, 3088: 2944, 3089: 2943, 3090: 2942, 3091: 2941, 3092: 2940, 3093: 2939, 3094: 2938, 3095: 2937, 3096: 2936, 3097: 2935, 3098: 2934, 3099: 2933, 3100: 2932, 3101: 2931, 3102: 2930, 3103: 2929, 3104: 2928, 3105: 2927, 3106: 2926, 3107: 2925, 3108: 2924, 3109: 2923, 3110: 2922, 3111: 2921, 3112: 2920, 3113: 2919, 3114: 2918, 3115: 2917, 3116: 2916, 3117: 2915, 3118: 2914, 3119: 2913, 3120: 2912, 3121: 2911, 3122: 2909, 3123: 2908, 3124: 2907, 3125: 2906, 3126: 2905, 3127: 2904, 3128: 2903, 3129: 2902, 3130: 2901, 3131: 2900, 3132: 2899, 3133: 2898, 3134: 2897, 3135: 2895, 3136: 2896, 3137: 2894, 3138: 2893, 3139: 2892, 3140: 2891, 3141: 2890, 3142: 2889, 3143: 2888, 3144: 2887, 3145: 2886, 3146: 2885, 3147: 2884, 3148: 2882, 3149: 2881, 3150: 2883, 3151: 2880, 3152: 2879, 3153: 2878, 3154: 2877, 3155: 2876, 3156: 2875, 3157: 2874, 3158: 2873, 3159: 2872, 3160: 2871, 3161: 2870, 3162: 2869, 3163: 2868, 3164: 2867, 3165: 2866, 3166: 2865, 3167: 2864, 3168: 2863, 3169: 2862, 3170: 2861, 3171: 2860, 3172: 2859, 3173: 2858, 3174: 2857, 3175: 2856, 3176: 2855, 3177: 2854, 3178: 2853, 3179: 2852, 3180: 2851, 3181: 2850, 3182: 2849, 3183: 2848, 3184: 2847, 3185: 2846, 3186: 2845, 3187: 2844, 3188: 2843, 3189: 2842, 3190: 2841, 3191: 2840, 3192: 2839, 3193: 2838, 3194: 2837, 3195: 2836, 3196: 2835, 3197: 2834, 3198: 2833, 3199: 2832, 3200: 2831, 3201: 2830, 3202: 2829, 3203: 2828, 3204: 2827, 3205: 2826, 3206: 2825, 3207: 2824, 3208: 2823, 3209: 2822, 3210: 2821, 3211: 2820, 3212: 2819, 3213: 2818, 3214: 2817, 3215: 2816, 3216: 2815, 3217: 2814, 3218: 2813, 3219: 2812, 3220: 2811, 3221: 2810, 3222: 2809, 3223: 2808, 3224: 2807, 3225: 2806, 3226: 2805, 3227: 2804, 3228: 2803, 3229: 2802, 3230: 2801, 3231: 2800, 3232: 2799, 3233: 2798, 3234: 2797, 3235: 2796, 3236: 2795, 3237: 2794, 3238: 2793, 3239: 2792, 3240: 2791, 3241: 2790, 3242: 2789, 3243: 2788, 3244: 2787, 3245: 2786, 3246: 2785, 3247: 2784, 3248: 2783, 3249: 2782, 3250: 2781, 3251: 2780, 3252: 2779, 3253: 2778, 3254: 2777, 3255: 2776, 3256: 2775, 3257: 2774, 3258: 2773, 3259: 2772, 3260: 2771, 3261: 2770, 3262: 2769, 3263: 2768, 3264: 2767, 3265: 2766, 3266: 2765, 3267: 2764, 3268: 2763, 3269: 2762, 3270: 2761, 3271: 2760, 3272: 2759, 3273: 2758, 3274: 2757, 3275: 2756, 3276: 2755, 3277: 2754, 3278: 2753, 3279: 2752, 3280: 2751, 3281: 2750, 3282: 2749, 3283: 2748, 3284: 2747, 3285: 2746, 3286: 2745, 3287: 2744, 3288: 2743, 3289: 2742, 3290: 2741, 3291: 2740, 3292: 2739, 3293: 2738, 3294: 2737, 3295: 2736, 3296: 2735, 3297: 2734, 3298: 2733, 3299: 2732, 3300: 2731, 3301: 2730, 3302: 2729, 3303: 2728, 3304: 2726, 3305: 2727, 3306: 2725, 3307: 2724, 3308: 2723, 3309: 2722, 3310: 2721, 3311: 2720, 3312: 2719, 3313: 2718, 3314: 2716, 3315: 2714, 3316: 2715, 3317: 2717, 3318: 2713, 3319: 2712, 3320: 2711, 3321: 2710, 3322: 2709, 3323: 2708, 3324: 2707, 3325: 2706, 3326: 2705, 3327: 2704, 3328: 2703, 3329: 2702, 3330: 2701, 3331: 2700, 3332: 2699, 3333: 2698, 3334: 2697, 3335: 2696, 3336: 2695, 3337: 2694, 3338: 2693, 3339: 2692, 3340: 2691, 3341: 2690, 3342: 2689, 3343: 2688, 3344: 2687, 3345: 2686, 3346: 2685, 3347: 2684, 3348: 2683, 3349: 2682, 3350: 2681, 3351: 2680, 3352: 2679, 3353: 2678, 3354: 2677, 3355: 2676, 3356: 2675, 3357: 2674, 3358: 2673, 3359: 2672, 3360: 2671, 3361: 2670, 3362: 2669, 3363: 2668, 3364: 2667, 3365: 2666, 3366: 2665, 3367: 2664, 3368: 2663, 3369: 2662, 3370: 2661, 3371: 2660, 3372: 2659, 3373: 2658, 3374: 2657, 3375: 2656, 3376: 2655, 3377: 2653, 3378: 2652, 3379: 2651, 3380: 2650, 3381: 2649, 3382: 2648, 3383: 2654, 3384: 2647, 3385: 2646, 3386: 2645, 3387: 2644, 3388: 2643, 3389: 2642, 3390: 2641, 3391: 2640, 3392: 2639, 3393: 2638, 3394: 2637, 3395: 2636, 3396: 2635, 3397: 2634, 3398: 2633, 3399: 2632, 3400: 2631, 3401: 2630, 3402: 2629, 3403: 2628, 3404: 2627, 3405: 2626, 3406: 2625, 3407: 2624, 3408: 2623, 3409: 2622, 3410: 2621, 3411: 2620, 3412: 2619, 3413: 2618, 3414: 2617, 3415: 2616, 3416: 2615, 3417: 2614, 3418: 2613, 3419: 2612, 3420: 2611, 3421: 2610, 3422: 2609, 3423: 2608, 3424: 2607, 3425: 2606, 3426: 2605, 3427: 2604, 3428: 2603, 3429: 2602, 3430: 2600, 3431: 2599, 3432: 2598, 3433: 2597, 3434: 2601, 3435: 2596, 3436: 2595, 3437: 2594, 3438: 2593, 3439: 2592, 3440: 2591, 3441: 2590, 3442: 2589, 3443: 2588, 3444: 2587, 3445: 2586, 3446: 2584, 3447: 2585, 3448: 2583, 3449: 2582, 3450: 2581, 3451: 2580, 3452: 2579, 3453: 2578, 3454: 2577, 3455: 2576, 3456: 2575, 3457: 2574, 3458: 2573, 3459: 2572, 3460: 2571, 3461: 2570, 3462: 2569, 3463: 2568, 3464: 2567, 3465: 2566, 3466: 2565, 3467: 2564, 3468: 2563, 3469: 2562, 3470: 2561, 3471: 2560, 3472: 2559, 3473: 2558, 3474: 2557, 3475: 2556, 3476: 2555, 3477: 2554, 3478: 2553, 3479: 2552, 3480: 2551, 3481: 2550, 3482: 2549, 3483: 2548, 3484: 2547, 3485: 2546, 3486: 2545, 3487: 2544, 3488: 2543, 3489: 2542, 3490: 2541, 3491: 2540, 3492: 2539, 3493: 2538, 3494: 2537, 3495: 2535, 3496: 2536, 3497: 2534, 3498: 2533, 3499: 2532, 3500: 2531, 3501: 2530, 3502: 2529, 3503: 2528, 3504: 2527, 3505: 2526, 3506: 2525, 3507: 2524, 3508: 2523, 3509: 2522, 3510: 2521, 3511: 2520, 3512: 2519, 3513: 2518, 3514: 2517, 3515: 2516, 3516: 2515, 3517: 2514, 3518: 2513, 3519: 2512, 3520: 2511, 3521: 2510, 3522: 2509, 3523: 2508, 3524: 2507, 3525: 2506, 3526: 2505, 3527: 2504, 3528: 2503, 3529: 2502, 3530: 2501, 3531: 2500, 3532: 2499, 3533: 2498, 3534: 2497, 3535: 2496, 3536: 2495, 3537: 2494, 3538: 2493, 3539: 2492, 3540: 2491, 3541: 2490, 3542: 2489, 3543: 2488, 3544: 2487, 3545: 2486, 3546: 2485, 3547: 2484, 3548: 2483, 3549: 2482, 3550: 2481, 3551: 2480, 3552: 2479, 3553: 2478, 3554: 2476, 3555: 2477, 3556: 2475, 3557: 2474, 3558: 2473, 3559: 2472, 3560: 2471, 3561: 2470, 3562: 2469, 3563: 2468, 3564: 2467, 3565: 2466, 3566: 2465, 3567: 2464, 3568: 2462, 3569: 2463, 3570: 2461, 3571: 2460, 3572: 2459, 3573: 2458, 3574: 2457, 3575: 2456, 3576: 2455, 3577: 2454, 3578: 2453, 3579: 2452, 3580: 2451, 3581: 2450, 3582: 2449, 3583: 2448, 3584: 2447, 3585: 2446, 3586: 2445, 3587: 2444, 3588: 2443, 3589: 2442, 3590: 2441, 3591: 2440, 3592: 2439, 3593: 2438, 3594: 2436, 3595: 2435, 3596: 2433, 3597: 2437, 3598: 2431, 3599: 2432, 3600: 2430, 3601: 2434, 3602: 2429, 3603: 2428, 3604: 2427, 3605: 2426, 3606: 2424, 3607: 2423, 3608: 2422, 3609: 2421, 3610: 2420, 3611: 2425, 3612: 2419, 3613: 2418, 3614: 2417, 3615: 2415, 3616: 2416, 3617: 2414, 3618: 2413, 3619: 2412, 3620: 2411, 3621: 2410, 3622: 2409, 3623: 2408, 3624: 2407, 3625: 2406, 3626: 2405, 3627: 2404, 3628: 2403, 3629: 2402, 3630: 2401, 3631: 2400, 3632: 2399, 3633: 2398, 3634: 2397, 3635: 2396, 3636: 2395, 3637: 2394, 3638: 2393, 3639: 2392, 3640: 2391, 3641: 2390, 3642: 2389, 3643: 2388, 3644: 2387, 3645: 2386, 3646: 2385, 3647: 2384, 3648: 2383, 3649: 2382, 3650: 2381, 3651: 2380, 3652: 2378, 3653: 2379, 3654: 2377, 3655: 2376, 3656: 2375, 3657: 2374, 3658: 2373, 3659: 2372, 3660: 2371, 3661: 2370, 3662: 2369, 3663: 2368, 3664: 2367, 3665: 2366, 3666: 2365, 3667: 2364, 3668: 2363, 3669: 2362, 3670: 2361, 3671: 2360, 3672: 2359, 3673: 2358, 3674: 2357, 3675: 2356, 3676: 2355, 3677: 2354, 3678: 2353, 3679: 2352, 3680: 2351, 3681: 2350, 3682: 2348, 3683: 2349, 3684: 2347, 3685: 2346, 3686: 2345, 3687: 2344, 3688: 2342, 3689: 2343, 3690: 2341, 3691: 2340, 3692: 2339, 3693: 2338, 3694: 2337, 3695: 2336, 3696: 2335, 3697: 2334, 3698: 2333, 3699: 2332, 3700: 2331, 3701: 2330, 3702: 2329, 3703: 2328, 3704: 2327, 3705: 2326, 3706: 2325, 3707: 2324, 3708: 2323, 3709: 2322, 3710: 2321, 3711: 2320, 3712: 2319, 3713: 2318, 3714: 2317, 3715: 2316, 3716: 2315, 3717: 2314, 3718: 2313, 3719: 2312, 3720: 2311, 3721: 2310, 3722: 2309, 3723: 2308, 3724: 2307, 3725: 2306, 3726: 2305, 3727: 2304, 3728: 2303, 3729: 2302, 3730: 2301, 3731: 2300, 3732: 2299, 3733: 2298, 3734: 2297, 3735: 2296, 3736: 2295, 3737: 2294, 3738: 2293, 3739: 2292, 3740: 2291, 3741: 2290, 3742: 2289, 3743: 2288, 3744: 2287, 3745: 2286, 3746: 2285, 3747: 2284, 3748: 2283, 3749: 2282, 3750: 2281, 3751: 2280, 3752: 2279, 3753: 2278, 3754: 2277, 3755: 2276, 3756: 2275, 3757: 2274, 3758: 2273, 3759: 2272, 3760: 2271, 3761: 2270, 3762: 2269, 3763: 2268, 3764: 2267, 3765: 2266, 3766: 2265, 3767: 2264, 3768: 2263, 3769: 2262, 3770: 2261, 3771: 2260, 3772: 2259, 3773: 2258, 3774: 2257, 3775: 2256, 3776: 2255, 3777: 2254, 3778: 2253, 3779: 2252, 3780: 2250, 3781: 2251, 3782: 2248, 3783: 2246, 3784: 2244, 3785: 2243, 3786: 2242, 3787: 2241, 3788: 2249, 3789: 2245, 3790: 2240, 3791: 2239, 3792: 2238, 3793: 2237, 3794: 2235, 3795: 2236, 3796: 2234, 3797: 2233, 3798: 2232, 3799: 2231, 3800: 2230, 3801: 2229, 3802: 2228, 3803: 2227, 3804: 2226, 3805: 2224, 3806: 2225, 3807: 2222, 3808: 2223, 3809: 2221, 3810: 2220, 3811: 2219, 3812: 2218, 3813: 2217, 3814: 2216, 3815: 2215, 3816: 2214, 3817: 2212, 3818: 2213, 3819: 2211, 3820: 2210, 3821: 2209, 3822: 2208, 3823: 2207, 3824: 2206, 3825: 2205, 3826: 2203, 3827: 2204, 3828: 2202, 3829: 2201, 3830: 2200, 3831: 2199, 3832: 2197, 3833: 2196, 3834: 2198, 3835: 2195, 3836: 2192, 3837: 2193, 3838: 2191, 3839: 2190, 3840: 2194, 3841: 2189, 3842: 2188, 3843: 2186, 3844: 2185, 3845: 2187, 3846: 2184, 3847: 2182, 3848: 2183, 3849: 2181, 3850: 2180, 3851: 2179, 3852: 2178, 3853: 2177, 3854: 2175, 3855: 2176, 3856: 2174, 3857: 2173, 3858: 2172, 3859: 2171, 3860: 2169, 3861: 2170, 3862: 2168, 3863: 2167, 3864: 2166, 3865: 2165, 3866: 2164, 3867: 2163, 3868: 2162, 3869: 2161, 3870: 2160, 3871: 2159, 3872: 2158, 3873: 2157, 3874: 2156, 3875: 2155, 3876: 2154, 3877: 2153, 3878: 2152, 3879: 2150, 3880: 2151, 3881: 2149, 3882: 2148, 3883: 2147, 3884: 2146, 3885: 2145, 3886: 2144, 3887: 2143, 3888: 2142, 3889: 2141, 3890: 2140, 3891: 2139, 3892: 2138, 3893: 2137, 3894: 2136, 3895: 2135, 3896: 2134, 3897: 2133, 3898: 2131, 3899: 2132, 3900: 2130, 3901: 2129, 3902: 2128, 3903: 2126, 3904: 2127, 3905: 2125, 3906: 2123, 3907: 2124, 3908: 2122, 3909: 2121, 3910: 2120, 3911: 2119, 3912: 2118, 3913: 2117, 3914: 2116, 3915: 2115, 3916: 2114, 3917: 2113, 3918: 2112, 3919: 2111, 3920: 2110, 3921: 2109, 3922: 2108, 3923: 2107, 3924: 2106, 3925: 2105, 3926: 2104, 3927: 2103, 3928: 2102, 3929: 2101, 3930: 2100, 3931: 2099, 3932: 2098, 3933: 2097, 3934: 2096, 3935: 2095, 3936: 2093, 3937: 2094, 3938: 2092, 3939: 2091, 3940: 2090, 3941: 2088, 3942: 2089, 3943: 2087, 3944: 2085, 3945: 2086, 3946: 2084, 3947: 2083, 3948: 2082, 3949: 2081, 3950: 2080, 3951: 2079, 3952: 2078, 3953: 2077, 3954: 2075, 3955: 2076, 3956: 2073, 3957: 2074, 3958: 2072, 3959: 2071, 3960: 2070, 3961: 2069, 3962: 2068, 3963: 2067, 3964: 2066, 3965: 2064, 3966: 2065, 3967: 2063, 3968: 2062, 3969: 2061, 3970: 2060, 3971: 2059, 3972: 2057, 3973: 2058, 3974: 2056, 3975: 2055, 3976: 2054, 3977: 2053, 3978: 2052, 3979: 2051, 3980: 2050, 3981: 2049, 3982: 2048, 3983: 2047, 3984: 2046, 3985: 2044, 3986: 2045, 3987: 2043, 3988: 2042, 3989: 2041, 3990: 2039, 3991: 2040, 3992: 2038, 3993: 2036, 3994: 2037, 3995: 2035, 3996: 2034, 3997: 2033, 3998: 2032, 3999: 2031, 4000: 2030, 4001: 2029, 4002: 2028, 4003: 2027, 4004: 2026, 4005: 2025, 4006: 2024, 4007: 2023, 4008: 2022, 4009: 2020, 4010: 2021, 4011: 2019, 4012: 2018, 4013: 2017, 4014: 2016, 4015: 2015, 4016: 2014, 4017: 2013, 4018: 2012, 4019: 2011, 4020: 2010, 4021: 2009, 4022: 2008, 4023: 2005, 4024: 2007, 4025: 2006, 4026: 2004, 4027: 2002, 4028: 2003, 4029: 2001, 4030: 2000, 4031: 1999, 4032: 1998, 4033: 1997, 4034: 1996, 4035: 1995, 4036: 1994, 4037: 1993, 4038: 1992, 4039: 1991, 4040: 1990, 4041: 1989, 4042: 1988, 4043: 1985, 4044: 1986, 4045: 1987, 4046: 1983, 4047: 1984, 4048: 1982, 4049: 1981, 4050: 1980, 4051: 1979, 4052: 1978, 4053: 1977, 4054: 1974, 4055: 1975, 4056: 1973, 4057: 1976, 4058: 1971, 4059: 1972, 4060: 1969, 4061: 1968, 4062: 1967, 4063: 1970, 4064: 1966, 4065: 1965, 4066: 1964, 4067: 1963, 4068: 1962, 4069: 1961, 4070: 1960, 4071: 1959, 4072: 1958, 4073: 1957, 4074: 1956, 4075: 1955, 4076: 1952, 4077: 1951, 4078: 1954, 4079: 1948, 4080: 1945, 4081: 1953, 4082: 1937, 4083: 1949, 4084: 1943, 4085: 1946, 4086: 1941, 4087: 1942, 4088: 1938, 4089: 1935, 4090: 1939, 4091: 1950, 4092: 1947, 4093: 1940, 4094: 1934, 4095: 1944, 4096: 1931, 4097: 1928, 4098: 1926, 4099: 1929, 4100: 1927, 4101: 1924, 4102: 1923, 4103: 1925, 4104: 1921, 4105: 1920, 4106: 1922, 4107: 1936, 4108: 1919, 4109: 1917, 4110: 1918, 4111: 1916, 4112: 1914, 4113: 1930, 4114: 1911, 4115: 1904, 4116: 1909, 4117: 1905, 4118: 1906, 4119: 1903, 4120: 1908, 4121: 1907, 4122: 1902, 4123: 1901, 4124: 1900, 4125: 1933, 4126: 1915, 4127: 1910, 4128: 1894, 4129: 1896, 4130: 1898, 4131: 1899, 4132: 1893, 4133: 1892, 4134: 1895, 4135: 1891, 4136: 1913, 4137: 1889, 4138: 1890, 4139: 1888, 4140: 1886, 4141: 1885, 4142: 1897, 4143: 1887, 4144: 1882, 4145: 1881, 4146: 1880, 4147: 1883, 4148: 1879, 4149: 1884, 4150: 1932, 4151: 1878, 4152: 1876, 4153: 1873, 4154: 1874, 4155: 1872, 4156: 1871, 4157: 1870, 4158: 1869, 4159: 1868, 4160: 1867, 4161: 1866, 4162: 1865, 4163: 1864, 4164: 1863, 4165: 1862, 4166: 1861, 4167: 1859, 4168: 1860, 4169: 1858, 4170: 1857, 4171: 1856, 4172: 1855, 4173: 1854, 4174: 1852, 4175: 1850, 4176: 1849, 4177: 1846, 4178: 1844, 4179: 1843, 4180: 1848, 4181: 1847, 4182: 1851, 4183: 1842, 4184: 1840, 4185: 1839, 4186: 1841, 4187: 1838, 4188: 1837, 4189: 1833, 4190: 1835, 4191: 1834, 4192: 1824, 4193: 1836, 4194: 1832, 4195: 1845, 4196: 1830, 4197: 1822, 4198: 1823, 4199: 1827, 4200: 1829, 4201: 1820, 4202: 1826, 4203: 1818, 4204: 1817, 4205: 1819, 4206: 1816, 4207: 1814, 4208: 1828, 4209: 1812, 4210: 1811, 4211: 1813, 4212: 1821, 4213: 1809, 4214: 1810, 4215: 1808, 4216: 1831, 4217: 1805, 4218: 1804, 4219: 1806, 4220: 1807, 4221: 1803, 4222: 1815, 4223: 1801, 4224: 1800, 4225: 1802, 4226: 1798, 4227: 1799, 4228: 1797, 4229: 1796, 4230: 1793, 4231: 1795, 4232: 1792, 4233: 1794, 4234: 1791, 4235: 1787, 4236: 1875, 4237: 1789, 4238: 1788, 4239: 1790, 4240: 1784, 4241: 1783, 4242: 1785, 4243: 1782, 4244: 1781, 4245: 1780, 4246: 1778, 4247: 1779, 4248: 1786, 4249: 1777, 4250: 1773, 4251: 1776, 4252: 1775, 4253: 1772, 4254: 1774, 4255: 1769, 4256: 1771, 4257: 1770, 4258: 1767, 4259: 1768, 4260: 1762, 4261: 1766, 4262: 1764, 4263: 1763, 4264: 1765, 4265: 1760, 4266: 1759, 4267: 1756, 4268: 1758, 4269: 1757, 4270: 1755, 4271: 1912, 4272: 1752, 4273: 1753, 4274: 1751, 4275: 1761, 4276: 1749, 4277: 1750, 4278: 1754, 4279: 1746, 4280: 1747, 4281: 1745, 4282: 1748, 4283: 1744, 4284: 1743, 4285: 1742, 4286: 1740, 4287: 1739, 4288: 1738, 4289: 1737, 4290: 1736, 4291: 1735, 4292: 1734, 4293: 1733, 4294: 1732, 4295: 1729, 4296: 1730, 4297: 1728, 4298: 1731, 4299: 1725, 4300: 1726, 4301: 1727, 4302: 1722, 4303: 1719, 4304: 1720, 4305: 1724, 4306: 1723, 4307: 1718, 4308: 1717, 4309: 1721, 4310: 1715, 4311: 1741, 4312: 1714, 4313: 1713, 4314: 1712, 4315: 1716, 4316: 1710, 4317: 1708, 4318: 1709, 4319: 1711, 4320: 1707, 4321: 1706, 4322: 1705, 4323: 1704, 4324: 1703, 4325: 1700, 4326: 1701, 4327: 1698, 4328: 1697, 4329: 1702, 4330: 1695, 4331: 1699, 4332: 1694, 4333: 1696, 4334: 1693, 4335: 1691, 4336: 1692, 4337: 1688, 4338: 1687, 4339: 1686, 4340: 1685, 4341: 1684, 4342: 1689, 4343: 1682, 4344: 1683, 4345: 1681, 4346: 1690, 4347: 1680, 4348: 1679, 4349: 1678, 4350: 1676, 4351: 1677, 4352: 1675, 4353: 1674, 4354: 1672, 4355: 1669, 4356: 1671, 4357: 1668, 4358: 1673, 4359: 1670, 4360: 1667, 4361: 1666, 4362: 1665, 4363: 1664, 4364: 1663, 4365: 1662, 4366: 1660, 4367: 1661, 4368: 1659, 4369: 1658, 4370: 1654, 4371: 1655, 4372: 1657, 4373: 1656, 4374: 1653, 4375: 1652, 4376: 1651, 4377: 1649, 4378: 1648, 4379: 1647, 4380: 1646, 4381: 1650, 4382: 1645, 4383: 1644, 4384: 1641, 4385: 1643, 4386: 1642, 4387: 1640, 4388: 1639, 4389: 1638, 4390: 1637, 4391: 1636, 4392: 1634, 4393: 1635, 4394: 1632, 4395: 1633, 4396: 1631, 4397: 1628, 4398: 1629, 4399: 1630, 4400: 1627, 4401: 1626, 4402: 1625, 4403: 1624, 4404: 1623, 4405: 1622, 4406: 1621, 4407: 1620, 4408: 1617, 4409: 1618, 4410: 1619, 4411: 1616, 4412: 1614, 4413: 1615, 4414: 1613, 4415: 1611, 4416: 1610, 4417: 1612, 4418: 1609, 4419: 1608, 4420: 1825, 4421: 1607, 4422: 1606, 4423: 1605, 4424: 1604, 4425: 1603, 4426: 1602, 4427: 1601, 4428: 1600, 4429: 1599, 4430: 1598, 4431: 1597, 4432: 1596, 4433: 1595, 4434: 1594, 4435: 1593, 4436: 1592, 4437: 1591, 4438: 1590, 4439: 1589, 4440: 1588, 4441: 1587, 4442: 1586, 4443: 1585, 4444: 1584, 4445: 1583, 4446: 1579, 4447: 1582, 4448: 1580, 4449: 1578, 4450: 1577, 4451: 1576, 4452: 1574, 4453: 1575, 4454: 1573, 4455: 1571, 4456: 1572, 4457: 1570, 4458: 1569, 4459: 1568, 4460: 1567, 4461: 1566, 4462: 1564, 4463: 1565, 4464: 1563, 4465: 1562, 4466: 1560, 4467: 1559, 4468: 1558, 4469: 1561, 4470: 1555, 4471: 1556, 4472: 1554, 4473: 1553, 4474: 1552, 4475: 1550, 4476: 1549, 4477: 1548, 4478: 1551, 4479: 1547, 4480: 1546, 4481: 1545, 4482: 1544, 4483: 1543, 4484: 1542, 4485: 1540, 4486: 1541, 4487: 1539, 4488: 1538, 4489: 1537, 4490: 1535, 4491: 1536, 4492: 1533, 4493: 1532, 4494: 1531, 4495: 1530, 4496: 1529, 4497: 1528, 4498: 1527, 4499: 1534, 4500: 1526, 4501: 1525, 4502: 1524, 4503: 1523, 4504: 1521, 4505: 1522, 4506: 1520, 4507: 1519, 4508: 1518, 4509: 1517, 4510: 1516, 4511: 1515, 4512: 1514, 4513: 1513, 4514: 1512, 4515: 1511, 4516: 1510, 4517: 1509, 4518: 1508, 4519: 1507, 4520: 1506, 4521: 1581, 4522: 1504, 4523: 1503, 4524: 1501, 4525: 1500, 4526: 1502, 4527: 1499, 4528: 1497, 4529: 1498, 4530: 1495, 4531: 1493, 4532: 1494, 4533: 1492, 4534: 1491, 4535: 1496, 4536: 1490, 4537: 1489, 4538: 1488, 4539: 1487, 4540: 1486, 4541: 1484, 4542: 1485, 4543: 1483, 4544: 1482, 4545: 1479, 4546: 1481, 4547: 1478, 4548: 1476, 4549: 1477, 4550: 1474, 4551: 1473, 4552: 1475, 4553: 1472, 4554: 1470, 4555: 1471, 4556: 1469, 4557: 1467, 4558: 1468, 4559: 1480, 4560: 1466, 4561: 1465, 4562: 1463, 4563: 1464, 4564: 1462, 4565: 1461, 4566: 1460, 4567: 1459, 4568: 1458, 4569: 1457, 4570: 1456, 4571: 1454, 4572: 1453, 4573: 1452, 4574: 1451, 4575: 1455, 4576: 1450, 4577: 1446, 4578: 1448, 4579: 1445, 4580: 1447, 4581: 1449, 4582: 1443, 4583: 1444, 4584: 1442, 4585: 1441, 4586: 1440, 4587: 1439, 4588: 1438, 4589: 1437, 4590: 1436, 4591: 1435, 4592: 1434, 4593: 1433, 4594: 1432, 4595: 1430, 4596: 1429, 4597: 1431, 4598: 1427, 4599: 1426, 4600: 1423, 4601: 1425, 4602: 1424, 4603: 1422, 4604: 1421, 4605: 1420, 4606: 1419, 4607: 1418, 4608: 1415, 4609: 1417, 4610: 1416, 4611: 1414, 4612: 1413, 4613: 1412, 4614: 1411, 4615: 1409, 4616: 1408, 4617: 1407, 4618: 1406, 4619: 1405, 4620: 1403, 4621: 1402, 4622: 1401, 4623: 1410, 4624: 1400, 4625: 1399, 4626: 1397, 4627: 1398, 4628: 1404, 4629: 1396, 4630: 1393, 4631: 1394, 4632: 1395, 4633: 1392, 4634: 1390, 4635: 1389, 4636: 1388, 4637: 1391, 4638: 1387, 4639: 1386, 4640: 1385, 4641: 1384, 4642: 1383, 4643: 1381, 4644: 1382, 4645: 1378, 4646: 1380, 4647: 1379, 4648: 1377, 4649: 1376, 4650: 1375, 4651: 1374, 4652: 1373, 4653: 1372, 4654: 1371, 4655: 1370, 4656: 1369, 4657: 1368, 4658: 1367, 4659: 1366, 4660: 1364, 4661: 1365, 4662: 1363, 4663: 1362, 4664: 1361, 4665: 1360, 4666: 1358, 4667: 1359, 4668: 1357, 4669: 1356, 4670: 1355, 4671: 1354, 4672: 1353, 4673: 1352, 4674: 1351, 4675: 1349, 4676: 1350, 4677: 1348, 4678: 1347, 4679: 1346, 4680: 1345, 4681: 1344, 4682: 1343, 4683: 1342, 4684: 1341, 4685: 1340, 4686: 1338, 4687: 1339, 4688: 1337, 4689: 1336, 4690: 1335, 4691: 1334, 4692: 1333, 4693: 1332, 4694: 1330, 4695: 1331, 4696: 1329, 4697: 1328, 4698: 1325, 4699: 1326, 4700: 1324, 4701: 1327, 4702: 1322, 4703: 1323, 4704: 1321, 4705: 1320, 4706: 1319, 4707: 1316, 4708: 1317, 4709: 1318, 4710: 1315, 4711: 1314, 4712: 1313, 4713: 1312, 4714: 1311, 4715: 1310, 4716: 1309, 4717: 1308, 4718: 1307, 4719: 1306, 4720: 1305, 4721: 1304, 4722: 1303, 4723: 1301, 4724: 1299, 4725: 1300, 4726: 1302, 4727: 1298, 4728: 1297, 4729: 1296, 4730: 1295, 4731: 1293, 4732: 1294, 4733: 1292, 4734: 1291, 4735: 1290, 4736: 1289, 4737: 1288, 4738: 1286, 4739: 1285, 4740: 1284, 4741: 1282, 4742: 1281, 4743: 1280, 4744: 1279, 4745: 1283, 4746: 1278, 4747: 1277, 4748: 1276, 4749: 1275, 4750: 1274, 4751: 1273, 4752: 1272, 4753: 1271, 4754: 1270, 4755: 1269, 4756: 1268, 4757: 1267, 4758: 1266, 4759: 1264, 4760: 1263, 4761: 1262, 4762: 1261, 4763: 1260, 4764: 1259, 4765: 1557, 4766: 1258, 4767: 1255, 4768: 1256, 4769: 1257, 4770: 1254, 4771: 1253, 4772: 1252, 4773: 1251, 4774: 1250, 4775: 1249, 4776: 1247, 4777: 1248, 4778: 1246, 4779: 1245, 4780: 1244, 4781: 1243, 4782: 1242, 4783: 1241, 4784: 1240, 4785: 1239, 4786: 1237, 4787: 1238, 4788: 1236, 4789: 1235, 4790: 1234, 4791: 1233, 4792: 1232, 4793: 1230, 4794: 1229, 4795: 1227, 4796: 1231, 4797: 1228, 4798: 1226, 4799: 1225, 4800: 1223, 4801: 1222, 4802: 1224, 4803: 1221, 4804: 1220, 4805: 1219, 4806: 1218, 4807: 1217, 4808: 1216, 4809: 1215, 4810: 1214, 4811: 1212, 4812: 1211, 4813: 1213, 4814: 1210, 4815: 1209, 4816: 1208, 4817: 1207, 4818: 1206, 4819: 1205, 4820: 1204, 4821: 1203, 4822: 1202, 4823: 1201, 4824: 1200, 4825: 1199, 4826: 1197, 4827: 1196, 4828: 1195, 4829: 1194, 4830: 1193, 4831: 1192, 4832: 1190, 4833: 1191, 4834: 1189, 4835: 1188, 4836: 1186, 4837: 1185, 4838: 1187, 4839: 1184, 4840: 1183, 4841: 1182, 4842: 1181, 4843: 1180, 4844: 1179, 4845: 1178, 4846: 1177, 4847: 1176, 4848: 1175, 4849: 1174, 4850: 1173, 4851: 1172, 4852: 1171, 4853: 1170, 4854: 1169, 4855: 1168, 4856: 1167, 4857: 1166, 4858: 1163, 4859: 1164, 4860: 1162, 4861: 1161, 4862: 1159, 4863: 1157, 4864: 1158, 4865: 1156, 4866: 1155, 4867: 1154, 4868: 1153, 4869: 1151, 4870: 1152, 4871: 1853, 4872: 1150, 4873: 1149, 4874: 1148, 4875: 1147, 4876: 1146, 4877: 1145, 4878: 1144, 4879: 1143, 4880: 1141, 4881: 1142, 4882: 1139, 4883: 1140, 4884: 1138, 4885: 1137, 4886: 1136, 4887: 1135, 4888: 1134, 4889: 1133, 4890: 1132, 4891: 1131, 4892: 1130, 4893: 1128, 4894: 1129, 4895: 1127, 4896: 1126, 4897: 1125, 4898: 1124, 4899: 1123, 4900: 1122, 4901: 1121, 4902: 1120, 4903: 1119, 4904: 1117, 4905: 1116, 4906: 1115, 4907: 1114, 4908: 1113, 4909: 1112, 4910: 1111, 4911: 1108, 4912: 1110, 4913: 1109, 4914: 1107, 4915: 1106, 4916: 1105, 4917: 1104, 4918: 1103, 4919: 1102, 4920: 1101, 4921: 1100, 4922: 1099, 4923: 1118, 4924: 1098, 4925: 1097, 4926: 1096, 4927: 1095, 4928: 1094, 4929: 1093, 4930: 1092, 4931: 1091, 4932: 1090, 4933: 1089, 4934: 1088, 4935: 1087, 4936: 1086, 4937: 1085, 4938: 1084, 4939: 1083, 4940: 1081, 4941: 1082, 4942: 1080, 4943: 1079, 4944: 1078, 4945: 1077, 4946: 1075, 4947: 1076, 4948: 1074, 4949: 1073, 4950: 1071, 4951: 1070, 4952: 1072, 4953: 1069, 4954: 1068, 4955: 1067, 4956: 1198, 4957: 1066, 4958: 1065, 4959: 1064, 4960: 1063, 4961: 1062, 4962: 1061, 4963: 1060, 4964: 1059, 4965: 1058, 4966: 1057, 4967: 1056, 4968: 1055, 4969: 1054, 4970: 1053, 4971: 1505, 4972: 1052, 4973: 1051, 4974: 1050, 4975: 1049, 4976: 1048, 4977: 1047, 4978: 1046, 4979: 1045, 4980: 1044, 4981: 1043, 4982: 1042, 4983: 1041, 4984: 1040, 4985: 1039, 4986: 1038, 4987: 1037, 4988: 1036, 4989: 1035, 4990: 1034, 4991: 1033, 4992: 1032, 4993: 1031, 4994: 1030, 4995: 1029, 4996: 1028, 4997: 1027, 4998: 1025, 4999: 1026, 5000: 1024, 5001: 1023, 5002: 1022, 5003: 1021, 5004: 1020, 5005: 1019, 5006: 1018, 5007: 1017, 5008: 1016, 5009: 1015, 5010: 1014, 5011: 1013, 5012: 1011, 5013: 1010, 5014: 1009, 5015: 1008, 5016: 1007, 5017: 1006, 5018: 1005, 5019: 1003, 5020: 1002, 5021: 1004, 5022: 1001, 5023: 1000, 5024: 999, 5025: 998, 5026: 997, 5027: 996, 5028: 995, 5029: 994, 5030: 993, 5031: 992, 5032: 1012, 5033: 991, 5034: 990, 5035: 989, 5036: 988, 5037: 986, 5038: 987, 5039: 985, 5040: 984, 5041: 983, 5042: 982, 5043: 981, 5044: 980, 5045: 979, 5046: 977, 5047: 976, 5048: 975, 5049: 978, 5050: 974, 5051: 973, 5052: 972, 5053: 971, 5054: 970, 5055: 969, 5056: 968, 5057: 966, 5058: 967, 5059: 964, 5060: 965, 5061: 963, 5062: 962, 5063: 961, 5064: 960, 5065: 959, 5066: 958, 5067: 957, 5068: 956, 5069: 955, 5070: 954, 5071: 953, 5072: 952, 5073: 950, 5074: 951, 5075: 949, 5076: 948, 5077: 947, 5078: 946, 5079: 945, 5080: 944, 5081: 1428, 5082: 943, 5083: 942, 5084: 941, 5085: 940, 5086: 938, 5087: 939, 5088: 937, 5089: 936, 5090: 935, 5091: 934, 5092: 933, 5093: 932, 5094: 931, 5095: 930, 5096: 929, 5097: 928, 5098: 927, 5099: 2247, 5100: 926, 5101: 925, 5102: 924, 5103: 923, 5104: 922, 5105: 921, 5106: 920, 5107: 919, 5108: 917, 5109: 916, 5110: 918, 5111: 915, 5112: 914, 5113: 913, 5114: 912, 5115: 911, 5116: 910, 5117: 909, 5118: 908, 5119: 907, 5120: 906, 5121: 905, 5122: 904, 5123: 903, 5124: 902, 5125: 901, 5126: 900, 5127: 899, 5128: 898, 5129: 897, 5130: 896, 5131: 895, 5132: 894, 5133: 893, 5134: 892, 5135: 891, 5136: 890, 5137: 889, 5138: 887, 5139: 888, 5140: 886, 5141: 885, 5142: 884, 5143: 883, 5144: 882, 5145: 881, 5146: 880, 5147: 879, 5148: 878, 5149: 877, 5150: 876, 5151: 875, 5152: 874, 5153: 873, 5154: 872, 5155: 871, 5156: 870, 5157: 869, 5158: 868, 5159: 867, 5160: 866, 5161: 865, 5162: 864, 5163: 863, 5164: 862, 5165: 861, 5166: 860, 5167: 859, 5168: 858, 5169: 857, 5170: 856, 5171: 854, 5172: 853, 5173: 852, 5174: 851, 5175: 850, 5176: 849, 5177: 848, 5178: 847, 5179: 845, 5180: 846, 5181: 844, 5182: 842, 5183: 841, 5184: 843, 5185: 840, 5186: 839, 5187: 838, 5188: 837, 5189: 836, 5190: 835, 5191: 834, 5192: 833, 5193: 832, 5194: 831, 5195: 830, 5196: 829, 5197: 828, 5198: 827, 5199: 826, 5200: 825, 5201: 824, 5202: 823, 5203: 822, 5204: 1165, 5205: 821, 5206: 820, 5207: 819, 5208: 818, 5209: 817, 5210: 816, 5211: 814, 5212: 815, 5213: 813, 5214: 811, 5215: 810, 5216: 809, 5217: 808, 5218: 807, 5219: 812, 5220: 806, 5221: 805, 5222: 804, 5223: 803, 5224: 802, 5225: 801, 5226: 800, 5227: 799, 5228: 798, 5229: 797, 5230: 796, 5231: 795, 5232: 794, 5233: 793, 5234: 792, 5235: 791, 5236: 790, 5237: 789, 5238: 788, 5239: 786, 5240: 787, 5241: 785, 5242: 784, 5243: 783, 5244: 782, 5245: 781, 5246: 780, 5247: 779, 5248: 778, 5249: 777, 5250: 776, 5251: 775, 5252: 774, 5253: 773, 5254: 772, 5255: 771, 5256: 770, 5257: 769, 5258: 768, 5259: 767, 5260: 766, 5261: 765, 5262: 764, 5263: 763, 5264: 762, 5265: 761, 5266: 760, 5267: 759, 5268: 758, 5269: 757, 5270: 756, 5271: 755, 5272: 754, 5273: 753, 5274: 752, 5275: 751, 5276: 750, 5277: 749, 5278: 748, 5279: 855, 5280: 747, 5281: 746, 5282: 745, 5283: 744, 5284: 743, 5285: 742, 5286: 741, 5287: 740, 5288: 739, 5289: 738, 5290: 737, 5291: 736, 5292: 735, 5293: 734, 5294: 733, 5295: 732, 5296: 731, 5297: 730, 5298: 729, 5299: 728, 5300: 727, 5301: 726, 5302: 725, 5303: 724, 5304: 723, 5305: 722, 5306: 721, 5307: 720, 5308: 719, 5309: 718, 5310: 717, 5311: 716, 5312: 715, 5313: 714, 5314: 713, 5315: 712, 5316: 711, 5317: 710, 5318: 709, 5319: 708, 5320: 707, 5321: 706, 5322: 705, 5323: 704, 5324: 703, 5325: 702, 5326: 701, 5327: 700, 5328: 699, 5329: 698, 5330: 697, 5331: 696, 5332: 695, 5333: 694, 5334: 693, 5335: 692, 5336: 691, 5337: 690, 5338: 689, 5339: 688, 5340: 687, 5341: 686, 5342: 685, 5343: 684, 5344: 682, 5345: 683, 5346: 681, 5347: 680, 5348: 679, 5349: 678, 5350: 677, 5351: 676, 5352: 675, 5353: 674, 5354: 673, 5355: 672, 5356: 671, 5357: 670, 5358: 669, 5359: 668, 5360: 667, 5361: 666, 5362: 665, 5363: 664, 5364: 663, 5365: 662, 5366: 661, 5367: 660, 5368: 659, 5369: 658, 5370: 657, 5371: 656, 5372: 655, 5373: 654, 5374: 653, 5375: 652, 5376: 651, 5377: 650, 5378: 649, 5379: 648, 5380: 647, 5381: 646, 5382: 645, 5383: 644, 5384: 643, 5385: 642, 5386: 641, 5387: 640, 5388: 639, 5389: 638, 5390: 637, 5391: 636, 5392: 635, 5393: 634, 5394: 633, 5395: 632, 5396: 631, 5397: 630, 5398: 628, 5399: 629, 5400: 627, 5401: 626, 5402: 625, 5403: 624, 5404: 623, 5405: 622, 5406: 621, 5407: 620, 5408: 619, 5409: 618, 5410: 617, 5411: 616, 5412: 615, 5413: 614, 5414: 613, 5415: 612, 5416: 611, 5417: 610, 5418: 609, 5419: 608, 5420: 607}}\n",
      "{'item_id': {858: 0, 593: 1, 2384: 2, 1961: 3, 2019: 4, 573: 5, 3505: 6, 213: 7, 3111: 8, 912: 9, 919: 10, 2503: 11, 527: 12, 649: 13, 1252: 14, 318: 15, 3289: 16, 759: 17, 608: 18, 2858: 19, 2028: 20, 1649: 21, 326: 22, 34: 23, 2762: 24, 246: 25, 2692: 26, 1617: 27, 1111: 28, 1392: 29, 562: 30, 549: 31, 866: 32, 448: 33, 1537: 34, 446: 35, 1094: 36, 50: 37, 162: 38, 508: 39, 589: 40, 1089: 41, 58: 42, 2580: 43, 1834: 44, 2391: 45, 282: 46, 111: 47, 290: 48, 2067: 49, 1641: 50, 930: 51, 3022: 52, 3088: 53, 2804: 54, 955: 55, 1276: 56, 2791: 57, 2300: 58, 2396: 59, 1028: 60, 3548: 61, 1197: 62, 1211: 63, 1223: 64, 951: 65, 933: 66, 907: 67, 1304: 68, 3175: 69, 1270: 70, 3035: 71, 3363: 72, 1078: 73, 3396: 74, 1934: 75, 911: 76, 945: 77, 2746: 78, 3037: 79, 952: 80, 1188: 81, 916: 82, 2289: 83, 1125: 84, 915: 85, 3471: 86, 750: 87, 260: 88, 1097: 89, 1210: 90, 924: 91, 914: 92, 3545: 93, 918: 94, 1022: 95, 899: 96, 364: 97, 1951: 98, 1947: 99, 588: 100, 3549: 101, 1380: 102, 1081: 103, 2857: 104, 2096: 105, 901: 106, 1088: 107, 938: 108, 2080: 109, 1416: 110, 199: 111, 1284: 112, 1212: 113, 904: 114, 903: 115, 913: 116, 1964: 117, 2208: 118, 1086: 119, 950: 120, 2206: 121, 906: 122, 942: 123, 1680: 124, 926: 125, 1237: 126, 923: 127, 2146: 128, 356: 129, 1079: 130, 1148: 131, 232: 132, 1136: 133, 1267: 134, 3148: 135, 1221: 136, 1193: 137, 1225: 138, 3196: 139, 908: 140, 3006: 141, 1207: 142, 3469: 143, 1721: 144, 1883: 145, 3468: 146, 1945: 147, 3359: 148, 1938: 149, 1231: 150, 2501: 151, 2324: 152, 3504: 153, 1203: 154, 2997: 155, 2710: 156, 3330: 157, 223: 158, 1208: 159, 3095: 160, 3068: 161, 1940: 162, 1941: 163, 1093: 164, 3203: 165, 3408: 166, 2599: 167, 2575: 168, 2336: 169, 1259: 170, 3467: 171, 17: 172, 2712: 173, 3159: 174, 2757: 175, 1939: 176, 3526: 177, 1952: 178, 2333: 179, 2318: 180, 2690: 181, 959: 182, 3152: 183, 1288: 184, 3160: 185, 3008: 186, 1953: 187, 1674: 188, 2734: 189, 909: 190, 3379: 191, 296: 192, 949: 193, 2490: 194, 968: 195, 1959: 196, 3201: 197, 1956: 198, 2758: 199, 299: 200, 2686: 201, 2395: 202, 43: 203, 2841: 204, 3081: 205, 2700: 206, 2070: 207, 3114: 208, 2693: 209, 2702: 210, 3176: 211, 3329: 212, 1554: 213, 3125: 214, 2010: 215, 461: 216, 1413: 217, 2024: 218, 720: 219, 1198: 220, 745: 221, 1281: 222, 1196: 223, 28: 224, 3307: 225, 3265: 226, 3224: 227, 1219: 228, 3128: 229, 3462: 230, 1719: 231, 1348: 232, 3030: 233, 3543: 234, 2075: 235, 2972: 236, 541: 237, 1248: 238, 1213: 239, 2859: 240, 1247: 241, 922: 242, 2919: 243, 2728: 244, 2609: 245, 2186: 246, 1303: 247, 1299: 248, 1412: 249, 1233: 250, 2648: 251, 2357: 252, 1104: 253, 2628: 254, 2732: 255, 3429: 256, 1080: 257, 1228: 258, 3424: 259, 2046: 260, 2571: 261, 1584: 262, 32: 263, 3365: 264, 1214: 265, 2664: 266, 800: 267, 1372: 268, 1356: 269, 1580: 270, 1396: 271, 1527: 272, 1294: 273, 1419: 274, 971: 275, 2660: 276, 329: 277, 2393: 278, 1217: 279, 3089: 280, 3075: 281, 1150: 282, 1931: 283, 2920: 284, 1240: 285, 2020: 286, 1056: 287, 1132: 288, 1041: 289, 1176: 290, 176: 291, 1199: 292, 3447: 293, 1374: 294, 1657: 295, 1376: 296, 1375: 297, 2455: 298, 2117: 299, 2407: 300, 2140: 301, 2311: 302, 2105: 303, 2021: 304, 3551: 305, 1234: 306, 1253: 307, 3547: 308, 1965: 309, 1373: 310, 2364: 311, 1397: 312, 1254: 313, 2730: 314, 3090: 315, 1278: 316, 247: 317, 2848: 318, 3362: 319, 1358: 320, 1594: 321, 1077: 322, 3461: 323, 599: 324, 3361: 325, 306: 326, 1185: 327, 3418: 328, 1242: 329, 110: 330, 307: 331, 1957: 332, 2064: 333, 1387: 334, 1504: 335, 1258: 336, 1704: 337, 1243: 338, 1345: 339, 249: 340, 1280: 341, 1784: 342, 293: 343, 590: 344, 2291: 345, 1179: 346, 1264: 347, 373: 348, 194: 349, 337: 350, 358: 351, 1366: 352, 515: 353, 150: 354, 2366: 355, 961: 356, 62: 357, 3342: 358, 11: 359, 3255: 360, 3252: 361, 509: 362, 1747: 363, 224: 364, 3435: 365, 2726: 366, 2361: 367, 1260: 368, 2966: 369, 900: 370, 1962: 371, 695: 372, 1201: 373, 1183: 374, 2875: 375, 1096: 376, 940: 377, 2644: 378, 1036: 379, 253: 380, 30: 381, 1027: 382, 1586: 383, 2908: 384, 3028: 385, 766: 386, 3521: 387, 25: 388, 418: 389, 3528: 390, 2431: 391, 1726: 392, 2313: 393, 1282: 394, 1340: 395, 3150: 396, 308: 397, 3498: 398, 235: 399, 969: 400, 1797: 401, 3550: 402, 2819: 403, 994: 404, 1296: 405, 2102: 406, 3499: 407, 1: 408, 594: 409, 1354: 410, 1301: 411, 3132: 412, 1265: 413, 1272: 414, 1954: 415, 320: 416, 1500: 417, 2947: 418, 2355: 419, 1517: 420, 3253: 421, 3018: 422, 2662: 423, 300: 424, 1827: 425, 2739: 426, 440: 427, 1614: 428, 2108: 429, 471: 430, 3147: 431, 1269: 432, 2926: 433, 3094: 434, 1944: 435, 1914: 436, 1377: 437, 3086: 438, 3267: 439, 1689: 440, 2266: 441, 153: 442, 2016: 443, 1012: 444, 2916: 445, 2699: 446, 2688: 447, 3053: 448, 123: 449, 3104: 450, 2729: 451, 1295: 452, 2329: 453, 2949: 454, 457: 455, 1127: 456, 2194: 457, 592: 458, 3404: 459, 480: 460, 1408: 461, 349: 462, 2353: 463, 1608: 464, 780: 465, 380: 466, 3197: 467, 292: 468, 2871: 469, 1273: 470, 151: 471, 1261: 472, 1189: 473, 3067: 474, 2512: 475, 1300: 476, 2349: 477, 1307: 478, 1960: 479, 1285: 480, 2076: 481, 2872: 482, 3101: 483, 1305: 484, 2915: 485, 2301: 486, 2011: 487, 2100: 488, 2022: 489, 680: 490, 3508: 491, 1289: 492, 2944: 493, 2948: 494, 2321: 495, 920: 496, 2160: 497, 3204: 498, 2085: 499, 714: 500, 2467: 501, 1292: 502, 1912: 503, 3097: 504, 1297: 505, 948: 506, 2943: 507, 596: 508, 2159: 509, 2176: 510, 2687: 511, 341: 512, 3524: 513, 2018: 514, 2427: 515, 3246: 516, 47: 517, 3552: 518, 2001: 519, 2890: 520, 2401: 521, 1350: 522, 475: 523, 1597: 524, 551: 525, 1673: 526, 3350: 527, 3108: 528, 3060: 529, 2118: 530, 1029: 531, 2951: 532, 1729: 533, 1907: 534, 3044: 535, 2312: 536, 1246: 537, 902: 538, 1921: 539, 1968: 540, 2985: 541, 1013: 542, 3143: 543, 1755: 544, 1082: 545, 1215: 546, 1244: 547, 2866: 548, 474: 549, 1730: 550, 3167: 551, 3260: 552, 531: 553, 3546: 554, 558: 555, 1206: 556, 1010: 557, 1643: 558, 3248: 559, 2987: 560, 3157: 561, 3270: 562, 910: 563, 1230: 564, 1256: 565, 1394: 566, 671: 567, 2124: 568, 2716: 569, 921: 570, 3072: 571, 1235: 572, 898: 573, 1238: 574, 1963: 575, 2174: 576, 3421: 577, 8: 578, 1275: 579, 1162: 580, 1073: 581, 361: 582, 1200: 583, 741: 584, 1291: 585, 1274: 586, 2565: 587, 2968: 588, 610: 589, 1129: 590, 3070: 591, 3527: 592, 29: 593, 1909: 594, 1204: 595, 2640: 596, 2528: 597, 1573: 598, 316: 599, 928: 600, 931: 601, 1344: 602, 3033: 603, 1690: 604, 2615: 605, 1391: 606, 1333: 607, 1994: 608, 2747: 609, 1917: 610, 173: 611, 442: 612, 319: 613, 2178: 614, 2034: 615, 1732: 616, 454: 617, 2642: 618, 2517: 619, 327: 620, 2973: 621, 2138: 622, 2797: 623, 1032: 624, 3479: 625, 2193: 626, 1967: 627, 2161: 628, 2: 629, 2087: 630, 3438: 631, 3489: 632, 1126: 633, 2253: 634, 2863: 635, 1172: 636, 3591: 637, 3529: 638, 2959: 639, 1792: 640, 265: 641, 165: 642, 861: 643, 1610: 644, 1101: 645, 6: 646, 733: 647, 2133: 648, 2683: 649, 3263: 650, 1653: 651, 2454: 652, 2009: 653, 3340: 654, 3555: 655, 1924: 656, 377: 657, 674: 658, 1876: 659, 1370: 660, 10: 661, 333: 662, 1644: 663, 1353: 664, 2724: 665, 3005: 666, 1321: 667, 2003: 668, 2288: 669, 1347: 670, 2717: 671, 2867: 672, 2787: 673, 1330: 674, 1970: 675, 1407: 676, 1645: 677, 1241: 678, 1339: 679, 724: 680, 1717: 681, 2328: 682, 407: 683, 1393: 684, 2125: 685, 7: 686, 2443: 687, 39: 688, 2572: 689, 1569: 690, 708: 691, 339: 692, 587: 693, 497: 694, 105: 695, 378: 696, 1722: 697, 353: 698, 3046: 699, 222: 700, 2496: 701, 2671: 702, 1629: 703, 2581: 704, 736: 705, 289: 706, 1894: 707, 48: 708, 2706: 709, 2723: 710, 218: 711, 1911: 712, 2805: 713, 2013: 714, 1513: 715, 2763: 716, 3405: 717, 2000: 718, 2406: 719, 2991: 720, 1220: 721, 1222: 722, 2058: 723, 2527: 724, 2989: 725, 648: 726, 3082: 727, 1918: 728, 2002: 729, 21: 730, 3257: 731, 490: 732, 2881: 733, 3256: 734, 1047: 735, 2826: 736, 3107: 737, 1552: 738, 145: 739, 555: 740, 494: 741, 2476: 742, 1544: 743, 1385: 744, 3274: 745, 2722: 746, 1687: 747, 786: 748, 434: 749, 1833: 750, 459: 751, 1100: 752, 2617: 753, 1616: 754, 1769: 755, 1320: 756, 479: 757, 535: 758, 1099: 759, 2069: 760, 1639: 761, 425: 762, 3129: 763, 1226: 764, 1216: 765, 2750: 766, 2025: 767, 2624: 768, 298: 769, 1809: 770, 3412: 771, 3535: 772, 485: 773, 204: 774, 2542: 775, 1882: 776, 1004: 777, 3174: 778, 2268: 779, 2330: 780, 1057: 781, 1805: 782, 493: 783, 1620: 784, 1958: 785, 22: 786, 2561: 787, 1598: 788, 81: 789, 2294: 790, 198: 791, 2112: 792, 1633: 793, 262: 794, 1788: 795, 1236: 796, 190: 797, 1298: 798, 1271: 799, 2912: 800, 3281: 801, 2439: 802, 1913: 803, 2425: 804, 3034: 805, 1447: 806, 2725: 807, 1748: 808, 2363: 809, 1588: 810, 3360: 811, 2474: 812, 2115: 813, 1287: 814, 2081: 815, 1923: 816, 2352: 817, 2130: 818, 1175: 819, 3334: 820, 2203: 821, 1069: 822, 3406: 823, 1785: 824, 237: 825, 381: 826, 2416: 827, 2752: 828, 1357: 829, 2598: 830, 2880: 831, 2167: 832, 112: 833, 577: 834, 303: 835, 3269: 836, 1779: 837, 2433: 838, 2761: 839, 141: 840, 3512: 841, 2701: 842, 954: 843, 3341: 844, 932: 845, 2529: 846, 3020: 847, 3441: 848, 288: 849, 996: 850, 3430: 851, 208: 852, 2531: 853, 3032: 854, 2094: 855, 1084: 856, 2611: 857, 2894: 858, 1209: 859, 3093: 860, 1283: 861, 964: 862, 368: 863, 3000: 864, 2993: 865, 2344: 866, 2990: 867, 2600: 868, 1262: 869, 2970: 870, 314: 871, 2088: 872, 3308: 873, 1566: 874, 661: 875, 492: 876, 2359: 877, 3503: 878, 2204: 879, 3419: 880, 2511: 881, 1466: 882, 2917: 883, 272: 884, 1147: 885, 2245: 886, 2937: 887, 1874: 888, 495: 889, 2996: 890, 2721: 891, 348: 892, 2907: 893, 978: 894, 1885: 895, 2243: 896, 125: 897, 45: 898, 2918: 899, 1066: 900, 357: 901, 2155: 902, 3481: 903, 1966: 904, 2303: 905, 1035: 906, 2971: 907, 52: 908, 1395: 909, 382: 910, 481: 911, 3358: 912, 2946: 913, 2657: 914, 2941: 915, 2463: 916, 2618: 917, 2718: 918, 3244: 919, 2844: 920, 342: 921, 2150: 922, 2144: 923, 3118: 924, 2704: 925, 2827: 926, 1801: 927, 2012: 928, 185: 929, 379: 930, 1831: 931, 691: 932, 2383: 933, 953: 934, 1676: 935, 1449: 936, 838: 937, 539: 938, 2369: 939, 2774: 940, 2891: 941, 2621: 942, 802: 943, 1625: 944, 73: 945, 1873: 946, 1250: 947, 36: 948, 3198: 949, 3448: 950, 1693: 951, 628: 952, 1682: 953, 225: 954, 2269: 955, 2147: 956, 233: 957, 2676: 958, 2424: 959, 1290: 960, 852: 961, 1777: 962, 2340: 963, 1409: 964, 2502: 965, 3073: 966, 1043: 967, 1997: 968, 1982: 969, 3576: 970, 879: 971, 799: 972, 742: 973, 188: 974, 1327: 975, 3247: 976, 2519: 977, 2097: 978, 3325: 979, 2377: 980, 1771: 981, 2513: 982, 2149: 983, 1388: 984, 1999: 985, 2113: 986, 2119: 987, 2430: 988, 1049: 989, 3036: 990, 2370: 991, 2322: 992, 836: 993, 160: 994, 2735: 995, 2851: 996, 2450: 997, 3062: 998, 2273: 999, 517: 1000, 1438: 1001, 95: 1002, 1479: 1003, 2741: 1004, 2276: 1005, 3155: 1006, 351: 1007, 2006: 1008, 2554: 1009, 2553: 1010, 152: 1011, 1130: 1012, 2781: 1013, 2901: 1014, 3016: 1015, 3264: 1016, 2459: 1017, 1342: 1018, 177: 1019, 2713: 1020, 2793: 1021, 273: 1022, 2789: 1023, 2902: 1024, 611: 1025, 595: 1026, 2143: 1027, 2139: 1028, 1033: 1029, 2137: 1030, 2116: 1031, 1881: 1032, 1025: 1033, 2840: 1034, 1190: 1035, 678: 1036, 1678: 1037, 261: 1038, 1694: 1039, 1095: 1040, 892: 1041, 2237: 1042, 1897: 1043, 412: 1044, 281: 1045, 529: 1046, 230: 1047, 345: 1048, 2390: 1049, 3371: 1050, 1935: 1051, 3494: 1052, 2287: 1053, 2645: 1054, 2641: 1055, 1950: 1056, 1090: 1057, 3168: 1058, 1615: 1059, 1507: 1060, 2166: 1061, 1178: 1062, 3317: 1063, 1892: 1064, 3262: 1065, 3538: 1066, 2764: 1067, 999: 1068, 1227: 1069, 2707: 1070, 2284: 1071, 830: 1072, 2488: 1073, 1343: 1074, 832: 1075, 2551: 1076, 229: 1077, 259: 1078, 2302: 1079, 441: 1080, 1184: 1081, 2622: 1082, 574: 1083, 597: 1084, 372: 1085, 1042: 1086, 2423: 1087, 2795: 1088, 2066: 1089, 2940: 1090, 746: 1091, 1431: 1092, 524: 1093, 2613: 1094, 2136: 1095, 2082: 1096, 1019: 1097, 317: 1098, 367: 1099, 2015: 1100, 2054: 1101, 673: 1102, 1009: 1103, 2550: 1104, 3476: 1105, 2120: 1106, 2541: 1107, 1948: 1108, 2392: 1109, 24: 1110, 3210: 1111, 3099: 1112, 2457: 1113, 3061: 1114, 1663: 1115, 2371: 1116, 3039: 1117, 2779: 1118, 2539: 1119, 386: 1120, 3300: 1121, 3354: 1122, 304: 1123, 3238: 1124, 104: 1125, 3040: 1126, 653: 1127, 1218: 1128, 3452: 1129, 3506: 1130, 344: 1131, 69: 1132, 3087: 1133, 88: 1134, 433: 1135, 2518: 1136, 1390: 1137, 513: 1138, 1888: 1139, 2414: 1140, 1518: 1141, 1587: 1142, 2403: 1143, 3186: 1144, 315: 1145, 1429: 1146, 1378: 1147, 466: 1148, 2405: 1149, 227: 1150, 387: 1151, 1752: 1152, 2402: 1153, 3444: 1154, 1379: 1155, 70: 1156, 1382: 1157, 2468: 1158, 2404: 1159, 1591: 1160, 3440: 1161, 3439: 1162, 2132: 1163, 3416: 1164, 80: 1165, 668: 1166, 363: 1167, 2605: 1168, 86: 1169, 2694: 1170, 2278: 1171, 3513: 1172, 3019: 1173, 1361: 1174, 3398: 1175, 3338: 1176, 1794: 1177, 3588: 1178, 55: 1179, 3459: 1180, 1224: 1181, 2248: 1182, 2348: 1183, 3397: 1184, 2114: 1185, 2145: 1186, 2247: 1187, 1251: 1188, 3076: 1189, 3507: 1190, 2870: 1191, 1362: 1192, 2925: 1193, 3135: 1194, 3283: 1195, 2238: 1196, 2921: 1197, 1955: 1198, 2932: 1199, 2346: 1200, 2394: 1201, 2421: 1202, 3536: 1203, 3484: 1204, 1411: 1205, 1487: 1206, 3273: 1207, 3250: 1208, 3450: 1209, 3105: 1210, 1302: 1211, 1895: 1212, 3478: 1213, 1286: 1214, 3466: 1215, 605: 1216, 805: 1217, 2162: 1218, 1848: 1219, 1750: 1220, 60: 1221, 491: 1222, 1949: 1223, 1293: 1224, 3451: 1225, 3102: 1226, 553: 1227, 3066: 1228, 1856: 1229, 161: 1230, 1672: 1231, 1171: 1232, 500: 1233, 1279: 1234, 1401: 1235, 3052: 1236, 532: 1237, 3015: 1238, 144: 1239, 647: 1240, 2745: 1241, 1459: 1242, 1186: 1243, 2110: 1244, 3296: 1245, 350: 1246, 1485: 1247, 1619: 1248, 371: 1249, 231: 1250, 2372: 1251, 1727: 1252, 2180: 1253, 2520: 1254, 2524: 1255, 2977: 1256, 3206: 1257, 2398: 1258, 1103: 1259, 534: 1260, 1942: 1261, 2612: 1262, 3347: 1263, 973: 1264, 917: 1265, 3071: 1266, 3163: 1267, 1946: 1268, 1177: 1269, 82: 1270, 1124: 1271, 2969: 1272, 2065: 1273, 1556: 1274, 2334: 1275, 3366: 1276, 2905: 1277, 3134: 1278, 3091: 1279, 3096: 1280, 670: 1281, 2935: 1282, 2731: 1283, 681: 1284, 1927: 1285, 1131: 1286, 946: 1287, 2210: 1288, 2202: 1289, 2670: 1290, 3364: 1291, 976: 1292, 1277: 1293, 3100: 1294, 2068: 1295, 1085: 1296, 2183: 1297, 2929: 1298, 2212: 1299, 2078: 1300, 3230: 1301, 1840: 1302, 970: 1303, 963: 1304, 2616: 1305, 986: 1306, 3501: 1307, 3310: 1308, 12: 1309, 3368: 1310, 1371: 1311, 258: 1312, 947: 1313, 1266: 1314, 2570: 1315, 3475: 1316, 905: 1317, 982: 1318, 1245: 1319, 944: 1320, 965: 1321, 2633: 1322, 3585: 1323, 171: 1324, 488: 1325, 1120: 1326, 1192: 1327, 1648: 1328, 1611: 1329, 2071: 1330, 164: 1331, 2927: 1332, 778: 1333, 523: 1334, 1660: 1335, 2171: 1336, 1683: 1337, 1060: 1338, 1365: 1339, 1943: 1340, 692: 1341, 1744: 1342, 718: 1343, 512: 1344, 3115: 1345, 2967: 1346, 1092: 1347, 3219: 1348, 2803: 1349, 3010: 1350, 1759: 1351, 2351: 1352, 2310: 1353, 1053: 1354, 1635: 1355, 1263: 1356, 1916: 1357, 501: 1358, 1023: 1359, 1844: 1360, 2820: 1361, 97: 1362, 1836: 1363, 1701: 1364, 851: 1365, 1810: 1366, 538: 1367, 1829: 1368, 3211: 1369, 3158: 1370, 2314: 1371, 580: 1372, 2285: 1373, 2665: 1374, 3188: 1375, 2005: 1376, 266: 1377, 1499: 1378, 1173: 1379, 2975: 1380, 2770: 1381, 2038: 1382, 3519: 1383, 416: 1384, 1472: 1385, 2023: 1386, 2956: 1387, 3422: 1388, 1845: 1389, 3266: 1390, 1743: 1391, 581: 1392, 1699: 1393, 1310: 1394, 77: 1395, 2689: 1396, 297: 1397, 2282: 1398, 16: 1399, 2440: 1400, 1268: 1401, 3178: 1402, 1667: 1403, 2976: 1404, 507: 1405, 3480: 1406, 1034: 1407, 3272: 1408, 2389: 1409, 107: 1410, 1030: 1411, 2265: 1412, 1405: 1413, 1920: 1414, 2083: 1415, 1806: 1416, 101: 1417, 1257: 1418, 2261: 1419, 663: 1420, 1546: 1421, 2111: 1422, 2356: 1423, 180: 1424, 543: 1425, 2134: 1426, 1884: 1427, 2794: 1428, 784: 1429, 2249: 1430, 3544: 1431, 410: 1432, 63: 1433, 1760: 1434, 166: 1435, 2555: 1436, 3495: 1437, 1112: 1438, 280: 1439, 893: 1440, 1563: 1441, 1483: 1442, 2386: 1443, 2678: 1444, 2037: 1445, 934: 1446, 700: 1447, 468: 1448, 2475: 1449, 1627: 1450, 2267: 1451, 1464: 1452, 451: 1453, 2583: 1454, 1711: 1455, 335: 1456, 1480: 1457, 163: 1458, 2801: 1459, 2586: 1460, 1249: 1461, 3516: 1462, 3584: 1463, 3600: 1464, 3602: 1465, 3605: 1466, 3200: 1467, 1937: 1468, 2506: 1469, 635: 1470, 4: 1471, 2436: 1472, 516: 1473, 1021: 1474, 450: 1475, 2485: 1476, 1621: 1477, 1547: 1478, 2771: 1479, 2719: 1480, 2906: 1481, 2961: 1482, 2672: 1483, 2806: 1484, 2014: 1485, 2709: 1486, 2004: 1487, 1161: 1488, 2470: 1489, 2922: 1490, 1205: 1491, 3054: 1492, 2924: 1493, 2275: 1494, 2041: 1495, 1590: 1496, 172: 1497, 3213: 1498, 2360: 1499, 848: 1500, 362: 1501, 376: 1502, 2530: 1503, 2532: 1504, 168: 1505, 533: 1506, 1306: 1507, 2788: 1508, 1425: 1509, 2141: 1510, 1367: 1511, 2413: 1512, 552: 1513, 2060: 1514, 2478: 1515, 2733: 1516, 3045: 1517, 2286: 1518, 1167: 1519, 2306: 1520, 234: 1521, 444: 1522, 1441: 1523, 35: 1524, 1835: 1525, 427: 1526, 1454: 1527, 3557: 1528, 3349: 1529, 41: 1530, 3608: 1531, 3284: 1532, 616: 1533, 1334: 1534, 76: 1535, 2533: 1536, 426: 1537, 1762: 1538, 1037: 1539, 2808: 1540, 2668: 1541, 2091: 1542, 748: 1543, 3614: 1544, 1059: 1545, 3074: 1546, 1008: 1547, 1936: 1548, 2109: 1549, 1194: 1550, 1061: 1551, 537: 1552, 3486: 1553, 2661: 1554, 2290: 1555, 2173: 1556, 2239: 1557, 242: 1558, 154: 1559, 1925: 1560, 2939: 1561, 2711: 1562, 897: 1563, 26: 1564, 1684: 1565, 2492: 1566, 613: 1567, 207: 1568, 3: 1569, 46: 1570, 3436: 1571, 943: 1572, 206: 1573, 3194: 1574, 2829: 1575, 2293: 1576, 2677: 1577, 556: 1578, 2469: 1579, 929: 1580, 2649: 1581, 2656: 1582, 2780: 1583, 2654: 1584, 1337: 1585, 841: 1586, 2428: 1587, 2260: 1588, 3112: 1589, 3007: 1590, 3271: 1591, 3069: 1592, 785: 1593, 1783: 1594, 835: 1595, 2573: 1596, 2493: 1597, 89: 1598, 3565: 1599, 3133: 1600, 216: 1601, 2567: 1602, 170: 1603, 2568: 1604, 126: 1605, 837: 1606, 1422: 1607, 1421: 1608, 2121: 1609, 2412: 1610, 2634: 1611, 2784: 1612, 1332: 1613, 332: 1614, 196: 1615, 2900: 1616, 1341: 1617, 1128: 1618, 1995: 1619, 1974: 1620, 2107: 1621, 935: 1622, 3518: 1623, 3559: 1624, 3415: 1625, 3311: 1626, 3456: 1627, 3083: 1628, 1046: 1629, 1406: 1630, 214: 1631, 334: 1632, 3384: 1633, 1116: 1634, 1875: 1635, 2815: 1636, 205: 1637, 2626: 1638, 2331: 1639, 862: 1640, 1535: 1641, 3606: 1642, 1031: 1643, 1020: 1644, 569: 1645, 1488: 1646, 3372: 1647, 1067: 1648, 3386: 1649, 236: 1650, 3259: 1651, 1593: 1652, 2822: 1653, 1457: 1654, 276: 1655, 688: 1656, 2090: 1657, 2782: 1658, 3285: 1659, 2772: 1660, 2995: 1661, 3502: 1662, 2077: 1663, 941: 1664, 3145: 1665, 3038: 1666, 2653: 1667, 428: 1668, 2651: 1669, 3024: 1670, 2647: 1671, 2650: 1672, 936: 1673, 962: 1674, 2682: 1675, 3275: 1676, 511: 1677, 2195: 1678, 2231: 1679, 3477: 1680, 482: 1681, 456: 1682, 2442: 1683, 2093: 1684, 1446: 1685, 3106: 1686, 3328: 1687, 1202: 1688, 2417: 1689, 2802: 1690, 3221: 1691, 3570: 1692, 3571: 1693, 389: 1694, 2983: 1695, 3355: 1696, 1650: 1697, 85: 1698, 788: 1699, 2335: 1700, 2498: 1701, 435: 1702, 2638: 1703, 2646: 1704, 2163: 1705, 1346: 1706, 2667: 1707, 2365: 1708, 1821: 1709, 445: 1710, 2577: 1711, 324: 1712, 203: 1713, 1904: 1714, 1688: 1715, 3049: 1716, 452: 1717, 2236: 1718, 586: 1719, 550: 1720, 1613: 1721, 14: 1722, 477: 1723, 269: 1724, 215: 1725, 806: 1726, 1589: 1727, 2893: 1728, 2836: 1729, 2607: 1730, 3604: 1731, 2759: 1732, 3409: 1733, 1542: 1734, 2029: 1735, 3258: 1736, 2052: 1737, 520: 1738, 3487: 1739, 1754: 1740, 3525: 1741, 1799: 1742, 707: 1743, 383: 1744, 432: 1745, 458: 1746, 2986: 1747, 3432: 1748, 3431: 1749, 3434: 1750, 3433: 1751, 2896: 1752, 1007: 1753, 487: 1754, 2055: 1755, 1734: 1756, 1804: 1757, 2458: 1758, 122: 1759, 2606: 1760, 3077: 1761, 121: 1762, 2345: 1763, 3169: 1764, 3047: 1765, 3098: 1766, 2639: 1767, 3402: 1768, 2521: 1769, 1123: 1770, 1865: 1771, 322: 1772, 1414: 1773, 3298: 1774, 1571: 1775, 2099: 1776, 3199: 1777, 514: 1778, 2263: 1779, 2252: 1780, 585: 1781, 2736: 1782, 2135: 1783, 116: 1784, 783: 1785, 2585: 1786, 2154: 1787, 1647: 1788, 2594: 1789, 3510: 1790, 2507: 1791, 781: 1792, 2281: 1793, 2053: 1794, 210: 1795, 650: 1796, 2272: 1797, 57: 1798, 3261: 1799, 9: 1800, 2432: 1801, 2546: 1802, 728: 1803, 252: 1804, 278: 1805, 991: 1806, 3113: 1807, 1919: 1808, 2491: 1809, 801: 1810, 312: 1811, 186: 1812, 305: 1813, 1812: 1814, 1900: 1815, 1585: 1816, 525: 1817, 1187: 1818, 3079: 1819, 988: 1820, 2610: 1821, 2842: 1822, 2587: 1823, 449: 1824, 984: 1825, 956: 1826, 2453: 1827, 1006: 1828, 1624: 1829, 2738: 1830, 2184: 1831, 798: 1832, 2187: 1833, 3249: 1834, 2316: 1835, 2483: 1836, 20: 1837, 2714: 1838, 2882: 1839, 1545: 1840, 2562: 1841, 615: 1842, 2744: 1843, 42: 1844, 2153: 1845, 2057: 1846, 340: 1847, 158: 1848, 2089: 1849, 2048: 1850, 2846: 1851, 1654: 1852, 2079: 1853, 960: 1854, 2205: 1855, 735: 1856, 1646: 1857, 2796: 1858, 518: 1859, 1612: 1860, 2148: 1861, 2497: 1862, 2952: 1863, 1599: 1864, 464: 1865, 360: 1866, 1497: 1867, 1562: 1868, 1626: 1869, 393: 1870, 31: 1871, 140: 1872, 2397: 1873, 3217: 1874, 1465: 1875, 2420: 1876, 3251: 1877, 2320: 1878, 159: 1879, 3426: 1880, 3423: 1881, 565: 1882, 1655: 1883, 2868: 1884, 2898: 1885, 1984: 1886, 2992: 1887, 627: 1888, 1929: 1889, 2938: 1890, 147: 1891, 632: 1892, 1477: 1893, 352: 1894, 1735: 1895, 2297: 1896, 1603: 1897, 504: 1898, 849: 1899, 2448: 1900, 880: 1901, 3622: 1902, 417: 1903, 769: 1904, 3142: 1905, 2883: 1906, 2123: 1907, 3520: 1908, 2860: 1909, 3587: 1910, 1758: 1911, 2899: 1912, 484: 1913, 257: 1914, 2045: 1915, 3395: 1916, 3578: 1917, 3509: 1918, 3301: 1919, 554: 1920, 96: 1921, 3137: 1922, 2669: 1923, 2879: 1924, 1017: 1925, 1015: 1926, 2437: 1927, 1135: 1928, 1713: 1929, 1516: 1930, 2378: 1931, 275: 1932, 2375: 1933, 3387: 1934, 637: 1935, 2043: 1936, 462: 1937, 2373: 1938, 2033: 1939, 2126: 1940, 3500: 1941, 807: 1942, 987: 1943, 1600: 1944, 1476: 1945, 2418: 1946, 1064: 1947, 309: 1948, 321: 1949, 1695: 1950, 3556: 1951, 1896: 1952, 2337: 1953, 3417: 1954, 2936: 1955, 2776: 1956, 2630: 1957, 2720: 1958, 2629: 1959, 1428: 1960, 3598: 1961, 2696: 1962, 2177: 1963, 2574: 1964, 2988: 1965, 2240: 1966, 3182: 1967, 355: 1968, 1363: 1969, 1631: 1970, 2181: 1971, 2131: 1972, 2861: 1973, 1669: 1974, 2062: 1975, 302: 1976, 2620: 1977, 431: 1978, 2410: 1979, 2409: 1980, 2411: 1981, 1482: 1982, 2376: 1983, 3483: 1984, 1866: 1985, 544: 1986, 548: 1987, 423: 1988, 3029: 1989, 3011: 1990, 1398: 1991, 94: 1992, 2852: 1993, 2262: 1994, 2419: 1995, 1898: 1996, 3370: 1997, 2928: 1998, 201: 1999, 463: 2000, 2447: 2001, 3534: 2002, 3579: 2003, 3554: 2004, 3617: 2005, 3596: 2006, 3618: 2007, 3537: 2008, 3597: 2009, 3326: 2010, 2408: 2011, 1605: 2012, 761: 2013, 1681: 2014, 1083: 2015, 2874: 2016, 2472: 2017, 2659: 2018, 3254: 2019, 135: 2020, 1113: 2021, 2558: 2022, 804: 2023, 2473: 2024, 3243: 2025, 2471: 2026, 1453: 2027, 2151: 2028, 2257: 2029, 765: 2030, 1475: 2031, 2756: 2032, 3223: 2033, 1484: 2034, 2753: 2035, 3420: 2036, 1515: 2037, 3103: 2038, 3109: 2039, 2889: 2040, 1906: 2041, 3613: 2042, 3492: 2043, 1642: 2044, 803: 2045, 1564: 2046, 638: 2047, 1498: 2048, 301: 2049, 469: 2050, 818: 2051, 662: 2052, 506: 2053, 2165: 2054, 187: 2055, 1461: 2056, 1658: 2057, 2792: 2058, 719: 2059, 567: 2060, 1152: 2061, 1068: 2062, 854: 2063, 850: 2064, 669: 2065, 1670: 2066, 2362: 2067, 263: 2068, 476: 2069, 3531: 2070, 563: 2071, 1753: 2072, 1772: 2073, 343: 2074, 3539: 2075, 2305: 2076, 155: 2077, 3399: 2078, 927: 2079, 1014: 2080, 3144: 2081, 429: 2082, 1410: 2083, 3619: 2084, 571: 2085, 211: 2086, 2749: 2087, 465: 2088, 3173: 2089, 2877: 2090, 175: 2091, 3425: 2092, 78: 2093, 1044: 2094, 869: 2095, 1473: 2096, 3304: 2097, 3306: 2098, 2767: 2099, 156: 2100, 2325: 2101, 3013: 2102, 1677: 2103, 256: 2104, 472: 2105, 2279: 2106, 640: 2107, 1791: 2108, 5: 2109, 1665: 2110, 436: 2111, 782: 2112, 2504: 2113, 2505: 2114, 2387: 2115, 2445: 2116, 370: 2117, 415: 2118, 1432: 2119, 704: 2120, 438: 2121, 3130: 2122, 2307: 2123, 157: 2124, 3127: 2125, 2399: 2126, 2296: 2127, 71: 2128, 1862: 2129, 709: 2130, 1592: 2131, 3235: 2132, 2494: 2133, 1991: 2134, 1971: 2135, 1973: 2136, 1969: 2137, 1975: 2138, 1983: 2139, 1972: 2140, 2903: 2141, 3445: 2142, 2942: 2143, 2540: 2144, 409: 2145, 391: 2146, 23: 2147, 998: 2148, 1662: 2149, 19: 2150, 1824: 2151, 1746: 2152, 2812: 2153, 283: 2154, 1601: 2155, 132: 2156, 61: 2157, 2338: 2158, 540: 2159, 2495: 2160, 3497: 2161, 100: 2162, 209: 2163, 1870: 2164, 2259: 2165, 3389: 2166, 443: 2167, 365: 2168, 3357: 2169, 3580: 2170, 3319: 2171, 2708: 2172, 937: 2173, 3185: 2174, 1733: 2175, 277: 2176, 3179: 2177, 15: 2178, 1858: 2179, 2810: 2180, 2374: 2181, 2072: 2182, 2050: 2183, 2950: 2184, 2035: 2185, 1702: 2186, 2047: 2187, 336: 2188, 467: 2189, 3639: 2190, 3634: 2191, 3414: 2192, 779: 2193, 1846: 2194, 183: 2195, 197: 2196, 503: 2197, 2856: 2198, 633: 2199, 3063: 2200, 1255: 2201, 762: 2202, 267: 2203, 547: 2204, 1051: 2205, 3449: 2206, 330: 2207, 522: 2208, 2182: 2209, 2051: 2210, 27: 2211, 808: 2212, 881: 2213, 1359: 2214, 2354: 2215, 2040: 2216, 3344: 2217, 2256: 2218, 202: 2219, 896: 2220, 2596: 2221, 346: 2222, 2106: 2223, 72: 2224, 2059: 2225, 1355: 2226, 2122: 2227, 2451: 2228, 2514: 2229, 2535: 2230, 3339: 2231, 18: 2232, 1232: 2233, 3153: 2234, 366: 2235, 2315: 2236, 2026: 2237, 328: 2238, 1978: 2239, 1980: 2240, 1976: 2241, 1981: 2242, 1623: 2243, 421: 2244, 2978: 2245, 2032: 2246, 1016: 2247, 1018: 2248, 3031: 2249, 1091: 2250, 3004: 2251, 3643: 2252, 1445: 2253, 3628: 2254, 3324: 2255, 3638: 2256, 3633: 2257, 3635: 2258, 3629: 2259, 3645: 2260, 3491: 2261, 3594: 2262, 1525: 2263, 3017: 2264, 2681: 2265, 3599: 2266, 2888: 2267, 1541: 2268, 3470: 2269, 2426: 2270, 195: 2271, 3457: 2272, 2456: 2273, 3345: 2274, 3644: 2275, 737: 2276, 3388: 2277, 1399: 2278, 455: 2279, 1902: 2280, 2560: 2281, 2280: 2282, 2323: 2283, 1349: 2284, 3208: 2285, 886: 2286, 694: 2287, 2833: 2288, 390: 2289, 760: 2290, 1154: 2291, 731: 2292, 2347: 2293, 3427: 2294, 1404: 2295, 1003: 2296, 1841: 2297, 1087: 2298, 2084: 2299, 715: 2300, 2232: 2301, 3138: 2302, 1977: 2303, 606: 2304, 1979: 2305, 3624: 2306, 3623: 2307, 2737: 2308, 3214: 2309, 3515: 2310, 2168: 2311, 3156: 2312, 3464: 2313, 2526: 2314, 2549: 2315, 967: 2316, 2981: 2317, 2984: 2318, 13: 2319, 1117: 2320, 3120: 2321, 2367: 2322, 2027: 2323, 2188: 2324, 53: 2325, 1050: 2326, 3612: 2327, 2834: 2328, 38: 2329, 3566: 2330, 2435: 2331, 2073: 2332, 3615: 2333, 2828: 2334, 74: 2335, 2674: 2336, 3671: 2337, 3683: 2338, 3684: 2339, 2597: 2340, 413: 2341, 697: 2342, 3327: 2343, 117: 2344, 44: 2345, 1863: 2346, 3385: 2347, 3048: 2348, 3712: 2349, 1609: 2350, 3697: 2351, 3703: 2352, 3685: 2353, 3702: 2354, 2593: 2355, 583: 2356, 1986: 2357, 1985: 2358, 3698: 2359, 3704: 2360, 3699: 2361, 3675: 2362, 2095: 2363, 408: 2364, 3706: 2365, 3676: 2366, 3681: 2367, 3654: 2368, 3693: 2369, 2017: 2370, 1381: 2371, 2843: 2372, 3707: 2373, 1180: 2374, 3428: 2375, 1889: 2376, 3711: 2377, 2499: 2378, 68: 2379, 842: 2380, 2652: 2381, 3660: 2382, 3021: 2383, 1988: 2384, 1998: 2385, 891: 2386, 3701: 2387, 3649: 2388, 3705: 2389, 3686: 2390, 3682: 2391, 193: 2392, 702: 2393, 1415: 2394, 83: 2395, 3282: 2396, 3632: 2397, 3713: 2398, 3678: 2399, 3668: 2400, 1024: 2401, 2092: 2402, 2482: 2403, 1987: 2404, 1686: 2405, 2945: 2406, 568: 2407, 422: 2408, 809: 2409, 1604: 2410, 405: 2411, 420: 2412, 502: 2413, 546: 2414, 1869: 2415, 1389: 2416, 2548: 2417, 3394: 2418, 369: 2419, 453: 2420, 2341: 2421, 1928: 2422, 602: 2423, 219: 2424, 3700: 2425, 3669: 2426, 2098: 2427, 505: 2428, 3677: 2429, 877: 2430, 846: 2431, 771: 2432, 2007: 2433, 1749: 2434, 92: 2435, 3473: 2436, 483: 2437, 617: 2438, 3680: 2439, 1420: 2440, 3674: 2441, 338: 2442, 1854: 2443, 3367: 2444, 3661: 2445, 2862: 2446, 2904: 2447, 2215: 2448, 2190: 2449, 510: 2450, 1468: 2451, 2429: 2452, 3672: 2453, 3708: 2454, 3691: 2455, 716: 2456, 3055: 2457, 3051: 2458, 1837: 2459, 3593: 2460, 2589: 2461, 2953: 2462, 1011: 2463, 3679: 2464, 2385: 2465, 270: 2466, 1661: 2467, 2295: 2468, 3190: 2469, 542: 2470, 2643: 2471, 2847: 2472, 2211: 2473, 3171: 2474, 755: 2475, 3532: 2476, 3189: 2477, 79: 2478, 753: 2479, 875: 2480, 3078: 2481, 621: 2482, 3688: 2483, 3710: 2484, 3740: 2485, 3730: 2486, 3724: 2487, 3731: 2488, 3732: 2489, 3716: 2490, 3734: 2491, 3733: 2492, 3729: 2493, 3735: 2494, 3738: 2495, 2422: 2496, 1533: 2497, 3567: 2498, 3742: 2499, 3287: 2500, 1460: 2501, 3590: 2502, 3715: 2503, 3723: 2504, 813: 2505, 1508: 2506, 106: 2507, 1696: 2508, 3728: 2509, 3117: 2510, 347: 2511, 40: 2512, 2697: 2513, 388: 2514, 1054: 2515, 685: 2516, 3741: 2517, 1922: 2518, 1857: 2519, 268: 2520, 1458: 2521, 1169: 2522, 1105: 2523, 2516: 2524, 2500: 2525, 2169: 2526, 486: 2527, 840: 2528, 1855: 2529, 1005: 2530, 2042: 2531, 2798: 2532, 65: 2533, 1703: 2534, 2799: 2535, 99: 2536, 1191: 2537, 831: 2538, 2785: 2539, 3736: 2540, 1814: 2541, 3343: 2542, 3181: 2543, 1119: 2544, 1417: 2545, 2074: 2546, 3653: 2547, 3241: 2548, 2632: 2549, 3299: 2550, 3454: 2551, 3225: 2552, 1725: 2553, 1551: 2554, 113: 2555, 191: 2556, 375: 2557, 1816: 2558, 2434: 2559, 2590: 2560, 2157: 2561, 3646: 2562, 2876: 2563, 1860: 2564, 722: 2565, 3714: 2566, 3692: 2567, 2327: 2568, 3709: 2569, 313: 2570, 1063: 2571, 2049: 2572, 829: 2573, 294: 2574, 1770: 2575, 609: 2576, 3658: 2577, 3727: 2578, 1437: 2579, 811: 2580, 3725: 2581, 2271: 2582, 2400: 2583, 169: 2584, 3511: 2585, 3673: 2586, 656: 2587, 146: 2588, 888: 2589, 828: 2590, 239: 2591, 705: 2592, 2104: 2593, 2755: 2594, 3655: 2595, 570: 2596, 764: 2597, 2885: 2598, 3717: 2599, 3744: 2600, 2227: 2601, 1114: 2602, 2197: 2603, 2250: 2604, 118: 2605, 1549: 2606, 519: 2607, 2727: 2608, 3726: 2609, 3320: 2610, 2813: 2611, 2221: 2612, 3739: 2613, 2625: 2614, 1509: 2615, 3540: 2616, 2201: 2617, 974: 2618, 1707: 2619, 54: 2620, 3496: 2621, 863: 2622, 2241: 2623, 3719: 2624, 2751: 2625, 66: 2626, 3146: 2627, 1879: 2628, 925: 2629, 3092: 2630, 3637: 2631, 2128: 2632, 3627: 2633, 1893: 2634, 1502: 2635, 3586: 2636, 1151: 2637, 3745: 2638, 354: 2639, 424: 2640, 3670: 2641, 2481: 2642, 3754: 2643, 2152: 2644, 631: 2645, 217: 2646, 2766: 2647, 2103: 2648, 3746: 2649, 3763: 2650, 2824: 2651, 3751: 2652, 3771: 2653, 3766: 2654, 665: 2655, 3760: 2656, 238: 2657, 1331: 2658, 2523: 2659, 103: 2660, 3769: 2661, 3758: 2662, 3183: 2663, 3662: 2664, 3663: 2665, 1153: 2666, 3122: 2667, 3025: 2668, 1511: 2669, 824: 2670, 3768: 2671, 3770: 2672, 37: 2673, 2522: 2674, 2175: 2675, 2509: 2676, 2552: 2677, 3764: 2678, 575: 2679, 1440: 2680, 1474: 2681, 603: 2682, 2582: 2683, 2170: 2684, 3309: 2685, 3752: 2686, 3316: 2687, 3788: 2688, 3791: 2689, 2748: 2690, 2800: 2691, 3753: 2692, 3694: 2693, 3755: 2694, 1026: 2695, 1899: 2696, 2056: 2697, 3792: 2698, 3375: 2699, 2525: 2700, 1317: 2701, 84: 2702, 639: 2703, 248: 2704, 1463: 2705, 1531: 2706, 3110: 2707, 3720: 2708, 2086: 2709, 254: 2710, 3789: 2711, 3775: 2712, 1992: 2713, 1993: 2714, 3268: 2715, 2179: 2716, 2964: 2717, 496: 2718, 2446: 2719, 1798: 2720, 3569: 2721, 149: 2722, 3773: 2723, 1910: 2724, 251: 2725, 3780: 2726, 598: 2727, 3783: 2728, 3737: 2729, 3759: 2730, 2816: 2731, 1351: 2732, 521: 2733, 2817: 2734, 174: 2735, 711: 2736, 3446: 2737, 3474: 2738, 3002: 2739, 1076: 2740, 374: 2741, 2933: 2742, 3776: 2743, 1932: 2744, 885: 2745, 3747: 2746, 419: 2747, 178: 2748, 710: 2749, 1887: 2750, 3782: 2751, 489: 2752, 1002: 2753, 1651: 2754, 3124: 2755, 1493: 2756, 1666: 2757, 49: 2758, 1767: 2759, 2460: 2760, 1583: 2761, 612: 2762, 2675: 2763, 1656: 2764, 3302: 2765, 3192: 2766, 2304: 2767, 1880: 2768, 1496: 2769, 659: 2770, 2142: 2771, 3218: 2772, 528: 2773, 359: 2774, 1839: 2775, 3620: 2776, 3222: 2777, 331: 2778, 1692: 2779, 1926: 2780, 3333: 2781, 2884: 2782, 1523: 2783, 1575: 2784, 2158: 2785, 1503: 2786, 3640: 2787, 3577: 2788, 1326: 2789, 2790: 2790, 241: 2791, 3392: 2792, 3393: 2793, 2379: 2794, 560: 2795, 2569: 2796, 966: 2797, 499: 2798, 279: 2799, 536: 2800, 128: 2801, 2255: 2802, 414: 2803, 1731: 2804, 1825: 2805, 3626: 2806, 3812: 2807, 3814: 2808, 3819: 2809, 3809: 2810, 3811: 2811, 3121: 2812, 3765: 2813, 3802: 2814, 3801: 2815, 3810: 2816, 2031: 2817, 1456: 2818, 2864: 2819, 3400: 2820, 957: 2821, 2786: 2822, 3785: 2823, 3793: 2824, 3690: 2825, 1565: 2826, 3813: 2827, 2381: 2828, 2380: 2829, 3806: 2830, 3790: 2831, 3787: 2832, 743: 2833, 2283: 2834, 3286: 2835, 1439: 2836, 3795: 2837, 2129: 2838, 3784: 2839, 1596: 2840, 561: 2841, 2441: 2842, 1352: 2843, 2865: 2844, 882: 2845, 1582: 2846, 3391: 2847, 860: 2848, 1640: 2849, 3749: 2850, 1312: 2851, 2839: 2852, 3064: 2853, 2264: 2854, 498: 2855, 2156: 2856, 2963: 2857, 3803: 2858, 1756: 2859, 3798: 2860, 864: 2861, 751: 2862, 2342: 2863, 3318: 2864, 754: 2865, 181: 2866, 1163: 2867, 3276: 2868, 3718: 2869, 3616: 2870, 2189: 2871, 2101: 2872, 3014: 2873, 3804: 2874, 3689: 2875, 1427: 2876, 3807: 2877, 1336: 2878, 1570: 2879, 3659: 2880, 600: 2881, 3834: 2882, 3141: 2883, 3836: 2884, 3844: 2885, 3403: 2886, 3849: 2887, 2849: 2888, 182: 2889, 1489: 2890, 3786: 2891, 1423: 2892, 1572: 2893, 3805: 2894, 3794: 2895, 3846: 2896, 2663: 2897, 725: 2898, 3840: 2899, 3835: 2900, 2466: 2901, 3821: 2902, 3839: 2903, 3816: 2904, 1807: 2905, 271: 2906, 3808: 2907, 3847: 2908, 3827: 2909, 1867: 2910, 2635: 2911, 1550: 2912, 1606: 2913, 2743: 2914, 2886: 2915, 2044: 2916, 1138: 2917, 384: 2918, 3781: 2919, 64: 2920, 473: 2921, 3841: 2922, 997: 2923, 2382: 2924, 3177: 2925, 3761: 2926, 1581: 2927, 1529: 2928, 3833: 2929, 1671: 2930, 990: 2931, 1933: 2932, 839: 2933, 3165: 2934, 3767: 2935, 667: 2936, 870: 2937, 3695: 2938, 1668: 2939, 2913: 2940, 3845: 2941, 3822: 2942, 3832: 2943, 767: 2944, 87: 2945, 3837: 2946, 3696: 2947, 3838: 2948, 1000: 2949, 2185: 2950, 240: 2951, 2835: 2952, 1996: 2953, 3848: 2954, 394: 2955, 2931: 2956, 1715: 2957, 3826: 2958, 3050: 2959, 2666: 2960, 3139: 2961, 2559: 2962, 2036: 2963, 250: 2964, 3611: 2965, 2998: 2966, 1811: 2967, 747: 2968, 3817: 2969, 1450: 2970, 124: 2971, 3859: 2972, 3861: 2973, 3831: 2974, 2462: 2975, 3825: 2976, 1859: 2977, 833: 2978, 1526: 2979, 3843: 2980, 189: 2981, 1329: 2982, 2673: 2983, 3140: 2984, 2461: 2985, 2853: 2986, 2979: 2987, 958: 2988, 291: 2989, 3401: 2990, 325: 2991, 1442: 2992, 3873: 2993, 3869: 2994, 3858: 2995, 3410: 2996, 3351: 2997, 2388: 2998, 3868: 2999, 3553: 3000, 3872: 3001, 255: 3002, 3870: 3003, 619: 3004, 1144: 3005, 3871: 3006, 93: 3007, 102: 3008, 2637: 3009, 564: 3010, 3857: 3011, 3799: 3012, 3863: 3013, 2219: 3014, 3823: 3015, 3240: 3016, 3860: 3017, 3864: 3018, 2566: 3019, 3453: 3020, 3877: 3021, 3852: 3022, 3880: 3023, 2691: 3024, 3874: 3025, 3886: 3026, 392: 3027, 3824: 3028, 129: 3029, 3882: 3030, 3879: 3031, 184: 3032, 2809: 3033, 2897: 3034, 3743: 3035, 3625: 3036, 3867: 3037, 3851: 3038, 3853: 3039, 2627: 3040, 3514: 3041, 3855: 3042, 3568: 3043, 148: 3044, 645: 3045, 2830: 3046, 406: 3047, 1728: 3048, 3897: 3049, 3926: 3050, 3927: 3051, 2837: 3052, 3919: 3053, 3917: 3054, 3893: 3055, 3889: 3056, 3901: 3057, 3920: 3058, 3865: 3059, 3910: 3060, 3915: 3061, 876: 3062, 3929: 3063, 3896: 3064, 3898: 3065, 3936: 3066, 3928: 3067, 3161: 3068, 3925: 3069, 3895: 3070, 3918: 3071, 3932: 3072, 3930: 3073, 3796: 3074, 3903: 3075, 3908: 3076, 2994: 3077, 3921: 3078, 3916: 3079, 3923: 3080, 3909: 3081, 3911: 3082, 2773: 3083, 3948: 3084, 3947: 3085, 3937: 3086, 3952: 3087, 3894: 3088, 1058: 3089, 3914: 3090, 3884: 3091, 3934: 3092, 3878: 3093, 3943: 3094, 3885: 3095, 2769: 3096, 2775: 3097, 3949: 3098, 3935: 3099, 3946: 3100, 3913: 3101, 3950: 3102, 2415: 3103, 3922: 3104, 1780: 3105, 2923: 3106, 3562: 3107, 2965: 3108, 3924: 3109, 3951: 3110, 3900: 3111, 3854: 3112, 3912: 3113, 295: 3114, 3902: 3115, 2339: 3116, 2768: 3117, 3906: 3118, 136: 3119}} {'item_id': {0: 858, 1: 593, 2: 2384, 3: 1961, 4: 2019, 5: 573, 6: 3505, 7: 213, 8: 3111, 9: 912, 10: 919, 11: 2503, 12: 527, 13: 649, 14: 1252, 15: 318, 16: 3289, 17: 759, 18: 608, 19: 2858, 20: 2028, 21: 1649, 22: 326, 23: 34, 24: 2762, 25: 246, 26: 2692, 27: 1617, 28: 1111, 29: 1392, 30: 562, 31: 549, 32: 866, 33: 448, 34: 1537, 35: 446, 36: 1094, 37: 50, 38: 162, 39: 508, 40: 589, 41: 1089, 42: 58, 43: 2580, 44: 1834, 45: 2391, 46: 282, 47: 111, 48: 290, 49: 2067, 50: 1641, 51: 930, 52: 3022, 53: 3088, 54: 2804, 55: 955, 56: 1276, 57: 2791, 58: 2300, 59: 2396, 60: 1028, 61: 3548, 62: 1197, 63: 1211, 64: 1223, 65: 951, 66: 933, 67: 907, 68: 1304, 69: 3175, 70: 1270, 71: 3035, 72: 3363, 73: 1078, 74: 3396, 75: 1934, 76: 911, 77: 945, 78: 2746, 79: 3037, 80: 952, 81: 1188, 82: 916, 83: 2289, 84: 1125, 85: 915, 86: 3471, 87: 750, 88: 260, 89: 1097, 90: 1210, 91: 924, 92: 914, 93: 3545, 94: 918, 95: 1022, 96: 899, 97: 364, 98: 1951, 99: 1947, 100: 588, 101: 3549, 102: 1380, 103: 1081, 104: 2857, 105: 2096, 106: 901, 107: 1088, 108: 938, 109: 2080, 110: 1416, 111: 199, 112: 1284, 113: 1212, 114: 904, 115: 903, 116: 913, 117: 1964, 118: 2208, 119: 1086, 120: 950, 121: 2206, 122: 906, 123: 942, 124: 1680, 125: 926, 126: 1237, 127: 923, 128: 2146, 129: 356, 130: 1079, 131: 1148, 132: 232, 133: 1136, 134: 1267, 135: 3148, 136: 1221, 137: 1193, 138: 1225, 139: 3196, 140: 908, 141: 3006, 142: 1207, 143: 3469, 144: 1721, 145: 1883, 146: 3468, 147: 1945, 148: 3359, 149: 1938, 150: 1231, 151: 2501, 152: 2324, 153: 3504, 154: 1203, 155: 2997, 156: 2710, 157: 3330, 158: 223, 159: 1208, 160: 3095, 161: 3068, 162: 1940, 163: 1941, 164: 1093, 165: 3203, 166: 3408, 167: 2599, 168: 2575, 169: 2336, 170: 1259, 171: 3467, 172: 17, 173: 2712, 174: 3159, 175: 2757, 176: 1939, 177: 3526, 178: 1952, 179: 2333, 180: 2318, 181: 2690, 182: 959, 183: 3152, 184: 1288, 185: 3160, 186: 3008, 187: 1953, 188: 1674, 189: 2734, 190: 909, 191: 3379, 192: 296, 193: 949, 194: 2490, 195: 968, 196: 1959, 197: 3201, 198: 1956, 199: 2758, 200: 299, 201: 2686, 202: 2395, 203: 43, 204: 2841, 205: 3081, 206: 2700, 207: 2070, 208: 3114, 209: 2693, 210: 2702, 211: 3176, 212: 3329, 213: 1554, 214: 3125, 215: 2010, 216: 461, 217: 1413, 218: 2024, 219: 720, 220: 1198, 221: 745, 222: 1281, 223: 1196, 224: 28, 225: 3307, 226: 3265, 227: 3224, 228: 1219, 229: 3128, 230: 3462, 231: 1719, 232: 1348, 233: 3030, 234: 3543, 235: 2075, 236: 2972, 237: 541, 238: 1248, 239: 1213, 240: 2859, 241: 1247, 242: 922, 243: 2919, 244: 2728, 245: 2609, 246: 2186, 247: 1303, 248: 1299, 249: 1412, 250: 1233, 251: 2648, 252: 2357, 253: 1104, 254: 2628, 255: 2732, 256: 3429, 257: 1080, 258: 1228, 259: 3424, 260: 2046, 261: 2571, 262: 1584, 263: 32, 264: 3365, 265: 1214, 266: 2664, 267: 800, 268: 1372, 269: 1356, 270: 1580, 271: 1396, 272: 1527, 273: 1294, 274: 1419, 275: 971, 276: 2660, 277: 329, 278: 2393, 279: 1217, 280: 3089, 281: 3075, 282: 1150, 283: 1931, 284: 2920, 285: 1240, 286: 2020, 287: 1056, 288: 1132, 289: 1041, 290: 1176, 291: 176, 292: 1199, 293: 3447, 294: 1374, 295: 1657, 296: 1376, 297: 1375, 298: 2455, 299: 2117, 300: 2407, 301: 2140, 302: 2311, 303: 2105, 304: 2021, 305: 3551, 306: 1234, 307: 1253, 308: 3547, 309: 1965, 310: 1373, 311: 2364, 312: 1397, 313: 1254, 314: 2730, 315: 3090, 316: 1278, 317: 247, 318: 2848, 319: 3362, 320: 1358, 321: 1594, 322: 1077, 323: 3461, 324: 599, 325: 3361, 326: 306, 327: 1185, 328: 3418, 329: 1242, 330: 110, 331: 307, 332: 1957, 333: 2064, 334: 1387, 335: 1504, 336: 1258, 337: 1704, 338: 1243, 339: 1345, 340: 249, 341: 1280, 342: 1784, 343: 293, 344: 590, 345: 2291, 346: 1179, 347: 1264, 348: 373, 349: 194, 350: 337, 351: 358, 352: 1366, 353: 515, 354: 150, 355: 2366, 356: 961, 357: 62, 358: 3342, 359: 11, 360: 3255, 361: 3252, 362: 509, 363: 1747, 364: 224, 365: 3435, 366: 2726, 367: 2361, 368: 1260, 369: 2966, 370: 900, 371: 1962, 372: 695, 373: 1201, 374: 1183, 375: 2875, 376: 1096, 377: 940, 378: 2644, 379: 1036, 380: 253, 381: 30, 382: 1027, 383: 1586, 384: 2908, 385: 3028, 386: 766, 387: 3521, 388: 25, 389: 418, 390: 3528, 391: 2431, 392: 1726, 393: 2313, 394: 1282, 395: 1340, 396: 3150, 397: 308, 398: 3498, 399: 235, 400: 969, 401: 1797, 402: 3550, 403: 2819, 404: 994, 405: 1296, 406: 2102, 407: 3499, 408: 1, 409: 594, 410: 1354, 411: 1301, 412: 3132, 413: 1265, 414: 1272, 415: 1954, 416: 320, 417: 1500, 418: 2947, 419: 2355, 420: 1517, 421: 3253, 422: 3018, 423: 2662, 424: 300, 425: 1827, 426: 2739, 427: 440, 428: 1614, 429: 2108, 430: 471, 431: 3147, 432: 1269, 433: 2926, 434: 3094, 435: 1944, 436: 1914, 437: 1377, 438: 3086, 439: 3267, 440: 1689, 441: 2266, 442: 153, 443: 2016, 444: 1012, 445: 2916, 446: 2699, 447: 2688, 448: 3053, 449: 123, 450: 3104, 451: 2729, 452: 1295, 453: 2329, 454: 2949, 455: 457, 456: 1127, 457: 2194, 458: 592, 459: 3404, 460: 480, 461: 1408, 462: 349, 463: 2353, 464: 1608, 465: 780, 466: 380, 467: 3197, 468: 292, 469: 2871, 470: 1273, 471: 151, 472: 1261, 473: 1189, 474: 3067, 475: 2512, 476: 1300, 477: 2349, 478: 1307, 479: 1960, 480: 1285, 481: 2076, 482: 2872, 483: 3101, 484: 1305, 485: 2915, 486: 2301, 487: 2011, 488: 2100, 489: 2022, 490: 680, 491: 3508, 492: 1289, 493: 2944, 494: 2948, 495: 2321, 496: 920, 497: 2160, 498: 3204, 499: 2085, 500: 714, 501: 2467, 502: 1292, 503: 1912, 504: 3097, 505: 1297, 506: 948, 507: 2943, 508: 596, 509: 2159, 510: 2176, 511: 2687, 512: 341, 513: 3524, 514: 2018, 515: 2427, 516: 3246, 517: 47, 518: 3552, 519: 2001, 520: 2890, 521: 2401, 522: 1350, 523: 475, 524: 1597, 525: 551, 526: 1673, 527: 3350, 528: 3108, 529: 3060, 530: 2118, 531: 1029, 532: 2951, 533: 1729, 534: 1907, 535: 3044, 536: 2312, 537: 1246, 538: 902, 539: 1921, 540: 1968, 541: 2985, 542: 1013, 543: 3143, 544: 1755, 545: 1082, 546: 1215, 547: 1244, 548: 2866, 549: 474, 550: 1730, 551: 3167, 552: 3260, 553: 531, 554: 3546, 555: 558, 556: 1206, 557: 1010, 558: 1643, 559: 3248, 560: 2987, 561: 3157, 562: 3270, 563: 910, 564: 1230, 565: 1256, 566: 1394, 567: 671, 568: 2124, 569: 2716, 570: 921, 571: 3072, 572: 1235, 573: 898, 574: 1238, 575: 1963, 576: 2174, 577: 3421, 578: 8, 579: 1275, 580: 1162, 581: 1073, 582: 361, 583: 1200, 584: 741, 585: 1291, 586: 1274, 587: 2565, 588: 2968, 589: 610, 590: 1129, 591: 3070, 592: 3527, 593: 29, 594: 1909, 595: 1204, 596: 2640, 597: 2528, 598: 1573, 599: 316, 600: 928, 601: 931, 602: 1344, 603: 3033, 604: 1690, 605: 2615, 606: 1391, 607: 1333, 608: 1994, 609: 2747, 610: 1917, 611: 173, 612: 442, 613: 319, 614: 2178, 615: 2034, 616: 1732, 617: 454, 618: 2642, 619: 2517, 620: 327, 621: 2973, 622: 2138, 623: 2797, 624: 1032, 625: 3479, 626: 2193, 627: 1967, 628: 2161, 629: 2, 630: 2087, 631: 3438, 632: 3489, 633: 1126, 634: 2253, 635: 2863, 636: 1172, 637: 3591, 638: 3529, 639: 2959, 640: 1792, 641: 265, 642: 165, 643: 861, 644: 1610, 645: 1101, 646: 6, 647: 733, 648: 2133, 649: 2683, 650: 3263, 651: 1653, 652: 2454, 653: 2009, 654: 3340, 655: 3555, 656: 1924, 657: 377, 658: 674, 659: 1876, 660: 1370, 661: 10, 662: 333, 663: 1644, 664: 1353, 665: 2724, 666: 3005, 667: 1321, 668: 2003, 669: 2288, 670: 1347, 671: 2717, 672: 2867, 673: 2787, 674: 1330, 675: 1970, 676: 1407, 677: 1645, 678: 1241, 679: 1339, 680: 724, 681: 1717, 682: 2328, 683: 407, 684: 1393, 685: 2125, 686: 7, 687: 2443, 688: 39, 689: 2572, 690: 1569, 691: 708, 692: 339, 693: 587, 694: 497, 695: 105, 696: 378, 697: 1722, 698: 353, 699: 3046, 700: 222, 701: 2496, 702: 2671, 703: 1629, 704: 2581, 705: 736, 706: 289, 707: 1894, 708: 48, 709: 2706, 710: 2723, 711: 218, 712: 1911, 713: 2805, 714: 2013, 715: 1513, 716: 2763, 717: 3405, 718: 2000, 719: 2406, 720: 2991, 721: 1220, 722: 1222, 723: 2058, 724: 2527, 725: 2989, 726: 648, 727: 3082, 728: 1918, 729: 2002, 730: 21, 731: 3257, 732: 490, 733: 2881, 734: 3256, 735: 1047, 736: 2826, 737: 3107, 738: 1552, 739: 145, 740: 555, 741: 494, 742: 2476, 743: 1544, 744: 1385, 745: 3274, 746: 2722, 747: 1687, 748: 786, 749: 434, 750: 1833, 751: 459, 752: 1100, 753: 2617, 754: 1616, 755: 1769, 756: 1320, 757: 479, 758: 535, 759: 1099, 760: 2069, 761: 1639, 762: 425, 763: 3129, 764: 1226, 765: 1216, 766: 2750, 767: 2025, 768: 2624, 769: 298, 770: 1809, 771: 3412, 772: 3535, 773: 485, 774: 204, 775: 2542, 776: 1882, 777: 1004, 778: 3174, 779: 2268, 780: 2330, 781: 1057, 782: 1805, 783: 493, 784: 1620, 785: 1958, 786: 22, 787: 2561, 788: 1598, 789: 81, 790: 2294, 791: 198, 792: 2112, 793: 1633, 794: 262, 795: 1788, 796: 1236, 797: 190, 798: 1298, 799: 1271, 800: 2912, 801: 3281, 802: 2439, 803: 1913, 804: 2425, 805: 3034, 806: 1447, 807: 2725, 808: 1748, 809: 2363, 810: 1588, 811: 3360, 812: 2474, 813: 2115, 814: 1287, 815: 2081, 816: 1923, 817: 2352, 818: 2130, 819: 1175, 820: 3334, 821: 2203, 822: 1069, 823: 3406, 824: 1785, 825: 237, 826: 381, 827: 2416, 828: 2752, 829: 1357, 830: 2598, 831: 2880, 832: 2167, 833: 112, 834: 577, 835: 303, 836: 3269, 837: 1779, 838: 2433, 839: 2761, 840: 141, 841: 3512, 842: 2701, 843: 954, 844: 3341, 845: 932, 846: 2529, 847: 3020, 848: 3441, 849: 288, 850: 996, 851: 3430, 852: 208, 853: 2531, 854: 3032, 855: 2094, 856: 1084, 857: 2611, 858: 2894, 859: 1209, 860: 3093, 861: 1283, 862: 964, 863: 368, 864: 3000, 865: 2993, 866: 2344, 867: 2990, 868: 2600, 869: 1262, 870: 2970, 871: 314, 872: 2088, 873: 3308, 874: 1566, 875: 661, 876: 492, 877: 2359, 878: 3503, 879: 2204, 880: 3419, 881: 2511, 882: 1466, 883: 2917, 884: 272, 885: 1147, 886: 2245, 887: 2937, 888: 1874, 889: 495, 890: 2996, 891: 2721, 892: 348, 893: 2907, 894: 978, 895: 1885, 896: 2243, 897: 125, 898: 45, 899: 2918, 900: 1066, 901: 357, 902: 2155, 903: 3481, 904: 1966, 905: 2303, 906: 1035, 907: 2971, 908: 52, 909: 1395, 910: 382, 911: 481, 912: 3358, 913: 2946, 914: 2657, 915: 2941, 916: 2463, 917: 2618, 918: 2718, 919: 3244, 920: 2844, 921: 342, 922: 2150, 923: 2144, 924: 3118, 925: 2704, 926: 2827, 927: 1801, 928: 2012, 929: 185, 930: 379, 931: 1831, 932: 691, 933: 2383, 934: 953, 935: 1676, 936: 1449, 937: 838, 938: 539, 939: 2369, 940: 2774, 941: 2891, 942: 2621, 943: 802, 944: 1625, 945: 73, 946: 1873, 947: 1250, 948: 36, 949: 3198, 950: 3448, 951: 1693, 952: 628, 953: 1682, 954: 225, 955: 2269, 956: 2147, 957: 233, 958: 2676, 959: 2424, 960: 1290, 961: 852, 962: 1777, 963: 2340, 964: 1409, 965: 2502, 966: 3073, 967: 1043, 968: 1997, 969: 1982, 970: 3576, 971: 879, 972: 799, 973: 742, 974: 188, 975: 1327, 976: 3247, 977: 2519, 978: 2097, 979: 3325, 980: 2377, 981: 1771, 982: 2513, 983: 2149, 984: 1388, 985: 1999, 986: 2113, 987: 2119, 988: 2430, 989: 1049, 990: 3036, 991: 2370, 992: 2322, 993: 836, 994: 160, 995: 2735, 996: 2851, 997: 2450, 998: 3062, 999: 2273, 1000: 517, 1001: 1438, 1002: 95, 1003: 1479, 1004: 2741, 1005: 2276, 1006: 3155, 1007: 351, 1008: 2006, 1009: 2554, 1010: 2553, 1011: 152, 1012: 1130, 1013: 2781, 1014: 2901, 1015: 3016, 1016: 3264, 1017: 2459, 1018: 1342, 1019: 177, 1020: 2713, 1021: 2793, 1022: 273, 1023: 2789, 1024: 2902, 1025: 611, 1026: 595, 1027: 2143, 1028: 2139, 1029: 1033, 1030: 2137, 1031: 2116, 1032: 1881, 1033: 1025, 1034: 2840, 1035: 1190, 1036: 678, 1037: 1678, 1038: 261, 1039: 1694, 1040: 1095, 1041: 892, 1042: 2237, 1043: 1897, 1044: 412, 1045: 281, 1046: 529, 1047: 230, 1048: 345, 1049: 2390, 1050: 3371, 1051: 1935, 1052: 3494, 1053: 2287, 1054: 2645, 1055: 2641, 1056: 1950, 1057: 1090, 1058: 3168, 1059: 1615, 1060: 1507, 1061: 2166, 1062: 1178, 1063: 3317, 1064: 1892, 1065: 3262, 1066: 3538, 1067: 2764, 1068: 999, 1069: 1227, 1070: 2707, 1071: 2284, 1072: 830, 1073: 2488, 1074: 1343, 1075: 832, 1076: 2551, 1077: 229, 1078: 259, 1079: 2302, 1080: 441, 1081: 1184, 1082: 2622, 1083: 574, 1084: 597, 1085: 372, 1086: 1042, 1087: 2423, 1088: 2795, 1089: 2066, 1090: 2940, 1091: 746, 1092: 1431, 1093: 524, 1094: 2613, 1095: 2136, 1096: 2082, 1097: 1019, 1098: 317, 1099: 367, 1100: 2015, 1101: 2054, 1102: 673, 1103: 1009, 1104: 2550, 1105: 3476, 1106: 2120, 1107: 2541, 1108: 1948, 1109: 2392, 1110: 24, 1111: 3210, 1112: 3099, 1113: 2457, 1114: 3061, 1115: 1663, 1116: 2371, 1117: 3039, 1118: 2779, 1119: 2539, 1120: 386, 1121: 3300, 1122: 3354, 1123: 304, 1124: 3238, 1125: 104, 1126: 3040, 1127: 653, 1128: 1218, 1129: 3452, 1130: 3506, 1131: 344, 1132: 69, 1133: 3087, 1134: 88, 1135: 433, 1136: 2518, 1137: 1390, 1138: 513, 1139: 1888, 1140: 2414, 1141: 1518, 1142: 1587, 1143: 2403, 1144: 3186, 1145: 315, 1146: 1429, 1147: 1378, 1148: 466, 1149: 2405, 1150: 227, 1151: 387, 1152: 1752, 1153: 2402, 1154: 3444, 1155: 1379, 1156: 70, 1157: 1382, 1158: 2468, 1159: 2404, 1160: 1591, 1161: 3440, 1162: 3439, 1163: 2132, 1164: 3416, 1165: 80, 1166: 668, 1167: 363, 1168: 2605, 1169: 86, 1170: 2694, 1171: 2278, 1172: 3513, 1173: 3019, 1174: 1361, 1175: 3398, 1176: 3338, 1177: 1794, 1178: 3588, 1179: 55, 1180: 3459, 1181: 1224, 1182: 2248, 1183: 2348, 1184: 3397, 1185: 2114, 1186: 2145, 1187: 2247, 1188: 1251, 1189: 3076, 1190: 3507, 1191: 2870, 1192: 1362, 1193: 2925, 1194: 3135, 1195: 3283, 1196: 2238, 1197: 2921, 1198: 1955, 1199: 2932, 1200: 2346, 1201: 2394, 1202: 2421, 1203: 3536, 1204: 3484, 1205: 1411, 1206: 1487, 1207: 3273, 1208: 3250, 1209: 3450, 1210: 3105, 1211: 1302, 1212: 1895, 1213: 3478, 1214: 1286, 1215: 3466, 1216: 605, 1217: 805, 1218: 2162, 1219: 1848, 1220: 1750, 1221: 60, 1222: 491, 1223: 1949, 1224: 1293, 1225: 3451, 1226: 3102, 1227: 553, 1228: 3066, 1229: 1856, 1230: 161, 1231: 1672, 1232: 1171, 1233: 500, 1234: 1279, 1235: 1401, 1236: 3052, 1237: 532, 1238: 3015, 1239: 144, 1240: 647, 1241: 2745, 1242: 1459, 1243: 1186, 1244: 2110, 1245: 3296, 1246: 350, 1247: 1485, 1248: 1619, 1249: 371, 1250: 231, 1251: 2372, 1252: 1727, 1253: 2180, 1254: 2520, 1255: 2524, 1256: 2977, 1257: 3206, 1258: 2398, 1259: 1103, 1260: 534, 1261: 1942, 1262: 2612, 1263: 3347, 1264: 973, 1265: 917, 1266: 3071, 1267: 3163, 1268: 1946, 1269: 1177, 1270: 82, 1271: 1124, 1272: 2969, 1273: 2065, 1274: 1556, 1275: 2334, 1276: 3366, 1277: 2905, 1278: 3134, 1279: 3091, 1280: 3096, 1281: 670, 1282: 2935, 1283: 2731, 1284: 681, 1285: 1927, 1286: 1131, 1287: 946, 1288: 2210, 1289: 2202, 1290: 2670, 1291: 3364, 1292: 976, 1293: 1277, 1294: 3100, 1295: 2068, 1296: 1085, 1297: 2183, 1298: 2929, 1299: 2212, 1300: 2078, 1301: 3230, 1302: 1840, 1303: 970, 1304: 963, 1305: 2616, 1306: 986, 1307: 3501, 1308: 3310, 1309: 12, 1310: 3368, 1311: 1371, 1312: 258, 1313: 947, 1314: 1266, 1315: 2570, 1316: 3475, 1317: 905, 1318: 982, 1319: 1245, 1320: 944, 1321: 965, 1322: 2633, 1323: 3585, 1324: 171, 1325: 488, 1326: 1120, 1327: 1192, 1328: 1648, 1329: 1611, 1330: 2071, 1331: 164, 1332: 2927, 1333: 778, 1334: 523, 1335: 1660, 1336: 2171, 1337: 1683, 1338: 1060, 1339: 1365, 1340: 1943, 1341: 692, 1342: 1744, 1343: 718, 1344: 512, 1345: 3115, 1346: 2967, 1347: 1092, 1348: 3219, 1349: 2803, 1350: 3010, 1351: 1759, 1352: 2351, 1353: 2310, 1354: 1053, 1355: 1635, 1356: 1263, 1357: 1916, 1358: 501, 1359: 1023, 1360: 1844, 1361: 2820, 1362: 97, 1363: 1836, 1364: 1701, 1365: 851, 1366: 1810, 1367: 538, 1368: 1829, 1369: 3211, 1370: 3158, 1371: 2314, 1372: 580, 1373: 2285, 1374: 2665, 1375: 3188, 1376: 2005, 1377: 266, 1378: 1499, 1379: 1173, 1380: 2975, 1381: 2770, 1382: 2038, 1383: 3519, 1384: 416, 1385: 1472, 1386: 2023, 1387: 2956, 1388: 3422, 1389: 1845, 1390: 3266, 1391: 1743, 1392: 581, 1393: 1699, 1394: 1310, 1395: 77, 1396: 2689, 1397: 297, 1398: 2282, 1399: 16, 1400: 2440, 1401: 1268, 1402: 3178, 1403: 1667, 1404: 2976, 1405: 507, 1406: 3480, 1407: 1034, 1408: 3272, 1409: 2389, 1410: 107, 1411: 1030, 1412: 2265, 1413: 1405, 1414: 1920, 1415: 2083, 1416: 1806, 1417: 101, 1418: 1257, 1419: 2261, 1420: 663, 1421: 1546, 1422: 2111, 1423: 2356, 1424: 180, 1425: 543, 1426: 2134, 1427: 1884, 1428: 2794, 1429: 784, 1430: 2249, 1431: 3544, 1432: 410, 1433: 63, 1434: 1760, 1435: 166, 1436: 2555, 1437: 3495, 1438: 1112, 1439: 280, 1440: 893, 1441: 1563, 1442: 1483, 1443: 2386, 1444: 2678, 1445: 2037, 1446: 934, 1447: 700, 1448: 468, 1449: 2475, 1450: 1627, 1451: 2267, 1452: 1464, 1453: 451, 1454: 2583, 1455: 1711, 1456: 335, 1457: 1480, 1458: 163, 1459: 2801, 1460: 2586, 1461: 1249, 1462: 3516, 1463: 3584, 1464: 3600, 1465: 3602, 1466: 3605, 1467: 3200, 1468: 1937, 1469: 2506, 1470: 635, 1471: 4, 1472: 2436, 1473: 516, 1474: 1021, 1475: 450, 1476: 2485, 1477: 1621, 1478: 1547, 1479: 2771, 1480: 2719, 1481: 2906, 1482: 2961, 1483: 2672, 1484: 2806, 1485: 2014, 1486: 2709, 1487: 2004, 1488: 1161, 1489: 2470, 1490: 2922, 1491: 1205, 1492: 3054, 1493: 2924, 1494: 2275, 1495: 2041, 1496: 1590, 1497: 172, 1498: 3213, 1499: 2360, 1500: 848, 1501: 362, 1502: 376, 1503: 2530, 1504: 2532, 1505: 168, 1506: 533, 1507: 1306, 1508: 2788, 1509: 1425, 1510: 2141, 1511: 1367, 1512: 2413, 1513: 552, 1514: 2060, 1515: 2478, 1516: 2733, 1517: 3045, 1518: 2286, 1519: 1167, 1520: 2306, 1521: 234, 1522: 444, 1523: 1441, 1524: 35, 1525: 1835, 1526: 427, 1527: 1454, 1528: 3557, 1529: 3349, 1530: 41, 1531: 3608, 1532: 3284, 1533: 616, 1534: 1334, 1535: 76, 1536: 2533, 1537: 426, 1538: 1762, 1539: 1037, 1540: 2808, 1541: 2668, 1542: 2091, 1543: 748, 1544: 3614, 1545: 1059, 1546: 3074, 1547: 1008, 1548: 1936, 1549: 2109, 1550: 1194, 1551: 1061, 1552: 537, 1553: 3486, 1554: 2661, 1555: 2290, 1556: 2173, 1557: 2239, 1558: 242, 1559: 154, 1560: 1925, 1561: 2939, 1562: 2711, 1563: 897, 1564: 26, 1565: 1684, 1566: 2492, 1567: 613, 1568: 207, 1569: 3, 1570: 46, 1571: 3436, 1572: 943, 1573: 206, 1574: 3194, 1575: 2829, 1576: 2293, 1577: 2677, 1578: 556, 1579: 2469, 1580: 929, 1581: 2649, 1582: 2656, 1583: 2780, 1584: 2654, 1585: 1337, 1586: 841, 1587: 2428, 1588: 2260, 1589: 3112, 1590: 3007, 1591: 3271, 1592: 3069, 1593: 785, 1594: 1783, 1595: 835, 1596: 2573, 1597: 2493, 1598: 89, 1599: 3565, 1600: 3133, 1601: 216, 1602: 2567, 1603: 170, 1604: 2568, 1605: 126, 1606: 837, 1607: 1422, 1608: 1421, 1609: 2121, 1610: 2412, 1611: 2634, 1612: 2784, 1613: 1332, 1614: 332, 1615: 196, 1616: 2900, 1617: 1341, 1618: 1128, 1619: 1995, 1620: 1974, 1621: 2107, 1622: 935, 1623: 3518, 1624: 3559, 1625: 3415, 1626: 3311, 1627: 3456, 1628: 3083, 1629: 1046, 1630: 1406, 1631: 214, 1632: 334, 1633: 3384, 1634: 1116, 1635: 1875, 1636: 2815, 1637: 205, 1638: 2626, 1639: 2331, 1640: 862, 1641: 1535, 1642: 3606, 1643: 1031, 1644: 1020, 1645: 569, 1646: 1488, 1647: 3372, 1648: 1067, 1649: 3386, 1650: 236, 1651: 3259, 1652: 1593, 1653: 2822, 1654: 1457, 1655: 276, 1656: 688, 1657: 2090, 1658: 2782, 1659: 3285, 1660: 2772, 1661: 2995, 1662: 3502, 1663: 2077, 1664: 941, 1665: 3145, 1666: 3038, 1667: 2653, 1668: 428, 1669: 2651, 1670: 3024, 1671: 2647, 1672: 2650, 1673: 936, 1674: 962, 1675: 2682, 1676: 3275, 1677: 511, 1678: 2195, 1679: 2231, 1680: 3477, 1681: 482, 1682: 456, 1683: 2442, 1684: 2093, 1685: 1446, 1686: 3106, 1687: 3328, 1688: 1202, 1689: 2417, 1690: 2802, 1691: 3221, 1692: 3570, 1693: 3571, 1694: 389, 1695: 2983, 1696: 3355, 1697: 1650, 1698: 85, 1699: 788, 1700: 2335, 1701: 2498, 1702: 435, 1703: 2638, 1704: 2646, 1705: 2163, 1706: 1346, 1707: 2667, 1708: 2365, 1709: 1821, 1710: 445, 1711: 2577, 1712: 324, 1713: 203, 1714: 1904, 1715: 1688, 1716: 3049, 1717: 452, 1718: 2236, 1719: 586, 1720: 550, 1721: 1613, 1722: 14, 1723: 477, 1724: 269, 1725: 215, 1726: 806, 1727: 1589, 1728: 2893, 1729: 2836, 1730: 2607, 1731: 3604, 1732: 2759, 1733: 3409, 1734: 1542, 1735: 2029, 1736: 3258, 1737: 2052, 1738: 520, 1739: 3487, 1740: 1754, 1741: 3525, 1742: 1799, 1743: 707, 1744: 383, 1745: 432, 1746: 458, 1747: 2986, 1748: 3432, 1749: 3431, 1750: 3434, 1751: 3433, 1752: 2896, 1753: 1007, 1754: 487, 1755: 2055, 1756: 1734, 1757: 1804, 1758: 2458, 1759: 122, 1760: 2606, 1761: 3077, 1762: 121, 1763: 2345, 1764: 3169, 1765: 3047, 1766: 3098, 1767: 2639, 1768: 3402, 1769: 2521, 1770: 1123, 1771: 1865, 1772: 322, 1773: 1414, 1774: 3298, 1775: 1571, 1776: 2099, 1777: 3199, 1778: 514, 1779: 2263, 1780: 2252, 1781: 585, 1782: 2736, 1783: 2135, 1784: 116, 1785: 783, 1786: 2585, 1787: 2154, 1788: 1647, 1789: 2594, 1790: 3510, 1791: 2507, 1792: 781, 1793: 2281, 1794: 2053, 1795: 210, 1796: 650, 1797: 2272, 1798: 57, 1799: 3261, 1800: 9, 1801: 2432, 1802: 2546, 1803: 728, 1804: 252, 1805: 278, 1806: 991, 1807: 3113, 1808: 1919, 1809: 2491, 1810: 801, 1811: 312, 1812: 186, 1813: 305, 1814: 1812, 1815: 1900, 1816: 1585, 1817: 525, 1818: 1187, 1819: 3079, 1820: 988, 1821: 2610, 1822: 2842, 1823: 2587, 1824: 449, 1825: 984, 1826: 956, 1827: 2453, 1828: 1006, 1829: 1624, 1830: 2738, 1831: 2184, 1832: 798, 1833: 2187, 1834: 3249, 1835: 2316, 1836: 2483, 1837: 20, 1838: 2714, 1839: 2882, 1840: 1545, 1841: 2562, 1842: 615, 1843: 2744, 1844: 42, 1845: 2153, 1846: 2057, 1847: 340, 1848: 158, 1849: 2089, 1850: 2048, 1851: 2846, 1852: 1654, 1853: 2079, 1854: 960, 1855: 2205, 1856: 735, 1857: 1646, 1858: 2796, 1859: 518, 1860: 1612, 1861: 2148, 1862: 2497, 1863: 2952, 1864: 1599, 1865: 464, 1866: 360, 1867: 1497, 1868: 1562, 1869: 1626, 1870: 393, 1871: 31, 1872: 140, 1873: 2397, 1874: 3217, 1875: 1465, 1876: 2420, 1877: 3251, 1878: 2320, 1879: 159, 1880: 3426, 1881: 3423, 1882: 565, 1883: 1655, 1884: 2868, 1885: 2898, 1886: 1984, 1887: 2992, 1888: 627, 1889: 1929, 1890: 2938, 1891: 147, 1892: 632, 1893: 1477, 1894: 352, 1895: 1735, 1896: 2297, 1897: 1603, 1898: 504, 1899: 849, 1900: 2448, 1901: 880, 1902: 3622, 1903: 417, 1904: 769, 1905: 3142, 1906: 2883, 1907: 2123, 1908: 3520, 1909: 2860, 1910: 3587, 1911: 1758, 1912: 2899, 1913: 484, 1914: 257, 1915: 2045, 1916: 3395, 1917: 3578, 1918: 3509, 1919: 3301, 1920: 554, 1921: 96, 1922: 3137, 1923: 2669, 1924: 2879, 1925: 1017, 1926: 1015, 1927: 2437, 1928: 1135, 1929: 1713, 1930: 1516, 1931: 2378, 1932: 275, 1933: 2375, 1934: 3387, 1935: 637, 1936: 2043, 1937: 462, 1938: 2373, 1939: 2033, 1940: 2126, 1941: 3500, 1942: 807, 1943: 987, 1944: 1600, 1945: 1476, 1946: 2418, 1947: 1064, 1948: 309, 1949: 321, 1950: 1695, 1951: 3556, 1952: 1896, 1953: 2337, 1954: 3417, 1955: 2936, 1956: 2776, 1957: 2630, 1958: 2720, 1959: 2629, 1960: 1428, 1961: 3598, 1962: 2696, 1963: 2177, 1964: 2574, 1965: 2988, 1966: 2240, 1967: 3182, 1968: 355, 1969: 1363, 1970: 1631, 1971: 2181, 1972: 2131, 1973: 2861, 1974: 1669, 1975: 2062, 1976: 302, 1977: 2620, 1978: 431, 1979: 2410, 1980: 2409, 1981: 2411, 1982: 1482, 1983: 2376, 1984: 3483, 1985: 1866, 1986: 544, 1987: 548, 1988: 423, 1989: 3029, 1990: 3011, 1991: 1398, 1992: 94, 1993: 2852, 1994: 2262, 1995: 2419, 1996: 1898, 1997: 3370, 1998: 2928, 1999: 201, 2000: 463, 2001: 2447, 2002: 3534, 2003: 3579, 2004: 3554, 2005: 3617, 2006: 3596, 2007: 3618, 2008: 3537, 2009: 3597, 2010: 3326, 2011: 2408, 2012: 1605, 2013: 761, 2014: 1681, 2015: 1083, 2016: 2874, 2017: 2472, 2018: 2659, 2019: 3254, 2020: 135, 2021: 1113, 2022: 2558, 2023: 804, 2024: 2473, 2025: 3243, 2026: 2471, 2027: 1453, 2028: 2151, 2029: 2257, 2030: 765, 2031: 1475, 2032: 2756, 2033: 3223, 2034: 1484, 2035: 2753, 2036: 3420, 2037: 1515, 2038: 3103, 2039: 3109, 2040: 2889, 2041: 1906, 2042: 3613, 2043: 3492, 2044: 1642, 2045: 803, 2046: 1564, 2047: 638, 2048: 1498, 2049: 301, 2050: 469, 2051: 818, 2052: 662, 2053: 506, 2054: 2165, 2055: 187, 2056: 1461, 2057: 1658, 2058: 2792, 2059: 719, 2060: 567, 2061: 1152, 2062: 1068, 2063: 854, 2064: 850, 2065: 669, 2066: 1670, 2067: 2362, 2068: 263, 2069: 476, 2070: 3531, 2071: 563, 2072: 1753, 2073: 1772, 2074: 343, 2075: 3539, 2076: 2305, 2077: 155, 2078: 3399, 2079: 927, 2080: 1014, 2081: 3144, 2082: 429, 2083: 1410, 2084: 3619, 2085: 571, 2086: 211, 2087: 2749, 2088: 465, 2089: 3173, 2090: 2877, 2091: 175, 2092: 3425, 2093: 78, 2094: 1044, 2095: 869, 2096: 1473, 2097: 3304, 2098: 3306, 2099: 2767, 2100: 156, 2101: 2325, 2102: 3013, 2103: 1677, 2104: 256, 2105: 472, 2106: 2279, 2107: 640, 2108: 1791, 2109: 5, 2110: 1665, 2111: 436, 2112: 782, 2113: 2504, 2114: 2505, 2115: 2387, 2116: 2445, 2117: 370, 2118: 415, 2119: 1432, 2120: 704, 2121: 438, 2122: 3130, 2123: 2307, 2124: 157, 2125: 3127, 2126: 2399, 2127: 2296, 2128: 71, 2129: 1862, 2130: 709, 2131: 1592, 2132: 3235, 2133: 2494, 2134: 1991, 2135: 1971, 2136: 1973, 2137: 1969, 2138: 1975, 2139: 1983, 2140: 1972, 2141: 2903, 2142: 3445, 2143: 2942, 2144: 2540, 2145: 409, 2146: 391, 2147: 23, 2148: 998, 2149: 1662, 2150: 19, 2151: 1824, 2152: 1746, 2153: 2812, 2154: 283, 2155: 1601, 2156: 132, 2157: 61, 2158: 2338, 2159: 540, 2160: 2495, 2161: 3497, 2162: 100, 2163: 209, 2164: 1870, 2165: 2259, 2166: 3389, 2167: 443, 2168: 365, 2169: 3357, 2170: 3580, 2171: 3319, 2172: 2708, 2173: 937, 2174: 3185, 2175: 1733, 2176: 277, 2177: 3179, 2178: 15, 2179: 1858, 2180: 2810, 2181: 2374, 2182: 2072, 2183: 2050, 2184: 2950, 2185: 2035, 2186: 1702, 2187: 2047, 2188: 336, 2189: 467, 2190: 3639, 2191: 3634, 2192: 3414, 2193: 779, 2194: 1846, 2195: 183, 2196: 197, 2197: 503, 2198: 2856, 2199: 633, 2200: 3063, 2201: 1255, 2202: 762, 2203: 267, 2204: 547, 2205: 1051, 2206: 3449, 2207: 330, 2208: 522, 2209: 2182, 2210: 2051, 2211: 27, 2212: 808, 2213: 881, 2214: 1359, 2215: 2354, 2216: 2040, 2217: 3344, 2218: 2256, 2219: 202, 2220: 896, 2221: 2596, 2222: 346, 2223: 2106, 2224: 72, 2225: 2059, 2226: 1355, 2227: 2122, 2228: 2451, 2229: 2514, 2230: 2535, 2231: 3339, 2232: 18, 2233: 1232, 2234: 3153, 2235: 366, 2236: 2315, 2237: 2026, 2238: 328, 2239: 1978, 2240: 1980, 2241: 1976, 2242: 1981, 2243: 1623, 2244: 421, 2245: 2978, 2246: 2032, 2247: 1016, 2248: 1018, 2249: 3031, 2250: 1091, 2251: 3004, 2252: 3643, 2253: 1445, 2254: 3628, 2255: 3324, 2256: 3638, 2257: 3633, 2258: 3635, 2259: 3629, 2260: 3645, 2261: 3491, 2262: 3594, 2263: 1525, 2264: 3017, 2265: 2681, 2266: 3599, 2267: 2888, 2268: 1541, 2269: 3470, 2270: 2426, 2271: 195, 2272: 3457, 2273: 2456, 2274: 3345, 2275: 3644, 2276: 737, 2277: 3388, 2278: 1399, 2279: 455, 2280: 1902, 2281: 2560, 2282: 2280, 2283: 2323, 2284: 1349, 2285: 3208, 2286: 886, 2287: 694, 2288: 2833, 2289: 390, 2290: 760, 2291: 1154, 2292: 731, 2293: 2347, 2294: 3427, 2295: 1404, 2296: 1003, 2297: 1841, 2298: 1087, 2299: 2084, 2300: 715, 2301: 2232, 2302: 3138, 2303: 1977, 2304: 606, 2305: 1979, 2306: 3624, 2307: 3623, 2308: 2737, 2309: 3214, 2310: 3515, 2311: 2168, 2312: 3156, 2313: 3464, 2314: 2526, 2315: 2549, 2316: 967, 2317: 2981, 2318: 2984, 2319: 13, 2320: 1117, 2321: 3120, 2322: 2367, 2323: 2027, 2324: 2188, 2325: 53, 2326: 1050, 2327: 3612, 2328: 2834, 2329: 38, 2330: 3566, 2331: 2435, 2332: 2073, 2333: 3615, 2334: 2828, 2335: 74, 2336: 2674, 2337: 3671, 2338: 3683, 2339: 3684, 2340: 2597, 2341: 413, 2342: 697, 2343: 3327, 2344: 117, 2345: 44, 2346: 1863, 2347: 3385, 2348: 3048, 2349: 3712, 2350: 1609, 2351: 3697, 2352: 3703, 2353: 3685, 2354: 3702, 2355: 2593, 2356: 583, 2357: 1986, 2358: 1985, 2359: 3698, 2360: 3704, 2361: 3699, 2362: 3675, 2363: 2095, 2364: 408, 2365: 3706, 2366: 3676, 2367: 3681, 2368: 3654, 2369: 3693, 2370: 2017, 2371: 1381, 2372: 2843, 2373: 3707, 2374: 1180, 2375: 3428, 2376: 1889, 2377: 3711, 2378: 2499, 2379: 68, 2380: 842, 2381: 2652, 2382: 3660, 2383: 3021, 2384: 1988, 2385: 1998, 2386: 891, 2387: 3701, 2388: 3649, 2389: 3705, 2390: 3686, 2391: 3682, 2392: 193, 2393: 702, 2394: 1415, 2395: 83, 2396: 3282, 2397: 3632, 2398: 3713, 2399: 3678, 2400: 3668, 2401: 1024, 2402: 2092, 2403: 2482, 2404: 1987, 2405: 1686, 2406: 2945, 2407: 568, 2408: 422, 2409: 809, 2410: 1604, 2411: 405, 2412: 420, 2413: 502, 2414: 546, 2415: 1869, 2416: 1389, 2417: 2548, 2418: 3394, 2419: 369, 2420: 453, 2421: 2341, 2422: 1928, 2423: 602, 2424: 219, 2425: 3700, 2426: 3669, 2427: 2098, 2428: 505, 2429: 3677, 2430: 877, 2431: 846, 2432: 771, 2433: 2007, 2434: 1749, 2435: 92, 2436: 3473, 2437: 483, 2438: 617, 2439: 3680, 2440: 1420, 2441: 3674, 2442: 338, 2443: 1854, 2444: 3367, 2445: 3661, 2446: 2862, 2447: 2904, 2448: 2215, 2449: 2190, 2450: 510, 2451: 1468, 2452: 2429, 2453: 3672, 2454: 3708, 2455: 3691, 2456: 716, 2457: 3055, 2458: 3051, 2459: 1837, 2460: 3593, 2461: 2589, 2462: 2953, 2463: 1011, 2464: 3679, 2465: 2385, 2466: 270, 2467: 1661, 2468: 2295, 2469: 3190, 2470: 542, 2471: 2643, 2472: 2847, 2473: 2211, 2474: 3171, 2475: 755, 2476: 3532, 2477: 3189, 2478: 79, 2479: 753, 2480: 875, 2481: 3078, 2482: 621, 2483: 3688, 2484: 3710, 2485: 3740, 2486: 3730, 2487: 3724, 2488: 3731, 2489: 3732, 2490: 3716, 2491: 3734, 2492: 3733, 2493: 3729, 2494: 3735, 2495: 3738, 2496: 2422, 2497: 1533, 2498: 3567, 2499: 3742, 2500: 3287, 2501: 1460, 2502: 3590, 2503: 3715, 2504: 3723, 2505: 813, 2506: 1508, 2507: 106, 2508: 1696, 2509: 3728, 2510: 3117, 2511: 347, 2512: 40, 2513: 2697, 2514: 388, 2515: 1054, 2516: 685, 2517: 3741, 2518: 1922, 2519: 1857, 2520: 268, 2521: 1458, 2522: 1169, 2523: 1105, 2524: 2516, 2525: 2500, 2526: 2169, 2527: 486, 2528: 840, 2529: 1855, 2530: 1005, 2531: 2042, 2532: 2798, 2533: 65, 2534: 1703, 2535: 2799, 2536: 99, 2537: 1191, 2538: 831, 2539: 2785, 2540: 3736, 2541: 1814, 2542: 3343, 2543: 3181, 2544: 1119, 2545: 1417, 2546: 2074, 2547: 3653, 2548: 3241, 2549: 2632, 2550: 3299, 2551: 3454, 2552: 3225, 2553: 1725, 2554: 1551, 2555: 113, 2556: 191, 2557: 375, 2558: 1816, 2559: 2434, 2560: 2590, 2561: 2157, 2562: 3646, 2563: 2876, 2564: 1860, 2565: 722, 2566: 3714, 2567: 3692, 2568: 2327, 2569: 3709, 2570: 313, 2571: 1063, 2572: 2049, 2573: 829, 2574: 294, 2575: 1770, 2576: 609, 2577: 3658, 2578: 3727, 2579: 1437, 2580: 811, 2581: 3725, 2582: 2271, 2583: 2400, 2584: 169, 2585: 3511, 2586: 3673, 2587: 656, 2588: 146, 2589: 888, 2590: 828, 2591: 239, 2592: 705, 2593: 2104, 2594: 2755, 2595: 3655, 2596: 570, 2597: 764, 2598: 2885, 2599: 3717, 2600: 3744, 2601: 2227, 2602: 1114, 2603: 2197, 2604: 2250, 2605: 118, 2606: 1549, 2607: 519, 2608: 2727, 2609: 3726, 2610: 3320, 2611: 2813, 2612: 2221, 2613: 3739, 2614: 2625, 2615: 1509, 2616: 3540, 2617: 2201, 2618: 974, 2619: 1707, 2620: 54, 2621: 3496, 2622: 863, 2623: 2241, 2624: 3719, 2625: 2751, 2626: 66, 2627: 3146, 2628: 1879, 2629: 925, 2630: 3092, 2631: 3637, 2632: 2128, 2633: 3627, 2634: 1893, 2635: 1502, 2636: 3586, 2637: 1151, 2638: 3745, 2639: 354, 2640: 424, 2641: 3670, 2642: 2481, 2643: 3754, 2644: 2152, 2645: 631, 2646: 217, 2647: 2766, 2648: 2103, 2649: 3746, 2650: 3763, 2651: 2824, 2652: 3751, 2653: 3771, 2654: 3766, 2655: 665, 2656: 3760, 2657: 238, 2658: 1331, 2659: 2523, 2660: 103, 2661: 3769, 2662: 3758, 2663: 3183, 2664: 3662, 2665: 3663, 2666: 1153, 2667: 3122, 2668: 3025, 2669: 1511, 2670: 824, 2671: 3768, 2672: 3770, 2673: 37, 2674: 2522, 2675: 2175, 2676: 2509, 2677: 2552, 2678: 3764, 2679: 575, 2680: 1440, 2681: 1474, 2682: 603, 2683: 2582, 2684: 2170, 2685: 3309, 2686: 3752, 2687: 3316, 2688: 3788, 2689: 3791, 2690: 2748, 2691: 2800, 2692: 3753, 2693: 3694, 2694: 3755, 2695: 1026, 2696: 1899, 2697: 2056, 2698: 3792, 2699: 3375, 2700: 2525, 2701: 1317, 2702: 84, 2703: 639, 2704: 248, 2705: 1463, 2706: 1531, 2707: 3110, 2708: 3720, 2709: 2086, 2710: 254, 2711: 3789, 2712: 3775, 2713: 1992, 2714: 1993, 2715: 3268, 2716: 2179, 2717: 2964, 2718: 496, 2719: 2446, 2720: 1798, 2721: 3569, 2722: 149, 2723: 3773, 2724: 1910, 2725: 251, 2726: 3780, 2727: 598, 2728: 3783, 2729: 3737, 2730: 3759, 2731: 2816, 2732: 1351, 2733: 521, 2734: 2817, 2735: 174, 2736: 711, 2737: 3446, 2738: 3474, 2739: 3002, 2740: 1076, 2741: 374, 2742: 2933, 2743: 3776, 2744: 1932, 2745: 885, 2746: 3747, 2747: 419, 2748: 178, 2749: 710, 2750: 1887, 2751: 3782, 2752: 489, 2753: 1002, 2754: 1651, 2755: 3124, 2756: 1493, 2757: 1666, 2758: 49, 2759: 1767, 2760: 2460, 2761: 1583, 2762: 612, 2763: 2675, 2764: 1656, 2765: 3302, 2766: 3192, 2767: 2304, 2768: 1880, 2769: 1496, 2770: 659, 2771: 2142, 2772: 3218, 2773: 528, 2774: 359, 2775: 1839, 2776: 3620, 2777: 3222, 2778: 331, 2779: 1692, 2780: 1926, 2781: 3333, 2782: 2884, 2783: 1523, 2784: 1575, 2785: 2158, 2786: 1503, 2787: 3640, 2788: 3577, 2789: 1326, 2790: 2790, 2791: 241, 2792: 3392, 2793: 3393, 2794: 2379, 2795: 560, 2796: 2569, 2797: 966, 2798: 499, 2799: 279, 2800: 536, 2801: 128, 2802: 2255, 2803: 414, 2804: 1731, 2805: 1825, 2806: 3626, 2807: 3812, 2808: 3814, 2809: 3819, 2810: 3809, 2811: 3811, 2812: 3121, 2813: 3765, 2814: 3802, 2815: 3801, 2816: 3810, 2817: 2031, 2818: 1456, 2819: 2864, 2820: 3400, 2821: 957, 2822: 2786, 2823: 3785, 2824: 3793, 2825: 3690, 2826: 1565, 2827: 3813, 2828: 2381, 2829: 2380, 2830: 3806, 2831: 3790, 2832: 3787, 2833: 743, 2834: 2283, 2835: 3286, 2836: 1439, 2837: 3795, 2838: 2129, 2839: 3784, 2840: 1596, 2841: 561, 2842: 2441, 2843: 1352, 2844: 2865, 2845: 882, 2846: 1582, 2847: 3391, 2848: 860, 2849: 1640, 2850: 3749, 2851: 1312, 2852: 2839, 2853: 3064, 2854: 2264, 2855: 498, 2856: 2156, 2857: 2963, 2858: 3803, 2859: 1756, 2860: 3798, 2861: 864, 2862: 751, 2863: 2342, 2864: 3318, 2865: 754, 2866: 181, 2867: 1163, 2868: 3276, 2869: 3718, 2870: 3616, 2871: 2189, 2872: 2101, 2873: 3014, 2874: 3804, 2875: 3689, 2876: 1427, 2877: 3807, 2878: 1336, 2879: 1570, 2880: 3659, 2881: 600, 2882: 3834, 2883: 3141, 2884: 3836, 2885: 3844, 2886: 3403, 2887: 3849, 2888: 2849, 2889: 182, 2890: 1489, 2891: 3786, 2892: 1423, 2893: 1572, 2894: 3805, 2895: 3794, 2896: 3846, 2897: 2663, 2898: 725, 2899: 3840, 2900: 3835, 2901: 2466, 2902: 3821, 2903: 3839, 2904: 3816, 2905: 1807, 2906: 271, 2907: 3808, 2908: 3847, 2909: 3827, 2910: 1867, 2911: 2635, 2912: 1550, 2913: 1606, 2914: 2743, 2915: 2886, 2916: 2044, 2917: 1138, 2918: 384, 2919: 3781, 2920: 64, 2921: 473, 2922: 3841, 2923: 997, 2924: 2382, 2925: 3177, 2926: 3761, 2927: 1581, 2928: 1529, 2929: 3833, 2930: 1671, 2931: 990, 2932: 1933, 2933: 839, 2934: 3165, 2935: 3767, 2936: 667, 2937: 870, 2938: 3695, 2939: 1668, 2940: 2913, 2941: 3845, 2942: 3822, 2943: 3832, 2944: 767, 2945: 87, 2946: 3837, 2947: 3696, 2948: 3838, 2949: 1000, 2950: 2185, 2951: 240, 2952: 2835, 2953: 1996, 2954: 3848, 2955: 394, 2956: 2931, 2957: 1715, 2958: 3826, 2959: 3050, 2960: 2666, 2961: 3139, 2962: 2559, 2963: 2036, 2964: 250, 2965: 3611, 2966: 2998, 2967: 1811, 2968: 747, 2969: 3817, 2970: 1450, 2971: 124, 2972: 3859, 2973: 3861, 2974: 3831, 2975: 2462, 2976: 3825, 2977: 1859, 2978: 833, 2979: 1526, 2980: 3843, 2981: 189, 2982: 1329, 2983: 2673, 2984: 3140, 2985: 2461, 2986: 2853, 2987: 2979, 2988: 958, 2989: 291, 2990: 3401, 2991: 325, 2992: 1442, 2993: 3873, 2994: 3869, 2995: 3858, 2996: 3410, 2997: 3351, 2998: 2388, 2999: 3868, 3000: 3553, 3001: 3872, 3002: 255, 3003: 3870, 3004: 619, 3005: 1144, 3006: 3871, 3007: 93, 3008: 102, 3009: 2637, 3010: 564, 3011: 3857, 3012: 3799, 3013: 3863, 3014: 2219, 3015: 3823, 3016: 3240, 3017: 3860, 3018: 3864, 3019: 2566, 3020: 3453, 3021: 3877, 3022: 3852, 3023: 3880, 3024: 2691, 3025: 3874, 3026: 3886, 3027: 392, 3028: 3824, 3029: 129, 3030: 3882, 3031: 3879, 3032: 184, 3033: 2809, 3034: 2897, 3035: 3743, 3036: 3625, 3037: 3867, 3038: 3851, 3039: 3853, 3040: 2627, 3041: 3514, 3042: 3855, 3043: 3568, 3044: 148, 3045: 645, 3046: 2830, 3047: 406, 3048: 1728, 3049: 3897, 3050: 3926, 3051: 3927, 3052: 2837, 3053: 3919, 3054: 3917, 3055: 3893, 3056: 3889, 3057: 3901, 3058: 3920, 3059: 3865, 3060: 3910, 3061: 3915, 3062: 876, 3063: 3929, 3064: 3896, 3065: 3898, 3066: 3936, 3067: 3928, 3068: 3161, 3069: 3925, 3070: 3895, 3071: 3918, 3072: 3932, 3073: 3930, 3074: 3796, 3075: 3903, 3076: 3908, 3077: 2994, 3078: 3921, 3079: 3916, 3080: 3923, 3081: 3909, 3082: 3911, 3083: 2773, 3084: 3948, 3085: 3947, 3086: 3937, 3087: 3952, 3088: 3894, 3089: 1058, 3090: 3914, 3091: 3884, 3092: 3934, 3093: 3878, 3094: 3943, 3095: 3885, 3096: 2769, 3097: 2775, 3098: 3949, 3099: 3935, 3100: 3946, 3101: 3913, 3102: 3950, 3103: 2415, 3104: 3922, 3105: 1780, 3106: 2923, 3107: 3562, 3108: 2965, 3109: 3924, 3110: 3951, 3111: 3900, 3112: 3854, 3113: 3912, 3114: 295, 3115: 3902, 3116: 2339, 3117: 2768, 3118: 3906, 3119: 136}}\n",
      "5421 3120\n"
     ]
    }
   ],
   "source": [
    "print(tokenizer.query_id_encoder.mapping, tokenizer.query_id_encoder.inverse_mapping)\n",
    "print(tokenizer.item_id_encoder.mapping, tokenizer.item_id_encoder.inverse_mapping)\n",
    "\n",
    "print(len(tokenizer.query_id_encoder.mapping[\"user_id\"]), len(tokenizer.item_id_encoder.mapping['item_id']))"
   ]
  },
  {
   "cell_type": "code",
   "execution_count": 29,
   "metadata": {},
   "outputs": [
    {
     "data": {
      "text/plain": [
       "3"
      ]
     },
     "execution_count": 29,
     "metadata": {},
     "output_type": "execute_result"
    }
   ],
   "source": [
    "tokenizer.item_id_encoder.mapping['item_id'][1961]"
   ]
  },
  {
   "attachments": {},
   "cell_type": "markdown",
   "metadata": {},
   "source": [
    "## Train model\n",
    "### Create SASRec model instance and run the training stage using lightning\n",
    "After each epoch validation metrics are shown. You can change the list of validation metrics in ValidationMetricsCallback\n",
    "The model is determined to be the best and is saved if the metric updates its maximum during validation (see the ModelCheckpoint)"
   ]
  },
  {
   "cell_type": "code",
   "execution_count": 30,
   "metadata": {},
   "outputs": [],
   "source": [
    "from replay.models.nn.sequential import SasRec\n",
    "from replay.models.nn.sequential.sasrec import (\n",
    "    SasRecPredictionDataset,\n",
    "    SasRecTrainingDataset,\n",
    "    SasRecValidationDataset,\n",
    "    SasRecPredictionBatch,\n",
    "    SasRecModel\n",
    ")\n",
    "\n",
    "%load_ext autoreload\n",
    "%autoreload 2"
   ]
  },
  {
   "cell_type": "code",
   "execution_count": null,
   "metadata": {},
   "outputs": [
    {
     "name": "stderr",
     "output_type": "stream",
     "text": [
      "GPU available: True (cuda), used: True\n",
      "TPU available: False, using: 0 TPU cores\n",
      "IPU available: False, using: 0 IPUs\n",
      "HPU available: False, using: 0 HPUs\n",
      "You are using a CUDA device ('NVIDIA RTX 6000 Ada Generation') that has Tensor Cores. To properly utilize them, you should set `torch.set_float32_matmul_precision('medium' | 'high')` which will trade-off precision for performance. For more details, read https://pytorch.org/docs/stable/generated/torch.set_float32_matmul_precision.html#torch.set_float32_matmul_precision\n",
      "/usr/local/lib/python3.11/site-packages/lightning/pytorch/callbacks/model_checkpoint.py:653: Checkpoint directory /root/RePlay-Accelerated/.checkpoints exists and is not empty.\n",
      "LOCAL_RANK: 0 - CUDA_VISIBLE_DEVICES: [0]\n",
      "\n",
      "  | Name   | Type             | Params\n",
      "--------------------------------------------\n",
      "0 | _model | SasRecModel      | 611 K \n",
      "1 | _loss  | CrossEntropyLoss | 0     \n",
      "--------------------------------------------\n",
      "611 K     Trainable params\n",
      "0         Non-trainable params\n",
      "611 K     Total params\n",
      "2.447     Total estimated model params size (MB)\n"
     ]
    },
    {
     "data": {
      "application/vnd.jupyter.widget-view+json": {
       "model_id": "7702a4e5712c4156a2628acace884671",
       "version_major": 2,
       "version_minor": 0
      },
      "text/plain": [
       "Sanity Checking: |          | 0/? [00:00<?, ?it/s]"
      ]
     },
     "metadata": {},
     "output_type": "display_data"
    },
    {
     "name": "stdout",
     "output_type": "stream",
     "text": [
      "k              1        10        20         5\n",
      "map     0.006696  0.003306  0.002282  0.005112\n",
      "ndcg    0.006696  0.010118  0.010047  0.010166\n",
      "recall  0.000105  0.001853  0.005198  0.000840\n",
      "\n"
     ]
    },
    {
     "name": "stderr",
     "output_type": "stream",
     "text": [
      "/usr/local/lib/python3.11/site-packages/lightning/pytorch/loops/fit_loop.py:298: The number of training batches (11) is smaller than the logging interval Trainer(log_every_n_steps=50). Set a lower value for log_every_n_steps if you want to see logs for the training epoch.\n"
     ]
    },
    {
     "data": {
      "application/vnd.jupyter.widget-view+json": {
       "model_id": "0e1da03f38cd423197c13f0ec5d685bb",
       "version_major": 2,
       "version_minor": 0
      },
      "text/plain": [
       "Training: |          | 0/? [00:00<?, ?it/s]"
      ]
     },
     "metadata": {},
     "output_type": "display_data"
    },
    {
     "data": {
      "application/vnd.jupyter.widget-view+json": {
       "model_id": "c814d064d9684992b9afef2f9c7216d1",
       "version_major": 2,
       "version_minor": 0
      },
      "text/plain": [
       "Validation: |          | 0/? [00:00<?, ?it/s]"
      ]
     },
     "metadata": {},
     "output_type": "display_data"
    },
    {
     "name": "stderr",
     "output_type": "stream",
     "text": [
      "Epoch 0, global step 11: 'recall@10' reached 0.04044 (best 0.04044), saving model to '/root/RePlay-Accelerated/.checkpoints/epoch=0-step=11-v5.ckpt' as top 1\n"
     ]
    },
    {
     "name": "stdout",
     "output_type": "stream",
     "text": [
      "k              1        10        20         5\n",
      "map     0.095982  0.036956  0.033033  0.047096\n",
      "ndcg    0.095982  0.078761  0.086332  0.076952\n",
      "recall  0.004679  0.040440  0.077076  0.018271\n",
      "\n"
     ]
    },
    {
     "data": {
      "application/vnd.jupyter.widget-view+json": {
       "model_id": "8b45e97a8a364db3b1f01e941ac2a1ae",
       "version_major": 2,
       "version_minor": 0
      },
      "text/plain": [
       "Validation: |          | 0/? [00:00<?, ?it/s]"
      ]
     },
     "metadata": {},
     "output_type": "display_data"
    },
    {
     "name": "stderr",
     "output_type": "stream",
     "text": [
      "Epoch 1, global step 22: 'recall@10' reached 0.04322 (best 0.04322), saving model to '/root/RePlay-Accelerated/.checkpoints/epoch=1-step=22.ckpt' as top 1\n"
     ]
    },
    {
     "name": "stdout",
     "output_type": "stream",
     "text": [
      "k              1        10        20         5\n",
      "map     0.089286  0.050531  0.045823  0.060119\n",
      "ndcg    0.089286  0.093248  0.103265  0.093608\n",
      "recall  0.004684  0.043218  0.086430  0.029833\n",
      "\n"
     ]
    },
    {
     "data": {
      "application/vnd.jupyter.widget-view+json": {
       "model_id": "3e2a00168ad14970a858f6a4bedc311b",
       "version_major": 2,
       "version_minor": 0
      },
      "text/plain": [
       "Validation: |          | 0/? [00:00<?, ?it/s]"
      ]
     },
     "metadata": {},
     "output_type": "display_data"
    },
    {
     "name": "stderr",
     "output_type": "stream",
     "text": [
      "Epoch 2, global step 33: 'recall@10' was not in top 1\n"
     ]
    },
    {
     "name": "stdout",
     "output_type": "stream",
     "text": [
      "k              1        10        20         5\n",
      "map     0.109375  0.055342  0.045655  0.068616\n",
      "ndcg    0.109375  0.101260  0.101850  0.105051\n",
      "recall  0.004743  0.039543  0.074690  0.018832\n",
      "\n"
     ]
    },
    {
     "data": {
      "application/vnd.jupyter.widget-view+json": {
       "model_id": "3feb5b5ed9504ad38bd4d29999e5798b",
       "version_major": 2,
       "version_minor": 0
      },
      "text/plain": [
       "Validation: |          | 0/? [00:00<?, ?it/s]"
      ]
     },
     "metadata": {},
     "output_type": "display_data"
    },
    {
     "name": "stderr",
     "output_type": "stream",
     "text": [
      "Epoch 3, global step 44: 'recall@10' reached 0.04350 (best 0.04350), saving model to '/root/RePlay-Accelerated/.checkpoints/epoch=3-step=44.ckpt' as top 1\n"
     ]
    },
    {
     "name": "stdout",
     "output_type": "stream",
     "text": [
      "k              1        10        20         5\n",
      "map     0.116071  0.057034  0.049169  0.070110\n",
      "ndcg    0.116071  0.103348  0.107832  0.105550\n",
      "recall  0.006214  0.043501  0.082212  0.021498\n",
      "\n"
     ]
    },
    {
     "data": {
      "application/vnd.jupyter.widget-view+json": {
       "model_id": "528b4c5c0d14417fbaa55925c16b24a0",
       "version_major": 2,
       "version_minor": 0
      },
      "text/plain": [
       "Validation: |          | 0/? [00:00<?, ?it/s]"
      ]
     },
     "metadata": {},
     "output_type": "display_data"
    },
    {
     "name": "stderr",
     "output_type": "stream",
     "text": [
      "Epoch 4, global step 55: 'recall@10' was not in top 1\n"
     ]
    },
    {
     "name": "stdout",
     "output_type": "stream",
     "text": [
      "k              1        10        20         5\n",
      "map     0.109375  0.057341  0.049678  0.069531\n",
      "ndcg    0.109375  0.103229  0.106813  0.106499\n",
      "recall  0.006921  0.043453  0.078440  0.030104\n",
      "\n"
     ]
    },
    {
     "data": {
      "application/vnd.jupyter.widget-view+json": {
       "model_id": "4f873da4c4a94f10abc262d31708279a",
       "version_major": 2,
       "version_minor": 0
      },
      "text/plain": [
       "Validation: |          | 0/? [00:00<?, ?it/s]"
      ]
     },
     "metadata": {},
     "output_type": "display_data"
    },
    {
     "name": "stderr",
     "output_type": "stream",
     "text": [
      "Epoch 5, global step 66: 'recall@10' reached 0.04638 (best 0.04638), saving model to '/root/RePlay-Accelerated/.checkpoints/epoch=5-step=66.ckpt' as top 1\n"
     ]
    },
    {
     "name": "stdout",
     "output_type": "stream",
     "text": [
      "k              1        10        20         5\n",
      "map     0.111607  0.058468  0.051022  0.070521\n",
      "ndcg    0.111607  0.105421  0.109582  0.104608\n",
      "recall  0.009249  0.046380  0.087136  0.022285\n",
      "\n"
     ]
    },
    {
     "data": {
      "application/vnd.jupyter.widget-view+json": {
       "model_id": "3b36ce48195c4f4fa42323670021a97f",
       "version_major": 2,
       "version_minor": 0
      },
      "text/plain": [
       "Validation: |          | 0/? [00:00<?, ?it/s]"
      ]
     },
     "metadata": {},
     "output_type": "display_data"
    },
    {
     "name": "stderr",
     "output_type": "stream",
     "text": [
      "Epoch 6, global step 77: 'recall@10' reached 0.05753 (best 0.05753), saving model to '/root/RePlay-Accelerated/.checkpoints/epoch=6-step=77-v2.ckpt' as top 1\n"
     ]
    },
    {
     "name": "stdout",
     "output_type": "stream",
     "text": [
      "k              1        10        20         5\n",
      "map     0.109375  0.057464  0.049181  0.066877\n",
      "ndcg    0.109375  0.103134  0.104689  0.098627\n",
      "recall  0.007547  0.057527  0.090697  0.027195\n",
      "\n"
     ]
    },
    {
     "data": {
      "application/vnd.jupyter.widget-view+json": {
       "model_id": "c527e141680241e2a7e1914da6951682",
       "version_major": 2,
       "version_minor": 0
      },
      "text/plain": [
       "Validation: |          | 0/? [00:00<?, ?it/s]"
      ]
     },
     "metadata": {},
     "output_type": "display_data"
    },
    {
     "name": "stderr",
     "output_type": "stream",
     "text": [
      "Epoch 7, global step 88: 'recall@10' was not in top 1\n"
     ]
    },
    {
     "name": "stdout",
     "output_type": "stream",
     "text": [
      "k              1        10        20         5\n",
      "map     0.098214  0.055525  0.048982  0.066236\n",
      "ndcg    0.098214  0.099453  0.102820  0.100479\n",
      "recall  0.005201  0.057475  0.092279  0.039061\n",
      "\n"
     ]
    },
    {
     "data": {
      "application/vnd.jupyter.widget-view+json": {
       "model_id": "bac40caa15b34f2ab9b9313f63a6ddc6",
       "version_major": 2,
       "version_minor": 0
      },
      "text/plain": [
       "Validation: |          | 0/? [00:00<?, ?it/s]"
      ]
     },
     "metadata": {},
     "output_type": "display_data"
    },
    {
     "name": "stderr",
     "output_type": "stream",
     "text": [
      "Epoch 8, global step 99: 'recall@10' reached 0.06490 (best 0.06490), saving model to '/root/RePlay-Accelerated/.checkpoints/epoch=8-step=99.ckpt' as top 1\n"
     ]
    },
    {
     "name": "stdout",
     "output_type": "stream",
     "text": [
      "k             1        10        20         5\n",
      "map     0.09375  0.056943  0.050902  0.063475\n",
      "ndcg    0.09375  0.101555  0.105304  0.096446\n",
      "recall  0.00908  0.064902  0.102572  0.037663\n",
      "\n"
     ]
    },
    {
     "data": {
      "application/vnd.jupyter.widget-view+json": {
       "model_id": "e3454239060d440da333ae35692975a5",
       "version_major": 2,
       "version_minor": 0
      },
      "text/plain": [
       "Validation: |          | 0/? [00:00<?, ?it/s]"
      ]
     },
     "metadata": {},
     "output_type": "display_data"
    },
    {
     "name": "stderr",
     "output_type": "stream",
     "text": [
      "Epoch 9, global step 110: 'recall@10' reached 0.06850 (best 0.06850), saving model to '/root/RePlay-Accelerated/.checkpoints/epoch=9-step=110-v1.ckpt' as top 1\n"
     ]
    },
    {
     "name": "stdout",
     "output_type": "stream",
     "text": [
      "k              1        10        20         5\n",
      "map     0.091518  0.056056  0.051681  0.063724\n",
      "ndcg    0.091518  0.098843  0.102281  0.096318\n",
      "recall  0.011978  0.068503  0.093092  0.042098\n",
      "\n"
     ]
    },
    {
     "data": {
      "application/vnd.jupyter.widget-view+json": {
       "model_id": "7adc3bf0c16a434c868b1c6acc4b4204",
       "version_major": 2,
       "version_minor": 0
      },
      "text/plain": [
       "Validation: |          | 0/? [00:00<?, ?it/s]"
      ]
     },
     "metadata": {},
     "output_type": "display_data"
    },
    {
     "name": "stderr",
     "output_type": "stream",
     "text": [
      "Epoch 10, global step 121: 'recall@10' was not in top 1\n"
     ]
    },
    {
     "name": "stdout",
     "output_type": "stream",
     "text": [
      "k              1        10        20         5\n",
      "map     0.095982  0.054569  0.050457  0.061923\n",
      "ndcg    0.095982  0.096253  0.101312  0.093349\n",
      "recall  0.011280  0.066975  0.093046  0.040207\n",
      "\n"
     ]
    },
    {
     "data": {
      "application/vnd.jupyter.widget-view+json": {
       "model_id": "a04d2fd26eb5434ab1b54f8aa69be4a8",
       "version_major": 2,
       "version_minor": 0
      },
      "text/plain": [
       "Validation: |          | 0/? [00:00<?, ?it/s]"
      ]
     },
     "metadata": {},
     "output_type": "display_data"
    },
    {
     "name": "stderr",
     "output_type": "stream",
     "text": [
      "Epoch 11, global step 132: 'recall@10' was not in top 1\n"
     ]
    },
    {
     "name": "stdout",
     "output_type": "stream",
     "text": [
      "k              1        10        20         5\n",
      "map     0.087054  0.049129  0.045612  0.055997\n",
      "ndcg    0.087054  0.089698  0.094461  0.086609\n",
      "recall  0.009969  0.061349  0.090519  0.038085\n",
      "\n"
     ]
    },
    {
     "data": {
      "application/vnd.jupyter.widget-view+json": {
       "model_id": "c180f28113834bb683b9c4658ee6f4f7",
       "version_major": 2,
       "version_minor": 0
      },
      "text/plain": [
       "Validation: |          | 0/? [00:00<?, ?it/s]"
      ]
     },
     "metadata": {},
     "output_type": "display_data"
    },
    {
     "name": "stderr",
     "output_type": "stream",
     "text": [
      "Epoch 12, global step 143: 'recall@10' was not in top 1\n"
     ]
    },
    {
     "name": "stdout",
     "output_type": "stream",
     "text": [
      "k              1        10        20         5\n",
      "map     0.095982  0.047367  0.044209  0.054926\n",
      "ndcg    0.095982  0.088443  0.095508  0.086795\n",
      "recall  0.008243  0.056562  0.098036  0.037426\n",
      "\n"
     ]
    },
    {
     "data": {
      "application/vnd.jupyter.widget-view+json": {
       "model_id": "c11e9d638ed046fca49cbda40443c95f",
       "version_major": 2,
       "version_minor": 0
      },
      "text/plain": [
       "Validation: |          | 0/? [00:00<?, ?it/s]"
      ]
     },
     "metadata": {},
     "output_type": "display_data"
    },
    {
     "name": "stderr",
     "output_type": "stream",
     "text": [
      "Epoch 13, global step 154: 'recall@10' was not in top 1\n"
     ]
    },
    {
     "name": "stdout",
     "output_type": "stream",
     "text": [
      "k              1        10        20         5\n",
      "map     0.084821  0.046866  0.042789  0.052917\n",
      "ndcg    0.084821  0.087881  0.093568  0.082287\n",
      "recall  0.007410  0.060278  0.097294  0.032833\n",
      "\n"
     ]
    },
    {
     "data": {
      "application/vnd.jupyter.widget-view+json": {
       "model_id": "cde26cac856e48cc81505ba03b29b161",
       "version_major": 2,
       "version_minor": 0
      },
      "text/plain": [
       "Validation: |          | 0/? [00:00<?, ?it/s]"
      ]
     },
     "metadata": {},
     "output_type": "display_data"
    },
    {
     "name": "stderr",
     "output_type": "stream",
     "text": [
      "Epoch 14, global step 165: 'recall@10' was not in top 1\n"
     ]
    },
    {
     "name": "stdout",
     "output_type": "stream",
     "text": [
      "k              1        10        20         5\n",
      "map     0.075893  0.047987  0.044806  0.054156\n",
      "ndcg    0.075893  0.086810  0.093272  0.080617\n",
      "recall  0.011244  0.062316  0.095711  0.034930\n",
      "\n"
     ]
    },
    {
     "data": {
      "application/vnd.jupyter.widget-view+json": {
       "model_id": "f03df24cc0bc43e5b59da198801bb9db",
       "version_major": 2,
       "version_minor": 0
      },
      "text/plain": [
       "Validation: |          | 0/? [00:00<?, ?it/s]"
      ]
     },
     "metadata": {},
     "output_type": "display_data"
    },
    {
     "name": "stderr",
     "output_type": "stream",
     "text": [
      "Epoch 15, global step 176: 'recall@10' was not in top 1\n"
     ]
    },
    {
     "name": "stdout",
     "output_type": "stream",
     "text": [
      "k              1        10        20         5\n",
      "map     0.069196  0.045706  0.042408  0.052232\n",
      "ndcg    0.069196  0.084517  0.090825  0.079590\n",
      "recall  0.008019  0.063526  0.094869  0.033026\n",
      "\n"
     ]
    },
    {
     "data": {
      "application/vnd.jupyter.widget-view+json": {
       "model_id": "1387b0b8e47d44aea53d4676abe03c4c",
       "version_major": 2,
       "version_minor": 0
      },
      "text/plain": [
       "Validation: |          | 0/? [00:00<?, ?it/s]"
      ]
     },
     "metadata": {},
     "output_type": "display_data"
    },
    {
     "name": "stderr",
     "output_type": "stream",
     "text": [
      "Epoch 16, global step 187: 'recall@10' was not in top 1\n"
     ]
    },
    {
     "name": "stdout",
     "output_type": "stream",
     "text": [
      "k              1        10        20         5\n",
      "map     0.064732  0.045957  0.041965  0.051324\n",
      "ndcg    0.064732  0.084143  0.089757  0.078330\n",
      "recall  0.006904  0.060641  0.091488  0.033610\n",
      "\n"
     ]
    },
    {
     "data": {
      "application/vnd.jupyter.widget-view+json": {
       "model_id": "03b32d249634462d92df2cb66e761567",
       "version_major": 2,
       "version_minor": 0
      },
      "text/plain": [
       "Validation: |          | 0/? [00:00<?, ?it/s]"
      ]
     },
     "metadata": {},
     "output_type": "display_data"
    },
    {
     "name": "stderr",
     "output_type": "stream",
     "text": [
      "Epoch 17, global step 198: 'recall@10' was not in top 1\n"
     ]
    },
    {
     "name": "stdout",
     "output_type": "stream",
     "text": [
      "k              1        10        20         5\n",
      "map     0.064732  0.043721  0.041299  0.049087\n",
      "ndcg    0.064732  0.080056  0.088916  0.075495\n",
      "recall  0.007592  0.056233  0.093627  0.031715\n",
      "\n"
     ]
    },
    {
     "data": {
      "application/vnd.jupyter.widget-view+json": {
       "model_id": "4ece89db02cf487cb7db9f874ac1b1a4",
       "version_major": 2,
       "version_minor": 0
      },
      "text/plain": [
       "Validation: |          | 0/? [00:00<?, ?it/s]"
      ]
     },
     "metadata": {},
     "output_type": "display_data"
    },
    {
     "name": "stderr",
     "output_type": "stream",
     "text": [
      "Epoch 18, global step 209: 'recall@10' was not in top 1\n"
     ]
    },
    {
     "name": "stdout",
     "output_type": "stream",
     "text": [
      "k              1        10        20         5\n",
      "map     0.066964  0.045481  0.042078  0.049824\n",
      "ndcg    0.066964  0.081529  0.090055  0.073251\n",
      "recall  0.009820  0.058397  0.096188  0.026484\n",
      "\n"
     ]
    },
    {
     "data": {
      "application/vnd.jupyter.widget-view+json": {
       "model_id": "94c9afcd15444ecf853926efab8e11a4",
       "version_major": 2,
       "version_minor": 0
      },
      "text/plain": [
       "Validation: |          | 0/? [00:00<?, ?it/s]"
      ]
     },
     "metadata": {},
     "output_type": "display_data"
    },
    {
     "name": "stderr",
     "output_type": "stream",
     "text": [
      "Epoch 19, global step 220: 'recall@10' was not in top 1\n",
      "`Trainer.fit` stopped: `max_epochs=20` reached.\n"
     ]
    },
    {
     "name": "stdout",
     "output_type": "stream",
     "text": [
      "k              1        10        20         5\n",
      "map     0.060268  0.043790  0.040391  0.047448\n",
      "ndcg    0.060268  0.079434  0.085903  0.072065\n",
      "recall  0.009205  0.055097  0.086607  0.029633\n",
      "\n"
     ]
    }
   ],
   "source": [
    "MAX_SEQ_LEN = 100\n",
    "BATCH_SIZE = 512\n",
    "NUM_WORKERS = 4\n",
    "\n",
    "model = SasRec(\n",
    "    tensor_schema,\n",
    "    block_count=2,\n",
    "    head_count=2,\n",
    "    max_seq_len=MAX_SEQ_LEN,\n",
    "    hidden_size=128,\n",
    "    dropout_rate=0.2,\n",
    "    optimizer_factory=FatOptimizerFactory(learning_rate=0.001),\n",
    "    loss_type=\"CE\",\n",
    "    #loss_sample_count=200,\n",
    "    n_buckets = int(2 * (96 * BATCH_SIZE) ** 0.5),\n",
    "    bucket_size_x = int(2 * (96 * BATCH_SIZE) ** 0.5),\n",
    "    bucket_size_y = 256,\n",
    "    mix_x = True,\n",
    ")\n",
    "\n",
    "csv_logger = CSVLogger(save_dir=\".logs/train\", name=\"SASRec_example\")\n",
    "\n",
    "checkpoint_callback = ModelCheckpoint(\n",
    "    dirpath=\".checkpoints\",\n",
    "    save_top_k=1,\n",
    "    verbose=True,\n",
    "    # if you use multiple dataloaders, then add the serial number of the dataloader to the suffix of the metric name.\n",
    "    # For example,\"recall@10/dataloader_idx_0\"\n",
    "    monitor=\"recall@10\",\n",
    "    mode=\"max\",\n",
    ")\n",
    "\n",
    "validation_metrics_callback = ValidationMetricsCallback(\n",
    "    metrics=[\"map\", \"ndcg\", \"recall\"],\n",
    "    ks=[1, 5, 10, 20],\n",
    "    item_count=train_dataset.item_count,\n",
    "    postprocessors=[RemoveSeenItems(sequential_validation_dataset)]\n",
    ")\n",
    "\n",
    "trainer = L.Trainer(\n",
    "    max_epochs=20,\n",
    "    callbacks=[checkpoint_callback, validation_metrics_callback],\n",
    "    logger=csv_logger,\n",
    "    devices=[0]\n",
    ")\n",
    "\n",
    "train_dataloader = DataLoader(\n",
    "    dataset=SasRecTrainingDataset(\n",
    "        sequential_train_dataset,\n",
    "        max_sequence_length=MAX_SEQ_LEN,\n",
    "    ),\n",
    "    batch_size=BATCH_SIZE,\n",
    "    shuffle=True,\n",
    "    num_workers=4,\n",
    "    pin_memory=True,\n",
    ")\n",
    "\n",
    "validation_dataloader = DataLoader(\n",
    "    dataset=SasRecValidationDataset(\n",
    "        sequential_validation_dataset,\n",
    "        sequential_validation_gt,\n",
    "        sequential_train_dataset,\n",
    "        max_sequence_length=MAX_SEQ_LEN,\n",
    "    ),\n",
    "    batch_size=BATCH_SIZE,\n",
    "    num_workers=NUM_WORKERS,\n",
    "    pin_memory=True,\n",
    ")\n",
    "\n",
    "trainer.fit(\n",
    "    model,\n",
    "    train_dataloaders=train_dataloader,\n",
    "    val_dataloaders=validation_dataloader,\n",
    ")"
   ]
  },
  {
   "attachments": {},
   "cell_type": "markdown",
   "metadata": {},
   "source": [
    "The path to the best model is saved inside checkpoint_callback"
   ]
  },
  {
   "cell_type": "code",
   "execution_count": 32,
   "metadata": {},
   "outputs": [
    {
     "data": {
      "text/plain": [
       "443"
      ]
     },
     "execution_count": 32,
     "metadata": {},
     "output_type": "execute_result"
    }
   ],
   "source": [
    "int(2 * (96 * BATCH_SIZE) ** 0.5)"
   ]
  },
  {
   "cell_type": "code",
   "execution_count": 33,
   "metadata": {},
   "outputs": [],
   "source": [
    "best_model = SasRec.load_from_checkpoint(checkpoint_callback.best_model_path)"
   ]
  },
  {
   "attachments": {},
   "cell_type": "markdown",
   "metadata": {},
   "source": [
    "## Inference stage\n",
    "### Prepare Dataloader and logger"
   ]
  },
  {
   "cell_type": "code",
   "execution_count": 34,
   "metadata": {},
   "outputs": [],
   "source": [
    "prediction_dataloader = DataLoader(\n",
    "    dataset=SasRecPredictionDataset(\n",
    "        sequential_test_dataset,\n",
    "        max_sequence_length=MAX_SEQ_LEN,\n",
    "    ),\n",
    "    batch_size=BATCH_SIZE,\n",
    "    num_workers=NUM_WORKERS,\n",
    "    pin_memory=True,\n",
    ")\n",
    "\n",
    "csv_logger = CSVLogger(save_dir=\".logs/test\", name=\"SASRec_example\")"
   ]
  },
  {
   "attachments": {},
   "cell_type": "markdown",
   "metadata": {},
   "source": [
    "### Run inference\n",
    "You can get the recommendations in three formats: PySpark DataFrame, Pandas DataFrame, PyTorch tensors. Each of the types corresponds a callback\n",
    "You can filter the results using postprocessors strategy. For example the RemoveSeenItems postprocessor is filtering out the items that already have been seen in test dataset\n",
    "You don't need to use all three callbacks. This is shown only for example\n",
    "\n",
    "Also, you can get user embeddings, that were used to perform predictions, using `get_query_embedding` method inside SasRecModel or `QueryEmbeddingsPredictionCallback` for lightning module."
   ]
  },
  {
   "cell_type": "code",
   "execution_count": 35,
   "metadata": {},
   "outputs": [
    {
     "name": "stderr",
     "output_type": "stream",
     "text": [
      "GPU available: True (cuda), used: True\n",
      "TPU available: False, using: 0 TPU cores\n",
      "IPU available: False, using: 0 IPUs\n",
      "HPU available: False, using: 0 HPUs\n",
      "LOCAL_RANK: 0 - CUDA_VISIBLE_DEVICES: [0]\n"
     ]
    },
    {
     "data": {
      "application/vnd.jupyter.widget-view+json": {
       "model_id": "6325176d08ce414884344de0ad86d3da",
       "version_major": 2,
       "version_minor": 0
      },
      "text/plain": [
       "Predicting: |          | 0/? [00:00<?, ?it/s]"
      ]
     },
     "metadata": {},
     "output_type": "display_data"
    },
    {
     "name": "stderr",
     "output_type": "stream",
     "text": [
      "25/01/27 17:55:52 WARN SQLConf: The SQL config 'spark.sql.execution.arrow.enabled' has been deprecated in Spark v3.0 and may be removed in the future. Use 'spark.sql.execution.arrow.pyspark.enabled' instead of it.\n",
      "25/01/27 17:55:52 WARN SQLConf: The SQL config 'spark.sql.execution.arrow.enabled' has been deprecated in Spark v3.0 and may be removed in the future. Use 'spark.sql.execution.arrow.pyspark.enabled' instead of it.\n",
      "25/01/27 17:55:52 WARN SQLConf: The SQL config 'spark.sql.execution.arrow.enabled' has been deprecated in Spark v3.0 and may be removed in the future. Use 'spark.sql.execution.arrow.pyspark.enabled' instead of it.\n"
     ]
    }
   ],
   "source": [
    "TOPK = [1, 10, 20, 100]\n",
    "\n",
    "postprocessors = [RemoveSeenItems(sequential_test_dataset)]\n",
    "\n",
    "spark_prediction_callback = SparkPredictionCallback(\n",
    "    spark_session=spark_session,\n",
    "    top_k=max(TOPK),\n",
    "    query_column=\"user_id\",\n",
    "    item_column=\"item_id\",\n",
    "    rating_column=\"score\",\n",
    "    postprocessors=postprocessors,\n",
    ")\n",
    "\n",
    "pandas_prediction_callback = PandasPredictionCallback(\n",
    "    top_k=max(TOPK),\n",
    "    query_column=\"user_id\",\n",
    "    item_column=\"item_id\",\n",
    "    rating_column=\"score\",\n",
    "    postprocessors=postprocessors,\n",
    ")\n",
    "\n",
    "torch_prediction_callback = TorchPredictionCallback(\n",
    "    top_k=max(TOPK),\n",
    "    postprocessors=postprocessors,\n",
    ")\n",
    "\n",
    "query_embeddings_callback = QueryEmbeddingsPredictionCallback()\n",
    "\n",
    "trainer = L.Trainer(\n",
    "    callbacks=[\n",
    "        spark_prediction_callback,\n",
    "        pandas_prediction_callback,\n",
    "        torch_prediction_callback,\n",
    "        query_embeddings_callback\n",
    "    ], \n",
    "    logger=csv_logger, \n",
    "    inference_mode=True\n",
    ")\n",
    "trainer.predict(best_model, dataloaders=prediction_dataloader, return_predictions=False)\n",
    "\n",
    "spark_res = spark_prediction_callback.get_result()\n",
    "pandas_res = pandas_prediction_callback.get_result()\n",
    "torch_user_ids, torch_item_ids, torch_scores = torch_prediction_callback.get_result()\n",
    "user_embeddings = query_embeddings_callback.get_result()"
   ]
  },
  {
   "cell_type": "code",
   "execution_count": 36,
   "metadata": {},
   "outputs": [
    {
     "name": "stderr",
     "output_type": "stream",
     "text": [
      "[Stage 0:>                                                          (0 + 1) / 1]\r"
     ]
    },
    {
     "name": "stdout",
     "output_type": "stream",
     "text": [
      "+-------+-------+------------------+\n",
      "|user_id|item_id|             score|\n",
      "+-------+-------+------------------+\n",
      "|   5122|   1003|3.1973793506622314|\n",
      "|   5122|    705|2.9980478286743164|\n",
      "|   5122|    610| 2.967081308364868|\n",
      "|   5122|   1699|2.9271583557128906|\n",
      "|   5122|   1515|2.9029107093811035|\n",
      "|   5122|    729|2.8825559616088867|\n",
      "|   5122|    632|2.8579301834106445|\n",
      "|   5122|    756|2.8310935497283936|\n",
      "|   5122|    929|2.8010332584381104|\n",
      "|   5122|   1569| 2.781919240951538|\n",
      "|   5122|    442|2.7577714920043945|\n",
      "|   5122|    982|2.7440521717071533|\n",
      "|   5122|    928| 2.733532667160034|\n",
      "|   5122|    749|2.7306714057922363|\n",
      "|   5122|    663|2.7242941856384277|\n",
      "|   5122|   1149|2.7208995819091797|\n",
      "|   5122|   1931|2.7192840576171875|\n",
      "|   5122|    680|2.6880593299865723|\n",
      "|   5122|   1098|2.6808016300201416|\n",
      "|   5122|   1615| 2.665447473526001|\n",
      "+-------+-------+------------------+\n",
      "only showing top 20 rows\n",
      "\n"
     ]
    },
    {
     "name": "stderr",
     "output_type": "stream",
     "text": [
      "                                                                                \r"
     ]
    }
   ],
   "source": [
    "spark_res.show()"
   ]
  },
  {
   "cell_type": "code",
   "execution_count": 37,
   "metadata": {},
   "outputs": [
    {
     "data": {
      "text/html": [
       "<div>\n",
       "<style scoped>\n",
       "    .dataframe tbody tr th:only-of-type {\n",
       "        vertical-align: middle;\n",
       "    }\n",
       "\n",
       "    .dataframe tbody tr th {\n",
       "        vertical-align: top;\n",
       "    }\n",
       "\n",
       "    .dataframe thead th {\n",
       "        text-align: right;\n",
       "    }\n",
       "</style>\n",
       "<table border=\"1\" class=\"dataframe\">\n",
       "  <thead>\n",
       "    <tr style=\"text-align: right;\">\n",
       "      <th></th>\n",
       "      <th>user_id</th>\n",
       "      <th>item_id</th>\n",
       "      <th>score</th>\n",
       "    </tr>\n",
       "  </thead>\n",
       "  <tbody>\n",
       "    <tr>\n",
       "      <th>0</th>\n",
       "      <td>5122</td>\n",
       "      <td>1003</td>\n",
       "      <td>3.197379</td>\n",
       "    </tr>\n",
       "    <tr>\n",
       "      <th>0</th>\n",
       "      <td>5122</td>\n",
       "      <td>705</td>\n",
       "      <td>2.998048</td>\n",
       "    </tr>\n",
       "    <tr>\n",
       "      <th>0</th>\n",
       "      <td>5122</td>\n",
       "      <td>610</td>\n",
       "      <td>2.967081</td>\n",
       "    </tr>\n",
       "    <tr>\n",
       "      <th>0</th>\n",
       "      <td>5122</td>\n",
       "      <td>1699</td>\n",
       "      <td>2.927158</td>\n",
       "    </tr>\n",
       "    <tr>\n",
       "      <th>0</th>\n",
       "      <td>5122</td>\n",
       "      <td>1515</td>\n",
       "      <td>2.902911</td>\n",
       "    </tr>\n",
       "    <tr>\n",
       "      <th>...</th>\n",
       "      <td>...</td>\n",
       "      <td>...</td>\n",
       "      <td>...</td>\n",
       "    </tr>\n",
       "    <tr>\n",
       "      <th>998</th>\n",
       "      <td>89</td>\n",
       "      <td>277</td>\n",
       "      <td>1.891246</td>\n",
       "    </tr>\n",
       "    <tr>\n",
       "      <th>998</th>\n",
       "      <td>89</td>\n",
       "      <td>581</td>\n",
       "      <td>1.890986</td>\n",
       "    </tr>\n",
       "    <tr>\n",
       "      <th>998</th>\n",
       "      <td>89</td>\n",
       "      <td>598</td>\n",
       "      <td>1.890561</td>\n",
       "    </tr>\n",
       "    <tr>\n",
       "      <th>998</th>\n",
       "      <td>89</td>\n",
       "      <td>812</td>\n",
       "      <td>1.876812</td>\n",
       "    </tr>\n",
       "    <tr>\n",
       "      <th>998</th>\n",
       "      <td>89</td>\n",
       "      <td>1156</td>\n",
       "      <td>1.872073</td>\n",
       "    </tr>\n",
       "  </tbody>\n",
       "</table>\n",
       "<p>99900 rows × 3 columns</p>\n",
       "</div>"
      ],
      "text/plain": [
       "     user_id item_id     score\n",
       "0       5122    1003  3.197379\n",
       "0       5122     705  2.998048\n",
       "0       5122     610  2.967081\n",
       "0       5122    1699  2.927158\n",
       "0       5122    1515  2.902911\n",
       "..       ...     ...       ...\n",
       "998       89     277  1.891246\n",
       "998       89     581  1.890986\n",
       "998       89     598  1.890561\n",
       "998       89     812  1.876812\n",
       "998       89    1156  1.872073\n",
       "\n",
       "[99900 rows x 3 columns]"
      ]
     },
     "execution_count": 37,
     "metadata": {},
     "output_type": "execute_result"
    }
   ],
   "source": [
    "pandas_res"
   ]
  },
  {
   "cell_type": "code",
   "execution_count": 38,
   "metadata": {},
   "outputs": [
    {
     "name": "stdout",
     "output_type": "stream",
     "text": [
      "tensor(5122) tensor([1003,  705,  610, 1699, 1515,  729,  632,  756,  929, 1569,  442,  982,\n",
      "         928,  749,  663, 1149, 1931,  680, 1098, 1615,  976,  606, 1505, 1511,\n",
      "         959,  391,  629,  995,  662, 2109, 1933,  938,  738,  931, 1512,  753,\n",
      "        1620,  380,  910, 1738, 1102,  731, 1700, 1233,  634,  837, 2143, 1084,\n",
      "         679, 2117, 1131, 1426, 1127, 1650,  752,  728,  107,  665, 1139, 1513,\n",
      "        1015, 1455,  671,  437, 2454, 1202,  310, 1940, 1835,  733,  776,  681,\n",
      "        1603, 1539,  927, 1160,  102,  704, 1002, 1101,  863, 1018,  128, 1247,\n",
      "        1601,  631,  707, 1736,  205,  524,  992, 1377, 2359, 1027, 1510, 1148,\n",
      "        1568,  727,  254, 1096]) tensor([3.1974, 2.9980, 2.9671, 2.9272, 2.9029, 2.8826, 2.8579, 2.8311, 2.8010,\n",
      "        2.7819, 2.7578, 2.7441, 2.7335, 2.7307, 2.7243, 2.7209, 2.7193, 2.6881,\n",
      "        2.6808, 2.6654, 2.6430, 2.6403, 2.6007, 2.5821, 2.5531, 2.5447, 2.5431,\n",
      "        2.5404, 2.5298, 2.5248, 2.5243, 2.5214, 2.5206, 2.5173, 2.5110, 2.5057,\n",
      "        2.4835, 2.4777, 2.4668, 2.4653, 2.4630, 2.4609, 2.4592, 2.4564, 2.4466,\n",
      "        2.4365, 2.4340, 2.4295, 2.4267, 2.4219, 2.4216, 2.4206, 2.4079, 2.4044,\n",
      "        2.3985, 2.3879, 2.3855, 2.3790, 2.3729, 2.3531, 2.3529, 2.3506, 2.3474,\n",
      "        2.3461, 2.3303, 2.3102, 2.3053, 2.3045, 2.3010, 2.2890, 2.2671, 2.2545,\n",
      "        2.2410, 2.2355, 2.2300, 2.2264, 2.2255, 2.2250, 2.2234, 2.2211, 2.2019,\n",
      "        2.1992, 2.1984, 2.1943, 2.1864, 2.1845, 2.1826, 2.1805, 2.1790, 2.1770,\n",
      "        2.1618, 2.1608, 2.1588, 2.1567, 2.1491, 2.1489, 2.1433, 2.1415, 2.1398,\n",
      "        2.1378])\n"
     ]
    }
   ],
   "source": [
    "print(torch_user_ids[0], torch_item_ids[0], torch_scores[0])"
   ]
  },
  {
   "attachments": {},
   "cell_type": "markdown",
   "metadata": {},
   "source": [
    "Suppose we want to get the recomendations in PySpark format. \n",
    "Let's get the inverse representation of labels using inverse_transform method.\n",
    "\n",
    "Note that the reverse representation can only be obtained for PySpark and Pandas formats. When working with PyTorch tensors, the reverse representation must be done manually"
   ]
  },
  {
   "cell_type": "code",
   "execution_count": 39,
   "metadata": {},
   "outputs": [],
   "source": [
    "recommendations = tokenizer.query_and_item_id_encoder.inverse_transform(pandas_res)"
   ]
  },
  {
   "cell_type": "code",
   "execution_count": 40,
   "metadata": {},
   "outputs": [],
   "source": [
    "recommendations = tokenizer.query_and_item_id_encoder.inverse_transform(spark_res)"
   ]
  },
  {
   "cell_type": "code",
   "execution_count": 41,
   "metadata": {},
   "outputs": [
    {
     "name": "stderr",
     "output_type": "stream",
     "text": [
      "[Stage 2:=================(40 + 0) / 40][Stage 3:==>              (7 + 33) / 40]\r"
     ]
    },
    {
     "name": "stdout",
     "output_type": "stream",
     "text": [
      "+------------------+-------+-------+\n",
      "|             score|user_id|item_id|\n",
      "+------------------+-------+-------+\n",
      "|3.2674994468688965|   5872|   3300|\n",
      "| 3.212432384490967|   5872|   1198|\n",
      "| 3.212956666946411|   5872|   1617|\n",
      "|  3.44307279586792|   5872|    593|\n",
      "| 3.339540481567383|   5872|   3081|\n",
      "| 4.250976085662842|   5872|   3555|\n",
      "| 3.331231117248535|   5872|   3948|\n",
      "| 3.638554573059082|   5872|   2628|\n",
      "| 4.071298599243164|   5872|   3755|\n",
      "|  4.79286003112793|   5872|   3753|\n",
      "|  3.43864107131958|   5872|   2959|\n",
      "| 3.222958564758301|   5872|   3176|\n",
      "|3.2520573139190674|   5872|   3160|\n",
      "|3.2733778953552246|   5872|    527|\n",
      "|4.3250226974487305|   5872|   3624|\n",
      "| 3.603006601333618|   5872|    110|\n",
      "|3.6212527751922607|   5872|   3408|\n",
      "| 4.582570552825928|   5872|   3623|\n",
      "| 3.708123207092285|   5872|   3510|\n",
      "| 3.668764352798462|   5872|    480|\n",
      "+------------------+-------+-------+\n",
      "only showing top 20 rows\n",
      "\n"
     ]
    },
    {
     "name": "stderr",
     "output_type": "stream",
     "text": [
      "                                                                                \r"
     ]
    }
   ],
   "source": [
    "recommendations.show()"
   ]
  },
  {
   "attachments": {},
   "cell_type": "markdown",
   "metadata": {},
   "source": [
    "### Calculating metrics"
   ]
  },
  {
   "cell_type": "code",
   "execution_count": 42,
   "metadata": {},
   "outputs": [],
   "source": [
    "init_args = {\"query_column\": \"user_id\", \"rating_column\": \"score\"}"
   ]
  },
  {
   "cell_type": "code",
   "execution_count": 43,
   "metadata": {},
   "outputs": [
    {
     "name": "stderr",
     "output_type": "stream",
     "text": [
      "                                                                                \r"
     ]
    }
   ],
   "source": [
    "result_metrics = OfflineMetrics(\n",
    "    [Recall(TOPK), Precision(TOPK), MAP(TOPK), NDCG(TOPK), MRR(TOPK), HitRate(TOPK)], **init_args\n",
    ")(recommendations.toPandas(), raw_test_gt)"
   ]
  },
  {
   "cell_type": "code",
   "execution_count": 44,
   "metadata": {},
   "outputs": [
    {
     "data": {
      "text/html": [
       "<div>\n",
       "<style scoped>\n",
       "    .dataframe tbody tr th:only-of-type {\n",
       "        vertical-align: middle;\n",
       "    }\n",
       "\n",
       "    .dataframe tbody tr th {\n",
       "        vertical-align: top;\n",
       "    }\n",
       "\n",
       "    .dataframe thead th {\n",
       "        text-align: right;\n",
       "    }\n",
       "</style>\n",
       "<table border=\"1\" class=\"dataframe\">\n",
       "  <thead>\n",
       "    <tr style=\"text-align: right;\">\n",
       "      <th>k</th>\n",
       "      <th>1</th>\n",
       "      <th>10</th>\n",
       "      <th>100</th>\n",
       "      <th>20</th>\n",
       "    </tr>\n",
       "  </thead>\n",
       "  <tbody>\n",
       "    <tr>\n",
       "      <th>HitRate</th>\n",
       "      <td>0.159159</td>\n",
       "      <td>0.513514</td>\n",
       "      <td>0.829830</td>\n",
       "      <td>0.627628</td>\n",
       "    </tr>\n",
       "    <tr>\n",
       "      <th>MAP</th>\n",
       "      <td>0.159159</td>\n",
       "      <td>0.068691</td>\n",
       "      <td>0.050072</td>\n",
       "      <td>0.055355</td>\n",
       "    </tr>\n",
       "    <tr>\n",
       "      <th>MRR</th>\n",
       "      <td>0.159159</td>\n",
       "      <td>0.255435</td>\n",
       "      <td>0.268785</td>\n",
       "      <td>0.263495</td>\n",
       "    </tr>\n",
       "    <tr>\n",
       "      <th>NDCG</th>\n",
       "      <td>0.159159</td>\n",
       "      <td>0.133537</td>\n",
       "      <td>0.164910</td>\n",
       "      <td>0.131021</td>\n",
       "    </tr>\n",
       "    <tr>\n",
       "      <th>Precision</th>\n",
       "      <td>0.159159</td>\n",
       "      <td>0.119820</td>\n",
       "      <td>0.073894</td>\n",
       "      <td>0.106907</td>\n",
       "    </tr>\n",
       "    <tr>\n",
       "      <th>Recall</th>\n",
       "      <td>0.008108</td>\n",
       "      <td>0.047615</td>\n",
       "      <td>0.229246</td>\n",
       "      <td>0.079231</td>\n",
       "    </tr>\n",
       "  </tbody>\n",
       "</table>\n",
       "</div>"
      ],
      "text/plain": [
       "k                 1        10       100        20\n",
       "HitRate    0.159159  0.513514  0.829830  0.627628\n",
       "MAP        0.159159  0.068691  0.050072  0.055355\n",
       "MRR        0.159159  0.255435  0.268785  0.263495\n",
       "NDCG       0.159159  0.133537  0.164910  0.131021\n",
       "Precision  0.159159  0.119820  0.073894  0.106907\n",
       "Recall     0.008108  0.047615  0.229246  0.079231"
      ]
     },
     "execution_count": 44,
     "metadata": {},
     "output_type": "execute_result"
    }
   ],
   "source": [
    "metrics_to_df(result_metrics)"
   ]
  },
  {
   "cell_type": "markdown",
   "metadata": {},
   "source": [
    "### User embeddings"
   ]
  },
  {
   "cell_type": "markdown",
   "metadata": {},
   "source": [
    "Got 6040 x 300 user embeddings, because among all 12 batches: \n",
    "\n",
    "11 batches contains 512 samples\n",
    "\n",
    "1 batch contains 408 left samples\n",
    "\n",
    "11 * 512 + 408 == 6040"
   ]
  },
  {
   "cell_type": "code",
   "execution_count": 45,
   "metadata": {},
   "outputs": [
    {
     "data": {
      "text/plain": [
       "tensor([[-1.3588,  0.6115, -0.5583,  ...,  1.2862, -1.5047,  0.0346],\n",
       "        [-3.8591,  1.4096,  1.4237,  ..., -0.6157, -2.2586,  0.0914],\n",
       "        [-0.5016, -0.3925,  0.6858,  ..., -0.4272, -0.7225, -0.6103],\n",
       "        ...,\n",
       "        [-0.6518,  1.9461, -0.6579,  ...,  2.1331, -2.5580,  0.1644],\n",
       "        [-3.2403,  1.4374,  1.9984,  ..., -1.9835, -0.4550,  0.1752],\n",
       "        [ 1.2360,  0.9704, -0.7481,  ...,  1.6565, -1.7223, -0.3767]],\n",
       "       device='cuda:0')"
      ]
     },
     "execution_count": 45,
     "metadata": {},
     "output_type": "execute_result"
    }
   ],
   "source": [
    "user_embeddings"
   ]
  },
  {
   "cell_type": "code",
   "execution_count": 46,
   "metadata": {},
   "outputs": [
    {
     "data": {
      "text/plain": [
       "torch.Size([999, 128])"
      ]
     },
     "execution_count": 46,
     "metadata": {},
     "output_type": "execute_result"
    }
   ],
   "source": [
    "user_embeddings.shape"
   ]
  },
  {
   "cell_type": "markdown",
   "metadata": {},
   "source": [
    "You can access user embeddings directly with `SasRecModel` class"
   ]
  },
  {
   "cell_type": "code",
   "execution_count": 47,
   "metadata": {},
   "outputs": [
    {
     "data": {
      "text/plain": [
       "tensor([[-0.0135, -1.8645, -0.5616,  ..., -1.4365, -0.4063,  0.5429],\n",
       "        [-0.5126,  1.0381,  0.4256,  ..., -0.9326, -0.6378,  0.1428],\n",
       "        [ 1.5835,  0.1055,  0.1863,  ..., -2.0653, -0.3098, -0.5548],\n",
       "        ...,\n",
       "        [-0.9978, -1.2346,  0.3958,  ..., -1.7343,  1.3727, -0.2931],\n",
       "        [ 1.0758, -2.0191, -0.0468,  ...,  0.2012, -0.7288, -0.3621],\n",
       "        [-1.1641, -1.2004,  0.2267,  ..., -0.1463,  0.2319, -0.9344]],\n",
       "       device='cuda:0', grad_fn=<SliceBackward0>)"
      ]
     },
     "execution_count": 47,
     "metadata": {},
     "output_type": "execute_result"
    }
   ],
   "source": [
    "device = \"cuda\" if torch.cuda.is_available() else \"cpu\"\n",
    "\n",
    "core_model = SasRecModel(\n",
    "    tensor_schema,\n",
    "    num_blocks=2,\n",
    "    num_heads=2,\n",
    "    max_len=MAX_SEQ_LEN,\n",
    "    hidden_size=300,\n",
    "    dropout=0.5\n",
    ")\n",
    "core_model.eval()\n",
    "core_model = core_model.to(device)\n",
    "\n",
    "# Get first batch of data \n",
    "data = next(iter(prediction_dataloader))\n",
    "tensor_map, padding_mask = data.features, data.padding_mask\n",
    "\n",
    "# Ensure everything is on the same device\n",
    "padding_mask = padding_mask.to(device)\n",
    "tensor_map[\"item_id_seq\"] = tensor_map[\"item_id_seq\"].to(device)\n",
    "\n",
    "# Get user embeddings\n",
    "user_embeddings_batch = core_model.get_query_embeddings(tensor_map, padding_mask)\n",
    "user_embeddings_batch"
   ]
  },
  {
   "cell_type": "code",
   "execution_count": 48,
   "metadata": {},
   "outputs": [
    {
     "data": {
      "text/plain": [
       "torch.Size([512, 300])"
      ]
     },
     "execution_count": 48,
     "metadata": {},
     "output_type": "execute_result"
    }
   ],
   "source": [
    "user_embeddings_batch.shape"
   ]
  },
  {
   "cell_type": "markdown",
   "metadata": {},
   "source": [
    "### Item embeddings"
   ]
  },
  {
   "cell_type": "markdown",
   "metadata": {},
   "source": [
    "`get_all_embeddings()` method in transformers can be used to get copies of all embeddings that are presented in model as a dict."
   ]
  },
  {
   "cell_type": "code",
   "execution_count": 49,
   "metadata": {},
   "outputs": [
    {
     "data": {
      "text/plain": [
       "{'item_embedding': tensor([[-0.0345, -0.0091,  0.0657,  ...,  0.0364, -0.0691, -0.0106],\n",
       "         [-0.0494, -0.0726,  0.0483,  ..., -0.0268, -0.0485, -0.0410],\n",
       "         [ 0.0141, -0.0136, -0.0091,  ..., -0.0315,  0.0065, -0.0430],\n",
       "         ...,\n",
       "         [ 0.0829, -0.0413, -0.0633,  ...,  0.0596,  0.0755,  0.0625],\n",
       "         [-0.0071, -0.0068,  0.0063,  ...,  0.0582,  0.0791,  0.0534],\n",
       "         [ 0.0530, -0.0474, -0.0015,  ...,  0.0267,  0.0295,  0.0558]]),\n",
       " 'positional_embedding': tensor([[ 0.0048, -0.1108,  0.0972,  ..., -0.1670,  0.0168,  0.0838],\n",
       "         [-0.0271,  0.0556,  0.0412,  ...,  0.0855, -0.0119, -0.0321],\n",
       "         [-0.0476,  0.0519,  0.0134,  ..., -0.0149, -0.0687, -0.0949],\n",
       "         ...,\n",
       "         [-0.1944,  0.0821, -0.1507,  ...,  0.0389,  0.0946,  0.1570],\n",
       "         [-0.0951,  0.0570,  0.1439,  ...,  0.0934,  0.0340,  0.0887],\n",
       "         [-0.0529,  0.0834,  0.0725,  ..., -0.0190,  0.0494, -0.0178]])}"
      ]
     },
     "execution_count": 49,
     "metadata": {},
     "output_type": "execute_result"
    }
   ],
   "source": [
    "all_embeddings = best_model.get_all_embeddings()\n",
    "all_embeddings"
   ]
  },
  {
   "cell_type": "markdown",
   "metadata": {},
   "source": [
    "You can access item embeddings from this dictionary"
   ]
  },
  {
   "cell_type": "code",
   "execution_count": 50,
   "metadata": {},
   "outputs": [
    {
     "data": {
      "text/plain": [
       "tensor([[-0.0345, -0.0091,  0.0657,  ...,  0.0364, -0.0691, -0.0106],\n",
       "        [-0.0494, -0.0726,  0.0483,  ..., -0.0268, -0.0485, -0.0410],\n",
       "        [ 0.0141, -0.0136, -0.0091,  ..., -0.0315,  0.0065, -0.0430],\n",
       "        ...,\n",
       "        [ 0.0829, -0.0413, -0.0633,  ...,  0.0596,  0.0755,  0.0625],\n",
       "        [-0.0071, -0.0068,  0.0063,  ...,  0.0582,  0.0791,  0.0534],\n",
       "        [ 0.0530, -0.0474, -0.0015,  ...,  0.0267,  0.0295,  0.0558]])"
      ]
     },
     "execution_count": 50,
     "metadata": {},
     "output_type": "execute_result"
    }
   ],
   "source": [
    "item_embeddings = all_embeddings[\"item_embedding\"]\n",
    "item_embeddings"
   ]
  },
  {
   "cell_type": "markdown",
   "metadata": {},
   "source": [
    "Item embeddings shape is (N_ITEMS, HIDDEN_SIZE)"
   ]
  },
  {
   "cell_type": "code",
   "execution_count": 51,
   "metadata": {},
   "outputs": [
    {
     "data": {
      "text/plain": [
       "torch.Size([3120, 128])"
      ]
     },
     "execution_count": 51,
     "metadata": {},
     "output_type": "execute_result"
    }
   ],
   "source": [
    "item_embeddings.shape"
   ]
  },
  {
   "cell_type": "markdown",
   "metadata": {},
   "source": [
    "Ensure we got correct dimension and ensure we got the copy of tensor"
   ]
  },
  {
   "cell_type": "code",
   "execution_count": 52,
   "metadata": {},
   "outputs": [],
   "source": [
    "assert item_embeddings.shape[0] == len(tokenizer.item_id_encoder.mapping[\"item_id\"])\n",
    "assert id(item_embeddings) != id(best_model._model.item_embedder.item_emb.weight.data)"
   ]
  },
  {
   "cell_type": "markdown",
   "metadata": {},
   "source": [
    "For example we observe one new item id in our training data. We can easily expand our item embedder by one element"
   ]
  },
  {
   "cell_type": "markdown",
   "metadata": {},
   "source": [
    "In order to expand item embeddings by new size `set_item_embeddings_by_size` method is applied"
   ]
  },
  {
   "cell_type": "code",
   "execution_count": 53,
   "metadata": {},
   "outputs": [],
   "source": [
    "best_model.set_item_embeddings_by_size(item_embeddings.shape[0] + 1)"
   ]
  },
  {
   "cell_type": "markdown",
   "metadata": {},
   "source": [
    "Now our new item embeddings have one extra embedding"
   ]
  },
  {
   "cell_type": "code",
   "execution_count": 54,
   "metadata": {},
   "outputs": [],
   "source": [
    "new_size = best_model.get_all_embeddings()[\"item_embedding\"].shape[0]\n",
    "old_size = item_embeddings.shape[0]\n",
    "\n",
    "assert new_size == old_size + 1"
   ]
  },
  {
   "cell_type": "markdown",
   "metadata": {},
   "source": [
    "Alternatively, we can pass our item embeddings that replace the existing ones by calling `set_item_embeddings_by_tensor`.\n",
    "\n",
    "If tensor contains new items, they will be added to item embedder."
   ]
  },
  {
   "cell_type": "code",
   "execution_count": 55,
   "metadata": {},
   "outputs": [
    {
     "ename": "ValueError",
     "evalue": "Input tensor second dimension doesn't match model hidden size",
     "output_type": "error",
     "traceback": [
      "\u001b[0;31m---------------------------------------------------------------------------\u001b[0m",
      "\u001b[0;31mValueError\u001b[0m                                Traceback (most recent call last)",
      "Cell \u001b[0;32mIn[55], line 3\u001b[0m\n\u001b[1;32m      1\u001b[0m new_embeddings_weights \u001b[38;5;241m=\u001b[39m torch\u001b[38;5;241m.\u001b[39mrand((new_size \u001b[38;5;241m+\u001b[39m \u001b[38;5;241m1\u001b[39m, \u001b[38;5;241m300\u001b[39m))    \u001b[38;5;66;03m# randint used for example only\u001b[39;00m\n\u001b[0;32m----> 3\u001b[0m \u001b[43mbest_model\u001b[49m\u001b[38;5;241;43m.\u001b[39;49m\u001b[43mset_item_embeddings_by_tensor\u001b[49m\u001b[43m(\u001b[49m\u001b[43mnew_embeddings_weights\u001b[49m\u001b[43m)\u001b[49m\n",
      "File \u001b[0;32m~/RePlay-Accelerated/replay/models/nn/sequential/sasrec/lightning.py:596\u001b[0m, in \u001b[0;36mSasRec.set_item_embeddings_by_tensor\u001b[0;34m(self, all_item_embeddings)\u001b[0m\n\u001b[1;32m    594\u001b[0m \u001b[38;5;28;01mif\u001b[39;00m all_item_embeddings\u001b[38;5;241m.\u001b[39mshape[\u001b[38;5;241m1\u001b[39m] \u001b[38;5;241m!=\u001b[39m hidden_size:\n\u001b[1;32m    595\u001b[0m     msg \u001b[38;5;241m=\u001b[39m \u001b[38;5;124m\"\u001b[39m\u001b[38;5;124mInput tensor second dimension doesn\u001b[39m\u001b[38;5;124m'\u001b[39m\u001b[38;5;124mt match model hidden size\u001b[39m\u001b[38;5;124m\"\u001b[39m\n\u001b[0;32m--> 596\u001b[0m     \u001b[38;5;28;01mraise\u001b[39;00m \u001b[38;5;167;01mValueError\u001b[39;00m(msg)\n\u001b[1;32m    598\u001b[0m new_embedding \u001b[38;5;241m=\u001b[39m torch\u001b[38;5;241m.\u001b[39mnn\u001b[38;5;241m.\u001b[39mEmbedding(new_vocab_size \u001b[38;5;241m+\u001b[39m \u001b[38;5;241m1\u001b[39m, hidden_size, padding_idx\u001b[38;5;241m=\u001b[39mnew_vocab_size)\n\u001b[1;32m    599\u001b[0m new_embedding\u001b[38;5;241m.\u001b[39mweight\u001b[38;5;241m.\u001b[39mdata[:\u001b[38;5;241m-\u001b[39m\u001b[38;5;241m1\u001b[39m, :] \u001b[38;5;241m=\u001b[39m all_item_embeddings\n",
      "\u001b[0;31mValueError\u001b[0m: Input tensor second dimension doesn't match model hidden size"
     ]
    }
   ],
   "source": [
    "new_embeddings_weights = torch.rand((new_size + 1, 300))    # randint used for example only\n",
    "\n",
    "best_model.set_item_embeddings_by_tensor(new_embeddings_weights)"
   ]
  },
  {
   "cell_type": "markdown",
   "metadata": {},
   "source": [
    "At the moment we expanded our item embeddings by one more item and replace weights by passing `new_embeddings_weights`"
   ]
  },
  {
   "cell_type": "code",
   "execution_count": null,
   "metadata": {},
   "outputs": [],
   "source": [
    "old_size = new_size\n",
    "new_size = best_model.get_all_embeddings()[\"item_embedding\"].shape[0]\n",
    "\n",
    "assert new_size == old_size + 1"
   ]
  },
  {
   "cell_type": "markdown",
   "metadata": {},
   "source": [
    "Similarly, we can append tensor for only new items with no replace for existing by calling `append_item_embeddings`"
   ]
  },
  {
   "cell_type": "code",
   "execution_count": null,
   "metadata": {},
   "outputs": [],
   "source": [
    "new_item_weights = torch.rand((1, 300))    # randint used for example only\n",
    "\n",
    "best_model.append_item_embeddings(new_item_weights)"
   ]
  },
  {
   "cell_type": "markdown",
   "metadata": {},
   "source": [
    "We passed one new example and its weights to item embeddings, thus expanded our vocabulary by one item again"
   ]
  },
  {
   "cell_type": "code",
   "execution_count": null,
   "metadata": {},
   "outputs": [],
   "source": [
    "old_size = new_size\n",
    "new_size = best_model.get_all_embeddings()[\"item_embedding\"].shape[0]\n",
    "\n",
    "assert new_size == old_size + 1"
   ]
  },
  {
   "attachments": {},
   "cell_type": "markdown",
   "metadata": {},
   "source": [
    "## Example of launching an inference for a single user without using a trainer (in order to speed up)\n",
    "An example for the production of an online script\n",
    "\n",
    "Let's assume that the user's sequence consisted of a sequence of items [1, 2, 3, 4, 5]. \n",
    "Сreate a padding mask corresponding to the sequence of items.\n",
    "\n",
    "It is important to take only the latest MAX_SEQ_LEN or less items."
   ]
  },
  {
   "cell_type": "code",
   "execution_count": null,
   "metadata": {},
   "outputs": [],
   "source": [
    "item_sequence = torch.arange(1, 5).unsqueeze(0)[:, -MAX_SEQ_LEN:]\n",
    "padding_mask = torch.ones_like(item_sequence, dtype=torch.bool)\n",
    "sequence_item_count = item_sequence.shape[1]"
   ]
  },
  {
   "attachments": {},
   "cell_type": "markdown",
   "metadata": {},
   "source": [
    "### Wrapping created tensors in the SasRecPredictionBatch entity"
   ]
  },
  {
   "cell_type": "code",
   "execution_count": null,
   "metadata": {},
   "outputs": [],
   "source": [
    "batch = SasRecPredictionBatch(\n",
    "    query_id=torch.arange(0, item_sequence.shape[0], 1).long(),\n",
    "    padding_mask=padding_mask.bool(),\n",
    "    features={ITEM_FEATURE_NAME: item_sequence.long()}\n",
    ")"
   ]
  },
  {
   "attachments": {},
   "cell_type": "markdown",
   "metadata": {},
   "source": [
    "### Run predict step of the SasRec and get scores from the model"
   ]
  },
  {
   "cell_type": "code",
   "execution_count": null,
   "metadata": {},
   "outputs": [
    {
     "data": {
      "text/plain": [
       "tensor([[ 8.7962,  5.1799, -2.5661,  ...,  7.6662, -0.4550, -6.3377]])"
      ]
     },
     "execution_count": 37,
     "metadata": {},
     "output_type": "execute_result"
    }
   ],
   "source": [
    "with torch.no_grad():\n",
    "    scores = best_model.predict_step(batch, 0)\n",
    "scores"
   ]
  },
  {
   "attachments": {},
   "cell_type": "markdown",
   "metadata": {},
   "source": [
    "### Getting three items with the highest score"
   ]
  },
  {
   "cell_type": "code",
   "execution_count": null,
   "metadata": {},
   "outputs": [
    {
     "data": {
      "text/plain": [
       "tensor([[3249, 1365,  561]])"
      ]
     },
     "execution_count": 38,
     "metadata": {},
     "output_type": "execute_result"
    }
   ],
   "source": [
    "torch.topk(scores, k=3).indices"
   ]
  }
 ],
 "metadata": {
  "kernelspec": {
   "display_name": "Python 3",
   "language": "python",
   "name": "python3"
  },
  "language_info": {
   "codemirror_mode": {
    "name": "ipython",
    "version": 3
   },
   "file_extension": ".py",
   "mimetype": "text/x-python",
   "name": "python",
   "nbconvert_exporter": "python",
   "pygments_lexer": "ipython3",
   "version": "3.11.9"
  },
  "orig_nbformat": 4,
  "vscode": {
   "interpreter": {
    "hash": "0857f111b041889635bea848a6a183706c3f1c18c9dafdb447caa5e8bea01452"
   }
  }
 },
 "nbformat": 4,
 "nbformat_minor": 2
}
