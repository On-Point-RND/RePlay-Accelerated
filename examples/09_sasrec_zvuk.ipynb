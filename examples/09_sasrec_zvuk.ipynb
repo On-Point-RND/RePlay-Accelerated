{
 "cells": [
  {
   "attachments": {},
   "cell_type": "markdown",
   "metadata": {},
   "source": [
    "# Example of the SASRec training and inference stages\n",
    "Note that all the given examples can be run without using PySpark, using only Pandas"
   ]
  },
  {
   "cell_type": "code",
   "execution_count": 1,
   "metadata": {},
   "outputs": [],
   "source": [
    "# changing core directory\n",
    "import os, sys\n",
    "dir2 = os.path.abspath('')\n",
    "dir1 = os.path.dirname(dir2)\n",
    "if not dir1 in sys.path:\n",
    "    sys.path.append(dir1)\n",
    "os.chdir('..')"
   ]
  },
  {
   "cell_type": "code",
   "execution_count": 2,
   "metadata": {},
   "outputs": [],
   "source": [
    "import lightning as L\n",
    "from lightning.pytorch.loggers import CSVLogger\n",
    "from lightning.pytorch.callbacks import ModelCheckpoint\n",
    "from torch.utils.data import DataLoader\n",
    "import torch\n",
    "\n",
    "from replay_main.metrics import OfflineMetrics, Recall, Precision, MAP, NDCG, HitRate, MRR\n",
    "from replay_main.metrics.torch_metrics_builder import metrics_to_df\n",
    "from replay_main.splitters import LastNSplitter\n",
    "from replay_main.utils import get_spark_session\n",
    "from replay_main.data import (\n",
    "    FeatureHint,\n",
    "    FeatureInfo,\n",
    "    FeatureSchema,\n",
    "    FeatureSource,\n",
    "    FeatureType,\n",
    "    Dataset,\n",
    ")\n",
    "from replay_main.models.nn.optimizer_utils import FatOptimizerFactory\n",
    "from replay_main.models.nn.sequential.callbacks import (\n",
    "    ValidationMetricsCallback,\n",
    "    SparkPredictionCallback,\n",
    "    PandasPredictionCallback, \n",
    "    TorchPredictionCallback,\n",
    "    QueryEmbeddingsPredictionCallback\n",
    ")\n",
    "from replay_main.models.nn.sequential.postprocessors import RemoveSeenItems\n",
    "from replay_main.data.nn import (\n",
    "    SequenceTokenizer,\n",
    "    SequentialDataset,\n",
    "    TensorFeatureSource,\n",
    "    TensorSchema,\n",
    "    TensorFeatureInfo\n",
    ")\n",
    "from replay_main.models.nn.sequential import SasRec\n",
    "from replay_main.models.nn.sequential.sasrec import (\n",
    "    SasRecPredictionDataset,\n",
    "    SasRecTrainingDataset,\n",
    "    SasRecValidationDataset,\n",
    "    SasRecPredictionBatch,\n",
    "    SasRecModel\n",
    ")\n",
    "\n",
    "import pandas as pd\n",
    "import matplotlib.pyplot as plt"
   ]
  },
  {
   "attachments": {},
   "cell_type": "markdown",
   "metadata": {},
   "source": [
    "## Getting a spark session"
   ]
  },
  {
   "cell_type": "code",
   "execution_count": 3,
   "metadata": {},
   "outputs": [
    {
     "name": "stderr",
     "output_type": "stream",
     "text": [
      "/usr/local/lib/python3.11/site-packages/pyspark/bin/load-spark-env.sh: line 68: ps: command not found\n",
      "Setting default log level to \"WARN\".\n",
      "To adjust logging level use sc.setLogLevel(newLevel). For SparkR, use setLogLevel(newLevel).\n",
      "24/11/22 14:37:33 WARN NativeCodeLoader: Unable to load native-hadoop library for your platform... using builtin-java classes where applicable\n",
      "24/11/22 14:37:33 WARN SparkConf: Note that spark.local.dir will be overridden by the value set by the cluster manager (via SPARK_LOCAL_DIRS in mesos/standalone/kubernetes and LOCAL_DIRS in YARN).\n",
      "24/11/22 14:37:34 WARN Utils: Service 'SparkUI' could not bind on port 4040. Attempting port 4041.\n"
     ]
    }
   ],
   "source": [
    "spark_session = get_spark_session()"
   ]
  },
  {
   "attachments": {},
   "cell_type": "markdown",
   "metadata": {},
   "source": [
    "## Prepare data\n",
    "### Load raw movielens-1M interactions, item features and user features.\n",
    "In the current implementation, the SASRec does not take into account the features of items or users. They are only used to get a complete list of users and items."
   ]
  },
  {
   "cell_type": "code",
   "execution_count": 4,
   "metadata": {},
   "outputs": [
    {
     "data": {
      "text/html": [
       "<div>\n",
       "<style scoped>\n",
       "    .dataframe tbody tr th:only-of-type {\n",
       "        vertical-align: middle;\n",
       "    }\n",
       "\n",
       "    .dataframe tbody tr th {\n",
       "        vertical-align: top;\n",
       "    }\n",
       "\n",
       "    .dataframe thead th {\n",
       "        text-align: right;\n",
       "    }\n",
       "</style>\n",
       "<table border=\"1\" class=\"dataframe\">\n",
       "  <thead>\n",
       "    <tr style=\"text-align: right;\">\n",
       "      <th></th>\n",
       "      <th>user_id</th>\n",
       "      <th>session_id</th>\n",
       "      <th>datetime</th>\n",
       "      <th>item_id</th>\n",
       "      <th>play_duration</th>\n",
       "    </tr>\n",
       "  </thead>\n",
       "  <tbody>\n",
       "    <tr>\n",
       "      <th>61355373</th>\n",
       "      <td>0</td>\n",
       "      <td>6624337</td>\n",
       "      <td>2023-03-19 03:07:36.517</td>\n",
       "      <td>0</td>\n",
       "      <td>94.000000</td>\n",
       "    </tr>\n",
       "    <tr>\n",
       "      <th>63451678</th>\n",
       "      <td>1</td>\n",
       "      <td>2080247</td>\n",
       "      <td>2023-05-06 10:03:39.468</td>\n",
       "      <td>1</td>\n",
       "      <td>4.999992</td>\n",
       "    </tr>\n",
       "    <tr>\n",
       "      <th>175277420</th>\n",
       "      <td>2</td>\n",
       "      <td>10969639</td>\n",
       "      <td>2023-04-21 04:46:10.901</td>\n",
       "      <td>2</td>\n",
       "      <td>52.000000</td>\n",
       "    </tr>\n",
       "    <tr>\n",
       "      <th>119370813</th>\n",
       "      <td>3</td>\n",
       "      <td>10954583</td>\n",
       "      <td>2023-03-07 07:47:43.190</td>\n",
       "      <td>3</td>\n",
       "      <td>199.000000</td>\n",
       "    </tr>\n",
       "    <tr>\n",
       "      <th>47555552</th>\n",
       "      <td>4</td>\n",
       "      <td>837825</td>\n",
       "      <td>2023-04-07 02:46:27.078</td>\n",
       "      <td>4</td>\n",
       "      <td>-0.000008</td>\n",
       "    </tr>\n",
       "  </tbody>\n",
       "</table>\n",
       "</div>"
      ],
      "text/plain": [
       "           user_id  session_id                datetime  item_id  play_duration\n",
       "61355373         0     6624337 2023-03-19 03:07:36.517        0      94.000000\n",
       "63451678         1     2080247 2023-05-06 10:03:39.468        1       4.999992\n",
       "175277420        2    10969639 2023-04-21 04:46:10.901        2      52.000000\n",
       "119370813        3    10954583 2023-03-07 07:47:43.190        3     199.000000\n",
       "47555552         4      837825 2023-04-07 02:46:27.078        4      -0.000008"
      ]
     },
     "execution_count": 4,
     "metadata": {},
     "output_type": "execute_result"
    }
   ],
   "source": [
    "# import kagglehub\n",
    "\n",
    "# # Download latest version\n",
    "# path = kagglehub.dataset_download(\"data/zvuk-dataset\")\n",
    "\n",
    "# print(\"Path to dataset files:\", path)\n",
    "\n",
    "# Путь к файлу\n",
    "path = \"data/zvuk-interactions.parquet\"\n",
    "\n",
    "# Загрузка данных\n",
    "interactions = pd.read_parquet(path)\n",
    "interactions = interactions.sample(int(1e+6), random_state=42)\n",
    "interactions = interactions.rename(columns={'track_id': 'item_id'})\n",
    "\n",
    "user_map = {user_id: idx for idx, user_id in enumerate(interactions['user_id'].unique())}\n",
    "item_map = {item_id: idx for idx, item_id in enumerate(interactions['item_id'].unique())}\n",
    "\n",
    "interactions['user_id'] = interactions['user_id'].map(user_map)\n",
    "interactions['item_id'] = interactions['item_id'].map(item_map)\n",
    "\n",
    "interactions.head()"
   ]
  },
  {
   "cell_type": "code",
   "execution_count": 5,
   "metadata": {},
   "outputs": [],
   "source": [
    "interactions['play_duration'] = abs(interactions['play_duration'])\n",
    "interactions['relevance'] = (interactions['play_duration'] > 10).astype(int)"
   ]
  },
  {
   "cell_type": "code",
   "execution_count": 6,
   "metadata": {},
   "outputs": [
    {
     "data": {
      "text/plain": [
       "count    1000000.000000\n",
       "mean         102.074020\n",
       "std          101.522217\n",
       "min            0.000008\n",
       "25%            2.999992\n",
       "50%           78.000000\n",
       "75%          187.000000\n",
       "max         7921.000488\n",
       "Name: play_duration, dtype: float64"
      ]
     },
     "execution_count": 6,
     "metadata": {},
     "output_type": "execute_result"
    }
   ],
   "source": [
    "interactions['play_duration'].describe()"
   ]
  },
  {
   "cell_type": "code",
   "execution_count": 7,
   "metadata": {},
   "outputs": [
    {
     "data": {
      "text/plain": [
       "<Axes: >"
      ]
     },
     "execution_count": 7,
     "metadata": {},
     "output_type": "execute_result"
    },
    {
     "data": {
      "image/png": "[encoded data removed]",
      "text/plain": [
       "<Figure size 640x480 with 1 Axes>"
      ]
     },
     "metadata": {},
     "output_type": "display_data"
    }
   ],
   "source": [
    "interactions['play_duration'].hist()"
   ]
  },
  {
   "cell_type": "code",
   "execution_count": 8,
   "metadata": {},
   "outputs": [],
   "source": [
    "# movielens = MovieLens(\"1m\")\n",
    "# interactions = movielens.ratings\n",
    "# user_features = movielens.users\n",
    "# item_features = movielens.items"
   ]
  },
  {
   "cell_type": "code",
   "execution_count": 9,
   "metadata": {},
   "outputs": [
    {
     "data": {
      "text/plain": [
       "session_id       5.329524\n",
       "datetime         5.329524\n",
       "item_id          5.329524\n",
       "play_duration    5.329524\n",
       "relevance        5.329524\n",
       "dtype: float64"
      ]
     },
     "execution_count": 9,
     "metadata": {},
     "output_type": "execute_result"
    }
   ],
   "source": [
    "interactions.groupby('user_id').count().mean()"
   ]
  },
  {
   "attachments": {},
   "cell_type": "markdown",
   "metadata": {},
   "source": [
    "Removing duplicates in the timestamp column without changing the original items order where timestamp is the same"
   ]
  },
  {
   "cell_type": "code",
   "execution_count": 10,
   "metadata": {},
   "outputs": [
    {
     "data": {
      "text/html": [
       "<div>\n",
       "<style scoped>\n",
       "    .dataframe tbody tr th:only-of-type {\n",
       "        vertical-align: middle;\n",
       "    }\n",
       "\n",
       "    .dataframe tbody tr th {\n",
       "        vertical-align: top;\n",
       "    }\n",
       "\n",
       "    .dataframe thead th {\n",
       "        text-align: right;\n",
       "    }\n",
       "</style>\n",
       "<table border=\"1\" class=\"dataframe\">\n",
       "  <thead>\n",
       "    <tr style=\"text-align: right;\">\n",
       "      <th></th>\n",
       "      <th>user_id</th>\n",
       "      <th>session_id</th>\n",
       "      <th>datetime</th>\n",
       "      <th>item_id</th>\n",
       "      <th>play_duration</th>\n",
       "      <th>relevance</th>\n",
       "      <th>timestamp</th>\n",
       "    </tr>\n",
       "  </thead>\n",
       "  <tbody>\n",
       "    <tr>\n",
       "      <th>225127421</th>\n",
       "      <td>14249</td>\n",
       "      <td>9766787</td>\n",
       "      <td>2023-01-15 00:00:27.283</td>\n",
       "      <td>12648</td>\n",
       "      <td>128.000000</td>\n",
       "      <td>1</td>\n",
       "      <td>0</td>\n",
       "    </tr>\n",
       "    <tr>\n",
       "      <th>216799242</th>\n",
       "      <td>32503</td>\n",
       "      <td>2338941</td>\n",
       "      <td>2023-01-15 00:01:15.603</td>\n",
       "      <td>65066</td>\n",
       "      <td>147.000000</td>\n",
       "      <td>1</td>\n",
       "      <td>0</td>\n",
       "    </tr>\n",
       "    <tr>\n",
       "      <th>53000263</th>\n",
       "      <td>26338</td>\n",
       "      <td>6739573</td>\n",
       "      <td>2023-01-15 00:01:45.217</td>\n",
       "      <td>119301</td>\n",
       "      <td>1.000008</td>\n",
       "      <td>0</td>\n",
       "      <td>0</td>\n",
       "    </tr>\n",
       "    <tr>\n",
       "      <th>22201544</th>\n",
       "      <td>9657</td>\n",
       "      <td>6176457</td>\n",
       "      <td>2023-01-15 00:02:03.919</td>\n",
       "      <td>10862</td>\n",
       "      <td>0.000008</td>\n",
       "      <td>0</td>\n",
       "      <td>0</td>\n",
       "    </tr>\n",
       "    <tr>\n",
       "      <th>62774150</th>\n",
       "      <td>54518</td>\n",
       "      <td>1622227</td>\n",
       "      <td>2023-01-15 00:02:31.455</td>\n",
       "      <td>4578</td>\n",
       "      <td>268.000000</td>\n",
       "      <td>1</td>\n",
       "      <td>0</td>\n",
       "    </tr>\n",
       "    <tr>\n",
       "      <th>...</th>\n",
       "      <td>...</td>\n",
       "      <td>...</td>\n",
       "      <td>...</td>\n",
       "      <td>...</td>\n",
       "      <td>...</td>\n",
       "      <td>...</td>\n",
       "      <td>...</td>\n",
       "    </tr>\n",
       "    <tr>\n",
       "      <th>28574597</th>\n",
       "      <td>23928</td>\n",
       "      <td>1486433</td>\n",
       "      <td>2023-05-14 20:58:38.042</td>\n",
       "      <td>930</td>\n",
       "      <td>13.999992</td>\n",
       "      <td>1</td>\n",
       "      <td>6</td>\n",
       "    </tr>\n",
       "    <tr>\n",
       "      <th>74205579</th>\n",
       "      <td>90936</td>\n",
       "      <td>11865782</td>\n",
       "      <td>2023-05-14 20:58:51.341</td>\n",
       "      <td>162603</td>\n",
       "      <td>197.000000</td>\n",
       "      <td>1</td>\n",
       "      <td>7</td>\n",
       "    </tr>\n",
       "    <tr>\n",
       "      <th>193342693</th>\n",
       "      <td>25257</td>\n",
       "      <td>3251792</td>\n",
       "      <td>2023-05-14 20:58:54.373</td>\n",
       "      <td>49635</td>\n",
       "      <td>148.000000</td>\n",
       "      <td>1</td>\n",
       "      <td>20</td>\n",
       "    </tr>\n",
       "    <tr>\n",
       "      <th>216900734</th>\n",
       "      <td>73933</td>\n",
       "      <td>6279427</td>\n",
       "      <td>2023-05-14 20:58:56.895</td>\n",
       "      <td>2601</td>\n",
       "      <td>175.000000</td>\n",
       "      <td>1</td>\n",
       "      <td>6</td>\n",
       "    </tr>\n",
       "    <tr>\n",
       "      <th>218937850</th>\n",
       "      <td>42732</td>\n",
       "      <td>1163681</td>\n",
       "      <td>2023-05-14 20:59:00.777</td>\n",
       "      <td>2915</td>\n",
       "      <td>7.000000</td>\n",
       "      <td>0</td>\n",
       "      <td>3</td>\n",
       "    </tr>\n",
       "  </tbody>\n",
       "</table>\n",
       "<p>1000000 rows × 7 columns</p>\n",
       "</div>"
      ],
      "text/plain": [
       "           user_id  session_id                datetime  item_id  \\\n",
       "225127421    14249     9766787 2023-01-15 00:00:27.283    12648   \n",
       "216799242    32503     2338941 2023-01-15 00:01:15.603    65066   \n",
       "53000263     26338     6739573 2023-01-15 00:01:45.217   119301   \n",
       "22201544      9657     6176457 2023-01-15 00:02:03.919    10862   \n",
       "62774150     54518     1622227 2023-01-15 00:02:31.455     4578   \n",
       "...            ...         ...                     ...      ...   \n",
       "28574597     23928     1486433 2023-05-14 20:58:38.042      930   \n",
       "74205579     90936    11865782 2023-05-14 20:58:51.341   162603   \n",
       "193342693    25257     3251792 2023-05-14 20:58:54.373    49635   \n",
       "216900734    73933     6279427 2023-05-14 20:58:56.895     2601   \n",
       "218937850    42732     1163681 2023-05-14 20:59:00.777     2915   \n",
       "\n",
       "           play_duration  relevance  timestamp  \n",
       "225127421     128.000000          1          0  \n",
       "216799242     147.000000          1          0  \n",
       "53000263        1.000008          0          0  \n",
       "22201544        0.000008          0          0  \n",
       "62774150      268.000000          1          0  \n",
       "...                  ...        ...        ...  \n",
       "28574597       13.999992          1          6  \n",
       "74205579      197.000000          1          7  \n",
       "193342693     148.000000          1         20  \n",
       "216900734     175.000000          1          6  \n",
       "218937850       7.000000          0          3  \n",
       "\n",
       "[1000000 rows x 7 columns]"
      ]
     },
     "execution_count": 10,
     "metadata": {},
     "output_type": "execute_result"
    }
   ],
   "source": [
    "interactions[\"timestamp\"] = interactions[\"datetime\"].astype(\"int64\")\n",
    "interactions = interactions.sort_values(by=\"timestamp\")\n",
    "interactions[\"timestamp\"] = interactions.groupby(\"user_id\").cumcount()\n",
    "interactions "
   ]
  },
  {
   "cell_type": "code",
   "execution_count": 11,
   "metadata": {},
   "outputs": [
    {
     "data": {
      "text/html": [
       "<div>\n",
       "<style scoped>\n",
       "    .dataframe tbody tr th:only-of-type {\n",
       "        vertical-align: middle;\n",
       "    }\n",
       "\n",
       "    .dataframe tbody tr th {\n",
       "        vertical-align: top;\n",
       "    }\n",
       "\n",
       "    .dataframe thead th {\n",
       "        text-align: right;\n",
       "    }\n",
       "</style>\n",
       "<table border=\"1\" class=\"dataframe\">\n",
       "  <thead>\n",
       "    <tr style=\"text-align: right;\">\n",
       "      <th></th>\n",
       "      <th>user_id</th>\n",
       "      <th>item_id</th>\n",
       "      <th>timestamp</th>\n",
       "      <th>relevance</th>\n",
       "    </tr>\n",
       "  </thead>\n",
       "  <tbody>\n",
       "    <tr>\n",
       "      <th>225127421</th>\n",
       "      <td>14249</td>\n",
       "      <td>12648</td>\n",
       "      <td>0</td>\n",
       "      <td>1</td>\n",
       "    </tr>\n",
       "    <tr>\n",
       "      <th>216799242</th>\n",
       "      <td>32503</td>\n",
       "      <td>65066</td>\n",
       "      <td>0</td>\n",
       "      <td>1</td>\n",
       "    </tr>\n",
       "    <tr>\n",
       "      <th>53000263</th>\n",
       "      <td>26338</td>\n",
       "      <td>119301</td>\n",
       "      <td>0</td>\n",
       "      <td>0</td>\n",
       "    </tr>\n",
       "    <tr>\n",
       "      <th>22201544</th>\n",
       "      <td>9657</td>\n",
       "      <td>10862</td>\n",
       "      <td>0</td>\n",
       "      <td>0</td>\n",
       "    </tr>\n",
       "    <tr>\n",
       "      <th>62774150</th>\n",
       "      <td>54518</td>\n",
       "      <td>4578</td>\n",
       "      <td>0</td>\n",
       "      <td>1</td>\n",
       "    </tr>\n",
       "  </tbody>\n",
       "</table>\n",
       "</div>"
      ],
      "text/plain": [
       "           user_id  item_id  timestamp  relevance\n",
       "225127421    14249    12648          0          1\n",
       "216799242    32503    65066          0          1\n",
       "53000263     26338   119301          0          0\n",
       "22201544      9657    10862          0          0\n",
       "62774150     54518     4578          0          1"
      ]
     },
     "execution_count": 11,
     "metadata": {},
     "output_type": "execute_result"
    }
   ],
   "source": [
    "interactions = interactions[['user_id', 'item_id', 'timestamp', 'relevance']]\n",
    "interactions.head()"
   ]
  },
  {
   "attachments": {},
   "cell_type": "markdown",
   "metadata": {},
   "source": [
    "### Split interactions into the train, validation and test datasets using LastNSplitter"
   ]
  },
  {
   "cell_type": "code",
   "execution_count": 12,
   "metadata": {},
   "outputs": [],
   "source": [
    "splitter = LastNSplitter(\n",
    "    N=1,\n",
    "    divide_column=\"user_id\",\n",
    "    query_column=\"user_id\",\n",
    "    strategy=\"interactions\",\n",
    ")\n",
    "\n",
    "raw_test_events, raw_test_gt = splitter.split(interactions)\n",
    "raw_validation_events, raw_validation_gt = splitter.split(raw_test_events)\n",
    "raw_train_events = raw_validation_events"
   ]
  },
  {
   "attachments": {},
   "cell_type": "markdown",
   "metadata": {},
   "source": [
    "### Prepare FeatureSchema required to create Dataset"
   ]
  },
  {
   "cell_type": "code",
   "execution_count": 13,
   "metadata": {},
   "outputs": [],
   "source": [
    "def prepare_feature_schema(is_ground_truth: bool) -> FeatureSchema:\n",
    "    base_features = FeatureSchema(\n",
    "        [\n",
    "            FeatureInfo(\n",
    "                column=\"user_id\",\n",
    "                feature_hint=FeatureHint.QUERY_ID,\n",
    "                feature_type=FeatureType.CATEGORICAL,\n",
    "            ),\n",
    "            FeatureInfo(\n",
    "                column=\"item_id\",\n",
    "                feature_hint=FeatureHint.ITEM_ID,\n",
    "                feature_type=FeatureType.CATEGORICAL,\n",
    "            ),\n",
    "        ]\n",
    "    )\n",
    "    if is_ground_truth:\n",
    "        return base_features\n",
    "\n",
    "    all_features = base_features + FeatureSchema(\n",
    "        [\n",
    "            FeatureInfo(\n",
    "                column=\"timestamp\",\n",
    "                feature_type=FeatureType.NUMERICAL,\n",
    "                feature_hint=FeatureHint.TIMESTAMP,\n",
    "            ),\n",
    "        ]\n",
    "    )\n",
    "    return all_features"
   ]
  },
  {
   "attachments": {},
   "cell_type": "markdown",
   "metadata": {},
   "source": [
    "### Create Dataset for the training stage"
   ]
  },
  {
   "cell_type": "code",
   "execution_count": 14,
   "metadata": {},
   "outputs": [],
   "source": [
    "train_dataset = Dataset(\n",
    "    feature_schema=prepare_feature_schema(is_ground_truth=False),\n",
    "    interactions=raw_train_events,\n",
    "    check_consistency=True,\n",
    "    categorical_encoded=False,\n",
    ")"
   ]
  },
  {
   "attachments": {},
   "cell_type": "markdown",
   "metadata": {},
   "source": [
    "### Create Datasets (events and ground_truth) for the validation stage"
   ]
  },
  {
   "cell_type": "code",
   "execution_count": 15,
   "metadata": {},
   "outputs": [],
   "source": [
    "validation_dataset = Dataset(\n",
    "    feature_schema=prepare_feature_schema(is_ground_truth=False),\n",
    "    interactions=raw_validation_events,\n",
    "    check_consistency=True,\n",
    "    categorical_encoded=False,\n",
    ")\n",
    "validation_gt = Dataset(\n",
    "    feature_schema=prepare_feature_schema(is_ground_truth=True),\n",
    "    interactions=raw_validation_gt,\n",
    "    check_consistency=True,\n",
    "    categorical_encoded=False,\n",
    ")"
   ]
  },
  {
   "attachments": {},
   "cell_type": "markdown",
   "metadata": {},
   "source": [
    "### Create Datasets (events and ground_truth) for the testing stage"
   ]
  },
  {
   "cell_type": "code",
   "execution_count": 16,
   "metadata": {},
   "outputs": [],
   "source": [
    "test_dataset = Dataset(\n",
    "    feature_schema=prepare_feature_schema(is_ground_truth=False),\n",
    "    interactions=raw_test_events,\n",
    "    check_consistency=True,\n",
    "    categorical_encoded=False,\n",
    ")\n",
    "test_gt = Dataset(\n",
    "    feature_schema=prepare_feature_schema(is_ground_truth=True),\n",
    "    interactions=raw_test_gt,\n",
    "    check_consistency=True,\n",
    "    categorical_encoded=False,\n",
    ")"
   ]
  },
  {
   "attachments": {},
   "cell_type": "markdown",
   "metadata": {},
   "source": [
    "### Create the tensor schema\n",
    "A schema shows the correspondence of columns from the source dataset with the internal representation of tensors inside the model"
   ]
  },
  {
   "cell_type": "code",
   "execution_count": 17,
   "metadata": {},
   "outputs": [],
   "source": [
    "ITEM_FEATURE_NAME = \"item_id_seq\"\n",
    "\n",
    "tensor_schema = TensorSchema(\n",
    "    TensorFeatureInfo(\n",
    "        name=ITEM_FEATURE_NAME,\n",
    "        is_seq=True,\n",
    "        feature_type=FeatureType.CATEGORICAL,\n",
    "        feature_sources=[TensorFeatureSource(FeatureSource.INTERACTIONS, train_dataset.feature_schema.item_id_column)],\n",
    "        feature_hint=FeatureHint.ITEM_ID,\n",
    "    )\n",
    ")"
   ]
  },
  {
   "attachments": {},
   "cell_type": "markdown",
   "metadata": {},
   "source": [
    "### Create sequential datasets using SequenceTokenizer\n",
    "The SequentialDataset internally store data in the form of sequences of items sorted by increasing interaction time (timestamp). A SequenceTokenizer is used to convert to this format. In addition, the SequenceTokenizer encodes all categorical columns from the source dataset and stores mapping inside itself.\n",
    "SequentialDataset.keep_common_query_ids is used to leave only sequences from the same users"
   ]
  },
  {
   "cell_type": "code",
   "execution_count": 18,
   "metadata": {},
   "outputs": [
    {
     "ename": "ValueError",
     "evalue": "Found unknown labels [2, 162656, 10, 28754, 139221, 100757, 106346, 130136, 149847, 65, 47791, 90046, 88, 103426, 98, 134602, 78503, 190533, 6903, 138, 192512, 74624, 158721, 26842, 181246, 110703, 39137, 124378, 102474, 68220, 175508, 92242, 29052, 41584, 194341, 235, 141336, 253, 81106, 170967, 121170, 196100, 188853, 184322, 194263, 85688, 103585, 118018, 65157, 74864, 28605, 351, 29704, 51961, 182614, 101502, 169194, 378, 153138, 133252, 35556, 403, 181771, 103498, 80801, 166151, 58658, 141623, 189281, 100283, 78226, 83362, 454, 87114, 156552, 64678, 84927, 139321, 67131, 171926, 515, 52541, 142994, 17711, 23718, 102119, 180335, 63154, 173264, 45973, 115507, 153082, 28823, 89355, 45924, 166903, 64726, 191892, 655, 27544, 190964, 157973, 153048, 162160, 102077, 94368, 153067, 125902, 145816, 41961, 9215, 171549, 171283, 141078, 92650, 178580, 30511, 43059, 132711, 180149, 3626, 117989, 94597, 51668, 32595, 85005, 195648, 881, 173602, 908, 196524, 118600, 196977, 119636, 158187, 70701, 943, 160409, 192631, 968, 183871, 164020, 155073, 51327, 996, 150503, 87818, 178231, 84271, 151530, 1055, 3098, 161633, 117557, 55377, 144498, 130621, 123091, 75147, 111645, 78213, 32002, 153738, 194521, 82553, 147467, 169088, 180412, 138121, 122919, 124225, 106162, 118300, 90718, 13049, 173420, 24044, 129443, 1281, 196365, 196575, 123435, 11160, 1335, 1340, 144651, 199488, 103165, 21067, 133756, 61010, 1398, 1402, 63076, 107966, 168071, 136767, 154130, 22790, 64936, 1435, 148647, 1456, 34502, 1460, 130626, 181360, 128671, 6648, 163110, 64842, 44576, 1502, 174607, 167361, 67339, 72011, 179528, 86240, 29850, 61560, 137048, 196838, 198199, 164000, 109383, 193397, 79766, 135154, 111892, 73823, 54107, 1601, 60709, 135066, 56778, 1627, 1630, 92533, 168999, 57444, 192430, 177255, 101580, 5207, 76621, 175320, 102063, 178410, 35307, 137838, 3424, 123887, 1734, 149585, 22210, 88256, 143780, 196871, 102429, 192085, 30526, 192845, 79311, 48433, 122926, 59622, 120960, 43278, 82974, 1848, 86126, 105111, 141863, 98341, 159590, 172832, 53348, 181623, 106658, 143341, 144844, 106326, 198939, 121373, 104268, 154005, 74331, 199649, 1987, 36377, 199668, 112382, 104545, 33338, 148069, 92201, 2043, 167765, 110259, 175398, 30110, 88265, 137672, 185500, 146996, 111897, 156139, 129125, 110820, 185832, 24617, 188352, 2161, 16413, 95421, 195916, 121359, 84239, 153703, 66095, 151898, 186868, 72497, 98262, 2250, 123173, 126870, 164166, 106912, 5684, 178621, 115886, 119383, 2289, 169317, 52745, 199140, 146385, 185442, 23004, 163416, 198383, 58498, 177462, 111002, 65013, 170036, 153159, 79239, 58595, 125928, 2404, 2414, 190923, 91573, 154139, 177269, 37117, 27649, 92446, 93961, 148124, 186521, 77336, 3221, 192229, 48424, 151707, 165687, 141156, 50548, 15363, 118508, 109882, 169601, 74089, 154151, 124819, 190872, 198740, 113869, 53767, 123578, 141443, 2569, 2573, 177568, 74184, 87024, 173849, 171858, 129112, 2674, 162562, 18313, 114053, 34037, 174863, 91308, 20390, 97301, 117297, 85249, 2740, 73013, 134771, 154642, 180840, 171117, 90057, 148847, 57194, 192593, 174545, 116335, 16041, 160548, 139777, 149639, 142501, 48413, 81965, 171636, 2905, 2908, 198606, 92716, 111257, 36257, 187901, 2925, 182030, 2938, 115243, 41954, 100147, 13860, 127704, 2961, 21425, 2966, 79335, 190395, 121358, 63591, 118114, 76674, 107523, 128010, 146167, 162228, 83456, 74717, 157806, 108320, 154788, 160324, 96656, 147452, 157366, 180843, 147091, 144831, 3124, 176750, 190592, 94399, 77625, 181228, 16744, 29969, 123456, 92214, 79369, 36305, 82171, 3163, 21860, 145028, 149396, 126934, 147432, 156535, 3205, 133060, 166954, 138591, 3219, 173541, 141028, 3230, 147991, 8531, 126256, 36978, 100642, 125639, 128992, 189232, 172831, 180446, 127453, 188901, 179910, 12773, 81101, 157363, 132707, 175220, 3337, 108910, 161657, 194990, 89490, 79394, 182391, 192600, 112461, 199217, 149636, 116297, 121878, 89943, 77390, 164463, 35882, 193988, 103133, 140018, 146758, 28041, 67108, 185666, 104159, 3504, 139199, 101939, 54596, 14377, 165778, 20123, 120497, 150290, 3549, 195841, 156845, 3581, 125821, 147762, 3617, 193561, 106078, 138997, 144425, 51434, 143512, 81988, 179123, 149550, 131416, 131696, 3710, 119573, 142320, 36196, 47891, 38765, 185527, 130939, 170602, 170813, 58935, 3783, 3798, 33850, 150608, 3808, 159098, 135844, 195565, 135443, 98369, 122840, 3854, 14248, 22102, 27587, 71752, 171360, 165483, 78744, 98678, 79869, 111748, 196182, 104779, 74438, 39619, 132325, 27585, 198044, 82940, 93043, 113941, 144766, 96654, 191282, 180449, 139365, 44269, 141776, 4050, 68412, 84297, 145375, 34481, 10505, 128354, 173204, 61138, 4127, 32986, 200125, 27213, 154794, 98659, 4153, 163838, 190440, 150942, 136872, 129660, 177284, 199392, 106576, 150218, 4260, 138292, 4279, 194585, 113241, 163026, 166580, 128702, 172960, 193039, 77325, 4343, 167549, 170919, 100733, 109341, 175480, 190726, 88680, 4392, 102097, 152936, 194139, 170990, 162794, 186860, 68829, 194183, 26906, 173545, 4465, 129845, 175351, 57587, 155885, 86485, 186446, 27083, 16588, 181247, 48874, 141996, 4529, 4531, 107766, 57300, 57058, 65218, 31382, 4580, 80357, 139500, 27832, 4629, 116401, 4644, 106739, 103496, 111315, 76189, 4699, 84773, 87620, 147892, 66583, 80108, 70938, 116620, 183099, 4733, 169406, 181785, 180157, 64766, 103316, 165824, 169932, 166908, 177111, 173366, 132021, 199605, 130250, 194506, 108386, 13660, 151861, 39950, 161746, 94752, 97874, 116890, 50349, 135821, 150511, 4875, 151563, 175731, 4885, 197235, 170399, 179459, 199102, 97193, 195781, 137209, 56690, 103321, 118298, 97633, 146538, 90480, 4990, 115994, 105470, 192656, 5015, 5019, 15607, 151872, 183445, 37867, 112360, 72851, 108988, 179737, 182862, 42226, 107544, 114927, 63855, 108809, 23589, 25654, 107850, 166520, 83922, 5155, 197165, 5174, 150760, 196631, 131978, 117189, 5229, 5231, 90841, 33035, 167304, 100654, 105047, 5288, 91242, 97755, 143676, 199718, 94535, 69974, 5330, 103896, 33087, 112384, 147711, 181462, 5359, 68375, 197604, 120668, 32581, 175672, 136157, 166721, 193238, 131480, 161977, 71291, 89197, 33538, 94771, 116622, 196834, 117413, 121832, 5516, 186439, 36694, 113446, 148613, 163017, 134465, 173309, 109770, 179051, 139514, 118182, 135329, 188831, 5609, 135067, 122509, 5629, 130132, 74868, 5638, 138416, 70427, 5653, 131735, 197438, 41242, 94838, 128041, 5683, 184741, 5692, 19669, 192802, 144879, 132340, 95064, 5723, 112744, 45668, 145928, 5763, 187841, 109220, 5775, 185964, 5790, 65237, 156928, 143159, 167880, 184266, 131191, 193076, 100289, 118257, 165680, 118949, 102476, 93742, 42683, 113090, 5901, 67851, 41894, 45283, 182084, 112084, 5924, 5925, 113554, 160877, 5942, 5950, 162146, 41568, 5982, 117021, 84598, 184791, 57499, 105141, 91022, 140013, 29612, 185312, 66868, 111049, 13214, 155200, 8092, 97814, 18897, 69872, 140176, 66718, 18434, 113140, 178073, 81068, 122860, 62696, 58528, 187803, 6086, 33252, 128523, 168128, 143059, 18519, 128925, 6404, 61329, 6163, 127923, 78838, 57566, 183176, 172313, 159328, 174967, 149653, 62542, 38049, 6231, 67753, 104560, 21331, 149134, 161694, 137875, 189429, 138427, 117980, 156419, 6308, 77668, 6335, 153521, 68515, 6351, 109604, 160486, 156777, 149361, 166208, 98974, 89912, 54224, 192336, 166258, 6441, 150682, 64338, 18179, 145786, 38972, 6483, 179629, 76169, 40395, 89983, 76679, 178305, 6546, 156165, 6564, 46501, 99492, 102527, 16287, 186229, 6594, 170517, 158963, 199955, 157248, 113129, 6073, 197517, 6665, 6673, 121546, 138036, 6683, 171229, 161810, 6693, 23782, 138016, 33954, 6710, 175184, 165726, 59618, 175455, 175117, 196869, 163563, 6755, 155950, 198280, 166049, 27118, 189322, 157697, 98825, 99395, 153866, 157249, 6878, 81748, 162888, 65671, 185226, 84516, 161606, 114735, 97554, 162548, 154264, 197182, 22986, 167192, 69752, 196677, 6961, 185816, 191565, 158576, 117895, 97269, 7016, 7022, 7039, 103890, 7053, 173061, 124437, 41709, 151776, 144419, 134197, 60550, 197727, 183805, 184713, 89525, 64266, 190955, 149517, 7143, 86601, 134361, 81677, 152995, 158074, 39671, 38574, 62517, 115221, 154044, 100938, 70596, 171400, 167536, 30301, 7239, 137406, 149698, 182826, 106382, 7264, 147440, 104375, 192950, 46557, 134179, 101696, 190900, 14324, 176577, 175459, 113391, 88570, 34513, 110289, 188854, 30131, 135210, 161912, 7371, 155191, 172045, 120162, 88205, 7403, 166684, 7419, 88316, 11255, 181392, 7434, 119538, 132773, 153673, 130017, 159866, 102295, 147633, 7467, 45664, 173718, 159684, 128681, 194782, 104984, 146620, 167147, 157099, 109678, 74673, 96482, 175379, 167794, 176019, 12533, 32219, 4200, 178742, 35655, 63327, 23831, 37513, 95116, 162236, 7641, 53552, 131887, 141157, 7678, 160042, 106426, 7692, 183725, 32940, 76100, 180673, 169936, 107602, 51123, 130128, 181689, 59681, 18670, 94169, 110324, 129701, 7752, 68568, 177370, 189991, 100443, 106499, 193835, 13417, 147523, 175849, 7794, 130575, 182227, 88996, 191164, 12808, 58752, 191239, 110126, 168006, 149252, 137294, 102955, 79624, 169280, 129500, 115079, 180936, 128265, 173929, 18384, 170483, 176680, 43573, 46582, 7947, 106712, 95630, 65206, 47661, 7980, 99253, 156315, 174336, 107703, 159091, 46978, 142867, 157602, 179867, 150277, 126252, 180076, 8085, 197621, 198649, 103259, 170347, 124488, 114898, 125827, 102128, 8143, 195950, 156155, 136746, 56407, 51326, 8191, 181356, 62021, 127066, 191668, 187070, 152632, 143741, 120210, 92736, 103409, 136500, 174420, 8256, 156068, 114811, 8275, 148623, 149938, 45636, 8847, 191293, 84921, 14810, 184370, 140518, 11969, 8343, 104248, 148133, 168098, 104003, 184586, 96113, 102537, 172950, 123970, 199083, 194099, 146747, 83800, 148973, 78298, 169520, 196371, 21342, 200036, 52475, 8434, 170636, 8438, 173914, 98548, 133786, 131109, 110609, 159277, 121094, 153937, 177137, 125574, 151607, 54324, 192173, 154860, 187507, 61920, 8525, 8533, 155119, 147995, 8541, 104909, 69141, 29014, 187531, 189082, 90325, 95481, 74567, 59002, 129616, 190628, 134910, 138645, 37067, 156707, 13747, 184784, 178156, 50011, 94641, 127210, 101146, 146928, 183037, 8724, 134816, 85773, 124465, 102629, 136063, 109874, 8785, 197380, 8793, 120450, 199230, 8814, 161847, 161129, 8824, 128727, 156222, 165400, 160885, 148970, 71449, 134715, 8899, 180710, 121757, 111611, 104613, 83179, 56746, 51656, 175994, 101325, 81401, 158362, 117708, 191441, 49620, 171006, 185659, 113381, 108740, 166214, 134707, 15704, 199844, 105676, 78532, 138195, 9046, 179124, 186494, 185520, 143901, 127336, 99553, 164795, 64138, 176665, 175343, 185215, 73559, 82429, 37331, 187440, 9106, 9110, 181007, 197912, 101786, 9157, 185274, 109917, 122024, 152967, 66176, 88357, 196145, 30133, 146462, 142035, 150188, 9212, 66738, 50331, 158787, 47885, 9230, 143290, 76763, 193832, 111026, 158053, 101824, 79968, 182103, 9278, 185528, 9296, 160288, 196328, 129502, 137426, 9315, 65499, 195265, 142469, 26036, 150697, 18280, 9332, 199077, 100281, 120485, 9352, 37087, 178684, 130359, 9370, 81562, 156672, 9392, 31890, 140591, 142619, 9421, 9426, 33044, 111848, 130505, 9453, 196555, 70455, 188486, 167144, 148769, 136480, 188603, 180803, 148870, 58269, 185343, 9536, 93138, 107108, 171837, 158857, 66558, 89537, 159737, 9581, 9582, 135850, 133049, 162663, 157041, 158472, 9594, 149218, 168757, 156693, 181308, 193177, 85287, 9661, 170214, 160830, 177500, 85619, 87968, 140365, 166187, 105795, 151449, 102207, 112855, 9741, 40760, 105062, 9762, 9770, 9771, 125169, 96494, 122833, 192034, 9790, 91299, 170523, 62836, 29964, 9808, 156298, 125779, 9829, 152361, 9843, 132756, 135646, 71121, 87339, 47425, 193710, 175529, 118518, 38990, 9910, 127693, 58816, 72412, 9930, 75566, 102675, 130333, 129583, 3722, 163610, 9979, 161013, 9988, 142798, 136380, 190069, 86427, 115504, 144095, 110982, 174609, 170792, 192108, 144248, 10025, 155390, 10039, 179404, 113708, 132045, 138197, 10076, 56809, 79744, 96942, 189959, 10103, 85857, 152356, 75442, 68912, 149752, 10163, 144639, 70868, 158060, 146502, 10194, 175596, 160676, 132939, 179623, 138570, 101253, 169791, 111303, 143681, 10244, 10248, 13269, 86624, 115202, 114695, 42171, 10276, 132195, 113845, 10307, 82420, 164653, 95014, 83323, 109382, 87905, 10334, 146324, 68424, 92378, 10362, 46538, 193380, 103571, 184978, 80539, 77102, 10404, 123241, 85895, 63584, 192743, 10445, 83701, 10450, 91119, 106212, 24296, 10468, 131117, 90472, 197706, 146171, 188042, 69448, 10509, 135631, 167842, 10534, 161589, 62578, 145769, 193991, 189176, 148372, 135262, 109602, 128025, 89311, 165268, 132167, 116903, 13595, 10617, 135936, 192980, 127165, 101124, 10655, 155389, 153373, 10665, 108778, 10679, 26296, 167261, 75651, 39113, 138689, 10709, 123162, 165103, 174087, 107711, 117728, 10739, 187652, 145446, 118327, 176685, 10769, 98594, 10784, 10793, 155630, 68853, 155932, 157055, 86595, 181254, 120834, 49749, 192677, 10855, 133620, 167710, 94254, 117537, 139903, 10903, 163733, 10920, 57012, 198946, 197323, 10947, 10948, 143371, 137833, 10967, 93593, 127545, 141476, 163770, 11020, 90161, 11031, 160116, 86353, 24214, 176684, 143826, 11644, 185864, 159831, 14072, 164397, 65501, 11092, 11095, 30172, 198996, 177309, 151969, 11158, 11159, 11172, 13287, 16043, 11216, 111047, 153247, 94638, 21902, 75033, 11237, 196605, 198254, 158678, 168183, 150986, 148442, 161482, 148334, 134037, 182059, 44679, 91474, 167989, 34900, 150681, 131131, 71992, 175354, 75537, 45601, 11332, 110158, 128634, 122313, 193577, 11362, 11365, 11383, 11411, 176729, 11424, 120555, 25567, 11440, 170153, 183233, 96825, 80089, 184519, 122210, 125448, 129133, 152384, 11494, 164690, 58316, 99678, 11500, 150285, 163256, 134413, 63602, 103061, 34259, 119166, 75204, 80169, 14727, 95167, 28936, 155412, 177660, 143096, 102804, 172082, 166238, 98907, 137501, 11634, 176194, 143666, 155512, 32835, 129250, 143155, 77166, 58625, 154815, 161680, 180960, 11678, 114299, 140799, 124709, 90058, 107900, 103138, 191587, 143258, 22736, 189842, 195881, 169145, 11717, 125601, 142507, 89368, 193423, 88344, 12649, 168341, 11757, 163684, 11771, 135070, 11784, 89673, 89575, 115375, 180001, 11798, 104741, 110441, 104020, 11808, 150088, 128670, 196576, 152661, 194331, 151110, 64248, 27739, 11887, 39812, 186196, 51604, 171215, 11924, 184253, 11933, 96532, 162731, 132363, 79983, 153712, 55744, 77314, 25096, 191909, 150268, 49207, 97848, 167441, 74501, 151548, 38439, 12065, 93666, 83976, 145440, 12083, 12097, 117494, 75198, 12112, 124546, 102159, 32868, 30764, 67932, 12128, 163187, 107969, 184069, 130421, 190457, 43454, 12153, 182653, 146793, 104341, 195304, 57276, 198046, 179645, 23891, 12222, 177487, 12231, 182486, 115115, 48295, 129910, 23616, 107025, 162775, 123333, 83689, 168900, 129474, 72270, 199141, 117498, 12328, 93403, 127834, 185555, 195852, 108034, 29410, 141170, 191770, 35831, 12423, 180613, 12428, 166145, 185342, 175674, 165444, 185407, 192357, 40299, 194435, 165952, 56692, 33206, 12492, 199663, 198399, 12514, 171067, 199936, 12534, 140610, 12544, 22361, 111035, 83549, 120378, 174299, 12641, 185494, 190530, 54001, 192241, 27697, 141296, 195710, 132272, 12687, 192052, 14776, 155180, 154007, 169472, 66135, 62779, 12755, 113864, 124053, 92507, 16155, 173190, 21297, 133877, 12818, 12822, 12831, 12832, 12833, 157718, 103830, 196032, 108132, 158216, 12877, 53358, 50529, 199254, 174893, 31624, 112985, 194385, 12916, 108562, 193914, 179238, 191003, 107971, 180789, 97180, 12960, 182147, 54563, 86859, 150189, 87227, 13003, 95423, 192614, 36476, 13041, 174543, 150738, 106182, 158904, 13078, 160690, 30448, 174766, 171110, 13119, 88442, 137243, 87582, 183266, 13144, 194839, 13155, 143924, 84125, 46918, 101750, 152117, 172168, 73746, 62402, 126923, 105203, 38429, 158539, 13244, 186970, 13259, 98495, 198331, 146496, 192659, 32913, 79943, 108744, 177553, 13313, 154826, 103795, 145580, 50679, 184797, 156925, 163468, 162713, 110929, 98541, 13365, 13366, 184326, 67312, 141470, 44793, 132085, 67556, 50337, 170499, 40317, 69284, 137657, 128614, 111416, 195651, 64687, 181728, 133024, 59770, 13513, 72091, 13519, 13523, 13528, 51617, 80395, 183171, 112002, 60875, 124073, 174192, 83502, 173466, 90611, 91953, 174598, 13571, 142893, 179488, 170089, 100881, 13592, 190116, 150224, 13609, 170913, 83053, 193493, 87866, 115628, 22424, 142620, 187133, 124279, 96836, 135048, 56842, 13684, 66481, 95389, 165406, 104694, 195482, 78148, 97688, 77162, 182286, 129246, 177776, 193716, 120106, 13776, 49158, 63738, 178380, 104475, 182010, 63291, 187815, 171860, 131557, 178629, 13823, 105693, 151470, 198912, 146437, 123878, 165322, 189023, 131748, 79168, 111862, 91425, 109131, 79227, 73811, 112686, 77009, 167542, 113658, 13930, 129651, 151757, 181190, 44535, 194618, 13962, 110054, 121907, 117480, 20021, 14838, 40359, 181693, 87665, 188313, 118621, 162559, 79840, 179657, 68521, 39833, 14081, 103077, 30324, 190101, 169101, 167266, 113672, 14103, 14106, 175693, 131717, 157988, 129736, 105333, 110886, 115064, 147622, 181814, 143912, 137569, 194389, 143766, 142423, 192690, 46114, 167117, 128103, 159177, 158034, 153459, 131329, 123967, 184869, 94363, 170275, 15652, 14271, 68566, 14281, 153594, 104656, 192189, 24153, 199362, 144034, 169238, 181459, 141361, 199822, 156775, 36743, 14353, 130549, 76998, 14378, 37611, 14396, 95999, 136724, 181071, 146326, 137580, 106646, 134388, 67622, 168570, 14431, 149226, 192383, 191864, 70799, 183543, 88819, 163061, 110412, 14484, 72980, 188995, 56505, 170330, 90644, 181366, 144816, 62026, 14518, 170712, 170247, 73564, 99915, 133055, 42937, 32785, 194106, 164751, 148087, 198461, 176752, 183174, 88818, 14570, 48247, 96995, 40577, 14580, 153534, 179491, 158704, 14618, 27386, 117122, 76407, 172454, 188369, 128076, 135512, 127875, 183319, 194314, 181773, 68364, 154180, 152586, 191086, 17905, 14702, 150371, 124693, 199199, 18104, 91628, 32009, 14721, 159001, 14748, 190165, 60746, 116785, 111376, 123154, 164857, 72443, 147722, 37882, 129512, 67395, 14826, 137849, 130348, 199312, 64575, 33234, 14884, 145615, 14902, 165814, 124665, 185630, 14927, 187558, 98194, 99070, 151048, 134655, 90449, 196121, 94393, 166333, 100148, 83828, 38932, 106727, 44777, 54372, 15017, 15027, 76311, 155268, 193422, 25123, 134288, 15051, 180918, 80324, 139009, 15073, 94805, 15087, 122451, 15099, 143349, 15114, 90848, 15119, 189067, 120249, 121799, 15153, 138165, 165851, 32028, 40735, 15162, 141208, 49038, 15188, 196688, 150484, 175101, 90913, 134541, 15222, 102733, 118542, 15235, 15243, 150772, 166509, 106443, 153663, 163727, 52241, 128046, 166107, 15265, 12264, 21772, 88279, 180322, 36380, 48324, 15296, 102613, 164958, 15311, 26576, 15317, 106055, 179252, 97724, 152341, 16527, 41212, 16133, 115864, 15374, 119487, 132815, 109407, 155799, 125012, 187963, 132544, 46527, 155553, 15452, 140553, 15462, 23149, 62013, 15490, 189671, 87236, 104490, 130927, 15507, 189885, 113305, 82898, 77391, 43873, 114332, 134284, 62986, 58377, 156013, 176414, 180435, 39263, 103564, 151333, 66725, 167190, 15641, 155423, 100360, 115120, 15668, 115737, 122272, 15693, 119625, 158043, 111099, 93967, 186624, 165542, 90803, 158294, 170934, 15767, 118742, 122954, 99009, 86971, 128866, 81085, 15793, 196659, 59177, 149969, 15803, 123560, 144760, 172224, 15840, 176497, 67173, 176300, 113229, 184862, 15864, 115356, 15874, 188189, 103119, 184444, 15907, 57583, 15921, 157305, 65637, 146986, 147400, 33749, 87459, 54466, 15971, 179924, 91321, 32382, 159856, 101352, 16014, 30826, 166411, 188183, 196550, 158204, 117645, 39324, 177173, 119269, 178892, 133534, 86645, 157596, 80398, 85277, 75146, 124001, 83943, 45866, 26818, 76423, 195317, 25065, 140769, 80125, 70516, 151566, 16182, 101964, 140642, 109247, 107617, 133871, 132239, 89939, 165284, 69486, 156670, 16231, 199584, 16235, 16237, 105277, 112958, 16247, 8547, 117074, 141833, 154309, 104920, 97044, 16284, 67446, 197540, 141662, 106688, 142468, 96068, 16313, 116400, 125776, 131784, 126031, 65482, 107691, 195645, 16360, 167330, 176039, 187059, 79935, 16389, 166641, 108639, 100318, 164607, 16431, 16432, 137558, 174577, 126973, 147183, 16459, 16463, 167422, 136158, 47521, 55102, 126645, 70817, 16511, 186287, 49125, 128740, 91526, 192527, 108296, 56946, 66932, 71994, 16616, 16618, 186134, 16627, 29712, 7820, 44434, 16647, 138048, 190256, 92010, 185518, 163096, 35746, 16692, 189531, 163833, 135037, 154635, 19161, 42331, 130825, 124098, 35870, 16740, 135156, 117795, 76749, 23969, 57756, 147776, 16786, 104939, 94713, 19856, 164126, 128676, 160540, 16839, 191092, 165576, 74663, 190297, 50655, 33093, 16893, 95257, 191602, 140630, 193802, 88290, 16934, 95670, 134507, 82575, 16947, 81181, 185441, 143112, 16974, 16975, 160356, 37125, 113818, 16997, 168240, 52692, 92950, 107422, 17042, 106119, 118654, 132660, 39145, 17066, 54123, 194982, 146130, 41693, 39735, 73909, 129666, 163166, 179855, 196308, 26586, 159637, 27165, 154312, 60497, 54847, 150715, 111494, 130516, 40347, 17180, 129380, 140400, 197512, 87465, 84747, 56106, 128056, 137722, 75414, 51340, 139764, 177505, 147898, 82513, 17274, 17275, 75205, 23163, 179721, 67612, 32190, 52614, 113950, 157591, 46017, 41101, 115534, 108054, 77989, 181080, 116043, 183802, 184074, 63415, 17433, 150990, 86163, 164406, 17470, 133701, 179306, 116328, 54464, 17500, 35608, 62435, 22085, 148276, 167271, 167427, 88892, 96182, 17540, 177767, 108992, 113379, 59377, 195825, 59579, 26740, 131460, 128996, 52656, 17588, 140466, 127041, 122367, 108430, 156843, 64183, 153551, 54750, 128603, 17675, 17676, 162686, 17692, 17695, 187685, 194115, 24710, 63209, 94712, 106271, 108866, 61837, 59959, 17766, 81482, 51185, 17787, 150966, 134810, 145950, 17807, 48112, 144223, 49486, 58977, 128053, 102403, 100902, 136286, 181039, 136650, 17835, 17845, 94723, 108027, 190848, 72912, 53254, 21578, 192393, 186704, 132155, 155417, 105436, 17930, 189357, 17943, 106197, 105379, 147943, 104437, 180367, 66311, 17965, 156117, 134563, 17972, 22400, 17982, 118792, 199331, 175399, 145032, 112896, 170716, 137042, 192439, 84924, 6400, 134884, 102822, 184317, 143738, 18084, 63594, 182348, 18095, 172397, 18119, 140946, 119266, 158206, 18140, 74201, 18154, 178656, 83337, 120800, 49718, 18168, 57042, 146083, 106255, 143028, 149251, 66926, 151044, 135030, 181107, 190060, 189364, 125878, 162516, 141147, 152250, 195330, 147494, 40778, 194771, 100155, 193630, 93275, 18308, 15550, 129237, 83427, 102850, 45143, 18358, 82626, 106846, 87718, 65634, 57477, 167815, 18421, 183633, 18430, 187546, 56896, 186933, 172245, 29518, 172663, 18454, 168604, 39689, 167798, 111534, 191959, 114802, 104983, 126389, 155410, 184606, 159051, 89039, 184202, 174583, 178158, 18568, 115443, 63160, 18576, 108632, 18596, 122015, 166769, 152825, 18616, 199378, 18626, 111166, 98231, 159923, 100729, 180182, 115122, 25324, 47677, 110613, 143320, 141384, 114565, 6005, 18713, 137630, 161124, 86910, 71256, 126410, 162142, 18741, 184933, 176045, 105143, 81110, 138218, 61317, 192304, 35590, 113197, 53582, 162453, 153377, 183676, 62391, 125708, 181376, 18890, 92116, 62789, 54118, 148499, 165209, 197402, 18942, 103450, 126691, 177911, 107820, 106794, 106136, 18981, 197735, 194164, 19025, 158393, 179411, 69058, 115244, 110575, 183948, 185036, 19531, 113236, 199608, 71341, 170408, 19089, 88903, 19110, 194943, 193995, 154029, 94832, 33884, 182349, 183085, 155409, 95940, 50975, 141207, 158607, 180929, 156191, 52443, 19193, 187306, 163359, 68480, 118786, 188561, 171697, 164977, 19252, 130815, 109210, 49722, 78925, 169321, 145208, 19265, 19284, 54925, 134698, 158469, 52695, 179146, 57355, 182767, 41572, 158662, 66173, 168759, 152782, 164824, 107230, 19381, 24190, 39254, 130216, 124672, 68272, 81180, 15074, 141854, 191847, 149453, 193566, 42032, 94246, 177870, 145286, 132678, 19469, 137469, 124662, 195875, 176378, 168369, 193667, 157436, 19510, 88935, 177187, 154403, 135023, 38562, 62572, 187439, 157470, 19561, 181251, 39805, 44044, 39556, 151884, 82727, 140027, 19603, 28698, 19611, 19620, 19621, 19630, 130354, 31413, 87038, 150455, 171651, 105969, 123325, 185047, 148603, 19700, 99875, 125049, 19738, 145211, 19765, 198340, 19768, 33287, 19785, 49448, 163570, 168346, 195447, 87710, 150006, 177411, 174871, 183492, 172694, 42671, 179706, 89568, 132548, 19903, 116071, 143992, 62140, 19917, 144081, 113791, 197955, 137005, 69470, 89056, 19957, 146917, 152163, 19964, 105651, 121403, 169704, 110832, 152313, 84112, 155406, 181657, 110806, 162949, 98929, 84136, 170837, 106089, 180548, 103665, 92068, 152868, 122103, 83706, 106151, 98706, 82800, 131265, 197811, 56216, 107797, 54424, 143642, 50077, 20166, 185382, 20188, 79752, 86679, 151810, 73631, 73697, 171190, 127977, 136706, 187341, 198198, 56173, 186144, 35939, 159258, 130759, 20260, 53335, 20272, 181354, 120100, 77936, 102106, 170460, 66214, 157501, 78865, 182628, 82809, 103238, 149298, 72052, 113966, 154382, 147525, 111602, 163648, 137483, 186722, 152796, 39957, 20443, 138600, 110734, 188690, 124288, 121812, 119326, 44841, 98892, 109859, 65152, 155915, 165783, 93335, 194832, 34670, 131502, 193391, 165457, 183570, 73489, 20563, 164665, 20590, 74953, 152111, 105731, 90972, 24876, 169519, 69446, 116557, 20674, 20680, 71988, 64998, 109024, 20695, 172753, 63425, 163269, 156390, 101355, 158320, 66994, 176948, 124455, 154201, 176114, 194264, 20797, 39273, 20800, 143294, 115051, 112257, 20831, 115096, 195214, 157179, 76513, 191216, 129406, 61765, 106094, 147408, 169476, 63434, 20907, 43055, 101952, 182427, 161859, 180706, 89664, 113123, 20934, 22486, 29659, 191982, 155543, 138740, 151773, 14452, 70988, 159969, 158391, 104469, 150538, 106204, 166447, 86792, 26809, 178117, 200132, 90956, 21036, 152444, 197586, 91947, 40541, 21054, 178121, 143562, 138561, 111086, 21100, 21117, 21118, 185505, 128735, 135470, 21133, 171038, 21143, 127231, 83358, 170769, 47237, 71706, 148144, 110957, 21170, 24535, 21177, 26423, 21194, 127958, 82323, 21203, 157670, 97582, 148129, 21258, 177203, 119543, 140735, 133305, 70306, 113897, 145332, 69786, 70670, 21314, 21321, 102649, 143680, 36355, 154812, 118051, 57261, 90419, 73731, 123962, 113356, 143846, 177493, 187597, 100884, 133082, 51095, 52451, 197976, 126857, 82098, 61373, 60956, 152831, 113598, 186740, 129041, 116268, 53777, 178935, 166169, 196333, 199264, 113971, 147538, 124435, 100165, 105317, 93929, 154472, 197890, 44130, 158847, 196660, 102355, 142490, 172951, 186090, 21602, 171720, 63156, 152183, 158814, 100310, 82205, 159756, 48831, 159419, 21671, 154037, 21683, 156513, 177121, 185510, 187363, 125082, 141127, 21728, 21741, 99072, 161438, 65210, 197399, 38725, 171035, 21766, 127430, 79245, 46216, 137390, 190033, 73818, 151169, 187628, 21818, 21821, 132644, 21847, 21856, 171287, 164483, 172705, 197314, 155411, 21892, 160554, 199698, 143756, 149488, 166152, 21940, 132650, 149714, 154699, 170677, 160018, 54059, 47352, 89528, 147189, 155639, 22006, 173458, 81243, 22016, 181706, 141073, 200197, 187782, 22030, 96236, 22040, 159649, 69855, 22048, 191072, 174597, 195930, 171929, 178260, 200046, 136973, 34655, 37426, 22076, 80107, 22084, 180362, 22121, 22123, 52074, 22126, 22127, 97198, 22152, 191601, 178029, 135035, 22195, 190637, 170910, 138785, 154930, 112006, 162720, 168458, 22283, 81898, 105879, 155518, 38174, 39600, 188403, 22317, 51432, 48576, 22333, 74151, 154288, 116117, 154601, 22365, 112631, 22387, 97349, 146265, 60135, 135077, 109443, 99130, 49074, 102096, 190788, 80724, 192339, 102313, 22450, 185920, 83404, 97241, 144656, 172350, 22496, 22498, 22506, 35931, 94631, 22529, 152100, 22535, 126063, 122566, 199903, 156205, 22574, 147802, 113674, 112946, 22587, 31922, 192664, 185524, 84888, 22602, 151846, 22608, 32772, 165841, 179733, 180679, 176642, 76413, 40314, 54429, 67859, 105734, 185556, 196890, 175041, 141888, 22715, 127419, 158447, 165822, 140861, 101430, 192694, 187851, 40034, 51918, 151698, 87379, 117161, 22786, 196728, 152176, 173047, 22819, 127295, 185885, 153917, 25572, 95056, 175788, 170609, 172429, 22879, 73794, 167157, 142149, 22895, 105211, 58905, 136887, 111415, 80886, 28428, 93528, 22943, 22946, 22948, 117633, 22957, 22970, 70500, 163448, 161371, 22985, 115843, 95333, 22998, 23007, 174221, 166587, 165654, 58719, 23030, 89661, 85175, 23033, 163609, 23041, 23043, 23046, 116144, 122710, 142856, 23068, 186537, 124981, 93806, 23105, 69076, 39363, 23118, 64293, 23119, 23122, 175025, 88795, 23150, 23155, 56270, 23162, 23169, 182435, 68963, 129470, 122105, 78679, 179099, 124170, 161989, 173292, 92604, 107194, 102872, 48838, 136502, 23272, 142688, 41107, 189075, 78950, 76372, 104752, 23316, 133319, 114859, 151343, 148246, 133282, 147030, 23358, 132576, 59591, 78445, 133643, 106183, 23382, 138789, 132382, 23420, 69997, 140531, 66954, 131540, 174026, 105910, 23441, 122815, 121989, 116735, 23462, 159088, 197199, 120581, 130751, 143706, 159730, 185473, 42334, 23518, 93949, 194408, 23535, 195557, 183566, 199797, 48594, 130455, 187361, 65699, 40962, 23584, 23587, 170850, 89303, 34244, 23609, 110036, 119563, 112468, 49651, 196319, 199173, 23640, 108358, 192609, 128749, 157279, 110861, 134597, 167077, 117824, 23699, 23704, 163004, 183832, 23550, 161520, 111497, 23741, 128520, 92159, 187219, 178177, 23753, 69326, 192151, 168050, 137376, 84976, 179181, 98597, 118165, 130762, 136998, 125255, 143372, 90339, 135511, 23861, 183079, 114720, 148547, 131532, 125467, 23904, 178735, 23921, 150235, 161414, 149472, 23941, 61898, 110913, 96405, 139171, 130285, 181876, 129533, 116811, 118595, 110683, 5693, 135128, 149900, 115484, 32013, 165383, 46058, 24068, 24074, 110006, 137003, 28915, 67245, 24106, 119975, 80189, 41057, 179383, 179587, 163828, 132601, 24170, 24171, 196482, 185881, 138198, 190123, 24210, 74601, 184583, 166735, 171243, 110784, 127327, 193993, 181653, 62755, 24267, 24270, 155948, 24287, 146065, 153310, 65721, 86929, 118774, 170601, 164608, 193044, 176552, 24339, 24347, 24348, 77165, 160338, 71588, 116653, 180811, 173226, 69570, 68152, 163254, 185451, 142697, 128036, 102941, 131531, 174150, 47365, 134981, 197508, 171703, 39725, 64366, 134293, 47035, 139439, 58784, 24458, 24460, 195756, 24461, 94021, 111714, 89728, 148270, 199588, 61084, 39708, 73910, 24534, 197120, 186627, 24551, 163936, 24573, 182322, 189626, 24588, 148173, 153892, 150043, 75775, 91089, 182611, 131439, 158445, 81535, 141691, 123940, 49393, 183433, 76247, 36784, 106483, 181651, 24667, 169339, 24691, 24692, 166270, 24702, 114642, 68882, 161909, 58054, 142140, 156095, 114497, 113880, 96798, 97705, 81531, 24807, 69904, 120964, 77642, 179755, 95580, 24837, 106109, 166261, 24860, 190692, 199242, 53992, 181309, 174835, 162065, 71559, 93182, 167690, 194027, 110761, 191925, 24933, 24938, 24940, 123429, 108469, 112470, 129033, 193603, 164622, 77788, 195041, 136829, 151978, 165827, 104725, 85427, 25015, 136184, 84518, 126206, 47240, 25059, 173324, 109044, 164360, 25111, 95773, 54922, 175573, 184929, 105131, 25138, 94918, 193706, 167098, 25154, 40616, 101375, 19499, 181593, 161214, 145910, 176730, 107510, 168154, 61852, 84640, 139978, 25230, 127494, 25252, 65005, 25258, 199950, 183339, 165895, 58294, 25285, 162817, 34177, 196413, 60121, 86813, 78668, 25305, 27552, 20333, 76922, 25319, 141052, 25346, 109667, 159421, 141059, 29326, 146221, 200141, 58477, 160477, 28874, 93056, 183713, 25399, 94180, 25411, 25416, 128780, 178063, 172230, 186515, 25451, 25454, 30994, 152909, 59549, 83189, 138061, 79654, 25495, 25500, 158681, 25507, 164181, 82591, 25548, 170416, 63463, 95520, 98348, 83950, 170495, 81304, 44082, 86627, 83891, 72632, 38278, 76464, 25627, 118741, 68712, 195819, 76166, 25664, 65829, 106163, 143632, 88056, 25698, 140001, 32697, 100049, 53233, 111784, 33236, 145405, 25754, 60783, 25769, 172735, 109450, 65449, 150601, 25797, 188891, 188557, 29113, 181451, 123069, 25843, 127253, 167371, 74740, 149157, 145283, 77221, 25864, 165527, 198853, 186716, 49407, 136939, 47008, 148682, 191291, 138302, 177947, 183535, 115590, 116690, 64547, 63554, 90296, 25941, 120633, 111226, 86577, 84985, 25963, 121526, 164298, 178020, 192395, 143541, 119957, 168858, 93642, 33150, 195941, 77054, 192978, 187736, 69941, 178270, 26058, 64735, 114082, 41474, 116217, 95378, 26079, 116722, 26095, 166811, 159069, 110535, 137776, 39346, 140081, 197971, 88216, 132430, 106056, 174556, 89808, 196812, 102902, 170758, 190114, 143848, 26248, 172615, 116914, 146639, 70943, 157755, 80703, 76043, 153340, 172612, 126713, 157675, 196031, 32819, 32895, 185893, 145148, 107877, 26341, 63457, 26346, 175124, 26352, 194126, 53462, 181610, 26373, 26374, 26390, 185452, 26398, 140857, 26409, 100374, 158175, 178753, 86658, 26419, 129567, 168807, 101692, 71315, 98734, 26448, 61742, 154300, 122536, 26484, 26486, 67354, 26489, 153055, 26500, 50688, 82410, 95444, 26518, 152433, 26530, 13943, 26535, 168937, 64013, 121552, 125252, 190934, 102470, 26564, 59863, 118184, 179478, 128882, 26604, 26610, 73293, 26627, 148072, 99981, 166200, 113747, 178797, 138463, 156548, 184290, 26653, 26654, 91772, 26662, 40376, 156292, 26666, 161809, 99745, 150103, 192006, 26705, 185390, 157619, 191460, 66260, 187354, 166714, 135729, 26731, 176846, 190087, 106522, 38299, 62857, 156778, 138278, 144381, 112602, 138932, 68840, 114975, 26821, 26822, 146085, 83512, 35778, 26882, 197827, 165261, 135797, 26900, 164968, 163642, 198128, 61882, 73069, 155925, 128648, 78724, 184666, 93654, 123202, 38620, 159338, 77415, 187061, 144518, 27054, 191507, 199754, 68496, 171711, 27078, 159310, 171249, 123368, 69078, 27105, 80140, 27116, 80955, 149760, 52644, 196354, 139400, 50203, 180257, 113049, 27168, 116257, 103809, 27184, 194505, 129917, 93829, 36214, 27207, 63779, 149370, 118017, 27222, 110233, 133276, 72604, 54496, 27283, 181050, 157793, 27299, 81277, 194526, 147339, 199172, 172575, 131863, 140484, 27334, 27336, 35208, 27341, 191165, 27344, 27345, 61232, 184809, 27352, 153227, 110069, 114528, 27371, 177494, 160103, 95607, 177314, 167859, 47493, 40204, 195791, 69201, 78275, 27431, 27435, 99110, 27449, 179410, 27454, 141200, 154301, 27460, 130737, 54422, 179652, 27467, 154190, 164582, 109648, 92121, 27639, 149502, 183297, 49458, 112888, 139954, 78099, 97370, 157760, 119050, 46334, 47216, 27559, 27569, 119083, 194409, 157685, 27591, 132474, 46571, 182295, 120892, 150959, 119099, 152802, 135177, 34412, 107434, 57270, 59071, 72134, 199647, 181768, 99785, 152079, 178374, 115697, 37877, 135542, 106327, 178822, 179243, 27745, 162769, 167107, 168351, 130706, 137819, 130559, 27800, 143645, 84010, 190468, 37554, 27841, 43158, 141029, 181342, 125787, 130187, 70599, 27864, 197527, 27891, 167285, 198197, 85673, 159815, 44489, 27935, 121651, 27952, 66471, 84228, 103212, 27976, 196045, 91881, 196836, 86359, 193651, 28033, 160314, 85683, 147778, 87578, 41276, 64813, 28084, 197108, 177510, 94294, 103215, 155150, 144644, 167255, 101241, 193656, 185953, 78397, 28181, 198714, 89502, 182610, 28205, 100152, 81145, 188003, 29732, 134185, 28241, 104032, 87527, 28922, 128929, 175760, 107985, 48305, 101342, 129727, 194881, 192020, 28291, 28297, 162537, 77494, 74029, 193560, 177295, 110758, 28333, 28335, 164693, 173485, 28341, 158876, 170678, 80875, 171770, 85525, 28367, 137394, 28387, 161903, 93466, 121682, 28420, 134126, 169985, 172311, 77916, 85574, 65836, 94578, 120540, 170169, 28482, 34253, 138245, 145120, 28502, 28507, 142285, 138925, 68493, 28516, 44277, 200022, 167189, 33791, 132880, 28557, 176121, 141011, 185855, 28595, 189043, 139436, 199327, 67776, 111672, 197944, 140397, 28646, 154493, 156611, 28658, 32975, 161654, 28675, 28686, 195995, 88535, 115808, 197850, 129273, 47893, 28734, 28740, 131860, 103759, 195580, 82274, 96273, 102786, 180820, 84916, 38279, 28826, 172026, 126897, 176857, 137712, 97353, 147740, 28861, 64817, 95297, 28878, 147346, 60456, 28894, 197017, 55654, 51608, 135666, 61930, 59402, 28939, 28952, 145599, 154932, 130807, 192128, 48143, 61574, 48638, 28967, 151338, 153024, 117535, 28973, 182794, 125179, 28985, 28986, 183741, 29000, 90071, 125519, 164261, 118985, 145863, 135281, 93167, 196972, 90427, 29072, 175534, 148947, 65887, 178639, 74592, 151133, 134456, 95755, 79919, 29155, 153571, 179380, 102546, 103405, 132128, 69197, 181365, 29178, 160745, 196126, 167755, 76387, 171506, 143831, 116929, 164102, 155522, 188504, 95258, 131501, 96702, 105623, 82275, 149294, 165398, 97690, 29321, 169250, 29339, 144244, 29350, 99005, 29369, 82206, 29372, 29377, 129702, 29385, 76454, 178003, 172499, 138804, 143016, 113285, 103682, 160761, 69803, 170241, 136033, 130133, 164259, 29455, 140561, 182039, 117398, 29475, 36265, 66573, 117217, 119058, 149530, 71439, 77129, 79661, 155615, 189636, 197379, 87960, 104991, 137223, 38815, 134612, 29658, 29662, 29663, 170021, 165775, 29674, 29678, 162048, 165409, 40550, 183890, 29699, 29706, 175326, 58375, 32717, 113047, 29737, 127363, 29760, 81383, 29768, 142572, 118815, 68448, 29809, 147154, 143208, 99182, 123092, 68021, 178794, 130869, 29844, 92895, 104006, 198430, 29881, 186849, 178653, 105753, 184176, 128404, 124383, 54797, 29938, 117156, 166555, 128891, 178325, 191968, 111260, 29960, 88845, 29978, 66940, 29990, 147628, 172953, 29992, 73523, 29998, 192251, 168054, 30005, 183961, 155698, 30016, 82969, 161470, 30042, 91504, 159053, 135054, 59948, 82696, 71769, 47280, 195892, 129958, 96209, 48296, 123541, 83492, 188439, 175815, 57539, 84721, 187762, 30145, 150065, 132023, 30168, 120402, 199001, 30184, 88030, 43817, 128967, 89843, 191548, 30236, 96021, 110335, 30269, 158103, 182013, 139534, 154639, 42518, 191970, 30331, 187646, 30343, 181507, 124018, 112598, 30353, 185325, 89931, 85263, 87087, 159026, 119117, 193939, 86159, 188825, 76236, 93095, 125026, 30416, 173242, 30429, 121903, 197729, 153085, 148872, 156713, 197762, 30457, 153344, 101277, 67759, 151387, 77234, 30472, 130402, 168408, 180640, 30485, 108878, 121685, 30670, 38446, 11746, 189477, 49763, 79445, 166488, 124732, 45433, 46869, 135840, 138282, 178803, 153080, 30598, 56403, 36169, 30631, 143517, 178832, 127136, 30658, 135827, 189984, 191162, 64649, 177405, 141154, 157531, 178934, 119501, 167177, 144699, 98005, 167225, 199483, 161622, 159232, 125163, 155316, 59638, 106051, 132034, 59910, 104680, 157709, 179550, 193536, 53903, 175319, 129618, 30867, 122957, 146125, 69533, 72560, 80478, 185419, 30912, 50526, 196805, 53815, 40851, 179039, 30932, 175402, 161039, 101193, 49155, 36136, 46133, 171047, 110514, 193786, 131171, 99705, 96471, 114896, 196903, 159974, 175606, 31033, 115962, 114202, 80457, 31049, 154954, 184161, 107974, 141616, 94313, 62994, 169903, 77720, 72037, 31106, 159791, 117874, 133561, 122672, 194464, 153361, 88875, 31175, 31179, 159570, 198021, 149285, 74946, 133380, 31216, 121165, 54625, 74558, 48860, 193365, 157991, 185723, 108139, 36061, 102043, 31251, 31252, 58933, 192799, 31259, 87536, 31266, 117892, 31294, 171955, 150036, 142740, 133468, 31326, 135754, 49415, 40182, 31332, 31333, 114079, 73977, 115190, 31356, 76654, 72257, 107674, 192672, 111646, 128175, 153314, 80649, 157156, 65776, 31451, 179177, 71030, 163806, 31461, 31467, 124216, 31471, 106445, 80289, 31487, 195508, 55395, 98023, 131616, 31513, 133983, 31520, 31524, 52357, 31536, 123361, 131097, 65464, 107116, 34377, 173053, 95553, 57384, 111294, 186930, 192912, 71255, 31594, 173782, 153390, 198600, 99677, 185717, 31635, 140381, 31652, 88462, 58034, 158021, 108459, 144572, 181311, 157560, 34151, 178889, 187919, 31710, 31711, 167090, 31725, 31730, 31732, 186985, 34676, 31754, 116357, 152674, 115655, 31789, 61002, 186662, 115254, 152638, 148446, 31859, 103086, 31873, 156542, 136598, 31901, 163925, 156995, 31930, 198888, 199224, 145757, 142979, 31997, 128373, 134962, 32010, 77351, 176094, 32021, 154924, 89167, 89681, 168232, 152120, 145521, 107204, 184668, 35797, 32072, 145258, 39747, 14510, 32133, 185175, 86676, 79677, 105816, 129919, 157914, 41913, 135509, 181323, 32192, 131038, 179743, 83980, 131411, 166486, 32225, 32227, 129497, 182712, 105064, 94910, 99068, 172255, 32273, 156766, 119171, 69868, 131990, 110199, 165043, 163408, 81682, 116559, 165662, 112765, 149682, 143299, 131590, 180458, 188578, 66003, 160278, 162528, 107168, 65591, 67786, 94820, 32436, 165003, 32626, 193903, 32453, 135328, 99243, 86827, 53980, 123280, 78512, 131407, 156649, 33449, 22013, 195654, 32532, 32534, 42577, 32546, 167908, 32561, 129744, 32567, 129216, 196879, 32589, 110664, 182011, 32609, 67463, 146052, 39224, 32635, 66395, 32653, 39453, 89607, 81576, 37993, 128067, 32736, 51046, 39053, 32778, 53603, 61677, 138122, 164134, 89993, 32800, 67277, 115152, 153132, 186670, 127062, 122638, 32825, 197470, 55685, 77603, 124247, 32847, 32853, 84589, 82345, 129269, 149850, 59711, 164884, 174363, 111402, 69666, 32894, 32904, 183316, 32912, 32928, 166153, 192603, 140179, 147259, 76562, 61148, 47610, 83112, 179536, 156039, 32989, 148403, 151134, 188800, 104335, 44774, 104722, 52839, 133656, 151696, 195855, 145432, 130180, 164848, 72946, 165955, 191090, 33141, 33155, 153137, 33173, 33178, 106188, 33194, 87059, 33200, 171511, 176234, 179691, 197339, 89815, 68057, 187004, 104964, 33250, 194698, 33261, 78726, 188968, 135559, 73948, 105120, 45133, 117632, 52698, 177768, 135361, 40982, 103445, 33379, 161567, 197538, 124411, 96043, 128639, 169373, 70035, 194977, 114777, 64725, 97625, 60595, 33560, 69012, 136149, 68795, 143802, 50464, 33582, 105864, 169589, 48857, 65934, 144994, 42633, 67242, 33633, 33635, 107530, 81679, 33652, 62295, 33664, 175787, 66241, 135578, 74377, 63228, 192989, 193215, 5971, 159291, 93896, 98049, 33733, 101876, 199983, 188702, 34041, 109035, 46091, 94118, 115811, 33816, 143369, 116857, 25008, 180286, 94994, 33860, 194410, 142229, 66525, 159633, 153736, 129550, 33901, 64448, 131802, 190484, 33916, 33922, 199825, 194531, 168801, 144671, 182696, 166335, 33992, 167568, 34046, 40150, 167992, 34076, 30473, 192924, 92074, 136032, 133823, 72455, 134947, 34144, 34153, 129122, 175549, 34164, 34168, 170070, 34176, 34188, 187604, 34193, 144311, 146621, 34210, 173775, 34225, 85493, 130161, 34233, 195829, 115050, 174952, 157557, 185247, 168262, 104011, 123055, 92040, 79411, 79719, 102509, 34321, 192618, 95154, 175221, 34358, 197620, 179744, 184786, 34394, 127573, 168212, 188920, 125308, 45240, 120328, 88578, 151139, 34488, 121271, 65378, 187420, 53414, 94834, 159033, 184049, 89371, 148117, 111608, 123199, 186638, 193045, 83837, 34593, 78628, 34607, 153469, 34615, 34616, 117188, 165200, 137434, 170947, 34659, 174230, 96550, 76470, 176546, 130503, 147238, 147796, 34782, 34791, 139424, 173552, 135418, 78921, 34854, 34865, 34868, 55995, 136563, 34890, 156606, 186184, 34920, 167535, 66958, 160702, 34936, 93687, 79969, 136384, 65258, 188081, 126635, 123719, 130007, 43771, 118573, 174958, 34992, 71471, 35003, 175996, 181758, 35030, 35036, 155061, 35043, 35044, 191600, 98383, 131753, 196736, 176503, 191061, 94824, 112921, 134043, 35112, 149724, 199612, 87036, 184537, 138504, 120905, 35151, 105275, 146510, 148648, 197260, 97215, 166608, 35178, 56831, 35193, 103283, 112280, 35201, 164129, 127103, 42849, 121803, 113108, 132011, 171774, 124407, 46152, 35304, 107624, 89232, 144912, 35317, 50837, 189786, 35335, 173031, 35340, 155004, 94911, 177293, 35367, 121596, 191367, 35384, 35391, 55884, 179659, 124532, 151469, 112927, 142665, 161474, 108399, 56388, 65596, 156709, 142532, 160591, 35463, 110145, 79067, 132966, 103016, 136324, 107914, 90737, 94181, 95162, 35521, 133173, 183121, 135620, 171812, 54593, 51157, 35548, 108031, 68596, 35570, 166226, 172089, 158967, 78624, 90991, 100403, 180056, 54256, 158617, 35669, 189119, 57488, 189821, 35686, 100421, 156742, 193157, 35723, 142747, 83710, 68664, 164254, 184324, 186575, 58305, 186925, 35764, 35766, 168204, 157359, 193963, 189746, 138380, 43256, 95073, 35795, 133452, 35824, 59725, 35833, 35841, 159131, 110376, 167085, 157270, 163206, 75430, 158032, 164768, 120087, 100985, 174356, 64564, 37534, 82142, 108391, 82912, 103707, 126167, 160832, 192936, 175638, 149327, 35965, 45685, 200130, 136946, 159884, 23293, 120107, 110598, 36017, 36018, 150839, 153431, 36030, 102848, 191036, 132749, 184247, 193668, 151740, 142730, 189131, 97218, 36056, 137681, 140814, 44310, 151039, 110951, 36101, 167648, 153432, 149559, 168037, 80173, 142228, 135985, 36145, 181821, 159886, 36160, 36170, 192731, 162019, 36204, 84420, 66371, 141754, 85086, 182068, 72777, 64046, 159525, 147348, 92538, 159973, 36307, 181952, 36308, 184920, 141645, 98762, 41850, 36356, 196727, 67694, 196995, 133081, 36407, 173092, 117454, 73458, 147449, 36446, 61006, 175429, 142375, 78913, 156150, 42958, 100387, 36502, 184733, 36508, 131389, 119766, 200157, 107911, 141781, 81076, 171861, 36558, 171590, 36569, 161894, 56280, 95720, 123233, 194892, 112695, 36604, 67033, 48920, 36615, 197898, 150782, 141087, 51091, 152779, 144465, 36676, 113755, 36686, 185727, 36706, 36717, 91970, 84238, 162492, 36756, 137736, 137899, 47743, 36775, 66338, 167495, 192578, 36822, 172181, 41518, 156727, 150168, 39624, 124123, 106115, 146309, 36860, 115019, 163078, 111406, 36900, 36907, 151030, 54734, 156992, 180733, 68932, 36948, 36955, 66238, 152411, 41637, 36971, 57144, 187899, 125590, 36992, 101154, 37004, 45898, 166974, 37029, 123087, 37039, 53937, 176622, 195907, 85500, 105263, 37081, 146589, 120264, 37091, 160955, 37102, 161782, 47148, 103469, 198957, 158139, 37108, 198248, 81060, 185182, 37154, 85013, 129328, 37165, 165997, 181583, 138475, 185632, 37217, 68019, 167071, 88189, 170032, 37254, 184754, 192905, 94497, 118825, 146756, 103741, 89309, 141155, 37300, 26525, 36146, 145887, 55953, 37346, 37350, 53294, 122378, 62620, 37388, 106956, 169944, 37398, 142866, 37410, 156077, 46985, 59677, 160353, 165957, 111289, 178300, 37457, 128795, 161836, 61846, 37469, 179273, 131896, 192319, 37498, 125256, 82530, 37526, 188937, 166939, 65236, 74052, 19056, 189560, 163885, 65925, 89842, 37571, 37573, 117636, 53719, 193800, 107497, 37600, 37601, 158279, 146018, 58765, 77704, 182316, 197244, 13166, 112933, 37679, 74761, 37687, 37692, 118645, 199034, 37700, 164216, 37731, 150768, 169433, 175610, 110180, 174710, 172192, 37771, 45970, 37776, 196019, 198771, 15538, 57697, 37815, 135601, 95728, 177080, 58522, 32918, 57614, 174473, 37860, 168936, 37866, 64736, 90385, 119956, 90563, 37944, 180970, 80293, 174636, 105624, 147173, 185541, 42348, 180866, 144794, 179879, 116275, 136947, 38065, 152884, 38068, 38074, 145906, 38086, 145755, 40645, 91593, 169115, 140138, 91476, 200196, 58761, 102906, 176065, 132217, 135436, 191167, 199591, 79233, 38207, 38213, 125476, 178130, 155173, 129928, 38246, 38261, 103781, 38265, 110039, 156327, 38310, 159693, 196580, 97608, 81964, 127454, 193874, 177708, 131481, 77322, 38378, 198547, 38393, 149042, 103429, 180294, 187498, 112477, 130583, 120324, 76092, 130364, 157190, 69195, 52402, 89446, 191321, 75124, 56914, 123874, 38515, 62128, 199902, 121003, 163703, 134200, 82337, 159682, 38564, 98149, 184135, 164592, 145827, 38596, 119371, 30815, 63677, 38624, 38625, 101282, 97879, 177702, 67843, 123864, 45265, 87112, 146316, 107436, 70987, 38680, 116655, 145499, 38711, 93969, 133433, 196827, 186068, 38763, 168456, 61415, 142559, 184554, 38811, 116922, 38822, 187293, 86721, 192002, 122532, 127988, 161522, 187763, 126832, 176286, 76474, 38870, 111616, 129914, 46549, 97974, 56878, 38938, 38942, 38948, 55585, 22320, 159064, 142748, 82253, 161549, 39003, 54416, 153536, 104481, 39020, 102775, 182529, 57380, 39186, 125646, 145555, 39082, 39116, 121924, 94923, 39140, 147582, 195068, 66336, 39182, 86390, 73070, 104426, 105204, 124451, 107716, 104374, 67943, 183564, 155678, 39227, 174115, 39240, 39255, 143014, 106295, 124480, 58965, 39291, 39296, 51627, 89066, 46948, 86777, 112409, 94041, 173243, 56361, 50338, 149301, 39368, 39373, 179552, 123573, 189755, 39397, 39405, 134384, 187292, 170503, 28812, 183115, 185821, 124586, 39452, 156218, 177889, 194647, 133750, 113909, 114275, 39498, 39503, 81592, 111114, 137639, 34560, 39529, 95507, 168909, 194444, 189938, 21832, 59068, 84919, 127268, 134163, 47359, 168650, 134196, 39612, 39617, 198844, 144784, 39640, 39644, 159598, 132053, 114344, 49671, 39684, 92703, 137303, 39711, 39716, 39729, 39731, 160865, 195845, 100868, 67374, 39772, 110275, 123126, 39792, 39794, 189027, 39798, 39820, 39828, 39844, 39855, 156100, 39874, 109140, 70048, 101318, 170145, 178991, 177215, 39909, 123947, 126846, 126667, 95719, 39928, 165706, 39943, 188258, 39956, 139830, 39975, 191915, 125872, 179219, 40000, 149918, 109776, 163486, 144467, 103056, 121453, 40043, 51278, 182819, 92337, 149261, 120339, 61344, 167569, 135040, 175982, 172977, 168463, 116292, 131587, 40115, 125131, 96421, 182500, 130552, 151998, 155085, 46910, 117647, 148808, 140926, 47427, 139512, 43747, 194110, 40237, 40246, 151592, 184598, 40281, 40282, 186194, 40323, 198520, 120523, 150562, 63537, 33554, 40344, 86417, 40380, 185363, 147580, 118446, 40424, 40428, 122612, 144078, 182437, 153300, 190582, 40444, 146112, 148285, 49523, 63749, 145792, 142672, 71434, 70279, 87265, 70033, 182380, 64206, 160394, 42916, 114903, 90626, 72787, 40575, 170841, 40601, 109343, 179145, 40626, 71151, 40646, 105126, 47351, 143160, 152651, 194893, 53620, 198345, 70723, 188546, 180225, 92821, 119047, 95497, 142280, 154310, 179928, 40747, 195421, 126950, 178809, 133266, 140486, 190031, 162105, 112036, 145324, 5776, 120980, 40843, 62889, 40859, 79181, 93325, 75474, 40875, 40881, 199520, 133634, 130714, 116152, 40901, 158739, 58011, 90617, 40933, 40939, 120022, 40949, 119239, 188190, 166344, 158784, 200060, 183227, 159157, 132817, 126647, 41026, 125922, 41035, 194463, 192115, 136705, 177463, 147150, 196692, 50033, 71031, 128514, 189415, 171274, 152346, 194254, 67205, 125512, 101254, 138745, 41209, 159133, 67757, 150598, 104042, 53705, 151171, 65413, 41282, 142141, 157402, 190231, 23539, 35469, 165157, 94052, 91074, 122003, 41340, 198561, 108291, 172952, 160371, 173156, 48818, 187229, 197537, 154030, 171145, 184303, 194396, 84605, 80042, 147924, 164613, 63037, 41454, 41455, 73630, 166267, 41476, 68146, 41489, 122191, 147911, 187630, 150453, 41541, 78312, 83977, 169880, 41554, 197938, 125696, 176348, 179105, 128249, 41605, 155488, 152203, 155214, 99251, 41644, 41649, 41652, 41654, 41668, 106203, 139506, 128837, 150515, 161906, 41690, 41698, 41701, 158806, 138006, 197903, 97081, 47832, 188558, 90052, 41734, 99450, 41749, 69816, 126363, 41769, 41794, 41795, 141394, 41801, 127617, 176190, 115421, 174161, 79830, 144486, 41834, 186241, 49736, 49532, 150748, 189302, 108187, 98955, 121872, 93556, 158859, 84174, 145388, 41926, 77043, 196131, 41951, 116156, 74533, 179171, 41967, 192952, 41997, 120152, 42025, 42035, 173337, 176556, 154047, 62933, 90754, 56712, 168738, 73965, 68246, 114737, 186915, 88687, 42102, 190813, 191617, 84318, 131710, 127051, 123310, 166206, 186958, 42142, 136524, 113634, 158544, 42203, 56783, 82826, 145214, 91358, 75457, 145620, 129457, 74347, 198551, 131433, 139662, 87474, 42254, 87070, 134263, 42265, 60972, 142014, 89353, 42303, 180021, 157304, 188075, 180276, 136679, 75327, 192029, 155642, 42383, 66633, 42404, 118310, 183378, 42421, 152522, 42426, 54359, 131036, 135497, 113282, 52439, 147236, 134480, 189613, 99060, 168773, 190541, 42480, 164104, 125193, 191490, 42521, 198047, 187570, 42529, 42532, 42541, 144040, 83174, 196966, 128818, 75877, 112907, 61454, 110458, 42585, 195020, 179660, 42602, 114513, 180342, 137659, 87697, 149279, 47768, 122846, 185526, 138964, 192890, 42676, 158087, 177053, 182606, 102970, 146687, 42706, 150166, 179160, 109553, 101923, 153926, 159241, 174899, 154233, 148895, 190757, 42809, 110256, 42827, 93366, 83219, 90525, 42846, 42854, 196213, 163529, 139054, 42874, 153710, 179891, 56436, 184930, 161429, 42929, 152023, 168528, 150056, 141455, 198038, 173232, 147817, 105918, 189354, 152388, 161031, 43033, 134359, 43049, 122431, 77240, 54541, 43077, 182740, 43110, 69771, 169731, 176617, 163767, 43147, 69286, 106467, 57019, 131157, 137290, 175443, 43194, 46348, 161830, 100352, 91054, 111987, 192561, 189376, 155281, 168186, 43225, 43228, 93573, 172065, 178376, 93344, 43267, 120116, 173815, 84761, 128070, 55907, 83432, 52381, 140333, 141932, 157559, 184435, 177897, 151832, 134807, 91406, 132824, 135767, 80547, 146283, 47017, 130156, 77186, 69847, 43469, 140607, 43476, 73157, 169770, 199045, 63820, 183900, 43502, 141299, 131371, 192040, 43523, 63673, 151326, 173768, 177774, 15264, 107090, 187907, 63992, 43616, 93936, 78160, 64453, 112534, 102506, 43659, 173287, 165203, 180828, 45581, 178944, 170999, 71925, 191595, 160598, 152429, 190300, 43750, 113244, 185980, 153753, 159431, 43768, 199695, 43787, 192161, 146853, 193798, 180058, 43815, 115313, 98977, 80731, 167380, 75270, 145520, 117223, 43905, 104314, 106125, 65202, 66579, 162612, 172002, 165281, 95753, 105955, 118639, 158278, 84548, 43980, 69395, 115748, 104406, 44039, 44048, 133335, 44053, 189301, 44058, 160953, 44073, 154356, 66343, 157385, 173261, 125409, 88453, 142756, 142986, 152676, 138782, 82089, 109982, 150182, 44139, 140796, 44153, 44154, 98584, 113215, 187930, 158406, 188601, 37813, 190264, 166428, 191871, 35132, 161961, 162705, 44248, 186483, 178271, 187434, 103943, 146745, 154544, 112358, 132900, 44293, 126344, 160020, 44313, 62353, 189791, 154298, 48864, 183746, 44334, 40830, 138004, 133364, 180260, 104009, 154432, 156417, 154948, 44422, 44429, 124786, 157605, 144826, 172796, 185476, 44473, 187149, 123964, 74702, 119438, 112425, 44511, 58116, 134440, 44528, 87541, 44532, 66762, 138652, 44557, 44558, 172590, 103395, 194399, 190605, 197455, 176898, 44598, 198150, 159749, 61643, 132216, 198515, 44636, 75768, 142977, 148311, 112129, 44681, 173695, 65082, 44700, 97210, 44704, 193942, 99064, 111656, 111271, 44731, 187493, 127774, 44761, 106579, 44770, 54594, 44809, 192329, 176013, 64677, 112833, 126472, 155532, 98527, 116930, 57769, 133952, 44899, 195681, 89130, 44912, 95211, 172969, 62626, 68672, 109474, 44952, 44958, 106468, 171648, 62281, 143195, 44989, 124212, 193648, 113034, 186780, 137583, 45031, 64540, 148044, 129375, 50345, 89392, 104576, 45071, 45086, 103012, 176884, 185402, 102310, 71965, 45113, 187956, 136429, 177014, 167522, 115206, 170871, 51051, 95842, 172358, 45182, 149164, 166215, 194369, 69184, 45220, 86858, 79138, 193743, 191638, 45244, 151759, 170142, 154340, 153336, 154959, 145256, 60933, 148850, 147227, 45352, 184695, 45360, 120890, 69164, 178661, 81119, 194662, 107186, 152716, 126093, 74115, 64112, 147891, 45424, 45441, 183161, 199486, 45447, 130263, 77131, 45475, 118228, 78135, 45485, 168643, 154576, 137751, 94835, 19548, 193529, 136018, 52548, 87088, 116085, 95241, 140038, 69006, 45550, 45555, 144975, 45562, 120049, 99610, 97050, 195177, 77655, 56413, 116104, 136597, 45623, 45627, 176261, 166866, 150378, 45669, 133273, 184355, 171705, 119968, 138158, 45722, 170135, 46228, 46057, 193966, 162209, 69274, 45765, 75898, 45774, 74291, 45802, 45804, 47144, 56452, 45826, 129047, 164529, 157207, 153088, 108455, 155342, 112067, 59106, 163035, 97823, 45890, 157699, 89678, 107998, 99537, 161383, 45946, 155628, 45963, 52905, 184969, 195792, 175211, 183858, 167102, 200078, 184823, 195714, 137351, 120867, 51990, 124838, 127378, 156781, 188693, 194154, 167624, 46074, 179581, 151899, 46092, 103302, 156608, 112884, 100575, 46116, 189425, 46127, 46137, 77897, 129739, 120203, 127975, 157926, 46192, 173838, 183769, 57616, 46203, 191541, 191405, 125202, 50384, 172571, 164780, 46260, 68931, 145001, 46296, 112323, 93207, 160146, 162936, 59672, 198053, 162302, 86047, 166557, 129029, 46384, 46406, 46422, 158056, 103311, 126855, 147455, 148367, 120108, 171786, 46457, 160274, 127642, 120420, 46495, 46496, 166109, 98661, 103914, 134883, 46524, 46532, 83372, 173727, 126013, 82352, 155874, 46586, 104876, 101142, 168088, 64099, 171425, 46625, 94686, 199420, 46641, 110027, 132284, 125666, 107862, 119066, 169832, 140219, 181828, 46713, 182601, 168003, 103942, 123800, 117596, 134813, 156288, 116858, 179165, 168494, 112536, 177372, 142366, 196340, 177592, 129568, 46791, 46798, 107710, 99162, 173115, 196403, 46840, 158386, 175738, 187681, 139914, 156270, 185758, 156962, 101747, 46876, 129103, 109041, 186176, 161317, 46925, 142403, 46943, 105151, 183783, 190566, 197730, 46999, 197090, 199925, 52464, 130609, 142425, 175865, 47051, 196500, 47060, 174241, 161248, 152314, 47077, 189509, 47087, 47092, 191636, 87308, 185166, 108285, 47119, 193784, 47134, 191110, 169904, 72442, 169746, 181436, 178609, 198489, 92458, 179646, 133224, 47249, 88321, 113449, 166999, 184981, 106309, 135987, 115578, 47303, 114677, 182657, 105482, 47334, 107823, 76965, 94993, 155981, 47462, 83014, 110119, 153004, 115960, 148624, 175736, 181626, 47510, 80969, 190485, 68900, 58251, 65291, 151681, 190608, 199719, 121362, 198351, 115191, 185720, 98699, 106290, 132051, 127483, 106159, 152827, 156126, 20764, 47662, 163018, 155300, 103655, 102992, 47680, 117902, 144263, 103441, 47732, 57090, 110872, 165945, 69724, 54765, 91165, 47782, 199475, 155217, 47805, 47810, 80062, 47815, 162943, 47830, 174399, 87190, 70628, 152954, 135956, 47869, 52895, 98163, 140216, 81312, 77385, 178678, 181750, 47909, 130983, 92599, 134059, 172775, 47984, 155595, 97721, 48004, 175190, 116836, 48027, 138872, 37048, 127703, 48056, 136325, 44233, 48078, 171061, 187525, 136573, 69255, 127765, 68471, 128271, 48121, 111432, 154077, 196057, 48156, 48173, 48182, 48202, 48210, 174867, 165106, 188261, 156915, 112078, 117154, 167503, 101354, 48276, 102749, 48288, 85627, 112430, 145449, 48328, 59415, 116590, 48340, 48349, 48350, 80659, 115418, 139504, 48391, 51542, 174538, 48404, 122577, 143765, 197897, 122728, 69019, 124007, 194058, 148427, 131004, 68691, 153376, 48461, 48462, 126657, 126941, 190444, 48514, 146743, 48518, 113915, 189599, 48532, 72971, 158299, 92092, 156015, 54330, 36570, 177641, 142639, 48581, 172746, 156281, 91048, 80921, 44668, 48642, 64556, 133150, 73839, 194116, 48685, 150550, 80408, 60362, 48700, 117759, 147056, 191737, 146001, 115210, 116556, 186814, 101760, 178153, 164414, 166272, 162221, 171412, 194719, 164462, 79092, 97747, 170229, 111448, 70994, 72285, 79253, 48892, 169695, 142797, 143911, 177625, 189112, 148589, 52932, 97713, 48962, 182165, 181992, 67011, 81056, 184136, 129286, 62731, 100179, 111830, 189856, 54919, 20597, 154697, 49104, 183003, 78413, 49112, 92197, 163052, 197444, 126491, 146325, 151350, 49166, 152380, 1700, 49226, 97873, 118280, 49240, 49241, 49242, 147754, 83602, 184801, 173502, 88129, 172102, 49269, 181416, 181458, 106827, 87887, 164117, 146063, 104816, 48430, 185457, 154337, 78911, 67659, 183582, 85394, 97932, 129354, 100216, 49383, 49409, 179159, 124968, 131028, 179393, 177097, 139629, 180665, 127004, 49497, 171140, 149704, 184428, 134269, 115835, 76847, 170195, 49551, 50116, 171792, 131755, 98496, 49603, 140493, 116246, 54769, 190630, 125431, 187220, 67472, 49667, 81536, 199398, 67239, 108246, 49715, 155117, 62093, 133217, 154479, 104551, 49785, 49799, 49804, 148916, 49829, 152046, 49837, 164597, 49857, 184725, 99490, 176259, 166683, 49883, 49886, 118945, 93594, 54689, 67668, 173523, 62959, 83114, 140565, 191299, 49972, 162933, 158905, 91368, 49996, 174856, 89440, 50025, 95813, 184295, 170821, 154536, 143443, 79140, 195928, 59546, 121595, 117245, 50138, 134625, 196560, 173847, 35024, 51911, 74064, 194076, 135180, 173205, 119928, 50185, 50189, 103766, 109107, 50196, 50206, 50219, 90067, 184555, 55491, 51454, 154678, 50257, 119671, 158838, 96940, 161165, 90692, 50314, 149987, 156527, 152409, 84141, 50340, 91488, 141268, 50347, 102830, 154735, 124246, 172982, 123842, 50374, 50378, 162873, 144562, 189750, 148046, 100921, 112531, 50435, 95062, 192724, 190098, 133732, 174876, 50490, 175653, 81760, 50507, 50511, 107489, 65419, 121010, 143068, 59339, 69577, 181870, 137181, 181478, 164380, 50618, 177545, 65267, 94032, 104639, 171135, 110399, 116727, 50665, 140362, 190210, 185011, 199282, 181919, 179811, 143074, 148171, 141008, 50742, 72215, 137928, 180005, 142645, 98350, 198685, 181722, 50782, 50788, 50799, 139224, 196785, 164981, 162498, 130415, 156154, 168702, 158474, 50862, 149878, 50875, 121361, 127058, 151088, 196058, 159987, 91460, 122078, 187428, 174719, 171053, 50932, 135598, 162723, 50959, 146797, 145656, 155011, 174034, 195366, 104343, 110573, 121649, 81690, 171752, 51023, 94484, 73585, 51039, 145683, 51056, 57206, 162165, 51096, 51099, 87998, 51105, 51111, 188365, 121529, 51119, 110907, 196101, 166292, 157300, 51153, 52965, 112929, 51180, 140446, 142894, 51191, 198418, 51202, 150217, 51228, 93647, 142353, 103391, 139865, 127455, 101744, 122271, 82339, 164185, 77898, 171727, 137729, 194306, 181476, 124295, 193302, 160111, 101927, 78849, 190382, 152602, 121597, 51314, 51320, 88889, 197156, 51350, 160382, 51358, 25730, 152464, 163392, 51379, 187189, 101712, 51387, 112438, 162220, 127078, 51420, 146009, 51426, 151944, 51482, 149790, 168268, 51514, 109214, 88338, 125377, 149002, 177354, 124106, 182873, 162080, 155232, 101066, 109793, 51589, 137691, 110466, 80574, 51619, 161059, 90670, 140316, 51637, 183040, 136609, 171237, 153215, 92810, 109092, 130079, 197523, 72509, 178072, 118191, 140336, 152912, 114020, 135349, 51733, 51749, 182180, 169842, 52148, 51766, 163226, 193639, 51775, 98448, 51810, 157538, 190634, 51825, 88067, 140271, 169614, 51842, 51843, 170274, 196226, 51852, 162257, 167134, 102022, 29901, 79579, 141810, 173251, 51916, 51919, 139849, 94264, 51921, 125129, 134136, 51934, 51945, 137244, 160619, 80427, 51996, 51998, 129197, 52009, 194591, 52011, 82660, 150266, 189099, 125109, 144089, 83106, 95321, 52076, 52089, 34510, 182656, 199635, 53701, 170137, 176851, 52108, 88039, 52117, 52118, 52126, 148157, 53092, 127030, 184257, 156138, 159470, 97184, 84763, 183370, 165617, 77718, 78440, 136771, 182931, 183826, 159283, 82650, 197302, 120663, 137203, 52290, 119969, 158018, 181491, 190179, 141019, 120689, 136349, 98854, 164445, 47126, 64178, 134369, 55040, 153780, 143241, 173522, 75216, 52442, 188251, 193246, 131031, 187898, 145836, 52478, 160083, 122387, 136922, 153851, 52500, 197691, 107590, 52537, 113338, 178505, 78109, 156357, 171101, 166103, 140385, 52553, 52555, 52556, 94931, 52562, 145417, 52586, 52591, 52596, 124815, 52605, 117719, 173229, 164797, 52628, 90356, 52655, 158336, 93092, 93818, 63338, 58966, 146970, 106865, 159486, 65561, 157937, 52735, 173351, 192502, 99150, 52807, 58312, 52827, 169362, 113615, 52855, 175409, 135812, 31535, 154034, 110565, 171621, 137130, 187666, 156401, 76724, 52922, 52926, 166716, 107832, 178099, 99771, 161481, 54826, 111408, 179321, 192643, 192500, 172248, 171381, 139570, 73662, 92918, 123641, 53055, 159213, 79466, 185871, 167994, 103573, 149977, 79357, 53160, 53166, 194158, 151605, 147210, 53205, 155125, 126118, 123551, 72558, 53271, 54970, 155346, 172510, 53292, 94256, 171338, 103776, 112646, 53311, 53315, 53318, 187190, 80871, 118637, 53329, 94980, 53337, 98789, 110047, 143118, 104932, 142611, 139456, 99973, 113223, 137524, 196133, 182190, 61968, 53402, 53403, 135731, 113399, 88297, 12900, 72342, 154279, 186188, 149380, 68329, 53483, 189997, 171488, 171909, 53508, 137988, 113943, 175224, 168685, 128922, 195574, 53589, 188785, 53608, 109430, 53636, 53639, 150973, 67063, 128852, 53709, 77971, 136506, 53737, 176605, 184518, 55177, 77051, 162210, 75829, 62702, 53762, 111128, 133309, 173342, 56880, 53796, 162915, 53814, 78864, 114460, 95709, 189735, 53863, 152910, 53886, 53888, 196200, 123418, 53943, 198260, 130237, 133292, 166312, 53975, 187661, 79921, 198760, 54019, 136352, 85382, 174386, 170420, 113639, 154280, 80253, 72284, 185204, 186338, 54114, 175033, 86192, 97217, 120496, 54145, 139657, 164202, 176672, 66602, 155203, 195052, 192099, 54195, 164701, 168228, 88421, 54207, 197930, 161090, 54234, 54238, 54247, 54254, 110581, 63393, 90205, 187316, 54275, 45745, 113645, 54300, 173966, 76146, 121290, 54313, 156441, 193545, 54325, 54329, 42289, 101479, 86751, 57525, 163847, 54364, 140651, 190450, 181009, 87499, 196135, 148111, 194888, 54404, 157948, 29204, 89759, 54427, 199538, 56294, 41250, 169591, 54445, 2866, 83753, 103550, 151298, 167324, 54460, 162182, 167169, 55971, 54492, 124579, 130885, 181761, 54535, 54536, 176287, 82041, 138735, 64527, 148583, 138565, 54584, 91355, 186043, 70753, 112302, 190092, 94374, 100556, 54675, 49127, 94345, 94813, 54728, 123236, 165124, 154349, 93119, 64476, 122559, 142783, 125380, 167243, 166809, 124431, 54823, 127522, 179014, 186946, 150236, 199057, 54869, 90522, 149781, 54901, 188721, 107665, 114185, 54926, 162261, 63697, 182453, 177227, 75670, 128059, 196806, 156879, 99952, 54994, 187298, 54997, 119916, 55009, 55011, 81621, 199308, 63646, 62931, 129920, 100508, 44400, 55101, 55117, 55121, 198272, 143866, 55131, 55133, 120447, 174873, 55167, 150849, 55175, 184291, 55221, 90340, 55248, 120924, 67807, 55253, 156963, 89341, 55292, 184032, 55317, 72023, 177364, 102574, 104367, 194017, 163100, 55398, 55412, 180243, 194201, 55427, 55429, 55432, 163903, 55438, 121044, 120898, 79695, 196324, 130970, 116692, 37809, 159630, 192314, 150769, 62481, 121922, 171060, 175778, 126211, 55536, 84095, 55541, 127664, 55565, 27690, 55571, 159848, 55578, 78666, 196081, 163183, 72671, 140929, 100097, 79399, 103034, 81691, 15626, 140838, 161023, 176794, 181953, 198335, 193699, 101792, 187842, 108513, 55677, 55711, 66111, 172691, 55736, 189332, 89752, 107977, 55779, 166824, 83884, 148730, 151060, 150214, 55813, 70525, 75618, 55822, 142274, 55843, 197698, 141774, 55856, 149367, 187926, 175279, 197104, 156550, 100602, 80070, 55918, 81962, 177119, 55937, 17197, 142929, 141748, 182684, 78892, 55984, 55991, 55993, 177218, 56026, 63019, 103093, 91839, 56064, 171470, 176112, 56087, 188457, 177556, 99519, 155716, 56121, 190897, 99922, 56138, 153787, 167040, 84987, 56177, 56181, 125440, 56190, 193294, 166980, 109682, 152437, 56209, 152559, 56219, 147448, 56229, 166511, 85498, 56249, 157796, 188618, 76221, 106258, 130049, 189504, 56328, 193337, 148378, 141695, 143687, 128164, 63966, 174579, 56425, 143423, 31913, 92082, 134903, 108938, 56445, 119348, 142990, 117109, 56470, 198593, 102041, 56490, 56495, 186726, 56501, 102229, 56515, 56517, 175821, 148694, 77070, 56556, 121660, 193468, 56573, 128781, 69234, 118317, 90031, 56607, 173373, 193400, 107484, 56618, 170623, 133745, 56633, 144595, 59878, 56653, 98501, 137984, 56672, 85310, 160355, 25899, 56688, 179810, 71551, 159350, 178106, 112599, 56736, 71602, 152770, 56821, 161593, 170384, 137306, 61826, 170961, 128814, 145997, 149825, 187436, 56950, 56957, 56964, 194366, 156976, 56982, 172111, 56990, 57018, 128593, 188082, 193004, 95788, 158908, 158331, 121718, 175174, 57102, 57109, 187622, 76078, 57141, 57154, 67947, 156949, 64927, 189503, 192568, 199679, 57191, 115161, 91910, 57224, 172268, 95831, 139165, 107228, 123027, 100521, 111825, 93127, 97860, 138994, 129636, 142826, 116657, 127618, 170529, 104430, 57399, 111388, 57417, 37166, 150240, 98441, 165040, 83478, 146424, 198634, 144648, 172888, 60549, 96890, 57465, 57476, 57485, 57489, 173460, 57507, 57556, 65951, 130090, 176930, 45224, 153045, 57610, 106305, 148655, 193355, 143579, 142139, 132679, 195434, 198529, 143510, 183289, 57664, 144128, 73788, 141609, 169855, 101097, 110945, 57720, 188210, 116703, 198955, 139780, 169658, 67161, 97278, 86591, 140068, 57798, 177334, 118179, 190887, 121077, 99552, 74851, 132657, 118943, 81432, 154303, 160191, 197956, 158566, 173476, 57888, 57897, 120220, 57902, 194102, 185150, 197554, 101368, 107781, 57952, 192833, 111299, 131196, 101093, 181839, 168779, 191487, 99854, 177466, 120191, 191139, 138788, 91184, 75165, 191220, 74559, 139682, 167220, 124979, 186580, 58109, 137749, 189757, 105581, 187653, 136119, 58133, 93086, 58137, 152282, 58162, 110172, 130045, 172371, 58171, 119966, 159427, 126938, 75563, 114457, 142871, 71646, 58213, 113273, 88521, 177151, 196147, 151149, 108933, 110585, 192629, 58278, 119846, 166295, 58298, 196683, 38884, 120762, 122959, 58318, 95660, 58324, 148412, 58357, 178401, 61615, 58365, 58366, 196457, 58389, 62485, 58408, 62975, 144436, 186256, 58421, 71273, 139004, 58427, 58434, 58449, 58457, 58470, 58486, 133897, 148800, 99394, 66901, 87306, 200018, 58535, 81821, 101518, 108420, 58587, 58590, 58594, 196832, 128598, 89365, 58613, 72872, 96022, 162007, 66755, 180459, 70203, 73200, 58701, 130707, 58721, 58725, 58740, 150009, 58754, 58758, 58759, 176229, 20418, 142159, 58806, 144813, 58811, 153532, 58822, 100093, 116272, 65713, 156376, 58891, 153245, 147790, 142900, 102961, 134690, 58899, 58903, 66897, 58920, 72201, 139667, 66976, 185668, 99841, 58974, 92007, 73446, 97641, 180198, 59079, 65582, 195086, 128371, 91232, 162472, 161636, 171007, 130448, 161047, 138724, 126297, 95871, 187826, 92622, 79205, 59202, 166249, 59226, 59243, 59247, 182440, 59254, 96264, 108726, 133499, 196544, 59341, 59347, 59365, 59404, 59409, 89857, 65200, 161343, 59429, 59433, 5837, 182468, 171124, 118979, 59480, 59483, 67021, 154040, 69762, 59543, 153165, 151366, 117057, 188726, 61253, 192361, 98809, 59614, 80898, 59633, 149240, 59645, 59664, 185029, 59666, 59667, 130257, 59687, 98947, 59707, 178378, 59717, 195228, 59737, 55748, 70254, 59794, 59810, 59828, 59831, 194127, 98397, 116528, 156935, 139367, 155221, 129802, 184627, 59921, 167116, 59925, 120883, 59933, 59951, 139850, 175701, 59957, 182741, 139544, 59969, 59971, 73577, 146332, 134111, 194877, 110381, 195599, 122855, 144780, 99137, 60080, 60093, 60096, 161600, 142096, 60127, 60136, 60151, 138129, 191692, 77641, 128686, 100920, 60201, 60202, 191390, 87011, 177967, 190447, 196164, 87897, 188577, 108207, 189967, 160050, 60242, 60243, 179080, 175562, 60260, 155643, 60265, 140792, 80104, 60303, 105915, 78775, 172422, 181537, 60340, 143763, 178982, 194763, 65079, 176431, 60400, 60409, 92618, 126273, 122125, 148616, 60439, 116618, 139749, 115573, 136368, 60466, 173771, 131828, 120043, 60485, 144789, 60516, 190253, 150569, 136023, 60535, 60547, 19167, 83803, 129937, 148165, 60577, 180106, 75957, 158404, 60618, 179421, 71720, 135242, 158982, 135312, 190479, 60646, 60649, 75763, 197921, 60655, 198866, 60673, 107125, 149675, 60684, 100898, 122363, 72779, 194246, 60724, 157726, 195219, 60741, 108586, 95379, 60773, 199861, 60795, 60803, 70550, 60824, 194948, 60825, 76737, 60871, 112956, 106244, 60878, 65590, 145040, 139535, 60921, 74167, 131151, 93287, 167173, 73137, 61018, 170962, 137519, 163164, 110090, 61089, 61090, 144058, 61120, 188237, 61157, 61173, 163957, 61179, 123039, 61183, 115487, 61209, 158550, 185702, 61242, 121346, 134074, 105066, 167199, 84846, 61291, 138052, 71745, 61299, 193911, 43394, 61307, 134032, 77432, 72096, 112355, 135932, 61335, 61353, 96809, 114672, 163720, 170689, 146634, 61403, 56908, 187955, 150795, 190616, 158114, 176215, 170865, 89087, 89683, 61481, 126467, 80440, 101646, 61507, 61799, 1815, 142566, 111782, 136531, 72348, 120153, 78304, 61584, 72251, 61588, 61596, 95362, 115477, 101782, 191244, 109230, 61654, 61655, 67773, 61659, 197425, 186015, 82076, 139058, 88461, 73106, 144807, 61730, 138001, 113004, 157802, 100264, 161056, 197579, 61776, 183362, 107650, 155558, 186195, 117298, 73643, 141389, 127783, 189467, 157562, 61834, 127033, 102523, 197826, 56331, 115910, 104477, 61870, 199310, 194233, 61925, 175195, 61934, 199664, 154137, 180262, 61963, 138638, 62002, 129210, 173978, 177297, 104476, 62033, 148291, 86499, 62055, 62059, 96232, 62074, 62080, 62091, 109543, 112314, 101075, 62113, 62114, 117111, 62136, 131583, 165069, 123439, 66319, 144202, 126306, 62182, 94131, 172867, 62262, 97114, 108477, 81267, 94809, 149415, 62301, 176891, 155396, 140160, 197551, 151831, 62360, 97149, 171495, 69212, 136852, 149169, 101561, 62410, 62411, 105606, 170891, 126162, 62457, 132121, 117060, 112320, 184013, 36454, 170624, 163706, 62503, 74564, 149690, 62548, 179576, 95287, 160781, 166535, 160045, 177759, 186710, 62655, 121188, 62667, 64493, 62689, 62695, 141984, 191643, 62706, 127944, 109804, 196320, 164099, 141009, 62790, 66114, 178042, 141936, 136457, 172232, 85392, 87322, 136360, 75415, 178000, 7271, 138871, 185072, 62908, 73055, 74452, 167452, 62946, 71805, 125758, 145889, 179531, 62995, 109771, 78750, 119235, 63186, 147062, 63048, 138339, 63059, 139242, 63078, 113743, 162192, 181802, 50514, 189213, 172430, 63143, 134112, 126625, 63180, 80992, 156333, 63224, 144516, 63250, 43625, 68571, 63282, 71289, 63289, 154135, 81279, 179843, 63325, 174081, 63329, 63341, 73086, 68705, 63348, 98468, 135450, 174913, 140942, 166368, 97819, 188290, 176616, 127119, 146607, 87925, 63493, 188818, 19691, 66577, 91871, 12435, 63544, 183793, 191766, 182127, 188528, 167123, 63575, 130147, 108862, 63581, 169984, 140846, 107957, 63609, 175062, 181404, 181536, 183765, 147438, 119119, 152893, 117429, 142819, 63714, 63715, 140552, 114272, 153428, 120576, 135507, 136003, 128414, 127628, 99548, 148121, 63783, 111385, 76779, 97376, 72033, 161209, 63843, 63845, 188653, 94991, 33935, 142093, 189348, 194718, 109861, 196722, 63873, 63874, 63879, 123960, 152142, 63911, 168944, 90876, 71523, 64292, 163968, 63983, 114116, 63999, 144643, 165277, 64022, 64056, 190802, 64062, 64070, 141825, 101243, 107863, 109964, 153792, 64130, 148215, 64155, 159580, 159299, 64180, 187209, 154134, 54700, 88976, 126311, 91638, 131530, 59554, 87940, 163825, 64304, 144152, 64317, 97049, 190796, 64381, 176162, 125386, 64396, 198898, 64430, 115945, 104433, 145006, 116141, 64472, 178183, 124688, 193718, 167226, 187590, 183636, 113453, 191425, 163670, 167986, 151546, 110428, 64550, 92002, 77201, 130124, 64585, 173404, 88957, 64602, 168185, 183840, 176340, 64684, 76980, 64706, 92900, 126513, 158886, 64746, 64753, 64779, 64798, 177138, 173754, 55522, 64870, 83457, 117932, 95096, 90781, 145372, 64925, 64944, 64951, 145793, 88760, 80636, 131248, 73011, 133248, 135808, 92294, 196868, 171466, 65051, 178015, 82884, 65084, 139280, 65135, 135715, 176233, 174923, 65190, 65195, 143647, 65219, 177980, 65262, 65266, 107407, 191927, 147476, 58356, 114331, 142407, 65310, 96767, 65348, 87490, 153901, 126017, 65398, 65402, 164313, 166585, 177371, 65504, 84647, 172271, 65514, 160864, 65524, 95289, 175569, 180810, 169314, 189114, 159584, 148330, 180740, 65627, 73227, 65642, 65653, 88701, 126895, 188963, 65677, 65679, 187551, 195665, 137101, 111172, 107775, 102020, 168074, 65783, 191538, 125898, 65818, 157327, 155101, 70400, 174330, 65892, 65893, 99542, 65902, 85616, 118838, 127452, 65941, 65942, 195011, 99222, 130460, 114479, 143055, 65992, 198104, 65999, 84062, 178497, 165611, 175231, 66036, 66042, 123685, 171186, 97484, 103752, 128024, 66115, 114835, 163098, 66139, 66145, 134644, 66157, 119425, 66169, 82510, 79201, 189190, 79700, 146624, 66197, 187915, 66234, 106320, 66265, 194488, 149683, 149811, 66294, 127472, 66304, 184732, 190244, 199078, 66383, 189033, 66389, 176136, 154474, 133032, 88307, 66430, 106652, 121633, 78771, 105822, 66495, 170859, 66511, 66523, 166722, 153950, 66533, 182803, 163800, 192877, 104078, 108024, 66585, 160238, 181572, 66628, 187260, 152307, 159124, 120660, 66649, 83308, 187495, 153556, 181040, 79301, 161954, 180831, 175134, 66774, 66776, 150739, 167525, 167668, 158411, 184472, 103258, 68195, 79423, 172578, 120693, 82938, 66854, 85396, 171164, 93964, 97711, 95907, 105473, 66895, 85775, 135617, 66911, 172699, 162762, 66949, 66952, 74902, 66989, 47812, 148528, 67043, 67046, 67057, 82285, 101406, 67071, 67073, 189698, 186163, 149630, 82497, 158439, 133607, 191986, 128418, 63921, 192159, 67139, 67140, 88454, 180146, 67175, 67181, 86800, 152227, 67217, 67218, 100615, 145974, 67228, 67247, 141461, 117941, 182515, 114910, 126422, 67288, 108553, 116361, 118388, 67326, 115255, 193771, 161308, 67372, 67378, 153777, 99166, 144499, 146646, 88489, 109831, 135755, 172373, 165598, 67442, 67454, 67458, 133327, 159936, 149547, 79665, 80842, 91751, 128948, 199742, 169876, 67514, 180304, 85455, 83116, 188776, 67571, 86609, 192341, 41890, 95454, 128454, 170574, 67652, 56060, 67682, 67683, 67688, 195295, 67717, 175276, 154012, 90636, 67728, 130114, 67771, 199775, 156834, 90158, 195811, 165996, 67858, 171683, 170512, 167072, 67876, 132522, 99205, 157512, 90785, 70245, 72844, 162799, 96600, 131477, 187953, 83971, 68061, 135055, 126355, 190500, 159432, 90778, 74936, 190476, 68104, 68112, 187474, 68123, 68124, 114931, 137555, 130771, 175414, 68158, 68167, 74734, 173547, 115734, 68178, 68180, 68190, 68191, 143368, 118720, 116681, 68224, 119407, 68247, 183698, 149810, 165958, 68284, 121427, 68307, 32274, 72423, 156057, 68370, 69628, 149312, 98515, 200148, 143089, 120304, 143393, 68431, 193816, 68438, 68465, 68469, 164516, 68491, 70883, 114287, 183679, 139951, 68520, 148982, 68530, 68533, 175309, 134919, 160376, 68556, 68564, 105818, 68594, 68608, 66757, 112485, 155299, 76321, 68643, 91036, 173890, 144871, 68670, 68675, 126998, 110747, 17828, 137458, 96552, 117883, 68724, 118516, 178343, 73159, 104203, 156280, 134427, 68794, 68800, 68811, 85746, 68824, 87089, 169989, 81665, 68856, 100351, 68862, 68866, 150820, 183151, 85295, 147457, 163162, 121608, 160115, 188176, 169030, 69034, 158878, 88843, 69055, 195157, 158385, 161286, 193426, 69103, 199071, 84551, 14630, 199128, 105927, 198262, 69708, 69221, 192098, 157482, 47938, 189695, 69250, 144929, 131787, 69293, 132841, 69331, 169125, 85867, 171992, 129350, 157919, 73110, 88860, 74204, 136258, 69407, 69408, 198710, 100103, 69457, 138404, 153192, 174004, 138892, 126061, 102831, 69506, 184476, 97753, 126047, 85214, 134306, 69549, 123672, 69567, 69573, 150397, 138665, 150880, 115680, 73224, 69646, 194724, 165025, 189696, 83383, 69710, 191651, 138347, 69740, 69765, 118276, 170847, 120602, 77739, 96035, 154503, 69827, 184449, 193638, 69861, 139510, 116457, 141003, 69889, 167291, 157521, 69910, 198870, 69942, 69966, 168822, 197935, 161358, 126621, 156303, 197326, 70030, 150418, 109627, 101047, 135735, 92762, 36898, 192281, 196830, 73215, 142948, 70131, 153477, 97684, 151337, 176687, 196194, 125363, 147583, 142315, 180332, 197686, 150915, 172227, 134922, 84480, 110394, 76911, 183311, 94427, 70343, 160265, 99449, 70353, 70386, 70396, 70398, 70405, 115920, 70418, 70445, 112876, 91801, 154871, 70468, 129036, 134711, 75727, 70496, 187417, 149362, 70523, 82672, 104346, 48531, 70558, 70568, 131082, 119742, 193061, 70601, 70602, 138606, 105334, 92223, 103562, 70667, 70669, 106564, 70711, 93981, 70736, 74858, 46833, 101986, 70774, 193528, 7731, 183834, 70811, 131077, 151007, 83138, 97660, 80065, 70838, 70839, 107698, 91231, 78194, 70913, 161614, 93196, 86250, 70960, 70970, 70971, 170490, 104293, 70991, 198315, 152257, 71002, 71004, 172986, 164609, 71032, 183578, 192567, 119637, 114794, 91126, 127643, 108478, 130722, 186055, 104747, 140326, 154204, 80317, 145310, 71229, 196105, 161026, 155029, 138847, 134097, 84622, 108913, 114076, 162218, 71343, 90977, 124785, 85375, 194402, 198074, 184109, 146132, 194457, 71385, 71407, 68034, 162326, 113917, 137943, 169050, 98316, 195060, 169987, 152447, 73664, 71530, 94902, 195026, 125196, 81742, 71578, 102905, 75027, 80492, 71610, 199930, 71626, 71650, 71667, 71669, 116756, 67429, 126839, 116925, 131264, 106817, 131729, 71724, 71735, 72417, 101213, 194470, 71776, 181554, 170370, 140742, 124948, 71862, 190430, 74503, 71901, 127928, 110163, 71929, 102580, 139306, 71952, 188447, 71983, 128667, 171152, 155115, 149637, 191979, 72046, 72051, 116792, 172842, 141926, 158130, 114800, 57459, 125938, 127623, 129790, 79002, 72118, 193860, 157901, 167412, 91943, 147263, 195630, 72173, 83499, 72181, 103368, 156443, 72579, 72217, 160458, 80407, 79059, 72240, 160950, 128673, 194571, 72281, 72289, 183482, 176425, 72309, 122126, 72328, 180341, 94814, 158567, 88242, 158816, 72413, 187588, 87160, 58448, 172392, 123121, 194536, 72473, 133657, 98504, 72515, 136850, 112012, 179046, 72535, 115093, 154218, 72613, 30824, 74329, 75187, 168726, 81019, 193041, 72679, 181971, 127040, 126596, 72722, 92384, 72745, 172289, 72757, 115593, 186920, 166560, 186351, 198408, 106453, 72803, 72814, 72831, 190236, 102213, 133978, 172679, 141540, 135085, 136332, 72937, 154823, 72953, 164543, 166080, 154537, 189039, 167097, 119419, 73022, 73051, 151323, 143835, 73079, 73082, 167056, 112353, 161446, 73087, 88631, 147700, 73142, 182487, 73173, 73176, 167786, 73186, 198802, 73201, 125182, 134277, 152799, 18955, 138497, 183257, 73239, 73256, 135345, 167682, 73269, 167632, 124126, 73303, 153779, 118252, 115820, 73317, 163104, 184196, 144698, 73332, 153365, 192073, 116709, 127176, 73407, 73417, 86268, 170472, 73436, 70107, 167736, 150676, 135068, 124221, 107176, 198010, 156628, 94149, 103485, 105591, 73536, 112415, 75532, 73568, 163022, 145168, 73584, 73591, 73624, 133170, 195003, 73629, 27531, 73646, 73851, 172935, 83117, 133546, 93390, 73698, 117195, 195567, 142734, 175795, 73743, 152194, 138402, 146185, 133159, 73770, 103924, 129536, 4081, 143441, 176520, 157134, 120516, 144921, 193166, 125769, 73884, 180934, 153304, 150783, 173824, 132292, 83865, 171547, 42789, 73973, 190209, 195621, 30600, 163300, 74028, 87888, 74045, 74068, 128159, 171507, 154322, 120398, 74152, 74156, 99159, 100520, 104707, 156836, 154184, 74222, 107040, 190298, 134014, 113109, 74248, 173470, 199485, 109828, 149033, 157702, 191742, 22814, 158595, 167762, 106179, 185069, 74405, 186308, 74425, 101443, 157850, 74475, 74502, 161342, 155672, 98064, 150208, 156268, 74536, 74563, 74570, 74580, 195685, 74586, 93633, 79078, 121057, 179499, 74640, 133474, 191502, 74654, 96780, 74684, 155732, 122459, 106184, 74690, 110342, 141524, 85953, 136715, 126228, 160383, 94696, 74788, 171534, 74822, 193000, 160630, 86037, 101017, 89822, 190290, 153648, 74907, 74909, 102201, 74932, 185960, 5205, 159614, 158803, 74972, 185023, 125147, 180959, 121973, 160606, 153669, 189522, 134629, 191008, 172834, 88492, 166099, 183777, 97064, 80975, 129183, 76074, 118233, 75079, 30817, 96321, 158590, 123430, 75104, 86461, 106723, 130705, 161083, 99993, 150158, 75168, 118807, 75183, 192399, 75186, 125581, 162367, 171051, 75220, 75222, 116151, 160016, 120239, 75248, 158919, 141224, 185507, 75293, 120942, 90302, 142046, 166056, 75329, 140331, 96318, 147506, 164146, 75379, 115857, 172818, 75397, 87394, 148344, 169422, 160994, 169748, 177376, 105808, 75468, 175045, 170434, 75534, 75554, 183760, 95391, 27707, 46674, 106228, 75584, 75597, 173166, 75628, 75657, 123366, 182594, 185021, 75709, 75712, 45410, 75722, 139597, 195520, 104989, 176864, 75765, 159097, 103629, 178107, 168052, 75844, 113920, 198488, 196392, 138285, 181214, 177220, 145392, 139790, 75905, 75917, 75918, 105549, 75981, 152150, 76001, 74927, 149844, 183815, 176640, 76038, 76052, 76059, 168891, 115872, 171739, 105003, 51412, 182872, 121876, 76124, 76125, 131361, 136745, 183514, 118126, 179817, 63563, 5031, 108844, 134415, 132898, 107618, 140729, 76253, 76258, 171856, 76271, 171849, 165533, 76347, 109364, 76359, 147800, 197765, 171516, 178853, 98161, 121471, 152071, 194323, 76483, 143967, 76495, 76515, 134524, 91246, 144140, 63632, 142359, 88261, 76602, 125137, 76607, 161667, 76614, 89324, 158280, 83315, 177818, 180937, 76659, 190777, 87032, 117754, 181183, 153954, 185050, 34018, 76753, 76766, 194494, 120137, 105870, 65156, 190198, 199747, 149416, 76844, 114002, 109582, 146967, 98234, 175648, 84038, 137296, 91447, 39473, 125778, 180924, 76957, 115460, 167868, 102477, 171010, 198735, 77042, 77045, 143990, 77077, 77081, 77082, 101861, 91092, 77115, 192038, 152246, 77120, 92229, 121767, 129551, 156856, 176899, 77150, 77168, 77171, 153164, 77179, 159437, 87178, 77190, 77205, 77217, 151049, 77238, 110625, 117806, 96191, 171264, 131252, 195486, 183603, 194574, 77328, 130325, 77344, 122424, 176535, 173987, 77372, 33844, 100791, 45776, 77404, 77434, 77437, 167848, 162803, 77453, 159237, 167030, 77495, 77496, 93767, 131417, 133274, 77524, 180127, 77554, 151058, 146575, 77569, 77580, 77585, 104330, 113988, 77607, 77609, 54659, 196804, 77682, 185378, 77705, 122969, 193161, 127580, 151733, 188623, 77758, 77794, 77797, 192666, 77841, 173589, 95640, 77862, 119474, 130770, 139929, 191798, 127709, 78709, 77933, 158962, 77961, 170886, 186487, 77997, 77998, 161780, 112390, 116135, 92912, 162754, 123417, 148531, 102487, 78075, 112431, 78078, 112878, 97435, 78095, 91635, 84050, 200165, 78169, 187334, 155264, 78185, 192404, 154711, 179778, 186705, 78250, 78254, 140793, 96355, 78287, 78299, 115603, 147704, 138529, 107508, 78345, 78370, 85983, 89104, 73761, 78421, 78452, 117676, 178520, 83984, 91613, 78476, 137740, 183304, 186835, 86611, 154272, 164280, 103725, 183776, 144356, 157357, 78534, 122174, 78542, 107050, 90800, 81371, 78549, 78552, 78567, 141760, 134694, 78673, 78695, 78710, 78736, 78740, 80312, 103257, 78761, 147309, 179678, 78803, 112740, 78852, 109124, 175152, 164309, 115338, 113365, 129175, 197717, 78945, 104690, 194185, 101051, 181857, 154418, 78996, 163381, 135025, 40884, 130842, 79052, 79057, 180581, 117703, 126774, 124955, 79170, 104338, 79225, 147360, 184129, 167912, 160978, 171102, 113883, 163775, 198284, 147397, 95043, 161377, 160232, 50926, 105555, 144818, 133094, 86622, 162783, 87066, 98032, 79456, 160468, 79468, 161170, 79495, 193411, 79513, 110677, 79559, 147014, 138886, 165985, 155569, 143230, 139765, 47843, 141178, 79643, 79650, 79682, 79688, 60526, 79715, 116129, 154531, 99255, 100466, 173732, 119788, 79784, 174845, 158292, 79831, 79833, 174963, 60004, 151287, 181589, 171935, 148684, 173422, 79978, 79982, 79988, 127818, 187595, 168708, 192155, 80063, 129480, 120115, 182169, 111822, 57342, 144945, 102265, 71424, 80151, 116541, 152470, 126646, 182708, 80209, 80210, 80222, 102366, 80232, 191096, 162738, 182434, 138688, 133991, 166346, 192761, 192546, 183650, 182963, 80352, 80353, 80359, 143502, 80387, 80404, 122441, 72472, 177049, 60542, 80481, 115933, 80489, 105080, 80512, 136777, 80524, 114659, 114106, 199706, 80545, 132484, 166804, 145934, 106987, 80577, 182240, 125116, 102037, 83460, 105979, 120757, 127893, 80640, 118037, 133110, 182484, 121314, 104363, 129466, 163980, 20280, 83737, 165108, 173440, 153256, 111901, 108122, 189547, 187326, 171137, 80920, 107725, 80939, 193751, 163403, 186021, 133887, 171265, 107899, 139018, 80999, 177983, 156214, 135997, 123304, 192692, 135508, 179902, 87704, 177926, 151618, 158075, 172961, 81139, 81154, 95249, 99848, 74910, 15954, 149888, 81236, 102643, 114337, 81269, 157686, 160668, 58026, 179396, 174721, 151938, 99607, 176353, 111147, 175863, 145815, 177464, 195276, 178939, 81498, 139419, 184222, 198317, 93306, 105663, 30676, 178186, 159826, 115230, 81643, 81644, 81657, 168658, 185928, 160767, 147221, 164627, 143699, 140801, 193276, 197158, 93424, 133009, 116191, 81787, 121758, 160724, 94120, 81845, 145450, 199928, 186267, 193666, 184344, 81902, 85097, 89359, 81956, 119674, 81982, 96374, 81987, 135619, 108723, 118598, 82045, 189963, 151101, 82063, 143197, 104261, 140986, 181994, 82088, 115216, 179117, 86618, 125612, 10614, 135197, 136191, 126939, 154321, 92664, 198884, 4571, 114086, 82204, 161958, 199052, 82237, 162183, 104280, 115279, 164942, 82276, 132849, 192252, 58973, 67270, 82325, 99869, 139120, 176246, 181558, 198849, 188130, 161425, 92235, 82390, 177396, 92070, 149798, 26658, 199760, 86178, 186648, 129531, 82463, 112951, 82501, 82528, 82535, 82536, 82541, 143228, 131487, 171996, 82564, 82569, 149120, 151589, 82602, 150900, 144576, 169024, 177383, 185689, 82685, 82702, 162642, 109439, 112003, 94710, 109974, 143732, 82755, 132629, 149088, 127574, 114490, 121602, 155278, 109340, 130240, 195371, 82863, 171074, 140948, 194656, 128789, 148706, 170254, 194193, 172967, 110965, 83018, 93071, 102518, 189633, 160163, 83056, 99673, 171367, 83079, 83083, 83087, 83090, 132609, 83123, 83143, 154785, 83166, 199170, 142659, 83188, 83227, 83237, 96233, 117509, 173151, 194966, 83267, 191740, 111695, 145952, 154015, 152544, 83316, 133778, 178871, 155290, 83341, 148506, 87747, 105913, 165161, 186187, 94317, 183240, 83416, 114818, 103146, 125250, 83428, 172669, 179912, 116409, 127925, 83569, 183451, 102837, 138080, 99132, 119690, 83665, 185149, 83685, 194984, 83695, 144897, 115148, 145124, 179653, 68892, 126282, 144029, 195074, 195001, 163271, 197177, 150624, 132718, 113541, 83875, 185399, 184177, 155023, 83892, 195698, 167626, 83913, 182956, 83915, 187529, 97481, 118757, 88428, 122396, 84078, 84091, 188706, 140652, 84117, 131193, 140681, 84160, 160684, 175590, 165306, 126566, 123383, 161113, 84272, 129935, 84286, 196175, 132080, 84326, 139049, 161354, 100780, 84367, 166384, 181720, 79143, 90801, 125539, 160509, 145609, 140895, 84468, 127095, 84481, 84484, 84487, 100548, 175681, 84519, 173290, 110993, 84538, 100552, 178479, 84544, 129230, 182194, 194844, 95435, 84615, 84617, 84618, 138851, 128214, 179005, 84664, 188625, 92848, 122131, 84746, 161236, 117616, 84782, 178051, 99014, 101645, 84815, 85599, 73005, 90252, 178919, 84867, 84907, 127314, 84923, 133396, 177723, 84953, 171015, 166083, 92799, 129022, 85000, 189736, 196020, 34348, 197421, 85043, 117578, 85049, 85050, 143653, 189632, 152930, 85084, 156710, 120725, 132458, 85095, 85130, 85145, 85157, 127538, 147350, 194085, 85162, 172214, 85189, 121444, 85200, 24234, 177280, 85228, 190641, 192419, 126160, 85307, 85320, 122428, 85339, 85343, 75370, 85366, 145301, 194278, 152862, 149074, 85439, 156791, 87934, 117084, 46071, 145745, 85481, 92397, 154150, 85523, 199076, 168016, 175720, 195509, 85543, 165785, 85546, 85562, 85085, 85588, 85589, 85592, 85618, 112318, 146238, 196674, 85730, 85736, 85739, 143206, 149677, 92160, 186010, 138559, 154238, 85821, 197049, 194726, 129490, 85071, 136291, 127466, 153422, 114451, 111340, 164264, 85995, 148965, 144179, 86022, 115333, 86039, 139936, 133820, 137299, 172889, 126056, 86076, 100413, 188192, 132464, 178959, 161074, 154087, 102367, 26980, 86172, 193212, 86181, 194347, 86211, 86218, 86223, 110490, 86255, 86261, 86269, 86279, 188626, 86346, 116561, 86370, 163055, 97750, 86389, 112850, 86404, 173434, 198102, 195767, 93469, 110236, 111619, 91341, 146453, 173853, 194717, 86502, 185432, 86517, 7280, 101475, 124028, 86545, 165585, 121813, 176161, 86589, 134114, 180334, 86607, 170507, 162435, 86636, 10691, 86657, 173854, 86667, 137473, 150374, 132107, 90329, 137865, 166376, 88601, 86778, 139155, 86794, 163454, 195840, 86805, 172505, 189524, 86879, 151764, 105024, 86896, 166746, 199832, 156899, 136144, 150696, 86921, 134025, 157036, 106555, 86992, 164530, 101472, 87015, 134204, 87053, 159337, 178373, 178404, 87076, 147825, 174954, 154567, 87115, 129184, 164615, 124406, 120713, 87204, 188526, 87206, 103773, 190766, 87303, 133487, 145123, 123405, 39658, 157716, 87356, 173492, 87402, 151476, 179131, 189666, 87448, 161051, 150899, 149615, 118320, 75143, 87482, 87483, 117097, 144062, 182581, 181021, 179551, 87533, 144811, 107193, 90664, 146068, 87589, 87591, 156219, 178225, 87603, 143773, 87638, 87662, 193196, 87686, 129849, 87764, 103985, 170951, 172319, 87806, 108721, 87827, 122410, 139554, 87855, 160297, 87884, 87915, 188843, 115110, 87954, 195617, 87965, 87970, 175301, 186190, 137047, 57650, 55664, 88022, 154166, 63300, 88053, 188769, 108138, 88100, 171573, 90966, 88130, 146415, 94990, 143480, 106104, 151484, 88211, 88226, 88229, 145728, 88245, 142995, 88883, 195166, 185654, 132436, 82764, 156079, 123681, 88404, 93174, 88444, 88445, 183192, 99280, 196168, 88471, 88473, 120776, 197286, 88496, 88501, 157936, 88510, 164304, 88512, 88524, 88530, 88544, 88556, 88599, 88621, 110012, 114610, 152066, 88679, 125517, 160875, 190725, 88747, 151853, 137960, 175365, 152937, 136815, 149354, 120421, 88824, 185112, 88839, 88864, 88866, 173999, 186700, 88872, 172734, 187596, 108537, 129217, 88947, 159559, 88970, 88972, 88975, 88979, 116009, 99096, 178699, 171163, 186026, 103513, 143050, 89124, 89126, 180224, 89137, 190159, 172624, 89160, 171307, 135415, 89178, 160172, 89220, 166540, 89244, 181910, 158998, 158719, 89264, 89284, 89300, 162554, 170336, 169935, 148719, 89373, 89382, 135147, 190590, 114120, 135791, 89441, 89456, 89478, 126785, 116671, 89488, 155670, 171183, 199080, 145054, 116493, 91433, 89599, 89609, 133759, 89613, 171392, 177638, 165116, 99417, 147974, 184977, 166981, 150628, 197242, 116216, 195015, 182456, 195888, 163344, 76057, 178081, 89798, 184683, 166036, 17469, 187935, 183893, 176066, 188576, 89891, 89942, 121953, 106029, 194284, 169162, 103203, 176056, 89980, 145505, 143882, 153565, 141824, 90007, 90009, 190292, 156848, 134735, 198307, 121542, 111140, 90459, 156668, 171845, 155144, 90113, 90149, 126442, 178519, 152396, 195054, 90251, 90262, 158200, 161834, 169273, 90287, 90294, 197874, 99671, 101940, 90383, 162132, 90412, 138089, 90433, 174436, 144092, 153010, 169033, 132076, 90485, 158214, 110188, 151927, 174471, 190122, 113804, 90538, 151092, 90548, 176011, 145316, 130840, 181237, 126473, 90602, 123059, 163728, 105420, 163778, 90649, 139725, 195209, 90671, 176666, 138948, 108244, 44765, 86646, 174725, 181969, 147930, 90759, 125492, 124737, 127439, 191900, 152963, 184070, 135444, 169370, 110995, 194942, 113481, 163262, 191653, 91071, 91059, 92591, 91065, 134983, 94415, 139355, 91142, 115790, 91166, 91176, 186354, 122400, 98070, 91239, 177044, 91260, 91263, 123006, 152316, 91314, 133720, 91316, 178764, 121345, 173585, 177152, 137893, 181604, 98243, 138055, 197307, 91410, 111643, 126036, 160786, 165567, 91452, 167448, 114017, 145611, 113436, 199111, 139939, 91527, 121534, 91549, 195549, 200028, 131125, 91111, 158497, 130511, 94819, 124512, 198266, 152434, 91642, 141279, 194829, 135518, 149597, 91689, 163826, 126449, 197709, 114429, 91709, 91721, 105403, 91744, 91745, 91746, 95912, 91770, 66189, 181373, 137017, 163630, 156208, 91870, 89658, 91897, 190540, 96887, 98820, 166570, 91986, 176835, 125473, 73791, 92020, 198880, 189751, 162363, 92063, 189960, 92081, 165998, 134967, 92091, 135434, 152053, 118461, 129316, 118728, 92141, 92153, 96781, 114129, 92199, 92205, 190989, 92228, 145128, 130858, 168425, 139457, 137123, 92311, 132850, 92342, 138448, 131160, 92365, 118083, 92382, 148320, 92398, 92400, 92413, 114321, 92416, 92448, 92454, 92477, 191403, 104792, 92537, 147654, 198433, 173875, 162777, 194784, 116077, 57917, 161933, 97996, 92629, 182583, 189239, 93570, 200149, 144325, 133733, 92673, 160534, 92681, 92682, 178490, 194339, 114500, 127549, 122461, 117861, 142216, 92749, 92764, 188122, 162955, 164375, 92833, 92836, 92845, 114259, 98009, 92869, 196826, 139463, 154626, 92903, 157784, 196144, 92949, 110737, 190471, 93008, 108918, 93047, 93055, 93057, 154552, 130660, 162527, 127596, 93176, 193588, 157623, 94600, 164458, 31600, 93241, 116883, 183322, 161370, 93267, 93271, 108317, 93288, 93309, 129918, 138095, 123894, 20041, 139433, 93388, 194768, 102512, 163437, 145573, 161668, 196709, 93443, 169696, 93452, 117663, 93475, 93478, 93483, 93491, 145220, 139317, 181818, 32939, 149855, 93524, 170379, 122615, 93548, 142487, 108824, 156539, 93566, 93577, 98485, 124046, 184565, 93668, 163938, 136516, 93738, 178321, 198858, 93756, 177166, 194485, 197968, 96582, 139190, 199761, 111776, 93799, 158196, 122450, 93816, 172174, 188701, 93843, 79364, 151746, 93915, 93922, 168803, 194535, 93945, 165759, 94007, 109835, 125714, 114600, 164109, 94065, 180598, 95898, 114433, 139863, 184719, 163484, 94107, 159456, 98260, 172484, 108030, 163270, 184188, 167046, 199346, 123295, 197576, 169384, 131245, 148821, 94312, 94314, 94323, 171109, 168063, 94390, 139246, 155935, 3265, 45344, 176067, 178175, 94435, 174140, 162362, 184152, 94463, 94467, 131671, 148545, 139635, 94526, 98900, 151848, 142410, 176558, 103181, 113174, 94587, 191202, 96415, 94607, 94615, 166663, 94624, 94627, 144593, 94651, 158001, 94659, 139675, 159253, 94701, 171836, 181673, 52903, 102160, 123167, 181697, 94793, 94802, 94803, 120154, 199343, 185232, 191545, 143426, 94859, 94889, 94897, 94920, 94937, 94970, 112029, 94984, 95008, 127433, 134897, 145916, 180130, 149694, 95103, 154111, 148078, 135970, 127303, 133302, 95136, 95160, 136925, 95204, 182089, 187810, 110404, 145584, 165348, 132514, 127682, 149979, 119711, 95320, 95335, 144299, 171570, 170597, 95371, 122259, 190102, 72435, 118916, 95469, 159861, 125420, 95527, 98605, 95544, 117311, 95552, 95555, 197321, 95585, 178284, 96294, 95631, 95638, 95643, 176832, 190187, 136448, 121069, 197312, 99595, 193694, 27405, 112179, 98999, 187462, 182436, 195598, 81203, 95906, 199122, 141676, 95920, 166898, 154212, 114241, 95965, 95969, 197739, 96005, 174184, 96014, 122408, 98835, 96025, 96028, 96031, 111337, 96040, 125764, 107318, 96112, 145892, 137668, 166060, 126445, 96257, 164195, 34639, 173176, 168490, 146292, 96365, 130387, 192449, 143110, 96387, 177843, 96397, 96402, 96403, 196546, 105085, 96487, 177656, 96526, 96541, 106606, 166678, 122489, 96570, 156893, 96590, 142289, 152685, 96652, 114815, 132891, 100388, 135574, 104443, 165097, 96730, 167194, 128459, 137985, 96795, 174517, 104447, 178903, 185577, 96851, 177360, 96862, 154381, 131108, 188883, 117669, 126203, 181428, 101667, 123198, 96943, 99780, 96966, 50725, 96989, 96997, 158866, 190785, 134459, 175918, 194620, 192872, 95352, 97091, 97103, 115998, 97111, 139559, 97227, 123399, 97240, 97260, 123857, 45541, 97294, 97305, 153863, 133565, 97341, 171609, 97356, 97406, 97416, 97436, 97437, 97453, 185694, 116201, 109356, 97546, 118691, 163217, 97617, 97630, 142181, 197303, 102231, 180678, 198533, 132059, 176272, 97706, 63889, 192243, 124256, 167983, 97760, 177060, 165117, 97780, 97799, 97807, 192788, 97828, 97849, 180462, 150713, 97878, 199992, 103227, 174514, 97889, 97917, 144363, 116642, 97955, 123451, 97972, 97977, 179596, 97999, 98002, 162845, 111569, 98028, 19666, 128272, 164094, 129753, 115055, 135828, 98090, 149224, 98120, 98148, 146665, 199981, 98196, 146427, 162447, 116055, 119112, 132524, 105230, 121107, 98286, 147559, 116030, 108945, 98324, 98364, 100929, 138752, 110060, 122478, 98407, 193229, 189416, 98486, 98494, 126501, 111004, 195287, 156646, 98532, 142119, 98543, 98555, 193202, 98566, 114049, 98590, 127678, 199390, 179186, 148461, 170686, 153328, 1365, 3893, 101117, 160399, 98718, 98743, 98752, 48799, 98766, 98770, 162289, 109279, 200110, 56887, 98810, 98815, 98824, 98850, 101635, 98911, 161816, 98932, 188481, 146380, 180346, 150179, 75556, 142653, 99020, 174442, 99046, 163973, 99067, 165798, 157400, 170722, 127592, 99134, 99146, 99156, 99169, 99189, 125624, 99206, 99216, 199400, 99237, 195562, 150023, 101807, 173453, 102932, 148530, 99269, 133244, 137262, 197010, 103667, 183203, 159487, 106099, 164155, 99374, 182929, 154677, 99387, 99397, 184701, 176090, 99422, 198885, 99448, 184229, 118658, 127942, 124842, 145465, 171115, 101752, 165207, 99531, 124291, 99533, 147784, 99540, 99547, 99549, 150685, 197692, 99570, 151221, 99606, 99612, 187122, 99620, 99645, 119799, 131276, 103855, 99699, 99710, 117132, 117508, 182568, 130846, 155189, 99770, 158553, 188918, 99801, 181353, 181955, 99863, 109965, 181380, 172880, 99900, 134704, 125335, 141896, 188181, 99980, 100013, 166737, 135285, 145564, 127579, 171356, 125509, 161215, 125340, 123076, 168207, 100689, 100241, 127794, 162835, 105958, 157575, 118948, 199093, 197151, 125125, 100357, 186566, 100366, 156054, 126746, 100381, 133850, 114573, 100407, 110612, 100430, 100464, 100480, 151736, 162330, 100506, 196254, 105079, 174784, 100567, 121311, 100595, 133456, 141014, 146902, 194138, 187536, 107904, 170804, 100656, 186292, 136373, 100663, 110522, 119289, 108671, 166375, 100749, 191882, 195945, 100763, 133945, 155551, 100801, 112488, 100818, 152861, 112747, 100856, 175581, 133585, 168737, 100897, 198563, 100941, 100958, 157859, 100968, 172355, 100994, 169182, 114904, 105621, 175516, 185314, 101073, 155354, 184184, 101102, 101113, 109180, 199973, 170987, 177861, 103696, 101160, 101168, 116522, 154057, 101198, 173498, 156294, 106695, 147132, 160292, 108507, 107978, 180126, 101309, 161513, 127251, 175030, 173503, 101384, 194580, 101450, 163917, 101467, 166191, 179568, 162120, 154825, 143066, 171600, 116412, 168836, 101565, 157146, 177438, 101577, 176845, 116523, 131835, 195315, 142627, 101698, 101715, 101716, 137160, 140835, 127250, 197319, 106878, 101778, 101835, 141479, 186991, 146930, 101909, 121263, 191726, 101921, 140873, 101941, 146877, 189408, 176565, 198130, 102032, 123684, 158752, 142716, 124241, 181782, 191283, 174006, 128586, 24061, 148524, 117160, 185882, 34531, 157631, 102195, 162699, 102217, 114838, 102267, 15828, 173752, 102296, 186736, 151510, 179961, 141381, 79956, 154283, 172048, 118110, 163490, 131162, 102457, 138411, 102480, 193865, 185497, 125275, 102522, 102528, 166284, 181812, 102642, 102575, 183607, 102604, 102611, 26722, 185426, 114377, 102676, 166166, 102700, 119061, 155818, 119430, 187517, 109575, 102780, 118860, 102793, 120018, 141634, 186327, 174324, 102893, 148911, 102923, 102925, 102934, 197351, 102942, 102947, 102981, 102984, 185220, 175604, 131238, 103005, 20361, 138252, 116308, 178267, 103149, 123513, 119479, 103176, 103183, 178434, 103189, 103197, 119393, 124631, 103208, 180495, 194917, 15647, 165462, 122562, 103279, 164486, 31983, 103374, 103317, 103336, 189484, 70129, 156481, 103407, 103412, 155272, 84395, 110649, 155926, 147618, 167712, 174909, 103493, 159386, 135322, 135683, 103548, 136167, 134652, 103555, 103602, 103610, 180384, 103668, 172262, 155319, 159646, 170933, 191410, 145487, 103774, 103788, 183678, 103796, 133441, 103822, 139342, 169817, 103863, 103865, 185909, 149482, 103978, 123415, 103981, 159640, 129834, 129129, 195835, 104015, 104027, 138597, 159568, 123033, 104083, 108084, 142713, 104113, 104123, 104135, 198724, 155092, 168805, 70240, 177179, 140454, 142204, 104246, 104259, 191896, 104350, 104361, 135820, 197980, 163741, 104393, 180850, 36323, 104425, 135219, 104435, 129458, 161488, 150708, 159411, 178915, 78979, 104535, 157448, 172329, 104599, 105508, 104616, 156317, 104624, 156724, 157791, 75878, 171153, 126010, 140815, 197105, 113364, 196604, 192139, 107625, 104823, 109551, 104859, 104873, 170076, 104889, 104927, 155652, 104962, 182493, 188897, 127569, 104999, 143761, 105033, 105040, 129765, 105921, 105142, 175671, 116875, 121117, 105213, 105215, 150421, 161483, 165404, 105252, 181561, 167552, 179017, 194220, 137266, 120448, 190407, 105315, 105347, 105354, 113922, 105368, 192320, 105380, 189656, 181185, 105416, 132979, 105441, 123305, 113237, 105489, 105492, 105495, 130315, 105544, 105550, 105557, 29452, 195122, 112486, 130475, 105626, 193106, 168776, 105744, 105755, 128499, 105767, 174746, 162529, 108614, 139208, 153665, 160525, 105836, 178451, 105873, 193325, 160076, 29763, 121160, 129023, 105972, 118771, 179231, 154217, 109730, 106013, 118045, 106053, 197882, 106100, 118515, 184187, 139620, 193062, 146470, 181528, 189748, 106215, 135192, 111528, 159400, 192974, 146661, 151152, 106274, 196538, 169917, 106348, 125144, 190095, 105499, 176824, 173228, 178035, 175639, 106486, 148477, 176953, 157364, 180502, 180571, 154905, 158225, 106552, 171850, 106559, 41394, 119751, 125097, 106584, 196013, 106603, 132359, 111941, 165363, 138378, 133921, 106689, 106697, 170074, 106711, 130734, 106775, 106785, 128838, 106798, 106806, 185425, 165935, 122973, 140705, 106883, 185940, 145664, 147430, 106928, 162692, 106981, 161783, 193123, 158330, 139146, 107049, 107051, 137044, 148683, 119913, 107070, 168585, 26175, 178336, 194401, 168960, 107154, 112795, 117105, 140164, 127766, 90092, 125093, 107234, 181320, 188980, 192793, 140202, 60437, 161852, 146497, 147945, 107355, 138864, 107381, 141920, 107388, 173019, 130856, 160889, 107563, 166406, 107568, 107584, 107601, 130601, 107615, 159428, 123150, 107637, 180199, 195270, 179955, 107758, 166736, 117502, 159891, 166381, 128452, 144348, 139386, 137241, 107930, 152460, 107964, 182241, 164576, 107993, 107997, 147684, 189589, 111939, 108040, 100802, 199272, 108136, 188556, 182176, 24993, 196270, 145518, 97616, 117187, 108408, 124567, 108418, 108450, 141343, 158364, 164713, 121316, 108563, 158549, 154800, 123903, 131708, 108604, 163805, 108621, 83821, 187543, 187807, 163293, 108676, 196310, 164250, 116443, 136377, 108728, 108743, 111510, 148364, 108834, 124927, 149466, 108896, 108900, 108907, 156635, 108944, 135083, 135569, 132967, 167470, 111991, 109025, 198349, 109149, 109171, 109207, 109212, 109244, 109255, 150059, 109266, 109316, 109339, 109354, 86488, 109393, 138678, 168662, 73529, 178010, 197420, 109530, 112228, 115911, 109621, 140973, 151769, 138368, 158494, 166777, 136974, 109798, 197651, 109852, 181941, 117542, 155576, 141596, 170141, 109920, 149059, 131321, 115599, 172488, 109947, 190560, 109994, 165976, 184582, 164278, 179214, 42330, 110065, 65111, 110092, 110107, 194487, 175614, 110154, 110156, 110161, 110167, 110173, 197482, 163578, 110206, 163846, 118775, 170146, 193023, 149576, 64370, 158272, 169705, 196841, 110425, 179904, 165245, 194668, 110452, 66630, 172456, 110477, 102988, 147919, 8120, 134893, 131713, 186996, 112093, 193386, 146280, 151424, 110640, 187592, 110672, 110681, 180995, 110718, 185793, 161341, 112909, 181595, 186336, 168028, 176265, 110853, 126791, 154554, 110960, 110963, 157138, 141980, 110975, 110998, 145696, 111020, 111021, 186541, 111040, 167591, 111146, 137533, 191607, 111156, 111185, 150752, 111228, 111245, 111247, 147729, 129403, 111263, 167303, 111336, 198764, 197280, 146096, 79014, 133201, 123810, 131220, 111428, 186063, 153355, 111488, 165053, 159196, 189271, 123002, 115309, 127716, 141601, 119073, 151878, 129598, 127812, 111725, 174637, 137645, 111745, 111764, 166784, 128923, 165602, 111807, 111838, 111842, 111849, 111850, 111851, 162565, 185757, 144044, 111920, 84716, 111964, 177233, 113948, 111999, 192518, 112019, 112045, 112051, 133494, 167851, 147657, 141026, 116431, 185218, 172225, 191093, 125248, 189089, 112209, 159904, 170546, 112252, 112253, 194119, 112313, 112319, 162273, 112371, 198414, 136029, 165208, 112489, 112490, 44490, 200032, 112519, 181691, 153680, 112558, 183751, 191231, 24455, 112582, 156908, 172253, 112620, 184123, 184120, 173831, 95382, 194140, 137066, 177696, 154547, 127832, 184241, 112797, 175844, 169625, 112847, 128637, 157437, 112889, 175384, 112906, 28284, 161439, 133787, 113021, 113029, 113053, 113059, 157169, 130386, 113091, 76934, 113102, 113103, 130069, 164189, 190916, 113193, 113212, 164716, 150804, 106671, 113233, 130515, 113253, 113254, 186210, 113266, 105627, 146857, 113299, 113302, 142026, 182909, 113324, 173315, 113328, 148917, 113863, 179450, 167389, 121300, 113421, 113460, 174846, 155855, 113511, 119029, 174500, 113526, 130819, 130841, 162287, 185010, 113608, 144027, 174891, 126457, 132116, 178444, 189409, 113751, 120678, 197784, 162451, 113796, 113852, 146609, 113879, 190935, 144623, 168524, 161960, 197385, 151310, 113975, 171539, 155695, 116316, 152955, 157603, 114096, 114099, 194313, 158628, 114192, 114196, 114197, 114208, 66516, 130274, 195025, 162255, 134767, 184382, 114292, 114317, 114329, 136823, 199025, 114419, 114423, 114425, 116241, 114484, 191006, 191562, 181230, 114516, 39185, 153829, 175324, 150175, 167020, 153013, 156479, 114643, 165518, 124736, 117667, 180953, 115320, 122278, 114768, 183952, 152561, 128127, 114813, 135435, 183185, 140710, 182995, 142562, 198240, 171677, 114942, 172293, 150884, 114991, 177234, 180609, 144218, 149495, 115109, 163989, 200128, 136173, 187281, 55506, 115153, 131695, 115168, 147996, 115073, 199587, 127038, 109973, 115290, 115334, 173379, 115363, 158108, 164683, 161220, 169186, 139584, 185679, 115494, 115498, 154833, 148067, 115566, 165125, 115591, 131548, 165913, 115659, 48351, 115703, 119821, 115710, 178933, 115739, 42977, 200182, 198544, 145524, 115817, 173499, 115851, 113552, 196142, 123075, 115905, 131025, 196143, 156667, 115943, 115956, 115957, 153819, 191611, 115995, 122727, 123050, 174185, 116019, 181905, 116038, 192671, 145810, 199041, 116053, 154153, 116069, 116101, 116112, 116205, 162295, 187118, 162746, 172970, 154318, 134484, 155531, 107431, 116327, 193842, 116363, 136297, 199615, 116379, 137366, 172821, 176398, 193269, 195671, 160271, 161261, 116521, 125243, 140522, 140989, 139107, 181005, 116587, 187895, 116623, 146708, 24796, 196136, 116661, 133543, 162568, 158694, 116701, 16629, 156129, 116784, 59050, 118407, 116906, 186042, 116924, 191472, 167974, 134697, 157754, 116941, 180983, 116951, 188278, 180626, 179763, 117013, 116080, 117124, 172636, 186108, 117167, 126911, 170042, 182148, 117232, 147793, 117286, 151426, 117314, 170129, 126530, 169620, 12871, 169809, 117390, 119712, 170289, 117465, 162199, 158950, 170831, 117488, 117520, 117522, 191758, 117555, 118070, 188672, 60844, 183937, 117665, 144877, 168333, 115875, 163389, 117755, 160351, 181420, 192007, 117798, 117802, 199887, 195876, 133705, 117886, 145931, 117918, 135017, 162737, 178346, 136931, 118014, 118024, 194298, 177236, 118047, 145175, 118060, 195431, 118134, 199669, 118128, 118138, 165512, 118150, 152271, 176941, 198258, 182048, 118205, 146290, 178012, 192819, 140241, 118314, 29129, 162424, 177554, 130405, 156601, 118437, 118513, 141637, 185210, 118631, 38085, 183511, 118706, 118715, 177002, 138317, 130084, 118760, 143588, 118788, 148322, 154898, 38638, 142292, 174347, 178358, 115745, 118974, 84569, 118992, 198065, 171438, 130175, 124652, 134585, 119092, 185552, 119111, 166404, 119152, 119214, 136816, 119225, 155046, 119264, 131544, 119308, 119319, 139175, 170658, 183983, 119369, 144614, 119395, 139164, 156763, 149935, 165780, 119544, 119555, 165531, 119595, 180071, 119623, 176342, 122798, 175369, 192817, 119704, 168394, 160737, 145622, 183620, 119856, 119867, 119871, 119879, 127123, 177342, 176975, 119974, 167629, 112801, 158432, 147585, 150901, 189929, 120076, 107240, 167247, 161110, 196390, 153409, 189758, 49546, 120359, 120364, 146920, 134457, 172301, 120419, 125457, 120444, 120488, 120510, 136876, 192515, 167982, 189093, 172642, 120608, 120645, 110435, 120659, 134968, 127141, 164854, 13098, 148652, 120754, 120781, 120798, 185136, 120833, 120842, 135124, 158968, 120911, 133107, 120953, 184792, 186293, 109829, 163264, 159839, 121030, 162239, 121092, 121111, 121467, 171174, 121171, 121176, 43377, 129100, 121224, 153871, 121229, 163456, 121234, 39835, 121292, 121293, 147141, 121352, 106541, 125501, 173066, 132770, 121423, 191112, 121470, 167573, 144185, 121558, 52043, 53625, 130551, 121722, 169792, 170288, 121755, 186505, 121782, 125897, 197678, 139752, 136914, 121835, 181370, 164814, 147773, 131701, 191446, 127679, 121978, 196768, 121990, 166209, 121993, 122034, 122318, 166243, 122047, 122050, 122063, 156505, 170793, 122121, 122138, 122144, 171325, 162588, 122180, 193828, 85041, 122228, 190418, 119332, 163884, 146175, 122280, 122325, 146945, 194703, 122392, 122416, 122418, 123816, 184987, 171633, 122490, 131992, 122583, 167700, 122589, 122609, 122626, 122639, 174212, 191279, 125593, 198752, 122702, 165206, 165521, 133245, 178945, 170183, 162031, 168659, 122843, 92216, 122891, 145831, 122908, 124813, 157030, 122972, 123010, 123028, 183663, 123048, 123053, 123056, 159750, 199454, 123133, 124393, 138541, 178150, 198160, 161271, 177222, 139872, 196183, 141829, 162594, 159271, 123378, 142043, 123390, 123398, 190759, 172716, 123459, 123470, 123487, 123497, 123501, 65401, 195812, 155550, 123555, 142712, 132507, 181269, 123577, 143742, 152808, 123636, 159275, 123676, 194038, 150433, 123749, 140279, 164561, 123780, 147961, 177511, 154453, 123801, 176880, 196443, 123818, 123834, 123855, 174349, 123871, 198507, 173977, 150933, 195805, 123908, 123942, 123969, 160995, 156814, 174456, 124057, 173356, 179508, 194418, 183095, 168686, 148394, 141488, 125094, 188550, 147008, 183886, 193840, 197616, 160418, 175080, 103648, 170989, 128877, 197305, 131476, 151062, 124521, 173500, 180535, 174499, 183066, 124574, 190873, 124598, 132350, 124637, 124648, 155024, 129123, 191640, 167182, 124721, 124740, 132767, 124818, 124825, 162389, 124862, 164584, 172487, 166350, 137981, 171226, 125054, 12509, 165204, 127459, 125150, 125151, 166127, 125166, 130882, 125177, 199124, 192540, 190730, 173402, 134633, 125236, 185280, 166723, 125254, 115437, 125320, 167546, 165152, 190977, 125388, 125415, 177003, 157441, 125495, 177216, 157759, 125514, 125533, 181466, 187052, 125596, 144130, 125635, 148598, 155941, 125226, 138008, 125706, 147502, 144636, 125735, 130878, 191368, 150050, 125806, 128828, 125891, 151957, 103704, 125915, 180246, 183591, 152664, 133343, 126050, 180054, 126060, 126083, 173972, 172994, 126152, 126156, 126157, 119201, 126205, 126224, 169734, 185595, 186339, 126314, 173753, 185996, 126356, 135098, 184117, 151125, 169891, 126468, 200127, 137382, 126718, 126572, 125851, 184838, 126638, 126642, 146696, 132145, 139957, 94334, 194650, 174362, 149266, 126757, 126762, 153713, 157774, 190799, 136992, 126899, 144779, 160717, 127012, 127060, 135717, 166906, 193253, 34417, 127121, 158063, 99762, 187157, 158209, 127209, 144370, 187237, 127285, 127290, 190968, 127333, 181663, 186087, 177668, 178914, 88042, 139339, 136420, 191288, 142787, 164681, 188185, 127523, 132960, 127540, 148198, 127553, 128212, 189251, 142444, 127589, 68663, 82278, 127639, 127688, 144942, 157866, 56066, 173493, 191074, 127757, 127779, 127782, 127784, 127786, 143519, 127804, 180197, 127816, 158122, 22125, 127887, 129688, 167560, 127953, 128005, 147936, 145347, 111262, 128022, 128065, 128090, 179611, 157507, 128135, 128153, 128162, 128184, 13985, 157075, 128187, 149988, 128240, 174977, 150047, 143620, 186588, 128323, 91005, 191200, 176188, 128485, 128492, 181352, 27177, 128525, 168283, 192050, 128566, 178393, 190953, 128732, 151441, 131728, 185305, 128771, 128772, 146724, 128788, 122623, 134387, 176301, 149162, 155757, 129139, 166576, 181189, 138625, 171843, 148763, 129279, 146303, 146777, 129344, 181068, 129357, 129386, 187823, 168192, 176654, 129425, 168962, 154024, 129452, 99240, 129491, 175724, 112237, 129597, 129599, 129615, 143010, 169204, 188086, 129642, 150555, 129712, 129714, 129725, 145249, 177189, 129810, 153260, 152469, 154731, 189700, 170749, 129847, 146044, 129888, 158188, 163276, 172503, 167836, 158121, 184165, 129996, 169504, 184328, 184309, 130155, 130160, 130225, 130227, 182699, 156461, 130249, 130261, 91292, 170365, 130340, 130353, 130357, 130368, 189519, 130374, 163735, 130408, 158948, 130464, 191401, 130534, 143673, 167644, 130612, 130643, 61142, 187925, 176774, 153681, 140398, 130790, 171064, 159724, 176455, 130932, 131029, 131051, 156805, 131149, 131159, 131164, 131215, 75088, 159312, 79264, 191408, 131332, 131358, 131363, 131385, 157577, 131455, 172761, 167290, 177514, 170209, 151968, 131560, 156568, 183605, 187338, 139771, 161211, 185299, 179824, 187483, 182547, 131773, 182017, 164652, 187567, 171521, 131879, 147765, 131888, 164160, 131920, 134738, 131983, 140809, 131999, 153645, 192592, 186356, 170615, 132089, 131269, 132165, 132196, 161764, 132237, 132326, 177256, 132438, 196199, 146236, 147994, 132528, 136113, 182099, 142731, 132567, 81017, 153617, 180606, 187069, 166424, 188612, 132776, 132781, 132829, 98178, 8820, 181289, 132938, 138637, 195720, 132974, 110008, 133007, 144577, 193153, 191362, 133084, 25356, 134669, 184779, 133144, 183822, 194082, 170960, 166462, 198368, 189117, 169223, 145104, 173233, 133260, 156226, 180287, 133299, 133373, 184758, 133479, 182674, 193293, 133519, 85111, 197157, 191666, 160918, 148009, 133636, 133645, 139822, 136640, 133735, 133752, 165715, 133782, 139156, 157446, 175938, 133892, 185355, 133941, 158764, 97448, 134005, 138091, 11192, 134029, 157428, 134054, 158765, 134061, 134993, 196228, 186993, 175346, 147036, 134117, 146308, 181764, 178714, 186282, 181806, 134253, 134257, 194382, 199794, 190853, 134396, 134408, 169611, 134478, 169599, 134567, 147709, 184158, 194376, 134628, 188307, 134689, 192874, 150045, 186147, 134749, 185730, 185684, 134791, 134801, 170081, 134817, 134835, 21929, 159024, 134871, 103535, 134914, 165445, 114183, 107867, 190846, 187983, 163774, 150272, 25669, 135084, 155308, 161217, 139694, 135182, 149296, 135212, 135278, 137808, 135294, 135346, 135353, 135402, 142906, 172868, 193119, 135495, 150379, 172837, 153690, 197807, 135603, 167730, 135690, 39953, 135711, 182660, 166724, 187527, 135752, 184375, 182576, 176253, 135802, 136171, 196346, 135855, 169702, 135904, 135927, 135934, 142775, 173621, 136022, 199108, 82805, 164165, 168404, 136129, 142768, 154162, 136239, 169002, 128650, 136283, 189653, 136353, 196224, 136416, 191688, 125052, 132198, 141132, 190973, 166961, 136663, 136677, 171241, 160775, 136718, 154036, 52356, 179806, 136854, 136885, 10856, 136951, 142810, 154063, 167174, 147195, 139785, 161707, 185739, 185572, 137257, 172352, 109649, 159404, 157292, 145680, 141194, 198698, 137410, 170191, 137430, 137502, 148370, 137521, 137549, 137587, 175046, 162624, 137626, 137676, 189167, 137728, 171815, 151606, 137757, 137763, 137781, 137856, 150771, 174226, 185404, 185246, 137963, 137982, 137987, 138002, 138042, 186542, 138109, 141742, 138130, 138132, 138205, 193959, 153620, 138286, 158672, 191123, 165984, 177495, 138342, 138356, 160040, 66124, 138412, 188970, 138451, 189593, 191589, 138522, 145617, 144610, 147501, 142162, 138736, 194371, 192805, 138753, 138759, 196363, 185193, 162899, 162984, 138853, 142764, 138908, 138909, 138945, 138968, 138972, 138977, 138981, 154082, 174063, 139025, 145127, 198839, 139098, 168197, 139142, 151184, 179516, 154832, 139252, 139288, 139305, 139346, 174351, 139412, 139421, 147921, 199396, 186973, 139492, 173950, 139543, 139567, 139600, 151743, 141203, 188031, 131547, 115989, 139755, 188691, 139792, 139833, 153427, 143878, 139870, 163325, 182252, 199145, 185581, 129321, 139992, 141315, 152240, 173525, 151460, 164389, 185293, 148080, 140167, 148526, 140208, 146581, 94943, 140306, 193633, 153768, 199232, 140358, 140372, 140378, 174765, 140442, 193971, 140223, 140474, 144536, 140609, 140631, 178724, 86299, 140711, 172601, 194744, 140780, 140788, 198818, 161126, 198963, 142898, 140896, 176578, 141025, 191236, 177539, 141126, 84164, 141138, 184748, 185545, 185231, 190006, 170926, 141236, 188187, 149118, 190578, 141442, 141464, 141478, 184500, 197227, 181990, 170357, 181438, 141569, 141620, 141627, 141659, 141681, 193006, 141722, 76540, 180963, 141792, 173535, 193831, 156977, 185429, 24585, 162398, 143005, 156774, 154969, 169797, 9070, 189624, 168370, 163459, 196716, 142379, 34118, 142434, 142459, 189606, 142511, 195420, 142643, 142649, 198231, 153097, 142679, 152797, 142791, 142816, 147862, 181649, 178184, 142838, 142928, 178220, 142963, 142970, 167883, 143091, 193873, 195110, 147573, 115172, 143156, 143176, 143188, 158369, 143313, 199868, 161688, 182918, 143356, 154485, 133324, 143471, 178145, 32019, 143546, 164548, 185805, 143565, 156641, 172185, 144668, 79486, 144215, 143746, 176870, 143841, 163431, 152167, 193066, 143870, 143902, 143925, 182474, 193412, 143966, 143977, 177113, 179585, 185901, 153757, 183602, 153755, 145932, 144079, 144137, 144155, 180179, 144272, 179495, 144308, 195171, 161142, 130360, 187718, 161863, 151725, 157822, 144483, 144488, 157622, 144530, 144532, 162263, 157085, 164498, 144597, 144609, 86687, 144681, 176611, 166955, 144731, 180339, 166011, 144762, 167496, 190803, 144845, 144859, 184599, 144868, 144869, 152473, 144910, 144946, 144954, 191476, 159898, 194053, 145061, 194358, 164940, 17713, 109153, 145246, 157693, 179858, 146866, 146569, 197941, 187668, 145553, 145571, 177945, 148550, 159307, 22666, 162687, 119462, 145779, 145797, 145860, 153333, 86559, 184790, 162704, 191796, 145988, 195308, 195374, 146100, 166221, 152668, 146196, 146204, 102290, 146242, 156887, 189598, 146296, 198822, 146357, 191038, 161821, 174112, 168322, 146552, 154538, 197981, 197413, 146808, 187670, 146832, 146912, 168387, 146957, 193747, 174675, 147005, 147006, 191147, 195859, 147165, 147209, 151781, 166932, 147261, 194836, 188871, 197563, 174882, 176232, 200047, 150692, 147462, 187837, 147508, 147516, 163560, 182330, 147627, 182318, 147680, 156185, 157133, 147835, 147840, 147865, 147940, 174610, 127921, 149192, 148058, 148071, 91044, 153254, 188135, 192785, 170618, 148186, 167398, 150976, 148326, 194790, 186492, 168579, 148443, 173609, 135127, 183635, 148523, 161077, 148566, 162393, 148713, 148732, 155313, 197150, 197236, 165059, 148892, 148898, 175214, 148938, 148968, 177982, 149017, 187308, 182870, 149093, 149095, 149175, 149256, 177201, 171204, 182701, 180721, 149399, 149404, 151778, 149499, 158842, 90623, 168786, 189125, 149647, 149651, 149662, 149686, 158083, 172471, 149710, 149712, 179058, 149764, 166067, 167283, 149795, 149808, 168817, 149828, 149836, 179526, 149880, 156319, 184736, 184386, 150042, 198825, 44521, 150146, 189744, 150178, 112574, 163524, 199462, 150247, 51806, 191290, 179971, 8119, 150353, 150360, 146591, 171248, 196464, 150483, 186006, 185492, 163208, 165763, 194101, 174604, 24909, 157460, 162629, 174747, 150792, 150802, 150827, 181553, 186135, 150907, 168233, 192628, 150961, 154783, 161382, 182033, 95026, 151083, 187876, 175218, 175347, 151109, 195867, 197988, 151240, 176526, 151254, 95752, 151279, 151307, 151363, 163722, 151433, 151447, 193557, 151457, 166753, 151513, 151517, 199978, 183426, 157900, 151632, 198232, 165600, 151701, 178353, 174842, 189391, 151765, 151780, 179025, 157468, 160751, 196070, 152041, 176014, 179044, 152170, 180888, 152205, 152208, 152253, 166789, 152259, 152265, 166300, 53490, 161557, 184924, 155586, 197680, 152536, 84958, 164416, 182026, 152565, 152621, 152630, 152642, 194897, 152677, 152724, 171026, 155076, 187962, 166182, 152857, 181390, 152871, 152890, 180416, 152911, 152931, 156092, 161756, 153018, 161455, 196924, 153035, 190153, 153049, 153063, 153065, 174136, 112386, 177838, 183271, 153209, 183205, 180344, 153272, 153288, 153299, 153301, 173943, 159885, 166547, 153809, 171719, 153512, 157291, 166773, 189343, 180238, 185706, 167124, 180889, 153705, 172769, 198991, 91882, 153909, 153945, 158734, 153975, 185781, 35682, 154058, 154121, 188412, 154179, 193213, 183790, 166857, 194072, 53297, 154398, 154412, 154437, 195687, 154462, 154463, 159612, 154584, 176601, 168781, 177094, 89994, 192747, 175984, 154795, 45840, 167420, 160316, 195740, 155001, 168419, 170406, 175281, 71643, 155094, 155148, 193306, 171012, 181207, 126879, 129104, 127484, 43695, 198744, 155502, 161135, 155516, 187581, 155619, 184745, 168648, 109887, 156583, 190218, 155765, 197558, 175605, 199440, 155903, 155920, 172188, 196585, 188368, 172333, 194388, 192532, 162561, 168118, 156161, 156201, 156213, 167528, 168613, 156252, 174237, 175285, 156408, 156442, 156450, 181856, 156519, 156530, 165354, 160599, 190962, 180871, 156711, 156749, 156764, 156821, 156826, 187970, 77857, 156854, 170182, 156937, 156938, 157787, 175869, 172733, 184076, 197750, 165710, 181339, 183548, 180851, 190762, 157284, 185825, 182040, 157409, 157495, 157523, 170485, 157657, 157658, 157704, 157719, 157737, 173945, 157767, 177621, 157820, 63365, 168083, 157957, 158016, 158091, 158095, 163428, 161080, 158170, 158178, 185638, 158268, 174396, 194112, 103009, 168260, 4131, 190901, 196710, 194024, 165074, 53930, 158428, 170720, 178047, 194884, 181123, 180781, 158691, 158771, 174042, 167862, 187754, 161672, 171542, 199421, 190927, 148689, 159179, 159269, 159314, 159395, 159396, 159631, 197817, 172305, 183670, 159734, 159735, 164568, 159860, 159867, 159875, 186999, 161288, 160129, 195663, 160230, 189914, 165995, 160248, 198103, 160397, 160436, 161910, 172436, 160567, 160682, 160712, 160785, 160798, 160824, 188476, 180777, 160931, 164581, 160989, 199247, 192089, 161349, 188652, 161378, 161452, 161502, 178425, 197456, 40720, 161592, 178313, 161712, 161770, 161873, 191470, 179727, 162212, 168887, 177507, 162216, 162240, 162380, 162386, 162428, 146405, 194765, 197406, 162589, 162608, 197854, 188273, 192544, 175254, 188555, 167405, 177771, 172299, 170402, 170536, 166481, 177266, 163275, 163335, 163339, 183204, 166337, 179447, 65102, 163624, 175492, 183183, 171510, 163742, 197140, 163863, 163908, 163920, 169626, 164191, 164213, 164215, 164238, 164247, 166924, 180958, 197051, 169134, 197020, 164373, 164381, 194971, 196047, 195495, 170491, 171098, 164567, 182225, 164671, 186396, 177066, 164773, 184556, 196905, 164846, 164855, 164877, 193956, 189721, 173675, 164964, 169673, 191104, 165597, 179112, 166828, 165453, 165458, 169517, 196625, 168985, 187938, 171078, 165644, 178268, 189220, 165771, 165796, 146776, 165962, 165980, 180316, 166069, 166075, 166165, 197849, 166247, 186047, 188953, 180324, 187047, 166307, 185137, 183962, 167972, 185001, 166352, 193319, 190593, 166453, 166533, 190548, 166594, 166611, 197041, 166882, 172547, 166959, 184437, 198213, 183873, 167131, 167160, 200145, 177630, 198457, 182303, 187979, 198452, 178610, 167578, 167583, 88026, 167766, 167800, 183331, 186844, 168046, 168122, 168181, 196986, 140065, 168420, 197836, 168491, 169997, 187861, 172409, 168789, 168804, 188822, 75424, 173986, 174785, 168839, 182254, 169209, 168918, 168941, 168952, 173733, 174259, 113684, 169082, 185725, 196288, 183558, 30836, 173307, 132957, 194661, 169253, 169277, 169395, 169418, 190501, 169529, 169550, 169551, 200054, 169675, 184004, 169706, 169743, 169777, 179729, 178359, 169825, 169896, 174065, 170022, 170058, 18459, 170073, 170105, 170808, 170186, 184064, 170258, 170281, 170308, 185277, 187251, 170501, 170587, 170633, 170651, 168328, 170666, 188522, 185543, 133028, 170745, 170780, 98040, 193421, 174029, 190482, 171052, 171104, 171133, 197978, 177806, 197999, 171434, 171560, 171571, 171587, 200111, 171624, 179936, 182951, 171710, 192945, 171897, 188737, 184644, 172093, 172191, 180087, 181329, 180847, 199064, 172338, 172360, 188109, 191833, 185373, 172508, 172570, 195966, 172715, 172747, 198787, 194848, 176724, 192627, 177935, 181043, 189641, 173712, 173742, 183374, 121076, 184088, 173879, 183097, 187779, 141757, 174093, 174319, 174378, 193258, 174430, 178911, 174670, 187922, 186179, 197473, 174940, 175002, 175064, 175116, 175228, 178773, 192441, 179079, 175550, 196552, 189546, 175637, 176973, 175746, 179315, 10178, 175975, 183418, 119922, 197755, 200135, 180580, 176343, 176817, 176412, 181763, 199056, 176554, 176662, 176674, 185904, 176943, 199085, 195102, 177085, 185275, 177238, 187072, 184520, 177598, 35665, 177698, 42471, 177835, 48068, 178007, 18093, 178136, 179460, 178245, 185972, 178411, 178464, 178596, 185714, 184716, 154456, 178726, 184958, 178744, 178745, 178767, 178808, 178818, 191054, 198161, 183332, 123408, 179355, 199888, 185412, 179663, 199749, 179689, 163126, 136594, 179882, 160580, 180039, 195423, 180167, 180265, 191395, 189245, 187415, 188544, 187231, 180646, 180932, 183947, 180735, 186103, 181004, 188393, 28625, 186882, 181789, 181469, 194312, 193801, 199833, 191081, 181888, 181945, 194212, 182170, 189152, 182357, 183784, 182971, 183088, 183145, 183234, 183291, 183358, 160542, 183869, 190449, 70487, 184296, 184307, 184308, 184411, 199518, 184465, 184624, 184673, 184913, 187135, 194579, 185435, 185438, 185489, 191315, 185788, 185818, 116256, 186012, 198475, 192214, 114461, 119063, 192918, 191416, 186832, 186898, 188172, 198077, 187153, 187325, 124999, 187516, 189201, 187886, 188098, 188150, 139609, 188498, 188657, 188990, 196373, 189298, 198922, 189740, 189934, 189975, 189993, 195469, 194039, 190212, 194373, 191305, 141075, 191579, 199625, 198800, 191759, 191797, 195396, 191855, 191869, 192167, 193773, 179869, 199455, 193134, 193448, 198436, 194068, 194334, 194387, 195878, 194756, 195341, 155617, 197124, 195437, 195502, 195709, 196316, 196198, 198004, 197463, 197398, 198274, 197861, 199771, 199894] in column item_id during transform",
     "output_type": "error",
     "traceback": [
      "\u001b[0;31m---------------------------------------------------------------------------\u001b[0m",
      "\u001b[0;31mValueError\u001b[0m                                Traceback (most recent call last)",
      "Cell \u001b[0;32mIn[18], line 7\u001b[0m\n\u001b[1;32m      4\u001b[0m sequential_train_dataset \u001b[38;5;241m=\u001b[39m tokenizer\u001b[38;5;241m.\u001b[39mtransform(train_dataset)\n\u001b[1;32m      6\u001b[0m sequential_validation_dataset \u001b[38;5;241m=\u001b[39m tokenizer\u001b[38;5;241m.\u001b[39mtransform(validation_dataset)\n\u001b[0;32m----> 7\u001b[0m sequential_validation_gt \u001b[38;5;241m=\u001b[39m \u001b[43mtokenizer\u001b[49m\u001b[38;5;241;43m.\u001b[39;49m\u001b[43mtransform\u001b[49m\u001b[43m(\u001b[49m\u001b[43mvalidation_gt\u001b[49m\u001b[43m,\u001b[49m\u001b[43m \u001b[49m\u001b[43m[\u001b[49m\u001b[43mtensor_schema\u001b[49m\u001b[38;5;241;43m.\u001b[39;49m\u001b[43mitem_id_feature_name\u001b[49m\u001b[43m]\u001b[49m\u001b[43m)\u001b[49m\n\u001b[1;32m      9\u001b[0m sequential_validation_dataset, sequential_validation_gt \u001b[38;5;241m=\u001b[39m SequentialDataset\u001b[38;5;241m.\u001b[39mkeep_common_query_ids(\n\u001b[1;32m     10\u001b[0m     sequential_validation_dataset, sequential_validation_gt\n\u001b[1;32m     11\u001b[0m )\n",
      "File \u001b[0;32m/app/replay_main/data/nn/sequence_tokenizer.py:85\u001b[0m, in \u001b[0;36mSequenceTokenizer.transform\u001b[0;34m(self, dataset, tensor_features_to_keep)\u001b[0m\n\u001b[1;32m     79\u001b[0m \u001b[38;5;250m\u001b[39m\u001b[38;5;124;03m\"\"\"\u001b[39;00m\n\u001b[1;32m     80\u001b[0m \u001b[38;5;124;03m:param dataset: input dataset to transform\u001b[39;00m\n\u001b[1;32m     81\u001b[0m \u001b[38;5;124;03m:param tensor_features_to_keep: specified feature names to transform\u001b[39;00m\n\u001b[1;32m     82\u001b[0m \u001b[38;5;124;03m:returns: SequentialDataset\u001b[39;00m\n\u001b[1;32m     83\u001b[0m \u001b[38;5;124;03m\"\"\"\u001b[39;00m\n\u001b[1;32m     84\u001b[0m \u001b[38;5;28mself\u001b[39m\u001b[38;5;241m.\u001b[39m_check_if_tensor_schema_matches_data(dataset, \u001b[38;5;28mself\u001b[39m\u001b[38;5;241m.\u001b[39m_tensor_schema, tensor_features_to_keep)\n\u001b[0;32m---> 85\u001b[0m \u001b[38;5;28;01mreturn\u001b[39;00m \u001b[38;5;28;43mself\u001b[39;49m\u001b[38;5;241;43m.\u001b[39;49m\u001b[43m_transform_unchecked\u001b[49m\u001b[43m(\u001b[49m\u001b[43mdataset\u001b[49m\u001b[43m,\u001b[49m\u001b[43m \u001b[49m\u001b[43mtensor_features_to_keep\u001b[49m\u001b[43m)\u001b[49m\n",
      "File \u001b[0;32m/app/replay_main/data/nn/sequence_tokenizer.py:158\u001b[0m, in \u001b[0;36mSequenceTokenizer._transform_unchecked\u001b[0;34m(self, dataset, tensor_features_to_keep)\u001b[0m\n\u001b[1;32m    155\u001b[0m matched_dataset \u001b[38;5;241m=\u001b[39m \u001b[38;5;28mself\u001b[39m\u001b[38;5;241m.\u001b[39m_match_features_with_tensor_schema(dataset, schema)\n\u001b[1;32m    157\u001b[0m is_polars \u001b[38;5;241m=\u001b[39m \u001b[38;5;28misinstance\u001b[39m(dataset\u001b[38;5;241m.\u001b[39minteractions, PolarsDataFrame)\n\u001b[0;32m--> 158\u001b[0m encoded_dataset \u001b[38;5;241m=\u001b[39m \u001b[38;5;28;43mself\u001b[39;49m\u001b[38;5;241;43m.\u001b[39;49m\u001b[43m_encode_dataset\u001b[49m\u001b[43m(\u001b[49m\u001b[43mmatched_dataset\u001b[49m\u001b[43m)\u001b[49m\n\u001b[1;32m    159\u001b[0m is_polars \u001b[38;5;241m=\u001b[39m \u001b[38;5;28misinstance\u001b[39m(encoded_dataset\u001b[38;5;241m.\u001b[39minteractions, PolarsDataFrame)\n\u001b[1;32m    160\u001b[0m grouped_interactions, query_features, item_features \u001b[38;5;241m=\u001b[39m \u001b[38;5;28mself\u001b[39m\u001b[38;5;241m.\u001b[39m_group_dataset(encoded_dataset)\n",
      "File \u001b[0;32m/app/replay_main/data/nn/sequence_tokenizer.py:181\u001b[0m, in \u001b[0;36mSequenceTokenizer._encode_dataset\u001b[0;34m(self, dataset)\u001b[0m\n\u001b[1;32m    180\u001b[0m \u001b[38;5;28;01mdef\u001b[39;00m \u001b[38;5;21m_encode_dataset\u001b[39m(\u001b[38;5;28mself\u001b[39m, dataset: Dataset) \u001b[38;5;241m-\u001b[39m\u001b[38;5;241m>\u001b[39m Dataset:\n\u001b[0;32m--> 181\u001b[0m     encoded_dataset \u001b[38;5;241m=\u001b[39m \u001b[38;5;28;43mself\u001b[39;49m\u001b[38;5;241;43m.\u001b[39;49m\u001b[43m_encoder\u001b[49m\u001b[38;5;241;43m.\u001b[39;49m\u001b[43mtransform\u001b[49m\u001b[43m(\u001b[49m\u001b[43mdataset\u001b[49m\u001b[43m)\u001b[49m\n\u001b[1;32m    182\u001b[0m     \u001b[38;5;28;01mreturn\u001b[39;00m encoded_dataset\n",
      "File \u001b[0;32m/app/replay_main/data/dataset_utils/dataset_label_encoder.py:122\u001b[0m, in \u001b[0;36mDatasetLabelEncoder.transform\u001b[0;34m(self, dataset)\u001b[0m\n\u001b[1;32m    120\u001b[0m         query_features \u001b[38;5;241m=\u001b[39m encoding_rule\u001b[38;5;241m.\u001b[39mtransform(query_features)\n\u001b[1;32m    121\u001b[0m \u001b[38;5;28;01melif\u001b[39;00m feature_info\u001b[38;5;241m.\u001b[39mfeature_hint \u001b[38;5;241m==\u001b[39m FeatureHint\u001b[38;5;241m.\u001b[39mITEM_ID:\n\u001b[0;32m--> 122\u001b[0m     interactions \u001b[38;5;241m=\u001b[39m \u001b[43mencoding_rule\u001b[49m\u001b[38;5;241;43m.\u001b[39;49m\u001b[43mtransform\u001b[49m\u001b[43m(\u001b[49m\u001b[43minteractions\u001b[49m\u001b[43m)\u001b[49m\n\u001b[1;32m    123\u001b[0m     \u001b[38;5;28;01mif\u001b[39;00m item_features \u001b[38;5;129;01mis\u001b[39;00m \u001b[38;5;129;01mnot\u001b[39;00m \u001b[38;5;28;01mNone\u001b[39;00m:\n\u001b[1;32m    124\u001b[0m         item_features \u001b[38;5;241m=\u001b[39m encoding_rule\u001b[38;5;241m.\u001b[39mtransform(item_features)\n",
      "File \u001b[0;32m/app/replay_main/preprocessing/label_encoder.py:404\u001b[0m, in \u001b[0;36mLabelEncodingRule.transform\u001b[0;34m(self, df)\u001b[0m\n\u001b[1;32m    401\u001b[0m default_value \u001b[38;5;241m=\u001b[39m \u001b[38;5;28mlen\u001b[39m(\u001b[38;5;28mself\u001b[39m\u001b[38;5;241m.\u001b[39m_mapping) \u001b[38;5;28;01mif\u001b[39;00m \u001b[38;5;28mself\u001b[39m\u001b[38;5;241m.\u001b[39m_default_value \u001b[38;5;241m==\u001b[39m \u001b[38;5;124m\"\u001b[39m\u001b[38;5;124mlast\u001b[39m\u001b[38;5;124m\"\u001b[39m \u001b[38;5;28;01melse\u001b[39;00m \u001b[38;5;28mself\u001b[39m\u001b[38;5;241m.\u001b[39m_default_value\n\u001b[1;32m    403\u001b[0m \u001b[38;5;28;01mif\u001b[39;00m \u001b[38;5;28misinstance\u001b[39m(df, PandasDataFrame):\n\u001b[0;32m--> 404\u001b[0m     transformed_df \u001b[38;5;241m=\u001b[39m \u001b[38;5;28;43mself\u001b[39;49m\u001b[38;5;241;43m.\u001b[39;49m\u001b[43m_transform_pandas\u001b[49m\u001b[43m(\u001b[49m\u001b[43mdf\u001b[49m\u001b[43m,\u001b[49m\u001b[43m \u001b[49m\u001b[43mdefault_value\u001b[49m\u001b[43m)\u001b[49m\n\u001b[1;32m    405\u001b[0m \u001b[38;5;28;01melif\u001b[39;00m \u001b[38;5;28misinstance\u001b[39m(df, SparkDataFrame):\n\u001b[1;32m    406\u001b[0m     transformed_df \u001b[38;5;241m=\u001b[39m \u001b[38;5;28mself\u001b[39m\u001b[38;5;241m.\u001b[39m_transform_spark(df, default_value)\n",
      "File \u001b[0;32m/app/replay_main/preprocessing/label_encoder.py:322\u001b[0m, in \u001b[0;36mLabelEncodingRule._transform_pandas\u001b[0;34m(self, df, default_value)\u001b[0m\n\u001b[1;32m    320\u001b[0m     unknown_unique_labels \u001b[38;5;241m=\u001b[39m joined_df[\u001b[38;5;28mself\u001b[39m\u001b[38;5;241m.\u001b[39m_col][unknown_mask]\u001b[38;5;241m.\u001b[39munique()\u001b[38;5;241m.\u001b[39mtolist()\n\u001b[1;32m    321\u001b[0m     msg \u001b[38;5;241m=\u001b[39m \u001b[38;5;124mf\u001b[39m\u001b[38;5;124m\"\u001b[39m\u001b[38;5;124mFound unknown labels \u001b[39m\u001b[38;5;132;01m{\u001b[39;00munknown_unique_labels\u001b[38;5;132;01m}\u001b[39;00m\u001b[38;5;124m in column \u001b[39m\u001b[38;5;132;01m{\u001b[39;00m\u001b[38;5;28mself\u001b[39m\u001b[38;5;241m.\u001b[39m_col\u001b[38;5;132;01m}\u001b[39;00m\u001b[38;5;124m during transform\u001b[39m\u001b[38;5;124m\"\u001b[39m\n\u001b[0;32m--> 322\u001b[0m     \u001b[38;5;28;01mraise\u001b[39;00m \u001b[38;5;167;01mValueError\u001b[39;00m(msg)\n\u001b[1;32m    323\u001b[0m \u001b[38;5;28;01melse\u001b[39;00m:\n\u001b[1;32m    324\u001b[0m     \u001b[38;5;28;01mif\u001b[39;00m default_value \u001b[38;5;241m!=\u001b[39m \u001b[38;5;241m-\u001b[39m\u001b[38;5;241m1\u001b[39m:\n",
      "\u001b[0;31mValueError\u001b[0m: Found unknown labels [2, 162656, 10, 28754, 139221, 100757, 106346, 130136, 149847, 65, 47791, 90046, 88, 103426, 98, 134602, 78503, 190533, 6903, 138, 192512, 74624, 158721, 26842, 181246, 110703, 39137, 124378, 102474, 68220, 175508, 92242, 29052, 41584, 194341, 235, 141336, 253, 81106, 170967, 121170, 196100, 188853, 184322, 194263, 85688, 103585, 118018, 65157, 74864, 28605, 351, 29704, 51961, 182614, 101502, 169194, 378, 153138, 133252, 35556, 403, 181771, 103498, 80801, 166151, 58658, 141623, 189281, 100283, 78226, 83362, 454, 87114, 156552, 64678, 84927, 139321, 67131, 171926, 515, 52541, 142994, 17711, 23718, 102119, 180335, 63154, 173264, 45973, 115507, 153082, 28823, 89355, 45924, 166903, 64726, 191892, 655, 27544, 190964, 157973, 153048, 162160, 102077, 94368, 153067, 125902, 145816, 41961, 9215, 171549, 171283, 141078, 92650, 178580, 30511, 43059, 132711, 180149, 3626, 117989, 94597, 51668, 32595, 85005, 195648, 881, 173602, 908, 196524, 118600, 196977, 119636, 158187, 70701, 943, 160409, 192631, 968, 183871, 164020, 155073, 51327, 996, 150503, 87818, 178231, 84271, 151530, 1055, 3098, 161633, 117557, 55377, 144498, 130621, 123091, 75147, 111645, 78213, 32002, 153738, 194521, 82553, 147467, 169088, 180412, 138121, 122919, 124225, 106162, 118300, 90718, 13049, 173420, 24044, 129443, 1281, 196365, 196575, 123435, 11160, 1335, 1340, 144651, 199488, 103165, 21067, 133756, 61010, 1398, 1402, 63076, 107966, 168071, 136767, 154130, 22790, 64936, 1435, 148647, 1456, 34502, 1460, 130626, 181360, 128671, 6648, 163110, 64842, 44576, 1502, 174607, 167361, 67339, 72011, 179528, 86240, 29850, 61560, 137048, 196838, 198199, 164000, 109383, 193397, 79766, 135154, 111892, 73823, 54107, 1601, 60709, 135066, 56778, 1627, 1630, 92533, 168999, 57444, 192430, 177255, 101580, 5207, 76621, 175320, 102063, 178410, 35307, 137838, 3424, 123887, 1734, 149585, 22210, 88256, 143780, 196871, 102429, 192085, 30526, 192845, 79311, 48433, 122926, 59622, 120960, 43278, 82974, 1848, 86126, 105111, 141863, 98341, 159590, 172832, 53348, 181623, 106658, 143341, 144844, 106326, 198939, 121373, 104268, 154005, 74331, 199649, 1987, 36377, 199668, 112382, 104545, 33338, 148069, 92201, 2043, 167765, 110259, 175398, 30110, 88265, 137672, 185500, 146996, 111897, 156139, 129125, 110820, 185832, 24617, 188352, 2161, 16413, 95421, 195916, 121359, 84239, 153703, 66095, 151898, 186868, 72497, 98262, 2250, 123173, 126870, 164166, 106912, 5684, 178621, 115886, 119383, 2289, 169317, 52745, 199140, 146385, 185442, 23004, 163416, 198383, 58498, 177462, 111002, 65013, 170036, 153159, 79239, 58595, 125928, 2404, 2414, 190923, 91573, 154139, 177269, 37117, 27649, 92446, 93961, 148124, 186521, 77336, 3221, 192229, 48424, 151707, 165687, 141156, 50548, 15363, 118508, 109882, 169601, 74089, 154151, 124819, 190872, 198740, 113869, 53767, 123578, 141443, 2569, 2573, 177568, 74184, 87024, 173849, 171858, 129112, 2674, 162562, 18313, 114053, 34037, 174863, 91308, 20390, 97301, 117297, 85249, 2740, 73013, 134771, 154642, 180840, 171117, 90057, 148847, 57194, 192593, 174545, 116335, 16041, 160548, 139777, 149639, 142501, 48413, 81965, 171636, 2905, 2908, 198606, 92716, 111257, 36257, 187901, 2925, 182030, 2938, 115243, 41954, 100147, 13860, 127704, 2961, 21425, 2966, 79335, 190395, 121358, 63591, 118114, 76674, 107523, 128010, 146167, 162228, 83456, 74717, 157806, 108320, 154788, 160324, 96656, 147452, 157366, 180843, 147091, 144831, 3124, 176750, 190592, 94399, 77625, 181228, 16744, 29969, 123456, 92214, 79369, 36305, 82171, 3163, 21860, 145028, 149396, 126934, 147432, 156535, 3205, 133060, 166954, 138591, 3219, 173541, 141028, 3230, 147991, 8531, 126256, 36978, 100642, 125639, 128992, 189232, 172831, 180446, 127453, 188901, 179910, 12773, 81101, 157363, 132707, 175220, 3337, 108910, 161657, 194990, 89490, 79394, 182391, 192600, 112461, 199217, 149636, 116297, 121878, 89943, 77390, 164463, 35882, 193988, 103133, 140018, 146758, 28041, 67108, 185666, 104159, 3504, 139199, 101939, 54596, 14377, 165778, 20123, 120497, 150290, 3549, 195841, 156845, 3581, 125821, 147762, 3617, 193561, 106078, 138997, 144425, 51434, 143512, 81988, 179123, 149550, 131416, 131696, 3710, 119573, 142320, 36196, 47891, 38765, 185527, 130939, 170602, 170813, 58935, 3783, 3798, 33850, 150608, 3808, 159098, 135844, 195565, 135443, 98369, 122840, 3854, 14248, 22102, 27587, 71752, 171360, 165483, 78744, 98678, 79869, 111748, 196182, 104779, 74438, 39619, 132325, 27585, 198044, 82940, 93043, 113941, 144766, 96654, 191282, 180449, 139365, 44269, 141776, 4050, 68412, 84297, 145375, 34481, 10505, 128354, 173204, 61138, 4127, 32986, 200125, 27213, 154794, 98659, 4153, 163838, 190440, 150942, 136872, 129660, 177284, 199392, 106576, 150218, 4260, 138292, 4279, 194585, 113241, 163026, 166580, 128702, 172960, 193039, 77325, 4343, 167549, 170919, 100733, 109341, 175480, 190726, 88680, 4392, 102097, 152936, 194139, 170990, 162794, 186860, 68829, 194183, 26906, 173545, 4465, 129845, 175351, 57587, 155885, 86485, 186446, 27083, 16588, 181247, 48874, 141996, 4529, 4531, 107766, 57300, 57058, 65218, 31382, 4580, 80357, 139500, 27832, 4629, 116401, 4644, 106739, 103496, 111315, 76189, 4699, 84773, 87620, 147892, 66583, 80108, 70938, 116620, 183099, 4733, 169406, 181785, 180157, 64766, 103316, 165824, 169932, 166908, 177111, 173366, 132021, 199605, 130250, 194506, 108386, 13660, 151861, 39950, 161746, 94752, 97874, 116890, 50349, 135821, 150511, 4875, 151563, 175731, 4885, 197235, 170399, 179459, 199102, 97193, 195781, 137209, 56690, 103321, 118298, 97633, 146538, 90480, 4990, 115994, 105470, 192656, 5015, 5019, 15607, 151872, 183445, 37867, 112360, 72851, 108988, 179737, 182862, 42226, 107544, 114927, 63855, 108809, 23589, 25654, 107850, 166520, 83922, 5155, 197165, 5174, 150760, 196631, 131978, 117189, 5229, 5231, 90841, 33035, 167304, 100654, 105047, 5288, 91242, 97755, 143676, 199718, 94535, 69974, 5330, 103896, 33087, 112384, 147711, 181462, 5359, 68375, 197604, 120668, 32581, 175672, 136157, 166721, 193238, 131480, 161977, 71291, 89197, 33538, 94771, 116622, 196834, 117413, 121832, 5516, 186439, 36694, 113446, 148613, 163017, 134465, 173309, 109770, 179051, 139514, 118182, 135329, 188831, 5609, 135067, 122509, 5629, 130132, 74868, 5638, 138416, 70427, 5653, 131735, 197438, 41242, 94838, 128041, 5683, 184741, 5692, 19669, 192802, 144879, 132340, 95064, 5723, 112744, 45668, 145928, 5763, 187841, 109220, 5775, 185964, 5790, 65237, 156928, 143159, 167880, 184266, 131191, 193076, 100289, 118257, 165680, 118949, 102476, 93742, 42683, 113090, 5901, 67851, 41894, 45283, 182084, 112084, 5924, 5925, 113554, 160877, 5942, 5950, 162146, 41568, 5982, 117021, 84598, 184791, 57499, 105141, 91022, 140013, 29612, 185312, 66868, 111049, 13214, 155200, 8092, 97814, 18897, 69872, 140176, 66718, 18434, 113140, 178073, 81068, 122860, 62696, 58528, 187803, 6086, 33252, 128523, 168128, 143059, 18519, 128925, 6404, 61329, 6163, 127923, 78838, 57566, 183176, 172313, 159328, 174967, 149653, 62542, 38049, 6231, 67753, 104560, 21331, 149134, 161694, 137875, 189429, 138427, 117980, 156419, 6308, 77668, 6335, 153521, 68515, 6351, 109604, 160486, 156777, 149361, 166208, 98974, 89912, 54224, 192336, 166258, 6441, 150682, 64338, 18179, 145786, 38972, 6483, 179629, 76169, 40395, 89983, 76679, 178305, 6546, 156165, 6564, 46501, 99492, 102527, 16287, 186229, 6594, 170517, 158963, 199955, 157248, 113129, 6073, 197517, 6665, 6673, 121546, 138036, 6683, 171229, 161810, 6693, 23782, 138016, 33954, 6710, 175184, 165726, 59618, 175455, 175117, 196869, 163563, 6755, 155950, 198280, 166049, 27118, 189322, 157697, 98825, 99395, 153866, 157249, 6878, 81748, 162888, 65671, 185226, 84516, 161606, 114735, 97554, 162548, 154264, 197182, 22986, 167192, 69752, 196677, 6961, 185816, 191565, 158576, 117895, 97269, 7016, 7022, 7039, 103890, 7053, 173061, 124437, 41709, 151776, 144419, 134197, 60550, 197727, 183805, 184713, 89525, 64266, 190955, 149517, 7143, 86601, 134361, 81677, 152995, 158074, 39671, 38574, 62517, 115221, 154044, 100938, 70596, 171400, 167536, 30301, 7239, 137406, 149698, 182826, 106382, 7264, 147440, 104375, 192950, 46557, 134179, 101696, 190900, 14324, 176577, 175459, 113391, 88570, 34513, 110289, 188854, 30131, 135210, 161912, 7371, 155191, 172045, 120162, 88205, 7403, 166684, 7419, 88316, 11255, 181392, 7434, 119538, 132773, 153673, 130017, 159866, 102295, 147633, 7467, 45664, 173718, 159684, 128681, 194782, 104984, 146620, 167147, 157099, 109678, 74673, 96482, 175379, 167794, 176019, 12533, 32219, 4200, 178742, 35655, 63327, 23831, 37513, 95116, 162236, 7641, 53552, 131887, 141157, 7678, 160042, 106426, 7692, 183725, 32940, 76100, 180673, 169936, 107602, 51123, 130128, 181689, 59681, 18670, 94169, 110324, 129701, 7752, 68568, 177370, 189991, 100443, 106499, 193835, 13417, 147523, 175849, 7794, 130575, 182227, 88996, 191164, 12808, 58752, 191239, 110126, 168006, 149252, 137294, 102955, 79624, 169280, 129500, 115079, 180936, 128265, 173929, 18384, 170483, 176680, 43573, 46582, 7947, 106712, 95630, 65206, 47661, 7980, 99253, 156315, 174336, 107703, 159091, 46978, 142867, 157602, 179867, 150277, 126252, 180076, 8085, 197621, 198649, 103259, 170347, 124488, 114898, 125827, 102128, 8143, 195950, 156155, 136746, 56407, 51326, 8191, 181356, 62021, 127066, 191668, 187070, 152632, 143741, 120210, 92736, 103409, 136500, 174420, 8256, 156068, 114811, 8275, 148623, 149938, 45636, 8847, 191293, 84921, 14810, 184370, 140518, 11969, 8343, 104248, 148133, 168098, 104003, 184586, 96113, 102537, 172950, 123970, 199083, 194099, 146747, 83800, 148973, 78298, 169520, 196371, 21342, 200036, 52475, 8434, 170636, 8438, 173914, 98548, 133786, 131109, 110609, 159277, 121094, 153937, 177137, 125574, 151607, 54324, 192173, 154860, 187507, 61920, 8525, 8533, 155119, 147995, 8541, 104909, 69141, 29014, 187531, 189082, 90325, 95481, 74567, 59002, 129616, 190628, 134910, 138645, 37067, 156707, 13747, 184784, 178156, 50011, 94641, 127210, 101146, 146928, 183037, 8724, 134816, 85773, 124465, 102629, 136063, 109874, 8785, 197380, 8793, 120450, 199230, 8814, 161847, 161129, 8824, 128727, 156222, 165400, 160885, 148970, 71449, 134715, 8899, 180710, 121757, 111611, 104613, 83179, 56746, 51656, 175994, 101325, 81401, 158362, 117708, 191441, 49620, 171006, 185659, 113381, 108740, 166214, 134707, 15704, 199844, 105676, 78532, 138195, 9046, 179124, 186494, 185520, 143901, 127336, 99553, 164795, 64138, 176665, 175343, 185215, 73559, 82429, 37331, 187440, 9106, 9110, 181007, 197912, 101786, 9157, 185274, 109917, 122024, 152967, 66176, 88357, 196145, 30133, 146462, 142035, 150188, 9212, 66738, 50331, 158787, 47885, 9230, 143290, 76763, 193832, 111026, 158053, 101824, 79968, 182103, 9278, 185528, 9296, 160288, 196328, 129502, 137426, 9315, 65499, 195265, 142469, 26036, 150697, 18280, 9332, 199077, 100281, 120485, 9352, 37087, 178684, 130359, 9370, 81562, 156672, 9392, 31890, 140591, 142619, 9421, 9426, 33044, 111848, 130505, 9453, 196555, 70455, 188486, 167144, 148769, 136480, 188603, 180803, 148870, 58269, 185343, 9536, 93138, 107108, 171837, 158857, 66558, 89537, 159737, 9581, 9582, 135850, 133049, 162663, 157041, 158472, 9594, 149218, 168757, 156693, 181308, 193177, 85287, 9661, 170214, 160830, 177500, 85619, 87968, 140365, 166187, 105795, 151449, 102207, 112855, 9741, 40760, 105062, 9762, 9770, 9771, 125169, 96494, 122833, 192034, 9790, 91299, 170523, 62836, 29964, 9808, 156298, 125779, 9829, 152361, 9843, 132756, 135646, 71121, 87339, 47425, 193710, 175529, 118518, 38990, 9910, 127693, 58816, 72412, 9930, 75566, 102675, 130333, 129583, 3722, 163610, 9979, 161013, 9988, 142798, 136380, 190069, 86427, 115504, 144095, 110982, 174609, 170792, 192108, 144248, 10025, 155390, 10039, 179404, 113708, 132045, 138197, 10076, 56809, 79744, 96942, 189959, 10103, 85857, 152356, 75442, 68912, 149752, 10163, 144639, 70868, 158060, 146502, 10194, 175596, 160676, 132939, 179623, 138570, 101253, 169791, 111303, 143681, 10244, 10248, 13269, 86624, 115202, 114695, 42171, 10276, 132195, 113845, 10307, 82420, 164653, 95014, 83323, 109382, 87905, 10334, 146324, 68424, 92378, 10362, 46538, 193380, 103571, 184978, 80539, 77102, 10404, 123241, 85895, 63584, 192743, 10445, 83701, 10450, 91119, 106212, 24296, 10468, 131117, 90472, 197706, 146171, 188042, 69448, 10509, 135631, 167842, 10534, 161589, 62578, 145769, 193991, 189176, 148372, 135262, 109602, 128025, 89311, 165268, 132167, 116903, 13595, 10617, 135936, 192980, 127165, 101124, 10655, 155389, 153373, 10665, 108778, 10679, 26296, 167261, 75651, 39113, 138689, 10709, 123162, 165103, 174087, 107711, 117728, 10739, 187652, 145446, 118327, 176685, 10769, 98594, 10784, 10793, 155630, 68853, 155932, 157055, 86595, 181254, 120834, 49749, 192677, 10855, 133620, 167710, 94254, 117537, 139903, 10903, 163733, 10920, 57012, 198946, 197323, 10947, 10948, 143371, 137833, 10967, 93593, 127545, 141476, 163770, 11020, 90161, 11031, 160116, 86353, 24214, 176684, 143826, 11644, 185864, 159831, 14072, 164397, 65501, 11092, 11095, 30172, 198996, 177309, 151969, 11158, 11159, 11172, 13287, 16043, 11216, 111047, 153247, 94638, 21902, 75033, 11237, 196605, 198254, 158678, 168183, 150986, 148442, 161482, 148334, 134037, 182059, 44679, 91474, 167989, 34900, 150681, 131131, 71992, 175354, 75537, 45601, 11332, 110158, 128634, 122313, 193577, 11362, 11365, 11383, 11411, 176729, 11424, 120555, 25567, 11440, 170153, 183233, 96825, 80089, 184519, 122210, 125448, 129133, 152384, 11494, 164690, 58316, 99678, 11500, 150285, 163256, 134413, 63602, 103061, 34259, 119166, 75204, 80169, 14727, 95167, 28936, 155412, 177660, 143096, 102804, 172082, 166238, 98907, 137501, 11634, 176194, 143666, 155512, 32835, 129250, 143155, 77166, 58625, 154815, 161680, 180960, 11678, 114299, 140799, 124709, 90058, 107900, 103138, 191587, 143258, 22736, 189842, 195881, 169145, 11717, 125601, 142507, 89368, 193423, 88344, 12649, 168341, 11757, 163684, 11771, 135070, 11784, 89673, 89575, 115375, 180001, 11798, 104741, 110441, 104020, 11808, 150088, 128670, 196576, 152661, 194331, 151110, 64248, 27739, 11887, 39812, 186196, 51604, 171215, 11924, 184253, 11933, 96532, 162731, 132363, 79983, 153712, 55744, 77314, 25096, 191909, 150268, 49207, 97848, 167441, 74501, 151548, 38439, 12065, 93666, 83976, 145440, 12083, 12097, 117494, 75198, 12112, 124546, 102159, 32868, 30764, 67932, 12128, 163187, 107969, 184069, 130421, 190457, 43454, 12153, 182653, 146793, 104341, 195304, 57276, 198046, 179645, 23891, 12222, 177487, 12231, 182486, 115115, 48295, 129910, 23616, 107025, 162775, 123333, 83689, 168900, 129474, 72270, 199141, 117498, 12328, 93403, 127834, 185555, 195852, 108034, 29410, 141170, 191770, 35831, 12423, 180613, 12428, 166145, 185342, 175674, 165444, 185407, 192357, 40299, 194435, 165952, 56692, 33206, 12492, 199663, 198399, 12514, 171067, 199936, 12534, 140610, 12544, 22361, 111035, 83549, 120378, 174299, 12641, 185494, 190530, 54001, 192241, 27697, 141296, 195710, 132272, 12687, 192052, 14776, 155180, 154007, 169472, 66135, 62779, 12755, 113864, 124053, 92507, 16155, 173190, 21297, 133877, 12818, 12822, 12831, 12832, 12833, 157718, 103830, 196032, 108132, 158216, 12877, 53358, 50529, 199254, 174893, 31624, 112985, 194385, 12916, 108562, 193914, 179238, 191003, 107971, 180789, 97180, 12960, 182147, 54563, 86859, 150189, 87227, 13003, 95423, 192614, 36476, 13041, 174543, 150738, 106182, 158904, 13078, 160690, 30448, 174766, 171110, 13119, 88442, 137243, 87582, 183266, 13144, 194839, 13155, 143924, 84125, 46918, 101750, 152117, 172168, 73746, 62402, 126923, 105203, 38429, 158539, 13244, 186970, 13259, 98495, 198331, 146496, 192659, 32913, 79943, 108744, 177553, 13313, 154826, 103795, 145580, 50679, 184797, 156925, 163468, 162713, 110929, 98541, 13365, 13366, 184326, 67312, 141470, 44793, 132085, 67556, 50337, 170499, 40317, 69284, 137657, 128614, 111416, 195651, 64687, 181728, 133024, 59770, 13513, 72091, 13519, 13523, 13528, 51617, 80395, 183171, 112002, 60875, 124073, 174192, 83502, 173466, 90611, 91953, 174598, 13571, 142893, 179488, 170089, 100881, 13592, 190116, 150224, 13609, 170913, 83053, 193493, 87866, 115628, 22424, 142620, 187133, 124279, 96836, 135048, 56842, 13684, 66481, 95389, 165406, 104694, 195482, 78148, 97688, 77162, 182286, 129246, 177776, 193716, 120106, 13776, 49158, 63738, 178380, 104475, 182010, 63291, 187815, 171860, 131557, 178629, 13823, 105693, 151470, 198912, 146437, 123878, 165322, 189023, 131748, 79168, 111862, 91425, 109131, 79227, 73811, 112686, 77009, 167542, 113658, 13930, 129651, 151757, 181190, 44535, 194618, 13962, 110054, 121907, 117480, 20021, 14838, 40359, 181693, 87665, 188313, 118621, 162559, 79840, 179657, 68521, 39833, 14081, 103077, 30324, 190101, 169101, 167266, 113672, 14103, 14106, 175693, 131717, 157988, 129736, 105333, 110886, 115064, 147622, 181814, 143912, 137569, 194389, 143766, 142423, 192690, 46114, 167117, 128103, 159177, 158034, 153459, 131329, 123967, 184869, 94363, 170275, 15652, 14271, 68566, 14281, 153594, 104656, 192189, 24153, 199362, 144034, 169238, 181459, 141361, 199822, 156775, 36743, 14353, 130549, 76998, 14378, 37611, 14396, 95999, 136724, 181071, 146326, 137580, 106646, 134388, 67622, 168570, 14431, 149226, 192383, 191864, 70799, 183543, 88819, 163061, 110412, 14484, 72980, 188995, 56505, 170330, 90644, 181366, 144816, 62026, 14518, 170712, 170247, 73564, 99915, 133055, 42937, 32785, 194106, 164751, 148087, 198461, 176752, 183174, 88818, 14570, 48247, 96995, 40577, 14580, 153534, 179491, 158704, 14618, 27386, 117122, 76407, 172454, 188369, 128076, 135512, 127875, 183319, 194314, 181773, 68364, 154180, 152586, 191086, 17905, 14702, 150371, 124693, 199199, 18104, 91628, 32009, 14721, 159001, 14748, 190165, 60746, 116785, 111376, 123154, 164857, 72443, 147722, 37882, 129512, 67395, 14826, 137849, 130348, 199312, 64575, 33234, 14884, 145615, 14902, 165814, 124665, 185630, 14927, 187558, 98194, 99070, 151048, 134655, 90449, 196121, 94393, 166333, 100148, 83828, 38932, 106727, 44777, 54372, 15017, 15027, 76311, 155268, 193422, 25123, 134288, 15051, 180918, 80324, 139009, 15073, 94805, 15087, 122451, 15099, 143349, 15114, 90848, 15119, 189067, 120249, 121799, 15153, 138165, 165851, 32028, 40735, 15162, 141208, 49038, 15188, 196688, 150484, 175101, 90913, 134541, 15222, 102733, 118542, 15235, 15243, 150772, 166509, 106443, 153663, 163727, 52241, 128046, 166107, 15265, 12264, 21772, 88279, 180322, 36380, 48324, 15296, 102613, 164958, 15311, 26576, 15317, 106055, 179252, 97724, 152341, 16527, 41212, 16133, 115864, 15374, 119487, 132815, 109407, 155799, 125012, 187963, 132544, 46527, 155553, 15452, 140553, 15462, 23149, 62013, 15490, 189671, 87236, 104490, 130927, 15507, 189885, 113305, 82898, 77391, 43873, 114332, 134284, 62986, 58377, 156013, 176414, 180435, 39263, 103564, 151333, 66725, 167190, 15641, 155423, 100360, 115120, 15668, 115737, 122272, 15693, 119625, 158043, 111099, 93967, 186624, 165542, 90803, 158294, 170934, 15767, 118742, 122954, 99009, 86971, 128866, 81085, 15793, 196659, 59177, 149969, 15803, 123560, 144760, 172224, 15840, 176497, 67173, 176300, 113229, 184862, 15864, 115356, 15874, 188189, 103119, 184444, 15907, 57583, 15921, 157305, 65637, 146986, 147400, 33749, 87459, 54466, 15971, 179924, 91321, 32382, 159856, 101352, 16014, 30826, 166411, 188183, 196550, 158204, 117645, 39324, 177173, 119269, 178892, 133534, 86645, 157596, 80398, 85277, 75146, 124001, 83943, 45866, 26818, 76423, 195317, 25065, 140769, 80125, 70516, 151566, 16182, 101964, 140642, 109247, 107617, 133871, 132239, 89939, 165284, 69486, 156670, 16231, 199584, 16235, 16237, 105277, 112958, 16247, 8547, 117074, 141833, 154309, 104920, 97044, 16284, 67446, 197540, 141662, 106688, 142468, 96068, 16313, 116400, 125776, 131784, 126031, 65482, 107691, 195645, 16360, 167330, 176039, 187059, 79935, 16389, 166641, 108639, 100318, 164607, 16431, 16432, 137558, 174577, 126973, 147183, 16459, 16463, 167422, 136158, 47521, 55102, 126645, 70817, 16511, 186287, 49125, 128740, 91526, 192527, 108296, 56946, 66932, 71994, 16616, 16618, 186134, 16627, 29712, 7820, 44434, 16647, 138048, 190256, 92010, 185518, 163096, 35746, 16692, 189531, 163833, 135037, 154635, 19161, 42331, 130825, 124098, 35870, 16740, 135156, 117795, 76749, 23969, 57756, 147776, 16786, 104939, 94713, 19856, 164126, 128676, 160540, 16839, 191092, 165576, 74663, 190297, 50655, 33093, 16893, 95257, 191602, 140630, 193802, 88290, 16934, 95670, 134507, 82575, 16947, 81181, 185441, 143112, 16974, 16975, 160356, 37125, 113818, 16997, 168240, 52692, 92950, 107422, 17042, 106119, 118654, 132660, 39145, 17066, 54123, 194982, 146130, 41693, 39735, 73909, 129666, 163166, 179855, 196308, 26586, 159637, 27165, 154312, 60497, 54847, 150715, 111494, 130516, 40347, 17180, 129380, 140400, 197512, 87465, 84747, 56106, 128056, 137722, 75414, 51340, 139764, 177505, 147898, 82513, 17274, 17275, 75205, 23163, 179721, 67612, 32190, 52614, 113950, 157591, 46017, 41101, 115534, 108054, 77989, 181080, 116043, 183802, 184074, 63415, 17433, 150990, 86163, 164406, 17470, 133701, 179306, 116328, 54464, 17500, 35608, 62435, 22085, 148276, 167271, 167427, 88892, 96182, 17540, 177767, 108992, 113379, 59377, 195825, 59579, 26740, 131460, 128996, 52656, 17588, 140466, 127041, 122367, 108430, 156843, 64183, 153551, 54750, 128603, 17675, 17676, 162686, 17692, 17695, 187685, 194115, 24710, 63209, 94712, 106271, 108866, 61837, 59959, 17766, 81482, 51185, 17787, 150966, 134810, 145950, 17807, 48112, 144223, 49486, 58977, 128053, 102403, 100902, 136286, 181039, 136650, 17835, 17845, 94723, 108027, 190848, 72912, 53254, 21578, 192393, 186704, 132155, 155417, 105436, 17930, 189357, 17943, 106197, 105379, 147943, 104437, 180367, 66311, 17965, 156117, 134563, 17972, 22400, 17982, 118792, 199331, 175399, 145032, 112896, 170716, 137042, 192439, 84924, 6400, 134884, 102822, 184317, 143738, 18084, 63594, 182348, 18095, 172397, 18119, 140946, 119266, 158206, 18140, 74201, 18154, 178656, 83337, 120800, 49718, 18168, 57042, 146083, 106255, 143028, 149251, 66926, 151044, 135030, 181107, 190060, 189364, 125878, 162516, 141147, 152250, 195330, 147494, 40778, 194771, 100155, 193630, 93275, 18308, 15550, 129237, 83427, 102850, 45143, 18358, 82626, 106846, 87718, 65634, 57477, 167815, 18421, 183633, 18430, 187546, 56896, 186933, 172245, 29518, 172663, 18454, 168604, 39689, 167798, 111534, 191959, 114802, 104983, 126389, 155410, 184606, 159051, 89039, 184202, 174583, 178158, 18568, 115443, 63160, 18576, 108632, 18596, 122015, 166769, 152825, 18616, 199378, 18626, 111166, 98231, 159923, 100729, 180182, 115122, 25324, 47677, 110613, 143320, 141384, 114565, 6005, 18713, 137630, 161124, 86910, 71256, 126410, 162142, 18741, 184933, 176045, 105143, 81110, 138218, 61317, 192304, 35590, 113197, 53582, 162453, 153377, 183676, 62391, 125708, 181376, 18890, 92116, 62789, 54118, 148499, 165209, 197402, 18942, 103450, 126691, 177911, 107820, 106794, 106136, 18981, 197735, 194164, 19025, 158393, 179411, 69058, 115244, 110575, 183948, 185036, 19531, 113236, 199608, 71341, 170408, 19089, 88903, 19110, 194943, 193995, 154029, 94832, 33884, 182349, 183085, 155409, 95940, 50975, 141207, 158607, 180929, 156191, 52443, 19193, 187306, 163359, 68480, 118786, 188561, 171697, 164977, 19252, 130815, 109210, 49722, 78925, 169321, 145208, 19265, 19284, 54925, 134698, 158469, 52695, 179146, 57355, 182767, 41572, 158662, 66173, 168759, 152782, 164824, 107230, 19381, 24190, 39254, 130216, 124672, 68272, 81180, 15074, 141854, 191847, 149453, 193566, 42032, 94246, 177870, 145286, 132678, 19469, 137469, 124662, 195875, 176378, 168369, 193667, 157436, 19510, 88935, 177187, 154403, 135023, 38562, 62572, 187439, 157470, 19561, 181251, 39805, 44044, 39556, 151884, 82727, 140027, 19603, 28698, 19611, 19620, 19621, 19630, 130354, 31413, 87038, 150455, 171651, 105969, 123325, 185047, 148603, 19700, 99875, 125049, 19738, 145211, 19765, 198340, 19768, 33287, 19785, 49448, 163570, 168346, 195447, 87710, 150006, 177411, 174871, 183492, 172694, 42671, 179706, 89568, 132548, 19903, 116071, 143992, 62140, 19917, 144081, 113791, 197955, 137005, 69470, 89056, 19957, 146917, 152163, 19964, 105651, 121403, 169704, 110832, 152313, 84112, 155406, 181657, 110806, 162949, 98929, 84136, 170837, 106089, 180548, 103665, 92068, 152868, 122103, 83706, 106151, 98706, 82800, 131265, 197811, 56216, 107797, 54424, 143642, 50077, 20166, 185382, 20188, 79752, 86679, 151810, 73631, 73697, 171190, 127977, 136706, 187341, 198198, 56173, 186144, 35939, 159258, 130759, 20260, 53335, 20272, 181354, 120100, 77936, 102106, 170460, 66214, 157501, 78865, 182628, 82809, 103238, 149298, 72052, 113966, 154382, 147525, 111602, 163648, 137483, 186722, 152796, 39957, 20443, 138600, 110734, 188690, 124288, 121812, 119326, 44841, 98892, 109859, 65152, 155915, 165783, 93335, 194832, 34670, 131502, 193391, 165457, 183570, 73489, 20563, 164665, 20590, 74953, 152111, 105731, 90972, 24876, 169519, 69446, 116557, 20674, 20680, 71988, 64998, 109024, 20695, 172753, 63425, 163269, 156390, 101355, 158320, 66994, 176948, 124455, 154201, 176114, 194264, 20797, 39273, 20800, 143294, 115051, 112257, 20831, 115096, 195214, 157179, 76513, 191216, 129406, 61765, 106094, 147408, 169476, 63434, 20907, 43055, 101952, 182427, 161859, 180706, 89664, 113123, 20934, 22486, 29659, 191982, 155543, 138740, 151773, 14452, 70988, 159969, 158391, 104469, 150538, 106204, 166447, 86792, 26809, 178117, 200132, 90956, 21036, 152444, 197586, 91947, 40541, 21054, 178121, 143562, 138561, 111086, 21100, 21117, 21118, 185505, 128735, 135470, 21133, 171038, 21143, 127231, 83358, 170769, 47237, 71706, 148144, 110957, 21170, 24535, 21177, 26423, 21194, 127958, 82323, 21203, 157670, 97582, 148129, 21258, 177203, 119543, 140735, 133305, 70306, 113897, 145332, 69786, 70670, 21314, 21321, 102649, 143680, 36355, 154812, 118051, 57261, 90419, 73731, 123962, 113356, 143846, 177493, 187597, 100884, 133082, 51095, 52451, 197976, 126857, 82098, 61373, 60956, 152831, 113598, 186740, 129041, 116268, 53777, 178935, 166169, 196333, 199264, 113971, 147538, 124435, 100165, 105317, 93929, 154472, 197890, 44130, 158847, 196660, 102355, 142490, 172951, 186090, 21602, 171720, 63156, 152183, 158814, 100310, 82205, 159756, 48831, 159419, 21671, 154037, 21683, 156513, 177121, 185510, 187363, 125082, 141127, 21728, 21741, 99072, 161438, 65210, 197399, 38725, 171035, 21766, 127430, 79245, 46216, 137390, 190033, 73818, 151169, 187628, 21818, 21821, 132644, 21847, 21856, 171287, 164483, 172705, 197314, 155411, 21892, 160554, 199698, 143756, 149488, 166152, 21940, 132650, 149714, 154699, 170677, 160018, 54059, 47352, 89528, 147189, 155639, 22006, 173458, 81243, 22016, 181706, 141073, 200197, 187782, 22030, 96236, 22040, 159649, 69855, 22048, 191072, 174597, 195930, 171929, 178260, 200046, 136973, 34655, 37426, 22076, 80107, 22084, 180362, 22121, 22123, 52074, 22126, 22127, 97198, 22152, 191601, 178029, 135035, 22195, 190637, 170910, 138785, 154930, 112006, 162720, 168458, 22283, 81898, 105879, 155518, 38174, 39600, 188403, 22317, 51432, 48576, 22333, 74151, 154288, 116117, 154601, 22365, 112631, 22387, 97349, 146265, 60135, 135077, 109443, 99130, 49074, 102096, 190788, 80724, 192339, 102313, 22450, 185920, 83404, 97241, 144656, 172350, 22496, 22498, 22506, 35931, 94631, 22529, 152100, 22535, 126063, 122566, 199903, 156205, 22574, 147802, 113674, 112946, 22587, 31922, 192664, 185524, 84888, 22602, 151846, 22608, 32772, 165841, 179733, 180679, 176642, 76413, 40314, 54429, 67859, 105734, 185556, 196890, 175041, 141888, 22715, 127419, 158447, 165822, 140861, 101430, 192694, 187851, 40034, 51918, 151698, 87379, 117161, 22786, 196728, 152176, 173047, 22819, 127295, 185885, 153917, 25572, 95056, 175788, 170609, 172429, 22879, 73794, 167157, 142149, 22895, 105211, 58905, 136887, 111415, 80886, 28428, 93528, 22943, 22946, 22948, 117633, 22957, 22970, 70500, 163448, 161371, 22985, 115843, 95333, 22998, 23007, 174221, 166587, 165654, 58719, 23030, 89661, 85175, 23033, 163609, 23041, 23043, 23046, 116144, 122710, 142856, 23068, 186537, 124981, 93806, 23105, 69076, 39363, 23118, 64293, 23119, 23122, 175025, 88795, 23150, 23155, 56270, 23162, 23169, 182435, 68963, 129470, 122105, 78679, 179099, 124170, 161989, 173292, 92604, 107194, 102872, 48838, 136502, 23272, 142688, 41107, 189075, 78950, 76372, 104752, 23316, 133319, 114859, 151343, 148246, 133282, 147030, 23358, 132576, 59591, 78445, 133643, 106183, 23382, 138789, 132382, 23420, 69997, 140531, 66954, 131540, 174026, 105910, 23441, 122815, 121989, 116735, 23462, 159088, 197199, 120581, 130751, 143706, 159730, 185473, 42334, 23518, 93949, 194408, 23535, 195557, 183566, 199797, 48594, 130455, 187361, 65699, 40962, 23584, 23587, 170850, 89303, 34244, 23609, 110036, 119563, 112468, 49651, 196319, 199173, 23640, 108358, 192609, 128749, 157279, 110861, 134597, 167077, 117824, 23699, 23704, 163004, 183832, 23550, 161520, 111497, 23741, 128520, 92159, 187219, 178177, 23753, 69326, 192151, 168050, 137376, 84976, 179181, 98597, 118165, 130762, 136998, 125255, 143372, 90339, 135511, 23861, 183079, 114720, 148547, 131532, 125467, 23904, 178735, 23921, 150235, 161414, 149472, 23941, 61898, 110913, 96405, 139171, 130285, 181876, 129533, 116811, 118595, 110683, 5693, 135128, 149900, 115484, 32013, 165383, 46058, 24068, 24074, 110006, 137003, 28915, 67245, 24106, 119975, 80189, 41057, 179383, 179587, 163828, 132601, 24170, 24171, 196482, 185881, 138198, 190123, 24210, 74601, 184583, 166735, 171243, 110784, 127327, 193993, 181653, 62755, 24267, 24270, 155948, 24287, 146065, 153310, 65721, 86929, 118774, 170601, 164608, 193044, 176552, 24339, 24347, 24348, 77165, 160338, 71588, 116653, 180811, 173226, 69570, 68152, 163254, 185451, 142697, 128036, 102941, 131531, 174150, 47365, 134981, 197508, 171703, 39725, 64366, 134293, 47035, 139439, 58784, 24458, 24460, 195756, 24461, 94021, 111714, 89728, 148270, 199588, 61084, 39708, 73910, 24534, 197120, 186627, 24551, 163936, 24573, 182322, 189626, 24588, 148173, 153892, 150043, 75775, 91089, 182611, 131439, 158445, 81535, 141691, 123940, 49393, 183433, 76247, 36784, 106483, 181651, 24667, 169339, 24691, 24692, 166270, 24702, 114642, 68882, 161909, 58054, 142140, 156095, 114497, 113880, 96798, 97705, 81531, 24807, 69904, 120964, 77642, 179755, 95580, 24837, 106109, 166261, 24860, 190692, 199242, 53992, 181309, 174835, 162065, 71559, 93182, 167690, 194027, 110761, 191925, 24933, 24938, 24940, 123429, 108469, 112470, 129033, 193603, 164622, 77788, 195041, 136829, 151978, 165827, 104725, 85427, 25015, 136184, 84518, 126206, 47240, 25059, 173324, 109044, 164360, 25111, 95773, 54922, 175573, 184929, 105131, 25138, 94918, 193706, 167098, 25154, 40616, 101375, 19499, 181593, 161214, 145910, 176730, 107510, 168154, 61852, 84640, 139978, 25230, 127494, 25252, 65005, 25258, 199950, 183339, 165895, 58294, 25285, 162817, 34177, 196413, 60121, 86813, 78668, 25305, 27552, 20333, 76922, 25319, 141052, 25346, 109667, 159421, 141059, 29326, 146221, 200141, 58477, 160477, 28874, 93056, 183713, 25399, 94180, 25411, 25416, 128780, 178063, 172230, 186515, 25451, 25454, 30994, 152909, 59549, 83189, 138061, 79654, 25495, 25500, 158681, 25507, 164181, 82591, 25548, 170416, 63463, 95520, 98348, 83950, 170495, 81304, 44082, 86627, 83891, 72632, 38278, 76464, 25627, 118741, 68712, 195819, 76166, 25664, 65829, 106163, 143632, 88056, 25698, 140001, 32697, 100049, 53233, 111784, 33236, 145405, 25754, 60783, 25769, 172735, 109450, 65449, 150601, 25797, 188891, 188557, 29113, 181451, 123069, 25843, 127253, 167371, 74740, 149157, 145283, 77221, 25864, 165527, 198853, 186716, 49407, 136939, 47008, 148682, 191291, 138302, 177947, 183535, 115590, 116690, 64547, 63554, 90296, 25941, 120633, 111226, 86577, 84985, 25963, 121526, 164298, 178020, 192395, 143541, 119957, 168858, 93642, 33150, 195941, 77054, 192978, 187736, 69941, 178270, 26058, 64735, 114082, 41474, 116217, 95378, 26079, 116722, 26095, 166811, 159069, 110535, 137776, 39346, 140081, 197971, 88216, 132430, 106056, 174556, 89808, 196812, 102902, 170758, 190114, 143848, 26248, 172615, 116914, 146639, 70943, 157755, 80703, 76043, 153340, 172612, 126713, 157675, 196031, 32819, 32895, 185893, 145148, 107877, 26341, 63457, 26346, 175124, 26352, 194126, 53462, 181610, 26373, 26374, 26390, 185452, 26398, 140857, 26409, 100374, 158175, 178753, 86658, 26419, 129567, 168807, 101692, 71315, 98734, 26448, 61742, 154300, 122536, 26484, 26486, 67354, 26489, 153055, 26500, 50688, 82410, 95444, 26518, 152433, 26530, 13943, 26535, 168937, 64013, 121552, 125252, 190934, 102470, 26564, 59863, 118184, 179478, 128882, 26604, 26610, 73293, 26627, 148072, 99981, 166200, 113747, 178797, 138463, 156548, 184290, 26653, 26654, 91772, 26662, 40376, 156292, 26666, 161809, 99745, 150103, 192006, 26705, 185390, 157619, 191460, 66260, 187354, 166714, 135729, 26731, 176846, 190087, 106522, 38299, 62857, 156778, 138278, 144381, 112602, 138932, 68840, 114975, 26821, 26822, 146085, 83512, 35778, 26882, 197827, 165261, 135797, 26900, 164968, 163642, 198128, 61882, 73069, 155925, 128648, 78724, 184666, 93654, 123202, 38620, 159338, 77415, 187061, 144518, 27054, 191507, 199754, 68496, 171711, 27078, 159310, 171249, 123368, 69078, 27105, 80140, 27116, 80955, 149760, 52644, 196354, 139400, 50203, 180257, 113049, 27168, 116257, 103809, 27184, 194505, 129917, 93829, 36214, 27207, 63779, 149370, 118017, 27222, 110233, 133276, 72604, 54496, 27283, 181050, 157793, 27299, 81277, 194526, 147339, 199172, 172575, 131863, 140484, 27334, 27336, 35208, 27341, 191165, 27344, 27345, 61232, 184809, 27352, 153227, 110069, 114528, 27371, 177494, 160103, 95607, 177314, 167859, 47493, 40204, 195791, 69201, 78275, 27431, 27435, 99110, 27449, 179410, 27454, 141200, 154301, 27460, 130737, 54422, 179652, 27467, 154190, 164582, 109648, 92121, 27639, 149502, 183297, 49458, 112888, 139954, 78099, 97370, 157760, 119050, 46334, 47216, 27559, 27569, 119083, 194409, 157685, 27591, 132474, 46571, 182295, 120892, 150959, 119099, 152802, 135177, 34412, 107434, 57270, 59071, 72134, 199647, 181768, 99785, 152079, 178374, 115697, 37877, 135542, 106327, 178822, 179243, 27745, 162769, 167107, 168351, 130706, 137819, 130559, 27800, 143645, 84010, 190468, 37554, 27841, 43158, 141029, 181342, 125787, 130187, 70599, 27864, 197527, 27891, 167285, 198197, 85673, 159815, 44489, 27935, 121651, 27952, 66471, 84228, 103212, 27976, 196045, 91881, 196836, 86359, 193651, 28033, 160314, 85683, 147778, 87578, 41276, 64813, 28084, 197108, 177510, 94294, 103215, 155150, 144644, 167255, 101241, 193656, 185953, 78397, 28181, 198714, 89502, 182610, 28205, 100152, 81145, 188003, 29732, 134185, 28241, 104032, 87527, 28922, 128929, 175760, 107985, 48305, 101342, 129727, 194881, 192020, 28291, 28297, 162537, 77494, 74029, 193560, 177295, 110758, 28333, 28335, 164693, 173485, 28341, 158876, 170678, 80875, 171770, 85525, 28367, 137394, 28387, 161903, 93466, 121682, 28420, 134126, 169985, 172311, 77916, 85574, 65836, 94578, 120540, 170169, 28482, 34253, 138245, 145120, 28502, 28507, 142285, 138925, 68493, 28516, 44277, 200022, 167189, 33791, 132880, 28557, 176121, 141011, 185855, 28595, 189043, 139436, 199327, 67776, 111672, 197944, 140397, 28646, 154493, 156611, 28658, 32975, 161654, 28675, 28686, 195995, 88535, 115808, 197850, 129273, 47893, 28734, 28740, 131860, 103759, 195580, 82274, 96273, 102786, 180820, 84916, 38279, 28826, 172026, 126897, 176857, 137712, 97353, 147740, 28861, 64817, 95297, 28878, 147346, 60456, 28894, 197017, 55654, 51608, 135666, 61930, 59402, 28939, 28952, 145599, 154932, 130807, 192128, 48143, 61574, 48638, 28967, 151338, 153024, 117535, 28973, 182794, 125179, 28985, 28986, 183741, 29000, 90071, 125519, 164261, 118985, 145863, 135281, 93167, 196972, 90427, 29072, 175534, 148947, 65887, 178639, 74592, 151133, 134456, 95755, 79919, 29155, 153571, 179380, 102546, 103405, 132128, 69197, 181365, 29178, 160745, 196126, 167755, 76387, 171506, 143831, 116929, 164102, 155522, 188504, 95258, 131501, 96702, 105623, 82275, 149294, 165398, 97690, 29321, 169250, 29339, 144244, 29350, 99005, 29369, 82206, 29372, 29377, 129702, 29385, 76454, 178003, 172499, 138804, 143016, 113285, 103682, 160761, 69803, 170241, 136033, 130133, 164259, 29455, 140561, 182039, 117398, 29475, 36265, 66573, 117217, 119058, 149530, 71439, 77129, 79661, 155615, 189636, 197379, 87960, 104991, 137223, 38815, 134612, 29658, 29662, 29663, 170021, 165775, 29674, 29678, 162048, 165409, 40550, 183890, 29699, 29706, 175326, 58375, 32717, 113047, 29737, 127363, 29760, 81383, 29768, 142572, 118815, 68448, 29809, 147154, 143208, 99182, 123092, 68021, 178794, 130869, 29844, 92895, 104006, 198430, 29881, 186849, 178653, 105753, 184176, 128404, 124383, 54797, 29938, 117156, 166555, 128891, 178325, 191968, 111260, 29960, 88845, 29978, 66940, 29990, 147628, 172953, 29992, 73523, 29998, 192251, 168054, 30005, 183961, 155698, 30016, 82969, 161470, 30042, 91504, 159053, 135054, 59948, 82696, 71769, 47280, 195892, 129958, 96209, 48296, 123541, 83492, 188439, 175815, 57539, 84721, 187762, 30145, 150065, 132023, 30168, 120402, 199001, 30184, 88030, 43817, 128967, 89843, 191548, 30236, 96021, 110335, 30269, 158103, 182013, 139534, 154639, 42518, 191970, 30331, 187646, 30343, 181507, 124018, 112598, 30353, 185325, 89931, 85263, 87087, 159026, 119117, 193939, 86159, 188825, 76236, 93095, 125026, 30416, 173242, 30429, 121903, 197729, 153085, 148872, 156713, 197762, 30457, 153344, 101277, 67759, 151387, 77234, 30472, 130402, 168408, 180640, 30485, 108878, 121685, 30670, 38446, 11746, 189477, 49763, 79445, 166488, 124732, 45433, 46869, 135840, 138282, 178803, 153080, 30598, 56403, 36169, 30631, 143517, 178832, 127136, 30658, 135827, 189984, 191162, 64649, 177405, 141154, 157531, 178934, 119501, 167177, 144699, 98005, 167225, 199483, 161622, 159232, 125163, 155316, 59638, 106051, 132034, 59910, 104680, 157709, 179550, 193536, 53903, 175319, 129618, 30867, 122957, 146125, 69533, 72560, 80478, 185419, 30912, 50526, 196805, 53815, 40851, 179039, 30932, 175402, 161039, 101193, 49155, 36136, 46133, 171047, 110514, 193786, 131171, 99705, 96471, 114896, 196903, 159974, 175606, 31033, 115962, 114202, 80457, 31049, 154954, 184161, 107974, 141616, 94313, 62994, 169903, 77720, 72037, 31106, 159791, 117874, 133561, 122672, 194464, 153361, 88875, 31175, 31179, 159570, 198021, 149285, 74946, 133380, 31216, 121165, 54625, 74558, 48860, 193365, 157991, 185723, 108139, 36061, 102043, 31251, 31252, 58933, 192799, 31259, 87536, 31266, 117892, 31294, 171955, 150036, 142740, 133468, 31326, 135754, 49415, 40182, 31332, 31333, 114079, 73977, 115190, 31356, 76654, 72257, 107674, 192672, 111646, 128175, 153314, 80649, 157156, 65776, 31451, 179177, 71030, 163806, 31461, 31467, 124216, 31471, 106445, 80289, 31487, 195508, 55395, 98023, 131616, 31513, 133983, 31520, 31524, 52357, 31536, 123361, 131097, 65464, 107116, 34377, 173053, 95553, 57384, 111294, 186930, 192912, 71255, 31594, 173782, 153390, 198600, 99677, 185717, 31635, 140381, 31652, 88462, 58034, 158021, 108459, 144572, 181311, 157560, 34151, 178889, 187919, 31710, 31711, 167090, 31725, 31730, 31732, 186985, 34676, 31754, 116357, 152674, 115655, 31789, 61002, 186662, 115254, 152638, 148446, 31859, 103086, 31873, 156542, 136598, 31901, 163925, 156995, 31930, 198888, 199224, 145757, 142979, 31997, 128373, 134962, 32010, 77351, 176094, 32021, 154924, 89167, 89681, 168232, 152120, 145521, 107204, 184668, 35797, 32072, 145258, 39747, 14510, 32133, 185175, 86676, 79677, 105816, 129919, 157914, 41913, 135509, 181323, 32192, 131038, 179743, 83980, 131411, 166486, 32225, 32227, 129497, 182712, 105064, 94910, 99068, 172255, 32273, 156766, 119171, 69868, 131990, 110199, 165043, 163408, 81682, 116559, 165662, 112765, 149682, 143299, 131590, 180458, 188578, 66003, 160278, 162528, 107168, 65591, 67786, 94820, 32436, 165003, 32626, 193903, 32453, 135328, 99243, 86827, 53980, 123280, 78512, 131407, 156649, 33449, 22013, 195654, 32532, 32534, 42577, 32546, 167908, 32561, 129744, 32567, 129216, 196879, 32589, 110664, 182011, 32609, 67463, 146052, 39224, 32635, 66395, 32653, 39453, 89607, 81576, 37993, 128067, 32736, 51046, 39053, 32778, 53603, 61677, 138122, 164134, 89993, 32800, 67277, 115152, 153132, 186670, 127062, 122638, 32825, 197470, 55685, 77603, 124247, 32847, 32853, 84589, 82345, 129269, 149850, 59711, 164884, 174363, 111402, 69666, 32894, 32904, 183316, 32912, 32928, 166153, 192603, 140179, 147259, 76562, 61148, 47610, 83112, 179536, 156039, 32989, 148403, 151134, 188800, 104335, 44774, 104722, 52839, 133656, 151696, 195855, 145432, 130180, 164848, 72946, 165955, 191090, 33141, 33155, 153137, 33173, 33178, 106188, 33194, 87059, 33200, 171511, 176234, 179691, 197339, 89815, 68057, 187004, 104964, 33250, 194698, 33261, 78726, 188968, 135559, 73948, 105120, 45133, 117632, 52698, 177768, 135361, 40982, 103445, 33379, 161567, 197538, 124411, 96043, 128639, 169373, 70035, 194977, 114777, 64725, 97625, 60595, 33560, 69012, 136149, 68795, 143802, 50464, 33582, 105864, 169589, 48857, 65934, 144994, 42633, 67242, 33633, 33635, 107530, 81679, 33652, 62295, 33664, 175787, 66241, 135578, 74377, 63228, 192989, 193215, 5971, 159291, 93896, 98049, 33733, 101876, 199983, 188702, 34041, 109035, 46091, 94118, 115811, 33816, 143369, 116857, 25008, 180286, 94994, 33860, 194410, 142229, 66525, 159633, 153736, 129550, 33901, 64448, 131802, 190484, 33916, 33922, 199825, 194531, 168801, 144671, 182696, 166335, 33992, 167568, 34046, 40150, 167992, 34076, 30473, 192924, 92074, 136032, 133823, 72455, 134947, 34144, 34153, 129122, 175549, 34164, 34168, 170070, 34176, 34188, 187604, 34193, 144311, 146621, 34210, 173775, 34225, 85493, 130161, 34233, 195829, 115050, 174952, 157557, 185247, 168262, 104011, 123055, 92040, 79411, 79719, 102509, 34321, 192618, 95154, 175221, 34358, 197620, 179744, 184786, 34394, 127573, 168212, 188920, 125308, 45240, 120328, 88578, 151139, 34488, 121271, 65378, 187420, 53414, 94834, 159033, 184049, 89371, 148117, 111608, 123199, 186638, 193045, 83837, 34593, 78628, 34607, 153469, 34615, 34616, 117188, 165200, 137434, 170947, 34659, 174230, 96550, 76470, 176546, 130503, 147238, 147796, 34782, 34791, 139424, 173552, 135418, 78921, 34854, 34865, 34868, 55995, 136563, 34890, 156606, 186184, 34920, 167535, 66958, 160702, 34936, 93687, 79969, 136384, 65258, 188081, 126635, 123719, 130007, 43771, 118573, 174958, 34992, 71471, 35003, 175996, 181758, 35030, 35036, 155061, 35043, 35044, 191600, 98383, 131753, 196736, 176503, 191061, 94824, 112921, 134043, 35112, 149724, 199612, 87036, 184537, 138504, 120905, 35151, 105275, 146510, 148648, 197260, 97215, 166608, 35178, 56831, 35193, 103283, 112280, 35201, 164129, 127103, 42849, 121803, 113108, 132011, 171774, 124407, 46152, 35304, 107624, 89232, 144912, 35317, 50837, 189786, 35335, 173031, 35340, 155004, 94911, 177293, 35367, 121596, 191367, 35384, 35391, 55884, 179659, 124532, 151469, 112927, 142665, 161474, 108399, 56388, 65596, 156709, 142532, 160591, 35463, 110145, 79067, 132966, 103016, 136324, 107914, 90737, 94181, 95162, 35521, 133173, 183121, 135620, 171812, 54593, 51157, 35548, 108031, 68596, 35570, 166226, 172089, 158967, 78624, 90991, 100403, 180056, 54256, 158617, 35669, 189119, 57488, 189821, 35686, 100421, 156742, 193157, 35723, 142747, 83710, 68664, 164254, 184324, 186575, 58305, 186925, 35764, 35766, 168204, 157359, 193963, 189746, 138380, 43256, 95073, 35795, 133452, 35824, 59725, 35833, 35841, 159131, 110376, 167085, 157270, 163206, 75430, 158032, 164768, 120087, 100985, 174356, 64564, 37534, 82142, 108391, 82912, 103707, 126167, 160832, 192936, 175638, 149327, 35965, 45685, 200130, 136946, 159884, 23293, 120107, 110598, 36017, 36018, 150839, 153431, 36030, 102848, 191036, 132749, 184247, 193668, 151740, 142730, 189131, 97218, 36056, 137681, 140814, 44310, 151039, 110951, 36101, 167648, 153432, 149559, 168037, 80173, 142228, 135985, 36145, 181821, 159886, 36160, 36170, 192731, 162019, 36204, 84420, 66371, 141754, 85086, 182068, 72777, 64046, 159525, 147348, 92538, 159973, 36307, 181952, 36308, 184920, 141645, 98762, 41850, 36356, 196727, 67694, 196995, 133081, 36407, 173092, 117454, 73458, 147449, 36446, 61006, 175429, 142375, 78913, 156150, 42958, 100387, 36502, 184733, 36508, 131389, 119766, 200157, 107911, 141781, 81076, 171861, 36558, 171590, 36569, 161894, 56280, 95720, 123233, 194892, 112695, 36604, 67033, 48920, 36615, 197898, 150782, 141087, 51091, 152779, 144465, 36676, 113755, 36686, 185727, 36706, 36717, 91970, 84238, 162492, 36756, 137736, 137899, 47743, 36775, 66338, 167495, 192578, 36822, 172181, 41518, 156727, 150168, 39624, 124123, 106115, 146309, 36860, 115019, 163078, 111406, 36900, 36907, 151030, 54734, 156992, 180733, 68932, 36948, 36955, 66238, 152411, 41637, 36971, 57144, 187899, 125590, 36992, 101154, 37004, 45898, 166974, 37029, 123087, 37039, 53937, 176622, 195907, 85500, 105263, 37081, 146589, 120264, 37091, 160955, 37102, 161782, 47148, 103469, 198957, 158139, 37108, 198248, 81060, 185182, 37154, 85013, 129328, 37165, 165997, 181583, 138475, 185632, 37217, 68019, 167071, 88189, 170032, 37254, 184754, 192905, 94497, 118825, 146756, 103741, 89309, 141155, 37300, 26525, 36146, 145887, 55953, 37346, 37350, 53294, 122378, 62620, 37388, 106956, 169944, 37398, 142866, 37410, 156077, 46985, 59677, 160353, 165957, 111289, 178300, 37457, 128795, 161836, 61846, 37469, 179273, 131896, 192319, 37498, 125256, 82530, 37526, 188937, 166939, 65236, 74052, 19056, 189560, 163885, 65925, 89842, 37571, 37573, 117636, 53719, 193800, 107497, 37600, 37601, 158279, 146018, 58765, 77704, 182316, 197244, 13166, 112933, 37679, 74761, 37687, 37692, 118645, 199034, 37700, 164216, 37731, 150768, 169433, 175610, 110180, 174710, 172192, 37771, 45970, 37776, 196019, 198771, 15538, 57697, 37815, 135601, 95728, 177080, 58522, 32918, 57614, 174473, 37860, 168936, 37866, 64736, 90385, 119956, 90563, 37944, 180970, 80293, 174636, 105624, 147173, 185541, 42348, 180866, 144794, 179879, 116275, 136947, 38065, 152884, 38068, 38074, 145906, 38086, 145755, 40645, 91593, 169115, 140138, 91476, 200196, 58761, 102906, 176065, 132217, 135436, 191167, 199591, 79233, 38207, 38213, 125476, 178130, 155173, 129928, 38246, 38261, 103781, 38265, 110039, 156327, 38310, 159693, 196580, 97608, 81964, 127454, 193874, 177708, 131481, 77322, 38378, 198547, 38393, 149042, 103429, 180294, 187498, 112477, 130583, 120324, 76092, 130364, 157190, 69195, 52402, 89446, 191321, 75124, 56914, 123874, 38515, 62128, 199902, 121003, 163703, 134200, 82337, 159682, 38564, 98149, 184135, 164592, 145827, 38596, 119371, 30815, 63677, 38624, 38625, 101282, 97879, 177702, 67843, 123864, 45265, 87112, 146316, 107436, 70987, 38680, 116655, 145499, 38711, 93969, 133433, 196827, 186068, 38763, 168456, 61415, 142559, 184554, 38811, 116922, 38822, 187293, 86721, 192002, 122532, 127988, 161522, 187763, 126832, 176286, 76474, 38870, 111616, 129914, 46549, 97974, 56878, 38938, 38942, 38948, 55585, 22320, 159064, 142748, 82253, 161549, 39003, 54416, 153536, 104481, 39020, 102775, 182529, 57380, 39186, 125646, 145555, 39082, 39116, 121924, 94923, 39140, 147582, 195068, 66336, 39182, 86390, 73070, 104426, 105204, 124451, 107716, 104374, 67943, 183564, 155678, 39227, 174115, 39240, 39255, 143014, 106295, 124480, 58965, 39291, 39296, 51627, 89066, 46948, 86777, 112409, 94041, 173243, 56361, 50338, 149301, 39368, 39373, 179552, 123573, 189755, 39397, 39405, 134384, 187292, 170503, 28812, 183115, 185821, 124586, 39452, 156218, 177889, 194647, 133750, 113909, 114275, 39498, 39503, 81592, 111114, 137639, 34560, 39529, 95507, 168909, 194444, 189938, 21832, 59068, 84919, 127268, 134163, 47359, 168650, 134196, 39612, 39617, 198844, 144784, 39640, 39644, 159598, 132053, 114344, 49671, 39684, 92703, 137303, 39711, 39716, 39729, 39731, 160865, 195845, 100868, 67374, 39772, 110275, 123126, 39792, 39794, 189027, 39798, 39820, 39828, 39844, 39855, 156100, 39874, 109140, 70048, 101318, 170145, 178991, 177215, 39909, 123947, 126846, 126667, 95719, 39928, 165706, 39943, 188258, 39956, 139830, 39975, 191915, 125872, 179219, 40000, 149918, 109776, 163486, 144467, 103056, 121453, 40043, 51278, 182819, 92337, 149261, 120339, 61344, 167569, 135040, 175982, 172977, 168463, 116292, 131587, 40115, 125131, 96421, 182500, 130552, 151998, 155085, 46910, 117647, 148808, 140926, 47427, 139512, 43747, 194110, 40237, 40246, 151592, 184598, 40281, 40282, 186194, 40323, 198520, 120523, 150562, 63537, 33554, 40344, 86417, 40380, 185363, 147580, 118446, 40424, 40428, 122612, 144078, 182437, 153300, 190582, 40444, 146112, 148285, 49523, 63749, 145792, 142672, 71434, 70279, 87265, 70033, 182380, 64206, 160394, 42916, 114903, 90626, 72787, 40575, 170841, 40601, 109343, 179145, 40626, 71151, 40646, 105126, 47351, 143160, 152651, 194893, 53620, 198345, 70723, 188546, 180225, 92821, 119047, 95497, 142280, 154310, 179928, 40747, 195421, 126950, 178809, 133266, 140486, 190031, 162105, 112036, 145324, 5776, 120980, 40843, 62889, 40859, 79181, 93325, 75474, 40875, 40881, 199520, 133634, 130714, 116152, 40901, 158739, 58011, 90617, 40933, 40939, 120022, 40949, 119239, 188190, 166344, 158784, 200060, 183227, 159157, 132817, 126647, 41026, 125922, 41035, 194463, 192115, 136705, 177463, 147150, 196692, 50033, 71031, 128514, 189415, 171274, 152346, 194254, 67205, 125512, 101254, 138745, 41209, 159133, 67757, 150598, 104042, 53705, 151171, 65413, 41282, 142141, 157402, 190231, 23539, 35469, 165157, 94052, 91074, 122003, 41340, 198561, 108291, 172952, 160371, 173156, 48818, 187229, 197537, 154030, 171145, 184303, 194396, 84605, 80042, 147924, 164613, 63037, 41454, 41455, 73630, 166267, 41476, 68146, 41489, 122191, 147911, 187630, 150453, 41541, 78312, 83977, 169880, 41554, 197938, 125696, 176348, 179105, 128249, 41605, 155488, 152203, 155214, 99251, 41644, 41649, 41652, 41654, 41668, 106203, 139506, 128837, 150515, 161906, 41690, 41698, 41701, 158806, 138006, 197903, 97081, 47832, 188558, 90052, 41734, 99450, 41749, 69816, 126363, 41769, 41794, 41795, 141394, 41801, 127617, 176190, 115421, 174161, 79830, 144486, 41834, 186241, 49736, 49532, 150748, 189302, 108187, 98955, 121872, 93556, 158859, 84174, 145388, 41926, 77043, 196131, 41951, 116156, 74533, 179171, 41967, 192952, 41997, 120152, 42025, 42035, 173337, 176556, 154047, 62933, 90754, 56712, 168738, 73965, 68246, 114737, 186915, 88687, 42102, 190813, 191617, 84318, 131710, 127051, 123310, 166206, 186958, 42142, 136524, 113634, 158544, 42203, 56783, 82826, 145214, 91358, 75457, 145620, 129457, 74347, 198551, 131433, 139662, 87474, 42254, 87070, 134263, 42265, 60972, 142014, 89353, 42303, 180021, 157304, 188075, 180276, 136679, 75327, 192029, 155642, 42383, 66633, 42404, 118310, 183378, 42421, 152522, 42426, 54359, 131036, 135497, 113282, 52439, 147236, 134480, 189613, 99060, 168773, 190541, 42480, 164104, 125193, 191490, 42521, 198047, 187570, 42529, 42532, 42541, 144040, 83174, 196966, 128818, 75877, 112907, 61454, 110458, 42585, 195020, 179660, 42602, 114513, 180342, 137659, 87697, 149279, 47768, 122846, 185526, 138964, 192890, 42676, 158087, 177053, 182606, 102970, 146687, 42706, 150166, 179160, 109553, 101923, 153926, 159241, 174899, 154233, 148895, 190757, 42809, 110256, 42827, 93366, 83219, 90525, 42846, 42854, 196213, 163529, 139054, 42874, 153710, 179891, 56436, 184930, 161429, 42929, 152023, 168528, 150056, 141455, 198038, 173232, 147817, 105918, 189354, 152388, 161031, 43033, 134359, 43049, 122431, 77240, 54541, 43077, 182740, 43110, 69771, 169731, 176617, 163767, 43147, 69286, 106467, 57019, 131157, 137290, 175443, 43194, 46348, 161830, 100352, 91054, 111987, 192561, 189376, 155281, 168186, 43225, 43228, 93573, 172065, 178376, 93344, 43267, 120116, 173815, 84761, 128070, 55907, 83432, 52381, 140333, 141932, 157559, 184435, 177897, 151832, 134807, 91406, 132824, 135767, 80547, 146283, 47017, 130156, 77186, 69847, 43469, 140607, 43476, 73157, 169770, 199045, 63820, 183900, 43502, 141299, 131371, 192040, 43523, 63673, 151326, 173768, 177774, 15264, 107090, 187907, 63992, 43616, 93936, 78160, 64453, 112534, 102506, 43659, 173287, 165203, 180828, 45581, 178944, 170999, 71925, 191595, 160598, 152429, 190300, 43750, 113244, 185980, 153753, 159431, 43768, 199695, 43787, 192161, 146853, 193798, 180058, 43815, 115313, 98977, 80731, 167380, 75270, 145520, 117223, 43905, 104314, 106125, 65202, 66579, 162612, 172002, 165281, 95753, 105955, 118639, 158278, 84548, 43980, 69395, 115748, 104406, 44039, 44048, 133335, 44053, 189301, 44058, 160953, 44073, 154356, 66343, 157385, 173261, 125409, 88453, 142756, 142986, 152676, 138782, 82089, 109982, 150182, 44139, 140796, 44153, 44154, 98584, 113215, 187930, 158406, 188601, 37813, 190264, 166428, 191871, 35132, 161961, 162705, 44248, 186483, 178271, 187434, 103943, 146745, 154544, 112358, 132900, 44293, 126344, 160020, 44313, 62353, 189791, 154298, 48864, 183746, 44334, 40830, 138004, 133364, 180260, 104009, 154432, 156417, 154948, 44422, 44429, 124786, 157605, 144826, 172796, 185476, 44473, 187149, 123964, 74702, 119438, 112425, 44511, 58116, 134440, 44528, 87541, 44532, 66762, 138652, 44557, 44558, 172590, 103395, 194399, 190605, 197455, 176898, 44598, 198150, 159749, 61643, 132216, 198515, 44636, 75768, 142977, 148311, 112129, 44681, 173695, 65082, 44700, 97210, 44704, 193942, 99064, 111656, 111271, 44731, 187493, 127774, 44761, 106579, 44770, 54594, 44809, 192329, 176013, 64677, 112833, 126472, 155532, 98527, 116930, 57769, 133952, 44899, 195681, 89130, 44912, 95211, 172969, 62626, 68672, 109474, 44952, 44958, 106468, 171648, 62281, 143195, 44989, 124212, 193648, 113034, 186780, 137583, 45031, 64540, 148044, 129375, 50345, 89392, 104576, 45071, 45086, 103012, 176884, 185402, 102310, 71965, 45113, 187956, 136429, 177014, 167522, 115206, 170871, 51051, 95842, 172358, 45182, 149164, 166215, 194369, 69184, 45220, 86858, 79138, 193743, 191638, 45244, 151759, 170142, 154340, 153336, 154959, 145256, 60933, 148850, 147227, 45352, 184695, 45360, 120890, 69164, 178661, 81119, 194662, 107186, 152716, 126093, 74115, 64112, 147891, 45424, 45441, 183161, 199486, 45447, 130263, 77131, 45475, 118228, 78135, 45485, 168643, 154576, 137751, 94835, 19548, 193529, 136018, 52548, 87088, 116085, 95241, 140038, 69006, 45550, 45555, 144975, 45562, 120049, 99610, 97050, 195177, 77655, 56413, 116104, 136597, 45623, 45627, 176261, 166866, 150378, 45669, 133273, 184355, 171705, 119968, 138158, 45722, 170135, 46228, 46057, 193966, 162209, 69274, 45765, 75898, 45774, 74291, 45802, 45804, 47144, 56452, 45826, 129047, 164529, 157207, 153088, 108455, 155342, 112067, 59106, 163035, 97823, 45890, 157699, 89678, 107998, 99537, 161383, 45946, 155628, 45963, 52905, 184969, 195792, 175211, 183858, 167102, 200078, 184823, 195714, 137351, 120867, 51990, 124838, 127378, 156781, 188693, 194154, 167624, 46074, 179581, 151899, 46092, 103302, 156608, 112884, 100575, 46116, 189425, 46127, 46137, 77897, 129739, 120203, 127975, 157926, 46192, 173838, 183769, 57616, 46203, 191541, 191405, 125202, 50384, 172571, 164780, 46260, 68931, 145001, 46296, 112323, 93207, 160146, 162936, 59672, 198053, 162302, 86047, 166557, 129029, 46384, 46406, 46422, 158056, 103311, 126855, 147455, 148367, 120108, 171786, 46457, 160274, 127642, 120420, 46495, 46496, 166109, 98661, 103914, 134883, 46524, 46532, 83372, 173727, 126013, 82352, 155874, 46586, 104876, 101142, 168088, 64099, 171425, 46625, 94686, 199420, 46641, 110027, 132284, 125666, 107862, 119066, 169832, 140219, 181828, 46713, 182601, 168003, 103942, 123800, 117596, 134813, 156288, 116858, 179165, 168494, 112536, 177372, 142366, 196340, 177592, 129568, 46791, 46798, 107710, 99162, 173115, 196403, 46840, 158386, 175738, 187681, 139914, 156270, 185758, 156962, 101747, 46876, 129103, 109041, 186176, 161317, 46925, 142403, 46943, 105151, 183783, 190566, 197730, 46999, 197090, 199925, 52464, 130609, 142425, 175865, 47051, 196500, 47060, 174241, 161248, 152314, 47077, 189509, 47087, 47092, 191636, 87308, 185166, 108285, 47119, 193784, 47134, 191110, 169904, 72442, 169746, 181436, 178609, 198489, 92458, 179646, 133224, 47249, 88321, 113449, 166999, 184981, 106309, 135987, 115578, 47303, 114677, 182657, 105482, 47334, 107823, 76965, 94993, 155981, 47462, 83014, 110119, 153004, 115960, 148624, 175736, 181626, 47510, 80969, 190485, 68900, 58251, 65291, 151681, 190608, 199719, 121362, 198351, 115191, 185720, 98699, 106290, 132051, 127483, 106159, 152827, 156126, 20764, 47662, 163018, 155300, 103655, 102992, 47680, 117902, 144263, 103441, 47732, 57090, 110872, 165945, 69724, 54765, 91165, 47782, 199475, 155217, 47805, 47810, 80062, 47815, 162943, 47830, 174399, 87190, 70628, 152954, 135956, 47869, 52895, 98163, 140216, 81312, 77385, 178678, 181750, 47909, 130983, 92599, 134059, 172775, 47984, 155595, 97721, 48004, 175190, 116836, 48027, 138872, 37048, 127703, 48056, 136325, 44233, 48078, 171061, 187525, 136573, 69255, 127765, 68471, 128271, 48121, 111432, 154077, 196057, 48156, 48173, 48182, 48202, 48210, 174867, 165106, 188261, 156915, 112078, 117154, 167503, 101354, 48276, 102749, 48288, 85627, 112430, 145449, 48328, 59415, 116590, 48340, 48349, 48350, 80659, 115418, 139504, 48391, 51542, 174538, 48404, 122577, 143765, 197897, 122728, 69019, 124007, 194058, 148427, 131004, 68691, 153376, 48461, 48462, 126657, 126941, 190444, 48514, 146743, 48518, 113915, 189599, 48532, 72971, 158299, 92092, 156015, 54330, 36570, 177641, 142639, 48581, 172746, 156281, 91048, 80921, 44668, 48642, 64556, 133150, 73839, 194116, 48685, 150550, 80408, 60362, 48700, 117759, 147056, 191737, 146001, 115210, 116556, 186814, 101760, 178153, 164414, 166272, 162221, 171412, 194719, 164462, 79092, 97747, 170229, 111448, 70994, 72285, 79253, 48892, 169695, 142797, 143911, 177625, 189112, 148589, 52932, 97713, 48962, 182165, 181992, 67011, 81056, 184136, 129286, 62731, 100179, 111830, 189856, 54919, 20597, 154697, 49104, 183003, 78413, 49112, 92197, 163052, 197444, 126491, 146325, 151350, 49166, 152380, 1700, 49226, 97873, 118280, 49240, 49241, 49242, 147754, 83602, 184801, 173502, 88129, 172102, 49269, 181416, 181458, 106827, 87887, 164117, 146063, 104816, 48430, 185457, 154337, 78911, 67659, 183582, 85394, 97932, 129354, 100216, 49383, 49409, 179159, 124968, 131028, 179393, 177097, 139629, 180665, 127004, 49497, 171140, 149704, 184428, 134269, 115835, 76847, 170195, 49551, 50116, 171792, 131755, 98496, 49603, 140493, 116246, 54769, 190630, 125431, 187220, 67472, 49667, 81536, 199398, 67239, 108246, 49715, 155117, 62093, 133217, 154479, 104551, 49785, 49799, 49804, 148916, 49829, 152046, 49837, 164597, 49857, 184725, 99490, 176259, 166683, 49883, 49886, 118945, 93594, 54689, 67668, 173523, 62959, 83114, 140565, 191299, 49972, 162933, 158905, 91368, 49996, 174856, 89440, 50025, 95813, 184295, 170821, 154536, 143443, 79140, 195928, 59546, 121595, 117245, 50138, 134625, 196560, 173847, 35024, 51911, 74064, 194076, 135180, 173205, 119928, 50185, 50189, 103766, 109107, 50196, 50206, 50219, 90067, 184555, 55491, 51454, 154678, 50257, 119671, 158838, 96940, 161165, 90692, 50314, 149987, 156527, 152409, 84141, 50340, 91488, 141268, 50347, 102830, 154735, 124246, 172982, 123842, 50374, 50378, 162873, 144562, 189750, 148046, 100921, 112531, 50435, 95062, 192724, 190098, 133732, 174876, 50490, 175653, 81760, 50507, 50511, 107489, 65419, 121010, 143068, 59339, 69577, 181870, 137181, 181478, 164380, 50618, 177545, 65267, 94032, 104639, 171135, 110399, 116727, 50665, 140362, 190210, 185011, 199282, 181919, 179811, 143074, 148171, 141008, 50742, 72215, 137928, 180005, 142645, 98350, 198685, 181722, 50782, 50788, 50799, 139224, 196785, 164981, 162498, 130415, 156154, 168702, 158474, 50862, 149878, 50875, 121361, 127058, 151088, 196058, 159987, 91460, 122078, 187428, 174719, 171053, 50932, 135598, 162723, 50959, 146797, 145656, 155011, 174034, 195366, 104343, 110573, 121649, 81690, 171752, 51023, 94484, 73585, 51039, 145683, 51056, 57206, 162165, 51096, 51099, 87998, 51105, 51111, 188365, 121529, 51119, 110907, 196101, 166292, 157300, 51153, 52965, 112929, 51180, 140446, 142894, 51191, 198418, 51202, 150217, 51228, 93647, 142353, 103391, 139865, 127455, 101744, 122271, 82339, 164185, 77898, 171727, 137729, 194306, 181476, 124295, 193302, 160111, 101927, 78849, 190382, 152602, 121597, 51314, 51320, 88889, 197156, 51350, 160382, 51358, 25730, 152464, 163392, 51379, 187189, 101712, 51387, 112438, 162220, 127078, 51420, 146009, 51426, 151944, 51482, 149790, 168268, 51514, 109214, 88338, 125377, 149002, 177354, 124106, 182873, 162080, 155232, 101066, 109793, 51589, 137691, 110466, 80574, 51619, 161059, 90670, 140316, 51637, 183040, 136609, 171237, 153215, 92810, 109092, 130079, 197523, 72509, 178072, 118191, 140336, 152912, 114020, 135349, 51733, 51749, 182180, 169842, 52148, 51766, 163226, 193639, 51775, 98448, 51810, 157538, 190634, 51825, 88067, 140271, 169614, 51842, 51843, 170274, 196226, 51852, 162257, 167134, 102022, 29901, 79579, 141810, 173251, 51916, 51919, 139849, 94264, 51921, 125129, 134136, 51934, 51945, 137244, 160619, 80427, 51996, 51998, 129197, 52009, 194591, 52011, 82660, 150266, 189099, 125109, 144089, 83106, 95321, 52076, 52089, 34510, 182656, 199635, 53701, 170137, 176851, 52108, 88039, 52117, 52118, 52126, 148157, 53092, 127030, 184257, 156138, 159470, 97184, 84763, 183370, 165617, 77718, 78440, 136771, 182931, 183826, 159283, 82650, 197302, 120663, 137203, 52290, 119969, 158018, 181491, 190179, 141019, 120689, 136349, 98854, 164445, 47126, 64178, 134369, 55040, 153780, 143241, 173522, 75216, 52442, 188251, 193246, 131031, 187898, 145836, 52478, 160083, 122387, 136922, 153851, 52500, 197691, 107590, 52537, 113338, 178505, 78109, 156357, 171101, 166103, 140385, 52553, 52555, 52556, 94931, 52562, 145417, 52586, 52591, 52596, 124815, 52605, 117719, 173229, 164797, 52628, 90356, 52655, 158336, 93092, 93818, 63338, 58966, 146970, 106865, 159486, 65561, 157937, 52735, 173351, 192502, 99150, 52807, 58312, 52827, 169362, 113615, 52855, 175409, 135812, 31535, 154034, 110565, 171621, 137130, 187666, 156401, 76724, 52922, 52926, 166716, 107832, 178099, 99771, 161481, 54826, 111408, 179321, 192643, 192500, 172248, 171381, 139570, 73662, 92918, 123641, 53055, 159213, 79466, 185871, 167994, 103573, 149977, 79357, 53160, 53166, 194158, 151605, 147210, 53205, 155125, 126118, 123551, 72558, 53271, 54970, 155346, 172510, 53292, 94256, 171338, 103776, 112646, 53311, 53315, 53318, 187190, 80871, 118637, 53329, 94980, 53337, 98789, 110047, 143118, 104932, 142611, 139456, 99973, 113223, 137524, 196133, 182190, 61968, 53402, 53403, 135731, 113399, 88297, 12900, 72342, 154279, 186188, 149380, 68329, 53483, 189997, 171488, 171909, 53508, 137988, 113943, 175224, 168685, 128922, 195574, 53589, 188785, 53608, 109430, 53636, 53639, 150973, 67063, 128852, 53709, 77971, 136506, 53737, 176605, 184518, 55177, 77051, 162210, 75829, 62702, 53762, 111128, 133309, 173342, 56880, 53796, 162915, 53814, 78864, 114460, 95709, 189735, 53863, 152910, 53886, 53888, 196200, 123418, 53943, 198260, 130237, 133292, 166312, 53975, 187661, 79921, 198760, 54019, 136352, 85382, 174386, 170420, 113639, 154280, 80253, 72284, 185204, 186338, 54114, 175033, 86192, 97217, 120496, 54145, 139657, 164202, 176672, 66602, 155203, 195052, 192099, 54195, 164701, 168228, 88421, 54207, 197930, 161090, 54234, 54238, 54247, 54254, 110581, 63393, 90205, 187316, 54275, 45745, 113645, 54300, 173966, 76146, 121290, 54313, 156441, 193545, 54325, 54329, 42289, 101479, 86751, 57525, 163847, 54364, 140651, 190450, 181009, 87499, 196135, 148111, 194888, 54404, 157948, 29204, 89759, 54427, 199538, 56294, 41250, 169591, 54445, 2866, 83753, 103550, 151298, 167324, 54460, 162182, 167169, 55971, 54492, 124579, 130885, 181761, 54535, 54536, 176287, 82041, 138735, 64527, 148583, 138565, 54584, 91355, 186043, 70753, 112302, 190092, 94374, 100556, 54675, 49127, 94345, 94813, 54728, 123236, 165124, 154349, 93119, 64476, 122559, 142783, 125380, 167243, 166809, 124431, 54823, 127522, 179014, 186946, 150236, 199057, 54869, 90522, 149781, 54901, 188721, 107665, 114185, 54926, 162261, 63697, 182453, 177227, 75670, 128059, 196806, 156879, 99952, 54994, 187298, 54997, 119916, 55009, 55011, 81621, 199308, 63646, 62931, 129920, 100508, 44400, 55101, 55117, 55121, 198272, 143866, 55131, 55133, 120447, 174873, 55167, 150849, 55175, 184291, 55221, 90340, 55248, 120924, 67807, 55253, 156963, 89341, 55292, 184032, 55317, 72023, 177364, 102574, 104367, 194017, 163100, 55398, 55412, 180243, 194201, 55427, 55429, 55432, 163903, 55438, 121044, 120898, 79695, 196324, 130970, 116692, 37809, 159630, 192314, 150769, 62481, 121922, 171060, 175778, 126211, 55536, 84095, 55541, 127664, 55565, 27690, 55571, 159848, 55578, 78666, 196081, 163183, 72671, 140929, 100097, 79399, 103034, 81691, 15626, 140838, 161023, 176794, 181953, 198335, 193699, 101792, 187842, 108513, 55677, 55711, 66111, 172691, 55736, 189332, 89752, 107977, 55779, 166824, 83884, 148730, 151060, 150214, 55813, 70525, 75618, 55822, 142274, 55843, 197698, 141774, 55856, 149367, 187926, 175279, 197104, 156550, 100602, 80070, 55918, 81962, 177119, 55937, 17197, 142929, 141748, 182684, 78892, 55984, 55991, 55993, 177218, 56026, 63019, 103093, 91839, 56064, 171470, 176112, 56087, 188457, 177556, 99519, 155716, 56121, 190897, 99922, 56138, 153787, 167040, 84987, 56177, 56181, 125440, 56190, 193294, 166980, 109682, 152437, 56209, 152559, 56219, 147448, 56229, 166511, 85498, 56249, 157796, 188618, 76221, 106258, 130049, 189504, 56328, 193337, 148378, 141695, 143687, 128164, 63966, 174579, 56425, 143423, 31913, 92082, 134903, 108938, 56445, 119348, 142990, 117109, 56470, 198593, 102041, 56490, 56495, 186726, 56501, 102229, 56515, 56517, 175821, 148694, 77070, 56556, 121660, 193468, 56573, 128781, 69234, 118317, 90031, 56607, 173373, 193400, 107484, 56618, 170623, 133745, 56633, 144595, 59878, 56653, 98501, 137984, 56672, 85310, 160355, 25899, 56688, 179810, 71551, 159350, 178106, 112599, 56736, 71602, 152770, 56821, 161593, 170384, 137306, 61826, 170961, 128814, 145997, 149825, 187436, 56950, 56957, 56964, 194366, 156976, 56982, 172111, 56990, 57018, 128593, 188082, 193004, 95788, 158908, 158331, 121718, 175174, 57102, 57109, 187622, 76078, 57141, 57154, 67947, 156949, 64927, 189503, 192568, 199679, 57191, 115161, 91910, 57224, 172268, 95831, 139165, 107228, 123027, 100521, 111825, 93127, 97860, 138994, 129636, 142826, 116657, 127618, 170529, 104430, 57399, 111388, 57417, 37166, 150240, 98441, 165040, 83478, 146424, 198634, 144648, 172888, 60549, 96890, 57465, 57476, 57485, 57489, 173460, 57507, 57556, 65951, 130090, 176930, 45224, 153045, 57610, 106305, 148655, 193355, 143579, 142139, 132679, 195434, 198529, 143510, 183289, 57664, 144128, 73788, 141609, 169855, 101097, 110945, 57720, 188210, 116703, 198955, 139780, 169658, 67161, 97278, 86591, 140068, 57798, 177334, 118179, 190887, 121077, 99552, 74851, 132657, 118943, 81432, 154303, 160191, 197956, 158566, 173476, 57888, 57897, 120220, 57902, 194102, 185150, 197554, 101368, 107781, 57952, 192833, 111299, 131196, 101093, 181839, 168779, 191487, 99854, 177466, 120191, 191139, 138788, 91184, 75165, 191220, 74559, 139682, 167220, 124979, 186580, 58109, 137749, 189757, 105581, 187653, 136119, 58133, 93086, 58137, 152282, 58162, 110172, 130045, 172371, 58171, 119966, 159427, 126938, 75563, 114457, 142871, 71646, 58213, 113273, 88521, 177151, 196147, 151149, 108933, 110585, 192629, 58278, 119846, 166295, 58298, 196683, 38884, 120762, 122959, 58318, 95660, 58324, 148412, 58357, 178401, 61615, 58365, 58366, 196457, 58389, 62485, 58408, 62975, 144436, 186256, 58421, 71273, 139004, 58427, 58434, 58449, 58457, 58470, 58486, 133897, 148800, 99394, 66901, 87306, 200018, 58535, 81821, 101518, 108420, 58587, 58590, 58594, 196832, 128598, 89365, 58613, 72872, 96022, 162007, 66755, 180459, 70203, 73200, 58701, 130707, 58721, 58725, 58740, 150009, 58754, 58758, 58759, 176229, 20418, 142159, 58806, 144813, 58811, 153532, 58822, 100093, 116272, 65713, 156376, 58891, 153245, 147790, 142900, 102961, 134690, 58899, 58903, 66897, 58920, 72201, 139667, 66976, 185668, 99841, 58974, 92007, 73446, 97641, 180198, 59079, 65582, 195086, 128371, 91232, 162472, 161636, 171007, 130448, 161047, 138724, 126297, 95871, 187826, 92622, 79205, 59202, 166249, 59226, 59243, 59247, 182440, 59254, 96264, 108726, 133499, 196544, 59341, 59347, 59365, 59404, 59409, 89857, 65200, 161343, 59429, 59433, 5837, 182468, 171124, 118979, 59480, 59483, 67021, 154040, 69762, 59543, 153165, 151366, 117057, 188726, 61253, 192361, 98809, 59614, 80898, 59633, 149240, 59645, 59664, 185029, 59666, 59667, 130257, 59687, 98947, 59707, 178378, 59717, 195228, 59737, 55748, 70254, 59794, 59810, 59828, 59831, 194127, 98397, 116528, 156935, 139367, 155221, 129802, 184627, 59921, 167116, 59925, 120883, 59933, 59951, 139850, 175701, 59957, 182741, 139544, 59969, 59971, 73577, 146332, 134111, 194877, 110381, 195599, 122855, 144780, 99137, 60080, 60093, 60096, 161600, 142096, 60127, 60136, 60151, 138129, 191692, 77641, 128686, 100920, 60201, 60202, 191390, 87011, 177967, 190447, 196164, 87897, 188577, 108207, 189967, 160050, 60242, 60243, 179080, 175562, 60260, 155643, 60265, 140792, 80104, 60303, 105915, 78775, 172422, 181537, 60340, 143763, 178982, 194763, 65079, 176431, 60400, 60409, 92618, 126273, 122125, 148616, 60439, 116618, 139749, 115573, 136368, 60466, 173771, 131828, 120043, 60485, 144789, 60516, 190253, 150569, 136023, 60535, 60547, 19167, 83803, 129937, 148165, 60577, 180106, 75957, 158404, 60618, 179421, 71720, 135242, 158982, 135312, 190479, 60646, 60649, 75763, 197921, 60655, 198866, 60673, 107125, 149675, 60684, 100898, 122363, 72779, 194246, 60724, 157726, 195219, 60741, 108586, 95379, 60773, 199861, 60795, 60803, 70550, 60824, 194948, 60825, 76737, 60871, 112956, 106244, 60878, 65590, 145040, 139535, 60921, 74167, 131151, 93287, 167173, 73137, 61018, 170962, 137519, 163164, 110090, 61089, 61090, 144058, 61120, 188237, 61157, 61173, 163957, 61179, 123039, 61183, 115487, 61209, 158550, 185702, 61242, 121346, 134074, 105066, 167199, 84846, 61291, 138052, 71745, 61299, 193911, 43394, 61307, 134032, 77432, 72096, 112355, 135932, 61335, 61353, 96809, 114672, 163720, 170689, 146634, 61403, 56908, 187955, 150795, 190616, 158114, 176215, 170865, 89087, 89683, 61481, 126467, 80440, 101646, 61507, 61799, 1815, 142566, 111782, 136531, 72348, 120153, 78304, 61584, 72251, 61588, 61596, 95362, 115477, 101782, 191244, 109230, 61654, 61655, 67773, 61659, 197425, 186015, 82076, 139058, 88461, 73106, 144807, 61730, 138001, 113004, 157802, 100264, 161056, 197579, 61776, 183362, 107650, 155558, 186195, 117298, 73643, 141389, 127783, 189467, 157562, 61834, 127033, 102523, 197826, 56331, 115910, 104477, 61870, 199310, 194233, 61925, 175195, 61934, 199664, 154137, 180262, 61963, 138638, 62002, 129210, 173978, 177297, 104476, 62033, 148291, 86499, 62055, 62059, 96232, 62074, 62080, 62091, 109543, 112314, 101075, 62113, 62114, 117111, 62136, 131583, 165069, 123439, 66319, 144202, 126306, 62182, 94131, 172867, 62262, 97114, 108477, 81267, 94809, 149415, 62301, 176891, 155396, 140160, 197551, 151831, 62360, 97149, 171495, 69212, 136852, 149169, 101561, 62410, 62411, 105606, 170891, 126162, 62457, 132121, 117060, 112320, 184013, 36454, 170624, 163706, 62503, 74564, 149690, 62548, 179576, 95287, 160781, 166535, 160045, 177759, 186710, 62655, 121188, 62667, 64493, 62689, 62695, 141984, 191643, 62706, 127944, 109804, 196320, 164099, 141009, 62790, 66114, 178042, 141936, 136457, 172232, 85392, 87322, 136360, 75415, 178000, 7271, 138871, 185072, 62908, 73055, 74452, 167452, 62946, 71805, 125758, 145889, 179531, 62995, 109771, 78750, 119235, 63186, 147062, 63048, 138339, 63059, 139242, 63078, 113743, 162192, 181802, 50514, 189213, 172430, 63143, 134112, 126625, 63180, 80992, 156333, 63224, 144516, 63250, 43625, 68571, 63282, 71289, 63289, 154135, 81279, 179843, 63325, 174081, 63329, 63341, 73086, 68705, 63348, 98468, 135450, 174913, 140942, 166368, 97819, 188290, 176616, 127119, 146607, 87925, 63493, 188818, 19691, 66577, 91871, 12435, 63544, 183793, 191766, 182127, 188528, 167123, 63575, 130147, 108862, 63581, 169984, 140846, 107957, 63609, 175062, 181404, 181536, 183765, 147438, 119119, 152893, 117429, 142819, 63714, 63715, 140552, 114272, 153428, 120576, 135507, 136003, 128414, 127628, 99548, 148121, 63783, 111385, 76779, 97376, 72033, 161209, 63843, 63845, 188653, 94991, 33935, 142093, 189348, 194718, 109861, 196722, 63873, 63874, 63879, 123960, 152142, 63911, 168944, 90876, 71523, 64292, 163968, 63983, 114116, 63999, 144643, 165277, 64022, 64056, 190802, 64062, 64070, 141825, 101243, 107863, 109964, 153792, 64130, 148215, 64155, 159580, 159299, 64180, 187209, 154134, 54700, 88976, 126311, 91638, 131530, 59554, 87940, 163825, 64304, 144152, 64317, 97049, 190796, 64381, 176162, 125386, 64396, 198898, 64430, 115945, 104433, 145006, 116141, 64472, 178183, 124688, 193718, 167226, 187590, 183636, 113453, 191425, 163670, 167986, 151546, 110428, 64550, 92002, 77201, 130124, 64585, 173404, 88957, 64602, 168185, 183840, 176340, 64684, 76980, 64706, 92900, 126513, 158886, 64746, 64753, 64779, 64798, 177138, 173754, 55522, 64870, 83457, 117932, 95096, 90781, 145372, 64925, 64944, 64951, 145793, 88760, 80636, 131248, 73011, 133248, 135808, 92294, 196868, 171466, 65051, 178015, 82884, 65084, 139280, 65135, 135715, 176233, 174923, 65190, 65195, 143647, 65219, 177980, 65262, 65266, 107407, 191927, 147476, 58356, 114331, 142407, 65310, 96767, 65348, 87490, 153901, 126017, 65398, 65402, 164313, 166585, 177371, 65504, 84647, 172271, 65514, 160864, 65524, 95289, 175569, 180810, 169314, 189114, 159584, 148330, 180740, 65627, 73227, 65642, 65653, 88701, 126895, 188963, 65677, 65679, 187551, 195665, 137101, 111172, 107775, 102020, 168074, 65783, 191538, 125898, 65818, 157327, 155101, 70400, 174330, 65892, 65893, 99542, 65902, 85616, 118838, 127452, 65941, 65942, 195011, 99222, 130460, 114479, 143055, 65992, 198104, 65999, 84062, 178497, 165611, 175231, 66036, 66042, 123685, 171186, 97484, 103752, 128024, 66115, 114835, 163098, 66139, 66145, 134644, 66157, 119425, 66169, 82510, 79201, 189190, 79700, 146624, 66197, 187915, 66234, 106320, 66265, 194488, 149683, 149811, 66294, 127472, 66304, 184732, 190244, 199078, 66383, 189033, 66389, 176136, 154474, 133032, 88307, 66430, 106652, 121633, 78771, 105822, 66495, 170859, 66511, 66523, 166722, 153950, 66533, 182803, 163800, 192877, 104078, 108024, 66585, 160238, 181572, 66628, 187260, 152307, 159124, 120660, 66649, 83308, 187495, 153556, 181040, 79301, 161954, 180831, 175134, 66774, 66776, 150739, 167525, 167668, 158411, 184472, 103258, 68195, 79423, 172578, 120693, 82938, 66854, 85396, 171164, 93964, 97711, 95907, 105473, 66895, 85775, 135617, 66911, 172699, 162762, 66949, 66952, 74902, 66989, 47812, 148528, 67043, 67046, 67057, 82285, 101406, 67071, 67073, 189698, 186163, 149630, 82497, 158439, 133607, 191986, 128418, 63921, 192159, 67139, 67140, 88454, 180146, 67175, 67181, 86800, 152227, 67217, 67218, 100615, 145974, 67228, 67247, 141461, 117941, 182515, 114910, 126422, 67288, 108553, 116361, 118388, 67326, 115255, 193771, 161308, 67372, 67378, 153777, 99166, 144499, 146646, 88489, 109831, 135755, 172373, 165598, 67442, 67454, 67458, 133327, 159936, 149547, 79665, 80842, 91751, 128948, 199742, 169876, 67514, 180304, 85455, 83116, 188776, 67571, 86609, 192341, 41890, 95454, 128454, 170574, 67652, 56060, 67682, 67683, 67688, 195295, 67717, 175276, 154012, 90636, 67728, 130114, 67771, 199775, 156834, 90158, 195811, 165996, 67858, 171683, 170512, 167072, 67876, 132522, 99205, 157512, 90785, 70245, 72844, 162799, 96600, 131477, 187953, 83971, 68061, 135055, 126355, 190500, 159432, 90778, 74936, 190476, 68104, 68112, 187474, 68123, 68124, 114931, 137555, 130771, 175414, 68158, 68167, 74734, 173547, 115734, 68178, 68180, 68190, 68191, 143368, 118720, 116681, 68224, 119407, 68247, 183698, 149810, 165958, 68284, 121427, 68307, 32274, 72423, 156057, 68370, 69628, 149312, 98515, 200148, 143089, 120304, 143393, 68431, 193816, 68438, 68465, 68469, 164516, 68491, 70883, 114287, 183679, 139951, 68520, 148982, 68530, 68533, 175309, 134919, 160376, 68556, 68564, 105818, 68594, 68608, 66757, 112485, 155299, 76321, 68643, 91036, 173890, 144871, 68670, 68675, 126998, 110747, 17828, 137458, 96552, 117883, 68724, 118516, 178343, 73159, 104203, 156280, 134427, 68794, 68800, 68811, 85746, 68824, 87089, 169989, 81665, 68856, 100351, 68862, 68866, 150820, 183151, 85295, 147457, 163162, 121608, 160115, 188176, 169030, 69034, 158878, 88843, 69055, 195157, 158385, 161286, 193426, 69103, 199071, 84551, 14630, 199128, 105927, 198262, 69708, 69221, 192098, 157482, 47938, 189695, 69250, 144929, 131787, 69293, 132841, 69331, 169125, 85867, 171992, 129350, 157919, 73110, 88860, 74204, 136258, 69407, 69408, 198710, 100103, 69457, 138404, 153192, 174004, 138892, 126061, 102831, 69506, 184476, 97753, 126047, 85214, 134306, 69549, 123672, 69567, 69573, 150397, 138665, 150880, 115680, 73224, 69646, 194724, 165025, 189696, 83383, 69710, 191651, 138347, 69740, 69765, 118276, 170847, 120602, 77739, 96035, 154503, 69827, 184449, 193638, 69861, 139510, 116457, 141003, 69889, 167291, 157521, 69910, 198870, 69942, 69966, 168822, 197935, 161358, 126621, 156303, 197326, 70030, 150418, 109627, 101047, 135735, 92762, 36898, 192281, 196830, 73215, 142948, 70131, 153477, 97684, 151337, 176687, 196194, 125363, 147583, 142315, 180332, 197686, 150915, 172227, 134922, 84480, 110394, 76911, 183311, 94427, 70343, 160265, 99449, 70353, 70386, 70396, 70398, 70405, 115920, 70418, 70445, 112876, 91801, 154871, 70468, 129036, 134711, 75727, 70496, 187417, 149362, 70523, 82672, 104346, 48531, 70558, 70568, 131082, 119742, 193061, 70601, 70602, 138606, 105334, 92223, 103562, 70667, 70669, 106564, 70711, 93981, 70736, 74858, 46833, 101986, 70774, 193528, 7731, 183834, 70811, 131077, 151007, 83138, 97660, 80065, 70838, 70839, 107698, 91231, 78194, 70913, 161614, 93196, 86250, 70960, 70970, 70971, 170490, 104293, 70991, 198315, 152257, 71002, 71004, 172986, 164609, 71032, 183578, 192567, 119637, 114794, 91126, 127643, 108478, 130722, 186055, 104747, 140326, 154204, 80317, 145310, 71229, 196105, 161026, 155029, 138847, 134097, 84622, 108913, 114076, 162218, 71343, 90977, 124785, 85375, 194402, 198074, 184109, 146132, 194457, 71385, 71407, 68034, 162326, 113917, 137943, 169050, 98316, 195060, 169987, 152447, 73664, 71530, 94902, 195026, 125196, 81742, 71578, 102905, 75027, 80492, 71610, 199930, 71626, 71650, 71667, 71669, 116756, 67429, 126839, 116925, 131264, 106817, 131729, 71724, 71735, 72417, 101213, 194470, 71776, 181554, 170370, 140742, 124948, 71862, 190430, 74503, 71901, 127928, 110163, 71929, 102580, 139306, 71952, 188447, 71983, 128667, 171152, 155115, 149637, 191979, 72046, 72051, 116792, 172842, 141926, 158130, 114800, 57459, 125938, 127623, 129790, 79002, 72118, 193860, 157901, 167412, 91943, 147263, 195630, 72173, 83499, 72181, 103368, 156443, 72579, 72217, 160458, 80407, 79059, 72240, 160950, 128673, 194571, 72281, 72289, 183482, 176425, 72309, 122126, 72328, 180341, 94814, 158567, 88242, 158816, 72413, 187588, 87160, 58448, 172392, 123121, 194536, 72473, 133657, 98504, 72515, 136850, 112012, 179046, 72535, 115093, 154218, 72613, 30824, 74329, 75187, 168726, 81019, 193041, 72679, 181971, 127040, 126596, 72722, 92384, 72745, 172289, 72757, 115593, 186920, 166560, 186351, 198408, 106453, 72803, 72814, 72831, 190236, 102213, 133978, 172679, 141540, 135085, 136332, 72937, 154823, 72953, 164543, 166080, 154537, 189039, 167097, 119419, 73022, 73051, 151323, 143835, 73079, 73082, 167056, 112353, 161446, 73087, 88631, 147700, 73142, 182487, 73173, 73176, 167786, 73186, 198802, 73201, 125182, 134277, 152799, 18955, 138497, 183257, 73239, 73256, 135345, 167682, 73269, 167632, 124126, 73303, 153779, 118252, 115820, 73317, 163104, 184196, 144698, 73332, 153365, 192073, 116709, 127176, 73407, 73417, 86268, 170472, 73436, 70107, 167736, 150676, 135068, 124221, 107176, 198010, 156628, 94149, 103485, 105591, 73536, 112415, 75532, 73568, 163022, 145168, 73584, 73591, 73624, 133170, 195003, 73629, 27531, 73646, 73851, 172935, 83117, 133546, 93390, 73698, 117195, 195567, 142734, 175795, 73743, 152194, 138402, 146185, 133159, 73770, 103924, 129536, 4081, 143441, 176520, 157134, 120516, 144921, 193166, 125769, 73884, 180934, 153304, 150783, 173824, 132292, 83865, 171547, 42789, 73973, 190209, 195621, 30600, 163300, 74028, 87888, 74045, 74068, 128159, 171507, 154322, 120398, 74152, 74156, 99159, 100520, 104707, 156836, 154184, 74222, 107040, 190298, 134014, 113109, 74248, 173470, 199485, 109828, 149033, 157702, 191742, 22814, 158595, 167762, 106179, 185069, 74405, 186308, 74425, 101443, 157850, 74475, 74502, 161342, 155672, 98064, 150208, 156268, 74536, 74563, 74570, 74580, 195685, 74586, 93633, 79078, 121057, 179499, 74640, 133474, 191502, 74654, 96780, 74684, 155732, 122459, 106184, 74690, 110342, 141524, 85953, 136715, 126228, 160383, 94696, 74788, 171534, 74822, 193000, 160630, 86037, 101017, 89822, 190290, 153648, 74907, 74909, 102201, 74932, 185960, 5205, 159614, 158803, 74972, 185023, 125147, 180959, 121973, 160606, 153669, 189522, 134629, 191008, 172834, 88492, 166099, 183777, 97064, 80975, 129183, 76074, 118233, 75079, 30817, 96321, 158590, 123430, 75104, 86461, 106723, 130705, 161083, 99993, 150158, 75168, 118807, 75183, 192399, 75186, 125581, 162367, 171051, 75220, 75222, 116151, 160016, 120239, 75248, 158919, 141224, 185507, 75293, 120942, 90302, 142046, 166056, 75329, 140331, 96318, 147506, 164146, 75379, 115857, 172818, 75397, 87394, 148344, 169422, 160994, 169748, 177376, 105808, 75468, 175045, 170434, 75534, 75554, 183760, 95391, 27707, 46674, 106228, 75584, 75597, 173166, 75628, 75657, 123366, 182594, 185021, 75709, 75712, 45410, 75722, 139597, 195520, 104989, 176864, 75765, 159097, 103629, 178107, 168052, 75844, 113920, 198488, 196392, 138285, 181214, 177220, 145392, 139790, 75905, 75917, 75918, 105549, 75981, 152150, 76001, 74927, 149844, 183815, 176640, 76038, 76052, 76059, 168891, 115872, 171739, 105003, 51412, 182872, 121876, 76124, 76125, 131361, 136745, 183514, 118126, 179817, 63563, 5031, 108844, 134415, 132898, 107618, 140729, 76253, 76258, 171856, 76271, 171849, 165533, 76347, 109364, 76359, 147800, 197765, 171516, 178853, 98161, 121471, 152071, 194323, 76483, 143967, 76495, 76515, 134524, 91246, 144140, 63632, 142359, 88261, 76602, 125137, 76607, 161667, 76614, 89324, 158280, 83315, 177818, 180937, 76659, 190777, 87032, 117754, 181183, 153954, 185050, 34018, 76753, 76766, 194494, 120137, 105870, 65156, 190198, 199747, 149416, 76844, 114002, 109582, 146967, 98234, 175648, 84038, 137296, 91447, 39473, 125778, 180924, 76957, 115460, 167868, 102477, 171010, 198735, 77042, 77045, 143990, 77077, 77081, 77082, 101861, 91092, 77115, 192038, 152246, 77120, 92229, 121767, 129551, 156856, 176899, 77150, 77168, 77171, 153164, 77179, 159437, 87178, 77190, 77205, 77217, 151049, 77238, 110625, 117806, 96191, 171264, 131252, 195486, 183603, 194574, 77328, 130325, 77344, 122424, 176535, 173987, 77372, 33844, 100791, 45776, 77404, 77434, 77437, 167848, 162803, 77453, 159237, 167030, 77495, 77496, 93767, 131417, 133274, 77524, 180127, 77554, 151058, 146575, 77569, 77580, 77585, 104330, 113988, 77607, 77609, 54659, 196804, 77682, 185378, 77705, 122969, 193161, 127580, 151733, 188623, 77758, 77794, 77797, 192666, 77841, 173589, 95640, 77862, 119474, 130770, 139929, 191798, 127709, 78709, 77933, 158962, 77961, 170886, 186487, 77997, 77998, 161780, 112390, 116135, 92912, 162754, 123417, 148531, 102487, 78075, 112431, 78078, 112878, 97435, 78095, 91635, 84050, 200165, 78169, 187334, 155264, 78185, 192404, 154711, 179778, 186705, 78250, 78254, 140793, 96355, 78287, 78299, 115603, 147704, 138529, 107508, 78345, 78370, 85983, 89104, 73761, 78421, 78452, 117676, 178520, 83984, 91613, 78476, 137740, 183304, 186835, 86611, 154272, 164280, 103725, 183776, 144356, 157357, 78534, 122174, 78542, 107050, 90800, 81371, 78549, 78552, 78567, 141760, 134694, 78673, 78695, 78710, 78736, 78740, 80312, 103257, 78761, 147309, 179678, 78803, 112740, 78852, 109124, 175152, 164309, 115338, 113365, 129175, 197717, 78945, 104690, 194185, 101051, 181857, 154418, 78996, 163381, 135025, 40884, 130842, 79052, 79057, 180581, 117703, 126774, 124955, 79170, 104338, 79225, 147360, 184129, 167912, 160978, 171102, 113883, 163775, 198284, 147397, 95043, 161377, 160232, 50926, 105555, 144818, 133094, 86622, 162783, 87066, 98032, 79456, 160468, 79468, 161170, 79495, 193411, 79513, 110677, 79559, 147014, 138886, 165985, 155569, 143230, 139765, 47843, 141178, 79643, 79650, 79682, 79688, 60526, 79715, 116129, 154531, 99255, 100466, 173732, 119788, 79784, 174845, 158292, 79831, 79833, 174963, 60004, 151287, 181589, 171935, 148684, 173422, 79978, 79982, 79988, 127818, 187595, 168708, 192155, 80063, 129480, 120115, 182169, 111822, 57342, 144945, 102265, 71424, 80151, 116541, 152470, 126646, 182708, 80209, 80210, 80222, 102366, 80232, 191096, 162738, 182434, 138688, 133991, 166346, 192761, 192546, 183650, 182963, 80352, 80353, 80359, 143502, 80387, 80404, 122441, 72472, 177049, 60542, 80481, 115933, 80489, 105080, 80512, 136777, 80524, 114659, 114106, 199706, 80545, 132484, 166804, 145934, 106987, 80577, 182240, 125116, 102037, 83460, 105979, 120757, 127893, 80640, 118037, 133110, 182484, 121314, 104363, 129466, 163980, 20280, 83737, 165108, 173440, 153256, 111901, 108122, 189547, 187326, 171137, 80920, 107725, 80939, 193751, 163403, 186021, 133887, 171265, 107899, 139018, 80999, 177983, 156214, 135997, 123304, 192692, 135508, 179902, 87704, 177926, 151618, 158075, 172961, 81139, 81154, 95249, 99848, 74910, 15954, 149888, 81236, 102643, 114337, 81269, 157686, 160668, 58026, 179396, 174721, 151938, 99607, 176353, 111147, 175863, 145815, 177464, 195276, 178939, 81498, 139419, 184222, 198317, 93306, 105663, 30676, 178186, 159826, 115230, 81643, 81644, 81657, 168658, 185928, 160767, 147221, 164627, 143699, 140801, 193276, 197158, 93424, 133009, 116191, 81787, 121758, 160724, 94120, 81845, 145450, 199928, 186267, 193666, 184344, 81902, 85097, 89359, 81956, 119674, 81982, 96374, 81987, 135619, 108723, 118598, 82045, 189963, 151101, 82063, 143197, 104261, 140986, 181994, 82088, 115216, 179117, 86618, 125612, 10614, 135197, 136191, 126939, 154321, 92664, 198884, 4571, 114086, 82204, 161958, 199052, 82237, 162183, 104280, 115279, 164942, 82276, 132849, 192252, 58973, 67270, 82325, 99869, 139120, 176246, 181558, 198849, 188130, 161425, 92235, 82390, 177396, 92070, 149798, 26658, 199760, 86178, 186648, 129531, 82463, 112951, 82501, 82528, 82535, 82536, 82541, 143228, 131487, 171996, 82564, 82569, 149120, 151589, 82602, 150900, 144576, 169024, 177383, 185689, 82685, 82702, 162642, 109439, 112003, 94710, 109974, 143732, 82755, 132629, 149088, 127574, 114490, 121602, 155278, 109340, 130240, 195371, 82863, 171074, 140948, 194656, 128789, 148706, 170254, 194193, 172967, 110965, 83018, 93071, 102518, 189633, 160163, 83056, 99673, 171367, 83079, 83083, 83087, 83090, 132609, 83123, 83143, 154785, 83166, 199170, 142659, 83188, 83227, 83237, 96233, 117509, 173151, 194966, 83267, 191740, 111695, 145952, 154015, 152544, 83316, 133778, 178871, 155290, 83341, 148506, 87747, 105913, 165161, 186187, 94317, 183240, 83416, 114818, 103146, 125250, 83428, 172669, 179912, 116409, 127925, 83569, 183451, 102837, 138080, 99132, 119690, 83665, 185149, 83685, 194984, 83695, 144897, 115148, 145124, 179653, 68892, 126282, 144029, 195074, 195001, 163271, 197177, 150624, 132718, 113541, 83875, 185399, 184177, 155023, 83892, 195698, 167626, 83913, 182956, 83915, 187529, 97481, 118757, 88428, 122396, 84078, 84091, 188706, 140652, 84117, 131193, 140681, 84160, 160684, 175590, 165306, 126566, 123383, 161113, 84272, 129935, 84286, 196175, 132080, 84326, 139049, 161354, 100780, 84367, 166384, 181720, 79143, 90801, 125539, 160509, 145609, 140895, 84468, 127095, 84481, 84484, 84487, 100548, 175681, 84519, 173290, 110993, 84538, 100552, 178479, 84544, 129230, 182194, 194844, 95435, 84615, 84617, 84618, 138851, 128214, 179005, 84664, 188625, 92848, 122131, 84746, 161236, 117616, 84782, 178051, 99014, 101645, 84815, 85599, 73005, 90252, 178919, 84867, 84907, 127314, 84923, 133396, 177723, 84953, 171015, 166083, 92799, 129022, 85000, 189736, 196020, 34348, 197421, 85043, 117578, 85049, 85050, 143653, 189632, 152930, 85084, 156710, 120725, 132458, 85095, 85130, 85145, 85157, 127538, 147350, 194085, 85162, 172214, 85189, 121444, 85200, 24234, 177280, 85228, 190641, 192419, 126160, 85307, 85320, 122428, 85339, 85343, 75370, 85366, 145301, 194278, 152862, 149074, 85439, 156791, 87934, 117084, 46071, 145745, 85481, 92397, 154150, 85523, 199076, 168016, 175720, 195509, 85543, 165785, 85546, 85562, 85085, 85588, 85589, 85592, 85618, 112318, 146238, 196674, 85730, 85736, 85739, 143206, 149677, 92160, 186010, 138559, 154238, 85821, 197049, 194726, 129490, 85071, 136291, 127466, 153422, 114451, 111340, 164264, 85995, 148965, 144179, 86022, 115333, 86039, 139936, 133820, 137299, 172889, 126056, 86076, 100413, 188192, 132464, 178959, 161074, 154087, 102367, 26980, 86172, 193212, 86181, 194347, 86211, 86218, 86223, 110490, 86255, 86261, 86269, 86279, 188626, 86346, 116561, 86370, 163055, 97750, 86389, 112850, 86404, 173434, 198102, 195767, 93469, 110236, 111619, 91341, 146453, 173853, 194717, 86502, 185432, 86517, 7280, 101475, 124028, 86545, 165585, 121813, 176161, 86589, 134114, 180334, 86607, 170507, 162435, 86636, 10691, 86657, 173854, 86667, 137473, 150374, 132107, 90329, 137865, 166376, 88601, 86778, 139155, 86794, 163454, 195840, 86805, 172505, 189524, 86879, 151764, 105024, 86896, 166746, 199832, 156899, 136144, 150696, 86921, 134025, 157036, 106555, 86992, 164530, 101472, 87015, 134204, 87053, 159337, 178373, 178404, 87076, 147825, 174954, 154567, 87115, 129184, 164615, 124406, 120713, 87204, 188526, 87206, 103773, 190766, 87303, 133487, 145123, 123405, 39658, 157716, 87356, 173492, 87402, 151476, 179131, 189666, 87448, 161051, 150899, 149615, 118320, 75143, 87482, 87483, 117097, 144062, 182581, 181021, 179551, 87533, 144811, 107193, 90664, 146068, 87589, 87591, 156219, 178225, 87603, 143773, 87638, 87662, 193196, 87686, 129849, 87764, 103985, 170951, 172319, 87806, 108721, 87827, 122410, 139554, 87855, 160297, 87884, 87915, 188843, 115110, 87954, 195617, 87965, 87970, 175301, 186190, 137047, 57650, 55664, 88022, 154166, 63300, 88053, 188769, 108138, 88100, 171573, 90966, 88130, 146415, 94990, 143480, 106104, 151484, 88211, 88226, 88229, 145728, 88245, 142995, 88883, 195166, 185654, 132436, 82764, 156079, 123681, 88404, 93174, 88444, 88445, 183192, 99280, 196168, 88471, 88473, 120776, 197286, 88496, 88501, 157936, 88510, 164304, 88512, 88524, 88530, 88544, 88556, 88599, 88621, 110012, 114610, 152066, 88679, 125517, 160875, 190725, 88747, 151853, 137960, 175365, 152937, 136815, 149354, 120421, 88824, 185112, 88839, 88864, 88866, 173999, 186700, 88872, 172734, 187596, 108537, 129217, 88947, 159559, 88970, 88972, 88975, 88979, 116009, 99096, 178699, 171163, 186026, 103513, 143050, 89124, 89126, 180224, 89137, 190159, 172624, 89160, 171307, 135415, 89178, 160172, 89220, 166540, 89244, 181910, 158998, 158719, 89264, 89284, 89300, 162554, 170336, 169935, 148719, 89373, 89382, 135147, 190590, 114120, 135791, 89441, 89456, 89478, 126785, 116671, 89488, 155670, 171183, 199080, 145054, 116493, 91433, 89599, 89609, 133759, 89613, 171392, 177638, 165116, 99417, 147974, 184977, 166981, 150628, 197242, 116216, 195015, 182456, 195888, 163344, 76057, 178081, 89798, 184683, 166036, 17469, 187935, 183893, 176066, 188576, 89891, 89942, 121953, 106029, 194284, 169162, 103203, 176056, 89980, 145505, 143882, 153565, 141824, 90007, 90009, 190292, 156848, 134735, 198307, 121542, 111140, 90459, 156668, 171845, 155144, 90113, 90149, 126442, 178519, 152396, 195054, 90251, 90262, 158200, 161834, 169273, 90287, 90294, 197874, 99671, 101940, 90383, 162132, 90412, 138089, 90433, 174436, 144092, 153010, 169033, 132076, 90485, 158214, 110188, 151927, 174471, 190122, 113804, 90538, 151092, 90548, 176011, 145316, 130840, 181237, 126473, 90602, 123059, 163728, 105420, 163778, 90649, 139725, 195209, 90671, 176666, 138948, 108244, 44765, 86646, 174725, 181969, 147930, 90759, 125492, 124737, 127439, 191900, 152963, 184070, 135444, 169370, 110995, 194942, 113481, 163262, 191653, 91071, 91059, 92591, 91065, 134983, 94415, 139355, 91142, 115790, 91166, 91176, 186354, 122400, 98070, 91239, 177044, 91260, 91263, 123006, 152316, 91314, 133720, 91316, 178764, 121345, 173585, 177152, 137893, 181604, 98243, 138055, 197307, 91410, 111643, 126036, 160786, 165567, 91452, 167448, 114017, 145611, 113436, 199111, 139939, 91527, 121534, 91549, 195549, 200028, 131125, 91111, 158497, 130511, 94819, 124512, 198266, 152434, 91642, 141279, 194829, 135518, 149597, 91689, 163826, 126449, 197709, 114429, 91709, 91721, 105403, 91744, 91745, 91746, 95912, 91770, 66189, 181373, 137017, 163630, 156208, 91870, 89658, 91897, 190540, 96887, 98820, 166570, 91986, 176835, 125473, 73791, 92020, 198880, 189751, 162363, 92063, 189960, 92081, 165998, 134967, 92091, 135434, 152053, 118461, 129316, 118728, 92141, 92153, 96781, 114129, 92199, 92205, 190989, 92228, 145128, 130858, 168425, 139457, 137123, 92311, 132850, 92342, 138448, 131160, 92365, 118083, 92382, 148320, 92398, 92400, 92413, 114321, 92416, 92448, 92454, 92477, 191403, 104792, 92537, 147654, 198433, 173875, 162777, 194784, 116077, 57917, 161933, 97996, 92629, 182583, 189239, 93570, 200149, 144325, 133733, 92673, 160534, 92681, 92682, 178490, 194339, 114500, 127549, 122461, 117861, 142216, 92749, 92764, 188122, 162955, 164375, 92833, 92836, 92845, 114259, 98009, 92869, 196826, 139463, 154626, 92903, 157784, 196144, 92949, 110737, 190471, 93008, 108918, 93047, 93055, 93057, 154552, 130660, 162527, 127596, 93176, 193588, 157623, 94600, 164458, 31600, 93241, 116883, 183322, 161370, 93267, 93271, 108317, 93288, 93309, 129918, 138095, 123894, 20041, 139433, 93388, 194768, 102512, 163437, 145573, 161668, 196709, 93443, 169696, 93452, 117663, 93475, 93478, 93483, 93491, 145220, 139317, 181818, 32939, 149855, 93524, 170379, 122615, 93548, 142487, 108824, 156539, 93566, 93577, 98485, 124046, 184565, 93668, 163938, 136516, 93738, 178321, 198858, 93756, 177166, 194485, 197968, 96582, 139190, 199761, 111776, 93799, 158196, 122450, 93816, 172174, 188701, 93843, 79364, 151746, 93915, 93922, 168803, 194535, 93945, 165759, 94007, 109835, 125714, 114600, 164109, 94065, 180598, 95898, 114433, 139863, 184719, 163484, 94107, 159456, 98260, 172484, 108030, 163270, 184188, 167046, 199346, 123295, 197576, 169384, 131245, 148821, 94312, 94314, 94323, 171109, 168063, 94390, 139246, 155935, 3265, 45344, 176067, 178175, 94435, 174140, 162362, 184152, 94463, 94467, 131671, 148545, 139635, 94526, 98900, 151848, 142410, 176558, 103181, 113174, 94587, 191202, 96415, 94607, 94615, 166663, 94624, 94627, 144593, 94651, 158001, 94659, 139675, 159253, 94701, 171836, 181673, 52903, 102160, 123167, 181697, 94793, 94802, 94803, 120154, 199343, 185232, 191545, 143426, 94859, 94889, 94897, 94920, 94937, 94970, 112029, 94984, 95008, 127433, 134897, 145916, 180130, 149694, 95103, 154111, 148078, 135970, 127303, 133302, 95136, 95160, 136925, 95204, 182089, 187810, 110404, 145584, 165348, 132514, 127682, 149979, 119711, 95320, 95335, 144299, 171570, 170597, 95371, 122259, 190102, 72435, 118916, 95469, 159861, 125420, 95527, 98605, 95544, 117311, 95552, 95555, 197321, 95585, 178284, 96294, 95631, 95638, 95643, 176832, 190187, 136448, 121069, 197312, 99595, 193694, 27405, 112179, 98999, 187462, 182436, 195598, 81203, 95906, 199122, 141676, 95920, 166898, 154212, 114241, 95965, 95969, 197739, 96005, 174184, 96014, 122408, 98835, 96025, 96028, 96031, 111337, 96040, 125764, 107318, 96112, 145892, 137668, 166060, 126445, 96257, 164195, 34639, 173176, 168490, 146292, 96365, 130387, 192449, 143110, 96387, 177843, 96397, 96402, 96403, 196546, 105085, 96487, 177656, 96526, 96541, 106606, 166678, 122489, 96570, 156893, 96590, 142289, 152685, 96652, 114815, 132891, 100388, 135574, 104443, 165097, 96730, 167194, 128459, 137985, 96795, 174517, 104447, 178903, 185577, 96851, 177360, 96862, 154381, 131108, 188883, 117669, 126203, 181428, 101667, 123198, 96943, 99780, 96966, 50725, 96989, 96997, 158866, 190785, 134459, 175918, 194620, 192872, 95352, 97091, 97103, 115998, 97111, 139559, 97227, 123399, 97240, 97260, 123857, 45541, 97294, 97305, 153863, 133565, 97341, 171609, 97356, 97406, 97416, 97436, 97437, 97453, 185694, 116201, 109356, 97546, 118691, 163217, 97617, 97630, 142181, 197303, 102231, 180678, 198533, 132059, 176272, 97706, 63889, 192243, 124256, 167983, 97760, 177060, 165117, 97780, 97799, 97807, 192788, 97828, 97849, 180462, 150713, 97878, 199992, 103227, 174514, 97889, 97917, 144363, 116642, 97955, 123451, 97972, 97977, 179596, 97999, 98002, 162845, 111569, 98028, 19666, 128272, 164094, 129753, 115055, 135828, 98090, 149224, 98120, 98148, 146665, 199981, 98196, 146427, 162447, 116055, 119112, 132524, 105230, 121107, 98286, 147559, 116030, 108945, 98324, 98364, 100929, 138752, 110060, 122478, 98407, 193229, 189416, 98486, 98494, 126501, 111004, 195287, 156646, 98532, 142119, 98543, 98555, 193202, 98566, 114049, 98590, 127678, 199390, 179186, 148461, 170686, 153328, 1365, 3893, 101117, 160399, 98718, 98743, 98752, 48799, 98766, 98770, 162289, 109279, 200110, 56887, 98810, 98815, 98824, 98850, 101635, 98911, 161816, 98932, 188481, 146380, 180346, 150179, 75556, 142653, 99020, 174442, 99046, 163973, 99067, 165798, 157400, 170722, 127592, 99134, 99146, 99156, 99169, 99189, 125624, 99206, 99216, 199400, 99237, 195562, 150023, 101807, 173453, 102932, 148530, 99269, 133244, 137262, 197010, 103667, 183203, 159487, 106099, 164155, 99374, 182929, 154677, 99387, 99397, 184701, 176090, 99422, 198885, 99448, 184229, 118658, 127942, 124842, 145465, 171115, 101752, 165207, 99531, 124291, 99533, 147784, 99540, 99547, 99549, 150685, 197692, 99570, 151221, 99606, 99612, 187122, 99620, 99645, 119799, 131276, 103855, 99699, 99710, 117132, 117508, 182568, 130846, 155189, 99770, 158553, 188918, 99801, 181353, 181955, 99863, 109965, 181380, 172880, 99900, 134704, 125335, 141896, 188181, 99980, 100013, 166737, 135285, 145564, 127579, 171356, 125509, 161215, 125340, 123076, 168207, 100689, 100241, 127794, 162835, 105958, 157575, 118948, 199093, 197151, 125125, 100357, 186566, 100366, 156054, 126746, 100381, 133850, 114573, 100407, 110612, 100430, 100464, 100480, 151736, 162330, 100506, 196254, 105079, 174784, 100567, 121311, 100595, 133456, 141014, 146902, 194138, 187536, 107904, 170804, 100656, 186292, 136373, 100663, 110522, 119289, 108671, 166375, 100749, 191882, 195945, 100763, 133945, 155551, 100801, 112488, 100818, 152861, 112747, 100856, 175581, 133585, 168737, 100897, 198563, 100941, 100958, 157859, 100968, 172355, 100994, 169182, 114904, 105621, 175516, 185314, 101073, 155354, 184184, 101102, 101113, 109180, 199973, 170987, 177861, 103696, 101160, 101168, 116522, 154057, 101198, 173498, 156294, 106695, 147132, 160292, 108507, 107978, 180126, 101309, 161513, 127251, 175030, 173503, 101384, 194580, 101450, 163917, 101467, 166191, 179568, 162120, 154825, 143066, 171600, 116412, 168836, 101565, 157146, 177438, 101577, 176845, 116523, 131835, 195315, 142627, 101698, 101715, 101716, 137160, 140835, 127250, 197319, 106878, 101778, 101835, 141479, 186991, 146930, 101909, 121263, 191726, 101921, 140873, 101941, 146877, 189408, 176565, 198130, 102032, 123684, 158752, 142716, 124241, 181782, 191283, 174006, 128586, 24061, 148524, 117160, 185882, 34531, 157631, 102195, 162699, 102217, 114838, 102267, 15828, 173752, 102296, 186736, 151510, 179961, 141381, 79956, 154283, 172048, 118110, 163490, 131162, 102457, 138411, 102480, 193865, 185497, 125275, 102522, 102528, 166284, 181812, 102642, 102575, 183607, 102604, 102611, 26722, 185426, 114377, 102676, 166166, 102700, 119061, 155818, 119430, 187517, 109575, 102780, 118860, 102793, 120018, 141634, 186327, 174324, 102893, 148911, 102923, 102925, 102934, 197351, 102942, 102947, 102981, 102984, 185220, 175604, 131238, 103005, 20361, 138252, 116308, 178267, 103149, 123513, 119479, 103176, 103183, 178434, 103189, 103197, 119393, 124631, 103208, 180495, 194917, 15647, 165462, 122562, 103279, 164486, 31983, 103374, 103317, 103336, 189484, 70129, 156481, 103407, 103412, 155272, 84395, 110649, 155926, 147618, 167712, 174909, 103493, 159386, 135322, 135683, 103548, 136167, 134652, 103555, 103602, 103610, 180384, 103668, 172262, 155319, 159646, 170933, 191410, 145487, 103774, 103788, 183678, 103796, 133441, 103822, 139342, 169817, 103863, 103865, 185909, 149482, 103978, 123415, 103981, 159640, 129834, 129129, 195835, 104015, 104027, 138597, 159568, 123033, 104083, 108084, 142713, 104113, 104123, 104135, 198724, 155092, 168805, 70240, 177179, 140454, 142204, 104246, 104259, 191896, 104350, 104361, 135820, 197980, 163741, 104393, 180850, 36323, 104425, 135219, 104435, 129458, 161488, 150708, 159411, 178915, 78979, 104535, 157448, 172329, 104599, 105508, 104616, 156317, 104624, 156724, 157791, 75878, 171153, 126010, 140815, 197105, 113364, 196604, 192139, 107625, 104823, 109551, 104859, 104873, 170076, 104889, 104927, 155652, 104962, 182493, 188897, 127569, 104999, 143761, 105033, 105040, 129765, 105921, 105142, 175671, 116875, 121117, 105213, 105215, 150421, 161483, 165404, 105252, 181561, 167552, 179017, 194220, 137266, 120448, 190407, 105315, 105347, 105354, 113922, 105368, 192320, 105380, 189656, 181185, 105416, 132979, 105441, 123305, 113237, 105489, 105492, 105495, 130315, 105544, 105550, 105557, 29452, 195122, 112486, 130475, 105626, 193106, 168776, 105744, 105755, 128499, 105767, 174746, 162529, 108614, 139208, 153665, 160525, 105836, 178451, 105873, 193325, 160076, 29763, 121160, 129023, 105972, 118771, 179231, 154217, 109730, 106013, 118045, 106053, 197882, 106100, 118515, 184187, 139620, 193062, 146470, 181528, 189748, 106215, 135192, 111528, 159400, 192974, 146661, 151152, 106274, 196538, 169917, 106348, 125144, 190095, 105499, 176824, 173228, 178035, 175639, 106486, 148477, 176953, 157364, 180502, 180571, 154905, 158225, 106552, 171850, 106559, 41394, 119751, 125097, 106584, 196013, 106603, 132359, 111941, 165363, 138378, 133921, 106689, 106697, 170074, 106711, 130734, 106775, 106785, 128838, 106798, 106806, 185425, 165935, 122973, 140705, 106883, 185940, 145664, 147430, 106928, 162692, 106981, 161783, 193123, 158330, 139146, 107049, 107051, 137044, 148683, 119913, 107070, 168585, 26175, 178336, 194401, 168960, 107154, 112795, 117105, 140164, 127766, 90092, 125093, 107234, 181320, 188980, 192793, 140202, 60437, 161852, 146497, 147945, 107355, 138864, 107381, 141920, 107388, 173019, 130856, 160889, 107563, 166406, 107568, 107584, 107601, 130601, 107615, 159428, 123150, 107637, 180199, 195270, 179955, 107758, 166736, 117502, 159891, 166381, 128452, 144348, 139386, 137241, 107930, 152460, 107964, 182241, 164576, 107993, 107997, 147684, 189589, 111939, 108040, 100802, 199272, 108136, 188556, 182176, 24993, 196270, 145518, 97616, 117187, 108408, 124567, 108418, 108450, 141343, 158364, 164713, 121316, 108563, 158549, 154800, 123903, 131708, 108604, 163805, 108621, 83821, 187543, 187807, 163293, 108676, 196310, 164250, 116443, 136377, 108728, 108743, 111510, 148364, 108834, 124927, 149466, 108896, 108900, 108907, 156635, 108944, 135083, 135569, 132967, 167470, 111991, 109025, 198349, 109149, 109171, 109207, 109212, 109244, 109255, 150059, 109266, 109316, 109339, 109354, 86488, 109393, 138678, 168662, 73529, 178010, 197420, 109530, 112228, 115911, 109621, 140973, 151769, 138368, 158494, 166777, 136974, 109798, 197651, 109852, 181941, 117542, 155576, 141596, 170141, 109920, 149059, 131321, 115599, 172488, 109947, 190560, 109994, 165976, 184582, 164278, 179214, 42330, 110065, 65111, 110092, 110107, 194487, 175614, 110154, 110156, 110161, 110167, 110173, 197482, 163578, 110206, 163846, 118775, 170146, 193023, 149576, 64370, 158272, 169705, 196841, 110425, 179904, 165245, 194668, 110452, 66630, 172456, 110477, 102988, 147919, 8120, 134893, 131713, 186996, 112093, 193386, 146280, 151424, 110640, 187592, 110672, 110681, 180995, 110718, 185793, 161341, 112909, 181595, 186336, 168028, 176265, 110853, 126791, 154554, 110960, 110963, 157138, 141980, 110975, 110998, 145696, 111020, 111021, 186541, 111040, 167591, 111146, 137533, 191607, 111156, 111185, 150752, 111228, 111245, 111247, 147729, 129403, 111263, 167303, 111336, 198764, 197280, 146096, 79014, 133201, 123810, 131220, 111428, 186063, 153355, 111488, 165053, 159196, 189271, 123002, 115309, 127716, 141601, 119073, 151878, 129598, 127812, 111725, 174637, 137645, 111745, 111764, 166784, 128923, 165602, 111807, 111838, 111842, 111849, 111850, 111851, 162565, 185757, 144044, 111920, 84716, 111964, 177233, 113948, 111999, 192518, 112019, 112045, 112051, 133494, 167851, 147657, 141026, 116431, 185218, 172225, 191093, 125248, 189089, 112209, 159904, 170546, 112252, 112253, 194119, 112313, 112319, 162273, 112371, 198414, 136029, 165208, 112489, 112490, 44490, 200032, 112519, 181691, 153680, 112558, 183751, 191231, 24455, 112582, 156908, 172253, 112620, 184123, 184120, 173831, 95382, 194140, 137066, 177696, 154547, 127832, 184241, 112797, 175844, 169625, 112847, 128637, 157437, 112889, 175384, 112906, 28284, 161439, 133787, 113021, 113029, 113053, 113059, 157169, 130386, 113091, 76934, 113102, 113103, 130069, 164189, 190916, 113193, 113212, 164716, 150804, 106671, 113233, 130515, 113253, 113254, 186210, 113266, 105627, 146857, 113299, 113302, 142026, 182909, 113324, 173315, 113328, 148917, 113863, 179450, 167389, 121300, 113421, 113460, 174846, 155855, 113511, 119029, 174500, 113526, 130819, 130841, 162287, 185010, 113608, 144027, 174891, 126457, 132116, 178444, 189409, 113751, 120678, 197784, 162451, 113796, 113852, 146609, 113879, 190935, 144623, 168524, 161960, 197385, 151310, 113975, 171539, 155695, 116316, 152955, 157603, 114096, 114099, 194313, 158628, 114192, 114196, 114197, 114208, 66516, 130274, 195025, 162255, 134767, 184382, 114292, 114317, 114329, 136823, 199025, 114419, 114423, 114425, 116241, 114484, 191006, 191562, 181230, 114516, 39185, 153829, 175324, 150175, 167020, 153013, 156479, 114643, 165518, 124736, 117667, 180953, 115320, 122278, 114768, 183952, 152561, 128127, 114813, 135435, 183185, 140710, 182995, 142562, 198240, 171677, 114942, 172293, 150884, 114991, 177234, 180609, 144218, 149495, 115109, 163989, 200128, 136173, 187281, 55506, 115153, 131695, 115168, 147996, 115073, 199587, 127038, 109973, 115290, 115334, 173379, 115363, 158108, 164683, 161220, 169186, 139584, 185679, 115494, 115498, 154833, 148067, 115566, 165125, 115591, 131548, 165913, 115659, 48351, 115703, 119821, 115710, 178933, 115739, 42977, 200182, 198544, 145524, 115817, 173499, 115851, 113552, 196142, 123075, 115905, 131025, 196143, 156667, 115943, 115956, 115957, 153819, 191611, 115995, 122727, 123050, 174185, 116019, 181905, 116038, 192671, 145810, 199041, 116053, 154153, 116069, 116101, 116112, 116205, 162295, 187118, 162746, 172970, 154318, 134484, 155531, 107431, 116327, 193842, 116363, 136297, 199615, 116379, 137366, 172821, 176398, 193269, 195671, 160271, 161261, 116521, 125243, 140522, 140989, 139107, 181005, 116587, 187895, 116623, 146708, 24796, 196136, 116661, 133543, 162568, 158694, 116701, 16629, 156129, 116784, 59050, 118407, 116906, 186042, 116924, 191472, 167974, 134697, 157754, 116941, 180983, 116951, 188278, 180626, 179763, 117013, 116080, 117124, 172636, 186108, 117167, 126911, 170042, 182148, 117232, 147793, 117286, 151426, 117314, 170129, 126530, 169620, 12871, 169809, 117390, 119712, 170289, 117465, 162199, 158950, 170831, 117488, 117520, 117522, 191758, 117555, 118070, 188672, 60844, 183937, 117665, 144877, 168333, 115875, 163389, 117755, 160351, 181420, 192007, 117798, 117802, 199887, 195876, 133705, 117886, 145931, 117918, 135017, 162737, 178346, 136931, 118014, 118024, 194298, 177236, 118047, 145175, 118060, 195431, 118134, 199669, 118128, 118138, 165512, 118150, 152271, 176941, 198258, 182048, 118205, 146290, 178012, 192819, 140241, 118314, 29129, 162424, 177554, 130405, 156601, 118437, 118513, 141637, 185210, 118631, 38085, 183511, 118706, 118715, 177002, 138317, 130084, 118760, 143588, 118788, 148322, 154898, 38638, 142292, 174347, 178358, 115745, 118974, 84569, 118992, 198065, 171438, 130175, 124652, 134585, 119092, 185552, 119111, 166404, 119152, 119214, 136816, 119225, 155046, 119264, 131544, 119308, 119319, 139175, 170658, 183983, 119369, 144614, 119395, 139164, 156763, 149935, 165780, 119544, 119555, 165531, 119595, 180071, 119623, 176342, 122798, 175369, 192817, 119704, 168394, 160737, 145622, 183620, 119856, 119867, 119871, 119879, 127123, 177342, 176975, 119974, 167629, 112801, 158432, 147585, 150901, 189929, 120076, 107240, 167247, 161110, 196390, 153409, 189758, 49546, 120359, 120364, 146920, 134457, 172301, 120419, 125457, 120444, 120488, 120510, 136876, 192515, 167982, 189093, 172642, 120608, 120645, 110435, 120659, 134968, 127141, 164854, 13098, 148652, 120754, 120781, 120798, 185136, 120833, 120842, 135124, 158968, 120911, 133107, 120953, 184792, 186293, 109829, 163264, 159839, 121030, 162239, 121092, 121111, 121467, 171174, 121171, 121176, 43377, 129100, 121224, 153871, 121229, 163456, 121234, 39835, 121292, 121293, 147141, 121352, 106541, 125501, 173066, 132770, 121423, 191112, 121470, 167573, 144185, 121558, 52043, 53625, 130551, 121722, 169792, 170288, 121755, 186505, 121782, 125897, 197678, 139752, 136914, 121835, 181370, 164814, 147773, 131701, 191446, 127679, 121978, 196768, 121990, 166209, 121993, 122034, 122318, 166243, 122047, 122050, 122063, 156505, 170793, 122121, 122138, 122144, 171325, 162588, 122180, 193828, 85041, 122228, 190418, 119332, 163884, 146175, 122280, 122325, 146945, 194703, 122392, 122416, 122418, 123816, 184987, 171633, 122490, 131992, 122583, 167700, 122589, 122609, 122626, 122639, 174212, 191279, 125593, 198752, 122702, 165206, 165521, 133245, 178945, 170183, 162031, 168659, 122843, 92216, 122891, 145831, 122908, 124813, 157030, 122972, 123010, 123028, 183663, 123048, 123053, 123056, 159750, 199454, 123133, 124393, 138541, 178150, 198160, 161271, 177222, 139872, 196183, 141829, 162594, 159271, 123378, 142043, 123390, 123398, 190759, 172716, 123459, 123470, 123487, 123497, 123501, 65401, 195812, 155550, 123555, 142712, 132507, 181269, 123577, 143742, 152808, 123636, 159275, 123676, 194038, 150433, 123749, 140279, 164561, 123780, 147961, 177511, 154453, 123801, 176880, 196443, 123818, 123834, 123855, 174349, 123871, 198507, 173977, 150933, 195805, 123908, 123942, 123969, 160995, 156814, 174456, 124057, 173356, 179508, 194418, 183095, 168686, 148394, 141488, 125094, 188550, 147008, 183886, 193840, 197616, 160418, 175080, 103648, 170989, 128877, 197305, 131476, 151062, 124521, 173500, 180535, 174499, 183066, 124574, 190873, 124598, 132350, 124637, 124648, 155024, 129123, 191640, 167182, 124721, 124740, 132767, 124818, 124825, 162389, 124862, 164584, 172487, 166350, 137981, 171226, 125054, 12509, 165204, 127459, 125150, 125151, 166127, 125166, 130882, 125177, 199124, 192540, 190730, 173402, 134633, 125236, 185280, 166723, 125254, 115437, 125320, 167546, 165152, 190977, 125388, 125415, 177003, 157441, 125495, 177216, 157759, 125514, 125533, 181466, 187052, 125596, 144130, 125635, 148598, 155941, 125226, 138008, 125706, 147502, 144636, 125735, 130878, 191368, 150050, 125806, 128828, 125891, 151957, 103704, 125915, 180246, 183591, 152664, 133343, 126050, 180054, 126060, 126083, 173972, 172994, 126152, 126156, 126157, 119201, 126205, 126224, 169734, 185595, 186339, 126314, 173753, 185996, 126356, 135098, 184117, 151125, 169891, 126468, 200127, 137382, 126718, 126572, 125851, 184838, 126638, 126642, 146696, 132145, 139957, 94334, 194650, 174362, 149266, 126757, 126762, 153713, 157774, 190799, 136992, 126899, 144779, 160717, 127012, 127060, 135717, 166906, 193253, 34417, 127121, 158063, 99762, 187157, 158209, 127209, 144370, 187237, 127285, 127290, 190968, 127333, 181663, 186087, 177668, 178914, 88042, 139339, 136420, 191288, 142787, 164681, 188185, 127523, 132960, 127540, 148198, 127553, 128212, 189251, 142444, 127589, 68663, 82278, 127639, 127688, 144942, 157866, 56066, 173493, 191074, 127757, 127779, 127782, 127784, 127786, 143519, 127804, 180197, 127816, 158122, 22125, 127887, 129688, 167560, 127953, 128005, 147936, 145347, 111262, 128022, 128065, 128090, 179611, 157507, 128135, 128153, 128162, 128184, 13985, 157075, 128187, 149988, 128240, 174977, 150047, 143620, 186588, 128323, 91005, 191200, 176188, 128485, 128492, 181352, 27177, 128525, 168283, 192050, 128566, 178393, 190953, 128732, 151441, 131728, 185305, 128771, 128772, 146724, 128788, 122623, 134387, 176301, 149162, 155757, 129139, 166576, 181189, 138625, 171843, 148763, 129279, 146303, 146777, 129344, 181068, 129357, 129386, 187823, 168192, 176654, 129425, 168962, 154024, 129452, 99240, 129491, 175724, 112237, 129597, 129599, 129615, 143010, 169204, 188086, 129642, 150555, 129712, 129714, 129725, 145249, 177189, 129810, 153260, 152469, 154731, 189700, 170749, 129847, 146044, 129888, 158188, 163276, 172503, 167836, 158121, 184165, 129996, 169504, 184328, 184309, 130155, 130160, 130225, 130227, 182699, 156461, 130249, 130261, 91292, 170365, 130340, 130353, 130357, 130368, 189519, 130374, 163735, 130408, 158948, 130464, 191401, 130534, 143673, 167644, 130612, 130643, 61142, 187925, 176774, 153681, 140398, 130790, 171064, 159724, 176455, 130932, 131029, 131051, 156805, 131149, 131159, 131164, 131215, 75088, 159312, 79264, 191408, 131332, 131358, 131363, 131385, 157577, 131455, 172761, 167290, 177514, 170209, 151968, 131560, 156568, 183605, 187338, 139771, 161211, 185299, 179824, 187483, 182547, 131773, 182017, 164652, 187567, 171521, 131879, 147765, 131888, 164160, 131920, 134738, 131983, 140809, 131999, 153645, 192592, 186356, 170615, 132089, 131269, 132165, 132196, 161764, 132237, 132326, 177256, 132438, 196199, 146236, 147994, 132528, 136113, 182099, 142731, 132567, 81017, 153617, 180606, 187069, 166424, 188612, 132776, 132781, 132829, 98178, 8820, 181289, 132938, 138637, 195720, 132974, 110008, 133007, 144577, 193153, 191362, 133084, 25356, 134669, 184779, 133144, 183822, 194082, 170960, 166462, 198368, 189117, 169223, 145104, 173233, 133260, 156226, 180287, 133299, 133373, 184758, 133479, 182674, 193293, 133519, 85111, 197157, 191666, 160918, 148009, 133636, 133645, 139822, 136640, 133735, 133752, 165715, 133782, 139156, 157446, 175938, 133892, 185355, 133941, 158764, 97448, 134005, 138091, 11192, 134029, 157428, 134054, 158765, 134061, 134993, 196228, 186993, 175346, 147036, 134117, 146308, 181764, 178714, 186282, 181806, 134253, 134257, 194382, 199794, 190853, 134396, 134408, 169611, 134478, 169599, 134567, 147709, 184158, 194376, 134628, 188307, 134689, 192874, 150045, 186147, 134749, 185730, 185684, 134791, 134801, 170081, 134817, 134835, 21929, 159024, 134871, 103535, 134914, 165445, 114183, 107867, 190846, 187983, 163774, 150272, 25669, 135084, 155308, 161217, 139694, 135182, 149296, 135212, 135278, 137808, 135294, 135346, 135353, 135402, 142906, 172868, 193119, 135495, 150379, 172837, 153690, 197807, 135603, 167730, 135690, 39953, 135711, 182660, 166724, 187527, 135752, 184375, 182576, 176253, 135802, 136171, 196346, 135855, 169702, 135904, 135927, 135934, 142775, 173621, 136022, 199108, 82805, 164165, 168404, 136129, 142768, 154162, 136239, 169002, 128650, 136283, 189653, 136353, 196224, 136416, 191688, 125052, 132198, 141132, 190973, 166961, 136663, 136677, 171241, 160775, 136718, 154036, 52356, 179806, 136854, 136885, 10856, 136951, 142810, 154063, 167174, 147195, 139785, 161707, 185739, 185572, 137257, 172352, 109649, 159404, 157292, 145680, 141194, 198698, 137410, 170191, 137430, 137502, 148370, 137521, 137549, 137587, 175046, 162624, 137626, 137676, 189167, 137728, 171815, 151606, 137757, 137763, 137781, 137856, 150771, 174226, 185404, 185246, 137963, 137982, 137987, 138002, 138042, 186542, 138109, 141742, 138130, 138132, 138205, 193959, 153620, 138286, 158672, 191123, 165984, 177495, 138342, 138356, 160040, 66124, 138412, 188970, 138451, 189593, 191589, 138522, 145617, 144610, 147501, 142162, 138736, 194371, 192805, 138753, 138759, 196363, 185193, 162899, 162984, 138853, 142764, 138908, 138909, 138945, 138968, 138972, 138977, 138981, 154082, 174063, 139025, 145127, 198839, 139098, 168197, 139142, 151184, 179516, 154832, 139252, 139288, 139305, 139346, 174351, 139412, 139421, 147921, 199396, 186973, 139492, 173950, 139543, 139567, 139600, 151743, 141203, 188031, 131547, 115989, 139755, 188691, 139792, 139833, 153427, 143878, 139870, 163325, 182252, 199145, 185581, 129321, 139992, 141315, 152240, 173525, 151460, 164389, 185293, 148080, 140167, 148526, 140208, 146581, 94943, 140306, 193633, 153768, 199232, 140358, 140372, 140378, 174765, 140442, 193971, 140223, 140474, 144536, 140609, 140631, 178724, 86299, 140711, 172601, 194744, 140780, 140788, 198818, 161126, 198963, 142898, 140896, 176578, 141025, 191236, 177539, 141126, 84164, 141138, 184748, 185545, 185231, 190006, 170926, 141236, 188187, 149118, 190578, 141442, 141464, 141478, 184500, 197227, 181990, 170357, 181438, 141569, 141620, 141627, 141659, 141681, 193006, 141722, 76540, 180963, 141792, 173535, 193831, 156977, 185429, 24585, 162398, 143005, 156774, 154969, 169797, 9070, 189624, 168370, 163459, 196716, 142379, 34118, 142434, 142459, 189606, 142511, 195420, 142643, 142649, 198231, 153097, 142679, 152797, 142791, 142816, 147862, 181649, 178184, 142838, 142928, 178220, 142963, 142970, 167883, 143091, 193873, 195110, 147573, 115172, 143156, 143176, 143188, 158369, 143313, 199868, 161688, 182918, 143356, 154485, 133324, 143471, 178145, 32019, 143546, 164548, 185805, 143565, 156641, 172185, 144668, 79486, 144215, 143746, 176870, 143841, 163431, 152167, 193066, 143870, 143902, 143925, 182474, 193412, 143966, 143977, 177113, 179585, 185901, 153757, 183602, 153755, 145932, 144079, 144137, 144155, 180179, 144272, 179495, 144308, 195171, 161142, 130360, 187718, 161863, 151725, 157822, 144483, 144488, 157622, 144530, 144532, 162263, 157085, 164498, 144597, 144609, 86687, 144681, 176611, 166955, 144731, 180339, 166011, 144762, 167496, 190803, 144845, 144859, 184599, 144868, 144869, 152473, 144910, 144946, 144954, 191476, 159898, 194053, 145061, 194358, 164940, 17713, 109153, 145246, 157693, 179858, 146866, 146569, 197941, 187668, 145553, 145571, 177945, 148550, 159307, 22666, 162687, 119462, 145779, 145797, 145860, 153333, 86559, 184790, 162704, 191796, 145988, 195308, 195374, 146100, 166221, 152668, 146196, 146204, 102290, 146242, 156887, 189598, 146296, 198822, 146357, 191038, 161821, 174112, 168322, 146552, 154538, 197981, 197413, 146808, 187670, 146832, 146912, 168387, 146957, 193747, 174675, 147005, 147006, 191147, 195859, 147165, 147209, 151781, 166932, 147261, 194836, 188871, 197563, 174882, 176232, 200047, 150692, 147462, 187837, 147508, 147516, 163560, 182330, 147627, 182318, 147680, 156185, 157133, 147835, 147840, 147865, 147940, 174610, 127921, 149192, 148058, 148071, 91044, 153254, 188135, 192785, 170618, 148186, 167398, 150976, 148326, 194790, 186492, 168579, 148443, 173609, 135127, 183635, 148523, 161077, 148566, 162393, 148713, 148732, 155313, 197150, 197236, 165059, 148892, 148898, 175214, 148938, 148968, 177982, 149017, 187308, 182870, 149093, 149095, 149175, 149256, 177201, 171204, 182701, 180721, 149399, 149404, 151778, 149499, 158842, 90623, 168786, 189125, 149647, 149651, 149662, 149686, 158083, 172471, 149710, 149712, 179058, 149764, 166067, 167283, 149795, 149808, 168817, 149828, 149836, 179526, 149880, 156319, 184736, 184386, 150042, 198825, 44521, 150146, 189744, 150178, 112574, 163524, 199462, 150247, 51806, 191290, 179971, 8119, 150353, 150360, 146591, 171248, 196464, 150483, 186006, 185492, 163208, 165763, 194101, 174604, 24909, 157460, 162629, 174747, 150792, 150802, 150827, 181553, 186135, 150907, 168233, 192628, 150961, 154783, 161382, 182033, 95026, 151083, 187876, 175218, 175347, 151109, 195867, 197988, 151240, 176526, 151254, 95752, 151279, 151307, 151363, 163722, 151433, 151447, 193557, 151457, 166753, 151513, 151517, 199978, 183426, 157900, 151632, 198232, 165600, 151701, 178353, 174842, 189391, 151765, 151780, 179025, 157468, 160751, 196070, 152041, 176014, 179044, 152170, 180888, 152205, 152208, 152253, 166789, 152259, 152265, 166300, 53490, 161557, 184924, 155586, 197680, 152536, 84958, 164416, 182026, 152565, 152621, 152630, 152642, 194897, 152677, 152724, 171026, 155076, 187962, 166182, 152857, 181390, 152871, 152890, 180416, 152911, 152931, 156092, 161756, 153018, 161455, 196924, 153035, 190153, 153049, 153063, 153065, 174136, 112386, 177838, 183271, 153209, 183205, 180344, 153272, 153288, 153299, 153301, 173943, 159885, 166547, 153809, 171719, 153512, 157291, 166773, 189343, 180238, 185706, 167124, 180889, 153705, 172769, 198991, 91882, 153909, 153945, 158734, 153975, 185781, 35682, 154058, 154121, 188412, 154179, 193213, 183790, 166857, 194072, 53297, 154398, 154412, 154437, 195687, 154462, 154463, 159612, 154584, 176601, 168781, 177094, 89994, 192747, 175984, 154795, 45840, 167420, 160316, 195740, 155001, 168419, 170406, 175281, 71643, 155094, 155148, 193306, 171012, 181207, 126879, 129104, 127484, 43695, 198744, 155502, 161135, 155516, 187581, 155619, 184745, 168648, 109887, 156583, 190218, 155765, 197558, 175605, 199440, 155903, 155920, 172188, 196585, 188368, 172333, 194388, 192532, 162561, 168118, 156161, 156201, 156213, 167528, 168613, 156252, 174237, 175285, 156408, 156442, 156450, 181856, 156519, 156530, 165354, 160599, 190962, 180871, 156711, 156749, 156764, 156821, 156826, 187970, 77857, 156854, 170182, 156937, 156938, 157787, 175869, 172733, 184076, 197750, 165710, 181339, 183548, 180851, 190762, 157284, 185825, 182040, 157409, 157495, 157523, 170485, 157657, 157658, 157704, 157719, 157737, 173945, 157767, 177621, 157820, 63365, 168083, 157957, 158016, 158091, 158095, 163428, 161080, 158170, 158178, 185638, 158268, 174396, 194112, 103009, 168260, 4131, 190901, 196710, 194024, 165074, 53930, 158428, 170720, 178047, 194884, 181123, 180781, 158691, 158771, 174042, 167862, 187754, 161672, 171542, 199421, 190927, 148689, 159179, 159269, 159314, 159395, 159396, 159631, 197817, 172305, 183670, 159734, 159735, 164568, 159860, 159867, 159875, 186999, 161288, 160129, 195663, 160230, 189914, 165995, 160248, 198103, 160397, 160436, 161910, 172436, 160567, 160682, 160712, 160785, 160798, 160824, 188476, 180777, 160931, 164581, 160989, 199247, 192089, 161349, 188652, 161378, 161452, 161502, 178425, 197456, 40720, 161592, 178313, 161712, 161770, 161873, 191470, 179727, 162212, 168887, 177507, 162216, 162240, 162380, 162386, 162428, 146405, 194765, 197406, 162589, 162608, 197854, 188273, 192544, 175254, 188555, 167405, 177771, 172299, 170402, 170536, 166481, 177266, 163275, 163335, 163339, 183204, 166337, 179447, 65102, 163624, 175492, 183183, 171510, 163742, 197140, 163863, 163908, 163920, 169626, 164191, 164213, 164215, 164238, 164247, 166924, 180958, 197051, 169134, 197020, 164373, 164381, 194971, 196047, 195495, 170491, 171098, 164567, 182225, 164671, 186396, 177066, 164773, 184556, 196905, 164846, 164855, 164877, 193956, 189721, 173675, 164964, 169673, 191104, 165597, 179112, 166828, 165453, 165458, 169517, 196625, 168985, 187938, 171078, 165644, 178268, 189220, 165771, 165796, 146776, 165962, 165980, 180316, 166069, 166075, 166165, 197849, 166247, 186047, 188953, 180324, 187047, 166307, 185137, 183962, 167972, 185001, 166352, 193319, 190593, 166453, 166533, 190548, 166594, 166611, 197041, 166882, 172547, 166959, 184437, 198213, 183873, 167131, 167160, 200145, 177630, 198457, 182303, 187979, 198452, 178610, 167578, 167583, 88026, 167766, 167800, 183331, 186844, 168046, 168122, 168181, 196986, 140065, 168420, 197836, 168491, 169997, 187861, 172409, 168789, 168804, 188822, 75424, 173986, 174785, 168839, 182254, 169209, 168918, 168941, 168952, 173733, 174259, 113684, 169082, 185725, 196288, 183558, 30836, 173307, 132957, 194661, 169253, 169277, 169395, 169418, 190501, 169529, 169550, 169551, 200054, 169675, 184004, 169706, 169743, 169777, 179729, 178359, 169825, 169896, 174065, 170022, 170058, 18459, 170073, 170105, 170808, 170186, 184064, 170258, 170281, 170308, 185277, 187251, 170501, 170587, 170633, 170651, 168328, 170666, 188522, 185543, 133028, 170745, 170780, 98040, 193421, 174029, 190482, 171052, 171104, 171133, 197978, 177806, 197999, 171434, 171560, 171571, 171587, 200111, 171624, 179936, 182951, 171710, 192945, 171897, 188737, 184644, 172093, 172191, 180087, 181329, 180847, 199064, 172338, 172360, 188109, 191833, 185373, 172508, 172570, 195966, 172715, 172747, 198787, 194848, 176724, 192627, 177935, 181043, 189641, 173712, 173742, 183374, 121076, 184088, 173879, 183097, 187779, 141757, 174093, 174319, 174378, 193258, 174430, 178911, 174670, 187922, 186179, 197473, 174940, 175002, 175064, 175116, 175228, 178773, 192441, 179079, 175550, 196552, 189546, 175637, 176973, 175746, 179315, 10178, 175975, 183418, 119922, 197755, 200135, 180580, 176343, 176817, 176412, 181763, 199056, 176554, 176662, 176674, 185904, 176943, 199085, 195102, 177085, 185275, 177238, 187072, 184520, 177598, 35665, 177698, 42471, 177835, 48068, 178007, 18093, 178136, 179460, 178245, 185972, 178411, 178464, 178596, 185714, 184716, 154456, 178726, 184958, 178744, 178745, 178767, 178808, 178818, 191054, 198161, 183332, 123408, 179355, 199888, 185412, 179663, 199749, 179689, 163126, 136594, 179882, 160580, 180039, 195423, 180167, 180265, 191395, 189245, 187415, 188544, 187231, 180646, 180932, 183947, 180735, 186103, 181004, 188393, 28625, 186882, 181789, 181469, 194312, 193801, 199833, 191081, 181888, 181945, 194212, 182170, 189152, 182357, 183784, 182971, 183088, 183145, 183234, 183291, 183358, 160542, 183869, 190449, 70487, 184296, 184307, 184308, 184411, 199518, 184465, 184624, 184673, 184913, 187135, 194579, 185435, 185438, 185489, 191315, 185788, 185818, 116256, 186012, 198475, 192214, 114461, 119063, 192918, 191416, 186832, 186898, 188172, 198077, 187153, 187325, 124999, 187516, 189201, 187886, 188098, 188150, 139609, 188498, 188657, 188990, 196373, 189298, 198922, 189740, 189934, 189975, 189993, 195469, 194039, 190212, 194373, 191305, 141075, 191579, 199625, 198800, 191759, 191797, 195396, 191855, 191869, 192167, 193773, 179869, 199455, 193134, 193448, 198436, 194068, 194334, 194387, 195878, 194756, 195341, 155617, 197124, 195437, 195502, 195709, 196316, 196198, 198004, 197463, 197398, 198274, 197861, 199771, 199894] in column item_id during transform"
     ]
    }
   ],
   "source": [
    "tokenizer = SequenceTokenizer(tensor_schema, allow_collect_to_master=True)\n",
    "tokenizer.fit(train_dataset)\n",
    "\n",
    "sequential_train_dataset = tokenizer.transform(train_dataset)\n",
    "\n",
    "sequential_validation_dataset = tokenizer.transform(validation_dataset)\n",
    "sequential_validation_gt = tokenizer.transform(validation_gt, [tensor_schema.item_id_feature_name])\n",
    "\n",
    "sequential_validation_dataset, sequential_validation_gt = SequentialDataset.keep_common_query_ids(\n",
    "    sequential_validation_dataset, sequential_validation_gt\n",
    ")"
   ]
  },
  {
   "cell_type": "code",
   "execution_count": 25,
   "metadata": {},
   "outputs": [
    {
     "data": {
      "text/plain": [
       "set()"
      ]
     },
     "execution_count": 25,
     "metadata": {},
     "output_type": "execute_result"
    }
   ],
   "source": [
    "set(validation_dataset.item_ids['item_id'].unique().tolist()) - set(train_dataset.item_ids['item_id'].unique().tolist())"
   ]
  },
  {
   "cell_type": "code",
   "execution_count": null,
   "metadata": {},
   "outputs": [],
   "source": [
    "test_query_ids = test_gt.query_ids\n",
    "test_query_ids_np = tokenizer.query_id_encoder.transform(test_query_ids)[\"user_id\"].values\n",
    "sequential_test_dataset = tokenizer.transform(test_dataset).filter_by_query_id(test_query_ids_np)"
   ]
  },
  {
   "attachments": {},
   "cell_type": "markdown",
   "metadata": {},
   "source": [
    "You can get the user and item mapping and inverse mapping as follows"
   ]
  },
  {
   "cell_type": "code",
   "execution_count": null,
   "metadata": {},
   "outputs": [
    {
     "name": "stdout",
     "output_type": "stream",
     "text": [
      "{'user_id': {1: 0, 2: 1, 3: 2, 4: 3, 5: 4, 6: 5, 7: 6, 8: 7, 9: 8, 10: 9, 11: 10, 12: 11, 13: 12, 14: 13, 15: 14, 16: 15, 17: 16, 18: 17, 19: 18, 20: 19, 21: 20, 22: 21, 23: 22, 24: 23, 25: 24, 26: 25, 27: 26, 28: 27, 29: 28, 30: 29, 31: 30, 32: 31, 33: 32, 34: 33, 35: 34, 36: 35, 37: 36, 38: 37, 39: 38, 40: 39, 41: 40, 42: 41, 43: 42, 44: 43, 45: 44, 46: 45, 47: 46, 48: 47, 49: 48, 50: 49, 51: 50, 52: 51, 53: 52, 54: 53, 55: 54, 56: 55, 57: 56, 58: 57, 59: 58, 60: 59, 61: 60, 62: 61, 63: 62, 64: 63, 65: 64, 66: 65, 67: 66, 68: 67, 69: 68, 70: 69, 71: 70, 72: 71, 73: 72, 74: 73, 75: 74, 76: 75, 77: 76, 78: 77, 79: 78, 80: 79, 81: 80, 82: 81, 83: 82, 84: 83, 85: 84, 86: 85, 87: 86, 88: 87, 89: 88, 90: 89, 91: 90, 92: 91, 93: 92, 94: 93, 95: 94, 96: 95, 97: 96, 98: 97, 99: 98, 100: 99, 101: 100, 102: 101, 103: 102, 104: 103, 105: 104, 106: 105, 107: 106, 108: 107, 109: 108, 110: 109, 111: 110, 112: 111, 113: 112, 114: 113, 115: 114, 116: 115, 117: 116, 118: 117, 119: 118, 120: 119, 121: 120, 122: 121, 123: 122, 124: 123, 125: 124, 126: 125, 127: 126, 128: 127, 129: 128, 130: 129, 131: 130, 132: 131, 133: 132, 134: 133, 135: 134, 136: 135, 137: 136, 138: 137, 139: 138, 140: 139, 141: 140, 142: 141, 143: 142, 144: 143, 145: 144, 146: 145, 147: 146, 148: 147, 149: 148, 150: 149, 151: 150, 152: 151, 153: 152, 154: 153, 155: 154, 156: 155, 157: 156, 158: 157, 159: 158, 160: 159, 161: 160, 162: 161, 163: 162, 164: 163, 165: 164, 166: 165, 167: 166, 168: 167, 169: 168, 170: 169, 171: 170, 172: 171, 173: 172, 174: 173, 175: 174, 176: 175, 177: 176, 178: 177, 179: 178, 180: 179, 181: 180, 182: 181, 183: 182, 184: 183, 185: 184, 186: 185, 187: 186, 188: 187, 189: 188, 190: 189, 191: 190, 192: 191, 193: 192, 194: 193, 195: 194, 196: 195, 197: 196, 198: 197, 199: 198, 200: 199, 201: 200, 202: 201, 203: 202, 204: 203, 205: 204, 206: 205, 207: 206, 208: 207, 209: 208, 210: 209, 211: 210, 212: 211, 213: 212, 214: 213, 215: 214, 216: 215, 217: 216, 218: 217, 219: 218, 220: 219, 221: 220, 222: 221, 223: 222, 224: 223, 225: 224, 226: 225, 227: 226, 228: 227, 229: 228, 230: 229, 231: 230, 232: 231, 233: 232, 234: 233, 235: 234, 236: 235, 237: 236, 238: 237, 239: 238, 240: 239, 241: 240, 242: 241, 243: 242, 244: 243, 245: 244, 246: 245, 247: 246, 248: 247, 249: 248, 250: 249, 251: 250, 252: 251, 253: 252, 254: 253, 255: 254, 256: 255, 257: 256, 258: 257, 259: 258, 260: 259, 261: 260, 262: 261, 263: 262, 264: 263, 265: 264, 266: 265, 267: 266, 268: 267, 269: 268, 270: 269, 271: 270, 272: 271, 273: 272, 274: 273, 275: 274, 276: 275, 277: 276, 278: 277, 279: 278, 280: 279, 281: 280, 282: 281, 283: 282, 284: 283, 285: 284, 286: 285, 287: 286, 288: 287, 289: 288, 290: 289, 291: 290, 292: 291, 293: 292, 294: 293, 295: 294, 296: 295, 297: 296, 298: 297, 299: 298, 300: 299, 301: 300, 302: 301, 303: 302, 304: 303, 305: 304, 306: 305, 307: 306, 308: 307, 309: 308, 310: 309, 311: 310, 312: 311, 313: 312, 314: 313, 315: 314, 316: 315, 317: 316, 318: 317, 319: 318, 320: 319, 321: 320, 322: 321, 323: 322, 324: 323, 325: 324, 326: 325, 327: 326, 328: 327, 329: 328, 330: 329, 331: 330, 332: 331, 333: 332, 334: 333, 335: 334, 336: 335, 337: 336, 338: 337, 339: 338, 340: 339, 341: 340, 342: 341, 343: 342, 344: 343, 345: 344, 346: 345, 347: 346, 348: 347, 349: 348, 350: 349, 351: 350, 352: 351, 353: 352, 354: 353, 355: 354, 356: 355, 357: 356, 358: 357, 359: 358, 360: 359, 361: 360, 362: 361, 363: 362, 364: 363, 365: 364, 366: 365, 367: 366, 368: 367, 369: 368, 370: 369, 371: 370, 372: 371, 373: 372, 374: 373, 375: 374, 376: 375, 377: 376, 378: 377, 379: 378, 380: 379, 381: 380, 382: 381, 383: 382, 384: 383, 385: 384, 386: 385, 387: 386, 388: 387, 389: 388, 390: 389, 391: 390, 392: 391, 393: 392, 394: 393, 395: 394, 396: 395, 397: 396, 398: 397, 399: 398, 400: 399, 401: 400, 402: 401, 403: 402, 404: 403, 405: 404, 406: 405, 407: 406, 408: 407, 409: 408, 410: 409, 411: 410, 412: 411, 413: 412, 414: 413, 415: 414, 416: 415, 417: 416, 418: 417, 419: 418, 420: 419, 421: 420, 422: 421, 423: 422, 424: 423, 425: 424, 426: 425, 427: 426, 428: 427, 429: 428, 430: 429, 431: 430, 432: 431, 433: 432, 434: 433, 435: 434, 436: 435, 437: 436, 438: 437, 439: 438, 440: 439, 441: 440, 442: 441, 443: 442, 444: 443, 445: 444, 446: 445, 447: 446, 448: 447, 449: 448, 450: 449, 451: 450, 452: 451, 453: 452, 454: 453, 455: 454, 456: 455, 457: 456, 458: 457, 459: 458, 460: 459, 461: 460, 462: 461, 463: 462, 464: 463, 465: 464, 466: 465, 467: 466, 468: 467, 469: 468, 470: 469, 471: 470, 472: 471, 473: 472, 474: 473, 475: 474, 476: 475, 477: 476, 478: 477, 479: 478, 480: 479, 481: 480, 482: 481, 483: 482, 484: 483, 485: 484, 486: 485, 487: 486, 488: 487, 489: 488, 490: 489, 491: 490, 492: 491, 493: 492, 494: 493, 495: 494, 496: 495, 497: 496, 498: 497, 499: 498, 500: 499, 501: 500, 502: 501, 503: 502, 504: 503, 505: 504, 506: 505, 507: 506, 508: 507, 509: 508, 510: 509, 511: 510, 512: 511, 513: 512, 514: 513, 515: 514, 516: 515, 517: 516, 518: 517, 519: 518, 520: 519, 521: 520, 522: 521, 523: 522, 524: 523, 525: 524, 526: 525, 527: 526, 528: 527, 529: 528, 530: 529, 531: 530, 532: 531, 533: 532, 534: 533, 535: 534, 536: 535, 537: 536, 538: 537, 539: 538, 540: 539, 541: 540, 542: 541, 543: 542, 544: 543, 545: 544, 546: 545, 547: 546, 548: 547, 549: 548, 550: 549, 551: 550, 552: 551, 553: 552, 554: 553, 555: 554, 556: 555, 557: 556, 558: 557, 559: 558, 560: 559, 561: 560, 562: 561, 563: 562, 564: 563, 565: 564, 566: 565, 567: 566, 568: 567, 569: 568, 570: 569, 571: 570, 572: 571, 573: 572, 574: 573, 575: 574, 576: 575, 577: 576, 578: 577, 579: 578, 580: 579, 581: 580, 582: 581, 583: 582, 584: 583, 585: 584, 586: 585, 587: 586, 588: 587, 589: 588, 590: 589, 591: 590, 592: 591, 593: 592, 594: 593, 595: 594, 596: 595, 597: 596, 598: 597, 599: 598, 600: 599, 601: 600, 602: 601, 603: 602, 604: 603, 605: 604, 606: 605, 607: 606, 608: 607, 609: 608, 610: 609, 611: 610, 612: 611, 613: 612, 614: 613, 615: 614, 616: 615, 617: 616, 618: 617, 619: 618, 620: 619, 621: 620, 622: 621, 623: 622, 624: 623, 625: 624, 626: 625, 627: 626, 628: 627, 629: 628, 630: 629, 631: 630, 632: 631, 633: 632, 634: 633, 635: 634, 636: 635, 637: 636, 638: 637, 639: 638, 640: 639, 641: 640, 642: 641, 643: 642, 644: 643, 645: 644, 646: 645, 647: 646, 648: 647, 649: 648, 650: 649, 651: 650, 652: 651, 653: 652, 654: 653, 655: 654, 656: 655, 657: 656, 658: 657, 659: 658, 660: 659, 661: 660, 662: 661, 663: 662, 664: 663, 665: 664, 666: 665, 667: 666, 668: 667, 669: 668, 670: 669, 671: 670, 672: 671, 673: 672, 674: 673, 675: 674, 676: 675, 677: 676, 678: 677, 679: 678, 680: 679, 681: 680, 682: 681, 683: 682, 684: 683, 685: 684, 686: 685, 687: 686, 688: 687, 689: 688, 690: 689, 691: 690, 692: 691, 693: 692, 694: 693, 695: 694, 696: 695, 697: 696, 698: 697, 699: 698, 700: 699, 701: 700, 702: 701, 703: 702, 704: 703, 705: 704, 706: 705, 707: 706, 708: 707, 709: 708, 710: 709, 711: 710, 712: 711, 713: 712, 714: 713, 715: 714, 716: 715, 717: 716, 718: 717, 719: 718, 720: 719, 721: 720, 722: 721, 723: 722, 724: 723, 725: 724, 726: 725, 727: 726, 728: 727, 729: 728, 730: 729, 731: 730, 732: 731, 733: 732, 734: 733, 735: 734, 736: 735, 737: 736, 738: 737, 739: 738, 740: 739, 741: 740, 742: 741, 743: 742, 744: 743, 745: 744, 746: 745, 747: 746, 748: 747, 749: 748, 750: 749, 751: 750, 752: 751, 753: 752, 754: 753, 755: 754, 756: 755, 757: 756, 758: 757, 759: 758, 760: 759, 761: 760, 762: 761, 763: 762, 764: 763, 765: 764, 766: 765, 767: 766, 768: 767, 769: 768, 770: 769, 771: 770, 772: 771, 773: 772, 774: 773, 775: 774, 776: 775, 777: 776, 778: 777, 779: 778, 780: 779, 781: 780, 782: 781, 783: 782, 784: 783, 785: 784, 786: 785, 787: 786, 788: 787, 789: 788, 790: 789, 791: 790, 792: 791, 793: 792, 794: 793, 795: 794, 796: 795, 797: 796, 798: 797, 799: 798, 800: 799, 801: 800, 802: 801, 803: 802, 804: 803, 805: 804, 806: 805, 807: 806, 808: 807, 809: 808, 810: 809, 811: 810, 812: 811, 813: 812, 814: 813, 815: 814, 816: 815, 817: 816, 818: 817, 819: 818, 820: 819, 821: 820, 822: 821, 823: 822, 824: 823, 825: 824, 826: 825, 827: 826, 828: 827, 829: 828, 830: 829, 831: 830, 832: 831, 833: 832, 834: 833, 835: 834, 836: 835, 837: 836, 838: 837, 839: 838, 840: 839, 841: 840, 842: 841, 843: 842, 844: 843, 845: 844, 846: 845, 847: 846, 848: 847, 849: 848, 850: 849, 851: 850, 852: 851, 853: 852, 854: 853, 855: 854, 856: 855, 857: 856, 858: 857, 859: 858, 860: 859, 861: 860, 862: 861, 863: 862, 864: 863, 865: 864, 866: 865, 867: 866, 868: 867, 869: 868, 870: 869, 871: 870, 872: 871, 873: 872, 874: 873, 875: 874, 876: 875, 877: 876, 878: 877, 879: 878, 880: 879, 881: 880, 882: 881, 883: 882, 884: 883, 885: 884, 886: 885, 887: 886, 888: 887, 889: 888, 890: 889, 891: 890, 892: 891, 893: 892, 894: 893, 895: 894, 896: 895, 897: 896, 898: 897, 899: 898, 900: 899, 901: 900, 902: 901, 903: 902, 904: 903, 905: 904, 906: 905, 907: 906, 908: 907, 909: 908, 910: 909, 911: 910, 912: 911, 913: 912, 914: 913, 915: 914, 916: 915, 917: 916, 918: 917, 919: 918, 920: 919, 921: 920, 922: 921, 923: 922, 924: 923, 925: 924, 926: 925, 927: 926, 928: 927, 929: 928, 930: 929, 931: 930, 932: 931, 933: 932, 934: 933, 935: 934, 936: 935, 937: 936, 938: 937, 939: 938, 940: 939, 941: 940, 942: 941, 943: 942, 944: 943, 945: 944, 946: 945, 947: 946, 948: 947, 949: 948, 950: 949, 951: 950, 952: 951, 953: 952, 954: 953, 955: 954, 956: 955, 957: 956, 958: 957, 959: 958, 960: 959, 961: 960, 962: 961, 963: 962, 964: 963, 965: 964, 966: 965, 967: 966, 968: 967, 969: 968, 970: 969, 971: 970, 972: 971, 973: 972, 974: 973, 975: 974, 976: 975, 977: 976, 978: 977, 979: 978, 980: 979, 981: 980, 982: 981, 983: 982, 984: 983, 985: 984, 986: 985, 987: 986, 988: 987, 989: 988, 990: 989, 991: 990, 992: 991, 993: 992, 994: 993, 995: 994, 996: 995, 997: 996, 998: 997, 999: 998, 1000: 999, 1001: 1000, 1002: 1001, 1003: 1002, 1004: 1003, 1005: 1004, 1006: 1005, 1007: 1006, 1008: 1007, 1009: 1008, 1010: 1009, 1011: 1010, 1012: 1011, 1013: 1012, 1014: 1013, 1015: 1014, 1016: 1015, 1017: 1016, 1018: 1017, 1019: 1018, 1020: 1019, 1021: 1020, 1022: 1021, 1023: 1022, 1024: 1023, 1025: 1024, 1026: 1025, 1027: 1026, 1028: 1027, 1029: 1028, 1030: 1029, 1031: 1030, 1032: 1031, 1033: 1032, 1034: 1033, 1035: 1034, 1036: 1035, 1037: 1036, 1038: 1037, 1039: 1038, 1040: 1039, 1041: 1040, 1042: 1041, 1043: 1042, 1044: 1043, 1045: 1044, 1046: 1045, 1047: 1046, 1048: 1047, 1049: 1048, 1050: 1049, 1051: 1050, 1052: 1051, 1053: 1052, 1054: 1053, 1055: 1054, 1056: 1055, 1057: 1056, 1058: 1057, 1059: 1058, 1060: 1059, 1061: 1060, 1062: 1061, 1063: 1062, 1064: 1063, 1065: 1064, 1066: 1065, 1067: 1066, 1068: 1067, 1069: 1068, 1070: 1069, 1071: 1070, 1072: 1071, 1073: 1072, 1074: 1073, 1075: 1074, 1076: 1075, 1077: 1076, 1078: 1077, 1079: 1078, 1080: 1079, 1081: 1080, 1082: 1081, 1083: 1082, 1084: 1083, 1085: 1084, 1086: 1085, 1087: 1086, 1088: 1087, 1089: 1088, 1090: 1089, 1091: 1090, 1092: 1091, 1093: 1092, 1094: 1093, 1095: 1094, 1096: 1095, 1097: 1096, 1098: 1097, 1099: 1098, 1100: 1099, 1101: 1100, 1102: 1101, 1103: 1102, 1104: 1103, 1105: 1104, 1106: 1105, 1107: 1106, 1108: 1107, 1109: 1108, 1110: 1109, 1111: 1110, 1112: 1111, 1113: 1112, 1114: 1113, 1115: 1114, 1116: 1115, 1117: 1116, 1118: 1117, 1119: 1118, 1120: 1119, 1121: 1120, 1122: 1121, 1123: 1122, 1124: 1123, 1125: 1124, 1126: 1125, 1127: 1126, 1128: 1127, 1129: 1128, 1130: 1129, 1131: 1130, 1132: 1131, 1133: 1132, 1134: 1133, 1135: 1134, 1136: 1135, 1137: 1136, 1138: 1137, 1139: 1138, 1140: 1139, 1141: 1140, 1142: 1141, 1143: 1142, 1144: 1143, 1145: 1144, 1146: 1145, 1147: 1146, 1148: 1147, 1149: 1148, 1150: 1149, 1151: 1150, 1152: 1151, 1153: 1152, 1154: 1153, 1155: 1154, 1156: 1155, 1157: 1156, 1158: 1157, 1159: 1158, 1160: 1159, 1161: 1160, 1162: 1161, 1163: 1162, 1164: 1163, 1165: 1164, 1166: 1165, 1167: 1166, 1168: 1167, 1169: 1168, 1170: 1169, 1171: 1170, 1172: 1171, 1173: 1172, 1174: 1173, 1175: 1174, 1176: 1175, 1177: 1176, 1178: 1177, 1179: 1178, 1180: 1179, 1181: 1180, 1182: 1181, 1183: 1182, 1184: 1183, 1185: 1184, 1186: 1185, 1187: 1186, 1188: 1187, 1189: 1188, 1190: 1189, 1191: 1190, 1192: 1191, 1193: 1192, 1194: 1193, 1195: 1194, 1196: 1195, 1197: 1196, 1198: 1197, 1199: 1198, 1200: 1199, 1201: 1200, 1202: 1201, 1203: 1202, 1204: 1203, 1205: 1204, 1206: 1205, 1207: 1206, 1208: 1207, 1209: 1208, 1210: 1209, 1211: 1210, 1212: 1211, 1213: 1212, 1214: 1213, 1215: 1214, 1216: 1215, 1217: 1216, 1218: 1217, 1219: 1218, 1220: 1219, 1221: 1220, 1222: 1221, 1223: 1222, 1224: 1223, 1225: 1224, 1226: 1225, 1227: 1226, 1228: 1227, 1229: 1228, 1230: 1229, 1231: 1230, 1232: 1231, 1233: 1232, 1234: 1233, 1235: 1234, 1236: 1235, 1237: 1236, 1238: 1237, 1239: 1238, 1240: 1239, 1241: 1240, 1242: 1241, 1243: 1242, 1244: 1243, 1245: 1244, 1246: 1245, 1247: 1246, 1248: 1247, 1249: 1248, 1250: 1249, 1251: 1250, 1252: 1251, 1253: 1252, 1254: 1253, 1255: 1254, 1256: 1255, 1257: 1256, 1258: 1257, 1259: 1258, 1260: 1259, 1261: 1260, 1262: 1261, 1263: 1262, 1264: 1263, 1265: 1264, 1266: 1265, 1267: 1266, 1268: 1267, 1269: 1268, 1270: 1269, 1271: 1270, 1272: 1271, 1273: 1272, 1274: 1273, 1275: 1274, 1276: 1275, 1277: 1276, 1278: 1277, 1279: 1278, 1280: 1279, 1281: 1280, 1282: 1281, 1283: 1282, 1284: 1283, 1285: 1284, 1286: 1285, 1287: 1286, 1288: 1287, 1289: 1288, 1290: 1289, 1291: 1290, 1292: 1291, 1293: 1292, 1294: 1293, 1295: 1294, 1296: 1295, 1297: 1296, 1298: 1297, 1299: 1298, 1300: 1299, 1301: 1300, 1302: 1301, 1303: 1302, 1304: 1303, 1305: 1304, 1306: 1305, 1307: 1306, 1308: 1307, 1309: 1308, 1310: 1309, 1311: 1310, 1312: 1311, 1313: 1312, 1314: 1313, 1315: 1314, 1316: 1315, 1317: 1316, 1318: 1317, 1319: 1318, 1320: 1319, 1321: 1320, 1322: 1321, 1323: 1322, 1324: 1323, 1325: 1324, 1326: 1325, 1327: 1326, 1328: 1327, 1329: 1328, 1330: 1329, 1331: 1330, 1332: 1331, 1333: 1332, 1334: 1333, 1335: 1334, 1336: 1335, 1337: 1336, 1338: 1337, 1339: 1338, 1340: 1339, 1341: 1340, 1342: 1341, 1343: 1342, 1344: 1343, 1345: 1344, 1346: 1345, 1347: 1346, 1348: 1347, 1349: 1348, 1350: 1349, 1351: 1350, 1352: 1351, 1353: 1352, 1354: 1353, 1355: 1354, 1356: 1355, 1357: 1356, 1358: 1357, 1359: 1358, 1360: 1359, 1361: 1360, 1362: 1361, 1363: 1362, 1364: 1363, 1365: 1364, 1366: 1365, 1367: 1366, 1368: 1367, 1369: 1368, 1370: 1369, 1371: 1370, 1372: 1371, 1373: 1372, 1374: 1373, 1375: 1374, 1376: 1375, 1377: 1376, 1378: 1377, 1379: 1378, 1380: 1379, 1381: 1380, 1382: 1381, 1383: 1382, 1384: 1383, 1385: 1384, 1386: 1385, 1387: 1386, 1388: 1387, 1389: 1388, 1390: 1389, 1391: 1390, 1392: 1391, 1393: 1392, 1394: 1393, 1395: 1394, 1396: 1395, 1397: 1396, 1398: 1397, 1399: 1398, 1400: 1399, 1401: 1400, 1402: 1401, 1403: 1402, 1404: 1403, 1405: 1404, 1406: 1405, 1407: 1406, 1408: 1407, 1409: 1408, 1410: 1409, 1411: 1410, 1412: 1411, 1413: 1412, 1414: 1413, 1415: 1414, 1416: 1415, 1417: 1416, 1418: 1417, 1419: 1418, 1420: 1419, 1421: 1420, 1422: 1421, 1423: 1422, 1424: 1423, 1425: 1424, 1426: 1425, 1427: 1426, 1428: 1427, 1429: 1428, 1430: 1429, 1431: 1430, 1432: 1431, 1433: 1432, 1434: 1433, 1435: 1434, 1436: 1435, 1437: 1436, 1438: 1437, 1439: 1438, 1440: 1439, 1441: 1440, 1442: 1441, 1443: 1442, 1444: 1443, 1445: 1444, 1446: 1445, 1447: 1446, 1448: 1447, 1449: 1448, 1450: 1449, 1451: 1450, 1452: 1451, 1453: 1452, 1454: 1453, 1455: 1454, 1456: 1455, 1457: 1456, 1458: 1457, 1459: 1458, 1460: 1459, 1461: 1460, 1462: 1461, 1463: 1462, 1464: 1463, 1465: 1464, 1466: 1465, 1467: 1466, 1468: 1467, 1469: 1468, 1470: 1469, 1471: 1470, 1472: 1471, 1473: 1472, 1474: 1473, 1475: 1474, 1476: 1475, 1477: 1476, 1478: 1477, 1479: 1478, 1480: 1479, 1481: 1480, 1482: 1481, 1483: 1482, 1484: 1483, 1485: 1484, 1486: 1485, 1487: 1486, 1488: 1487, 1489: 1488, 1490: 1489, 1491: 1490, 1492: 1491, 1493: 1492, 1494: 1493, 1495: 1494, 1496: 1495, 1497: 1496, 1498: 1497, 1499: 1498, 1500: 1499, 1501: 1500, 1502: 1501, 1503: 1502, 1504: 1503, 1505: 1504, 1506: 1505, 1507: 1506, 1508: 1507, 1509: 1508, 1510: 1509, 1511: 1510, 1512: 1511, 1513: 1512, 1514: 1513, 1515: 1514, 1516: 1515, 1517: 1516, 1518: 1517, 1519: 1518, 1520: 1519, 1521: 1520, 1522: 1521, 1523: 1522, 1524: 1523, 1525: 1524, 1526: 1525, 1527: 1526, 1528: 1527, 1529: 1528, 1530: 1529, 1531: 1530, 1532: 1531, 1533: 1532, 1534: 1533, 1535: 1534, 1536: 1535, 1537: 1536, 1538: 1537, 1539: 1538, 1540: 1539, 1541: 1540, 1542: 1541, 1543: 1542, 1544: 1543, 1545: 1544, 1546: 1545, 1547: 1546, 1548: 1547, 1549: 1548, 1550: 1549, 1551: 1550, 1552: 1551, 1553: 1552, 1554: 1553, 1555: 1554, 1556: 1555, 1557: 1556, 1558: 1557, 1559: 1558, 1560: 1559, 1561: 1560, 1562: 1561, 1563: 1562, 1564: 1563, 1565: 1564, 1566: 1565, 1567: 1566, 1568: 1567, 1569: 1568, 1570: 1569, 1571: 1570, 1572: 1571, 1573: 1572, 1574: 1573, 1575: 1574, 1576: 1575, 1577: 1576, 1578: 1577, 1579: 1578, 1580: 1579, 1581: 1580, 1582: 1581, 1583: 1582, 1584: 1583, 1585: 1584, 1586: 1585, 1587: 1586, 1588: 1587, 1589: 1588, 1590: 1589, 1591: 1590, 1592: 1591, 1593: 1592, 1594: 1593, 1595: 1594, 1596: 1595, 1597: 1596, 1598: 1597, 1599: 1598, 1600: 1599, 1601: 1600, 1602: 1601, 1603: 1602, 1604: 1603, 1605: 1604, 1606: 1605, 1607: 1606, 1608: 1607, 1609: 1608, 1610: 1609, 1611: 1610, 1612: 1611, 1613: 1612, 1614: 1613, 1615: 1614, 1616: 1615, 1617: 1616, 1618: 1617, 1619: 1618, 1620: 1619, 1621: 1620, 1622: 1621, 1623: 1622, 1624: 1623, 1625: 1624, 1626: 1625, 1627: 1626, 1628: 1627, 1629: 1628, 1630: 1629, 1631: 1630, 1632: 1631, 1633: 1632, 1634: 1633, 1635: 1634, 1636: 1635, 1637: 1636, 1638: 1637, 1639: 1638, 1640: 1639, 1641: 1640, 1642: 1641, 1643: 1642, 1644: 1643, 1645: 1644, 1646: 1645, 1647: 1646, 1648: 1647, 1649: 1648, 1650: 1649, 1651: 1650, 1652: 1651, 1653: 1652, 1654: 1653, 1655: 1654, 1656: 1655, 1657: 1656, 1658: 1657, 1659: 1658, 1660: 1659, 1661: 1660, 1662: 1661, 1663: 1662, 1664: 1663, 1665: 1664, 1666: 1665, 1667: 1666, 1668: 1667, 1669: 1668, 1670: 1669, 1671: 1670, 1672: 1671, 1673: 1672, 1674: 1673, 1675: 1674, 1676: 1675, 1677: 1676, 1678: 1677, 1679: 1678, 1680: 1679, 1681: 1680, 1682: 1681, 1683: 1682, 1684: 1683, 1685: 1684, 1686: 1685, 1687: 1686, 1688: 1687, 1689: 1688, 1690: 1689, 1691: 1690, 1692: 1691, 1693: 1692, 1694: 1693, 1695: 1694, 1696: 1695, 1697: 1696, 1698: 1697, 1699: 1698, 1700: 1699, 1701: 1700, 1702: 1701, 1703: 1702, 1704: 1703, 1705: 1704, 1706: 1705, 1707: 1706, 1708: 1707, 1709: 1708, 1710: 1709, 1711: 1710, 1712: 1711, 1713: 1712, 1714: 1713, 1715: 1714, 1716: 1715, 1717: 1716, 1718: 1717, 1719: 1718, 1720: 1719, 1721: 1720, 1722: 1721, 1723: 1722, 1724: 1723, 1725: 1724, 1726: 1725, 1727: 1726, 1728: 1727, 1729: 1728, 1730: 1729, 1731: 1730, 1732: 1731, 1733: 1732, 1734: 1733, 1735: 1734, 1736: 1735, 1737: 1736, 1738: 1737, 1739: 1738, 1740: 1739, 1741: 1740, 1742: 1741, 1743: 1742, 1744: 1743, 1745: 1744, 1746: 1745, 1747: 1746, 1748: 1747, 1749: 1748, 1750: 1749, 1751: 1750, 1752: 1751, 1753: 1752, 1754: 1753, 1755: 1754, 1756: 1755, 1757: 1756, 1758: 1757, 1759: 1758, 1760: 1759, 1761: 1760, 1762: 1761, 1763: 1762, 1764: 1763, 1765: 1764, 1766: 1765, 1767: 1766, 1768: 1767, 1769: 1768, 1770: 1769, 1771: 1770, 1772: 1771, 1773: 1772, 1774: 1773, 1775: 1774, 1776: 1775, 1777: 1776, 1778: 1777, 1779: 1778, 1780: 1779, 1781: 1780, 1782: 1781, 1783: 1782, 1784: 1783, 1785: 1784, 1786: 1785, 1787: 1786, 1788: 1787, 1789: 1788, 1790: 1789, 1791: 1790, 1792: 1791, 1793: 1792, 1794: 1793, 1795: 1794, 1796: 1795, 1797: 1796, 1798: 1797, 1799: 1798, 1800: 1799, 1801: 1800, 1802: 1801, 1803: 1802, 1804: 1803, 1805: 1804, 1806: 1805, 1807: 1806, 1808: 1807, 1809: 1808, 1810: 1809, 1811: 1810, 1812: 1811, 1813: 1812, 1814: 1813, 1815: 1814, 1816: 1815, 1817: 1816, 1818: 1817, 1819: 1818, 1820: 1819, 1821: 1820, 1822: 1821, 1823: 1822, 1824: 1823, 1825: 1824, 1826: 1825, 1827: 1826, 1828: 1827, 1829: 1828, 1830: 1829, 1831: 1830, 1832: 1831, 1833: 1832, 1834: 1833, 1835: 1834, 1836: 1835, 1837: 1836, 1838: 1837, 1839: 1838, 1840: 1839, 1841: 1840, 1842: 1841, 1843: 1842, 1844: 1843, 1845: 1844, 1846: 1845, 1847: 1846, 1848: 1847, 1849: 1848, 1850: 1849, 1851: 1850, 1852: 1851, 1853: 1852, 1854: 1853, 1855: 1854, 1856: 1855, 1857: 1856, 1858: 1857, 1859: 1858, 1860: 1859, 1861: 1860, 1862: 1861, 1863: 1862, 1864: 1863, 1865: 1864, 1866: 1865, 1867: 1866, 1868: 1867, 1869: 1868, 1870: 1869, 1871: 1870, 1872: 1871, 1873: 1872, 1874: 1873, 1875: 1874, 1876: 1875, 1877: 1876, 1878: 1877, 1879: 1878, 1880: 1879, 1881: 1880, 1882: 1881, 1883: 1882, 1884: 1883, 1885: 1884, 1886: 1885, 1887: 1886, 1888: 1887, 1889: 1888, 1890: 1889, 1891: 1890, 1892: 1891, 1893: 1892, 1894: 1893, 1895: 1894, 1896: 1895, 1897: 1896, 1898: 1897, 1899: 1898, 1900: 1899, 1901: 1900, 1902: 1901, 1903: 1902, 1904: 1903, 1905: 1904, 1906: 1905, 1907: 1906, 1908: 1907, 1909: 1908, 1910: 1909, 1911: 1910, 1912: 1911, 1913: 1912, 1914: 1913, 1915: 1914, 1916: 1915, 1917: 1916, 1918: 1917, 1919: 1918, 1920: 1919, 1921: 1920, 1922: 1921, 1923: 1922, 1924: 1923, 1925: 1924, 1926: 1925, 1927: 1926, 1928: 1927, 1929: 1928, 1930: 1929, 1931: 1930, 1932: 1931, 1933: 1932, 1934: 1933, 1935: 1934, 1936: 1935, 1937: 1936, 1938: 1937, 1939: 1938, 1940: 1939, 1941: 1940, 1942: 1941, 1943: 1942, 1944: 1943, 1945: 1944, 1946: 1945, 1947: 1946, 1948: 1947, 1949: 1948, 1950: 1949, 1951: 1950, 1952: 1951, 1953: 1952, 1954: 1953, 1955: 1954, 1956: 1955, 1957: 1956, 1958: 1957, 1959: 1958, 1960: 1959, 1961: 1960, 1962: 1961, 1963: 1962, 1964: 1963, 1965: 1964, 1966: 1965, 1967: 1966, 1968: 1967, 1969: 1968, 1970: 1969, 1971: 1970, 1972: 1971, 1973: 1972, 1974: 1973, 1975: 1974, 1976: 1975, 1977: 1976, 1978: 1977, 1979: 1978, 1980: 1979, 1981: 1980, 1982: 1981, 1983: 1982, 1984: 1983, 1985: 1984, 1986: 1985, 1987: 1986, 1988: 1987, 1989: 1988, 1990: 1989, 1991: 1990, 1992: 1991, 1993: 1992, 1994: 1993, 1995: 1994, 1996: 1995, 1997: 1996, 1998: 1997, 1999: 1998, 2000: 1999, 2001: 2000, 2002: 2001, 2003: 2002, 2004: 2003, 2005: 2004, 2006: 2005, 2007: 2006, 2008: 2007, 2009: 2008, 2010: 2009, 2011: 2010, 2012: 2011, 2013: 2012, 2014: 2013, 2015: 2014, 2016: 2015, 2017: 2016, 2018: 2017, 2019: 2018, 2020: 2019, 2021: 2020, 2022: 2021, 2023: 2022, 2024: 2023, 2025: 2024, 2026: 2025, 2027: 2026, 2028: 2027, 2029: 2028, 2030: 2029, 2031: 2030, 2032: 2031, 2033: 2032, 2034: 2033, 2035: 2034, 2036: 2035, 2037: 2036, 2038: 2037, 2039: 2038, 2040: 2039, 2041: 2040, 2042: 2041, 2043: 2042, 2044: 2043, 2045: 2044, 2046: 2045, 2047: 2046, 2048: 2047, 2049: 2048, 2050: 2049, 2051: 2050, 2052: 2051, 2053: 2052, 2054: 2053, 2055: 2054, 2056: 2055, 2057: 2056, 2058: 2057, 2059: 2058, 2060: 2059, 2061: 2060, 2062: 2061, 2063: 2062, 2064: 2063, 2065: 2064, 2066: 2065, 2067: 2066, 2068: 2067, 2069: 2068, 2070: 2069, 2071: 2070, 2072: 2071, 2073: 2072, 2074: 2073, 2075: 2074, 2076: 2075, 2077: 2076, 2078: 2077, 2079: 2078, 2080: 2079, 2081: 2080, 2082: 2081, 2083: 2082, 2084: 2083, 2085: 2084, 2086: 2085, 2087: 2086, 2088: 2087, 2089: 2088, 2090: 2089, 2091: 2090, 2092: 2091, 2093: 2092, 2094: 2093, 2095: 2094, 2096: 2095, 2097: 2096, 2098: 2097, 2099: 2098, 2100: 2099, 2101: 2100, 2102: 2101, 2103: 2102, 2104: 2103, 2105: 2104, 2106: 2105, 2107: 2106, 2108: 2107, 2109: 2108, 2110: 2109, 2111: 2110, 2112: 2111, 2113: 2112, 2114: 2113, 2115: 2114, 2116: 2115, 2117: 2116, 2118: 2117, 2119: 2118, 2120: 2119, 2121: 2120, 2122: 2121, 2123: 2122, 2124: 2123, 2125: 2124, 2126: 2125, 2127: 2126, 2128: 2127, 2129: 2128, 2130: 2129, 2131: 2130, 2132: 2131, 2133: 2132, 2134: 2133, 2135: 2134, 2136: 2135, 2137: 2136, 2138: 2137, 2139: 2138, 2140: 2139, 2141: 2140, 2142: 2141, 2143: 2142, 2144: 2143, 2145: 2144, 2146: 2145, 2147: 2146, 2148: 2147, 2149: 2148, 2150: 2149, 2151: 2150, 2152: 2151, 2153: 2152, 2154: 2153, 2155: 2154, 2156: 2155, 2157: 2156, 2158: 2157, 2159: 2158, 2160: 2159, 2161: 2160, 2162: 2161, 2163: 2162, 2164: 2163, 2165: 2164, 2166: 2165, 2167: 2166, 2168: 2167, 2169: 2168, 2170: 2169, 2171: 2170, 2172: 2171, 2173: 2172, 2174: 2173, 2175: 2174, 2176: 2175, 2177: 2176, 2178: 2177, 2179: 2178, 2180: 2179, 2181: 2180, 2182: 2181, 2183: 2182, 2184: 2183, 2185: 2184, 2186: 2185, 2187: 2186, 2188: 2187, 2189: 2188, 2190: 2189, 2191: 2190, 2192: 2191, 2193: 2192, 2194: 2193, 2195: 2194, 2196: 2195, 2197: 2196, 2198: 2197, 2199: 2198, 2200: 2199, 2201: 2200, 2202: 2201, 2203: 2202, 2204: 2203, 2205: 2204, 2206: 2205, 2207: 2206, 2208: 2207, 2209: 2208, 2210: 2209, 2211: 2210, 2212: 2211, 2213: 2212, 2214: 2213, 2215: 2214, 2216: 2215, 2217: 2216, 2218: 2217, 2219: 2218, 2220: 2219, 2221: 2220, 2222: 2221, 2223: 2222, 2224: 2223, 2225: 2224, 2226: 2225, 2227: 2226, 2228: 2227, 2229: 2228, 2230: 2229, 2231: 2230, 2232: 2231, 2233: 2232, 2234: 2233, 2235: 2234, 2236: 2235, 2237: 2236, 2238: 2237, 2239: 2238, 2240: 2239, 2241: 2240, 2242: 2241, 2243: 2242, 2244: 2243, 2245: 2244, 2246: 2245, 2247: 2246, 2248: 2247, 2249: 2248, 2250: 2249, 2251: 2250, 2252: 2251, 2253: 2252, 2254: 2253, 2255: 2254, 2256: 2255, 2257: 2256, 2258: 2257, 2259: 2258, 2260: 2259, 2261: 2260, 2262: 2261, 2263: 2262, 2264: 2263, 2265: 2264, 2266: 2265, 2267: 2266, 2268: 2267, 2269: 2268, 2270: 2269, 2271: 2270, 2272: 2271, 2273: 2272, 2274: 2273, 2275: 2274, 2276: 2275, 2277: 2276, 2278: 2277, 2279: 2278, 2280: 2279, 2281: 2280, 2282: 2281, 2283: 2282, 2284: 2283, 2285: 2284, 2286: 2285, 2287: 2286, 2288: 2287, 2289: 2288, 2290: 2289, 2291: 2290, 2292: 2291, 2293: 2292, 2294: 2293, 2295: 2294, 2296: 2295, 2297: 2296, 2298: 2297, 2299: 2298, 2300: 2299, 2301: 2300, 2302: 2301, 2303: 2302, 2304: 2303, 2305: 2304, 2306: 2305, 2307: 2306, 2308: 2307, 2309: 2308, 2310: 2309, 2311: 2310, 2312: 2311, 2313: 2312, 2314: 2313, 2315: 2314, 2316: 2315, 2317: 2316, 2318: 2317, 2319: 2318, 2320: 2319, 2321: 2320, 2322: 2321, 2323: 2322, 2324: 2323, 2325: 2324, 2326: 2325, 2327: 2326, 2328: 2327, 2329: 2328, 2330: 2329, 2331: 2330, 2332: 2331, 2333: 2332, 2334: 2333, 2335: 2334, 2336: 2335, 2337: 2336, 2338: 2337, 2339: 2338, 2340: 2339, 2341: 2340, 2342: 2341, 2343: 2342, 2344: 2343, 2345: 2344, 2346: 2345, 2347: 2346, 2348: 2347, 2349: 2348, 2350: 2349, 2351: 2350, 2352: 2351, 2353: 2352, 2354: 2353, 2355: 2354, 2356: 2355, 2357: 2356, 2358: 2357, 2359: 2358, 2360: 2359, 2361: 2360, 2362: 2361, 2363: 2362, 2364: 2363, 2365: 2364, 2366: 2365, 2367: 2366, 2368: 2367, 2369: 2368, 2370: 2369, 2371: 2370, 2372: 2371, 2373: 2372, 2374: 2373, 2375: 2374, 2376: 2375, 2377: 2376, 2378: 2377, 2379: 2378, 2380: 2379, 2381: 2380, 2382: 2381, 2383: 2382, 2384: 2383, 2385: 2384, 2386: 2385, 2387: 2386, 2388: 2387, 2389: 2388, 2390: 2389, 2391: 2390, 2392: 2391, 2393: 2392, 2394: 2393, 2395: 2394, 2396: 2395, 2397: 2396, 2398: 2397, 2399: 2398, 2400: 2399, 2401: 2400, 2402: 2401, 2403: 2402, 2404: 2403, 2405: 2404, 2406: 2405, 2407: 2406, 2408: 2407, 2409: 2408, 2410: 2409, 2411: 2410, 2412: 2411, 2413: 2412, 2414: 2413, 2415: 2414, 2416: 2415, 2417: 2416, 2418: 2417, 2419: 2418, 2420: 2419, 2421: 2420, 2422: 2421, 2423: 2422, 2424: 2423, 2425: 2424, 2426: 2425, 2427: 2426, 2428: 2427, 2429: 2428, 2430: 2429, 2431: 2430, 2432: 2431, 2433: 2432, 2434: 2433, 2435: 2434, 2436: 2435, 2437: 2436, 2438: 2437, 2439: 2438, 2440: 2439, 2441: 2440, 2442: 2441, 2443: 2442, 2444: 2443, 2445: 2444, 2446: 2445, 2447: 2446, 2448: 2447, 2449: 2448, 2450: 2449, 2451: 2450, 2452: 2451, 2453: 2452, 2454: 2453, 2455: 2454, 2456: 2455, 2457: 2456, 2458: 2457, 2459: 2458, 2460: 2459, 2461: 2460, 2462: 2461, 2463: 2462, 2464: 2463, 2465: 2464, 2466: 2465, 2467: 2466, 2468: 2467, 2469: 2468, 2470: 2469, 2471: 2470, 2472: 2471, 2473: 2472, 2474: 2473, 2475: 2474, 2476: 2475, 2477: 2476, 2478: 2477, 2479: 2478, 2480: 2479, 2481: 2480, 2482: 2481, 2483: 2482, 2484: 2483, 2485: 2484, 2486: 2485, 2487: 2486, 2488: 2487, 2489: 2488, 2490: 2489, 2491: 2490, 2492: 2491, 2493: 2492, 2494: 2493, 2495: 2494, 2496: 2495, 2497: 2496, 2498: 2497, 2499: 2498, 2500: 2499, 2501: 2500, 2502: 2501, 2503: 2502, 2504: 2503, 2505: 2504, 2506: 2505, 2507: 2506, 2508: 2507, 2509: 2508, 2510: 2509, 2511: 2510, 2512: 2511, 2513: 2512, 2514: 2513, 2515: 2514, 2516: 2515, 2517: 2516, 2518: 2517, 2519: 2518, 2520: 2519, 2521: 2520, 2522: 2521, 2523: 2522, 2524: 2523, 2525: 2524, 2526: 2525, 2527: 2526, 2528: 2527, 2529: 2528, 2530: 2529, 2531: 2530, 2532: 2531, 2533: 2532, 2534: 2533, 2535: 2534, 2536: 2535, 2537: 2536, 2538: 2537, 2539: 2538, 2540: 2539, 2541: 2540, 2542: 2541, 2543: 2542, 2544: 2543, 2545: 2544, 2546: 2545, 2547: 2546, 2548: 2547, 2549: 2548, 2550: 2549, 2551: 2550, 2552: 2551, 2553: 2552, 2554: 2553, 2555: 2554, 2556: 2555, 2557: 2556, 2558: 2557, 2559: 2558, 2560: 2559, 2561: 2560, 2562: 2561, 2563: 2562, 2564: 2563, 2565: 2564, 2566: 2565, 2567: 2566, 2568: 2567, 2569: 2568, 2570: 2569, 2571: 2570, 2572: 2571, 2573: 2572, 2574: 2573, 2575: 2574, 2576: 2575, 2577: 2576, 2578: 2577, 2579: 2578, 2580: 2579, 2581: 2580, 2582: 2581, 2583: 2582, 2584: 2583, 2585: 2584, 2586: 2585, 2587: 2586, 2588: 2587, 2589: 2588, 2590: 2589, 2591: 2590, 2592: 2591, 2593: 2592, 2594: 2593, 2595: 2594, 2596: 2595, 2597: 2596, 2598: 2597, 2599: 2598, 2600: 2599, 2601: 2600, 2602: 2601, 2603: 2602, 2604: 2603, 2605: 2604, 2606: 2605, 2607: 2606, 2608: 2607, 2609: 2608, 2610: 2609, 2611: 2610, 2612: 2611, 2613: 2612, 2614: 2613, 2615: 2614, 2616: 2615, 2617: 2616, 2618: 2617, 2619: 2618, 2620: 2619, 2621: 2620, 2622: 2621, 2623: 2622, 2624: 2623, 2625: 2624, 2626: 2625, 2627: 2626, 2628: 2627, 2629: 2628, 2630: 2629, 2631: 2630, 2632: 2631, 2633: 2632, 2634: 2633, 2635: 2634, 2636: 2635, 2637: 2636, 2638: 2637, 2639: 2638, 2640: 2639, 2641: 2640, 2642: 2641, 2643: 2642, 2644: 2643, 2645: 2644, 2646: 2645, 2647: 2646, 2648: 2647, 2649: 2648, 2650: 2649, 2651: 2650, 2652: 2651, 2653: 2652, 2654: 2653, 2655: 2654, 2656: 2655, 2657: 2656, 2658: 2657, 2659: 2658, 2660: 2659, 2661: 2660, 2662: 2661, 2663: 2662, 2664: 2663, 2665: 2664, 2666: 2665, 2667: 2666, 2668: 2667, 2669: 2668, 2670: 2669, 2671: 2670, 2672: 2671, 2673: 2672, 2674: 2673, 2675: 2674, 2676: 2675, 2677: 2676, 2678: 2677, 2679: 2678, 2680: 2679, 2681: 2680, 2682: 2681, 2683: 2682, 2684: 2683, 2685: 2684, 2686: 2685, 2687: 2686, 2688: 2687, 2689: 2688, 2690: 2689, 2691: 2690, 2692: 2691, 2693: 2692, 2694: 2693, 2695: 2694, 2696: 2695, 2697: 2696, 2698: 2697, 2699: 2698, 2700: 2699, 2701: 2700, 2702: 2701, 2703: 2702, 2704: 2703, 2705: 2704, 2706: 2705, 2707: 2706, 2708: 2707, 2709: 2708, 2710: 2709, 2711: 2710, 2712: 2711, 2713: 2712, 2714: 2713, 2715: 2714, 2716: 2715, 2717: 2716, 2718: 2717, 2719: 2718, 2720: 2719, 2721: 2720, 2722: 2721, 2723: 2722, 2724: 2723, 2725: 2724, 2726: 2725, 2727: 2726, 2728: 2727, 2729: 2728, 2730: 2729, 2731: 2730, 2732: 2731, 2733: 2732, 2734: 2733, 2735: 2734, 2736: 2735, 2737: 2736, 2738: 2737, 2739: 2738, 2740: 2739, 2741: 2740, 2742: 2741, 2743: 2742, 2744: 2743, 2745: 2744, 2746: 2745, 2747: 2746, 2748: 2747, 2749: 2748, 2750: 2749, 2751: 2750, 2752: 2751, 2753: 2752, 2754: 2753, 2755: 2754, 2756: 2755, 2757: 2756, 2758: 2757, 2759: 2758, 2760: 2759, 2761: 2760, 2762: 2761, 2763: 2762, 2764: 2763, 2765: 2764, 2766: 2765, 2767: 2766, 2768: 2767, 2769: 2768, 2770: 2769, 2771: 2770, 2772: 2771, 2773: 2772, 2774: 2773, 2775: 2774, 2776: 2775, 2777: 2776, 2778: 2777, 2779: 2778, 2780: 2779, 2781: 2780, 2782: 2781, 2783: 2782, 2784: 2783, 2785: 2784, 2786: 2785, 2787: 2786, 2788: 2787, 2789: 2788, 2790: 2789, 2791: 2790, 2792: 2791, 2793: 2792, 2794: 2793, 2795: 2794, 2796: 2795, 2797: 2796, 2798: 2797, 2799: 2798, 2800: 2799, 2801: 2800, 2802: 2801, 2803: 2802, 2804: 2803, 2805: 2804, 2806: 2805, 2807: 2806, 2808: 2807, 2809: 2808, 2810: 2809, 2811: 2810, 2812: 2811, 2813: 2812, 2814: 2813, 2815: 2814, 2816: 2815, 2817: 2816, 2818: 2817, 2819: 2818, 2820: 2819, 2821: 2820, 2822: 2821, 2823: 2822, 2824: 2823, 2825: 2824, 2826: 2825, 2827: 2826, 2828: 2827, 2829: 2828, 2830: 2829, 2831: 2830, 2832: 2831, 2833: 2832, 2834: 2833, 2835: 2834, 2836: 2835, 2837: 2836, 2838: 2837, 2839: 2838, 2840: 2839, 2841: 2840, 2842: 2841, 2843: 2842, 2844: 2843, 2845: 2844, 2846: 2845, 2847: 2846, 2848: 2847, 2849: 2848, 2850: 2849, 2851: 2850, 2852: 2851, 2853: 2852, 2854: 2853, 2855: 2854, 2856: 2855, 2857: 2856, 2858: 2857, 2859: 2858, 2860: 2859, 2861: 2860, 2862: 2861, 2863: 2862, 2864: 2863, 2865: 2864, 2866: 2865, 2867: 2866, 2868: 2867, 2869: 2868, 2870: 2869, 2871: 2870, 2872: 2871, 2873: 2872, 2874: 2873, 2875: 2874, 2876: 2875, 2877: 2876, 2878: 2877, 2879: 2878, 2880: 2879, 2881: 2880, 2882: 2881, 2883: 2882, 2884: 2883, 2885: 2884, 2886: 2885, 2887: 2886, 2888: 2887, 2889: 2888, 2890: 2889, 2891: 2890, 2892: 2891, 2893: 2892, 2894: 2893, 2895: 2894, 2896: 2895, 2897: 2896, 2898: 2897, 2899: 2898, 2900: 2899, 2901: 2900, 2902: 2901, 2903: 2902, 2904: 2903, 2905: 2904, 2906: 2905, 2907: 2906, 2908: 2907, 2909: 2908, 2910: 2909, 2911: 2910, 2912: 2911, 2913: 2912, 2914: 2913, 2915: 2914, 2916: 2915, 2917: 2916, 2918: 2917, 2919: 2918, 2920: 2919, 2921: 2920, 2922: 2921, 2923: 2922, 2924: 2923, 2925: 2924, 2926: 2925, 2927: 2926, 2928: 2927, 2929: 2928, 2930: 2929, 2931: 2930, 2932: 2931, 2933: 2932, 2934: 2933, 2935: 2934, 2936: 2935, 2937: 2936, 2938: 2937, 2939: 2938, 2940: 2939, 2941: 2940, 2942: 2941, 2943: 2942, 2944: 2943, 2945: 2944, 2946: 2945, 2947: 2946, 2948: 2947, 2949: 2948, 2950: 2949, 2951: 2950, 2952: 2951, 2953: 2952, 2954: 2953, 2955: 2954, 2956: 2955, 2957: 2956, 2958: 2957, 2959: 2958, 2960: 2959, 2961: 2960, 2962: 2961, 2963: 2962, 2964: 2963, 2965: 2964, 2966: 2965, 2967: 2966, 2968: 2967, 2969: 2968, 2970: 2969, 2971: 2970, 2972: 2971, 2973: 2972, 2974: 2973, 2975: 2974, 2976: 2975, 2977: 2976, 2978: 2977, 2979: 2978, 2980: 2979, 2981: 2980, 2982: 2981, 2983: 2982, 2984: 2983, 2985: 2984, 2986: 2985, 2987: 2986, 2988: 2987, 2989: 2988, 2990: 2989, 2991: 2990, 2992: 2991, 2993: 2992, 2994: 2993, 2995: 2994, 2996: 2995, 2997: 2996, 2998: 2997, 2999: 2998, 3000: 2999, 3001: 3000, 3002: 3001, 3003: 3002, 3004: 3003, 3005: 3004, 3006: 3005, 3007: 3006, 3008: 3007, 3009: 3008, 3010: 3009, 3011: 3010, 3012: 3011, 3013: 3012, 3014: 3013, 3015: 3014, 3016: 3015, 3017: 3016, 3018: 3017, 3019: 3018, 3020: 3019, 3021: 3020, 3022: 3021, 3023: 3022, 3024: 3023, 3025: 3024, 3026: 3025, 3027: 3026, 3028: 3027, 3029: 3028, 3030: 3029, 3031: 3030, 3032: 3031, 3033: 3032, 3034: 3033, 3035: 3034, 3036: 3035, 3037: 3036, 3038: 3037, 3039: 3038, 3040: 3039, 3041: 3040, 3042: 3041, 3043: 3042, 3044: 3043, 3045: 3044, 3046: 3045, 3047: 3046, 3048: 3047, 3049: 3048, 3050: 3049, 3051: 3050, 3052: 3051, 3053: 3052, 3054: 3053, 3055: 3054, 3056: 3055, 3057: 3056, 3058: 3057, 3059: 3058, 3060: 3059, 3061: 3060, 3062: 3061, 3063: 3062, 3064: 3063, 3065: 3064, 3066: 3065, 3067: 3066, 3068: 3067, 3069: 3068, 3070: 3069, 3071: 3070, 3072: 3071, 3073: 3072, 3074: 3073, 3075: 3074, 3076: 3075, 3077: 3076, 3078: 3077, 3079: 3078, 3080: 3079, 3081: 3080, 3082: 3081, 3083: 3082, 3084: 3083, 3085: 3084, 3086: 3085, 3087: 3086, 3088: 3087, 3089: 3088, 3090: 3089, 3091: 3090, 3092: 3091, 3093: 3092, 3094: 3093, 3095: 3094, 3096: 3095, 3097: 3096, 3098: 3097, 3099: 3098, 3100: 3099, 3101: 3100, 3102: 3101, 3103: 3102, 3104: 3103, 3105: 3104, 3106: 3105, 3107: 3106, 3108: 3107, 3109: 3108, 3110: 3109, 3111: 3110, 3112: 3111, 3113: 3112, 3114: 3113, 3115: 3114, 3116: 3115, 3117: 3116, 3118: 3117, 3119: 3118, 3120: 3119, 3121: 3120, 3122: 3121, 3123: 3122, 3124: 3123, 3125: 3124, 3126: 3125, 3127: 3126, 3128: 3127, 3129: 3128, 3130: 3129, 3131: 3130, 3132: 3131, 3133: 3132, 3134: 3133, 3135: 3134, 3136: 3135, 3137: 3136, 3138: 3137, 3139: 3138, 3140: 3139, 3141: 3140, 3142: 3141, 3143: 3142, 3144: 3143, 3145: 3144, 3146: 3145, 3147: 3146, 3148: 3147, 3149: 3148, 3150: 3149, 3151: 3150, 3152: 3151, 3153: 3152, 3154: 3153, 3155: 3154, 3156: 3155, 3157: 3156, 3158: 3157, 3159: 3158, 3160: 3159, 3161: 3160, 3162: 3161, 3163: 3162, 3164: 3163, 3165: 3164, 3166: 3165, 3167: 3166, 3168: 3167, 3169: 3168, 3170: 3169, 3171: 3170, 3172: 3171, 3173: 3172, 3174: 3173, 3175: 3174, 3176: 3175, 3177: 3176, 3178: 3177, 3179: 3178, 3180: 3179, 3181: 3180, 3182: 3181, 3183: 3182, 3184: 3183, 3185: 3184, 3186: 3185, 3187: 3186, 3188: 3187, 3189: 3188, 3190: 3189, 3191: 3190, 3192: 3191, 3193: 3192, 3194: 3193, 3195: 3194, 3196: 3195, 3197: 3196, 3198: 3197, 3199: 3198, 3200: 3199, 3201: 3200, 3202: 3201, 3203: 3202, 3204: 3203, 3205: 3204, 3206: 3205, 3207: 3206, 3208: 3207, 3209: 3208, 3210: 3209, 3211: 3210, 3212: 3211, 3213: 3212, 3214: 3213, 3215: 3214, 3216: 3215, 3217: 3216, 3218: 3217, 3219: 3218, 3220: 3219, 3221: 3220, 3222: 3221, 3223: 3222, 3224: 3223, 3225: 3224, 3226: 3225, 3227: 3226, 3228: 3227, 3229: 3228, 3230: 3229, 3231: 3230, 3232: 3231, 3233: 3232, 3234: 3233, 3235: 3234, 3236: 3235, 3237: 3236, 3238: 3237, 3239: 3238, 3240: 3239, 3241: 3240, 3242: 3241, 3243: 3242, 3244: 3243, 3245: 3244, 3246: 3245, 3247: 3246, 3248: 3247, 3249: 3248, 3250: 3249, 3251: 3250, 3252: 3251, 3253: 3252, 3254: 3253, 3255: 3254, 3256: 3255, 3257: 3256, 3258: 3257, 3259: 3258, 3260: 3259, 3261: 3260, 3262: 3261, 3263: 3262, 3264: 3263, 3265: 3264, 3266: 3265, 3267: 3266, 3268: 3267, 3269: 3268, 3270: 3269, 3271: 3270, 3272: 3271, 3273: 3272, 3274: 3273, 3275: 3274, 3276: 3275, 3277: 3276, 3278: 3277, 3279: 3278, 3280: 3279, 3281: 3280, 3282: 3281, 3283: 3282, 3284: 3283, 3285: 3284, 3286: 3285, 3287: 3286, 3288: 3287, 3289: 3288, 3290: 3289, 3291: 3290, 3292: 3291, 3293: 3292, 3294: 3293, 3295: 3294, 3296: 3295, 3297: 3296, 3298: 3297, 3299: 3298, 3300: 3299, 3301: 3300, 3302: 3301, 3303: 3302, 3304: 3303, 3305: 3304, 3306: 3305, 3307: 3306, 3308: 3307, 3309: 3308, 3310: 3309, 3311: 3310, 3312: 3311, 3313: 3312, 3314: 3313, 3315: 3314, 3316: 3315, 3317: 3316, 3318: 3317, 3319: 3318, 3320: 3319, 3321: 3320, 3322: 3321, 3323: 3322, 3324: 3323, 3325: 3324, 3326: 3325, 3327: 3326, 3328: 3327, 3329: 3328, 3330: 3329, 3331: 3330, 3332: 3331, 3333: 3332, 3334: 3333, 3335: 3334, 3336: 3335, 3337: 3336, 3338: 3337, 3339: 3338, 3340: 3339, 3341: 3340, 3342: 3341, 3343: 3342, 3344: 3343, 3345: 3344, 3346: 3345, 3347: 3346, 3348: 3347, 3349: 3348, 3350: 3349, 3351: 3350, 3352: 3351, 3353: 3352, 3354: 3353, 3355: 3354, 3356: 3355, 3357: 3356, 3358: 3357, 3359: 3358, 3360: 3359, 3361: 3360, 3362: 3361, 3363: 3362, 3364: 3363, 3365: 3364, 3366: 3365, 3367: 3366, 3368: 3367, 3369: 3368, 3370: 3369, 3371: 3370, 3372: 3371, 3373: 3372, 3374: 3373, 3375: 3374, 3376: 3375, 3377: 3376, 3378: 3377, 3379: 3378, 3380: 3379, 3381: 3380, 3382: 3381, 3383: 3382, 3384: 3383, 3385: 3384, 3386: 3385, 3387: 3386, 3388: 3387, 3389: 3388, 3390: 3389, 3391: 3390, 3392: 3391, 3393: 3392, 3394: 3393, 3395: 3394, 3396: 3395, 3397: 3396, 3398: 3397, 3399: 3398, 3400: 3399, 3401: 3400, 3402: 3401, 3403: 3402, 3404: 3403, 3405: 3404, 3406: 3405, 3407: 3406, 3408: 3407, 3409: 3408, 3410: 3409, 3411: 3410, 3412: 3411, 3413: 3412, 3414: 3413, 3415: 3414, 3416: 3415, 3417: 3416, 3418: 3417, 3419: 3418, 3420: 3419, 3421: 3420, 3422: 3421, 3423: 3422, 3424: 3423, 3425: 3424, 3426: 3425, 3427: 3426, 3428: 3427, 3429: 3428, 3430: 3429, 3431: 3430, 3432: 3431, 3433: 3432, 3434: 3433, 3435: 3434, 3436: 3435, 3437: 3436, 3438: 3437, 3439: 3438, 3440: 3439, 3441: 3440, 3442: 3441, 3443: 3442, 3444: 3443, 3445: 3444, 3446: 3445, 3447: 3446, 3448: 3447, 3449: 3448, 3450: 3449, 3451: 3450, 3452: 3451, 3453: 3452, 3454: 3453, 3455: 3454, 3456: 3455, 3457: 3456, 3458: 3457, 3459: 3458, 3460: 3459, 3461: 3460, 3462: 3461, 3463: 3462, 3464: 3463, 3465: 3464, 3466: 3465, 3467: 3466, 3468: 3467, 3469: 3468, 3470: 3469, 3471: 3470, 3472: 3471, 3473: 3472, 3474: 3473, 3475: 3474, 3476: 3475, 3477: 3476, 3478: 3477, 3479: 3478, 3480: 3479, 3481: 3480, 3482: 3481, 3483: 3482, 3484: 3483, 3485: 3484, 3486: 3485, 3487: 3486, 3488: 3487, 3489: 3488, 3490: 3489, 3491: 3490, 3492: 3491, 3493: 3492, 3494: 3493, 3495: 3494, 3496: 3495, 3497: 3496, 3498: 3497, 3499: 3498, 3500: 3499, 3501: 3500, 3502: 3501, 3503: 3502, 3504: 3503, 3505: 3504, 3506: 3505, 3507: 3506, 3508: 3507, 3509: 3508, 3510: 3509, 3511: 3510, 3512: 3511, 3513: 3512, 3514: 3513, 3515: 3514, 3516: 3515, 3517: 3516, 3518: 3517, 3519: 3518, 3520: 3519, 3521: 3520, 3522: 3521, 3523: 3522, 3524: 3523, 3525: 3524, 3526: 3525, 3527: 3526, 3528: 3527, 3529: 3528, 3530: 3529, 3531: 3530, 3532: 3531, 3533: 3532, 3534: 3533, 3535: 3534, 3536: 3535, 3537: 3536, 3538: 3537, 3539: 3538, 3540: 3539, 3541: 3540, 3542: 3541, 3543: 3542, 3544: 3543, 3545: 3544, 3546: 3545, 3547: 3546, 3548: 3547, 3549: 3548, 3550: 3549, 3551: 3550, 3552: 3551, 3553: 3552, 3554: 3553, 3555: 3554, 3556: 3555, 3557: 3556, 3558: 3557, 3559: 3558, 3560: 3559, 3561: 3560, 3562: 3561, 3563: 3562, 3564: 3563, 3565: 3564, 3566: 3565, 3567: 3566, 3568: 3567, 3569: 3568, 3570: 3569, 3571: 3570, 3572: 3571, 3573: 3572, 3574: 3573, 3575: 3574, 3576: 3575, 3577: 3576, 3578: 3577, 3579: 3578, 3580: 3579, 3581: 3580, 3582: 3581, 3583: 3582, 3584: 3583, 3585: 3584, 3586: 3585, 3587: 3586, 3588: 3587, 3589: 3588, 3590: 3589, 3591: 3590, 3592: 3591, 3593: 3592, 3594: 3593, 3595: 3594, 3596: 3595, 3597: 3596, 3598: 3597, 3599: 3598, 3600: 3599, 3601: 3600, 3602: 3601, 3603: 3602, 3604: 3603, 3605: 3604, 3606: 3605, 3607: 3606, 3608: 3607, 3609: 3608, 3610: 3609, 3611: 3610, 3612: 3611, 3613: 3612, 3614: 3613, 3615: 3614, 3616: 3615, 3617: 3616, 3618: 3617, 3619: 3618, 3620: 3619, 3621: 3620, 3622: 3621, 3623: 3622, 3624: 3623, 3625: 3624, 3626: 3625, 3627: 3626, 3628: 3627, 3629: 3628, 3630: 3629, 3631: 3630, 3632: 3631, 3633: 3632, 3634: 3633, 3635: 3634, 3636: 3635, 3637: 3636, 3638: 3637, 3639: 3638, 3640: 3639, 3641: 3640, 3642: 3641, 3643: 3642, 3644: 3643, 3645: 3644, 3646: 3645, 3647: 3646, 3648: 3647, 3649: 3648, 3650: 3649, 3651: 3650, 3652: 3651, 3653: 3652, 3654: 3653, 3655: 3654, 3656: 3655, 3657: 3656, 3658: 3657, 3659: 3658, 3660: 3659, 3661: 3660, 3662: 3661, 3663: 3662, 3664: 3663, 3665: 3664, 3666: 3665, 3667: 3666, 3668: 3667, 3669: 3668, 3670: 3669, 3671: 3670, 3672: 3671, 3673: 3672, 3674: 3673, 3675: 3674, 3676: 3675, 3677: 3676, 3678: 3677, 3679: 3678, 3680: 3679, 3681: 3680, 3682: 3681, 3683: 3682, 3684: 3683, 3685: 3684, 3686: 3685, 3687: 3686, 3688: 3687, 3689: 3688, 3690: 3689, 3691: 3690, 3692: 3691, 3693: 3692, 3694: 3693, 3695: 3694, 3696: 3695, 3697: 3696, 3698: 3697, 3699: 3698, 3700: 3699, 3701: 3700, 3702: 3701, 3703: 3702, 3704: 3703, 3705: 3704, 3706: 3705, 3707: 3706, 3708: 3707, 3709: 3708, 3710: 3709, 3711: 3710, 3712: 3711, 3713: 3712, 3714: 3713, 3715: 3714, 3716: 3715, 3717: 3716, 3718: 3717, 3719: 3718, 3720: 3719, 3721: 3720, 3722: 3721, 3723: 3722, 3724: 3723, 3725: 3724, 3726: 3725, 3727: 3726, 3728: 3727, 3729: 3728, 3730: 3729, 3731: 3730, 3732: 3731, 3733: 3732, 3734: 3733, 3735: 3734, 3736: 3735, 3737: 3736, 3738: 3737, 3739: 3738, 3740: 3739, 3741: 3740, 3742: 3741, 3743: 3742, 3744: 3743, 3745: 3744, 3746: 3745, 3747: 3746, 3748: 3747, 3749: 3748, 3750: 3749, 3751: 3750, 3752: 3751, 3753: 3752, 3754: 3753, 3755: 3754, 3756: 3755, 3757: 3756, 3758: 3757, 3759: 3758, 3760: 3759, 3761: 3760, 3762: 3761, 3763: 3762, 3764: 3763, 3765: 3764, 3766: 3765, 3767: 3766, 3768: 3767, 3769: 3768, 3770: 3769, 3771: 3770, 3772: 3771, 3773: 3772, 3774: 3773, 3775: 3774, 3776: 3775, 3777: 3776, 3778: 3777, 3779: 3778, 3780: 3779, 3781: 3780, 3782: 3781, 3783: 3782, 3784: 3783, 3785: 3784, 3786: 3785, 3787: 3786, 3788: 3787, 3789: 3788, 3790: 3789, 3791: 3790, 3792: 3791, 3793: 3792, 3794: 3793, 3795: 3794, 3796: 3795, 3797: 3796, 3798: 3797, 3799: 3798, 3800: 3799, 3801: 3800, 3802: 3801, 3803: 3802, 3804: 3803, 3805: 3804, 3806: 3805, 3807: 3806, 3808: 3807, 3809: 3808, 3810: 3809, 3811: 3810, 3812: 3811, 3813: 3812, 3814: 3813, 3815: 3814, 3816: 3815, 3817: 3816, 3818: 3817, 3819: 3818, 3820: 3819, 3821: 3820, 3822: 3821, 3823: 3822, 3824: 3823, 3825: 3824, 3826: 3825, 3827: 3826, 3828: 3827, 3829: 3828, 3830: 3829, 3831: 3830, 3832: 3831, 3833: 3832, 3834: 3833, 3835: 3834, 3836: 3835, 3837: 3836, 3838: 3837, 3839: 3838, 3840: 3839, 3841: 3840, 3842: 3841, 3843: 3842, 3844: 3843, 3845: 3844, 3846: 3845, 3847: 3846, 3848: 3847, 3849: 3848, 3850: 3849, 3851: 3850, 3852: 3851, 3853: 3852, 3854: 3853, 3855: 3854, 3856: 3855, 3857: 3856, 3858: 3857, 3859: 3858, 3860: 3859, 3861: 3860, 3862: 3861, 3863: 3862, 3864: 3863, 3865: 3864, 3866: 3865, 3867: 3866, 3868: 3867, 3869: 3868, 3870: 3869, 3871: 3870, 3872: 3871, 3873: 3872, 3874: 3873, 3875: 3874, 3876: 3875, 3877: 3876, 3878: 3877, 3879: 3878, 3880: 3879, 3881: 3880, 3882: 3881, 3883: 3882, 3884: 3883, 3885: 3884, 3886: 3885, 3887: 3886, 3888: 3887, 3889: 3888, 3890: 3889, 3891: 3890, 3892: 3891, 3893: 3892, 3894: 3893, 3895: 3894, 3896: 3895, 3897: 3896, 3898: 3897, 3899: 3898, 3900: 3899, 3901: 3900, 3902: 3901, 3903: 3902, 3904: 3903, 3905: 3904, 3906: 3905, 3907: 3906, 3908: 3907, 3909: 3908, 3910: 3909, 3911: 3910, 3912: 3911, 3913: 3912, 3914: 3913, 3915: 3914, 3916: 3915, 3917: 3916, 3918: 3917, 3919: 3918, 3920: 3919, 3921: 3920, 3922: 3921, 3923: 3922, 3924: 3923, 3925: 3924, 3926: 3925, 3927: 3926, 3928: 3927, 3929: 3928, 3930: 3929, 3931: 3930, 3932: 3931, 3933: 3932, 3934: 3933, 3935: 3934, 3936: 3935, 3937: 3936, 3938: 3937, 3939: 3938, 3940: 3939, 3941: 3940, 3942: 3941, 3943: 3942, 3944: 3943, 3945: 3944, 3946: 3945, 3947: 3946, 3948: 3947, 3949: 3948, 3950: 3949, 3951: 3950, 3952: 3951, 3953: 3952, 3954: 3953, 3955: 3954, 3956: 3955, 3957: 3956, 3958: 3957, 3959: 3958, 3960: 3959, 3961: 3960, 3962: 3961, 3963: 3962, 3964: 3963, 3965: 3964, 3966: 3965, 3967: 3966, 3968: 3967, 3969: 3968, 3970: 3969, 3971: 3970, 3972: 3971, 3973: 3972, 3974: 3973, 3975: 3974, 3976: 3975, 3977: 3976, 3978: 3977, 3979: 3978, 3980: 3979, 3981: 3980, 3982: 3981, 3983: 3982, 3984: 3983, 3985: 3984, 3986: 3985, 3987: 3986, 3988: 3987, 3989: 3988, 3990: 3989, 3991: 3990, 3992: 3991, 3993: 3992, 3994: 3993, 3995: 3994, 3996: 3995, 3997: 3996, 3998: 3997, 3999: 3998, 4000: 3999, 4001: 4000, 4002: 4001, 4003: 4002, 4004: 4003, 4005: 4004, 4006: 4005, 4007: 4006, 4008: 4007, 4009: 4008, 4010: 4009, 4011: 4010, 4012: 4011, 4013: 4012, 4014: 4013, 4015: 4014, 4016: 4015, 4017: 4016, 4018: 4017, 4019: 4018, 4020: 4019, 4021: 4020, 4022: 4021, 4023: 4022, 4024: 4023, 4025: 4024, 4026: 4025, 4027: 4026, 4028: 4027, 4029: 4028, 4030: 4029, 4031: 4030, 4032: 4031, 4033: 4032, 4034: 4033, 4035: 4034, 4036: 4035, 4037: 4036, 4038: 4037, 4039: 4038, 4040: 4039, 4041: 4040, 4042: 4041, 4043: 4042, 4044: 4043, 4045: 4044, 4046: 4045, 4047: 4046, 4048: 4047, 4049: 4048, 4050: 4049, 4051: 4050, 4052: 4051, 4053: 4052, 4054: 4053, 4055: 4054, 4056: 4055, 4057: 4056, 4058: 4057, 4059: 4058, 4060: 4059, 4061: 4060, 4062: 4061, 4063: 4062, 4064: 4063, 4065: 4064, 4066: 4065, 4067: 4066, 4068: 4067, 4069: 4068, 4070: 4069, 4071: 4070, 4072: 4071, 4073: 4072, 4074: 4073, 4075: 4074, 4076: 4075, 4077: 4076, 4078: 4077, 4079: 4078, 4080: 4079, 4081: 4080, 4082: 4081, 4083: 4082, 4084: 4083, 4085: 4084, 4086: 4085, 4087: 4086, 4088: 4087, 4089: 4088, 4090: 4089, 4091: 4090, 4092: 4091, 4093: 4092, 4094: 4093, 4095: 4094, 4096: 4095, 4097: 4096, 4098: 4097, 4099: 4098, 4100: 4099, 4101: 4100, 4102: 4101, 4103: 4102, 4104: 4103, 4105: 4104, 4106: 4105, 4107: 4106, 4108: 4107, 4109: 4108, 4110: 4109, 4111: 4110, 4112: 4111, 4113: 4112, 4114: 4113, 4115: 4114, 4116: 4115, 4117: 4116, 4118: 4117, 4119: 4118, 4120: 4119, 4121: 4120, 4122: 4121, 4123: 4122, 4124: 4123, 4125: 4124, 4126: 4125, 4127: 4126, 4128: 4127, 4129: 4128, 4130: 4129, 4131: 4130, 4132: 4131, 4133: 4132, 4134: 4133, 4135: 4134, 4136: 4135, 4137: 4136, 4138: 4137, 4139: 4138, 4140: 4139, 4141: 4140, 4142: 4141, 4143: 4142, 4144: 4143, 4145: 4144, 4146: 4145, 4147: 4146, 4148: 4147, 4149: 4148, 4150: 4149, 4151: 4150, 4152: 4151, 4153: 4152, 4154: 4153, 4155: 4154, 4156: 4155, 4157: 4156, 4158: 4157, 4159: 4158, 4160: 4159, 4161: 4160, 4162: 4161, 4163: 4162, 4164: 4163, 4165: 4164, 4166: 4165, 4167: 4166, 4168: 4167, 4169: 4168, 4170: 4169, 4171: 4170, 4172: 4171, 4173: 4172, 4174: 4173, 4175: 4174, 4176: 4175, 4177: 4176, 4178: 4177, 4179: 4178, 4180: 4179, 4181: 4180, 4182: 4181, 4183: 4182, 4184: 4183, 4185: 4184, 4186: 4185, 4187: 4186, 4188: 4187, 4189: 4188, 4190: 4189, 4191: 4190, 4192: 4191, 4193: 4192, 4194: 4193, 4195: 4194, 4196: 4195, 4197: 4196, 4198: 4197, 4199: 4198, 4200: 4199, 4201: 4200, 4202: 4201, 4203: 4202, 4204: 4203, 4205: 4204, 4206: 4205, 4207: 4206, 4208: 4207, 4209: 4208, 4210: 4209, 4211: 4210, 4212: 4211, 4213: 4212, 4214: 4213, 4215: 4214, 4216: 4215, 4217: 4216, 4218: 4217, 4219: 4218, 4220: 4219, 4221: 4220, 4222: 4221, 4223: 4222, 4224: 4223, 4225: 4224, 4226: 4225, 4227: 4226, 4228: 4227, 4229: 4228, 4230: 4229, 4231: 4230, 4232: 4231, 4233: 4232, 4234: 4233, 4235: 4234, 4236: 4235, 4237: 4236, 4238: 4237, 4239: 4238, 4240: 4239, 4241: 4240, 4242: 4241, 4243: 4242, 4244: 4243, 4245: 4244, 4246: 4245, 4247: 4246, 4248: 4247, 4249: 4248, 4250: 4249, 4251: 4250, 4252: 4251, 4253: 4252, 4254: 4253, 4255: 4254, 4256: 4255, 4257: 4256, 4258: 4257, 4259: 4258, 4260: 4259, 4261: 4260, 4262: 4261, 4263: 4262, 4264: 4263, 4265: 4264, 4266: 4265, 4267: 4266, 4268: 4267, 4269: 4268, 4270: 4269, 4271: 4270, 4272: 4271, 4273: 4272, 4274: 4273, 4275: 4274, 4276: 4275, 4277: 4276, 4278: 4277, 4279: 4278, 4280: 4279, 4281: 4280, 4282: 4281, 4283: 4282, 4284: 4283, 4285: 4284, 4286: 4285, 4287: 4286, 4288: 4287, 4289: 4288, 4290: 4289, 4291: 4290, 4292: 4291, 4293: 4292, 4294: 4293, 4295: 4294, 4296: 4295, 4297: 4296, 4298: 4297, 4299: 4298, 4300: 4299, 4301: 4300, 4302: 4301, 4303: 4302, 4304: 4303, 4305: 4304, 4306: 4305, 4307: 4306, 4308: 4307, 4309: 4308, 4310: 4309, 4311: 4310, 4312: 4311, 4313: 4312, 4314: 4313, 4315: 4314, 4316: 4315, 4317: 4316, 4318: 4317, 4319: 4318, 4320: 4319, 4321: 4320, 4322: 4321, 4323: 4322, 4324: 4323, 4325: 4324, 4326: 4325, 4327: 4326, 4328: 4327, 4329: 4328, 4330: 4329, 4331: 4330, 4332: 4331, 4333: 4332, 4334: 4333, 4335: 4334, 4336: 4335, 4337: 4336, 4338: 4337, 4339: 4338, 4340: 4339, 4341: 4340, 4342: 4341, 4343: 4342, 4344: 4343, 4345: 4344, 4346: 4345, 4347: 4346, 4348: 4347, 4349: 4348, 4350: 4349, 4351: 4350, 4352: 4351, 4353: 4352, 4354: 4353, 4355: 4354, 4356: 4355, 4357: 4356, 4358: 4357, 4359: 4358, 4360: 4359, 4361: 4360, 4362: 4361, 4363: 4362, 4364: 4363, 4365: 4364, 4366: 4365, 4367: 4366, 4368: 4367, 4369: 4368, 4370: 4369, 4371: 4370, 4372: 4371, 4373: 4372, 4374: 4373, 4375: 4374, 4376: 4375, 4377: 4376, 4378: 4377, 4379: 4378, 4380: 4379, 4381: 4380, 4382: 4381, 4383: 4382, 4384: 4383, 4385: 4384, 4386: 4385, 4387: 4386, 4388: 4387, 4389: 4388, 4390: 4389, 4391: 4390, 4392: 4391, 4393: 4392, 4394: 4393, 4395: 4394, 4396: 4395, 4397: 4396, 4398: 4397, 4399: 4398, 4400: 4399, 4401: 4400, 4402: 4401, 4403: 4402, 4404: 4403, 4405: 4404, 4406: 4405, 4407: 4406, 4408: 4407, 4409: 4408, 4410: 4409, 4411: 4410, 4412: 4411, 4413: 4412, 4414: 4413, 4415: 4414, 4416: 4415, 4417: 4416, 4418: 4417, 4419: 4418, 4420: 4419, 4421: 4420, 4422: 4421, 4423: 4422, 4424: 4423, 4425: 4424, 4426: 4425, 4427: 4426, 4428: 4427, 4429: 4428, 4430: 4429, 4431: 4430, 4432: 4431, 4433: 4432, 4434: 4433, 4435: 4434, 4436: 4435, 4437: 4436, 4438: 4437, 4439: 4438, 4440: 4439, 4441: 4440, 4442: 4441, 4443: 4442, 4444: 4443, 4445: 4444, 4446: 4445, 4447: 4446, 4448: 4447, 4449: 4448, 4450: 4449, 4451: 4450, 4452: 4451, 4453: 4452, 4454: 4453, 4455: 4454, 4456: 4455, 4457: 4456, 4458: 4457, 4459: 4458, 4460: 4459, 4461: 4460, 4462: 4461, 4463: 4462, 4464: 4463, 4465: 4464, 4466: 4465, 4467: 4466, 4468: 4467, 4469: 4468, 4470: 4469, 4471: 4470, 4472: 4471, 4473: 4472, 4474: 4473, 4475: 4474, 4476: 4475, 4477: 4476, 4478: 4477, 4479: 4478, 4480: 4479, 4481: 4480, 4482: 4481, 4483: 4482, 4484: 4483, 4485: 4484, 4486: 4485, 4487: 4486, 4488: 4487, 4489: 4488, 4490: 4489, 4491: 4490, 4492: 4491, 4493: 4492, 4494: 4493, 4495: 4494, 4496: 4495, 4497: 4496, 4498: 4497, 4499: 4498, 4500: 4499, 4501: 4500, 4502: 4501, 4503: 4502, 4504: 4503, 4505: 4504, 4506: 4505, 4507: 4506, 4508: 4507, 4509: 4508, 4510: 4509, 4511: 4510, 4512: 4511, 4513: 4512, 4514: 4513, 4515: 4514, 4516: 4515, 4517: 4516, 4518: 4517, 4519: 4518, 4520: 4519, 4521: 4520, 4522: 4521, 4523: 4522, 4524: 4523, 4525: 4524, 4526: 4525, 4527: 4526, 4528: 4527, 4529: 4528, 4530: 4529, 4531: 4530, 4532: 4531, 4533: 4532, 4534: 4533, 4535: 4534, 4536: 4535, 4537: 4536, 4538: 4537, 4539: 4538, 4540: 4539, 4541: 4540, 4542: 4541, 4543: 4542, 4544: 4543, 4545: 4544, 4546: 4545, 4547: 4546, 4548: 4547, 4549: 4548, 4550: 4549, 4551: 4550, 4552: 4551, 4553: 4552, 4554: 4553, 4555: 4554, 4556: 4555, 4557: 4556, 4558: 4557, 4559: 4558, 4560: 4559, 4561: 4560, 4562: 4561, 4563: 4562, 4564: 4563, 4565: 4564, 4566: 4565, 4567: 4566, 4568: 4567, 4569: 4568, 4570: 4569, 4571: 4570, 4572: 4571, 4573: 4572, 4574: 4573, 4575: 4574, 4576: 4575, 4577: 4576, 4578: 4577, 4579: 4578, 4580: 4579, 4581: 4580, 4582: 4581, 4583: 4582, 4584: 4583, 4585: 4584, 4586: 4585, 4587: 4586, 4588: 4587, 4589: 4588, 4590: 4589, 4591: 4590, 4592: 4591, 4593: 4592, 4594: 4593, 4595: 4594, 4596: 4595, 4597: 4596, 4598: 4597, 4599: 4598, 4600: 4599, 4601: 4600, 4602: 4601, 4603: 4602, 4604: 4603, 4605: 4604, 4606: 4605, 4607: 4606, 4608: 4607, 4609: 4608, 4610: 4609, 4611: 4610, 4612: 4611, 4613: 4612, 4614: 4613, 4615: 4614, 4616: 4615, 4617: 4616, 4618: 4617, 4619: 4618, 4620: 4619, 4621: 4620, 4622: 4621, 4623: 4622, 4624: 4623, 4625: 4624, 4626: 4625, 4627: 4626, 4628: 4627, 4629: 4628, 4630: 4629, 4631: 4630, 4632: 4631, 4633: 4632, 4634: 4633, 4635: 4634, 4636: 4635, 4637: 4636, 4638: 4637, 4639: 4638, 4640: 4639, 4641: 4640, 4642: 4641, 4643: 4642, 4644: 4643, 4645: 4644, 4646: 4645, 4647: 4646, 4648: 4647, 4649: 4648, 4650: 4649, 4651: 4650, 4652: 4651, 4653: 4652, 4654: 4653, 4655: 4654, 4656: 4655, 4657: 4656, 4658: 4657, 4659: 4658, 4660: 4659, 4661: 4660, 4662: 4661, 4663: 4662, 4664: 4663, 4665: 4664, 4666: 4665, 4667: 4666, 4668: 4667, 4669: 4668, 4670: 4669, 4671: 4670, 4672: 4671, 4673: 4672, 4674: 4673, 4675: 4674, 4676: 4675, 4677: 4676, 4678: 4677, 4679: 4678, 4680: 4679, 4681: 4680, 4682: 4681, 4683: 4682, 4684: 4683, 4685: 4684, 4686: 4685, 4687: 4686, 4688: 4687, 4689: 4688, 4690: 4689, 4691: 4690, 4692: 4691, 4693: 4692, 4694: 4693, 4695: 4694, 4696: 4695, 4697: 4696, 4698: 4697, 4699: 4698, 4700: 4699, 4701: 4700, 4702: 4701, 4703: 4702, 4704: 4703, 4705: 4704, 4706: 4705, 4707: 4706, 4708: 4707, 4709: 4708, 4710: 4709, 4711: 4710, 4712: 4711, 4713: 4712, 4714: 4713, 4715: 4714, 4716: 4715, 4717: 4716, 4718: 4717, 4719: 4718, 4720: 4719, 4721: 4720, 4722: 4721, 4723: 4722, 4724: 4723, 4725: 4724, 4726: 4725, 4727: 4726, 4728: 4727, 4729: 4728, 4730: 4729, 4731: 4730, 4732: 4731, 4733: 4732, 4734: 4733, 4735: 4734, 4736: 4735, 4737: 4736, 4738: 4737, 4739: 4738, 4740: 4739, 4741: 4740, 4742: 4741, 4743: 4742, 4744: 4743, 4745: 4744, 4746: 4745, 4747: 4746, 4748: 4747, 4749: 4748, 4750: 4749, 4751: 4750, 4752: 4751, 4753: 4752, 4754: 4753, 4755: 4754, 4756: 4755, 4757: 4756, 4758: 4757, 4759: 4758, 4760: 4759, 4761: 4760, 4762: 4761, 4763: 4762, 4764: 4763, 4765: 4764, 4766: 4765, 4767: 4766, 4768: 4767, 4769: 4768, 4770: 4769, 4771: 4770, 4772: 4771, 4773: 4772, 4774: 4773, 4775: 4774, 4776: 4775, 4777: 4776, 4778: 4777, 4779: 4778, 4780: 4779, 4781: 4780, 4782: 4781, 4783: 4782, 4784: 4783, 4785: 4784, 4786: 4785, 4787: 4786, 4788: 4787, 4789: 4788, 4790: 4789, 4791: 4790, 4792: 4791, 4793: 4792, 4794: 4793, 4795: 4794, 4796: 4795, 4797: 4796, 4798: 4797, 4799: 4798, 4800: 4799, 4801: 4800, 4802: 4801, 4803: 4802, 4804: 4803, 4805: 4804, 4806: 4805, 4807: 4806, 4808: 4807, 4809: 4808, 4810: 4809, 4811: 4810, 4812: 4811, 4813: 4812, 4814: 4813, 4815: 4814, 4816: 4815, 4817: 4816, 4818: 4817, 4819: 4818, 4820: 4819, 4821: 4820, 4822: 4821, 4823: 4822, 4824: 4823, 4825: 4824, 4826: 4825, 4827: 4826, 4828: 4827, 4829: 4828, 4830: 4829, 4831: 4830, 4832: 4831, 4833: 4832, 4834: 4833, 4835: 4834, 4836: 4835, 4837: 4836, 4838: 4837, 4839: 4838, 4840: 4839, 4841: 4840, 4842: 4841, 4843: 4842, 4844: 4843, 4845: 4844, 4846: 4845, 4847: 4846, 4848: 4847, 4849: 4848, 4850: 4849, 4851: 4850, 4852: 4851, 4853: 4852, 4854: 4853, 4855: 4854, 4856: 4855, 4857: 4856, 4858: 4857, 4859: 4858, 4860: 4859, 4861: 4860, 4862: 4861, 4863: 4862, 4864: 4863, 4865: 4864, 4866: 4865, 4867: 4866, 4868: 4867, 4869: 4868, 4870: 4869, 4871: 4870, 4872: 4871, 4873: 4872, 4874: 4873, 4875: 4874, 4876: 4875, 4877: 4876, 4878: 4877, 4879: 4878, 4880: 4879, 4881: 4880, 4882: 4881, 4883: 4882, 4884: 4883, 4885: 4884, 4886: 4885, 4887: 4886, 4888: 4887, 4889: 4888, 4890: 4889, 4891: 4890, 4892: 4891, 4893: 4892, 4894: 4893, 4895: 4894, 4896: 4895, 4897: 4896, 4898: 4897, 4899: 4898, 4900: 4899, 4901: 4900, 4902: 4901, 4903: 4902, 4904: 4903, 4905: 4904, 4906: 4905, 4907: 4906, 4908: 4907, 4909: 4908, 4910: 4909, 4911: 4910, 4912: 4911, 4913: 4912, 4914: 4913, 4915: 4914, 4916: 4915, 4917: 4916, 4918: 4917, 4919: 4918, 4920: 4919, 4921: 4920, 4922: 4921, 4923: 4922, 4924: 4923, 4925: 4924, 4926: 4925, 4927: 4926, 4928: 4927, 4929: 4928, 4930: 4929, 4931: 4930, 4932: 4931, 4933: 4932, 4934: 4933, 4935: 4934, 4936: 4935, 4937: 4936, 4938: 4937, 4939: 4938, 4940: 4939, 4941: 4940, 4942: 4941, 4943: 4942, 4944: 4943, 4945: 4944, 4946: 4945, 4947: 4946, 4948: 4947, 4949: 4948, 4950: 4949, 4951: 4950, 4952: 4951, 4953: 4952, 4954: 4953, 4955: 4954, 4956: 4955, 4957: 4956, 4958: 4957, 4959: 4958, 4960: 4959, 4961: 4960, 4962: 4961, 4963: 4962, 4964: 4963, 4965: 4964, 4966: 4965, 4967: 4966, 4968: 4967, 4969: 4968, 4970: 4969, 4971: 4970, 4972: 4971, 4973: 4972, 4974: 4973, 4975: 4974, 4976: 4975, 4977: 4976, 4978: 4977, 4979: 4978, 4980: 4979, 4981: 4980, 4982: 4981, 4983: 4982, 4984: 4983, 4985: 4984, 4986: 4985, 4987: 4986, 4988: 4987, 4989: 4988, 4990: 4989, 4991: 4990, 4992: 4991, 4993: 4992, 4994: 4993, 4995: 4994, 4996: 4995, 4997: 4996, 4998: 4997, 4999: 4998, 5000: 4999, 5001: 5000, 5002: 5001, 5003: 5002, 5004: 5003, 5005: 5004, 5006: 5005, 5007: 5006, 5008: 5007, 5009: 5008, 5010: 5009, 5011: 5010, 5012: 5011, 5013: 5012, 5014: 5013, 5015: 5014, 5016: 5015, 5017: 5016, 5018: 5017, 5019: 5018, 5020: 5019, 5021: 5020, 5022: 5021, 5023: 5022, 5024: 5023, 5025: 5024, 5026: 5025, 5027: 5026, 5028: 5027, 5029: 5028, 5030: 5029, 5031: 5030, 5032: 5031, 5033: 5032, 5034: 5033, 5035: 5034, 5036: 5035, 5037: 5036, 5038: 5037, 5039: 5038, 5040: 5039, 5041: 5040, 5042: 5041, 5043: 5042, 5044: 5043, 5045: 5044, 5046: 5045, 5047: 5046, 5048: 5047, 5049: 5048, 5050: 5049, 5051: 5050, 5052: 5051, 5053: 5052, 5054: 5053, 5055: 5054, 5056: 5055, 5057: 5056, 5058: 5057, 5059: 5058, 5060: 5059, 5061: 5060, 5062: 5061, 5063: 5062, 5064: 5063, 5065: 5064, 5066: 5065, 5067: 5066, 5068: 5067, 5069: 5068, 5070: 5069, 5071: 5070, 5072: 5071, 5073: 5072, 5074: 5073, 5075: 5074, 5076: 5075, 5077: 5076, 5078: 5077, 5079: 5078, 5080: 5079, 5081: 5080, 5082: 5081, 5083: 5082, 5084: 5083, 5085: 5084, 5086: 5085, 5087: 5086, 5088: 5087, 5089: 5088, 5090: 5089, 5091: 5090, 5092: 5091, 5093: 5092, 5094: 5093, 5095: 5094, 5096: 5095, 5097: 5096, 5098: 5097, 5099: 5098, 5100: 5099, 5101: 5100, 5102: 5101, 5103: 5102, 5104: 5103, 5105: 5104, 5106: 5105, 5107: 5106, 5108: 5107, 5109: 5108, 5110: 5109, 5111: 5110, 5112: 5111, 5113: 5112, 5114: 5113, 5115: 5114, 5116: 5115, 5117: 5116, 5118: 5117, 5119: 5118, 5120: 5119, 5121: 5120, 5122: 5121, 5123: 5122, 5124: 5123, 5125: 5124, 5126: 5125, 5127: 5126, 5128: 5127, 5129: 5128, 5130: 5129, 5131: 5130, 5132: 5131, 5133: 5132, 5134: 5133, 5135: 5134, 5136: 5135, 5137: 5136, 5138: 5137, 5139: 5138, 5140: 5139, 5141: 5140, 5142: 5141, 5143: 5142, 5144: 5143, 5145: 5144, 5146: 5145, 5147: 5146, 5148: 5147, 5149: 5148, 5150: 5149, 5151: 5150, 5152: 5151, 5153: 5152, 5154: 5153, 5155: 5154, 5156: 5155, 5157: 5156, 5158: 5157, 5159: 5158, 5160: 5159, 5161: 5160, 5162: 5161, 5163: 5162, 5164: 5163, 5165: 5164, 5166: 5165, 5167: 5166, 5168: 5167, 5169: 5168, 5170: 5169, 5171: 5170, 5172: 5171, 5173: 5172, 5174: 5173, 5175: 5174, 5176: 5175, 5177: 5176, 5178: 5177, 5179: 5178, 5180: 5179, 5181: 5180, 5182: 5181, 5183: 5182, 5184: 5183, 5185: 5184, 5186: 5185, 5187: 5186, 5188: 5187, 5189: 5188, 5190: 5189, 5191: 5190, 5192: 5191, 5193: 5192, 5194: 5193, 5195: 5194, 5196: 5195, 5197: 5196, 5198: 5197, 5199: 5198, 5200: 5199, 5201: 5200, 5202: 5201, 5203: 5202, 5204: 5203, 5205: 5204, 5206: 5205, 5207: 5206, 5208: 5207, 5209: 5208, 5210: 5209, 5211: 5210, 5212: 5211, 5213: 5212, 5214: 5213, 5215: 5214, 5216: 5215, 5217: 5216, 5218: 5217, 5219: 5218, 5220: 5219, 5221: 5220, 5222: 5221, 5223: 5222, 5224: 5223, 5225: 5224, 5226: 5225, 5227: 5226, 5228: 5227, 5229: 5228, 5230: 5229, 5231: 5230, 5232: 5231, 5233: 5232, 5234: 5233, 5235: 5234, 5236: 5235, 5237: 5236, 5238: 5237, 5239: 5238, 5240: 5239, 5241: 5240, 5242: 5241, 5243: 5242, 5244: 5243, 5245: 5244, 5246: 5245, 5247: 5246, 5248: 5247, 5249: 5248, 5250: 5249, 5251: 5250, 5252: 5251, 5253: 5252, 5254: 5253, 5255: 5254, 5256: 5255, 5257: 5256, 5258: 5257, 5259: 5258, 5260: 5259, 5261: 5260, 5262: 5261, 5263: 5262, 5264: 5263, 5265: 5264, 5266: 5265, 5267: 5266, 5268: 5267, 5269: 5268, 5270: 5269, 5271: 5270, 5272: 5271, 5273: 5272, 5274: 5273, 5275: 5274, 5276: 5275, 5277: 5276, 5278: 5277, 5279: 5278, 5280: 5279, 5281: 5280, 5282: 5281, 5283: 5282, 5284: 5283, 5285: 5284, 5286: 5285, 5287: 5286, 5288: 5287, 5289: 5288, 5290: 5289, 5291: 5290, 5292: 5291, 5293: 5292, 5294: 5293, 5295: 5294, 5296: 5295, 5297: 5296, 5298: 5297, 5299: 5298, 5300: 5299, 5301: 5300, 5302: 5301, 5303: 5302, 5304: 5303, 5305: 5304, 5306: 5305, 5307: 5306, 5308: 5307, 5309: 5308, 5310: 5309, 5311: 5310, 5312: 5311, 5313: 5312, 5314: 5313, 5315: 5314, 5316: 5315, 5317: 5316, 5318: 5317, 5319: 5318, 5320: 5319, 5321: 5320, 5322: 5321, 5323: 5322, 5324: 5323, 5325: 5324, 5326: 5325, 5327: 5326, 5328: 5327, 5329: 5328, 5330: 5329, 5331: 5330, 5332: 5331, 5333: 5332, 5334: 5333, 5335: 5334, 5336: 5335, 5337: 5336, 5338: 5337, 5339: 5338, 5340: 5339, 5341: 5340, 5342: 5341, 5343: 5342, 5344: 5343, 5345: 5344, 5346: 5345, 5347: 5346, 5348: 5347, 5349: 5348, 5350: 5349, 5351: 5350, 5352: 5351, 5353: 5352, 5354: 5353, 5355: 5354, 5356: 5355, 5357: 5356, 5358: 5357, 5359: 5358, 5360: 5359, 5361: 5360, 5362: 5361, 5363: 5362, 5364: 5363, 5365: 5364, 5366: 5365, 5367: 5366, 5368: 5367, 5369: 5368, 5370: 5369, 5371: 5370, 5372: 5371, 5373: 5372, 5374: 5373, 5375: 5374, 5376: 5375, 5377: 5376, 5378: 5377, 5379: 5378, 5380: 5379, 5381: 5380, 5382: 5381, 5383: 5382, 5384: 5383, 5385: 5384, 5386: 5385, 5387: 5386, 5388: 5387, 5389: 5388, 5390: 5389, 5391: 5390, 5392: 5391, 5393: 5392, 5394: 5393, 5395: 5394, 5396: 5395, 5397: 5396, 5398: 5397, 5399: 5398, 5400: 5399, 5401: 5400, 5402: 5401, 5403: 5402, 5404: 5403, 5405: 5404, 5406: 5405, 5407: 5406, 5408: 5407, 5409: 5408, 5410: 5409, 5411: 5410, 5412: 5411, 5413: 5412, 5414: 5413, 5415: 5414, 5416: 5415, 5417: 5416, 5418: 5417, 5419: 5418, 5420: 5419, 5421: 5420, 5422: 5421, 5423: 5422, 5424: 5423, 5425: 5424, 5426: 5425, 5427: 5426, 5428: 5427, 5429: 5428, 5430: 5429, 5431: 5430, 5432: 5431, 5433: 5432, 5434: 5433, 5435: 5434, 5436: 5435, 5437: 5436, 5438: 5437, 5439: 5438, 5440: 5439, 5441: 5440, 5442: 5441, 5443: 5442, 5444: 5443, 5445: 5444, 5446: 5445, 5447: 5446, 5448: 5447, 5449: 5448, 5450: 5449, 5451: 5450, 5452: 5451, 5453: 5452, 5454: 5453, 5455: 5454, 5456: 5455, 5457: 5456, 5458: 5457, 5459: 5458, 5460: 5459, 5461: 5460, 5462: 5461, 5463: 5462, 5464: 5463, 5465: 5464, 5466: 5465, 5467: 5466, 5468: 5467, 5469: 5468, 5470: 5469, 5471: 5470, 5472: 5471, 5473: 5472, 5474: 5473, 5475: 5474, 5476: 5475, 5477: 5476, 5478: 5477, 5479: 5478, 5480: 5479, 5481: 5480, 5482: 5481, 5483: 5482, 5484: 5483, 5485: 5484, 5486: 5485, 5487: 5486, 5488: 5487, 5489: 5488, 5490: 5489, 5491: 5490, 5492: 5491, 5493: 5492, 5494: 5493, 5495: 5494, 5496: 5495, 5497: 5496, 5498: 5497, 5499: 5498, 5500: 5499, 5501: 5500, 5502: 5501, 5503: 5502, 5504: 5503, 5505: 5504, 5506: 5505, 5507: 5506, 5508: 5507, 5509: 5508, 5510: 5509, 5511: 5510, 5512: 5511, 5513: 5512, 5514: 5513, 5515: 5514, 5516: 5515, 5517: 5516, 5518: 5517, 5519: 5518, 5520: 5519, 5521: 5520, 5522: 5521, 5523: 5522, 5524: 5523, 5525: 5524, 5526: 5525, 5527: 5526, 5528: 5527, 5529: 5528, 5530: 5529, 5531: 5530, 5532: 5531, 5533: 5532, 5534: 5533, 5535: 5534, 5536: 5535, 5537: 5536, 5538: 5537, 5539: 5538, 5540: 5539, 5541: 5540, 5542: 5541, 5543: 5542, 5544: 5543, 5545: 5544, 5546: 5545, 5547: 5546, 5548: 5547, 5549: 5548, 5550: 5549, 5551: 5550, 5552: 5551, 5553: 5552, 5554: 5553, 5555: 5554, 5556: 5555, 5557: 5556, 5558: 5557, 5559: 5558, 5560: 5559, 5561: 5560, 5562: 5561, 5563: 5562, 5564: 5563, 5565: 5564, 5566: 5565, 5567: 5566, 5568: 5567, 5569: 5568, 5570: 5569, 5571: 5570, 5572: 5571, 5573: 5572, 5574: 5573, 5575: 5574, 5576: 5575, 5577: 5576, 5578: 5577, 5579: 5578, 5580: 5579, 5581: 5580, 5582: 5581, 5583: 5582, 5584: 5583, 5585: 5584, 5586: 5585, 5587: 5586, 5588: 5587, 5589: 5588, 5590: 5589, 5591: 5590, 5592: 5591, 5593: 5592, 5594: 5593, 5595: 5594, 5596: 5595, 5597: 5596, 5598: 5597, 5599: 5598, 5600: 5599, 5601: 5600, 5602: 5601, 5603: 5602, 5604: 5603, 5605: 5604, 5606: 5605, 5607: 5606, 5608: 5607, 5609: 5608, 5610: 5609, 5611: 5610, 5612: 5611, 5613: 5612, 5614: 5613, 5615: 5614, 5616: 5615, 5617: 5616, 5618: 5617, 5619: 5618, 5620: 5619, 5621: 5620, 5622: 5621, 5623: 5622, 5624: 5623, 5625: 5624, 5626: 5625, 5627: 5626, 5628: 5627, 5629: 5628, 5630: 5629, 5631: 5630, 5632: 5631, 5633: 5632, 5634: 5633, 5635: 5634, 5636: 5635, 5637: 5636, 5638: 5637, 5639: 5638, 5640: 5639, 5641: 5640, 5642: 5641, 5643: 5642, 5644: 5643, 5645: 5644, 5646: 5645, 5647: 5646, 5648: 5647, 5649: 5648, 5650: 5649, 5651: 5650, 5652: 5651, 5653: 5652, 5654: 5653, 5655: 5654, 5656: 5655, 5657: 5656, 5658: 5657, 5659: 5658, 5660: 5659, 5661: 5660, 5662: 5661, 5663: 5662, 5664: 5663, 5665: 5664, 5666: 5665, 5667: 5666, 5668: 5667, 5669: 5668, 5670: 5669, 5671: 5670, 5672: 5671, 5673: 5672, 5674: 5673, 5675: 5674, 5676: 5675, 5677: 5676, 5678: 5677, 5679: 5678, 5680: 5679, 5681: 5680, 5682: 5681, 5683: 5682, 5684: 5683, 5685: 5684, 5686: 5685, 5687: 5686, 5688: 5687, 5689: 5688, 5690: 5689, 5691: 5690, 5692: 5691, 5693: 5692, 5694: 5693, 5695: 5694, 5696: 5695, 5697: 5696, 5698: 5697, 5699: 5698, 5700: 5699, 5701: 5700, 5702: 5701, 5703: 5702, 5704: 5703, 5705: 5704, 5706: 5705, 5707: 5706, 5708: 5707, 5709: 5708, 5710: 5709, 5711: 5710, 5712: 5711, 5713: 5712, 5714: 5713, 5715: 5714, 5716: 5715, 5717: 5716, 5718: 5717, 5719: 5718, 5720: 5719, 5721: 5720, 5722: 5721, 5723: 5722, 5724: 5723, 5725: 5724, 5726: 5725, 5727: 5726, 5728: 5727, 5729: 5728, 5730: 5729, 5731: 5730, 5732: 5731, 5733: 5732, 5734: 5733, 5735: 5734, 5736: 5735, 5737: 5736, 5738: 5737, 5739: 5738, 5740: 5739, 5741: 5740, 5742: 5741, 5743: 5742, 5744: 5743, 5745: 5744, 5746: 5745, 5747: 5746, 5748: 5747, 5749: 5748, 5750: 5749, 5751: 5750, 5752: 5751, 5753: 5752, 5754: 5753, 5755: 5754, 5756: 5755, 5757: 5756, 5758: 5757, 5759: 5758, 5760: 5759, 5761: 5760, 5762: 5761, 5763: 5762, 5764: 5763, 5765: 5764, 5766: 5765, 5767: 5766, 5768: 5767, 5769: 5768, 5770: 5769, 5771: 5770, 5772: 5771, 5773: 5772, 5774: 5773, 5775: 5774, 5776: 5775, 5777: 5776, 5778: 5777, 5779: 5778, 5780: 5779, 5781: 5780, 5782: 5781, 5783: 5782, 5784: 5783, 5785: 5784, 5786: 5785, 5787: 5786, 5788: 5787, 5789: 5788, 5790: 5789, 5791: 5790, 5792: 5791, 5793: 5792, 5794: 5793, 5795: 5794, 5796: 5795, 5797: 5796, 5798: 5797, 5799: 5798, 5800: 5799, 5801: 5800, 5802: 5801, 5803: 5802, 5804: 5803, 5805: 5804, 5806: 5805, 5807: 5806, 5808: 5807, 5809: 5808, 5810: 5809, 5811: 5810, 5812: 5811, 5813: 5812, 5814: 5813, 5815: 5814, 5816: 5815, 5817: 5816, 5818: 5817, 5819: 5818, 5820: 5819, 5821: 5820, 5822: 5821, 5823: 5822, 5824: 5823, 5825: 5824, 5826: 5825, 5827: 5826, 5828: 5827, 5829: 5828, 5830: 5829, 5831: 5830, 5832: 5831, 5833: 5832, 5834: 5833, 5835: 5834, 5836: 5835, 5837: 5836, 5838: 5837, 5839: 5838, 5840: 5839, 5841: 5840, 5842: 5841, 5843: 5842, 5844: 5843, 5845: 5844, 5846: 5845, 5847: 5846, 5848: 5847, 5849: 5848, 5850: 5849, 5851: 5850, 5852: 5851, 5853: 5852, 5854: 5853, 5855: 5854, 5856: 5855, 5857: 5856, 5858: 5857, 5859: 5858, 5860: 5859, 5861: 5860, 5862: 5861, 5863: 5862, 5864: 5863, 5865: 5864, 5866: 5865, 5867: 5866, 5868: 5867, 5869: 5868, 5870: 5869, 5871: 5870, 5872: 5871, 5873: 5872, 5874: 5873, 5875: 5874, 5876: 5875, 5877: 5876, 5878: 5877, 5879: 5878, 5880: 5879, 5881: 5880, 5882: 5881, 5883: 5882, 5884: 5883, 5885: 5884, 5886: 5885, 5887: 5886, 5888: 5887, 5889: 5888, 5890: 5889, 5891: 5890, 5892: 5891, 5893: 5892, 5894: 5893, 5895: 5894, 5896: 5895, 5897: 5896, 5898: 5897, 5899: 5898, 5900: 5899, 5901: 5900, 5902: 5901, 5903: 5902, 5904: 5903, 5905: 5904, 5906: 5905, 5907: 5906, 5908: 5907, 5909: 5908, 5910: 5909, 5911: 5910, 5912: 5911, 5913: 5912, 5914: 5913, 5915: 5914, 5916: 5915, 5917: 5916, 5918: 5917, 5919: 5918, 5920: 5919, 5921: 5920, 5922: 5921, 5923: 5922, 5924: 5923, 5925: 5924, 5926: 5925, 5927: 5926, 5928: 5927, 5929: 5928, 5930: 5929, 5931: 5930, 5932: 5931, 5933: 5932, 5934: 5933, 5935: 5934, 5936: 5935, 5937: 5936, 5938: 5937, 5939: 5938, 5940: 5939, 5941: 5940, 5942: 5941, 5943: 5942, 5944: 5943, 5945: 5944, 5946: 5945, 5947: 5946, 5948: 5947, 5949: 5948, 5950: 5949, 5951: 5950, 5952: 5951, 5953: 5952, 5954: 5953, 5955: 5954, 5956: 5955, 5957: 5956, 5958: 5957, 5959: 5958, 5960: 5959, 5961: 5960, 5962: 5961, 5963: 5962, 5964: 5963, 5965: 5964, 5966: 5965, 5967: 5966, 5968: 5967, 5969: 5968, 5970: 5969, 5971: 5970, 5972: 5971, 5973: 5972, 5974: 5973, 5975: 5974, 5976: 5975, 5977: 5976, 5978: 5977, 5979: 5978, 5980: 5979, 5981: 5980, 5982: 5981, 5983: 5982, 5984: 5983, 5985: 5984, 5986: 5985, 5987: 5986, 5988: 5987, 5989: 5988, 5990: 5989, 5991: 5990, 5992: 5991, 5993: 5992, 5994: 5993, 5995: 5994, 5996: 5995, 5997: 5996, 5998: 5997, 5999: 5998, 6000: 5999, 6001: 6000, 6002: 6001, 6003: 6002, 6004: 6003, 6005: 6004, 6006: 6005, 6007: 6006, 6008: 6007, 6009: 6008, 6010: 6009, 6011: 6010, 6012: 6011, 6013: 6012, 6014: 6013, 6015: 6014, 6016: 6015, 6017: 6016, 6018: 6017, 6019: 6018, 6020: 6019, 6021: 6020, 6022: 6021, 6023: 6022, 6024: 6023, 6025: 6024, 6026: 6025, 6027: 6026, 6028: 6027, 6029: 6028, 6030: 6029, 6031: 6030, 6032: 6031, 6033: 6032, 6034: 6033, 6035: 6034, 6036: 6035, 6037: 6036, 6038: 6037, 6039: 6038, 6040: 6039}} {'user_id': {0: 1, 1: 2, 2: 3, 3: 4, 4: 5, 5: 6, 6: 7, 7: 8, 8: 9, 9: 10, 10: 11, 11: 12, 12: 13, 13: 14, 14: 15, 15: 16, 16: 17, 17: 18, 18: 19, 19: 20, 20: 21, 21: 22, 22: 23, 23: 24, 24: 25, 25: 26, 26: 27, 27: 28, 28: 29, 29: 30, 30: 31, 31: 32, 32: 33, 33: 34, 34: 35, 35: 36, 36: 37, 37: 38, 38: 39, 39: 40, 40: 41, 41: 42, 42: 43, 43: 44, 44: 45, 45: 46, 46: 47, 47: 48, 48: 49, 49: 50, 50: 51, 51: 52, 52: 53, 53: 54, 54: 55, 55: 56, 56: 57, 57: 58, 58: 59, 59: 60, 60: 61, 61: 62, 62: 63, 63: 64, 64: 65, 65: 66, 66: 67, 67: 68, 68: 69, 69: 70, 70: 71, 71: 72, 72: 73, 73: 74, 74: 75, 75: 76, 76: 77, 77: 78, 78: 79, 79: 80, 80: 81, 81: 82, 82: 83, 83: 84, 84: 85, 85: 86, 86: 87, 87: 88, 88: 89, 89: 90, 90: 91, 91: 92, 92: 93, 93: 94, 94: 95, 95: 96, 96: 97, 97: 98, 98: 99, 99: 100, 100: 101, 101: 102, 102: 103, 103: 104, 104: 105, 105: 106, 106: 107, 107: 108, 108: 109, 109: 110, 110: 111, 111: 112, 112: 113, 113: 114, 114: 115, 115: 116, 116: 117, 117: 118, 118: 119, 119: 120, 120: 121, 121: 122, 122: 123, 123: 124, 124: 125, 125: 126, 126: 127, 127: 128, 128: 129, 129: 130, 130: 131, 131: 132, 132: 133, 133: 134, 134: 135, 135: 136, 136: 137, 137: 138, 138: 139, 139: 140, 140: 141, 141: 142, 142: 143, 143: 144, 144: 145, 145: 146, 146: 147, 147: 148, 148: 149, 149: 150, 150: 151, 151: 152, 152: 153, 153: 154, 154: 155, 155: 156, 156: 157, 157: 158, 158: 159, 159: 160, 160: 161, 161: 162, 162: 163, 163: 164, 164: 165, 165: 166, 166: 167, 167: 168, 168: 169, 169: 170, 170: 171, 171: 172, 172: 173, 173: 174, 174: 175, 175: 176, 176: 177, 177: 178, 178: 179, 179: 180, 180: 181, 181: 182, 182: 183, 183: 184, 184: 185, 185: 186, 186: 187, 187: 188, 188: 189, 189: 190, 190: 191, 191: 192, 192: 193, 193: 194, 194: 195, 195: 196, 196: 197, 197: 198, 198: 199, 199: 200, 200: 201, 201: 202, 202: 203, 203: 204, 204: 205, 205: 206, 206: 207, 207: 208, 208: 209, 209: 210, 210: 211, 211: 212, 212: 213, 213: 214, 214: 215, 215: 216, 216: 217, 217: 218, 218: 219, 219: 220, 220: 221, 221: 222, 222: 223, 223: 224, 224: 225, 225: 226, 226: 227, 227: 228, 228: 229, 229: 230, 230: 231, 231: 232, 232: 233, 233: 234, 234: 235, 235: 236, 236: 237, 237: 238, 238: 239, 239: 240, 240: 241, 241: 242, 242: 243, 243: 244, 244: 245, 245: 246, 246: 247, 247: 248, 248: 249, 249: 250, 250: 251, 251: 252, 252: 253, 253: 254, 254: 255, 255: 256, 256: 257, 257: 258, 258: 259, 259: 260, 260: 261, 261: 262, 262: 263, 263: 264, 264: 265, 265: 266, 266: 267, 267: 268, 268: 269, 269: 270, 270: 271, 271: 272, 272: 273, 273: 274, 274: 275, 275: 276, 276: 277, 277: 278, 278: 279, 279: 280, 280: 281, 281: 282, 282: 283, 283: 284, 284: 285, 285: 286, 286: 287, 287: 288, 288: 289, 289: 290, 290: 291, 291: 292, 292: 293, 293: 294, 294: 295, 295: 296, 296: 297, 297: 298, 298: 299, 299: 300, 300: 301, 301: 302, 302: 303, 303: 304, 304: 305, 305: 306, 306: 307, 307: 308, 308: 309, 309: 310, 310: 311, 311: 312, 312: 313, 313: 314, 314: 315, 315: 316, 316: 317, 317: 318, 318: 319, 319: 320, 320: 321, 321: 322, 322: 323, 323: 324, 324: 325, 325: 326, 326: 327, 327: 328, 328: 329, 329: 330, 330: 331, 331: 332, 332: 333, 333: 334, 334: 335, 335: 336, 336: 337, 337: 338, 338: 339, 339: 340, 340: 341, 341: 342, 342: 343, 343: 344, 344: 345, 345: 346, 346: 347, 347: 348, 348: 349, 349: 350, 350: 351, 351: 352, 352: 353, 353: 354, 354: 355, 355: 356, 356: 357, 357: 358, 358: 359, 359: 360, 360: 361, 361: 362, 362: 363, 363: 364, 364: 365, 365: 366, 366: 367, 367: 368, 368: 369, 369: 370, 370: 371, 371: 372, 372: 373, 373: 374, 374: 375, 375: 376, 376: 377, 377: 378, 378: 379, 379: 380, 380: 381, 381: 382, 382: 383, 383: 384, 384: 385, 385: 386, 386: 387, 387: 388, 388: 389, 389: 390, 390: 391, 391: 392, 392: 393, 393: 394, 394: 395, 395: 396, 396: 397, 397: 398, 398: 399, 399: 400, 400: 401, 401: 402, 402: 403, 403: 404, 404: 405, 405: 406, 406: 407, 407: 408, 408: 409, 409: 410, 410: 411, 411: 412, 412: 413, 413: 414, 414: 415, 415: 416, 416: 417, 417: 418, 418: 419, 419: 420, 420: 421, 421: 422, 422: 423, 423: 424, 424: 425, 425: 426, 426: 427, 427: 428, 428: 429, 429: 430, 430: 431, 431: 432, 432: 433, 433: 434, 434: 435, 435: 436, 436: 437, 437: 438, 438: 439, 439: 440, 440: 441, 441: 442, 442: 443, 443: 444, 444: 445, 445: 446, 446: 447, 447: 448, 448: 449, 449: 450, 450: 451, 451: 452, 452: 453, 453: 454, 454: 455, 455: 456, 456: 457, 457: 458, 458: 459, 459: 460, 460: 461, 461: 462, 462: 463, 463: 464, 464: 465, 465: 466, 466: 467, 467: 468, 468: 469, 469: 470, 470: 471, 471: 472, 472: 473, 473: 474, 474: 475, 475: 476, 476: 477, 477: 478, 478: 479, 479: 480, 480: 481, 481: 482, 482: 483, 483: 484, 484: 485, 485: 486, 486: 487, 487: 488, 488: 489, 489: 490, 490: 491, 491: 492, 492: 493, 493: 494, 494: 495, 495: 496, 496: 497, 497: 498, 498: 499, 499: 500, 500: 501, 501: 502, 502: 503, 503: 504, 504: 505, 505: 506, 506: 507, 507: 508, 508: 509, 509: 510, 510: 511, 511: 512, 512: 513, 513: 514, 514: 515, 515: 516, 516: 517, 517: 518, 518: 519, 519: 520, 520: 521, 521: 522, 522: 523, 523: 524, 524: 525, 525: 526, 526: 527, 527: 528, 528: 529, 529: 530, 530: 531, 531: 532, 532: 533, 533: 534, 534: 535, 535: 536, 536: 537, 537: 538, 538: 539, 539: 540, 540: 541, 541: 542, 542: 543, 543: 544, 544: 545, 545: 546, 546: 547, 547: 548, 548: 549, 549: 550, 550: 551, 551: 552, 552: 553, 553: 554, 554: 555, 555: 556, 556: 557, 557: 558, 558: 559, 559: 560, 560: 561, 561: 562, 562: 563, 563: 564, 564: 565, 565: 566, 566: 567, 567: 568, 568: 569, 569: 570, 570: 571, 571: 572, 572: 573, 573: 574, 574: 575, 575: 576, 576: 577, 577: 578, 578: 579, 579: 580, 580: 581, 581: 582, 582: 583, 583: 584, 584: 585, 585: 586, 586: 587, 587: 588, 588: 589, 589: 590, 590: 591, 591: 592, 592: 593, 593: 594, 594: 595, 595: 596, 596: 597, 597: 598, 598: 599, 599: 600, 600: 601, 601: 602, 602: 603, 603: 604, 604: 605, 605: 606, 606: 607, 607: 608, 608: 609, 609: 610, 610: 611, 611: 612, 612: 613, 613: 614, 614: 615, 615: 616, 616: 617, 617: 618, 618: 619, 619: 620, 620: 621, 621: 622, 622: 623, 623: 624, 624: 625, 625: 626, 626: 627, 627: 628, 628: 629, 629: 630, 630: 631, 631: 632, 632: 633, 633: 634, 634: 635, 635: 636, 636: 637, 637: 638, 638: 639, 639: 640, 640: 641, 641: 642, 642: 643, 643: 644, 644: 645, 645: 646, 646: 647, 647: 648, 648: 649, 649: 650, 650: 651, 651: 652, 652: 653, 653: 654, 654: 655, 655: 656, 656: 657, 657: 658, 658: 659, 659: 660, 660: 661, 661: 662, 662: 663, 663: 664, 664: 665, 665: 666, 666: 667, 667: 668, 668: 669, 669: 670, 670: 671, 671: 672, 672: 673, 673: 674, 674: 675, 675: 676, 676: 677, 677: 678, 678: 679, 679: 680, 680: 681, 681: 682, 682: 683, 683: 684, 684: 685, 685: 686, 686: 687, 687: 688, 688: 689, 689: 690, 690: 691, 691: 692, 692: 693, 693: 694, 694: 695, 695: 696, 696: 697, 697: 698, 698: 699, 699: 700, 700: 701, 701: 702, 702: 703, 703: 704, 704: 705, 705: 706, 706: 707, 707: 708, 708: 709, 709: 710, 710: 711, 711: 712, 712: 713, 713: 714, 714: 715, 715: 716, 716: 717, 717: 718, 718: 719, 719: 720, 720: 721, 721: 722, 722: 723, 723: 724, 724: 725, 725: 726, 726: 727, 727: 728, 728: 729, 729: 730, 730: 731, 731: 732, 732: 733, 733: 734, 734: 735, 735: 736, 736: 737, 737: 738, 738: 739, 739: 740, 740: 741, 741: 742, 742: 743, 743: 744, 744: 745, 745: 746, 746: 747, 747: 748, 748: 749, 749: 750, 750: 751, 751: 752, 752: 753, 753: 754, 754: 755, 755: 756, 756: 757, 757: 758, 758: 759, 759: 760, 760: 761, 761: 762, 762: 763, 763: 764, 764: 765, 765: 766, 766: 767, 767: 768, 768: 769, 769: 770, 770: 771, 771: 772, 772: 773, 773: 774, 774: 775, 775: 776, 776: 777, 777: 778, 778: 779, 779: 780, 780: 781, 781: 782, 782: 783, 783: 784, 784: 785, 785: 786, 786: 787, 787: 788, 788: 789, 789: 790, 790: 791, 791: 792, 792: 793, 793: 794, 794: 795, 795: 796, 796: 797, 797: 798, 798: 799, 799: 800, 800: 801, 801: 802, 802: 803, 803: 804, 804: 805, 805: 806, 806: 807, 807: 808, 808: 809, 809: 810, 810: 811, 811: 812, 812: 813, 813: 814, 814: 815, 815: 816, 816: 817, 817: 818, 818: 819, 819: 820, 820: 821, 821: 822, 822: 823, 823: 824, 824: 825, 825: 826, 826: 827, 827: 828, 828: 829, 829: 830, 830: 831, 831: 832, 832: 833, 833: 834, 834: 835, 835: 836, 836: 837, 837: 838, 838: 839, 839: 840, 840: 841, 841: 842, 842: 843, 843: 844, 844: 845, 845: 846, 846: 847, 847: 848, 848: 849, 849: 850, 850: 851, 851: 852, 852: 853, 853: 854, 854: 855, 855: 856, 856: 857, 857: 858, 858: 859, 859: 860, 860: 861, 861: 862, 862: 863, 863: 864, 864: 865, 865: 866, 866: 867, 867: 868, 868: 869, 869: 870, 870: 871, 871: 872, 872: 873, 873: 874, 874: 875, 875: 876, 876: 877, 877: 878, 878: 879, 879: 880, 880: 881, 881: 882, 882: 883, 883: 884, 884: 885, 885: 886, 886: 887, 887: 888, 888: 889, 889: 890, 890: 891, 891: 892, 892: 893, 893: 894, 894: 895, 895: 896, 896: 897, 897: 898, 898: 899, 899: 900, 900: 901, 901: 902, 902: 903, 903: 904, 904: 905, 905: 906, 906: 907, 907: 908, 908: 909, 909: 910, 910: 911, 911: 912, 912: 913, 913: 914, 914: 915, 915: 916, 916: 917, 917: 918, 918: 919, 919: 920, 920: 921, 921: 922, 922: 923, 923: 924, 924: 925, 925: 926, 926: 927, 927: 928, 928: 929, 929: 930, 930: 931, 931: 932, 932: 933, 933: 934, 934: 935, 935: 936, 936: 937, 937: 938, 938: 939, 939: 940, 940: 941, 941: 942, 942: 943, 943: 944, 944: 945, 945: 946, 946: 947, 947: 948, 948: 949, 949: 950, 950: 951, 951: 952, 952: 953, 953: 954, 954: 955, 955: 956, 956: 957, 957: 958, 958: 959, 959: 960, 960: 961, 961: 962, 962: 963, 963: 964, 964: 965, 965: 966, 966: 967, 967: 968, 968: 969, 969: 970, 970: 971, 971: 972, 972: 973, 973: 974, 974: 975, 975: 976, 976: 977, 977: 978, 978: 979, 979: 980, 980: 981, 981: 982, 982: 983, 983: 984, 984: 985, 985: 986, 986: 987, 987: 988, 988: 989, 989: 990, 990: 991, 991: 992, 992: 993, 993: 994, 994: 995, 995: 996, 996: 997, 997: 998, 998: 999, 999: 1000, 1000: 1001, 1001: 1002, 1002: 1003, 1003: 1004, 1004: 1005, 1005: 1006, 1006: 1007, 1007: 1008, 1008: 1009, 1009: 1010, 1010: 1011, 1011: 1012, 1012: 1013, 1013: 1014, 1014: 1015, 1015: 1016, 1016: 1017, 1017: 1018, 1018: 1019, 1019: 1020, 1020: 1021, 1021: 1022, 1022: 1023, 1023: 1024, 1024: 1025, 1025: 1026, 1026: 1027, 1027: 1028, 1028: 1029, 1029: 1030, 1030: 1031, 1031: 1032, 1032: 1033, 1033: 1034, 1034: 1035, 1035: 1036, 1036: 1037, 1037: 1038, 1038: 1039, 1039: 1040, 1040: 1041, 1041: 1042, 1042: 1043, 1043: 1044, 1044: 1045, 1045: 1046, 1046: 1047, 1047: 1048, 1048: 1049, 1049: 1050, 1050: 1051, 1051: 1052, 1052: 1053, 1053: 1054, 1054: 1055, 1055: 1056, 1056: 1057, 1057: 1058, 1058: 1059, 1059: 1060, 1060: 1061, 1061: 1062, 1062: 1063, 1063: 1064, 1064: 1065, 1065: 1066, 1066: 1067, 1067: 1068, 1068: 1069, 1069: 1070, 1070: 1071, 1071: 1072, 1072: 1073, 1073: 1074, 1074: 1075, 1075: 1076, 1076: 1077, 1077: 1078, 1078: 1079, 1079: 1080, 1080: 1081, 1081: 1082, 1082: 1083, 1083: 1084, 1084: 1085, 1085: 1086, 1086: 1087, 1087: 1088, 1088: 1089, 1089: 1090, 1090: 1091, 1091: 1092, 1092: 1093, 1093: 1094, 1094: 1095, 1095: 1096, 1096: 1097, 1097: 1098, 1098: 1099, 1099: 1100, 1100: 1101, 1101: 1102, 1102: 1103, 1103: 1104, 1104: 1105, 1105: 1106, 1106: 1107, 1107: 1108, 1108: 1109, 1109: 1110, 1110: 1111, 1111: 1112, 1112: 1113, 1113: 1114, 1114: 1115, 1115: 1116, 1116: 1117, 1117: 1118, 1118: 1119, 1119: 1120, 1120: 1121, 1121: 1122, 1122: 1123, 1123: 1124, 1124: 1125, 1125: 1126, 1126: 1127, 1127: 1128, 1128: 1129, 1129: 1130, 1130: 1131, 1131: 1132, 1132: 1133, 1133: 1134, 1134: 1135, 1135: 1136, 1136: 1137, 1137: 1138, 1138: 1139, 1139: 1140, 1140: 1141, 1141: 1142, 1142: 1143, 1143: 1144, 1144: 1145, 1145: 1146, 1146: 1147, 1147: 1148, 1148: 1149, 1149: 1150, 1150: 1151, 1151: 1152, 1152: 1153, 1153: 1154, 1154: 1155, 1155: 1156, 1156: 1157, 1157: 1158, 1158: 1159, 1159: 1160, 1160: 1161, 1161: 1162, 1162: 1163, 1163: 1164, 1164: 1165, 1165: 1166, 1166: 1167, 1167: 1168, 1168: 1169, 1169: 1170, 1170: 1171, 1171: 1172, 1172: 1173, 1173: 1174, 1174: 1175, 1175: 1176, 1176: 1177, 1177: 1178, 1178: 1179, 1179: 1180, 1180: 1181, 1181: 1182, 1182: 1183, 1183: 1184, 1184: 1185, 1185: 1186, 1186: 1187, 1187: 1188, 1188: 1189, 1189: 1190, 1190: 1191, 1191: 1192, 1192: 1193, 1193: 1194, 1194: 1195, 1195: 1196, 1196: 1197, 1197: 1198, 1198: 1199, 1199: 1200, 1200: 1201, 1201: 1202, 1202: 1203, 1203: 1204, 1204: 1205, 1205: 1206, 1206: 1207, 1207: 1208, 1208: 1209, 1209: 1210, 1210: 1211, 1211: 1212, 1212: 1213, 1213: 1214, 1214: 1215, 1215: 1216, 1216: 1217, 1217: 1218, 1218: 1219, 1219: 1220, 1220: 1221, 1221: 1222, 1222: 1223, 1223: 1224, 1224: 1225, 1225: 1226, 1226: 1227, 1227: 1228, 1228: 1229, 1229: 1230, 1230: 1231, 1231: 1232, 1232: 1233, 1233: 1234, 1234: 1235, 1235: 1236, 1236: 1237, 1237: 1238, 1238: 1239, 1239: 1240, 1240: 1241, 1241: 1242, 1242: 1243, 1243: 1244, 1244: 1245, 1245: 1246, 1246: 1247, 1247: 1248, 1248: 1249, 1249: 1250, 1250: 1251, 1251: 1252, 1252: 1253, 1253: 1254, 1254: 1255, 1255: 1256, 1256: 1257, 1257: 1258, 1258: 1259, 1259: 1260, 1260: 1261, 1261: 1262, 1262: 1263, 1263: 1264, 1264: 1265, 1265: 1266, 1266: 1267, 1267: 1268, 1268: 1269, 1269: 1270, 1270: 1271, 1271: 1272, 1272: 1273, 1273: 1274, 1274: 1275, 1275: 1276, 1276: 1277, 1277: 1278, 1278: 1279, 1279: 1280, 1280: 1281, 1281: 1282, 1282: 1283, 1283: 1284, 1284: 1285, 1285: 1286, 1286: 1287, 1287: 1288, 1288: 1289, 1289: 1290, 1290: 1291, 1291: 1292, 1292: 1293, 1293: 1294, 1294: 1295, 1295: 1296, 1296: 1297, 1297: 1298, 1298: 1299, 1299: 1300, 1300: 1301, 1301: 1302, 1302: 1303, 1303: 1304, 1304: 1305, 1305: 1306, 1306: 1307, 1307: 1308, 1308: 1309, 1309: 1310, 1310: 1311, 1311: 1312, 1312: 1313, 1313: 1314, 1314: 1315, 1315: 1316, 1316: 1317, 1317: 1318, 1318: 1319, 1319: 1320, 1320: 1321, 1321: 1322, 1322: 1323, 1323: 1324, 1324: 1325, 1325: 1326, 1326: 1327, 1327: 1328, 1328: 1329, 1329: 1330, 1330: 1331, 1331: 1332, 1332: 1333, 1333: 1334, 1334: 1335, 1335: 1336, 1336: 1337, 1337: 1338, 1338: 1339, 1339: 1340, 1340: 1341, 1341: 1342, 1342: 1343, 1343: 1344, 1344: 1345, 1345: 1346, 1346: 1347, 1347: 1348, 1348: 1349, 1349: 1350, 1350: 1351, 1351: 1352, 1352: 1353, 1353: 1354, 1354: 1355, 1355: 1356, 1356: 1357, 1357: 1358, 1358: 1359, 1359: 1360, 1360: 1361, 1361: 1362, 1362: 1363, 1363: 1364, 1364: 1365, 1365: 1366, 1366: 1367, 1367: 1368, 1368: 1369, 1369: 1370, 1370: 1371, 1371: 1372, 1372: 1373, 1373: 1374, 1374: 1375, 1375: 1376, 1376: 1377, 1377: 1378, 1378: 1379, 1379: 1380, 1380: 1381, 1381: 1382, 1382: 1383, 1383: 1384, 1384: 1385, 1385: 1386, 1386: 1387, 1387: 1388, 1388: 1389, 1389: 1390, 1390: 1391, 1391: 1392, 1392: 1393, 1393: 1394, 1394: 1395, 1395: 1396, 1396: 1397, 1397: 1398, 1398: 1399, 1399: 1400, 1400: 1401, 1401: 1402, 1402: 1403, 1403: 1404, 1404: 1405, 1405: 1406, 1406: 1407, 1407: 1408, 1408: 1409, 1409: 1410, 1410: 1411, 1411: 1412, 1412: 1413, 1413: 1414, 1414: 1415, 1415: 1416, 1416: 1417, 1417: 1418, 1418: 1419, 1419: 1420, 1420: 1421, 1421: 1422, 1422: 1423, 1423: 1424, 1424: 1425, 1425: 1426, 1426: 1427, 1427: 1428, 1428: 1429, 1429: 1430, 1430: 1431, 1431: 1432, 1432: 1433, 1433: 1434, 1434: 1435, 1435: 1436, 1436: 1437, 1437: 1438, 1438: 1439, 1439: 1440, 1440: 1441, 1441: 1442, 1442: 1443, 1443: 1444, 1444: 1445, 1445: 1446, 1446: 1447, 1447: 1448, 1448: 1449, 1449: 1450, 1450: 1451, 1451: 1452, 1452: 1453, 1453: 1454, 1454: 1455, 1455: 1456, 1456: 1457, 1457: 1458, 1458: 1459, 1459: 1460, 1460: 1461, 1461: 1462, 1462: 1463, 1463: 1464, 1464: 1465, 1465: 1466, 1466: 1467, 1467: 1468, 1468: 1469, 1469: 1470, 1470: 1471, 1471: 1472, 1472: 1473, 1473: 1474, 1474: 1475, 1475: 1476, 1476: 1477, 1477: 1478, 1478: 1479, 1479: 1480, 1480: 1481, 1481: 1482, 1482: 1483, 1483: 1484, 1484: 1485, 1485: 1486, 1486: 1487, 1487: 1488, 1488: 1489, 1489: 1490, 1490: 1491, 1491: 1492, 1492: 1493, 1493: 1494, 1494: 1495, 1495: 1496, 1496: 1497, 1497: 1498, 1498: 1499, 1499: 1500, 1500: 1501, 1501: 1502, 1502: 1503, 1503: 1504, 1504: 1505, 1505: 1506, 1506: 1507, 1507: 1508, 1508: 1509, 1509: 1510, 1510: 1511, 1511: 1512, 1512: 1513, 1513: 1514, 1514: 1515, 1515: 1516, 1516: 1517, 1517: 1518, 1518: 1519, 1519: 1520, 1520: 1521, 1521: 1522, 1522: 1523, 1523: 1524, 1524: 1525, 1525: 1526, 1526: 1527, 1527: 1528, 1528: 1529, 1529: 1530, 1530: 1531, 1531: 1532, 1532: 1533, 1533: 1534, 1534: 1535, 1535: 1536, 1536: 1537, 1537: 1538, 1538: 1539, 1539: 1540, 1540: 1541, 1541: 1542, 1542: 1543, 1543: 1544, 1544: 1545, 1545: 1546, 1546: 1547, 1547: 1548, 1548: 1549, 1549: 1550, 1550: 1551, 1551: 1552, 1552: 1553, 1553: 1554, 1554: 1555, 1555: 1556, 1556: 1557, 1557: 1558, 1558: 1559, 1559: 1560, 1560: 1561, 1561: 1562, 1562: 1563, 1563: 1564, 1564: 1565, 1565: 1566, 1566: 1567, 1567: 1568, 1568: 1569, 1569: 1570, 1570: 1571, 1571: 1572, 1572: 1573, 1573: 1574, 1574: 1575, 1575: 1576, 1576: 1577, 1577: 1578, 1578: 1579, 1579: 1580, 1580: 1581, 1581: 1582, 1582: 1583, 1583: 1584, 1584: 1585, 1585: 1586, 1586: 1587, 1587: 1588, 1588: 1589, 1589: 1590, 1590: 1591, 1591: 1592, 1592: 1593, 1593: 1594, 1594: 1595, 1595: 1596, 1596: 1597, 1597: 1598, 1598: 1599, 1599: 1600, 1600: 1601, 1601: 1602, 1602: 1603, 1603: 1604, 1604: 1605, 1605: 1606, 1606: 1607, 1607: 1608, 1608: 1609, 1609: 1610, 1610: 1611, 1611: 1612, 1612: 1613, 1613: 1614, 1614: 1615, 1615: 1616, 1616: 1617, 1617: 1618, 1618: 1619, 1619: 1620, 1620: 1621, 1621: 1622, 1622: 1623, 1623: 1624, 1624: 1625, 1625: 1626, 1626: 1627, 1627: 1628, 1628: 1629, 1629: 1630, 1630: 1631, 1631: 1632, 1632: 1633, 1633: 1634, 1634: 1635, 1635: 1636, 1636: 1637, 1637: 1638, 1638: 1639, 1639: 1640, 1640: 1641, 1641: 1642, 1642: 1643, 1643: 1644, 1644: 1645, 1645: 1646, 1646: 1647, 1647: 1648, 1648: 1649, 1649: 1650, 1650: 1651, 1651: 1652, 1652: 1653, 1653: 1654, 1654: 1655, 1655: 1656, 1656: 1657, 1657: 1658, 1658: 1659, 1659: 1660, 1660: 1661, 1661: 1662, 1662: 1663, 1663: 1664, 1664: 1665, 1665: 1666, 1666: 1667, 1667: 1668, 1668: 1669, 1669: 1670, 1670: 1671, 1671: 1672, 1672: 1673, 1673: 1674, 1674: 1675, 1675: 1676, 1676: 1677, 1677: 1678, 1678: 1679, 1679: 1680, 1680: 1681, 1681: 1682, 1682: 1683, 1683: 1684, 1684: 1685, 1685: 1686, 1686: 1687, 1687: 1688, 1688: 1689, 1689: 1690, 1690: 1691, 1691: 1692, 1692: 1693, 1693: 1694, 1694: 1695, 1695: 1696, 1696: 1697, 1697: 1698, 1698: 1699, 1699: 1700, 1700: 1701, 1701: 1702, 1702: 1703, 1703: 1704, 1704: 1705, 1705: 1706, 1706: 1707, 1707: 1708, 1708: 1709, 1709: 1710, 1710: 1711, 1711: 1712, 1712: 1713, 1713: 1714, 1714: 1715, 1715: 1716, 1716: 1717, 1717: 1718, 1718: 1719, 1719: 1720, 1720: 1721, 1721: 1722, 1722: 1723, 1723: 1724, 1724: 1725, 1725: 1726, 1726: 1727, 1727: 1728, 1728: 1729, 1729: 1730, 1730: 1731, 1731: 1732, 1732: 1733, 1733: 1734, 1734: 1735, 1735: 1736, 1736: 1737, 1737: 1738, 1738: 1739, 1739: 1740, 1740: 1741, 1741: 1742, 1742: 1743, 1743: 1744, 1744: 1745, 1745: 1746, 1746: 1747, 1747: 1748, 1748: 1749, 1749: 1750, 1750: 1751, 1751: 1752, 1752: 1753, 1753: 1754, 1754: 1755, 1755: 1756, 1756: 1757, 1757: 1758, 1758: 1759, 1759: 1760, 1760: 1761, 1761: 1762, 1762: 1763, 1763: 1764, 1764: 1765, 1765: 1766, 1766: 1767, 1767: 1768, 1768: 1769, 1769: 1770, 1770: 1771, 1771: 1772, 1772: 1773, 1773: 1774, 1774: 1775, 1775: 1776, 1776: 1777, 1777: 1778, 1778: 1779, 1779: 1780, 1780: 1781, 1781: 1782, 1782: 1783, 1783: 1784, 1784: 1785, 1785: 1786, 1786: 1787, 1787: 1788, 1788: 1789, 1789: 1790, 1790: 1791, 1791: 1792, 1792: 1793, 1793: 1794, 1794: 1795, 1795: 1796, 1796: 1797, 1797: 1798, 1798: 1799, 1799: 1800, 1800: 1801, 1801: 1802, 1802: 1803, 1803: 1804, 1804: 1805, 1805: 1806, 1806: 1807, 1807: 1808, 1808: 1809, 1809: 1810, 1810: 1811, 1811: 1812, 1812: 1813, 1813: 1814, 1814: 1815, 1815: 1816, 1816: 1817, 1817: 1818, 1818: 1819, 1819: 1820, 1820: 1821, 1821: 1822, 1822: 1823, 1823: 1824, 1824: 1825, 1825: 1826, 1826: 1827, 1827: 1828, 1828: 1829, 1829: 1830, 1830: 1831, 1831: 1832, 1832: 1833, 1833: 1834, 1834: 1835, 1835: 1836, 1836: 1837, 1837: 1838, 1838: 1839, 1839: 1840, 1840: 1841, 1841: 1842, 1842: 1843, 1843: 1844, 1844: 1845, 1845: 1846, 1846: 1847, 1847: 1848, 1848: 1849, 1849: 1850, 1850: 1851, 1851: 1852, 1852: 1853, 1853: 1854, 1854: 1855, 1855: 1856, 1856: 1857, 1857: 1858, 1858: 1859, 1859: 1860, 1860: 1861, 1861: 1862, 1862: 1863, 1863: 1864, 1864: 1865, 1865: 1866, 1866: 1867, 1867: 1868, 1868: 1869, 1869: 1870, 1870: 1871, 1871: 1872, 1872: 1873, 1873: 1874, 1874: 1875, 1875: 1876, 1876: 1877, 1877: 1878, 1878: 1879, 1879: 1880, 1880: 1881, 1881: 1882, 1882: 1883, 1883: 1884, 1884: 1885, 1885: 1886, 1886: 1887, 1887: 1888, 1888: 1889, 1889: 1890, 1890: 1891, 1891: 1892, 1892: 1893, 1893: 1894, 1894: 1895, 1895: 1896, 1896: 1897, 1897: 1898, 1898: 1899, 1899: 1900, 1900: 1901, 1901: 1902, 1902: 1903, 1903: 1904, 1904: 1905, 1905: 1906, 1906: 1907, 1907: 1908, 1908: 1909, 1909: 1910, 1910: 1911, 1911: 1912, 1912: 1913, 1913: 1914, 1914: 1915, 1915: 1916, 1916: 1917, 1917: 1918, 1918: 1919, 1919: 1920, 1920: 1921, 1921: 1922, 1922: 1923, 1923: 1924, 1924: 1925, 1925: 1926, 1926: 1927, 1927: 1928, 1928: 1929, 1929: 1930, 1930: 1931, 1931: 1932, 1932: 1933, 1933: 1934, 1934: 1935, 1935: 1936, 1936: 1937, 1937: 1938, 1938: 1939, 1939: 1940, 1940: 1941, 1941: 1942, 1942: 1943, 1943: 1944, 1944: 1945, 1945: 1946, 1946: 1947, 1947: 1948, 1948: 1949, 1949: 1950, 1950: 1951, 1951: 1952, 1952: 1953, 1953: 1954, 1954: 1955, 1955: 1956, 1956: 1957, 1957: 1958, 1958: 1959, 1959: 1960, 1960: 1961, 1961: 1962, 1962: 1963, 1963: 1964, 1964: 1965, 1965: 1966, 1966: 1967, 1967: 1968, 1968: 1969, 1969: 1970, 1970: 1971, 1971: 1972, 1972: 1973, 1973: 1974, 1974: 1975, 1975: 1976, 1976: 1977, 1977: 1978, 1978: 1979, 1979: 1980, 1980: 1981, 1981: 1982, 1982: 1983, 1983: 1984, 1984: 1985, 1985: 1986, 1986: 1987, 1987: 1988, 1988: 1989, 1989: 1990, 1990: 1991, 1991: 1992, 1992: 1993, 1993: 1994, 1994: 1995, 1995: 1996, 1996: 1997, 1997: 1998, 1998: 1999, 1999: 2000, 2000: 2001, 2001: 2002, 2002: 2003, 2003: 2004, 2004: 2005, 2005: 2006, 2006: 2007, 2007: 2008, 2008: 2009, 2009: 2010, 2010: 2011, 2011: 2012, 2012: 2013, 2013: 2014, 2014: 2015, 2015: 2016, 2016: 2017, 2017: 2018, 2018: 2019, 2019: 2020, 2020: 2021, 2021: 2022, 2022: 2023, 2023: 2024, 2024: 2025, 2025: 2026, 2026: 2027, 2027: 2028, 2028: 2029, 2029: 2030, 2030: 2031, 2031: 2032, 2032: 2033, 2033: 2034, 2034: 2035, 2035: 2036, 2036: 2037, 2037: 2038, 2038: 2039, 2039: 2040, 2040: 2041, 2041: 2042, 2042: 2043, 2043: 2044, 2044: 2045, 2045: 2046, 2046: 2047, 2047: 2048, 2048: 2049, 2049: 2050, 2050: 2051, 2051: 2052, 2052: 2053, 2053: 2054, 2054: 2055, 2055: 2056, 2056: 2057, 2057: 2058, 2058: 2059, 2059: 2060, 2060: 2061, 2061: 2062, 2062: 2063, 2063: 2064, 2064: 2065, 2065: 2066, 2066: 2067, 2067: 2068, 2068: 2069, 2069: 2070, 2070: 2071, 2071: 2072, 2072: 2073, 2073: 2074, 2074: 2075, 2075: 2076, 2076: 2077, 2077: 2078, 2078: 2079, 2079: 2080, 2080: 2081, 2081: 2082, 2082: 2083, 2083: 2084, 2084: 2085, 2085: 2086, 2086: 2087, 2087: 2088, 2088: 2089, 2089: 2090, 2090: 2091, 2091: 2092, 2092: 2093, 2093: 2094, 2094: 2095, 2095: 2096, 2096: 2097, 2097: 2098, 2098: 2099, 2099: 2100, 2100: 2101, 2101: 2102, 2102: 2103, 2103: 2104, 2104: 2105, 2105: 2106, 2106: 2107, 2107: 2108, 2108: 2109, 2109: 2110, 2110: 2111, 2111: 2112, 2112: 2113, 2113: 2114, 2114: 2115, 2115: 2116, 2116: 2117, 2117: 2118, 2118: 2119, 2119: 2120, 2120: 2121, 2121: 2122, 2122: 2123, 2123: 2124, 2124: 2125, 2125: 2126, 2126: 2127, 2127: 2128, 2128: 2129, 2129: 2130, 2130: 2131, 2131: 2132, 2132: 2133, 2133: 2134, 2134: 2135, 2135: 2136, 2136: 2137, 2137: 2138, 2138: 2139, 2139: 2140, 2140: 2141, 2141: 2142, 2142: 2143, 2143: 2144, 2144: 2145, 2145: 2146, 2146: 2147, 2147: 2148, 2148: 2149, 2149: 2150, 2150: 2151, 2151: 2152, 2152: 2153, 2153: 2154, 2154: 2155, 2155: 2156, 2156: 2157, 2157: 2158, 2158: 2159, 2159: 2160, 2160: 2161, 2161: 2162, 2162: 2163, 2163: 2164, 2164: 2165, 2165: 2166, 2166: 2167, 2167: 2168, 2168: 2169, 2169: 2170, 2170: 2171, 2171: 2172, 2172: 2173, 2173: 2174, 2174: 2175, 2175: 2176, 2176: 2177, 2177: 2178, 2178: 2179, 2179: 2180, 2180: 2181, 2181: 2182, 2182: 2183, 2183: 2184, 2184: 2185, 2185: 2186, 2186: 2187, 2187: 2188, 2188: 2189, 2189: 2190, 2190: 2191, 2191: 2192, 2192: 2193, 2193: 2194, 2194: 2195, 2195: 2196, 2196: 2197, 2197: 2198, 2198: 2199, 2199: 2200, 2200: 2201, 2201: 2202, 2202: 2203, 2203: 2204, 2204: 2205, 2205: 2206, 2206: 2207, 2207: 2208, 2208: 2209, 2209: 2210, 2210: 2211, 2211: 2212, 2212: 2213, 2213: 2214, 2214: 2215, 2215: 2216, 2216: 2217, 2217: 2218, 2218: 2219, 2219: 2220, 2220: 2221, 2221: 2222, 2222: 2223, 2223: 2224, 2224: 2225, 2225: 2226, 2226: 2227, 2227: 2228, 2228: 2229, 2229: 2230, 2230: 2231, 2231: 2232, 2232: 2233, 2233: 2234, 2234: 2235, 2235: 2236, 2236: 2237, 2237: 2238, 2238: 2239, 2239: 2240, 2240: 2241, 2241: 2242, 2242: 2243, 2243: 2244, 2244: 2245, 2245: 2246, 2246: 2247, 2247: 2248, 2248: 2249, 2249: 2250, 2250: 2251, 2251: 2252, 2252: 2253, 2253: 2254, 2254: 2255, 2255: 2256, 2256: 2257, 2257: 2258, 2258: 2259, 2259: 2260, 2260: 2261, 2261: 2262, 2262: 2263, 2263: 2264, 2264: 2265, 2265: 2266, 2266: 2267, 2267: 2268, 2268: 2269, 2269: 2270, 2270: 2271, 2271: 2272, 2272: 2273, 2273: 2274, 2274: 2275, 2275: 2276, 2276: 2277, 2277: 2278, 2278: 2279, 2279: 2280, 2280: 2281, 2281: 2282, 2282: 2283, 2283: 2284, 2284: 2285, 2285: 2286, 2286: 2287, 2287: 2288, 2288: 2289, 2289: 2290, 2290: 2291, 2291: 2292, 2292: 2293, 2293: 2294, 2294: 2295, 2295: 2296, 2296: 2297, 2297: 2298, 2298: 2299, 2299: 2300, 2300: 2301, 2301: 2302, 2302: 2303, 2303: 2304, 2304: 2305, 2305: 2306, 2306: 2307, 2307: 2308, 2308: 2309, 2309: 2310, 2310: 2311, 2311: 2312, 2312: 2313, 2313: 2314, 2314: 2315, 2315: 2316, 2316: 2317, 2317: 2318, 2318: 2319, 2319: 2320, 2320: 2321, 2321: 2322, 2322: 2323, 2323: 2324, 2324: 2325, 2325: 2326, 2326: 2327, 2327: 2328, 2328: 2329, 2329: 2330, 2330: 2331, 2331: 2332, 2332: 2333, 2333: 2334, 2334: 2335, 2335: 2336, 2336: 2337, 2337: 2338, 2338: 2339, 2339: 2340, 2340: 2341, 2341: 2342, 2342: 2343, 2343: 2344, 2344: 2345, 2345: 2346, 2346: 2347, 2347: 2348, 2348: 2349, 2349: 2350, 2350: 2351, 2351: 2352, 2352: 2353, 2353: 2354, 2354: 2355, 2355: 2356, 2356: 2357, 2357: 2358, 2358: 2359, 2359: 2360, 2360: 2361, 2361: 2362, 2362: 2363, 2363: 2364, 2364: 2365, 2365: 2366, 2366: 2367, 2367: 2368, 2368: 2369, 2369: 2370, 2370: 2371, 2371: 2372, 2372: 2373, 2373: 2374, 2374: 2375, 2375: 2376, 2376: 2377, 2377: 2378, 2378: 2379, 2379: 2380, 2380: 2381, 2381: 2382, 2382: 2383, 2383: 2384, 2384: 2385, 2385: 2386, 2386: 2387, 2387: 2388, 2388: 2389, 2389: 2390, 2390: 2391, 2391: 2392, 2392: 2393, 2393: 2394, 2394: 2395, 2395: 2396, 2396: 2397, 2397: 2398, 2398: 2399, 2399: 2400, 2400: 2401, 2401: 2402, 2402: 2403, 2403: 2404, 2404: 2405, 2405: 2406, 2406: 2407, 2407: 2408, 2408: 2409, 2409: 2410, 2410: 2411, 2411: 2412, 2412: 2413, 2413: 2414, 2414: 2415, 2415: 2416, 2416: 2417, 2417: 2418, 2418: 2419, 2419: 2420, 2420: 2421, 2421: 2422, 2422: 2423, 2423: 2424, 2424: 2425, 2425: 2426, 2426: 2427, 2427: 2428, 2428: 2429, 2429: 2430, 2430: 2431, 2431: 2432, 2432: 2433, 2433: 2434, 2434: 2435, 2435: 2436, 2436: 2437, 2437: 2438, 2438: 2439, 2439: 2440, 2440: 2441, 2441: 2442, 2442: 2443, 2443: 2444, 2444: 2445, 2445: 2446, 2446: 2447, 2447: 2448, 2448: 2449, 2449: 2450, 2450: 2451, 2451: 2452, 2452: 2453, 2453: 2454, 2454: 2455, 2455: 2456, 2456: 2457, 2457: 2458, 2458: 2459, 2459: 2460, 2460: 2461, 2461: 2462, 2462: 2463, 2463: 2464, 2464: 2465, 2465: 2466, 2466: 2467, 2467: 2468, 2468: 2469, 2469: 2470, 2470: 2471, 2471: 2472, 2472: 2473, 2473: 2474, 2474: 2475, 2475: 2476, 2476: 2477, 2477: 2478, 2478: 2479, 2479: 2480, 2480: 2481, 2481: 2482, 2482: 2483, 2483: 2484, 2484: 2485, 2485: 2486, 2486: 2487, 2487: 2488, 2488: 2489, 2489: 2490, 2490: 2491, 2491: 2492, 2492: 2493, 2493: 2494, 2494: 2495, 2495: 2496, 2496: 2497, 2497: 2498, 2498: 2499, 2499: 2500, 2500: 2501, 2501: 2502, 2502: 2503, 2503: 2504, 2504: 2505, 2505: 2506, 2506: 2507, 2507: 2508, 2508: 2509, 2509: 2510, 2510: 2511, 2511: 2512, 2512: 2513, 2513: 2514, 2514: 2515, 2515: 2516, 2516: 2517, 2517: 2518, 2518: 2519, 2519: 2520, 2520: 2521, 2521: 2522, 2522: 2523, 2523: 2524, 2524: 2525, 2525: 2526, 2526: 2527, 2527: 2528, 2528: 2529, 2529: 2530, 2530: 2531, 2531: 2532, 2532: 2533, 2533: 2534, 2534: 2535, 2535: 2536, 2536: 2537, 2537: 2538, 2538: 2539, 2539: 2540, 2540: 2541, 2541: 2542, 2542: 2543, 2543: 2544, 2544: 2545, 2545: 2546, 2546: 2547, 2547: 2548, 2548: 2549, 2549: 2550, 2550: 2551, 2551: 2552, 2552: 2553, 2553: 2554, 2554: 2555, 2555: 2556, 2556: 2557, 2557: 2558, 2558: 2559, 2559: 2560, 2560: 2561, 2561: 2562, 2562: 2563, 2563: 2564, 2564: 2565, 2565: 2566, 2566: 2567, 2567: 2568, 2568: 2569, 2569: 2570, 2570: 2571, 2571: 2572, 2572: 2573, 2573: 2574, 2574: 2575, 2575: 2576, 2576: 2577, 2577: 2578, 2578: 2579, 2579: 2580, 2580: 2581, 2581: 2582, 2582: 2583, 2583: 2584, 2584: 2585, 2585: 2586, 2586: 2587, 2587: 2588, 2588: 2589, 2589: 2590, 2590: 2591, 2591: 2592, 2592: 2593, 2593: 2594, 2594: 2595, 2595: 2596, 2596: 2597, 2597: 2598, 2598: 2599, 2599: 2600, 2600: 2601, 2601: 2602, 2602: 2603, 2603: 2604, 2604: 2605, 2605: 2606, 2606: 2607, 2607: 2608, 2608: 2609, 2609: 2610, 2610: 2611, 2611: 2612, 2612: 2613, 2613: 2614, 2614: 2615, 2615: 2616, 2616: 2617, 2617: 2618, 2618: 2619, 2619: 2620, 2620: 2621, 2621: 2622, 2622: 2623, 2623: 2624, 2624: 2625, 2625: 2626, 2626: 2627, 2627: 2628, 2628: 2629, 2629: 2630, 2630: 2631, 2631: 2632, 2632: 2633, 2633: 2634, 2634: 2635, 2635: 2636, 2636: 2637, 2637: 2638, 2638: 2639, 2639: 2640, 2640: 2641, 2641: 2642, 2642: 2643, 2643: 2644, 2644: 2645, 2645: 2646, 2646: 2647, 2647: 2648, 2648: 2649, 2649: 2650, 2650: 2651, 2651: 2652, 2652: 2653, 2653: 2654, 2654: 2655, 2655: 2656, 2656: 2657, 2657: 2658, 2658: 2659, 2659: 2660, 2660: 2661, 2661: 2662, 2662: 2663, 2663: 2664, 2664: 2665, 2665: 2666, 2666: 2667, 2667: 2668, 2668: 2669, 2669: 2670, 2670: 2671, 2671: 2672, 2672: 2673, 2673: 2674, 2674: 2675, 2675: 2676, 2676: 2677, 2677: 2678, 2678: 2679, 2679: 2680, 2680: 2681, 2681: 2682, 2682: 2683, 2683: 2684, 2684: 2685, 2685: 2686, 2686: 2687, 2687: 2688, 2688: 2689, 2689: 2690, 2690: 2691, 2691: 2692, 2692: 2693, 2693: 2694, 2694: 2695, 2695: 2696, 2696: 2697, 2697: 2698, 2698: 2699, 2699: 2700, 2700: 2701, 2701: 2702, 2702: 2703, 2703: 2704, 2704: 2705, 2705: 2706, 2706: 2707, 2707: 2708, 2708: 2709, 2709: 2710, 2710: 2711, 2711: 2712, 2712: 2713, 2713: 2714, 2714: 2715, 2715: 2716, 2716: 2717, 2717: 2718, 2718: 2719, 2719: 2720, 2720: 2721, 2721: 2722, 2722: 2723, 2723: 2724, 2724: 2725, 2725: 2726, 2726: 2727, 2727: 2728, 2728: 2729, 2729: 2730, 2730: 2731, 2731: 2732, 2732: 2733, 2733: 2734, 2734: 2735, 2735: 2736, 2736: 2737, 2737: 2738, 2738: 2739, 2739: 2740, 2740: 2741, 2741: 2742, 2742: 2743, 2743: 2744, 2744: 2745, 2745: 2746, 2746: 2747, 2747: 2748, 2748: 2749, 2749: 2750, 2750: 2751, 2751: 2752, 2752: 2753, 2753: 2754, 2754: 2755, 2755: 2756, 2756: 2757, 2757: 2758, 2758: 2759, 2759: 2760, 2760: 2761, 2761: 2762, 2762: 2763, 2763: 2764, 2764: 2765, 2765: 2766, 2766: 2767, 2767: 2768, 2768: 2769, 2769: 2770, 2770: 2771, 2771: 2772, 2772: 2773, 2773: 2774, 2774: 2775, 2775: 2776, 2776: 2777, 2777: 2778, 2778: 2779, 2779: 2780, 2780: 2781, 2781: 2782, 2782: 2783, 2783: 2784, 2784: 2785, 2785: 2786, 2786: 2787, 2787: 2788, 2788: 2789, 2789: 2790, 2790: 2791, 2791: 2792, 2792: 2793, 2793: 2794, 2794: 2795, 2795: 2796, 2796: 2797, 2797: 2798, 2798: 2799, 2799: 2800, 2800: 2801, 2801: 2802, 2802: 2803, 2803: 2804, 2804: 2805, 2805: 2806, 2806: 2807, 2807: 2808, 2808: 2809, 2809: 2810, 2810: 2811, 2811: 2812, 2812: 2813, 2813: 2814, 2814: 2815, 2815: 2816, 2816: 2817, 2817: 2818, 2818: 2819, 2819: 2820, 2820: 2821, 2821: 2822, 2822: 2823, 2823: 2824, 2824: 2825, 2825: 2826, 2826: 2827, 2827: 2828, 2828: 2829, 2829: 2830, 2830: 2831, 2831: 2832, 2832: 2833, 2833: 2834, 2834: 2835, 2835: 2836, 2836: 2837, 2837: 2838, 2838: 2839, 2839: 2840, 2840: 2841, 2841: 2842, 2842: 2843, 2843: 2844, 2844: 2845, 2845: 2846, 2846: 2847, 2847: 2848, 2848: 2849, 2849: 2850, 2850: 2851, 2851: 2852, 2852: 2853, 2853: 2854, 2854: 2855, 2855: 2856, 2856: 2857, 2857: 2858, 2858: 2859, 2859: 2860, 2860: 2861, 2861: 2862, 2862: 2863, 2863: 2864, 2864: 2865, 2865: 2866, 2866: 2867, 2867: 2868, 2868: 2869, 2869: 2870, 2870: 2871, 2871: 2872, 2872: 2873, 2873: 2874, 2874: 2875, 2875: 2876, 2876: 2877, 2877: 2878, 2878: 2879, 2879: 2880, 2880: 2881, 2881: 2882, 2882: 2883, 2883: 2884, 2884: 2885, 2885: 2886, 2886: 2887, 2887: 2888, 2888: 2889, 2889: 2890, 2890: 2891, 2891: 2892, 2892: 2893, 2893: 2894, 2894: 2895, 2895: 2896, 2896: 2897, 2897: 2898, 2898: 2899, 2899: 2900, 2900: 2901, 2901: 2902, 2902: 2903, 2903: 2904, 2904: 2905, 2905: 2906, 2906: 2907, 2907: 2908, 2908: 2909, 2909: 2910, 2910: 2911, 2911: 2912, 2912: 2913, 2913: 2914, 2914: 2915, 2915: 2916, 2916: 2917, 2917: 2918, 2918: 2919, 2919: 2920, 2920: 2921, 2921: 2922, 2922: 2923, 2923: 2924, 2924: 2925, 2925: 2926, 2926: 2927, 2927: 2928, 2928: 2929, 2929: 2930, 2930: 2931, 2931: 2932, 2932: 2933, 2933: 2934, 2934: 2935, 2935: 2936, 2936: 2937, 2937: 2938, 2938: 2939, 2939: 2940, 2940: 2941, 2941: 2942, 2942: 2943, 2943: 2944, 2944: 2945, 2945: 2946, 2946: 2947, 2947: 2948, 2948: 2949, 2949: 2950, 2950: 2951, 2951: 2952, 2952: 2953, 2953: 2954, 2954: 2955, 2955: 2956, 2956: 2957, 2957: 2958, 2958: 2959, 2959: 2960, 2960: 2961, 2961: 2962, 2962: 2963, 2963: 2964, 2964: 2965, 2965: 2966, 2966: 2967, 2967: 2968, 2968: 2969, 2969: 2970, 2970: 2971, 2971: 2972, 2972: 2973, 2973: 2974, 2974: 2975, 2975: 2976, 2976: 2977, 2977: 2978, 2978: 2979, 2979: 2980, 2980: 2981, 2981: 2982, 2982: 2983, 2983: 2984, 2984: 2985, 2985: 2986, 2986: 2987, 2987: 2988, 2988: 2989, 2989: 2990, 2990: 2991, 2991: 2992, 2992: 2993, 2993: 2994, 2994: 2995, 2995: 2996, 2996: 2997, 2997: 2998, 2998: 2999, 2999: 3000, 3000: 3001, 3001: 3002, 3002: 3003, 3003: 3004, 3004: 3005, 3005: 3006, 3006: 3007, 3007: 3008, 3008: 3009, 3009: 3010, 3010: 3011, 3011: 3012, 3012: 3013, 3013: 3014, 3014: 3015, 3015: 3016, 3016: 3017, 3017: 3018, 3018: 3019, 3019: 3020, 3020: 3021, 3021: 3022, 3022: 3023, 3023: 3024, 3024: 3025, 3025: 3026, 3026: 3027, 3027: 3028, 3028: 3029, 3029: 3030, 3030: 3031, 3031: 3032, 3032: 3033, 3033: 3034, 3034: 3035, 3035: 3036, 3036: 3037, 3037: 3038, 3038: 3039, 3039: 3040, 3040: 3041, 3041: 3042, 3042: 3043, 3043: 3044, 3044: 3045, 3045: 3046, 3046: 3047, 3047: 3048, 3048: 3049, 3049: 3050, 3050: 3051, 3051: 3052, 3052: 3053, 3053: 3054, 3054: 3055, 3055: 3056, 3056: 3057, 3057: 3058, 3058: 3059, 3059: 3060, 3060: 3061, 3061: 3062, 3062: 3063, 3063: 3064, 3064: 3065, 3065: 3066, 3066: 3067, 3067: 3068, 3068: 3069, 3069: 3070, 3070: 3071, 3071: 3072, 3072: 3073, 3073: 3074, 3074: 3075, 3075: 3076, 3076: 3077, 3077: 3078, 3078: 3079, 3079: 3080, 3080: 3081, 3081: 3082, 3082: 3083, 3083: 3084, 3084: 3085, 3085: 3086, 3086: 3087, 3087: 3088, 3088: 3089, 3089: 3090, 3090: 3091, 3091: 3092, 3092: 3093, 3093: 3094, 3094: 3095, 3095: 3096, 3096: 3097, 3097: 3098, 3098: 3099, 3099: 3100, 3100: 3101, 3101: 3102, 3102: 3103, 3103: 3104, 3104: 3105, 3105: 3106, 3106: 3107, 3107: 3108, 3108: 3109, 3109: 3110, 3110: 3111, 3111: 3112, 3112: 3113, 3113: 3114, 3114: 3115, 3115: 3116, 3116: 3117, 3117: 3118, 3118: 3119, 3119: 3120, 3120: 3121, 3121: 3122, 3122: 3123, 3123: 3124, 3124: 3125, 3125: 3126, 3126: 3127, 3127: 3128, 3128: 3129, 3129: 3130, 3130: 3131, 3131: 3132, 3132: 3133, 3133: 3134, 3134: 3135, 3135: 3136, 3136: 3137, 3137: 3138, 3138: 3139, 3139: 3140, 3140: 3141, 3141: 3142, 3142: 3143, 3143: 3144, 3144: 3145, 3145: 3146, 3146: 3147, 3147: 3148, 3148: 3149, 3149: 3150, 3150: 3151, 3151: 3152, 3152: 3153, 3153: 3154, 3154: 3155, 3155: 3156, 3156: 3157, 3157: 3158, 3158: 3159, 3159: 3160, 3160: 3161, 3161: 3162, 3162: 3163, 3163: 3164, 3164: 3165, 3165: 3166, 3166: 3167, 3167: 3168, 3168: 3169, 3169: 3170, 3170: 3171, 3171: 3172, 3172: 3173, 3173: 3174, 3174: 3175, 3175: 3176, 3176: 3177, 3177: 3178, 3178: 3179, 3179: 3180, 3180: 3181, 3181: 3182, 3182: 3183, 3183: 3184, 3184: 3185, 3185: 3186, 3186: 3187, 3187: 3188, 3188: 3189, 3189: 3190, 3190: 3191, 3191: 3192, 3192: 3193, 3193: 3194, 3194: 3195, 3195: 3196, 3196: 3197, 3197: 3198, 3198: 3199, 3199: 3200, 3200: 3201, 3201: 3202, 3202: 3203, 3203: 3204, 3204: 3205, 3205: 3206, 3206: 3207, 3207: 3208, 3208: 3209, 3209: 3210, 3210: 3211, 3211: 3212, 3212: 3213, 3213: 3214, 3214: 3215, 3215: 3216, 3216: 3217, 3217: 3218, 3218: 3219, 3219: 3220, 3220: 3221, 3221: 3222, 3222: 3223, 3223: 3224, 3224: 3225, 3225: 3226, 3226: 3227, 3227: 3228, 3228: 3229, 3229: 3230, 3230: 3231, 3231: 3232, 3232: 3233, 3233: 3234, 3234: 3235, 3235: 3236, 3236: 3237, 3237: 3238, 3238: 3239, 3239: 3240, 3240: 3241, 3241: 3242, 3242: 3243, 3243: 3244, 3244: 3245, 3245: 3246, 3246: 3247, 3247: 3248, 3248: 3249, 3249: 3250, 3250: 3251, 3251: 3252, 3252: 3253, 3253: 3254, 3254: 3255, 3255: 3256, 3256: 3257, 3257: 3258, 3258: 3259, 3259: 3260, 3260: 3261, 3261: 3262, 3262: 3263, 3263: 3264, 3264: 3265, 3265: 3266, 3266: 3267, 3267: 3268, 3268: 3269, 3269: 3270, 3270: 3271, 3271: 3272, 3272: 3273, 3273: 3274, 3274: 3275, 3275: 3276, 3276: 3277, 3277: 3278, 3278: 3279, 3279: 3280, 3280: 3281, 3281: 3282, 3282: 3283, 3283: 3284, 3284: 3285, 3285: 3286, 3286: 3287, 3287: 3288, 3288: 3289, 3289: 3290, 3290: 3291, 3291: 3292, 3292: 3293, 3293: 3294, 3294: 3295, 3295: 3296, 3296: 3297, 3297: 3298, 3298: 3299, 3299: 3300, 3300: 3301, 3301: 3302, 3302: 3303, 3303: 3304, 3304: 3305, 3305: 3306, 3306: 3307, 3307: 3308, 3308: 3309, 3309: 3310, 3310: 3311, 3311: 3312, 3312: 3313, 3313: 3314, 3314: 3315, 3315: 3316, 3316: 3317, 3317: 3318, 3318: 3319, 3319: 3320, 3320: 3321, 3321: 3322, 3322: 3323, 3323: 3324, 3324: 3325, 3325: 3326, 3326: 3327, 3327: 3328, 3328: 3329, 3329: 3330, 3330: 3331, 3331: 3332, 3332: 3333, 3333: 3334, 3334: 3335, 3335: 3336, 3336: 3337, 3337: 3338, 3338: 3339, 3339: 3340, 3340: 3341, 3341: 3342, 3342: 3343, 3343: 3344, 3344: 3345, 3345: 3346, 3346: 3347, 3347: 3348, 3348: 3349, 3349: 3350, 3350: 3351, 3351: 3352, 3352: 3353, 3353: 3354, 3354: 3355, 3355: 3356, 3356: 3357, 3357: 3358, 3358: 3359, 3359: 3360, 3360: 3361, 3361: 3362, 3362: 3363, 3363: 3364, 3364: 3365, 3365: 3366, 3366: 3367, 3367: 3368, 3368: 3369, 3369: 3370, 3370: 3371, 3371: 3372, 3372: 3373, 3373: 3374, 3374: 3375, 3375: 3376, 3376: 3377, 3377: 3378, 3378: 3379, 3379: 3380, 3380: 3381, 3381: 3382, 3382: 3383, 3383: 3384, 3384: 3385, 3385: 3386, 3386: 3387, 3387: 3388, 3388: 3389, 3389: 3390, 3390: 3391, 3391: 3392, 3392: 3393, 3393: 3394, 3394: 3395, 3395: 3396, 3396: 3397, 3397: 3398, 3398: 3399, 3399: 3400, 3400: 3401, 3401: 3402, 3402: 3403, 3403: 3404, 3404: 3405, 3405: 3406, 3406: 3407, 3407: 3408, 3408: 3409, 3409: 3410, 3410: 3411, 3411: 3412, 3412: 3413, 3413: 3414, 3414: 3415, 3415: 3416, 3416: 3417, 3417: 3418, 3418: 3419, 3419: 3420, 3420: 3421, 3421: 3422, 3422: 3423, 3423: 3424, 3424: 3425, 3425: 3426, 3426: 3427, 3427: 3428, 3428: 3429, 3429: 3430, 3430: 3431, 3431: 3432, 3432: 3433, 3433: 3434, 3434: 3435, 3435: 3436, 3436: 3437, 3437: 3438, 3438: 3439, 3439: 3440, 3440: 3441, 3441: 3442, 3442: 3443, 3443: 3444, 3444: 3445, 3445: 3446, 3446: 3447, 3447: 3448, 3448: 3449, 3449: 3450, 3450: 3451, 3451: 3452, 3452: 3453, 3453: 3454, 3454: 3455, 3455: 3456, 3456: 3457, 3457: 3458, 3458: 3459, 3459: 3460, 3460: 3461, 3461: 3462, 3462: 3463, 3463: 3464, 3464: 3465, 3465: 3466, 3466: 3467, 3467: 3468, 3468: 3469, 3469: 3470, 3470: 3471, 3471: 3472, 3472: 3473, 3473: 3474, 3474: 3475, 3475: 3476, 3476: 3477, 3477: 3478, 3478: 3479, 3479: 3480, 3480: 3481, 3481: 3482, 3482: 3483, 3483: 3484, 3484: 3485, 3485: 3486, 3486: 3487, 3487: 3488, 3488: 3489, 3489: 3490, 3490: 3491, 3491: 3492, 3492: 3493, 3493: 3494, 3494: 3495, 3495: 3496, 3496: 3497, 3497: 3498, 3498: 3499, 3499: 3500, 3500: 3501, 3501: 3502, 3502: 3503, 3503: 3504, 3504: 3505, 3505: 3506, 3506: 3507, 3507: 3508, 3508: 3509, 3509: 3510, 3510: 3511, 3511: 3512, 3512: 3513, 3513: 3514, 3514: 3515, 3515: 3516, 3516: 3517, 3517: 3518, 3518: 3519, 3519: 3520, 3520: 3521, 3521: 3522, 3522: 3523, 3523: 3524, 3524: 3525, 3525: 3526, 3526: 3527, 3527: 3528, 3528: 3529, 3529: 3530, 3530: 3531, 3531: 3532, 3532: 3533, 3533: 3534, 3534: 3535, 3535: 3536, 3536: 3537, 3537: 3538, 3538: 3539, 3539: 3540, 3540: 3541, 3541: 3542, 3542: 3543, 3543: 3544, 3544: 3545, 3545: 3546, 3546: 3547, 3547: 3548, 3548: 3549, 3549: 3550, 3550: 3551, 3551: 3552, 3552: 3553, 3553: 3554, 3554: 3555, 3555: 3556, 3556: 3557, 3557: 3558, 3558: 3559, 3559: 3560, 3560: 3561, 3561: 3562, 3562: 3563, 3563: 3564, 3564: 3565, 3565: 3566, 3566: 3567, 3567: 3568, 3568: 3569, 3569: 3570, 3570: 3571, 3571: 3572, 3572: 3573, 3573: 3574, 3574: 3575, 3575: 3576, 3576: 3577, 3577: 3578, 3578: 3579, 3579: 3580, 3580: 3581, 3581: 3582, 3582: 3583, 3583: 3584, 3584: 3585, 3585: 3586, 3586: 3587, 3587: 3588, 3588: 3589, 3589: 3590, 3590: 3591, 3591: 3592, 3592: 3593, 3593: 3594, 3594: 3595, 3595: 3596, 3596: 3597, 3597: 3598, 3598: 3599, 3599: 3600, 3600: 3601, 3601: 3602, 3602: 3603, 3603: 3604, 3604: 3605, 3605: 3606, 3606: 3607, 3607: 3608, 3608: 3609, 3609: 3610, 3610: 3611, 3611: 3612, 3612: 3613, 3613: 3614, 3614: 3615, 3615: 3616, 3616: 3617, 3617: 3618, 3618: 3619, 3619: 3620, 3620: 3621, 3621: 3622, 3622: 3623, 3623: 3624, 3624: 3625, 3625: 3626, 3626: 3627, 3627: 3628, 3628: 3629, 3629: 3630, 3630: 3631, 3631: 3632, 3632: 3633, 3633: 3634, 3634: 3635, 3635: 3636, 3636: 3637, 3637: 3638, 3638: 3639, 3639: 3640, 3640: 3641, 3641: 3642, 3642: 3643, 3643: 3644, 3644: 3645, 3645: 3646, 3646: 3647, 3647: 3648, 3648: 3649, 3649: 3650, 3650: 3651, 3651: 3652, 3652: 3653, 3653: 3654, 3654: 3655, 3655: 3656, 3656: 3657, 3657: 3658, 3658: 3659, 3659: 3660, 3660: 3661, 3661: 3662, 3662: 3663, 3663: 3664, 3664: 3665, 3665: 3666, 3666: 3667, 3667: 3668, 3668: 3669, 3669: 3670, 3670: 3671, 3671: 3672, 3672: 3673, 3673: 3674, 3674: 3675, 3675: 3676, 3676: 3677, 3677: 3678, 3678: 3679, 3679: 3680, 3680: 3681, 3681: 3682, 3682: 3683, 3683: 3684, 3684: 3685, 3685: 3686, 3686: 3687, 3687: 3688, 3688: 3689, 3689: 3690, 3690: 3691, 3691: 3692, 3692: 3693, 3693: 3694, 3694: 3695, 3695: 3696, 3696: 3697, 3697: 3698, 3698: 3699, 3699: 3700, 3700: 3701, 3701: 3702, 3702: 3703, 3703: 3704, 3704: 3705, 3705: 3706, 3706: 3707, 3707: 3708, 3708: 3709, 3709: 3710, 3710: 3711, 3711: 3712, 3712: 3713, 3713: 3714, 3714: 3715, 3715: 3716, 3716: 3717, 3717: 3718, 3718: 3719, 3719: 3720, 3720: 3721, 3721: 3722, 3722: 3723, 3723: 3724, 3724: 3725, 3725: 3726, 3726: 3727, 3727: 3728, 3728: 3729, 3729: 3730, 3730: 3731, 3731: 3732, 3732: 3733, 3733: 3734, 3734: 3735, 3735: 3736, 3736: 3737, 3737: 3738, 3738: 3739, 3739: 3740, 3740: 3741, 3741: 3742, 3742: 3743, 3743: 3744, 3744: 3745, 3745: 3746, 3746: 3747, 3747: 3748, 3748: 3749, 3749: 3750, 3750: 3751, 3751: 3752, 3752: 3753, 3753: 3754, 3754: 3755, 3755: 3756, 3756: 3757, 3757: 3758, 3758: 3759, 3759: 3760, 3760: 3761, 3761: 3762, 3762: 3763, 3763: 3764, 3764: 3765, 3765: 3766, 3766: 3767, 3767: 3768, 3768: 3769, 3769: 3770, 3770: 3771, 3771: 3772, 3772: 3773, 3773: 3774, 3774: 3775, 3775: 3776, 3776: 3777, 3777: 3778, 3778: 3779, 3779: 3780, 3780: 3781, 3781: 3782, 3782: 3783, 3783: 3784, 3784: 3785, 3785: 3786, 3786: 3787, 3787: 3788, 3788: 3789, 3789: 3790, 3790: 3791, 3791: 3792, 3792: 3793, 3793: 3794, 3794: 3795, 3795: 3796, 3796: 3797, 3797: 3798, 3798: 3799, 3799: 3800, 3800: 3801, 3801: 3802, 3802: 3803, 3803: 3804, 3804: 3805, 3805: 3806, 3806: 3807, 3807: 3808, 3808: 3809, 3809: 3810, 3810: 3811, 3811: 3812, 3812: 3813, 3813: 3814, 3814: 3815, 3815: 3816, 3816: 3817, 3817: 3818, 3818: 3819, 3819: 3820, 3820: 3821, 3821: 3822, 3822: 3823, 3823: 3824, 3824: 3825, 3825: 3826, 3826: 3827, 3827: 3828, 3828: 3829, 3829: 3830, 3830: 3831, 3831: 3832, 3832: 3833, 3833: 3834, 3834: 3835, 3835: 3836, 3836: 3837, 3837: 3838, 3838: 3839, 3839: 3840, 3840: 3841, 3841: 3842, 3842: 3843, 3843: 3844, 3844: 3845, 3845: 3846, 3846: 3847, 3847: 3848, 3848: 3849, 3849: 3850, 3850: 3851, 3851: 3852, 3852: 3853, 3853: 3854, 3854: 3855, 3855: 3856, 3856: 3857, 3857: 3858, 3858: 3859, 3859: 3860, 3860: 3861, 3861: 3862, 3862: 3863, 3863: 3864, 3864: 3865, 3865: 3866, 3866: 3867, 3867: 3868, 3868: 3869, 3869: 3870, 3870: 3871, 3871: 3872, 3872: 3873, 3873: 3874, 3874: 3875, 3875: 3876, 3876: 3877, 3877: 3878, 3878: 3879, 3879: 3880, 3880: 3881, 3881: 3882, 3882: 3883, 3883: 3884, 3884: 3885, 3885: 3886, 3886: 3887, 3887: 3888, 3888: 3889, 3889: 3890, 3890: 3891, 3891: 3892, 3892: 3893, 3893: 3894, 3894: 3895, 3895: 3896, 3896: 3897, 3897: 3898, 3898: 3899, 3899: 3900, 3900: 3901, 3901: 3902, 3902: 3903, 3903: 3904, 3904: 3905, 3905: 3906, 3906: 3907, 3907: 3908, 3908: 3909, 3909: 3910, 3910: 3911, 3911: 3912, 3912: 3913, 3913: 3914, 3914: 3915, 3915: 3916, 3916: 3917, 3917: 3918, 3918: 3919, 3919: 3920, 3920: 3921, 3921: 3922, 3922: 3923, 3923: 3924, 3924: 3925, 3925: 3926, 3926: 3927, 3927: 3928, 3928: 3929, 3929: 3930, 3930: 3931, 3931: 3932, 3932: 3933, 3933: 3934, 3934: 3935, 3935: 3936, 3936: 3937, 3937: 3938, 3938: 3939, 3939: 3940, 3940: 3941, 3941: 3942, 3942: 3943, 3943: 3944, 3944: 3945, 3945: 3946, 3946: 3947, 3947: 3948, 3948: 3949, 3949: 3950, 3950: 3951, 3951: 3952, 3952: 3953, 3953: 3954, 3954: 3955, 3955: 3956, 3956: 3957, 3957: 3958, 3958: 3959, 3959: 3960, 3960: 3961, 3961: 3962, 3962: 3963, 3963: 3964, 3964: 3965, 3965: 3966, 3966: 3967, 3967: 3968, 3968: 3969, 3969: 3970, 3970: 3971, 3971: 3972, 3972: 3973, 3973: 3974, 3974: 3975, 3975: 3976, 3976: 3977, 3977: 3978, 3978: 3979, 3979: 3980, 3980: 3981, 3981: 3982, 3982: 3983, 3983: 3984, 3984: 3985, 3985: 3986, 3986: 3987, 3987: 3988, 3988: 3989, 3989: 3990, 3990: 3991, 3991: 3992, 3992: 3993, 3993: 3994, 3994: 3995, 3995: 3996, 3996: 3997, 3997: 3998, 3998: 3999, 3999: 4000, 4000: 4001, 4001: 4002, 4002: 4003, 4003: 4004, 4004: 4005, 4005: 4006, 4006: 4007, 4007: 4008, 4008: 4009, 4009: 4010, 4010: 4011, 4011: 4012, 4012: 4013, 4013: 4014, 4014: 4015, 4015: 4016, 4016: 4017, 4017: 4018, 4018: 4019, 4019: 4020, 4020: 4021, 4021: 4022, 4022: 4023, 4023: 4024, 4024: 4025, 4025: 4026, 4026: 4027, 4027: 4028, 4028: 4029, 4029: 4030, 4030: 4031, 4031: 4032, 4032: 4033, 4033: 4034, 4034: 4035, 4035: 4036, 4036: 4037, 4037: 4038, 4038: 4039, 4039: 4040, 4040: 4041, 4041: 4042, 4042: 4043, 4043: 4044, 4044: 4045, 4045: 4046, 4046: 4047, 4047: 4048, 4048: 4049, 4049: 4050, 4050: 4051, 4051: 4052, 4052: 4053, 4053: 4054, 4054: 4055, 4055: 4056, 4056: 4057, 4057: 4058, 4058: 4059, 4059: 4060, 4060: 4061, 4061: 4062, 4062: 4063, 4063: 4064, 4064: 4065, 4065: 4066, 4066: 4067, 4067: 4068, 4068: 4069, 4069: 4070, 4070: 4071, 4071: 4072, 4072: 4073, 4073: 4074, 4074: 4075, 4075: 4076, 4076: 4077, 4077: 4078, 4078: 4079, 4079: 4080, 4080: 4081, 4081: 4082, 4082: 4083, 4083: 4084, 4084: 4085, 4085: 4086, 4086: 4087, 4087: 4088, 4088: 4089, 4089: 4090, 4090: 4091, 4091: 4092, 4092: 4093, 4093: 4094, 4094: 4095, 4095: 4096, 4096: 4097, 4097: 4098, 4098: 4099, 4099: 4100, 4100: 4101, 4101: 4102, 4102: 4103, 4103: 4104, 4104: 4105, 4105: 4106, 4106: 4107, 4107: 4108, 4108: 4109, 4109: 4110, 4110: 4111, 4111: 4112, 4112: 4113, 4113: 4114, 4114: 4115, 4115: 4116, 4116: 4117, 4117: 4118, 4118: 4119, 4119: 4120, 4120: 4121, 4121: 4122, 4122: 4123, 4123: 4124, 4124: 4125, 4125: 4126, 4126: 4127, 4127: 4128, 4128: 4129, 4129: 4130, 4130: 4131, 4131: 4132, 4132: 4133, 4133: 4134, 4134: 4135, 4135: 4136, 4136: 4137, 4137: 4138, 4138: 4139, 4139: 4140, 4140: 4141, 4141: 4142, 4142: 4143, 4143: 4144, 4144: 4145, 4145: 4146, 4146: 4147, 4147: 4148, 4148: 4149, 4149: 4150, 4150: 4151, 4151: 4152, 4152: 4153, 4153: 4154, 4154: 4155, 4155: 4156, 4156: 4157, 4157: 4158, 4158: 4159, 4159: 4160, 4160: 4161, 4161: 4162, 4162: 4163, 4163: 4164, 4164: 4165, 4165: 4166, 4166: 4167, 4167: 4168, 4168: 4169, 4169: 4170, 4170: 4171, 4171: 4172, 4172: 4173, 4173: 4174, 4174: 4175, 4175: 4176, 4176: 4177, 4177: 4178, 4178: 4179, 4179: 4180, 4180: 4181, 4181: 4182, 4182: 4183, 4183: 4184, 4184: 4185, 4185: 4186, 4186: 4187, 4187: 4188, 4188: 4189, 4189: 4190, 4190: 4191, 4191: 4192, 4192: 4193, 4193: 4194, 4194: 4195, 4195: 4196, 4196: 4197, 4197: 4198, 4198: 4199, 4199: 4200, 4200: 4201, 4201: 4202, 4202: 4203, 4203: 4204, 4204: 4205, 4205: 4206, 4206: 4207, 4207: 4208, 4208: 4209, 4209: 4210, 4210: 4211, 4211: 4212, 4212: 4213, 4213: 4214, 4214: 4215, 4215: 4216, 4216: 4217, 4217: 4218, 4218: 4219, 4219: 4220, 4220: 4221, 4221: 4222, 4222: 4223, 4223: 4224, 4224: 4225, 4225: 4226, 4226: 4227, 4227: 4228, 4228: 4229, 4229: 4230, 4230: 4231, 4231: 4232, 4232: 4233, 4233: 4234, 4234: 4235, 4235: 4236, 4236: 4237, 4237: 4238, 4238: 4239, 4239: 4240, 4240: 4241, 4241: 4242, 4242: 4243, 4243: 4244, 4244: 4245, 4245: 4246, 4246: 4247, 4247: 4248, 4248: 4249, 4249: 4250, 4250: 4251, 4251: 4252, 4252: 4253, 4253: 4254, 4254: 4255, 4255: 4256, 4256: 4257, 4257: 4258, 4258: 4259, 4259: 4260, 4260: 4261, 4261: 4262, 4262: 4263, 4263: 4264, 4264: 4265, 4265: 4266, 4266: 4267, 4267: 4268, 4268: 4269, 4269: 4270, 4270: 4271, 4271: 4272, 4272: 4273, 4273: 4274, 4274: 4275, 4275: 4276, 4276: 4277, 4277: 4278, 4278: 4279, 4279: 4280, 4280: 4281, 4281: 4282, 4282: 4283, 4283: 4284, 4284: 4285, 4285: 4286, 4286: 4287, 4287: 4288, 4288: 4289, 4289: 4290, 4290: 4291, 4291: 4292, 4292: 4293, 4293: 4294, 4294: 4295, 4295: 4296, 4296: 4297, 4297: 4298, 4298: 4299, 4299: 4300, 4300: 4301, 4301: 4302, 4302: 4303, 4303: 4304, 4304: 4305, 4305: 4306, 4306: 4307, 4307: 4308, 4308: 4309, 4309: 4310, 4310: 4311, 4311: 4312, 4312: 4313, 4313: 4314, 4314: 4315, 4315: 4316, 4316: 4317, 4317: 4318, 4318: 4319, 4319: 4320, 4320: 4321, 4321: 4322, 4322: 4323, 4323: 4324, 4324: 4325, 4325: 4326, 4326: 4327, 4327: 4328, 4328: 4329, 4329: 4330, 4330: 4331, 4331: 4332, 4332: 4333, 4333: 4334, 4334: 4335, 4335: 4336, 4336: 4337, 4337: 4338, 4338: 4339, 4339: 4340, 4340: 4341, 4341: 4342, 4342: 4343, 4343: 4344, 4344: 4345, 4345: 4346, 4346: 4347, 4347: 4348, 4348: 4349, 4349: 4350, 4350: 4351, 4351: 4352, 4352: 4353, 4353: 4354, 4354: 4355, 4355: 4356, 4356: 4357, 4357: 4358, 4358: 4359, 4359: 4360, 4360: 4361, 4361: 4362, 4362: 4363, 4363: 4364, 4364: 4365, 4365: 4366, 4366: 4367, 4367: 4368, 4368: 4369, 4369: 4370, 4370: 4371, 4371: 4372, 4372: 4373, 4373: 4374, 4374: 4375, 4375: 4376, 4376: 4377, 4377: 4378, 4378: 4379, 4379: 4380, 4380: 4381, 4381: 4382, 4382: 4383, 4383: 4384, 4384: 4385, 4385: 4386, 4386: 4387, 4387: 4388, 4388: 4389, 4389: 4390, 4390: 4391, 4391: 4392, 4392: 4393, 4393: 4394, 4394: 4395, 4395: 4396, 4396: 4397, 4397: 4398, 4398: 4399, 4399: 4400, 4400: 4401, 4401: 4402, 4402: 4403, 4403: 4404, 4404: 4405, 4405: 4406, 4406: 4407, 4407: 4408, 4408: 4409, 4409: 4410, 4410: 4411, 4411: 4412, 4412: 4413, 4413: 4414, 4414: 4415, 4415: 4416, 4416: 4417, 4417: 4418, 4418: 4419, 4419: 4420, 4420: 4421, 4421: 4422, 4422: 4423, 4423: 4424, 4424: 4425, 4425: 4426, 4426: 4427, 4427: 4428, 4428: 4429, 4429: 4430, 4430: 4431, 4431: 4432, 4432: 4433, 4433: 4434, 4434: 4435, 4435: 4436, 4436: 4437, 4437: 4438, 4438: 4439, 4439: 4440, 4440: 4441, 4441: 4442, 4442: 4443, 4443: 4444, 4444: 4445, 4445: 4446, 4446: 4447, 4447: 4448, 4448: 4449, 4449: 4450, 4450: 4451, 4451: 4452, 4452: 4453, 4453: 4454, 4454: 4455, 4455: 4456, 4456: 4457, 4457: 4458, 4458: 4459, 4459: 4460, 4460: 4461, 4461: 4462, 4462: 4463, 4463: 4464, 4464: 4465, 4465: 4466, 4466: 4467, 4467: 4468, 4468: 4469, 4469: 4470, 4470: 4471, 4471: 4472, 4472: 4473, 4473: 4474, 4474: 4475, 4475: 4476, 4476: 4477, 4477: 4478, 4478: 4479, 4479: 4480, 4480: 4481, 4481: 4482, 4482: 4483, 4483: 4484, 4484: 4485, 4485: 4486, 4486: 4487, 4487: 4488, 4488: 4489, 4489: 4490, 4490: 4491, 4491: 4492, 4492: 4493, 4493: 4494, 4494: 4495, 4495: 4496, 4496: 4497, 4497: 4498, 4498: 4499, 4499: 4500, 4500: 4501, 4501: 4502, 4502: 4503, 4503: 4504, 4504: 4505, 4505: 4506, 4506: 4507, 4507: 4508, 4508: 4509, 4509: 4510, 4510: 4511, 4511: 4512, 4512: 4513, 4513: 4514, 4514: 4515, 4515: 4516, 4516: 4517, 4517: 4518, 4518: 4519, 4519: 4520, 4520: 4521, 4521: 4522, 4522: 4523, 4523: 4524, 4524: 4525, 4525: 4526, 4526: 4527, 4527: 4528, 4528: 4529, 4529: 4530, 4530: 4531, 4531: 4532, 4532: 4533, 4533: 4534, 4534: 4535, 4535: 4536, 4536: 4537, 4537: 4538, 4538: 4539, 4539: 4540, 4540: 4541, 4541: 4542, 4542: 4543, 4543: 4544, 4544: 4545, 4545: 4546, 4546: 4547, 4547: 4548, 4548: 4549, 4549: 4550, 4550: 4551, 4551: 4552, 4552: 4553, 4553: 4554, 4554: 4555, 4555: 4556, 4556: 4557, 4557: 4558, 4558: 4559, 4559: 4560, 4560: 4561, 4561: 4562, 4562: 4563, 4563: 4564, 4564: 4565, 4565: 4566, 4566: 4567, 4567: 4568, 4568: 4569, 4569: 4570, 4570: 4571, 4571: 4572, 4572: 4573, 4573: 4574, 4574: 4575, 4575: 4576, 4576: 4577, 4577: 4578, 4578: 4579, 4579: 4580, 4580: 4581, 4581: 4582, 4582: 4583, 4583: 4584, 4584: 4585, 4585: 4586, 4586: 4587, 4587: 4588, 4588: 4589, 4589: 4590, 4590: 4591, 4591: 4592, 4592: 4593, 4593: 4594, 4594: 4595, 4595: 4596, 4596: 4597, 4597: 4598, 4598: 4599, 4599: 4600, 4600: 4601, 4601: 4602, 4602: 4603, 4603: 4604, 4604: 4605, 4605: 4606, 4606: 4607, 4607: 4608, 4608: 4609, 4609: 4610, 4610: 4611, 4611: 4612, 4612: 4613, 4613: 4614, 4614: 4615, 4615: 4616, 4616: 4617, 4617: 4618, 4618: 4619, 4619: 4620, 4620: 4621, 4621: 4622, 4622: 4623, 4623: 4624, 4624: 4625, 4625: 4626, 4626: 4627, 4627: 4628, 4628: 4629, 4629: 4630, 4630: 4631, 4631: 4632, 4632: 4633, 4633: 4634, 4634: 4635, 4635: 4636, 4636: 4637, 4637: 4638, 4638: 4639, 4639: 4640, 4640: 4641, 4641: 4642, 4642: 4643, 4643: 4644, 4644: 4645, 4645: 4646, 4646: 4647, 4647: 4648, 4648: 4649, 4649: 4650, 4650: 4651, 4651: 4652, 4652: 4653, 4653: 4654, 4654: 4655, 4655: 4656, 4656: 4657, 4657: 4658, 4658: 4659, 4659: 4660, 4660: 4661, 4661: 4662, 4662: 4663, 4663: 4664, 4664: 4665, 4665: 4666, 4666: 4667, 4667: 4668, 4668: 4669, 4669: 4670, 4670: 4671, 4671: 4672, 4672: 4673, 4673: 4674, 4674: 4675, 4675: 4676, 4676: 4677, 4677: 4678, 4678: 4679, 4679: 4680, 4680: 4681, 4681: 4682, 4682: 4683, 4683: 4684, 4684: 4685, 4685: 4686, 4686: 4687, 4687: 4688, 4688: 4689, 4689: 4690, 4690: 4691, 4691: 4692, 4692: 4693, 4693: 4694, 4694: 4695, 4695: 4696, 4696: 4697, 4697: 4698, 4698: 4699, 4699: 4700, 4700: 4701, 4701: 4702, 4702: 4703, 4703: 4704, 4704: 4705, 4705: 4706, 4706: 4707, 4707: 4708, 4708: 4709, 4709: 4710, 4710: 4711, 4711: 4712, 4712: 4713, 4713: 4714, 4714: 4715, 4715: 4716, 4716: 4717, 4717: 4718, 4718: 4719, 4719: 4720, 4720: 4721, 4721: 4722, 4722: 4723, 4723: 4724, 4724: 4725, 4725: 4726, 4726: 4727, 4727: 4728, 4728: 4729, 4729: 4730, 4730: 4731, 4731: 4732, 4732: 4733, 4733: 4734, 4734: 4735, 4735: 4736, 4736: 4737, 4737: 4738, 4738: 4739, 4739: 4740, 4740: 4741, 4741: 4742, 4742: 4743, 4743: 4744, 4744: 4745, 4745: 4746, 4746: 4747, 4747: 4748, 4748: 4749, 4749: 4750, 4750: 4751, 4751: 4752, 4752: 4753, 4753: 4754, 4754: 4755, 4755: 4756, 4756: 4757, 4757: 4758, 4758: 4759, 4759: 4760, 4760: 4761, 4761: 4762, 4762: 4763, 4763: 4764, 4764: 4765, 4765: 4766, 4766: 4767, 4767: 4768, 4768: 4769, 4769: 4770, 4770: 4771, 4771: 4772, 4772: 4773, 4773: 4774, 4774: 4775, 4775: 4776, 4776: 4777, 4777: 4778, 4778: 4779, 4779: 4780, 4780: 4781, 4781: 4782, 4782: 4783, 4783: 4784, 4784: 4785, 4785: 4786, 4786: 4787, 4787: 4788, 4788: 4789, 4789: 4790, 4790: 4791, 4791: 4792, 4792: 4793, 4793: 4794, 4794: 4795, 4795: 4796, 4796: 4797, 4797: 4798, 4798: 4799, 4799: 4800, 4800: 4801, 4801: 4802, 4802: 4803, 4803: 4804, 4804: 4805, 4805: 4806, 4806: 4807, 4807: 4808, 4808: 4809, 4809: 4810, 4810: 4811, 4811: 4812, 4812: 4813, 4813: 4814, 4814: 4815, 4815: 4816, 4816: 4817, 4817: 4818, 4818: 4819, 4819: 4820, 4820: 4821, 4821: 4822, 4822: 4823, 4823: 4824, 4824: 4825, 4825: 4826, 4826: 4827, 4827: 4828, 4828: 4829, 4829: 4830, 4830: 4831, 4831: 4832, 4832: 4833, 4833: 4834, 4834: 4835, 4835: 4836, 4836: 4837, 4837: 4838, 4838: 4839, 4839: 4840, 4840: 4841, 4841: 4842, 4842: 4843, 4843: 4844, 4844: 4845, 4845: 4846, 4846: 4847, 4847: 4848, 4848: 4849, 4849: 4850, 4850: 4851, 4851: 4852, 4852: 4853, 4853: 4854, 4854: 4855, 4855: 4856, 4856: 4857, 4857: 4858, 4858: 4859, 4859: 4860, 4860: 4861, 4861: 4862, 4862: 4863, 4863: 4864, 4864: 4865, 4865: 4866, 4866: 4867, 4867: 4868, 4868: 4869, 4869: 4870, 4870: 4871, 4871: 4872, 4872: 4873, 4873: 4874, 4874: 4875, 4875: 4876, 4876: 4877, 4877: 4878, 4878: 4879, 4879: 4880, 4880: 4881, 4881: 4882, 4882: 4883, 4883: 4884, 4884: 4885, 4885: 4886, 4886: 4887, 4887: 4888, 4888: 4889, 4889: 4890, 4890: 4891, 4891: 4892, 4892: 4893, 4893: 4894, 4894: 4895, 4895: 4896, 4896: 4897, 4897: 4898, 4898: 4899, 4899: 4900, 4900: 4901, 4901: 4902, 4902: 4903, 4903: 4904, 4904: 4905, 4905: 4906, 4906: 4907, 4907: 4908, 4908: 4909, 4909: 4910, 4910: 4911, 4911: 4912, 4912: 4913, 4913: 4914, 4914: 4915, 4915: 4916, 4916: 4917, 4917: 4918, 4918: 4919, 4919: 4920, 4920: 4921, 4921: 4922, 4922: 4923, 4923: 4924, 4924: 4925, 4925: 4926, 4926: 4927, 4927: 4928, 4928: 4929, 4929: 4930, 4930: 4931, 4931: 4932, 4932: 4933, 4933: 4934, 4934: 4935, 4935: 4936, 4936: 4937, 4937: 4938, 4938: 4939, 4939: 4940, 4940: 4941, 4941: 4942, 4942: 4943, 4943: 4944, 4944: 4945, 4945: 4946, 4946: 4947, 4947: 4948, 4948: 4949, 4949: 4950, 4950: 4951, 4951: 4952, 4952: 4953, 4953: 4954, 4954: 4955, 4955: 4956, 4956: 4957, 4957: 4958, 4958: 4959, 4959: 4960, 4960: 4961, 4961: 4962, 4962: 4963, 4963: 4964, 4964: 4965, 4965: 4966, 4966: 4967, 4967: 4968, 4968: 4969, 4969: 4970, 4970: 4971, 4971: 4972, 4972: 4973, 4973: 4974, 4974: 4975, 4975: 4976, 4976: 4977, 4977: 4978, 4978: 4979, 4979: 4980, 4980: 4981, 4981: 4982, 4982: 4983, 4983: 4984, 4984: 4985, 4985: 4986, 4986: 4987, 4987: 4988, 4988: 4989, 4989: 4990, 4990: 4991, 4991: 4992, 4992: 4993, 4993: 4994, 4994: 4995, 4995: 4996, 4996: 4997, 4997: 4998, 4998: 4999, 4999: 5000, 5000: 5001, 5001: 5002, 5002: 5003, 5003: 5004, 5004: 5005, 5005: 5006, 5006: 5007, 5007: 5008, 5008: 5009, 5009: 5010, 5010: 5011, 5011: 5012, 5012: 5013, 5013: 5014, 5014: 5015, 5015: 5016, 5016: 5017, 5017: 5018, 5018: 5019, 5019: 5020, 5020: 5021, 5021: 5022, 5022: 5023, 5023: 5024, 5024: 5025, 5025: 5026, 5026: 5027, 5027: 5028, 5028: 5029, 5029: 5030, 5030: 5031, 5031: 5032, 5032: 5033, 5033: 5034, 5034: 5035, 5035: 5036, 5036: 5037, 5037: 5038, 5038: 5039, 5039: 5040, 5040: 5041, 5041: 5042, 5042: 5043, 5043: 5044, 5044: 5045, 5045: 5046, 5046: 5047, 5047: 5048, 5048: 5049, 5049: 5050, 5050: 5051, 5051: 5052, 5052: 5053, 5053: 5054, 5054: 5055, 5055: 5056, 5056: 5057, 5057: 5058, 5058: 5059, 5059: 5060, 5060: 5061, 5061: 5062, 5062: 5063, 5063: 5064, 5064: 5065, 5065: 5066, 5066: 5067, 5067: 5068, 5068: 5069, 5069: 5070, 5070: 5071, 5071: 5072, 5072: 5073, 5073: 5074, 5074: 5075, 5075: 5076, 5076: 5077, 5077: 5078, 5078: 5079, 5079: 5080, 5080: 5081, 5081: 5082, 5082: 5083, 5083: 5084, 5084: 5085, 5085: 5086, 5086: 5087, 5087: 5088, 5088: 5089, 5089: 5090, 5090: 5091, 5091: 5092, 5092: 5093, 5093: 5094, 5094: 5095, 5095: 5096, 5096: 5097, 5097: 5098, 5098: 5099, 5099: 5100, 5100: 5101, 5101: 5102, 5102: 5103, 5103: 5104, 5104: 5105, 5105: 5106, 5106: 5107, 5107: 5108, 5108: 5109, 5109: 5110, 5110: 5111, 5111: 5112, 5112: 5113, 5113: 5114, 5114: 5115, 5115: 5116, 5116: 5117, 5117: 5118, 5118: 5119, 5119: 5120, 5120: 5121, 5121: 5122, 5122: 5123, 5123: 5124, 5124: 5125, 5125: 5126, 5126: 5127, 5127: 5128, 5128: 5129, 5129: 5130, 5130: 5131, 5131: 5132, 5132: 5133, 5133: 5134, 5134: 5135, 5135: 5136, 5136: 5137, 5137: 5138, 5138: 5139, 5139: 5140, 5140: 5141, 5141: 5142, 5142: 5143, 5143: 5144, 5144: 5145, 5145: 5146, 5146: 5147, 5147: 5148, 5148: 5149, 5149: 5150, 5150: 5151, 5151: 5152, 5152: 5153, 5153: 5154, 5154: 5155, 5155: 5156, 5156: 5157, 5157: 5158, 5158: 5159, 5159: 5160, 5160: 5161, 5161: 5162, 5162: 5163, 5163: 5164, 5164: 5165, 5165: 5166, 5166: 5167, 5167: 5168, 5168: 5169, 5169: 5170, 5170: 5171, 5171: 5172, 5172: 5173, 5173: 5174, 5174: 5175, 5175: 5176, 5176: 5177, 5177: 5178, 5178: 5179, 5179: 5180, 5180: 5181, 5181: 5182, 5182: 5183, 5183: 5184, 5184: 5185, 5185: 5186, 5186: 5187, 5187: 5188, 5188: 5189, 5189: 5190, 5190: 5191, 5191: 5192, 5192: 5193, 5193: 5194, 5194: 5195, 5195: 5196, 5196: 5197, 5197: 5198, 5198: 5199, 5199: 5200, 5200: 5201, 5201: 5202, 5202: 5203, 5203: 5204, 5204: 5205, 5205: 5206, 5206: 5207, 5207: 5208, 5208: 5209, 5209: 5210, 5210: 5211, 5211: 5212, 5212: 5213, 5213: 5214, 5214: 5215, 5215: 5216, 5216: 5217, 5217: 5218, 5218: 5219, 5219: 5220, 5220: 5221, 5221: 5222, 5222: 5223, 5223: 5224, 5224: 5225, 5225: 5226, 5226: 5227, 5227: 5228, 5228: 5229, 5229: 5230, 5230: 5231, 5231: 5232, 5232: 5233, 5233: 5234, 5234: 5235, 5235: 5236, 5236: 5237, 5237: 5238, 5238: 5239, 5239: 5240, 5240: 5241, 5241: 5242, 5242: 5243, 5243: 5244, 5244: 5245, 5245: 5246, 5246: 5247, 5247: 5248, 5248: 5249, 5249: 5250, 5250: 5251, 5251: 5252, 5252: 5253, 5253: 5254, 5254: 5255, 5255: 5256, 5256: 5257, 5257: 5258, 5258: 5259, 5259: 5260, 5260: 5261, 5261: 5262, 5262: 5263, 5263: 5264, 5264: 5265, 5265: 5266, 5266: 5267, 5267: 5268, 5268: 5269, 5269: 5270, 5270: 5271, 5271: 5272, 5272: 5273, 5273: 5274, 5274: 5275, 5275: 5276, 5276: 5277, 5277: 5278, 5278: 5279, 5279: 5280, 5280: 5281, 5281: 5282, 5282: 5283, 5283: 5284, 5284: 5285, 5285: 5286, 5286: 5287, 5287: 5288, 5288: 5289, 5289: 5290, 5290: 5291, 5291: 5292, 5292: 5293, 5293: 5294, 5294: 5295, 5295: 5296, 5296: 5297, 5297: 5298, 5298: 5299, 5299: 5300, 5300: 5301, 5301: 5302, 5302: 5303, 5303: 5304, 5304: 5305, 5305: 5306, 5306: 5307, 5307: 5308, 5308: 5309, 5309: 5310, 5310: 5311, 5311: 5312, 5312: 5313, 5313: 5314, 5314: 5315, 5315: 5316, 5316: 5317, 5317: 5318, 5318: 5319, 5319: 5320, 5320: 5321, 5321: 5322, 5322: 5323, 5323: 5324, 5324: 5325, 5325: 5326, 5326: 5327, 5327: 5328, 5328: 5329, 5329: 5330, 5330: 5331, 5331: 5332, 5332: 5333, 5333: 5334, 5334: 5335, 5335: 5336, 5336: 5337, 5337: 5338, 5338: 5339, 5339: 5340, 5340: 5341, 5341: 5342, 5342: 5343, 5343: 5344, 5344: 5345, 5345: 5346, 5346: 5347, 5347: 5348, 5348: 5349, 5349: 5350, 5350: 5351, 5351: 5352, 5352: 5353, 5353: 5354, 5354: 5355, 5355: 5356, 5356: 5357, 5357: 5358, 5358: 5359, 5359: 5360, 5360: 5361, 5361: 5362, 5362: 5363, 5363: 5364, 5364: 5365, 5365: 5366, 5366: 5367, 5367: 5368, 5368: 5369, 5369: 5370, 5370: 5371, 5371: 5372, 5372: 5373, 5373: 5374, 5374: 5375, 5375: 5376, 5376: 5377, 5377: 5378, 5378: 5379, 5379: 5380, 5380: 5381, 5381: 5382, 5382: 5383, 5383: 5384, 5384: 5385, 5385: 5386, 5386: 5387, 5387: 5388, 5388: 5389, 5389: 5390, 5390: 5391, 5391: 5392, 5392: 5393, 5393: 5394, 5394: 5395, 5395: 5396, 5396: 5397, 5397: 5398, 5398: 5399, 5399: 5400, 5400: 5401, 5401: 5402, 5402: 5403, 5403: 5404, 5404: 5405, 5405: 5406, 5406: 5407, 5407: 5408, 5408: 5409, 5409: 5410, 5410: 5411, 5411: 5412, 5412: 5413, 5413: 5414, 5414: 5415, 5415: 5416, 5416: 5417, 5417: 5418, 5418: 5419, 5419: 5420, 5420: 5421, 5421: 5422, 5422: 5423, 5423: 5424, 5424: 5425, 5425: 5426, 5426: 5427, 5427: 5428, 5428: 5429, 5429: 5430, 5430: 5431, 5431: 5432, 5432: 5433, 5433: 5434, 5434: 5435, 5435: 5436, 5436: 5437, 5437: 5438, 5438: 5439, 5439: 5440, 5440: 5441, 5441: 5442, 5442: 5443, 5443: 5444, 5444: 5445, 5445: 5446, 5446: 5447, 5447: 5448, 5448: 5449, 5449: 5450, 5450: 5451, 5451: 5452, 5452: 5453, 5453: 5454, 5454: 5455, 5455: 5456, 5456: 5457, 5457: 5458, 5458: 5459, 5459: 5460, 5460: 5461, 5461: 5462, 5462: 5463, 5463: 5464, 5464: 5465, 5465: 5466, 5466: 5467, 5467: 5468, 5468: 5469, 5469: 5470, 5470: 5471, 5471: 5472, 5472: 5473, 5473: 5474, 5474: 5475, 5475: 5476, 5476: 5477, 5477: 5478, 5478: 5479, 5479: 5480, 5480: 5481, 5481: 5482, 5482: 5483, 5483: 5484, 5484: 5485, 5485: 5486, 5486: 5487, 5487: 5488, 5488: 5489, 5489: 5490, 5490: 5491, 5491: 5492, 5492: 5493, 5493: 5494, 5494: 5495, 5495: 5496, 5496: 5497, 5497: 5498, 5498: 5499, 5499: 5500, 5500: 5501, 5501: 5502, 5502: 5503, 5503: 5504, 5504: 5505, 5505: 5506, 5506: 5507, 5507: 5508, 5508: 5509, 5509: 5510, 5510: 5511, 5511: 5512, 5512: 5513, 5513: 5514, 5514: 5515, 5515: 5516, 5516: 5517, 5517: 5518, 5518: 5519, 5519: 5520, 5520: 5521, 5521: 5522, 5522: 5523, 5523: 5524, 5524: 5525, 5525: 5526, 5526: 5527, 5527: 5528, 5528: 5529, 5529: 5530, 5530: 5531, 5531: 5532, 5532: 5533, 5533: 5534, 5534: 5535, 5535: 5536, 5536: 5537, 5537: 5538, 5538: 5539, 5539: 5540, 5540: 5541, 5541: 5542, 5542: 5543, 5543: 5544, 5544: 5545, 5545: 5546, 5546: 5547, 5547: 5548, 5548: 5549, 5549: 5550, 5550: 5551, 5551: 5552, 5552: 5553, 5553: 5554, 5554: 5555, 5555: 5556, 5556: 5557, 5557: 5558, 5558: 5559, 5559: 5560, 5560: 5561, 5561: 5562, 5562: 5563, 5563: 5564, 5564: 5565, 5565: 5566, 5566: 5567, 5567: 5568, 5568: 5569, 5569: 5570, 5570: 5571, 5571: 5572, 5572: 5573, 5573: 5574, 5574: 5575, 5575: 5576, 5576: 5577, 5577: 5578, 5578: 5579, 5579: 5580, 5580: 5581, 5581: 5582, 5582: 5583, 5583: 5584, 5584: 5585, 5585: 5586, 5586: 5587, 5587: 5588, 5588: 5589, 5589: 5590, 5590: 5591, 5591: 5592, 5592: 5593, 5593: 5594, 5594: 5595, 5595: 5596, 5596: 5597, 5597: 5598, 5598: 5599, 5599: 5600, 5600: 5601, 5601: 5602, 5602: 5603, 5603: 5604, 5604: 5605, 5605: 5606, 5606: 5607, 5607: 5608, 5608: 5609, 5609: 5610, 5610: 5611, 5611: 5612, 5612: 5613, 5613: 5614, 5614: 5615, 5615: 5616, 5616: 5617, 5617: 5618, 5618: 5619, 5619: 5620, 5620: 5621, 5621: 5622, 5622: 5623, 5623: 5624, 5624: 5625, 5625: 5626, 5626: 5627, 5627: 5628, 5628: 5629, 5629: 5630, 5630: 5631, 5631: 5632, 5632: 5633, 5633: 5634, 5634: 5635, 5635: 5636, 5636: 5637, 5637: 5638, 5638: 5639, 5639: 5640, 5640: 5641, 5641: 5642, 5642: 5643, 5643: 5644, 5644: 5645, 5645: 5646, 5646: 5647, 5647: 5648, 5648: 5649, 5649: 5650, 5650: 5651, 5651: 5652, 5652: 5653, 5653: 5654, 5654: 5655, 5655: 5656, 5656: 5657, 5657: 5658, 5658: 5659, 5659: 5660, 5660: 5661, 5661: 5662, 5662: 5663, 5663: 5664, 5664: 5665, 5665: 5666, 5666: 5667, 5667: 5668, 5668: 5669, 5669: 5670, 5670: 5671, 5671: 5672, 5672: 5673, 5673: 5674, 5674: 5675, 5675: 5676, 5676: 5677, 5677: 5678, 5678: 5679, 5679: 5680, 5680: 5681, 5681: 5682, 5682: 5683, 5683: 5684, 5684: 5685, 5685: 5686, 5686: 5687, 5687: 5688, 5688: 5689, 5689: 5690, 5690: 5691, 5691: 5692, 5692: 5693, 5693: 5694, 5694: 5695, 5695: 5696, 5696: 5697, 5697: 5698, 5698: 5699, 5699: 5700, 5700: 5701, 5701: 5702, 5702: 5703, 5703: 5704, 5704: 5705, 5705: 5706, 5706: 5707, 5707: 5708, 5708: 5709, 5709: 5710, 5710: 5711, 5711: 5712, 5712: 5713, 5713: 5714, 5714: 5715, 5715: 5716, 5716: 5717, 5717: 5718, 5718: 5719, 5719: 5720, 5720: 5721, 5721: 5722, 5722: 5723, 5723: 5724, 5724: 5725, 5725: 5726, 5726: 5727, 5727: 5728, 5728: 5729, 5729: 5730, 5730: 5731, 5731: 5732, 5732: 5733, 5733: 5734, 5734: 5735, 5735: 5736, 5736: 5737, 5737: 5738, 5738: 5739, 5739: 5740, 5740: 5741, 5741: 5742, 5742: 5743, 5743: 5744, 5744: 5745, 5745: 5746, 5746: 5747, 5747: 5748, 5748: 5749, 5749: 5750, 5750: 5751, 5751: 5752, 5752: 5753, 5753: 5754, 5754: 5755, 5755: 5756, 5756: 5757, 5757: 5758, 5758: 5759, 5759: 5760, 5760: 5761, 5761: 5762, 5762: 5763, 5763: 5764, 5764: 5765, 5765: 5766, 5766: 5767, 5767: 5768, 5768: 5769, 5769: 5770, 5770: 5771, 5771: 5772, 5772: 5773, 5773: 5774, 5774: 5775, 5775: 5776, 5776: 5777, 5777: 5778, 5778: 5779, 5779: 5780, 5780: 5781, 5781: 5782, 5782: 5783, 5783: 5784, 5784: 5785, 5785: 5786, 5786: 5787, 5787: 5788, 5788: 5789, 5789: 5790, 5790: 5791, 5791: 5792, 5792: 5793, 5793: 5794, 5794: 5795, 5795: 5796, 5796: 5797, 5797: 5798, 5798: 5799, 5799: 5800, 5800: 5801, 5801: 5802, 5802: 5803, 5803: 5804, 5804: 5805, 5805: 5806, 5806: 5807, 5807: 5808, 5808: 5809, 5809: 5810, 5810: 5811, 5811: 5812, 5812: 5813, 5813: 5814, 5814: 5815, 5815: 5816, 5816: 5817, 5817: 5818, 5818: 5819, 5819: 5820, 5820: 5821, 5821: 5822, 5822: 5823, 5823: 5824, 5824: 5825, 5825: 5826, 5826: 5827, 5827: 5828, 5828: 5829, 5829: 5830, 5830: 5831, 5831: 5832, 5832: 5833, 5833: 5834, 5834: 5835, 5835: 5836, 5836: 5837, 5837: 5838, 5838: 5839, 5839: 5840, 5840: 5841, 5841: 5842, 5842: 5843, 5843: 5844, 5844: 5845, 5845: 5846, 5846: 5847, 5847: 5848, 5848: 5849, 5849: 5850, 5850: 5851, 5851: 5852, 5852: 5853, 5853: 5854, 5854: 5855, 5855: 5856, 5856: 5857, 5857: 5858, 5858: 5859, 5859: 5860, 5860: 5861, 5861: 5862, 5862: 5863, 5863: 5864, 5864: 5865, 5865: 5866, 5866: 5867, 5867: 5868, 5868: 5869, 5869: 5870, 5870: 5871, 5871: 5872, 5872: 5873, 5873: 5874, 5874: 5875, 5875: 5876, 5876: 5877, 5877: 5878, 5878: 5879, 5879: 5880, 5880: 5881, 5881: 5882, 5882: 5883, 5883: 5884, 5884: 5885, 5885: 5886, 5886: 5887, 5887: 5888, 5888: 5889, 5889: 5890, 5890: 5891, 5891: 5892, 5892: 5893, 5893: 5894, 5894: 5895, 5895: 5896, 5896: 5897, 5897: 5898, 5898: 5899, 5899: 5900, 5900: 5901, 5901: 5902, 5902: 5903, 5903: 5904, 5904: 5905, 5905: 5906, 5906: 5907, 5907: 5908, 5908: 5909, 5909: 5910, 5910: 5911, 5911: 5912, 5912: 5913, 5913: 5914, 5914: 5915, 5915: 5916, 5916: 5917, 5917: 5918, 5918: 5919, 5919: 5920, 5920: 5921, 5921: 5922, 5922: 5923, 5923: 5924, 5924: 5925, 5925: 5926, 5926: 5927, 5927: 5928, 5928: 5929, 5929: 5930, 5930: 5931, 5931: 5932, 5932: 5933, 5933: 5934, 5934: 5935, 5935: 5936, 5936: 5937, 5937: 5938, 5938: 5939, 5939: 5940, 5940: 5941, 5941: 5942, 5942: 5943, 5943: 5944, 5944: 5945, 5945: 5946, 5946: 5947, 5947: 5948, 5948: 5949, 5949: 5950, 5950: 5951, 5951: 5952, 5952: 5953, 5953: 5954, 5954: 5955, 5955: 5956, 5956: 5957, 5957: 5958, 5958: 5959, 5959: 5960, 5960: 5961, 5961: 5962, 5962: 5963, 5963: 5964, 5964: 5965, 5965: 5966, 5966: 5967, 5967: 5968, 5968: 5969, 5969: 5970, 5970: 5971, 5971: 5972, 5972: 5973, 5973: 5974, 5974: 5975, 5975: 5976, 5976: 5977, 5977: 5978, 5978: 5979, 5979: 5980, 5980: 5981, 5981: 5982, 5982: 5983, 5983: 5984, 5984: 5985, 5985: 5986, 5986: 5987, 5987: 5988, 5988: 5989, 5989: 5990, 5990: 5991, 5991: 5992, 5992: 5993, 5993: 5994, 5994: 5995, 5995: 5996, 5996: 5997, 5997: 5998, 5998: 5999, 5999: 6000, 6000: 6001, 6001: 6002, 6002: 6003, 6003: 6004, 6004: 6005, 6005: 6006, 6006: 6007, 6007: 6008, 6008: 6009, 6009: 6010, 6010: 6011, 6011: 6012, 6012: 6013, 6013: 6014, 6014: 6015, 6015: 6016, 6016: 6017, 6017: 6018, 6018: 6019, 6019: 6020, 6020: 6021, 6021: 6022, 6022: 6023, 6023: 6024, 6024: 6025, 6025: 6026, 6026: 6027, 6027: 6028, 6028: 6029, 6029: 6030, 6030: 6031, 6031: 6032, 6032: 6033, 6033: 6034, 6034: 6035, 6035: 6036, 6036: 6037, 6037: 6038, 6038: 6039, 6039: 6040}}\n",
      "{'item_id': {1: 0, 2: 1, 3: 2, 4: 3, 5: 4, 6: 5, 7: 6, 8: 7, 9: 8, 10: 9, 11: 10, 12: 11, 13: 12, 14: 13, 15: 14, 16: 15, 17: 16, 18: 17, 19: 18, 20: 19, 21: 20, 22: 21, 23: 22, 24: 23, 25: 24, 26: 25, 27: 26, 28: 27, 29: 28, 30: 29, 31: 30, 32: 31, 33: 32, 34: 33, 35: 34, 36: 35, 37: 36, 38: 37, 39: 38, 40: 39, 41: 40, 42: 41, 43: 42, 44: 43, 45: 44, 46: 45, 47: 46, 48: 47, 49: 48, 50: 49, 51: 50, 52: 51, 53: 52, 54: 53, 55: 54, 56: 55, 57: 56, 58: 57, 59: 58, 60: 59, 61: 60, 62: 61, 63: 62, 64: 63, 65: 64, 66: 65, 67: 66, 68: 67, 69: 68, 70: 69, 71: 70, 72: 71, 73: 72, 74: 73, 75: 74, 76: 75, 77: 76, 78: 77, 79: 78, 80: 79, 81: 80, 82: 81, 83: 82, 84: 83, 85: 84, 86: 85, 87: 86, 88: 87, 89: 88, 90: 89, 92: 90, 93: 91, 94: 92, 95: 93, 96: 94, 97: 95, 98: 96, 99: 97, 100: 98, 101: 99, 102: 100, 103: 101, 104: 102, 105: 103, 106: 104, 107: 105, 108: 106, 109: 107, 110: 108, 111: 109, 112: 110, 113: 111, 114: 112, 115: 113, 116: 114, 117: 115, 118: 116, 119: 117, 120: 118, 121: 119, 122: 120, 123: 121, 124: 122, 125: 123, 126: 124, 127: 125, 128: 126, 129: 127, 130: 128, 131: 129, 132: 130, 133: 131, 134: 132, 135: 133, 136: 134, 137: 135, 138: 136, 139: 137, 140: 138, 141: 139, 142: 140, 143: 141, 144: 142, 145: 143, 146: 144, 147: 145, 148: 146, 149: 147, 150: 148, 151: 149, 152: 150, 153: 151, 154: 152, 155: 153, 156: 154, 157: 155, 158: 156, 159: 157, 160: 158, 161: 159, 162: 160, 163: 161, 164: 162, 165: 163, 166: 164, 167: 165, 168: 166, 169: 167, 170: 168, 171: 169, 172: 170, 173: 171, 174: 172, 175: 173, 176: 174, 177: 175, 178: 176, 179: 177, 180: 178, 181: 179, 182: 180, 183: 181, 184: 182, 185: 183, 186: 184, 187: 185, 188: 186, 189: 187, 190: 188, 191: 189, 192: 190, 193: 191, 194: 192, 195: 193, 196: 194, 197: 195, 198: 196, 199: 197, 200: 198, 201: 199, 202: 200, 203: 201, 204: 202, 205: 203, 206: 204, 207: 205, 208: 206, 209: 207, 210: 208, 211: 209, 212: 210, 213: 211, 214: 212, 215: 213, 216: 214, 217: 215, 218: 216, 219: 217, 220: 218, 222: 219, 223: 220, 224: 221, 225: 222, 226: 223, 227: 224, 228: 225, 229: 226, 230: 227, 231: 228, 232: 229, 233: 230, 234: 231, 235: 232, 236: 233, 237: 234, 238: 235, 239: 236, 240: 237, 241: 238, 242: 239, 243: 240, 244: 241, 245: 242, 246: 243, 247: 244, 248: 245, 249: 246, 250: 247, 251: 248, 252: 249, 253: 250, 254: 251, 255: 252, 256: 253, 257: 254, 258: 255, 259: 256, 260: 257, 261: 258, 262: 259, 263: 260, 264: 261, 265: 262, 266: 263, 267: 264, 268: 265, 269: 266, 270: 267, 271: 268, 272: 269, 273: 270, 274: 271, 275: 272, 276: 273, 277: 274, 278: 275, 279: 276, 280: 277, 281: 278, 282: 279, 283: 280, 284: 281, 285: 282, 286: 283, 287: 284, 288: 285, 289: 286, 290: 287, 291: 288, 292: 289, 293: 290, 294: 291, 295: 292, 296: 293, 297: 294, 298: 295, 299: 296, 300: 297, 301: 298, 302: 299, 303: 300, 304: 301, 305: 302, 306: 303, 307: 304, 308: 305, 309: 306, 310: 307, 311: 308, 312: 309, 313: 310, 314: 311, 315: 312, 316: 313, 317: 314, 318: 315, 319: 316, 320: 317, 321: 318, 322: 319, 324: 320, 325: 321, 326: 322, 327: 323, 328: 324, 329: 325, 330: 326, 331: 327, 332: 328, 333: 329, 334: 330, 335: 331, 336: 332, 337: 333, 338: 334, 339: 335, 340: 336, 341: 337, 342: 338, 343: 339, 344: 340, 345: 341, 346: 342, 347: 343, 348: 344, 349: 345, 350: 346, 351: 347, 352: 348, 353: 349, 354: 350, 355: 351, 356: 352, 357: 353, 358: 354, 359: 355, 360: 356, 361: 357, 362: 358, 363: 359, 364: 360, 365: 361, 366: 362, 367: 363, 368: 364, 369: 365, 370: 366, 371: 367, 372: 368, 373: 369, 374: 370, 375: 371, 376: 372, 377: 373, 378: 374, 379: 375, 380: 376, 381: 377, 382: 378, 383: 379, 384: 380, 385: 381, 386: 382, 387: 383, 388: 384, 389: 385, 390: 386, 391: 387, 392: 388, 393: 389, 394: 390, 395: 391, 396: 392, 397: 393, 398: 394, 399: 395, 400: 396, 401: 397, 402: 398, 403: 399, 404: 400, 405: 401, 406: 402, 407: 403, 408: 404, 409: 405, 410: 406, 411: 407, 412: 408, 413: 409, 414: 410, 415: 411, 416: 412, 417: 413, 418: 414, 419: 415, 420: 416, 421: 417, 422: 418, 423: 419, 424: 420, 425: 421, 426: 422, 427: 423, 428: 424, 429: 425, 430: 426, 431: 427, 432: 428, 433: 429, 434: 430, 435: 431, 436: 432, 437: 433, 438: 434, 439: 435, 440: 436, 441: 437, 442: 438, 443: 439, 444: 440, 445: 441, 446: 442, 447: 443, 448: 444, 449: 445, 450: 446, 451: 447, 452: 448, 453: 449, 454: 450, 455: 451, 456: 452, 457: 453, 458: 454, 459: 455, 460: 456, 461: 457, 462: 458, 463: 459, 464: 460, 465: 461, 466: 462, 467: 463, 468: 464, 469: 465, 470: 466, 471: 467, 472: 468, 473: 469, 474: 470, 475: 471, 476: 472, 477: 473, 478: 474, 479: 475, 480: 476, 481: 477, 482: 478, 483: 479, 484: 480, 485: 481, 486: 482, 487: 483, 488: 484, 489: 485, 490: 486, 491: 487, 492: 488, 493: 489, 494: 490, 495: 491, 496: 492, 497: 493, 498: 494, 499: 495, 500: 496, 501: 497, 502: 498, 503: 499, 504: 500, 505: 501, 506: 502, 507: 503, 508: 504, 509: 505, 510: 506, 511: 507, 512: 508, 513: 509, 514: 510, 515: 511, 516: 512, 517: 513, 518: 514, 519: 515, 520: 516, 521: 517, 522: 518, 523: 519, 524: 520, 525: 521, 526: 522, 527: 523, 528: 524, 529: 525, 530: 526, 531: 527, 532: 528, 533: 529, 534: 530, 535: 531, 536: 532, 537: 533, 538: 534, 539: 535, 540: 536, 541: 537, 542: 538, 543: 539, 544: 540, 545: 541, 546: 542, 547: 543, 548: 544, 549: 545, 550: 546, 551: 547, 552: 548, 553: 549, 554: 550, 555: 551, 556: 552, 557: 553, 558: 554, 559: 555, 560: 556, 561: 557, 562: 558, 563: 559, 564: 560, 565: 561, 566: 562, 567: 563, 568: 564, 569: 565, 570: 566, 571: 567, 572: 568, 573: 569, 574: 570, 575: 571, 576: 572, 577: 573, 578: 574, 579: 575, 580: 576, 581: 577, 582: 578, 583: 579, 584: 580, 585: 581, 586: 582, 587: 583, 588: 584, 589: 585, 590: 586, 591: 587, 592: 588, 593: 589, 594: 590, 595: 591, 596: 592, 597: 593, 598: 594, 599: 595, 600: 596, 601: 597, 602: 598, 603: 599, 604: 600, 605: 601, 606: 602, 607: 603, 608: 604, 609: 605, 610: 606, 611: 607, 612: 608, 613: 609, 614: 610, 615: 611, 616: 612, 617: 613, 618: 614, 619: 615, 620: 616, 621: 617, 623: 618, 624: 619, 625: 620, 626: 621, 627: 622, 628: 623, 629: 624, 630: 625, 631: 626, 632: 627, 633: 628, 634: 629, 635: 630, 636: 631, 637: 632, 638: 633, 639: 634, 640: 635, 641: 636, 642: 637, 643: 638, 644: 639, 645: 640, 647: 641, 648: 642, 649: 643, 650: 644, 651: 645, 652: 646, 653: 647, 654: 648, 655: 649, 656: 650, 657: 651, 658: 652, 659: 653, 660: 654, 661: 655, 662: 656, 663: 657, 664: 658, 665: 659, 666: 660, 667: 661, 668: 662, 669: 663, 670: 664, 671: 665, 672: 666, 673: 667, 674: 668, 675: 669, 676: 670, 678: 671, 679: 672, 680: 673, 681: 674, 682: 675, 683: 676, 684: 677, 685: 678, 687: 679, 688: 680, 690: 681, 691: 682, 692: 683, 693: 684, 694: 685, 695: 686, 696: 687, 697: 688, 698: 689, 699: 690, 700: 691, 701: 692, 702: 693, 703: 694, 704: 695, 705: 696, 706: 697, 707: 698, 708: 699, 709: 700, 710: 701, 711: 702, 712: 703, 713: 704, 714: 705, 715: 706, 716: 707, 717: 708, 718: 709, 719: 710, 720: 711, 721: 712, 722: 713, 723: 714, 724: 715, 725: 716, 726: 717, 727: 718, 728: 719, 729: 720, 730: 721, 731: 722, 732: 723, 733: 724, 734: 725, 735: 726, 736: 727, 737: 728, 738: 729, 739: 730, 741: 731, 742: 732, 743: 733, 744: 734, 745: 735, 746: 736, 747: 737, 748: 738, 749: 739, 750: 740, 751: 741, 752: 742, 753: 743, 754: 744, 755: 745, 756: 746, 757: 747, 758: 748, 759: 749, 760: 750, 761: 751, 762: 752, 763: 753, 764: 754, 765: 755, 766: 756, 767: 757, 768: 758, 769: 759, 770: 760, 771: 761, 772: 762, 773: 763, 774: 764, 775: 765, 776: 766, 777: 767, 778: 768, 779: 769, 780: 770, 781: 771, 782: 772, 783: 773, 784: 774, 785: 775, 786: 776, 787: 777, 788: 778, 789: 779, 790: 780, 791: 781, 792: 782, 793: 783, 794: 784, 795: 785, 796: 786, 797: 787, 798: 788, 799: 789, 800: 790, 801: 791, 802: 792, 803: 793, 804: 794, 805: 795, 806: 796, 807: 797, 808: 798, 809: 799, 810: 800, 811: 801, 812: 802, 813: 803, 814: 804, 815: 805, 816: 806, 818: 807, 819: 808, 820: 809, 821: 810, 822: 811, 823: 812, 824: 813, 825: 814, 826: 815, 827: 816, 828: 817, 829: 818, 830: 819, 831: 820, 832: 821, 833: 822, 834: 823, 835: 824, 836: 825, 837: 826, 838: 827, 839: 828, 840: 829, 841: 830, 842: 831, 843: 832, 844: 833, 845: 834, 846: 835, 847: 836, 848: 837, 849: 838, 850: 839, 851: 840, 852: 841, 853: 842, 854: 843, 855: 844, 856: 845, 857: 846, 858: 847, 859: 848, 860: 849, 861: 850, 862: 851, 863: 852, 864: 853, 865: 854, 866: 855, 867: 856, 868: 857, 869: 858, 870: 859, 871: 860, 872: 861, 873: 862, 874: 863, 875: 864, 876: 865, 877: 866, 878: 867, 879: 868, 880: 869, 881: 870, 882: 871, 884: 872, 885: 873, 886: 874, 887: 875, 888: 876, 889: 877, 890: 878, 891: 879, 892: 880, 893: 881, 894: 882, 895: 883, 896: 884, 897: 885, 898: 886, 899: 887, 900: 888, 901: 889, 902: 890, 903: 891, 904: 892, 905: 893, 906: 894, 907: 895, 908: 896, 909: 897, 910: 898, 911: 899, 912: 900, 913: 901, 914: 902, 915: 903, 916: 904, 917: 905, 918: 906, 919: 907, 920: 908, 921: 909, 922: 910, 923: 911, 924: 912, 925: 913, 926: 914, 927: 915, 928: 916, 929: 917, 930: 918, 931: 919, 932: 920, 933: 921, 934: 922, 935: 923, 936: 924, 937: 925, 938: 926, 939: 927, 940: 928, 941: 929, 942: 930, 943: 931, 944: 932, 945: 933, 946: 934, 947: 935, 948: 936, 949: 937, 950: 938, 951: 939, 952: 940, 953: 941, 954: 942, 955: 943, 956: 944, 957: 945, 958: 946, 959: 947, 960: 948, 961: 949, 962: 950, 963: 951, 964: 952, 965: 953, 966: 954, 967: 955, 968: 956, 969: 957, 970: 958, 971: 959, 972: 960, 973: 961, 974: 962, 975: 963, 976: 964, 977: 965, 978: 966, 979: 967, 980: 968, 981: 969, 982: 970, 983: 971, 984: 972, 985: 973, 986: 974, 987: 975, 988: 976, 989: 977, 990: 978, 991: 979, 992: 980, 993: 981, 994: 982, 996: 983, 997: 984, 998: 985, 999: 986, 1000: 987, 1001: 988, 1002: 989, 1003: 990, 1004: 991, 1005: 992, 1006: 993, 1007: 994, 1008: 995, 1009: 996, 1010: 997, 1011: 998, 1012: 999, 1013: 1000, 1014: 1001, 1015: 1002, 1016: 1003, 1017: 1004, 1018: 1005, 1019: 1006, 1020: 1007, 1021: 1008, 1022: 1009, 1023: 1010, 1024: 1011, 1025: 1012, 1026: 1013, 1027: 1014, 1028: 1015, 1029: 1016, 1030: 1017, 1031: 1018, 1032: 1019, 1033: 1020, 1034: 1021, 1035: 1022, 1036: 1023, 1037: 1024, 1038: 1025, 1039: 1026, 1040: 1027, 1041: 1028, 1042: 1029, 1043: 1030, 1044: 1031, 1045: 1032, 1046: 1033, 1047: 1034, 1049: 1035, 1050: 1036, 1051: 1037, 1052: 1038, 1053: 1039, 1054: 1040, 1055: 1041, 1056: 1042, 1057: 1043, 1058: 1044, 1059: 1045, 1060: 1046, 1061: 1047, 1062: 1048, 1063: 1049, 1064: 1050, 1065: 1051, 1066: 1052, 1067: 1053, 1068: 1054, 1069: 1055, 1070: 1056, 1071: 1057, 1073: 1058, 1075: 1059, 1076: 1060, 1077: 1061, 1078: 1062, 1079: 1063, 1080: 1064, 1081: 1065, 1082: 1066, 1083: 1067, 1084: 1068, 1085: 1069, 1086: 1070, 1087: 1071, 1088: 1072, 1089: 1073, 1090: 1074, 1091: 1075, 1092: 1076, 1093: 1077, 1094: 1078, 1095: 1079, 1096: 1080, 1097: 1081, 1098: 1082, 1099: 1083, 1100: 1084, 1101: 1085, 1102: 1086, 1103: 1087, 1104: 1088, 1105: 1089, 1106: 1090, 1107: 1091, 1108: 1092, 1109: 1093, 1110: 1094, 1111: 1095, 1112: 1096, 1113: 1097, 1114: 1098, 1115: 1099, 1116: 1100, 1117: 1101, 1118: 1102, 1119: 1103, 1120: 1104, 1121: 1105, 1122: 1106, 1123: 1107, 1124: 1108, 1125: 1109, 1126: 1110, 1127: 1111, 1128: 1112, 1129: 1113, 1130: 1114, 1131: 1115, 1132: 1116, 1133: 1117, 1134: 1118, 1135: 1119, 1136: 1120, 1137: 1121, 1138: 1122, 1139: 1123, 1140: 1124, 1141: 1125, 1142: 1126, 1143: 1127, 1144: 1128, 1145: 1129, 1146: 1130, 1147: 1131, 1148: 1132, 1149: 1133, 1150: 1134, 1151: 1135, 1152: 1136, 1153: 1137, 1154: 1138, 1155: 1139, 1156: 1140, 1157: 1141, 1158: 1142, 1159: 1143, 1160: 1144, 1161: 1145, 1162: 1146, 1163: 1147, 1164: 1148, 1165: 1149, 1166: 1150, 1167: 1151, 1168: 1152, 1169: 1153, 1170: 1154, 1171: 1155, 1172: 1156, 1173: 1157, 1174: 1158, 1175: 1159, 1176: 1160, 1177: 1161, 1178: 1162, 1179: 1163, 1180: 1164, 1181: 1165, 1183: 1166, 1184: 1167, 1185: 1168, 1186: 1169, 1187: 1170, 1188: 1171, 1189: 1172, 1190: 1173, 1191: 1174, 1192: 1175, 1193: 1176, 1194: 1177, 1196: 1178, 1197: 1179, 1198: 1180, 1199: 1181, 1200: 1182, 1201: 1183, 1202: 1184, 1203: 1185, 1204: 1186, 1205: 1187, 1206: 1188, 1207: 1189, 1208: 1190, 1209: 1191, 1210: 1192, 1211: 1193, 1212: 1194, 1213: 1195, 1214: 1196, 1215: 1197, 1216: 1198, 1217: 1199, 1218: 1200, 1219: 1201, 1220: 1202, 1221: 1203, 1222: 1204, 1223: 1205, 1224: 1206, 1225: 1207, 1226: 1208, 1227: 1209, 1228: 1210, 1230: 1211, 1231: 1212, 1232: 1213, 1233: 1214, 1234: 1215, 1235: 1216, 1236: 1217, 1237: 1218, 1238: 1219, 1240: 1220, 1241: 1221, 1242: 1222, 1243: 1223, 1244: 1224, 1245: 1225, 1246: 1226, 1247: 1227, 1248: 1228, 1249: 1229, 1250: 1230, 1251: 1231, 1252: 1232, 1253: 1233, 1254: 1234, 1255: 1235, 1256: 1236, 1257: 1237, 1258: 1238, 1259: 1239, 1260: 1240, 1261: 1241, 1262: 1242, 1263: 1243, 1264: 1244, 1265: 1245, 1266: 1246, 1267: 1247, 1268: 1248, 1269: 1249, 1270: 1250, 1271: 1251, 1272: 1252, 1273: 1253, 1274: 1254, 1275: 1255, 1276: 1256, 1277: 1257, 1278: 1258, 1279: 1259, 1280: 1260, 1281: 1261, 1282: 1262, 1283: 1263, 1284: 1264, 1285: 1265, 1286: 1266, 1287: 1267, 1288: 1268, 1289: 1269, 1290: 1270, 1291: 1271, 1292: 1272, 1293: 1273, 1294: 1274, 1295: 1275, 1296: 1276, 1297: 1277, 1298: 1278, 1299: 1279, 1300: 1280, 1301: 1281, 1302: 1282, 1303: 1283, 1304: 1284, 1305: 1285, 1306: 1286, 1307: 1287, 1308: 1288, 1309: 1289, 1310: 1290, 1311: 1291, 1312: 1292, 1313: 1293, 1314: 1294, 1315: 1295, 1316: 1296, 1317: 1297, 1318: 1298, 1319: 1299, 1320: 1300, 1321: 1301, 1322: 1302, 1323: 1303, 1324: 1304, 1325: 1305, 1326: 1306, 1327: 1307, 1328: 1308, 1329: 1309, 1330: 1310, 1331: 1311, 1332: 1312, 1333: 1313, 1334: 1314, 1335: 1315, 1336: 1316, 1337: 1317, 1339: 1318, 1340: 1319, 1341: 1320, 1342: 1321, 1343: 1322, 1344: 1323, 1345: 1324, 1346: 1325, 1347: 1326, 1348: 1327, 1349: 1328, 1350: 1329, 1351: 1330, 1352: 1331, 1353: 1332, 1354: 1333, 1355: 1334, 1356: 1335, 1357: 1336, 1358: 1337, 1359: 1338, 1360: 1339, 1361: 1340, 1362: 1341, 1363: 1342, 1364: 1343, 1365: 1344, 1366: 1345, 1367: 1346, 1368: 1347, 1369: 1348, 1370: 1349, 1371: 1350, 1372: 1351, 1373: 1352, 1374: 1353, 1375: 1354, 1376: 1355, 1377: 1356, 1378: 1357, 1379: 1358, 1380: 1359, 1381: 1360, 1382: 1361, 1383: 1362, 1384: 1363, 1385: 1364, 1386: 1365, 1387: 1366, 1388: 1367, 1389: 1368, 1390: 1369, 1391: 1370, 1392: 1371, 1393: 1372, 1394: 1373, 1395: 1374, 1396: 1375, 1397: 1376, 1398: 1377, 1399: 1378, 1400: 1379, 1401: 1380, 1404: 1381, 1405: 1382, 1406: 1383, 1407: 1384, 1408: 1385, 1409: 1386, 1410: 1387, 1411: 1388, 1412: 1389, 1413: 1390, 1414: 1391, 1415: 1392, 1416: 1393, 1417: 1394, 1419: 1395, 1420: 1396, 1421: 1397, 1422: 1398, 1423: 1399, 1424: 1400, 1425: 1401, 1426: 1402, 1427: 1403, 1428: 1404, 1429: 1405, 1430: 1406, 1431: 1407, 1432: 1408, 1433: 1409, 1434: 1410, 1436: 1411, 1437: 1412, 1438: 1413, 1439: 1414, 1440: 1415, 1441: 1416, 1442: 1417, 1443: 1418, 1444: 1419, 1445: 1420, 1446: 1421, 1447: 1422, 1448: 1423, 1449: 1424, 1450: 1425, 1453: 1426, 1454: 1427, 1455: 1428, 1456: 1429, 1457: 1430, 1458: 1431, 1459: 1432, 1460: 1433, 1461: 1434, 1462: 1435, 1463: 1436, 1464: 1437, 1465: 1438, 1466: 1439, 1467: 1440, 1468: 1441, 1470: 1442, 1471: 1443, 1472: 1444, 1473: 1445, 1474: 1446, 1475: 1447, 1476: 1448, 1477: 1449, 1479: 1450, 1480: 1451, 1482: 1452, 1483: 1453, 1484: 1454, 1485: 1455, 1486: 1456, 1487: 1457, 1488: 1458, 1489: 1459, 1490: 1460, 1493: 1461, 1494: 1462, 1495: 1463, 1496: 1464, 1497: 1465, 1498: 1466, 1499: 1467, 1500: 1468, 1501: 1469, 1502: 1470, 1503: 1471, 1504: 1472, 1507: 1473, 1508: 1474, 1509: 1475, 1510: 1476, 1511: 1477, 1513: 1478, 1514: 1479, 1515: 1480, 1516: 1481, 1517: 1482, 1518: 1483, 1519: 1484, 1520: 1485, 1522: 1486, 1523: 1487, 1524: 1488, 1525: 1489, 1526: 1490, 1527: 1491, 1528: 1492, 1529: 1493, 1531: 1494, 1532: 1495, 1533: 1496, 1534: 1497, 1535: 1498, 1537: 1499, 1538: 1500, 1539: 1501, 1541: 1502, 1542: 1503, 1543: 1504, 1544: 1505, 1545: 1506, 1546: 1507, 1547: 1508, 1548: 1509, 1549: 1510, 1550: 1511, 1551: 1512, 1552: 1513, 1553: 1514, 1554: 1515, 1555: 1516, 1556: 1517, 1557: 1518, 1558: 1519, 1559: 1520, 1561: 1521, 1562: 1522, 1563: 1523, 1564: 1524, 1565: 1525, 1566: 1526, 1567: 1527, 1568: 1528, 1569: 1529, 1570: 1530, 1571: 1531, 1572: 1532, 1573: 1533, 1574: 1534, 1575: 1535, 1577: 1536, 1578: 1537, 1579: 1538, 1580: 1539, 1581: 1540, 1582: 1541, 1583: 1542, 1584: 1543, 1585: 1544, 1586: 1545, 1587: 1546, 1588: 1547, 1589: 1548, 1590: 1549, 1591: 1550, 1592: 1551, 1593: 1552, 1594: 1553, 1595: 1554, 1596: 1555, 1597: 1556, 1598: 1557, 1599: 1558, 1600: 1559, 1601: 1560, 1602: 1561, 1603: 1562, 1604: 1563, 1605: 1564, 1606: 1565, 1608: 1566, 1609: 1567, 1610: 1568, 1611: 1569, 1612: 1570, 1613: 1571, 1614: 1572, 1615: 1573, 1616: 1574, 1617: 1575, 1619: 1576, 1620: 1577, 1621: 1578, 1622: 1579, 1623: 1580, 1624: 1581, 1625: 1582, 1626: 1583, 1627: 1584, 1628: 1585, 1629: 1586, 1630: 1587, 1631: 1588, 1632: 1589, 1633: 1590, 1635: 1591, 1636: 1592, 1639: 1593, 1640: 1594, 1641: 1595, 1642: 1596, 1643: 1597, 1644: 1598, 1645: 1599, 1646: 1600, 1647: 1601, 1648: 1602, 1649: 1603, 1650: 1604, 1651: 1605, 1652: 1606, 1653: 1607, 1654: 1608, 1655: 1609, 1656: 1610, 1657: 1611, 1658: 1612, 1659: 1613, 1660: 1614, 1661: 1615, 1662: 1616, 1663: 1617, 1664: 1618, 1665: 1619, 1666: 1620, 1667: 1621, 1668: 1622, 1669: 1623, 1670: 1624, 1671: 1625, 1672: 1626, 1673: 1627, 1674: 1628, 1675: 1629, 1676: 1630, 1677: 1631, 1678: 1632, 1679: 1633, 1680: 1634, 1681: 1635, 1682: 1636, 1683: 1637, 1684: 1638, 1685: 1639, 1686: 1640, 1687: 1641, 1688: 1642, 1689: 1643, 1690: 1644, 1692: 1645, 1693: 1646, 1694: 1647, 1695: 1648, 1696: 1649, 1697: 1650, 1698: 1651, 1699: 1652, 1701: 1653, 1702: 1654, 1703: 1655, 1704: 1656, 1705: 1657, 1706: 1658, 1707: 1659, 1708: 1660, 1709: 1661, 1710: 1662, 1711: 1663, 1713: 1664, 1714: 1665, 1715: 1666, 1716: 1667, 1717: 1668, 1718: 1669, 1719: 1670, 1720: 1671, 1721: 1672, 1722: 1673, 1723: 1674, 1724: 1675, 1725: 1676, 1726: 1677, 1727: 1678, 1728: 1679, 1729: 1680, 1730: 1681, 1731: 1682, 1732: 1683, 1733: 1684, 1734: 1685, 1735: 1686, 1738: 1687, 1739: 1688, 1740: 1689, 1741: 1690, 1742: 1691, 1743: 1692, 1744: 1693, 1746: 1694, 1747: 1695, 1748: 1696, 1749: 1697, 1750: 1698, 1752: 1699, 1753: 1700, 1754: 1701, 1755: 1702, 1756: 1703, 1757: 1704, 1758: 1705, 1759: 1706, 1760: 1707, 1762: 1708, 1764: 1709, 1765: 1710, 1767: 1711, 1768: 1712, 1769: 1713, 1770: 1714, 1771: 1715, 1772: 1716, 1773: 1717, 1774: 1718, 1776: 1719, 1777: 1720, 1779: 1721, 1780: 1722, 1781: 1723, 1782: 1724, 1783: 1725, 1784: 1726, 1785: 1727, 1787: 1728, 1788: 1729, 1789: 1730, 1791: 1731, 1792: 1732, 1793: 1733, 1794: 1734, 1795: 1735, 1796: 1736, 1797: 1737, 1798: 1738, 1799: 1739, 1801: 1740, 1804: 1741, 1805: 1742, 1806: 1743, 1807: 1744, 1809: 1745, 1810: 1746, 1811: 1747, 1812: 1748, 1814: 1749, 1815: 1750, 1816: 1751, 1817: 1752, 1819: 1753, 1820: 1754, 1821: 1755, 1822: 1756, 1824: 1757, 1825: 1758, 1826: 1759, 1827: 1760, 1829: 1761, 1830: 1762, 1831: 1763, 1832: 1764, 1833: 1765, 1834: 1766, 1835: 1767, 1836: 1768, 1837: 1769, 1839: 1770, 1840: 1771, 1841: 1772, 1842: 1773, 1843: 1774, 1844: 1775, 1845: 1776, 1846: 1777, 1847: 1778, 1848: 1779, 1849: 1780, 1850: 1781, 1851: 1782, 1852: 1783, 1853: 1784, 1854: 1785, 1855: 1786, 1856: 1787, 1857: 1788, 1858: 1789, 1859: 1790, 1860: 1791, 1861: 1792, 1862: 1793, 1863: 1794, 1864: 1795, 1865: 1796, 1866: 1797, 1867: 1798, 1868: 1799, 1869: 1800, 1870: 1801, 1871: 1802, 1872: 1803, 1873: 1804, 1874: 1805, 1875: 1806, 1876: 1807, 1877: 1808, 1878: 1809, 1879: 1810, 1880: 1811, 1881: 1812, 1882: 1813, 1883: 1814, 1884: 1815, 1885: 1816, 1886: 1817, 1887: 1818, 1888: 1819, 1889: 1820, 1890: 1821, 1891: 1822, 1892: 1823, 1893: 1824, 1894: 1825, 1895: 1826, 1896: 1827, 1897: 1828, 1898: 1829, 1899: 1830, 1900: 1831, 1901: 1832, 1902: 1833, 1903: 1834, 1904: 1835, 1905: 1836, 1906: 1837, 1907: 1838, 1908: 1839, 1909: 1840, 1910: 1841, 1911: 1842, 1912: 1843, 1913: 1844, 1914: 1845, 1915: 1846, 1916: 1847, 1917: 1848, 1918: 1849, 1919: 1850, 1920: 1851, 1921: 1852, 1922: 1853, 1923: 1854, 1924: 1855, 1925: 1856, 1926: 1857, 1927: 1858, 1928: 1859, 1929: 1860, 1930: 1861, 1931: 1862, 1932: 1863, 1933: 1864, 1934: 1865, 1935: 1866, 1936: 1867, 1937: 1868, 1938: 1869, 1939: 1870, 1940: 1871, 1941: 1872, 1942: 1873, 1943: 1874, 1944: 1875, 1945: 1876, 1946: 1877, 1947: 1878, 1948: 1879, 1949: 1880, 1950: 1881, 1951: 1882, 1952: 1883, 1953: 1884, 1954: 1885, 1955: 1886, 1956: 1887, 1957: 1888, 1958: 1889, 1959: 1890, 1960: 1891, 1961: 1892, 1962: 1893, 1963: 1894, 1964: 1895, 1965: 1896, 1966: 1897, 1967: 1898, 1968: 1899, 1969: 1900, 1970: 1901, 1971: 1902, 1972: 1903, 1973: 1904, 1974: 1905, 1975: 1906, 1976: 1907, 1977: 1908, 1978: 1909, 1979: 1910, 1980: 1911, 1981: 1912, 1982: 1913, 1983: 1914, 1984: 1915, 1985: 1916, 1986: 1917, 1987: 1918, 1988: 1919, 1989: 1920, 1990: 1921, 1991: 1922, 1992: 1923, 1993: 1924, 1994: 1925, 1995: 1926, 1996: 1927, 1997: 1928, 1998: 1929, 1999: 1930, 2000: 1931, 2001: 1932, 2002: 1933, 2003: 1934, 2004: 1935, 2005: 1936, 2006: 1937, 2007: 1938, 2008: 1939, 2009: 1940, 2010: 1941, 2011: 1942, 2012: 1943, 2013: 1944, 2014: 1945, 2015: 1946, 2016: 1947, 2017: 1948, 2018: 1949, 2019: 1950, 2020: 1951, 2021: 1952, 2022: 1953, 2023: 1954, 2024: 1955, 2025: 1956, 2026: 1957, 2027: 1958, 2028: 1959, 2029: 1960, 2030: 1961, 2031: 1962, 2032: 1963, 2033: 1964, 2034: 1965, 2035: 1966, 2036: 1967, 2037: 1968, 2038: 1969, 2039: 1970, 2040: 1971, 2041: 1972, 2042: 1973, 2043: 1974, 2044: 1975, 2045: 1976, 2046: 1977, 2047: 1978, 2048: 1979, 2049: 1980, 2050: 1981, 2051: 1982, 2052: 1983, 2053: 1984, 2054: 1985, 2055: 1986, 2056: 1987, 2057: 1988, 2058: 1989, 2059: 1990, 2060: 1991, 2061: 1992, 2062: 1993, 2063: 1994, 2064: 1995, 2065: 1996, 2066: 1997, 2067: 1998, 2068: 1999, 2069: 2000, 2070: 2001, 2071: 2002, 2072: 2003, 2073: 2004, 2074: 2005, 2075: 2006, 2076: 2007, 2077: 2008, 2078: 2009, 2079: 2010, 2080: 2011, 2081: 2012, 2082: 2013, 2083: 2014, 2084: 2015, 2085: 2016, 2086: 2017, 2087: 2018, 2088: 2019, 2089: 2020, 2090: 2021, 2091: 2022, 2092: 2023, 2093: 2024, 2094: 2025, 2095: 2026, 2096: 2027, 2097: 2028, 2098: 2029, 2099: 2030, 2100: 2031, 2101: 2032, 2102: 2033, 2103: 2034, 2104: 2035, 2105: 2036, 2106: 2037, 2107: 2038, 2108: 2039, 2109: 2040, 2110: 2041, 2111: 2042, 2112: 2043, 2113: 2044, 2114: 2045, 2115: 2046, 2116: 2047, 2117: 2048, 2118: 2049, 2119: 2050, 2120: 2051, 2121: 2052, 2122: 2053, 2123: 2054, 2124: 2055, 2125: 2056, 2126: 2057, 2127: 2058, 2128: 2059, 2129: 2060, 2130: 2061, 2131: 2062, 2132: 2063, 2133: 2064, 2134: 2065, 2135: 2066, 2136: 2067, 2137: 2068, 2138: 2069, 2139: 2070, 2140: 2071, 2141: 2072, 2142: 2073, 2143: 2074, 2144: 2075, 2145: 2076, 2146: 2077, 2147: 2078, 2148: 2079, 2149: 2080, 2150: 2081, 2151: 2082, 2152: 2083, 2153: 2084, 2154: 2085, 2155: 2086, 2156: 2087, 2157: 2088, 2158: 2089, 2159: 2090, 2160: 2091, 2161: 2092, 2162: 2093, 2163: 2094, 2164: 2095, 2165: 2096, 2166: 2097, 2167: 2098, 2168: 2099, 2169: 2100, 2170: 2101, 2171: 2102, 2172: 2103, 2173: 2104, 2174: 2105, 2175: 2106, 2176: 2107, 2177: 2108, 2178: 2109, 2179: 2110, 2180: 2111, 2181: 2112, 2182: 2113, 2183: 2114, 2184: 2115, 2185: 2116, 2186: 2117, 2187: 2118, 2188: 2119, 2189: 2120, 2190: 2121, 2191: 2122, 2192: 2123, 2193: 2124, 2194: 2125, 2195: 2126, 2196: 2127, 2197: 2128, 2198: 2129, 2199: 2130, 2200: 2131, 2201: 2132, 2202: 2133, 2203: 2134, 2204: 2135, 2205: 2136, 2206: 2137, 2207: 2138, 2208: 2139, 2209: 2140, 2210: 2141, 2211: 2142, 2212: 2143, 2213: 2144, 2214: 2145, 2215: 2146, 2216: 2147, 2217: 2148, 2218: 2149, 2219: 2150, 2220: 2151, 2221: 2152, 2222: 2153, 2223: 2154, 2224: 2155, 2225: 2156, 2226: 2157, 2227: 2158, 2228: 2159, 2229: 2160, 2230: 2161, 2231: 2162, 2232: 2163, 2233: 2164, 2234: 2165, 2235: 2166, 2236: 2167, 2237: 2168, 2238: 2169, 2239: 2170, 2240: 2171, 2241: 2172, 2242: 2173, 2243: 2174, 2244: 2175, 2245: 2176, 2246: 2177, 2247: 2178, 2248: 2179, 2249: 2180, 2250: 2181, 2251: 2182, 2252: 2183, 2253: 2184, 2254: 2185, 2255: 2186, 2256: 2187, 2257: 2188, 2258: 2189, 2259: 2190, 2260: 2191, 2261: 2192, 2262: 2193, 2263: 2194, 2264: 2195, 2265: 2196, 2266: 2197, 2267: 2198, 2268: 2199, 2269: 2200, 2270: 2201, 2271: 2202, 2272: 2203, 2273: 2204, 2274: 2205, 2275: 2206, 2276: 2207, 2277: 2208, 2278: 2209, 2279: 2210, 2280: 2211, 2281: 2212, 2282: 2213, 2283: 2214, 2284: 2215, 2285: 2216, 2286: 2217, 2287: 2218, 2288: 2219, 2289: 2220, 2290: 2221, 2291: 2222, 2292: 2223, 2293: 2224, 2294: 2225, 2295: 2226, 2296: 2227, 2297: 2228, 2298: 2229, 2299: 2230, 2300: 2231, 2301: 2232, 2302: 2233, 2303: 2234, 2304: 2235, 2305: 2236, 2306: 2237, 2307: 2238, 2308: 2239, 2309: 2240, 2310: 2241, 2311: 2242, 2312: 2243, 2313: 2244, 2314: 2245, 2315: 2246, 2316: 2247, 2317: 2248, 2318: 2249, 2319: 2250, 2320: 2251, 2321: 2252, 2322: 2253, 2323: 2254, 2324: 2255, 2325: 2256, 2326: 2257, 2327: 2258, 2328: 2259, 2329: 2260, 2330: 2261, 2331: 2262, 2332: 2263, 2333: 2264, 2334: 2265, 2335: 2266, 2336: 2267, 2337: 2268, 2338: 2269, 2339: 2270, 2340: 2271, 2341: 2272, 2342: 2273, 2343: 2274, 2344: 2275, 2345: 2276, 2346: 2277, 2347: 2278, 2348: 2279, 2349: 2280, 2350: 2281, 2351: 2282, 2352: 2283, 2353: 2284, 2354: 2285, 2355: 2286, 2356: 2287, 2357: 2288, 2358: 2289, 2359: 2290, 2360: 2291, 2361: 2292, 2362: 2293, 2363: 2294, 2364: 2295, 2365: 2296, 2366: 2297, 2367: 2298, 2368: 2299, 2369: 2300, 2370: 2301, 2371: 2302, 2372: 2303, 2373: 2304, 2374: 2305, 2375: 2306, 2376: 2307, 2377: 2308, 2378: 2309, 2379: 2310, 2380: 2311, 2381: 2312, 2382: 2313, 2383: 2314, 2384: 2315, 2385: 2316, 2386: 2317, 2387: 2318, 2388: 2319, 2389: 2320, 2390: 2321, 2391: 2322, 2392: 2323, 2393: 2324, 2394: 2325, 2395: 2326, 2396: 2327, 2397: 2328, 2398: 2329, 2399: 2330, 2400: 2331, 2401: 2332, 2402: 2333, 2403: 2334, 2404: 2335, 2405: 2336, 2406: 2337, 2407: 2338, 2408: 2339, 2409: 2340, 2410: 2341, 2411: 2342, 2412: 2343, 2413: 2344, 2414: 2345, 2415: 2346, 2416: 2347, 2417: 2348, 2418: 2349, 2419: 2350, 2420: 2351, 2421: 2352, 2422: 2353, 2423: 2354, 2424: 2355, 2425: 2356, 2426: 2357, 2427: 2358, 2428: 2359, 2429: 2360, 2430: 2361, 2431: 2362, 2432: 2363, 2433: 2364, 2434: 2365, 2435: 2366, 2436: 2367, 2437: 2368, 2438: 2369, 2439: 2370, 2440: 2371, 2441: 2372, 2442: 2373, 2443: 2374, 2444: 2375, 2445: 2376, 2446: 2377, 2447: 2378, 2448: 2379, 2449: 2380, 2450: 2381, 2451: 2382, 2452: 2383, 2453: 2384, 2454: 2385, 2455: 2386, 2456: 2387, 2457: 2388, 2458: 2389, 2459: 2390, 2460: 2391, 2461: 2392, 2462: 2393, 2463: 2394, 2464: 2395, 2465: 2396, 2466: 2397, 2467: 2398, 2468: 2399, 2469: 2400, 2470: 2401, 2471: 2402, 2472: 2403, 2473: 2404, 2474: 2405, 2475: 2406, 2476: 2407, 2477: 2408, 2478: 2409, 2479: 2410, 2480: 2411, 2481: 2412, 2482: 2413, 2483: 2414, 2484: 2415, 2485: 2416, 2486: 2417, 2487: 2418, 2488: 2419, 2489: 2420, 2490: 2421, 2491: 2422, 2492: 2423, 2493: 2424, 2494: 2425, 2495: 2426, 2496: 2427, 2497: 2428, 2498: 2429, 2499: 2430, 2500: 2431, 2501: 2432, 2502: 2433, 2503: 2434, 2504: 2435, 2505: 2436, 2506: 2437, 2507: 2438, 2508: 2439, 2509: 2440, 2510: 2441, 2511: 2442, 2512: 2443, 2513: 2444, 2514: 2445, 2515: 2446, 2516: 2447, 2517: 2448, 2518: 2449, 2519: 2450, 2520: 2451, 2521: 2452, 2522: 2453, 2523: 2454, 2524: 2455, 2525: 2456, 2526: 2457, 2527: 2458, 2528: 2459, 2529: 2460, 2530: 2461, 2531: 2462, 2532: 2463, 2533: 2464, 2534: 2465, 2535: 2466, 2536: 2467, 2537: 2468, 2538: 2469, 2539: 2470, 2540: 2471, 2541: 2472, 2542: 2473, 2543: 2474, 2544: 2475, 2545: 2476, 2546: 2477, 2547: 2478, 2548: 2479, 2549: 2480, 2550: 2481, 2551: 2482, 2552: 2483, 2553: 2484, 2554: 2485, 2555: 2486, 2556: 2487, 2557: 2488, 2558: 2489, 2559: 2490, 2560: 2491, 2561: 2492, 2562: 2493, 2563: 2494, 2564: 2495, 2565: 2496, 2566: 2497, 2567: 2498, 2568: 2499, 2569: 2500, 2570: 2501, 2571: 2502, 2572: 2503, 2573: 2504, 2574: 2505, 2575: 2506, 2576: 2507, 2577: 2508, 2578: 2509, 2579: 2510, 2580: 2511, 2581: 2512, 2582: 2513, 2583: 2514, 2584: 2515, 2585: 2516, 2586: 2517, 2587: 2518, 2588: 2519, 2589: 2520, 2590: 2521, 2591: 2522, 2592: 2523, 2593: 2524, 2594: 2525, 2595: 2526, 2596: 2527, 2597: 2528, 2598: 2529, 2599: 2530, 2600: 2531, 2601: 2532, 2602: 2533, 2603: 2534, 2604: 2535, 2605: 2536, 2606: 2537, 2607: 2538, 2608: 2539, 2609: 2540, 2610: 2541, 2611: 2542, 2612: 2543, 2613: 2544, 2614: 2545, 2615: 2546, 2616: 2547, 2617: 2548, 2618: 2549, 2619: 2550, 2620: 2551, 2621: 2552, 2622: 2553, 2623: 2554, 2624: 2555, 2625: 2556, 2626: 2557, 2627: 2558, 2628: 2559, 2629: 2560, 2630: 2561, 2631: 2562, 2632: 2563, 2633: 2564, 2634: 2565, 2635: 2566, 2636: 2567, 2637: 2568, 2638: 2569, 2639: 2570, 2640: 2571, 2641: 2572, 2642: 2573, 2643: 2574, 2644: 2575, 2645: 2576, 2646: 2577, 2647: 2578, 2648: 2579, 2649: 2580, 2650: 2581, 2651: 2582, 2652: 2583, 2653: 2584, 2654: 2585, 2655: 2586, 2656: 2587, 2657: 2588, 2658: 2589, 2659: 2590, 2660: 2591, 2661: 2592, 2662: 2593, 2663: 2594, 2664: 2595, 2665: 2596, 2666: 2597, 2667: 2598, 2668: 2599, 2669: 2600, 2670: 2601, 2671: 2602, 2672: 2603, 2673: 2604, 2674: 2605, 2675: 2606, 2676: 2607, 2677: 2608, 2678: 2609, 2679: 2610, 2680: 2611, 2681: 2612, 2682: 2613, 2683: 2614, 2684: 2615, 2685: 2616, 2686: 2617, 2687: 2618, 2688: 2619, 2689: 2620, 2690: 2621, 2691: 2622, 2692: 2623, 2693: 2624, 2694: 2625, 2695: 2626, 2696: 2627, 2697: 2628, 2698: 2629, 2699: 2630, 2700: 2631, 2701: 2632, 2702: 2633, 2703: 2634, 2704: 2635, 2705: 2636, 2706: 2637, 2707: 2638, 2708: 2639, 2709: 2640, 2710: 2641, 2711: 2642, 2712: 2643, 2713: 2644, 2714: 2645, 2715: 2646, 2716: 2647, 2717: 2648, 2718: 2649, 2719: 2650, 2720: 2651, 2721: 2652, 2722: 2653, 2723: 2654, 2724: 2655, 2725: 2656, 2726: 2657, 2727: 2658, 2728: 2659, 2729: 2660, 2730: 2661, 2731: 2662, 2732: 2663, 2733: 2664, 2734: 2665, 2735: 2666, 2736: 2667, 2737: 2668, 2738: 2669, 2739: 2670, 2740: 2671, 2741: 2672, 2742: 2673, 2743: 2674, 2744: 2675, 2745: 2676, 2746: 2677, 2747: 2678, 2748: 2679, 2749: 2680, 2750: 2681, 2751: 2682, 2752: 2683, 2753: 2684, 2754: 2685, 2755: 2686, 2756: 2687, 2757: 2688, 2758: 2689, 2759: 2690, 2760: 2691, 2761: 2692, 2762: 2693, 2763: 2694, 2764: 2695, 2765: 2696, 2766: 2697, 2767: 2698, 2768: 2699, 2769: 2700, 2770: 2701, 2771: 2702, 2772: 2703, 2773: 2704, 2774: 2705, 2775: 2706, 2776: 2707, 2777: 2708, 2778: 2709, 2779: 2710, 2780: 2711, 2781: 2712, 2782: 2713, 2783: 2714, 2784: 2715, 2785: 2716, 2786: 2717, 2787: 2718, 2788: 2719, 2789: 2720, 2790: 2721, 2791: 2722, 2792: 2723, 2793: 2724, 2794: 2725, 2795: 2726, 2796: 2727, 2797: 2728, 2798: 2729, 2799: 2730, 2800: 2731, 2801: 2732, 2802: 2733, 2803: 2734, 2804: 2735, 2805: 2736, 2806: 2737, 2807: 2738, 2808: 2739, 2809: 2740, 2810: 2741, 2811: 2742, 2812: 2743, 2813: 2744, 2814: 2745, 2815: 2746, 2816: 2747, 2817: 2748, 2818: 2749, 2819: 2750, 2820: 2751, 2821: 2752, 2822: 2753, 2823: 2754, 2824: 2755, 2825: 2756, 2826: 2757, 2827: 2758, 2828: 2759, 2829: 2760, 2830: 2761, 2831: 2762, 2832: 2763, 2833: 2764, 2834: 2765, 2835: 2766, 2836: 2767, 2837: 2768, 2838: 2769, 2839: 2770, 2840: 2771, 2841: 2772, 2842: 2773, 2843: 2774, 2844: 2775, 2845: 2776, 2846: 2777, 2847: 2778, 2848: 2779, 2849: 2780, 2850: 2781, 2851: 2782, 2852: 2783, 2853: 2784, 2854: 2785, 2855: 2786, 2856: 2787, 2857: 2788, 2858: 2789, 2859: 2790, 2860: 2791, 2861: 2792, 2862: 2793, 2863: 2794, 2864: 2795, 2865: 2796, 2866: 2797, 2867: 2798, 2868: 2799, 2869: 2800, 2870: 2801, 2871: 2802, 2872: 2803, 2873: 2804, 2874: 2805, 2875: 2806, 2876: 2807, 2877: 2808, 2878: 2809, 2879: 2810, 2880: 2811, 2881: 2812, 2882: 2813, 2883: 2814, 2884: 2815, 2885: 2816, 2886: 2817, 2887: 2818, 2888: 2819, 2889: 2820, 2890: 2821, 2891: 2822, 2892: 2823, 2893: 2824, 2894: 2825, 2895: 2826, 2896: 2827, 2897: 2828, 2898: 2829, 2899: 2830, 2900: 2831, 2901: 2832, 2902: 2833, 2903: 2834, 2904: 2835, 2905: 2836, 2906: 2837, 2907: 2838, 2908: 2839, 2909: 2840, 2910: 2841, 2911: 2842, 2912: 2843, 2913: 2844, 2914: 2845, 2915: 2846, 2916: 2847, 2917: 2848, 2918: 2849, 2919: 2850, 2920: 2851, 2921: 2852, 2922: 2853, 2923: 2854, 2924: 2855, 2925: 2856, 2926: 2857, 2927: 2858, 2928: 2859, 2929: 2860, 2930: 2861, 2931: 2862, 2932: 2863, 2933: 2864, 2934: 2865, 2935: 2866, 2936: 2867, 2937: 2868, 2938: 2869, 2939: 2870, 2940: 2871, 2941: 2872, 2942: 2873, 2943: 2874, 2944: 2875, 2945: 2876, 2946: 2877, 2947: 2878, 2948: 2879, 2949: 2880, 2950: 2881, 2951: 2882, 2952: 2883, 2953: 2884, 2954: 2885, 2955: 2886, 2956: 2887, 2957: 2888, 2958: 2889, 2959: 2890, 2960: 2891, 2961: 2892, 2962: 2893, 2963: 2894, 2964: 2895, 2965: 2896, 2966: 2897, 2967: 2898, 2968: 2899, 2969: 2900, 2970: 2901, 2971: 2902, 2972: 2903, 2973: 2904, 2974: 2905, 2975: 2906, 2976: 2907, 2977: 2908, 2978: 2909, 2979: 2910, 2980: 2911, 2981: 2912, 2982: 2913, 2983: 2914, 2984: 2915, 2985: 2916, 2986: 2917, 2987: 2918, 2988: 2919, 2989: 2920, 2990: 2921, 2991: 2922, 2992: 2923, 2993: 2924, 2994: 2925, 2995: 2926, 2996: 2927, 2997: 2928, 2998: 2929, 2999: 2930, 3000: 2931, 3001: 2932, 3002: 2933, 3003: 2934, 3004: 2935, 3005: 2936, 3006: 2937, 3007: 2938, 3008: 2939, 3009: 2940, 3010: 2941, 3011: 2942, 3012: 2943, 3013: 2944, 3014: 2945, 3015: 2946, 3016: 2947, 3017: 2948, 3018: 2949, 3019: 2950, 3020: 2951, 3021: 2952, 3022: 2953, 3023: 2954, 3024: 2955, 3025: 2956, 3026: 2957, 3027: 2958, 3028: 2959, 3029: 2960, 3030: 2961, 3031: 2962, 3032: 2963, 3033: 2964, 3034: 2965, 3035: 2966, 3036: 2967, 3037: 2968, 3038: 2969, 3039: 2970, 3040: 2971, 3041: 2972, 3042: 2973, 3043: 2974, 3044: 2975, 3045: 2976, 3046: 2977, 3047: 2978, 3048: 2979, 3049: 2980, 3050: 2981, 3051: 2982, 3052: 2983, 3053: 2984, 3054: 2985, 3055: 2986, 3056: 2987, 3057: 2988, 3058: 2989, 3059: 2990, 3060: 2991, 3061: 2992, 3062: 2993, 3063: 2994, 3064: 2995, 3065: 2996, 3066: 2997, 3067: 2998, 3068: 2999, 3069: 3000, 3070: 3001, 3071: 3002, 3072: 3003, 3073: 3004, 3074: 3005, 3075: 3006, 3076: 3007, 3077: 3008, 3078: 3009, 3079: 3010, 3080: 3011, 3081: 3012, 3082: 3013, 3083: 3014, 3084: 3015, 3085: 3016, 3086: 3017, 3087: 3018, 3088: 3019, 3089: 3020, 3090: 3021, 3091: 3022, 3092: 3023, 3093: 3024, 3094: 3025, 3095: 3026, 3096: 3027, 3097: 3028, 3098: 3029, 3099: 3030, 3100: 3031, 3101: 3032, 3102: 3033, 3103: 3034, 3104: 3035, 3105: 3036, 3106: 3037, 3107: 3038, 3108: 3039, 3109: 3040, 3110: 3041, 3111: 3042, 3112: 3043, 3113: 3044, 3114: 3045, 3115: 3046, 3116: 3047, 3117: 3048, 3118: 3049, 3119: 3050, 3120: 3051, 3121: 3052, 3122: 3053, 3123: 3054, 3124: 3055, 3125: 3056, 3126: 3057, 3127: 3058, 3128: 3059, 3129: 3060, 3130: 3061, 3131: 3062, 3132: 3063, 3133: 3064, 3134: 3065, 3135: 3066, 3136: 3067, 3137: 3068, 3138: 3069, 3139: 3070, 3140: 3071, 3141: 3072, 3142: 3073, 3143: 3074, 3144: 3075, 3145: 3076, 3146: 3077, 3147: 3078, 3148: 3079, 3149: 3080, 3150: 3081, 3151: 3082, 3152: 3083, 3153: 3084, 3154: 3085, 3155: 3086, 3156: 3087, 3157: 3088, 3158: 3089, 3159: 3090, 3160: 3091, 3161: 3092, 3162: 3093, 3163: 3094, 3164: 3095, 3165: 3096, 3166: 3097, 3167: 3098, 3168: 3099, 3169: 3100, 3170: 3101, 3171: 3102, 3172: 3103, 3173: 3104, 3174: 3105, 3175: 3106, 3176: 3107, 3177: 3108, 3178: 3109, 3179: 3110, 3180: 3111, 3181: 3112, 3182: 3113, 3183: 3114, 3184: 3115, 3185: 3116, 3186: 3117, 3187: 3118, 3188: 3119, 3189: 3120, 3190: 3121, 3191: 3122, 3192: 3123, 3193: 3124, 3194: 3125, 3195: 3126, 3196: 3127, 3197: 3128, 3198: 3129, 3199: 3130, 3200: 3131, 3201: 3132, 3202: 3133, 3203: 3134, 3204: 3135, 3205: 3136, 3206: 3137, 3207: 3138, 3208: 3139, 3209: 3140, 3210: 3141, 3211: 3142, 3212: 3143, 3213: 3144, 3214: 3145, 3215: 3146, 3216: 3147, 3217: 3148, 3218: 3149, 3219: 3150, 3220: 3151, 3221: 3152, 3222: 3153, 3223: 3154, 3224: 3155, 3225: 3156, 3226: 3157, 3227: 3158, 3228: 3159, 3229: 3160, 3230: 3161, 3231: 3162, 3232: 3163, 3233: 3164, 3234: 3165, 3235: 3166, 3236: 3167, 3237: 3168, 3238: 3169, 3239: 3170, 3240: 3171, 3241: 3172, 3242: 3173, 3243: 3174, 3244: 3175, 3245: 3176, 3246: 3177, 3247: 3178, 3248: 3179, 3249: 3180, 3250: 3181, 3251: 3182, 3252: 3183, 3253: 3184, 3254: 3185, 3255: 3186, 3256: 3187, 3257: 3188, 3258: 3189, 3259: 3190, 3260: 3191, 3261: 3192, 3262: 3193, 3263: 3194, 3264: 3195, 3265: 3196, 3266: 3197, 3267: 3198, 3268: 3199, 3269: 3200, 3270: 3201, 3271: 3202, 3272: 3203, 3273: 3204, 3274: 3205, 3275: 3206, 3276: 3207, 3277: 3208, 3278: 3209, 3279: 3210, 3280: 3211, 3281: 3212, 3282: 3213, 3283: 3214, 3284: 3215, 3285: 3216, 3286: 3217, 3287: 3218, 3288: 3219, 3289: 3220, 3290: 3221, 3291: 3222, 3292: 3223, 3293: 3224, 3294: 3225, 3295: 3226, 3296: 3227, 3297: 3228, 3298: 3229, 3299: 3230, 3300: 3231, 3301: 3232, 3302: 3233, 3303: 3234, 3304: 3235, 3305: 3236, 3306: 3237, 3307: 3238, 3308: 3239, 3309: 3240, 3310: 3241, 3311: 3242, 3312: 3243, 3313: 3244, 3314: 3245, 3315: 3246, 3316: 3247, 3317: 3248, 3318: 3249, 3319: 3250, 3320: 3251, 3321: 3252, 3322: 3253, 3323: 3254, 3324: 3255, 3325: 3256, 3326: 3257, 3327: 3258, 3328: 3259, 3329: 3260, 3330: 3261, 3331: 3262, 3332: 3263, 3333: 3264, 3334: 3265, 3335: 3266, 3336: 3267, 3337: 3268, 3338: 3269, 3339: 3270, 3340: 3271, 3341: 3272, 3342: 3273, 3343: 3274, 3344: 3275, 3345: 3276, 3346: 3277, 3347: 3278, 3348: 3279, 3349: 3280, 3350: 3281, 3351: 3282, 3352: 3283, 3353: 3284, 3354: 3285, 3355: 3286, 3356: 3287, 3357: 3288, 3358: 3289, 3359: 3290, 3360: 3291, 3361: 3292, 3362: 3293, 3363: 3294, 3364: 3295, 3365: 3296, 3366: 3297, 3367: 3298, 3368: 3299, 3369: 3300, 3370: 3301, 3371: 3302, 3372: 3303, 3373: 3304, 3374: 3305, 3375: 3306, 3376: 3307, 3377: 3308, 3378: 3309, 3379: 3310, 3380: 3311, 3381: 3312, 3382: 3313, 3383: 3314, 3384: 3315, 3385: 3316, 3386: 3317, 3387: 3318, 3388: 3319, 3389: 3320, 3390: 3321, 3391: 3322, 3392: 3323, 3393: 3324, 3394: 3325, 3395: 3326, 3396: 3327, 3397: 3328, 3398: 3329, 3399: 3330, 3400: 3331, 3401: 3332, 3402: 3333, 3403: 3334, 3404: 3335, 3405: 3336, 3406: 3337, 3407: 3338, 3408: 3339, 3409: 3340, 3410: 3341, 3411: 3342, 3412: 3343, 3413: 3344, 3414: 3345, 3415: 3346, 3416: 3347, 3417: 3348, 3418: 3349, 3419: 3350, 3420: 3351, 3421: 3352, 3422: 3353, 3423: 3354, 3424: 3355, 3425: 3356, 3426: 3357, 3427: 3358, 3428: 3359, 3429: 3360, 3430: 3361, 3431: 3362, 3432: 3363, 3433: 3364, 3434: 3365, 3435: 3366, 3436: 3367, 3437: 3368, 3438: 3369, 3439: 3370, 3440: 3371, 3441: 3372, 3442: 3373, 3443: 3374, 3444: 3375, 3445: 3376, 3446: 3377, 3447: 3378, 3448: 3379, 3449: 3380, 3450: 3381, 3451: 3382, 3452: 3383, 3453: 3384, 3454: 3385, 3455: 3386, 3456: 3387, 3457: 3388, 3458: 3389, 3459: 3390, 3460: 3391, 3461: 3392, 3462: 3393, 3463: 3394, 3464: 3395, 3465: 3396, 3466: 3397, 3467: 3398, 3468: 3399, 3469: 3400, 3470: 3401, 3471: 3402, 3472: 3403, 3473: 3404, 3474: 3405, 3475: 3406, 3476: 3407, 3477: 3408, 3478: 3409, 3479: 3410, 3480: 3411, 3481: 3412, 3482: 3413, 3483: 3414, 3484: 3415, 3485: 3416, 3486: 3417, 3487: 3418, 3488: 3419, 3489: 3420, 3490: 3421, 3491: 3422, 3492: 3423, 3493: 3424, 3494: 3425, 3495: 3426, 3496: 3427, 3497: 3428, 3498: 3429, 3499: 3430, 3500: 3431, 3501: 3432, 3502: 3433, 3503: 3434, 3504: 3435, 3505: 3436, 3506: 3437, 3507: 3438, 3508: 3439, 3509: 3440, 3510: 3441, 3511: 3442, 3512: 3443, 3513: 3444, 3514: 3445, 3515: 3446, 3516: 3447, 3517: 3448, 3518: 3449, 3519: 3450, 3520: 3451, 3521: 3452, 3522: 3453, 3523: 3454, 3524: 3455, 3525: 3456, 3526: 3457, 3527: 3458, 3528: 3459, 3529: 3460, 3530: 3461, 3531: 3462, 3532: 3463, 3533: 3464, 3534: 3465, 3535: 3466, 3536: 3467, 3537: 3468, 3538: 3469, 3539: 3470, 3540: 3471, 3541: 3472, 3542: 3473, 3543: 3474, 3544: 3475, 3545: 3476, 3546: 3477, 3547: 3478, 3548: 3479, 3549: 3480, 3550: 3481, 3551: 3482, 3552: 3483, 3553: 3484, 3554: 3485, 3555: 3486, 3556: 3487, 3557: 3488, 3558: 3489, 3559: 3490, 3560: 3491, 3561: 3492, 3562: 3493, 3563: 3494, 3564: 3495, 3565: 3496, 3566: 3497, 3567: 3498, 3568: 3499, 3569: 3500, 3570: 3501, 3571: 3502, 3572: 3503, 3573: 3504, 3574: 3505, 3575: 3506, 3576: 3507, 3577: 3508, 3578: 3509, 3579: 3510, 3580: 3511, 3581: 3512, 3582: 3513, 3583: 3514, 3584: 3515, 3585: 3516, 3586: 3517, 3587: 3518, 3588: 3519, 3589: 3520, 3590: 3521, 3591: 3522, 3592: 3523, 3593: 3524, 3594: 3525, 3595: 3526, 3596: 3527, 3597: 3528, 3598: 3529, 3599: 3530, 3600: 3531, 3601: 3532, 3602: 3533, 3603: 3534, 3604: 3535, 3605: 3536, 3606: 3537, 3607: 3538, 3608: 3539, 3609: 3540, 3610: 3541, 3611: 3542, 3612: 3543, 3613: 3544, 3614: 3545, 3615: 3546, 3616: 3547, 3617: 3548, 3618: 3549, 3619: 3550, 3620: 3551, 3621: 3552, 3622: 3553, 3623: 3554, 3624: 3555, 3625: 3556, 3626: 3557, 3627: 3558, 3628: 3559, 3629: 3560, 3630: 3561, 3631: 3562, 3632: 3563, 3633: 3564, 3634: 3565, 3635: 3566, 3636: 3567, 3637: 3568, 3638: 3569, 3639: 3570, 3640: 3571, 3641: 3572, 3642: 3573, 3643: 3574, 3644: 3575, 3645: 3576, 3646: 3577, 3647: 3578, 3648: 3579, 3649: 3580, 3650: 3581, 3651: 3582, 3652: 3583, 3653: 3584, 3654: 3585, 3655: 3586, 3656: 3587, 3657: 3588, 3658: 3589, 3659: 3590, 3660: 3591, 3661: 3592, 3662: 3593, 3663: 3594, 3664: 3595, 3665: 3596, 3666: 3597, 3667: 3598, 3668: 3599, 3669: 3600, 3670: 3601, 3671: 3602, 3672: 3603, 3673: 3604, 3674: 3605, 3675: 3606, 3676: 3607, 3677: 3608, 3678: 3609, 3679: 3610, 3680: 3611, 3681: 3612, 3682: 3613, 3683: 3614, 3684: 3615, 3685: 3616, 3686: 3617, 3687: 3618, 3688: 3619, 3689: 3620, 3690: 3621, 3691: 3622, 3692: 3623, 3693: 3624, 3694: 3625, 3695: 3626, 3696: 3627, 3697: 3628, 3698: 3629, 3699: 3630, 3700: 3631, 3701: 3632, 3702: 3633, 3703: 3634, 3704: 3635, 3705: 3636, 3706: 3637, 3707: 3638, 3708: 3639, 3709: 3640, 3710: 3641, 3711: 3642, 3712: 3643, 3713: 3644, 3714: 3645, 3715: 3646, 3716: 3647, 3717: 3648, 3718: 3649, 3719: 3650, 3720: 3651, 3721: 3652, 3722: 3653, 3723: 3654, 3724: 3655, 3725: 3656, 3726: 3657, 3727: 3658, 3728: 3659, 3729: 3660, 3730: 3661, 3731: 3662, 3732: 3663, 3733: 3664, 3734: 3665, 3735: 3666, 3736: 3667, 3737: 3668, 3738: 3669, 3739: 3670, 3740: 3671, 3741: 3672, 3742: 3673, 3743: 3674, 3744: 3675, 3745: 3676, 3746: 3677, 3747: 3678, 3748: 3679, 3749: 3680, 3750: 3681, 3751: 3682, 3752: 3683, 3753: 3684, 3754: 3685, 3755: 3686, 3756: 3687, 3757: 3688, 3758: 3689, 3759: 3690, 3760: 3691, 3761: 3692, 3762: 3693, 3763: 3694, 3764: 3695, 3765: 3696, 3766: 3697, 3767: 3698, 3768: 3699, 3769: 3700, 3770: 3701, 3771: 3702, 3772: 3703, 3773: 3704, 3774: 3705, 3775: 3706, 3776: 3707, 3777: 3708, 3778: 3709, 3779: 3710, 3780: 3711, 3781: 3712, 3782: 3713, 3783: 3714, 3784: 3715, 3785: 3716, 3786: 3717, 3787: 3718, 3788: 3719, 3789: 3720, 3790: 3721, 3791: 3722, 3792: 3723, 3793: 3724, 3794: 3725, 3795: 3726, 3796: 3727, 3797: 3728, 3798: 3729, 3799: 3730, 3800: 3731, 3801: 3732, 3802: 3733, 3803: 3734, 3804: 3735, 3805: 3736, 3806: 3737, 3807: 3738, 3808: 3739, 3809: 3740, 3810: 3741, 3811: 3742, 3812: 3743, 3813: 3744, 3814: 3745, 3816: 3746, 3817: 3747, 3818: 3748, 3819: 3749, 3820: 3750, 3821: 3751, 3822: 3752, 3823: 3753, 3824: 3754, 3825: 3755, 3826: 3756, 3827: 3757, 3828: 3758, 3829: 3759, 3830: 3760, 3831: 3761, 3832: 3762, 3833: 3763, 3834: 3764, 3835: 3765, 3836: 3766, 3837: 3767, 3838: 3768, 3839: 3769, 3840: 3770, 3841: 3771, 3842: 3772, 3843: 3773, 3844: 3774, 3845: 3775, 3846: 3776, 3847: 3777, 3848: 3778, 3849: 3779, 3850: 3780, 3851: 3781, 3852: 3782, 3853: 3783, 3854: 3784, 3855: 3785, 3856: 3786, 3857: 3787, 3858: 3788, 3859: 3789, 3860: 3790, 3861: 3791, 3862: 3792, 3863: 3793, 3864: 3794, 3865: 3795, 3866: 3796, 3867: 3797, 3868: 3798, 3869: 3799, 3870: 3800, 3871: 3801, 3872: 3802, 3873: 3803, 3874: 3804, 3875: 3805, 3876: 3806, 3877: 3807, 3878: 3808, 3879: 3809, 3880: 3810, 3881: 3811, 3882: 3812, 3883: 3813, 3884: 3814, 3885: 3815, 3886: 3816, 3887: 3817, 3888: 3818, 3889: 3819, 3890: 3820, 3891: 3821, 3892: 3822, 3893: 3823, 3894: 3824, 3895: 3825, 3896: 3826, 3897: 3827, 3898: 3828, 3899: 3829, 3900: 3830, 3901: 3831, 3902: 3832, 3903: 3833, 3904: 3834, 3905: 3835, 3906: 3836, 3907: 3837, 3908: 3838, 3909: 3839, 3910: 3840, 3911: 3841, 3912: 3842, 3913: 3843, 3914: 3844, 3915: 3845, 3916: 3846, 3917: 3847, 3918: 3848, 3919: 3849, 3920: 3850, 3921: 3851, 3922: 3852, 3923: 3853, 3924: 3854, 3925: 3855, 3926: 3856, 3927: 3857, 3928: 3858, 3929: 3859, 3930: 3860, 3931: 3861, 3932: 3862, 3933: 3863, 3934: 3864, 3935: 3865, 3936: 3866, 3937: 3867, 3938: 3868, 3939: 3869, 3940: 3870, 3941: 3871, 3942: 3872, 3943: 3873, 3944: 3874, 3945: 3875, 3946: 3876, 3947: 3877, 3948: 3878, 3949: 3879, 3950: 3880, 3951: 3881, 3952: 3882}} {'item_id': {0: 1, 1: 2, 2: 3, 3: 4, 4: 5, 5: 6, 6: 7, 7: 8, 8: 9, 9: 10, 10: 11, 11: 12, 12: 13, 13: 14, 14: 15, 15: 16, 16: 17, 17: 18, 18: 19, 19: 20, 20: 21, 21: 22, 22: 23, 23: 24, 24: 25, 25: 26, 26: 27, 27: 28, 28: 29, 29: 30, 30: 31, 31: 32, 32: 33, 33: 34, 34: 35, 35: 36, 36: 37, 37: 38, 38: 39, 39: 40, 40: 41, 41: 42, 42: 43, 43: 44, 44: 45, 45: 46, 46: 47, 47: 48, 48: 49, 49: 50, 50: 51, 51: 52, 52: 53, 53: 54, 54: 55, 55: 56, 56: 57, 57: 58, 58: 59, 59: 60, 60: 61, 61: 62, 62: 63, 63: 64, 64: 65, 65: 66, 66: 67, 67: 68, 68: 69, 69: 70, 70: 71, 71: 72, 72: 73, 73: 74, 74: 75, 75: 76, 76: 77, 77: 78, 78: 79, 79: 80, 80: 81, 81: 82, 82: 83, 83: 84, 84: 85, 85: 86, 86: 87, 87: 88, 88: 89, 89: 90, 90: 92, 91: 93, 92: 94, 93: 95, 94: 96, 95: 97, 96: 98, 97: 99, 98: 100, 99: 101, 100: 102, 101: 103, 102: 104, 103: 105, 104: 106, 105: 107, 106: 108, 107: 109, 108: 110, 109: 111, 110: 112, 111: 113, 112: 114, 113: 115, 114: 116, 115: 117, 116: 118, 117: 119, 118: 120, 119: 121, 120: 122, 121: 123, 122: 124, 123: 125, 124: 126, 125: 127, 126: 128, 127: 129, 128: 130, 129: 131, 130: 132, 131: 133, 132: 134, 133: 135, 134: 136, 135: 137, 136: 138, 137: 139, 138: 140, 139: 141, 140: 142, 141: 143, 142: 144, 143: 145, 144: 146, 145: 147, 146: 148, 147: 149, 148: 150, 149: 151, 150: 152, 151: 153, 152: 154, 153: 155, 154: 156, 155: 157, 156: 158, 157: 159, 158: 160, 159: 161, 160: 162, 161: 163, 162: 164, 163: 165, 164: 166, 165: 167, 166: 168, 167: 169, 168: 170, 169: 171, 170: 172, 171: 173, 172: 174, 173: 175, 174: 176, 175: 177, 176: 178, 177: 179, 178: 180, 179: 181, 180: 182, 181: 183, 182: 184, 183: 185, 184: 186, 185: 187, 186: 188, 187: 189, 188: 190, 189: 191, 190: 192, 191: 193, 192: 194, 193: 195, 194: 196, 195: 197, 196: 198, 197: 199, 198: 200, 199: 201, 200: 202, 201: 203, 202: 204, 203: 205, 204: 206, 205: 207, 206: 208, 207: 209, 208: 210, 209: 211, 210: 212, 211: 213, 212: 214, 213: 215, 214: 216, 215: 217, 216: 218, 217: 219, 218: 220, 219: 222, 220: 223, 221: 224, 222: 225, 223: 226, 224: 227, 225: 228, 226: 229, 227: 230, 228: 231, 229: 232, 230: 233, 231: 234, 232: 235, 233: 236, 234: 237, 235: 238, 236: 239, 237: 240, 238: 241, 239: 242, 240: 243, 241: 244, 242: 245, 243: 246, 244: 247, 245: 248, 246: 249, 247: 250, 248: 251, 249: 252, 250: 253, 251: 254, 252: 255, 253: 256, 254: 257, 255: 258, 256: 259, 257: 260, 258: 261, 259: 262, 260: 263, 261: 264, 262: 265, 263: 266, 264: 267, 265: 268, 266: 269, 267: 270, 268: 271, 269: 272, 270: 273, 271: 274, 272: 275, 273: 276, 274: 277, 275: 278, 276: 279, 277: 280, 278: 281, 279: 282, 280: 283, 281: 284, 282: 285, 283: 286, 284: 287, 285: 288, 286: 289, 287: 290, 288: 291, 289: 292, 290: 293, 291: 294, 292: 295, 293: 296, 294: 297, 295: 298, 296: 299, 297: 300, 298: 301, 299: 302, 300: 303, 301: 304, 302: 305, 303: 306, 304: 307, 305: 308, 306: 309, 307: 310, 308: 311, 309: 312, 310: 313, 311: 314, 312: 315, 313: 316, 314: 317, 315: 318, 316: 319, 317: 320, 318: 321, 319: 322, 320: 324, 321: 325, 322: 326, 323: 327, 324: 328, 325: 329, 326: 330, 327: 331, 328: 332, 329: 333, 330: 334, 331: 335, 332: 336, 333: 337, 334: 338, 335: 339, 336: 340, 337: 341, 338: 342, 339: 343, 340: 344, 341: 345, 342: 346, 343: 347, 344: 348, 345: 349, 346: 350, 347: 351, 348: 352, 349: 353, 350: 354, 351: 355, 352: 356, 353: 357, 354: 358, 355: 359, 356: 360, 357: 361, 358: 362, 359: 363, 360: 364, 361: 365, 362: 366, 363: 367, 364: 368, 365: 369, 366: 370, 367: 371, 368: 372, 369: 373, 370: 374, 371: 375, 372: 376, 373: 377, 374: 378, 375: 379, 376: 380, 377: 381, 378: 382, 379: 383, 380: 384, 381: 385, 382: 386, 383: 387, 384: 388, 385: 389, 386: 390, 387: 391, 388: 392, 389: 393, 390: 394, 391: 395, 392: 396, 393: 397, 394: 398, 395: 399, 396: 400, 397: 401, 398: 402, 399: 403, 400: 404, 401: 405, 402: 406, 403: 407, 404: 408, 405: 409, 406: 410, 407: 411, 408: 412, 409: 413, 410: 414, 411: 415, 412: 416, 413: 417, 414: 418, 415: 419, 416: 420, 417: 421, 418: 422, 419: 423, 420: 424, 421: 425, 422: 426, 423: 427, 424: 428, 425: 429, 426: 430, 427: 431, 428: 432, 429: 433, 430: 434, 431: 435, 432: 436, 433: 437, 434: 438, 435: 439, 436: 440, 437: 441, 438: 442, 439: 443, 440: 444, 441: 445, 442: 446, 443: 447, 444: 448, 445: 449, 446: 450, 447: 451, 448: 452, 449: 453, 450: 454, 451: 455, 452: 456, 453: 457, 454: 458, 455: 459, 456: 460, 457: 461, 458: 462, 459: 463, 460: 464, 461: 465, 462: 466, 463: 467, 464: 468, 465: 469, 466: 470, 467: 471, 468: 472, 469: 473, 470: 474, 471: 475, 472: 476, 473: 477, 474: 478, 475: 479, 476: 480, 477: 481, 478: 482, 479: 483, 480: 484, 481: 485, 482: 486, 483: 487, 484: 488, 485: 489, 486: 490, 487: 491, 488: 492, 489: 493, 490: 494, 491: 495, 492: 496, 493: 497, 494: 498, 495: 499, 496: 500, 497: 501, 498: 502, 499: 503, 500: 504, 501: 505, 502: 506, 503: 507, 504: 508, 505: 509, 506: 510, 507: 511, 508: 512, 509: 513, 510: 514, 511: 515, 512: 516, 513: 517, 514: 518, 515: 519, 516: 520, 517: 521, 518: 522, 519: 523, 520: 524, 521: 525, 522: 526, 523: 527, 524: 528, 525: 529, 526: 530, 527: 531, 528: 532, 529: 533, 530: 534, 531: 535, 532: 536, 533: 537, 534: 538, 535: 539, 536: 540, 537: 541, 538: 542, 539: 543, 540: 544, 541: 545, 542: 546, 543: 547, 544: 548, 545: 549, 546: 550, 547: 551, 548: 552, 549: 553, 550: 554, 551: 555, 552: 556, 553: 557, 554: 558, 555: 559, 556: 560, 557: 561, 558: 562, 559: 563, 560: 564, 561: 565, 562: 566, 563: 567, 564: 568, 565: 569, 566: 570, 567: 571, 568: 572, 569: 573, 570: 574, 571: 575, 572: 576, 573: 577, 574: 578, 575: 579, 576: 580, 577: 581, 578: 582, 579: 583, 580: 584, 581: 585, 582: 586, 583: 587, 584: 588, 585: 589, 586: 590, 587: 591, 588: 592, 589: 593, 590: 594, 591: 595, 592: 596, 593: 597, 594: 598, 595: 599, 596: 600, 597: 601, 598: 602, 599: 603, 600: 604, 601: 605, 602: 606, 603: 607, 604: 608, 605: 609, 606: 610, 607: 611, 608: 612, 609: 613, 610: 614, 611: 615, 612: 616, 613: 617, 614: 618, 615: 619, 616: 620, 617: 621, 618: 623, 619: 624, 620: 625, 621: 626, 622: 627, 623: 628, 624: 629, 625: 630, 626: 631, 627: 632, 628: 633, 629: 634, 630: 635, 631: 636, 632: 637, 633: 638, 634: 639, 635: 640, 636: 641, 637: 642, 638: 643, 639: 644, 640: 645, 641: 647, 642: 648, 643: 649, 644: 650, 645: 651, 646: 652, 647: 653, 648: 654, 649: 655, 650: 656, 651: 657, 652: 658, 653: 659, 654: 660, 655: 661, 656: 662, 657: 663, 658: 664, 659: 665, 660: 666, 661: 667, 662: 668, 663: 669, 664: 670, 665: 671, 666: 672, 667: 673, 668: 674, 669: 675, 670: 676, 671: 678, 672: 679, 673: 680, 674: 681, 675: 682, 676: 683, 677: 684, 678: 685, 679: 687, 680: 688, 681: 690, 682: 691, 683: 692, 684: 693, 685: 694, 686: 695, 687: 696, 688: 697, 689: 698, 690: 699, 691: 700, 692: 701, 693: 702, 694: 703, 695: 704, 696: 705, 697: 706, 698: 707, 699: 708, 700: 709, 701: 710, 702: 711, 703: 712, 704: 713, 705: 714, 706: 715, 707: 716, 708: 717, 709: 718, 710: 719, 711: 720, 712: 721, 713: 722, 714: 723, 715: 724, 716: 725, 717: 726, 718: 727, 719: 728, 720: 729, 721: 730, 722: 731, 723: 732, 724: 733, 725: 734, 726: 735, 727: 736, 728: 737, 729: 738, 730: 739, 731: 741, 732: 742, 733: 743, 734: 744, 735: 745, 736: 746, 737: 747, 738: 748, 739: 749, 740: 750, 741: 751, 742: 752, 743: 753, 744: 754, 745: 755, 746: 756, 747: 757, 748: 758, 749: 759, 750: 760, 751: 761, 752: 762, 753: 763, 754: 764, 755: 765, 756: 766, 757: 767, 758: 768, 759: 769, 760: 770, 761: 771, 762: 772, 763: 773, 764: 774, 765: 775, 766: 776, 767: 777, 768: 778, 769: 779, 770: 780, 771: 781, 772: 782, 773: 783, 774: 784, 775: 785, 776: 786, 777: 787, 778: 788, 779: 789, 780: 790, 781: 791, 782: 792, 783: 793, 784: 794, 785: 795, 786: 796, 787: 797, 788: 798, 789: 799, 790: 800, 791: 801, 792: 802, 793: 803, 794: 804, 795: 805, 796: 806, 797: 807, 798: 808, 799: 809, 800: 810, 801: 811, 802: 812, 803: 813, 804: 814, 805: 815, 806: 816, 807: 818, 808: 819, 809: 820, 810: 821, 811: 822, 812: 823, 813: 824, 814: 825, 815: 826, 816: 827, 817: 828, 818: 829, 819: 830, 820: 831, 821: 832, 822: 833, 823: 834, 824: 835, 825: 836, 826: 837, 827: 838, 828: 839, 829: 840, 830: 841, 831: 842, 832: 843, 833: 844, 834: 845, 835: 846, 836: 847, 837: 848, 838: 849, 839: 850, 840: 851, 841: 852, 842: 853, 843: 854, 844: 855, 845: 856, 846: 857, 847: 858, 848: 859, 849: 860, 850: 861, 851: 862, 852: 863, 853: 864, 854: 865, 855: 866, 856: 867, 857: 868, 858: 869, 859: 870, 860: 871, 861: 872, 862: 873, 863: 874, 864: 875, 865: 876, 866: 877, 867: 878, 868: 879, 869: 880, 870: 881, 871: 882, 872: 884, 873: 885, 874: 886, 875: 887, 876: 888, 877: 889, 878: 890, 879: 891, 880: 892, 881: 893, 882: 894, 883: 895, 884: 896, 885: 897, 886: 898, 887: 899, 888: 900, 889: 901, 890: 902, 891: 903, 892: 904, 893: 905, 894: 906, 895: 907, 896: 908, 897: 909, 898: 910, 899: 911, 900: 912, 901: 913, 902: 914, 903: 915, 904: 916, 905: 917, 906: 918, 907: 919, 908: 920, 909: 921, 910: 922, 911: 923, 912: 924, 913: 925, 914: 926, 915: 927, 916: 928, 917: 929, 918: 930, 919: 931, 920: 932, 921: 933, 922: 934, 923: 935, 924: 936, 925: 937, 926: 938, 927: 939, 928: 940, 929: 941, 930: 942, 931: 943, 932: 944, 933: 945, 934: 946, 935: 947, 936: 948, 937: 949, 938: 950, 939: 951, 940: 952, 941: 953, 942: 954, 943: 955, 944: 956, 945: 957, 946: 958, 947: 959, 948: 960, 949: 961, 950: 962, 951: 963, 952: 964, 953: 965, 954: 966, 955: 967, 956: 968, 957: 969, 958: 970, 959: 971, 960: 972, 961: 973, 962: 974, 963: 975, 964: 976, 965: 977, 966: 978, 967: 979, 968: 980, 969: 981, 970: 982, 971: 983, 972: 984, 973: 985, 974: 986, 975: 987, 976: 988, 977: 989, 978: 990, 979: 991, 980: 992, 981: 993, 982: 994, 983: 996, 984: 997, 985: 998, 986: 999, 987: 1000, 988: 1001, 989: 1002, 990: 1003, 991: 1004, 992: 1005, 993: 1006, 994: 1007, 995: 1008, 996: 1009, 997: 1010, 998: 1011, 999: 1012, 1000: 1013, 1001: 1014, 1002: 1015, 1003: 1016, 1004: 1017, 1005: 1018, 1006: 1019, 1007: 1020, 1008: 1021, 1009: 1022, 1010: 1023, 1011: 1024, 1012: 1025, 1013: 1026, 1014: 1027, 1015: 1028, 1016: 1029, 1017: 1030, 1018: 1031, 1019: 1032, 1020: 1033, 1021: 1034, 1022: 1035, 1023: 1036, 1024: 1037, 1025: 1038, 1026: 1039, 1027: 1040, 1028: 1041, 1029: 1042, 1030: 1043, 1031: 1044, 1032: 1045, 1033: 1046, 1034: 1047, 1035: 1049, 1036: 1050, 1037: 1051, 1038: 1052, 1039: 1053, 1040: 1054, 1041: 1055, 1042: 1056, 1043: 1057, 1044: 1058, 1045: 1059, 1046: 1060, 1047: 1061, 1048: 1062, 1049: 1063, 1050: 1064, 1051: 1065, 1052: 1066, 1053: 1067, 1054: 1068, 1055: 1069, 1056: 1070, 1057: 1071, 1058: 1073, 1059: 1075, 1060: 1076, 1061: 1077, 1062: 1078, 1063: 1079, 1064: 1080, 1065: 1081, 1066: 1082, 1067: 1083, 1068: 1084, 1069: 1085, 1070: 1086, 1071: 1087, 1072: 1088, 1073: 1089, 1074: 1090, 1075: 1091, 1076: 1092, 1077: 1093, 1078: 1094, 1079: 1095, 1080: 1096, 1081: 1097, 1082: 1098, 1083: 1099, 1084: 1100, 1085: 1101, 1086: 1102, 1087: 1103, 1088: 1104, 1089: 1105, 1090: 1106, 1091: 1107, 1092: 1108, 1093: 1109, 1094: 1110, 1095: 1111, 1096: 1112, 1097: 1113, 1098: 1114, 1099: 1115, 1100: 1116, 1101: 1117, 1102: 1118, 1103: 1119, 1104: 1120, 1105: 1121, 1106: 1122, 1107: 1123, 1108: 1124, 1109: 1125, 1110: 1126, 1111: 1127, 1112: 1128, 1113: 1129, 1114: 1130, 1115: 1131, 1116: 1132, 1117: 1133, 1118: 1134, 1119: 1135, 1120: 1136, 1121: 1137, 1122: 1138, 1123: 1139, 1124: 1140, 1125: 1141, 1126: 1142, 1127: 1143, 1128: 1144, 1129: 1145, 1130: 1146, 1131: 1147, 1132: 1148, 1133: 1149, 1134: 1150, 1135: 1151, 1136: 1152, 1137: 1153, 1138: 1154, 1139: 1155, 1140: 1156, 1141: 1157, 1142: 1158, 1143: 1159, 1144: 1160, 1145: 1161, 1146: 1162, 1147: 1163, 1148: 1164, 1149: 1165, 1150: 1166, 1151: 1167, 1152: 1168, 1153: 1169, 1154: 1170, 1155: 1171, 1156: 1172, 1157: 1173, 1158: 1174, 1159: 1175, 1160: 1176, 1161: 1177, 1162: 1178, 1163: 1179, 1164: 1180, 1165: 1181, 1166: 1183, 1167: 1184, 1168: 1185, 1169: 1186, 1170: 1187, 1171: 1188, 1172: 1189, 1173: 1190, 1174: 1191, 1175: 1192, 1176: 1193, 1177: 1194, 1178: 1196, 1179: 1197, 1180: 1198, 1181: 1199, 1182: 1200, 1183: 1201, 1184: 1202, 1185: 1203, 1186: 1204, 1187: 1205, 1188: 1206, 1189: 1207, 1190: 1208, 1191: 1209, 1192: 1210, 1193: 1211, 1194: 1212, 1195: 1213, 1196: 1214, 1197: 1215, 1198: 1216, 1199: 1217, 1200: 1218, 1201: 1219, 1202: 1220, 1203: 1221, 1204: 1222, 1205: 1223, 1206: 1224, 1207: 1225, 1208: 1226, 1209: 1227, 1210: 1228, 1211: 1230, 1212: 1231, 1213: 1232, 1214: 1233, 1215: 1234, 1216: 1235, 1217: 1236, 1218: 1237, 1219: 1238, 1220: 1240, 1221: 1241, 1222: 1242, 1223: 1243, 1224: 1244, 1225: 1245, 1226: 1246, 1227: 1247, 1228: 1248, 1229: 1249, 1230: 1250, 1231: 1251, 1232: 1252, 1233: 1253, 1234: 1254, 1235: 1255, 1236: 1256, 1237: 1257, 1238: 1258, 1239: 1259, 1240: 1260, 1241: 1261, 1242: 1262, 1243: 1263, 1244: 1264, 1245: 1265, 1246: 1266, 1247: 1267, 1248: 1268, 1249: 1269, 1250: 1270, 1251: 1271, 1252: 1272, 1253: 1273, 1254: 1274, 1255: 1275, 1256: 1276, 1257: 1277, 1258: 1278, 1259: 1279, 1260: 1280, 1261: 1281, 1262: 1282, 1263: 1283, 1264: 1284, 1265: 1285, 1266: 1286, 1267: 1287, 1268: 1288, 1269: 1289, 1270: 1290, 1271: 1291, 1272: 1292, 1273: 1293, 1274: 1294, 1275: 1295, 1276: 1296, 1277: 1297, 1278: 1298, 1279: 1299, 1280: 1300, 1281: 1301, 1282: 1302, 1283: 1303, 1284: 1304, 1285: 1305, 1286: 1306, 1287: 1307, 1288: 1308, 1289: 1309, 1290: 1310, 1291: 1311, 1292: 1312, 1293: 1313, 1294: 1314, 1295: 1315, 1296: 1316, 1297: 1317, 1298: 1318, 1299: 1319, 1300: 1320, 1301: 1321, 1302: 1322, 1303: 1323, 1304: 1324, 1305: 1325, 1306: 1326, 1307: 1327, 1308: 1328, 1309: 1329, 1310: 1330, 1311: 1331, 1312: 1332, 1313: 1333, 1314: 1334, 1315: 1335, 1316: 1336, 1317: 1337, 1318: 1339, 1319: 1340, 1320: 1341, 1321: 1342, 1322: 1343, 1323: 1344, 1324: 1345, 1325: 1346, 1326: 1347, 1327: 1348, 1328: 1349, 1329: 1350, 1330: 1351, 1331: 1352, 1332: 1353, 1333: 1354, 1334: 1355, 1335: 1356, 1336: 1357, 1337: 1358, 1338: 1359, 1339: 1360, 1340: 1361, 1341: 1362, 1342: 1363, 1343: 1364, 1344: 1365, 1345: 1366, 1346: 1367, 1347: 1368, 1348: 1369, 1349: 1370, 1350: 1371, 1351: 1372, 1352: 1373, 1353: 1374, 1354: 1375, 1355: 1376, 1356: 1377, 1357: 1378, 1358: 1379, 1359: 1380, 1360: 1381, 1361: 1382, 1362: 1383, 1363: 1384, 1364: 1385, 1365: 1386, 1366: 1387, 1367: 1388, 1368: 1389, 1369: 1390, 1370: 1391, 1371: 1392, 1372: 1393, 1373: 1394, 1374: 1395, 1375: 1396, 1376: 1397, 1377: 1398, 1378: 1399, 1379: 1400, 1380: 1401, 1381: 1404, 1382: 1405, 1383: 1406, 1384: 1407, 1385: 1408, 1386: 1409, 1387: 1410, 1388: 1411, 1389: 1412, 1390: 1413, 1391: 1414, 1392: 1415, 1393: 1416, 1394: 1417, 1395: 1419, 1396: 1420, 1397: 1421, 1398: 1422, 1399: 1423, 1400: 1424, 1401: 1425, 1402: 1426, 1403: 1427, 1404: 1428, 1405: 1429, 1406: 1430, 1407: 1431, 1408: 1432, 1409: 1433, 1410: 1434, 1411: 1436, 1412: 1437, 1413: 1438, 1414: 1439, 1415: 1440, 1416: 1441, 1417: 1442, 1418: 1443, 1419: 1444, 1420: 1445, 1421: 1446, 1422: 1447, 1423: 1448, 1424: 1449, 1425: 1450, 1426: 1453, 1427: 1454, 1428: 1455, 1429: 1456, 1430: 1457, 1431: 1458, 1432: 1459, 1433: 1460, 1434: 1461, 1435: 1462, 1436: 1463, 1437: 1464, 1438: 1465, 1439: 1466, 1440: 1467, 1441: 1468, 1442: 1470, 1443: 1471, 1444: 1472, 1445: 1473, 1446: 1474, 1447: 1475, 1448: 1476, 1449: 1477, 1450: 1479, 1451: 1480, 1452: 1482, 1453: 1483, 1454: 1484, 1455: 1485, 1456: 1486, 1457: 1487, 1458: 1488, 1459: 1489, 1460: 1490, 1461: 1493, 1462: 1494, 1463: 1495, 1464: 1496, 1465: 1497, 1466: 1498, 1467: 1499, 1468: 1500, 1469: 1501, 1470: 1502, 1471: 1503, 1472: 1504, 1473: 1507, 1474: 1508, 1475: 1509, 1476: 1510, 1477: 1511, 1478: 1513, 1479: 1514, 1480: 1515, 1481: 1516, 1482: 1517, 1483: 1518, 1484: 1519, 1485: 1520, 1486: 1522, 1487: 1523, 1488: 1524, 1489: 1525, 1490: 1526, 1491: 1527, 1492: 1528, 1493: 1529, 1494: 1531, 1495: 1532, 1496: 1533, 1497: 1534, 1498: 1535, 1499: 1537, 1500: 1538, 1501: 1539, 1502: 1541, 1503: 1542, 1504: 1543, 1505: 1544, 1506: 1545, 1507: 1546, 1508: 1547, 1509: 1548, 1510: 1549, 1511: 1550, 1512: 1551, 1513: 1552, 1514: 1553, 1515: 1554, 1516: 1555, 1517: 1556, 1518: 1557, 1519: 1558, 1520: 1559, 1521: 1561, 1522: 1562, 1523: 1563, 1524: 1564, 1525: 1565, 1526: 1566, 1527: 1567, 1528: 1568, 1529: 1569, 1530: 1570, 1531: 1571, 1532: 1572, 1533: 1573, 1534: 1574, 1535: 1575, 1536: 1577, 1537: 1578, 1538: 1579, 1539: 1580, 1540: 1581, 1541: 1582, 1542: 1583, 1543: 1584, 1544: 1585, 1545: 1586, 1546: 1587, 1547: 1588, 1548: 1589, 1549: 1590, 1550: 1591, 1551: 1592, 1552: 1593, 1553: 1594, 1554: 1595, 1555: 1596, 1556: 1597, 1557: 1598, 1558: 1599, 1559: 1600, 1560: 1601, 1561: 1602, 1562: 1603, 1563: 1604, 1564: 1605, 1565: 1606, 1566: 1608, 1567: 1609, 1568: 1610, 1569: 1611, 1570: 1612, 1571: 1613, 1572: 1614, 1573: 1615, 1574: 1616, 1575: 1617, 1576: 1619, 1577: 1620, 1578: 1621, 1579: 1622, 1580: 1623, 1581: 1624, 1582: 1625, 1583: 1626, 1584: 1627, 1585: 1628, 1586: 1629, 1587: 1630, 1588: 1631, 1589: 1632, 1590: 1633, 1591: 1635, 1592: 1636, 1593: 1639, 1594: 1640, 1595: 1641, 1596: 1642, 1597: 1643, 1598: 1644, 1599: 1645, 1600: 1646, 1601: 1647, 1602: 1648, 1603: 1649, 1604: 1650, 1605: 1651, 1606: 1652, 1607: 1653, 1608: 1654, 1609: 1655, 1610: 1656, 1611: 1657, 1612: 1658, 1613: 1659, 1614: 1660, 1615: 1661, 1616: 1662, 1617: 1663, 1618: 1664, 1619: 1665, 1620: 1666, 1621: 1667, 1622: 1668, 1623: 1669, 1624: 1670, 1625: 1671, 1626: 1672, 1627: 1673, 1628: 1674, 1629: 1675, 1630: 1676, 1631: 1677, 1632: 1678, 1633: 1679, 1634: 1680, 1635: 1681, 1636: 1682, 1637: 1683, 1638: 1684, 1639: 1685, 1640: 1686, 1641: 1687, 1642: 1688, 1643: 1689, 1644: 1690, 1645: 1692, 1646: 1693, 1647: 1694, 1648: 1695, 1649: 1696, 1650: 1697, 1651: 1698, 1652: 1699, 1653: 1701, 1654: 1702, 1655: 1703, 1656: 1704, 1657: 1705, 1658: 1706, 1659: 1707, 1660: 1708, 1661: 1709, 1662: 1710, 1663: 1711, 1664: 1713, 1665: 1714, 1666: 1715, 1667: 1716, 1668: 1717, 1669: 1718, 1670: 1719, 1671: 1720, 1672: 1721, 1673: 1722, 1674: 1723, 1675: 1724, 1676: 1725, 1677: 1726, 1678: 1727, 1679: 1728, 1680: 1729, 1681: 1730, 1682: 1731, 1683: 1732, 1684: 1733, 1685: 1734, 1686: 1735, 1687: 1738, 1688: 1739, 1689: 1740, 1690: 1741, 1691: 1742, 1692: 1743, 1693: 1744, 1694: 1746, 1695: 1747, 1696: 1748, 1697: 1749, 1698: 1750, 1699: 1752, 1700: 1753, 1701: 1754, 1702: 1755, 1703: 1756, 1704: 1757, 1705: 1758, 1706: 1759, 1707: 1760, 1708: 1762, 1709: 1764, 1710: 1765, 1711: 1767, 1712: 1768, 1713: 1769, 1714: 1770, 1715: 1771, 1716: 1772, 1717: 1773, 1718: 1774, 1719: 1776, 1720: 1777, 1721: 1779, 1722: 1780, 1723: 1781, 1724: 1782, 1725: 1783, 1726: 1784, 1727: 1785, 1728: 1787, 1729: 1788, 1730: 1789, 1731: 1791, 1732: 1792, 1733: 1793, 1734: 1794, 1735: 1795, 1736: 1796, 1737: 1797, 1738: 1798, 1739: 1799, 1740: 1801, 1741: 1804, 1742: 1805, 1743: 1806, 1744: 1807, 1745: 1809, 1746: 1810, 1747: 1811, 1748: 1812, 1749: 1814, 1750: 1815, 1751: 1816, 1752: 1817, 1753: 1819, 1754: 1820, 1755: 1821, 1756: 1822, 1757: 1824, 1758: 1825, 1759: 1826, 1760: 1827, 1761: 1829, 1762: 1830, 1763: 1831, 1764: 1832, 1765: 1833, 1766: 1834, 1767: 1835, 1768: 1836, 1769: 1837, 1770: 1839, 1771: 1840, 1772: 1841, 1773: 1842, 1774: 1843, 1775: 1844, 1776: 1845, 1777: 1846, 1778: 1847, 1779: 1848, 1780: 1849, 1781: 1850, 1782: 1851, 1783: 1852, 1784: 1853, 1785: 1854, 1786: 1855, 1787: 1856, 1788: 1857, 1789: 1858, 1790: 1859, 1791: 1860, 1792: 1861, 1793: 1862, 1794: 1863, 1795: 1864, 1796: 1865, 1797: 1866, 1798: 1867, 1799: 1868, 1800: 1869, 1801: 1870, 1802: 1871, 1803: 1872, 1804: 1873, 1805: 1874, 1806: 1875, 1807: 1876, 1808: 1877, 1809: 1878, 1810: 1879, 1811: 1880, 1812: 1881, 1813: 1882, 1814: 1883, 1815: 1884, 1816: 1885, 1817: 1886, 1818: 1887, 1819: 1888, 1820: 1889, 1821: 1890, 1822: 1891, 1823: 1892, 1824: 1893, 1825: 1894, 1826: 1895, 1827: 1896, 1828: 1897, 1829: 1898, 1830: 1899, 1831: 1900, 1832: 1901, 1833: 1902, 1834: 1903, 1835: 1904, 1836: 1905, 1837: 1906, 1838: 1907, 1839: 1908, 1840: 1909, 1841: 1910, 1842: 1911, 1843: 1912, 1844: 1913, 1845: 1914, 1846: 1915, 1847: 1916, 1848: 1917, 1849: 1918, 1850: 1919, 1851: 1920, 1852: 1921, 1853: 1922, 1854: 1923, 1855: 1924, 1856: 1925, 1857: 1926, 1858: 1927, 1859: 1928, 1860: 1929, 1861: 1930, 1862: 1931, 1863: 1932, 1864: 1933, 1865: 1934, 1866: 1935, 1867: 1936, 1868: 1937, 1869: 1938, 1870: 1939, 1871: 1940, 1872: 1941, 1873: 1942, 1874: 1943, 1875: 1944, 1876: 1945, 1877: 1946, 1878: 1947, 1879: 1948, 1880: 1949, 1881: 1950, 1882: 1951, 1883: 1952, 1884: 1953, 1885: 1954, 1886: 1955, 1887: 1956, 1888: 1957, 1889: 1958, 1890: 1959, 1891: 1960, 1892: 1961, 1893: 1962, 1894: 1963, 1895: 1964, 1896: 1965, 1897: 1966, 1898: 1967, 1899: 1968, 1900: 1969, 1901: 1970, 1902: 1971, 1903: 1972, 1904: 1973, 1905: 1974, 1906: 1975, 1907: 1976, 1908: 1977, 1909: 1978, 1910: 1979, 1911: 1980, 1912: 1981, 1913: 1982, 1914: 1983, 1915: 1984, 1916: 1985, 1917: 1986, 1918: 1987, 1919: 1988, 1920: 1989, 1921: 1990, 1922: 1991, 1923: 1992, 1924: 1993, 1925: 1994, 1926: 1995, 1927: 1996, 1928: 1997, 1929: 1998, 1930: 1999, 1931: 2000, 1932: 2001, 1933: 2002, 1934: 2003, 1935: 2004, 1936: 2005, 1937: 2006, 1938: 2007, 1939: 2008, 1940: 2009, 1941: 2010, 1942: 2011, 1943: 2012, 1944: 2013, 1945: 2014, 1946: 2015, 1947: 2016, 1948: 2017, 1949: 2018, 1950: 2019, 1951: 2020, 1952: 2021, 1953: 2022, 1954: 2023, 1955: 2024, 1956: 2025, 1957: 2026, 1958: 2027, 1959: 2028, 1960: 2029, 1961: 2030, 1962: 2031, 1963: 2032, 1964: 2033, 1965: 2034, 1966: 2035, 1967: 2036, 1968: 2037, 1969: 2038, 1970: 2039, 1971: 2040, 1972: 2041, 1973: 2042, 1974: 2043, 1975: 2044, 1976: 2045, 1977: 2046, 1978: 2047, 1979: 2048, 1980: 2049, 1981: 2050, 1982: 2051, 1983: 2052, 1984: 2053, 1985: 2054, 1986: 2055, 1987: 2056, 1988: 2057, 1989: 2058, 1990: 2059, 1991: 2060, 1992: 2061, 1993: 2062, 1994: 2063, 1995: 2064, 1996: 2065, 1997: 2066, 1998: 2067, 1999: 2068, 2000: 2069, 2001: 2070, 2002: 2071, 2003: 2072, 2004: 2073, 2005: 2074, 2006: 2075, 2007: 2076, 2008: 2077, 2009: 2078, 2010: 2079, 2011: 2080, 2012: 2081, 2013: 2082, 2014: 2083, 2015: 2084, 2016: 2085, 2017: 2086, 2018: 2087, 2019: 2088, 2020: 2089, 2021: 2090, 2022: 2091, 2023: 2092, 2024: 2093, 2025: 2094, 2026: 2095, 2027: 2096, 2028: 2097, 2029: 2098, 2030: 2099, 2031: 2100, 2032: 2101, 2033: 2102, 2034: 2103, 2035: 2104, 2036: 2105, 2037: 2106, 2038: 2107, 2039: 2108, 2040: 2109, 2041: 2110, 2042: 2111, 2043: 2112, 2044: 2113, 2045: 2114, 2046: 2115, 2047: 2116, 2048: 2117, 2049: 2118, 2050: 2119, 2051: 2120, 2052: 2121, 2053: 2122, 2054: 2123, 2055: 2124, 2056: 2125, 2057: 2126, 2058: 2127, 2059: 2128, 2060: 2129, 2061: 2130, 2062: 2131, 2063: 2132, 2064: 2133, 2065: 2134, 2066: 2135, 2067: 2136, 2068: 2137, 2069: 2138, 2070: 2139, 2071: 2140, 2072: 2141, 2073: 2142, 2074: 2143, 2075: 2144, 2076: 2145, 2077: 2146, 2078: 2147, 2079: 2148, 2080: 2149, 2081: 2150, 2082: 2151, 2083: 2152, 2084: 2153, 2085: 2154, 2086: 2155, 2087: 2156, 2088: 2157, 2089: 2158, 2090: 2159, 2091: 2160, 2092: 2161, 2093: 2162, 2094: 2163, 2095: 2164, 2096: 2165, 2097: 2166, 2098: 2167, 2099: 2168, 2100: 2169, 2101: 2170, 2102: 2171, 2103: 2172, 2104: 2173, 2105: 2174, 2106: 2175, 2107: 2176, 2108: 2177, 2109: 2178, 2110: 2179, 2111: 2180, 2112: 2181, 2113: 2182, 2114: 2183, 2115: 2184, 2116: 2185, 2117: 2186, 2118: 2187, 2119: 2188, 2120: 2189, 2121: 2190, 2122: 2191, 2123: 2192, 2124: 2193, 2125: 2194, 2126: 2195, 2127: 2196, 2128: 2197, 2129: 2198, 2130: 2199, 2131: 2200, 2132: 2201, 2133: 2202, 2134: 2203, 2135: 2204, 2136: 2205, 2137: 2206, 2138: 2207, 2139: 2208, 2140: 2209, 2141: 2210, 2142: 2211, 2143: 2212, 2144: 2213, 2145: 2214, 2146: 2215, 2147: 2216, 2148: 2217, 2149: 2218, 2150: 2219, 2151: 2220, 2152: 2221, 2153: 2222, 2154: 2223, 2155: 2224, 2156: 2225, 2157: 2226, 2158: 2227, 2159: 2228, 2160: 2229, 2161: 2230, 2162: 2231, 2163: 2232, 2164: 2233, 2165: 2234, 2166: 2235, 2167: 2236, 2168: 2237, 2169: 2238, 2170: 2239, 2171: 2240, 2172: 2241, 2173: 2242, 2174: 2243, 2175: 2244, 2176: 2245, 2177: 2246, 2178: 2247, 2179: 2248, 2180: 2249, 2181: 2250, 2182: 2251, 2183: 2252, 2184: 2253, 2185: 2254, 2186: 2255, 2187: 2256, 2188: 2257, 2189: 2258, 2190: 2259, 2191: 2260, 2192: 2261, 2193: 2262, 2194: 2263, 2195: 2264, 2196: 2265, 2197: 2266, 2198: 2267, 2199: 2268, 2200: 2269, 2201: 2270, 2202: 2271, 2203: 2272, 2204: 2273, 2205: 2274, 2206: 2275, 2207: 2276, 2208: 2277, 2209: 2278, 2210: 2279, 2211: 2280, 2212: 2281, 2213: 2282, 2214: 2283, 2215: 2284, 2216: 2285, 2217: 2286, 2218: 2287, 2219: 2288, 2220: 2289, 2221: 2290, 2222: 2291, 2223: 2292, 2224: 2293, 2225: 2294, 2226: 2295, 2227: 2296, 2228: 2297, 2229: 2298, 2230: 2299, 2231: 2300, 2232: 2301, 2233: 2302, 2234: 2303, 2235: 2304, 2236: 2305, 2237: 2306, 2238: 2307, 2239: 2308, 2240: 2309, 2241: 2310, 2242: 2311, 2243: 2312, 2244: 2313, 2245: 2314, 2246: 2315, 2247: 2316, 2248: 2317, 2249: 2318, 2250: 2319, 2251: 2320, 2252: 2321, 2253: 2322, 2254: 2323, 2255: 2324, 2256: 2325, 2257: 2326, 2258: 2327, 2259: 2328, 2260: 2329, 2261: 2330, 2262: 2331, 2263: 2332, 2264: 2333, 2265: 2334, 2266: 2335, 2267: 2336, 2268: 2337, 2269: 2338, 2270: 2339, 2271: 2340, 2272: 2341, 2273: 2342, 2274: 2343, 2275: 2344, 2276: 2345, 2277: 2346, 2278: 2347, 2279: 2348, 2280: 2349, 2281: 2350, 2282: 2351, 2283: 2352, 2284: 2353, 2285: 2354, 2286: 2355, 2287: 2356, 2288: 2357, 2289: 2358, 2290: 2359, 2291: 2360, 2292: 2361, 2293: 2362, 2294: 2363, 2295: 2364, 2296: 2365, 2297: 2366, 2298: 2367, 2299: 2368, 2300: 2369, 2301: 2370, 2302: 2371, 2303: 2372, 2304: 2373, 2305: 2374, 2306: 2375, 2307: 2376, 2308: 2377, 2309: 2378, 2310: 2379, 2311: 2380, 2312: 2381, 2313: 2382, 2314: 2383, 2315: 2384, 2316: 2385, 2317: 2386, 2318: 2387, 2319: 2388, 2320: 2389, 2321: 2390, 2322: 2391, 2323: 2392, 2324: 2393, 2325: 2394, 2326: 2395, 2327: 2396, 2328: 2397, 2329: 2398, 2330: 2399, 2331: 2400, 2332: 2401, 2333: 2402, 2334: 2403, 2335: 2404, 2336: 2405, 2337: 2406, 2338: 2407, 2339: 2408, 2340: 2409, 2341: 2410, 2342: 2411, 2343: 2412, 2344: 2413, 2345: 2414, 2346: 2415, 2347: 2416, 2348: 2417, 2349: 2418, 2350: 2419, 2351: 2420, 2352: 2421, 2353: 2422, 2354: 2423, 2355: 2424, 2356: 2425, 2357: 2426, 2358: 2427, 2359: 2428, 2360: 2429, 2361: 2430, 2362: 2431, 2363: 2432, 2364: 2433, 2365: 2434, 2366: 2435, 2367: 2436, 2368: 2437, 2369: 2438, 2370: 2439, 2371: 2440, 2372: 2441, 2373: 2442, 2374: 2443, 2375: 2444, 2376: 2445, 2377: 2446, 2378: 2447, 2379: 2448, 2380: 2449, 2381: 2450, 2382: 2451, 2383: 2452, 2384: 2453, 2385: 2454, 2386: 2455, 2387: 2456, 2388: 2457, 2389: 2458, 2390: 2459, 2391: 2460, 2392: 2461, 2393: 2462, 2394: 2463, 2395: 2464, 2396: 2465, 2397: 2466, 2398: 2467, 2399: 2468, 2400: 2469, 2401: 2470, 2402: 2471, 2403: 2472, 2404: 2473, 2405: 2474, 2406: 2475, 2407: 2476, 2408: 2477, 2409: 2478, 2410: 2479, 2411: 2480, 2412: 2481, 2413: 2482, 2414: 2483, 2415: 2484, 2416: 2485, 2417: 2486, 2418: 2487, 2419: 2488, 2420: 2489, 2421: 2490, 2422: 2491, 2423: 2492, 2424: 2493, 2425: 2494, 2426: 2495, 2427: 2496, 2428: 2497, 2429: 2498, 2430: 2499, 2431: 2500, 2432: 2501, 2433: 2502, 2434: 2503, 2435: 2504, 2436: 2505, 2437: 2506, 2438: 2507, 2439: 2508, 2440: 2509, 2441: 2510, 2442: 2511, 2443: 2512, 2444: 2513, 2445: 2514, 2446: 2515, 2447: 2516, 2448: 2517, 2449: 2518, 2450: 2519, 2451: 2520, 2452: 2521, 2453: 2522, 2454: 2523, 2455: 2524, 2456: 2525, 2457: 2526, 2458: 2527, 2459: 2528, 2460: 2529, 2461: 2530, 2462: 2531, 2463: 2532, 2464: 2533, 2465: 2534, 2466: 2535, 2467: 2536, 2468: 2537, 2469: 2538, 2470: 2539, 2471: 2540, 2472: 2541, 2473: 2542, 2474: 2543, 2475: 2544, 2476: 2545, 2477: 2546, 2478: 2547, 2479: 2548, 2480: 2549, 2481: 2550, 2482: 2551, 2483: 2552, 2484: 2553, 2485: 2554, 2486: 2555, 2487: 2556, 2488: 2557, 2489: 2558, 2490: 2559, 2491: 2560, 2492: 2561, 2493: 2562, 2494: 2563, 2495: 2564, 2496: 2565, 2497: 2566, 2498: 2567, 2499: 2568, 2500: 2569, 2501: 2570, 2502: 2571, 2503: 2572, 2504: 2573, 2505: 2574, 2506: 2575, 2507: 2576, 2508: 2577, 2509: 2578, 2510: 2579, 2511: 2580, 2512: 2581, 2513: 2582, 2514: 2583, 2515: 2584, 2516: 2585, 2517: 2586, 2518: 2587, 2519: 2588, 2520: 2589, 2521: 2590, 2522: 2591, 2523: 2592, 2524: 2593, 2525: 2594, 2526: 2595, 2527: 2596, 2528: 2597, 2529: 2598, 2530: 2599, 2531: 2600, 2532: 2601, 2533: 2602, 2534: 2603, 2535: 2604, 2536: 2605, 2537: 2606, 2538: 2607, 2539: 2608, 2540: 2609, 2541: 2610, 2542: 2611, 2543: 2612, 2544: 2613, 2545: 2614, 2546: 2615, 2547: 2616, 2548: 2617, 2549: 2618, 2550: 2619, 2551: 2620, 2552: 2621, 2553: 2622, 2554: 2623, 2555: 2624, 2556: 2625, 2557: 2626, 2558: 2627, 2559: 2628, 2560: 2629, 2561: 2630, 2562: 2631, 2563: 2632, 2564: 2633, 2565: 2634, 2566: 2635, 2567: 2636, 2568: 2637, 2569: 2638, 2570: 2639, 2571: 2640, 2572: 2641, 2573: 2642, 2574: 2643, 2575: 2644, 2576: 2645, 2577: 2646, 2578: 2647, 2579: 2648, 2580: 2649, 2581: 2650, 2582: 2651, 2583: 2652, 2584: 2653, 2585: 2654, 2586: 2655, 2587: 2656, 2588: 2657, 2589: 2658, 2590: 2659, 2591: 2660, 2592: 2661, 2593: 2662, 2594: 2663, 2595: 2664, 2596: 2665, 2597: 2666, 2598: 2667, 2599: 2668, 2600: 2669, 2601: 2670, 2602: 2671, 2603: 2672, 2604: 2673, 2605: 2674, 2606: 2675, 2607: 2676, 2608: 2677, 2609: 2678, 2610: 2679, 2611: 2680, 2612: 2681, 2613: 2682, 2614: 2683, 2615: 2684, 2616: 2685, 2617: 2686, 2618: 2687, 2619: 2688, 2620: 2689, 2621: 2690, 2622: 2691, 2623: 2692, 2624: 2693, 2625: 2694, 2626: 2695, 2627: 2696, 2628: 2697, 2629: 2698, 2630: 2699, 2631: 2700, 2632: 2701, 2633: 2702, 2634: 2703, 2635: 2704, 2636: 2705, 2637: 2706, 2638: 2707, 2639: 2708, 2640: 2709, 2641: 2710, 2642: 2711, 2643: 2712, 2644: 2713, 2645: 2714, 2646: 2715, 2647: 2716, 2648: 2717, 2649: 2718, 2650: 2719, 2651: 2720, 2652: 2721, 2653: 2722, 2654: 2723, 2655: 2724, 2656: 2725, 2657: 2726, 2658: 2727, 2659: 2728, 2660: 2729, 2661: 2730, 2662: 2731, 2663: 2732, 2664: 2733, 2665: 2734, 2666: 2735, 2667: 2736, 2668: 2737, 2669: 2738, 2670: 2739, 2671: 2740, 2672: 2741, 2673: 2742, 2674: 2743, 2675: 2744, 2676: 2745, 2677: 2746, 2678: 2747, 2679: 2748, 2680: 2749, 2681: 2750, 2682: 2751, 2683: 2752, 2684: 2753, 2685: 2754, 2686: 2755, 2687: 2756, 2688: 2757, 2689: 2758, 2690: 2759, 2691: 2760, 2692: 2761, 2693: 2762, 2694: 2763, 2695: 2764, 2696: 2765, 2697: 2766, 2698: 2767, 2699: 2768, 2700: 2769, 2701: 2770, 2702: 2771, 2703: 2772, 2704: 2773, 2705: 2774, 2706: 2775, 2707: 2776, 2708: 2777, 2709: 2778, 2710: 2779, 2711: 2780, 2712: 2781, 2713: 2782, 2714: 2783, 2715: 2784, 2716: 2785, 2717: 2786, 2718: 2787, 2719: 2788, 2720: 2789, 2721: 2790, 2722: 2791, 2723: 2792, 2724: 2793, 2725: 2794, 2726: 2795, 2727: 2796, 2728: 2797, 2729: 2798, 2730: 2799, 2731: 2800, 2732: 2801, 2733: 2802, 2734: 2803, 2735: 2804, 2736: 2805, 2737: 2806, 2738: 2807, 2739: 2808, 2740: 2809, 2741: 2810, 2742: 2811, 2743: 2812, 2744: 2813, 2745: 2814, 2746: 2815, 2747: 2816, 2748: 2817, 2749: 2818, 2750: 2819, 2751: 2820, 2752: 2821, 2753: 2822, 2754: 2823, 2755: 2824, 2756: 2825, 2757: 2826, 2758: 2827, 2759: 2828, 2760: 2829, 2761: 2830, 2762: 2831, 2763: 2832, 2764: 2833, 2765: 2834, 2766: 2835, 2767: 2836, 2768: 2837, 2769: 2838, 2770: 2839, 2771: 2840, 2772: 2841, 2773: 2842, 2774: 2843, 2775: 2844, 2776: 2845, 2777: 2846, 2778: 2847, 2779: 2848, 2780: 2849, 2781: 2850, 2782: 2851, 2783: 2852, 2784: 2853, 2785: 2854, 2786: 2855, 2787: 2856, 2788: 2857, 2789: 2858, 2790: 2859, 2791: 2860, 2792: 2861, 2793: 2862, 2794: 2863, 2795: 2864, 2796: 2865, 2797: 2866, 2798: 2867, 2799: 2868, 2800: 2869, 2801: 2870, 2802: 2871, 2803: 2872, 2804: 2873, 2805: 2874, 2806: 2875, 2807: 2876, 2808: 2877, 2809: 2878, 2810: 2879, 2811: 2880, 2812: 2881, 2813: 2882, 2814: 2883, 2815: 2884, 2816: 2885, 2817: 2886, 2818: 2887, 2819: 2888, 2820: 2889, 2821: 2890, 2822: 2891, 2823: 2892, 2824: 2893, 2825: 2894, 2826: 2895, 2827: 2896, 2828: 2897, 2829: 2898, 2830: 2899, 2831: 2900, 2832: 2901, 2833: 2902, 2834: 2903, 2835: 2904, 2836: 2905, 2837: 2906, 2838: 2907, 2839: 2908, 2840: 2909, 2841: 2910, 2842: 2911, 2843: 2912, 2844: 2913, 2845: 2914, 2846: 2915, 2847: 2916, 2848: 2917, 2849: 2918, 2850: 2919, 2851: 2920, 2852: 2921, 2853: 2922, 2854: 2923, 2855: 2924, 2856: 2925, 2857: 2926, 2858: 2927, 2859: 2928, 2860: 2929, 2861: 2930, 2862: 2931, 2863: 2932, 2864: 2933, 2865: 2934, 2866: 2935, 2867: 2936, 2868: 2937, 2869: 2938, 2870: 2939, 2871: 2940, 2872: 2941, 2873: 2942, 2874: 2943, 2875: 2944, 2876: 2945, 2877: 2946, 2878: 2947, 2879: 2948, 2880: 2949, 2881: 2950, 2882: 2951, 2883: 2952, 2884: 2953, 2885: 2954, 2886: 2955, 2887: 2956, 2888: 2957, 2889: 2958, 2890: 2959, 2891: 2960, 2892: 2961, 2893: 2962, 2894: 2963, 2895: 2964, 2896: 2965, 2897: 2966, 2898: 2967, 2899: 2968, 2900: 2969, 2901: 2970, 2902: 2971, 2903: 2972, 2904: 2973, 2905: 2974, 2906: 2975, 2907: 2976, 2908: 2977, 2909: 2978, 2910: 2979, 2911: 2980, 2912: 2981, 2913: 2982, 2914: 2983, 2915: 2984, 2916: 2985, 2917: 2986, 2918: 2987, 2919: 2988, 2920: 2989, 2921: 2990, 2922: 2991, 2923: 2992, 2924: 2993, 2925: 2994, 2926: 2995, 2927: 2996, 2928: 2997, 2929: 2998, 2930: 2999, 2931: 3000, 2932: 3001, 2933: 3002, 2934: 3003, 2935: 3004, 2936: 3005, 2937: 3006, 2938: 3007, 2939: 3008, 2940: 3009, 2941: 3010, 2942: 3011, 2943: 3012, 2944: 3013, 2945: 3014, 2946: 3015, 2947: 3016, 2948: 3017, 2949: 3018, 2950: 3019, 2951: 3020, 2952: 3021, 2953: 3022, 2954: 3023, 2955: 3024, 2956: 3025, 2957: 3026, 2958: 3027, 2959: 3028, 2960: 3029, 2961: 3030, 2962: 3031, 2963: 3032, 2964: 3033, 2965: 3034, 2966: 3035, 2967: 3036, 2968: 3037, 2969: 3038, 2970: 3039, 2971: 3040, 2972: 3041, 2973: 3042, 2974: 3043, 2975: 3044, 2976: 3045, 2977: 3046, 2978: 3047, 2979: 3048, 2980: 3049, 2981: 3050, 2982: 3051, 2983: 3052, 2984: 3053, 2985: 3054, 2986: 3055, 2987: 3056, 2988: 3057, 2989: 3058, 2990: 3059, 2991: 3060, 2992: 3061, 2993: 3062, 2994: 3063, 2995: 3064, 2996: 3065, 2997: 3066, 2998: 3067, 2999: 3068, 3000: 3069, 3001: 3070, 3002: 3071, 3003: 3072, 3004: 3073, 3005: 3074, 3006: 3075, 3007: 3076, 3008: 3077, 3009: 3078, 3010: 3079, 3011: 3080, 3012: 3081, 3013: 3082, 3014: 3083, 3015: 3084, 3016: 3085, 3017: 3086, 3018: 3087, 3019: 3088, 3020: 3089, 3021: 3090, 3022: 3091, 3023: 3092, 3024: 3093, 3025: 3094, 3026: 3095, 3027: 3096, 3028: 3097, 3029: 3098, 3030: 3099, 3031: 3100, 3032: 3101, 3033: 3102, 3034: 3103, 3035: 3104, 3036: 3105, 3037: 3106, 3038: 3107, 3039: 3108, 3040: 3109, 3041: 3110, 3042: 3111, 3043: 3112, 3044: 3113, 3045: 3114, 3046: 3115, 3047: 3116, 3048: 3117, 3049: 3118, 3050: 3119, 3051: 3120, 3052: 3121, 3053: 3122, 3054: 3123, 3055: 3124, 3056: 3125, 3057: 3126, 3058: 3127, 3059: 3128, 3060: 3129, 3061: 3130, 3062: 3131, 3063: 3132, 3064: 3133, 3065: 3134, 3066: 3135, 3067: 3136, 3068: 3137, 3069: 3138, 3070: 3139, 3071: 3140, 3072: 3141, 3073: 3142, 3074: 3143, 3075: 3144, 3076: 3145, 3077: 3146, 3078: 3147, 3079: 3148, 3080: 3149, 3081: 3150, 3082: 3151, 3083: 3152, 3084: 3153, 3085: 3154, 3086: 3155, 3087: 3156, 3088: 3157, 3089: 3158, 3090: 3159, 3091: 3160, 3092: 3161, 3093: 3162, 3094: 3163, 3095: 3164, 3096: 3165, 3097: 3166, 3098: 3167, 3099: 3168, 3100: 3169, 3101: 3170, 3102: 3171, 3103: 3172, 3104: 3173, 3105: 3174, 3106: 3175, 3107: 3176, 3108: 3177, 3109: 3178, 3110: 3179, 3111: 3180, 3112: 3181, 3113: 3182, 3114: 3183, 3115: 3184, 3116: 3185, 3117: 3186, 3118: 3187, 3119: 3188, 3120: 3189, 3121: 3190, 3122: 3191, 3123: 3192, 3124: 3193, 3125: 3194, 3126: 3195, 3127: 3196, 3128: 3197, 3129: 3198, 3130: 3199, 3131: 3200, 3132: 3201, 3133: 3202, 3134: 3203, 3135: 3204, 3136: 3205, 3137: 3206, 3138: 3207, 3139: 3208, 3140: 3209, 3141: 3210, 3142: 3211, 3143: 3212, 3144: 3213, 3145: 3214, 3146: 3215, 3147: 3216, 3148: 3217, 3149: 3218, 3150: 3219, 3151: 3220, 3152: 3221, 3153: 3222, 3154: 3223, 3155: 3224, 3156: 3225, 3157: 3226, 3158: 3227, 3159: 3228, 3160: 3229, 3161: 3230, 3162: 3231, 3163: 3232, 3164: 3233, 3165: 3234, 3166: 3235, 3167: 3236, 3168: 3237, 3169: 3238, 3170: 3239, 3171: 3240, 3172: 3241, 3173: 3242, 3174: 3243, 3175: 3244, 3176: 3245, 3177: 3246, 3178: 3247, 3179: 3248, 3180: 3249, 3181: 3250, 3182: 3251, 3183: 3252, 3184: 3253, 3185: 3254, 3186: 3255, 3187: 3256, 3188: 3257, 3189: 3258, 3190: 3259, 3191: 3260, 3192: 3261, 3193: 3262, 3194: 3263, 3195: 3264, 3196: 3265, 3197: 3266, 3198: 3267, 3199: 3268, 3200: 3269, 3201: 3270, 3202: 3271, 3203: 3272, 3204: 3273, 3205: 3274, 3206: 3275, 3207: 3276, 3208: 3277, 3209: 3278, 3210: 3279, 3211: 3280, 3212: 3281, 3213: 3282, 3214: 3283, 3215: 3284, 3216: 3285, 3217: 3286, 3218: 3287, 3219: 3288, 3220: 3289, 3221: 3290, 3222: 3291, 3223: 3292, 3224: 3293, 3225: 3294, 3226: 3295, 3227: 3296, 3228: 3297, 3229: 3298, 3230: 3299, 3231: 3300, 3232: 3301, 3233: 3302, 3234: 3303, 3235: 3304, 3236: 3305, 3237: 3306, 3238: 3307, 3239: 3308, 3240: 3309, 3241: 3310, 3242: 3311, 3243: 3312, 3244: 3313, 3245: 3314, 3246: 3315, 3247: 3316, 3248: 3317, 3249: 3318, 3250: 3319, 3251: 3320, 3252: 3321, 3253: 3322, 3254: 3323, 3255: 3324, 3256: 3325, 3257: 3326, 3258: 3327, 3259: 3328, 3260: 3329, 3261: 3330, 3262: 3331, 3263: 3332, 3264: 3333, 3265: 3334, 3266: 3335, 3267: 3336, 3268: 3337, 3269: 3338, 3270: 3339, 3271: 3340, 3272: 3341, 3273: 3342, 3274: 3343, 3275: 3344, 3276: 3345, 3277: 3346, 3278: 3347, 3279: 3348, 3280: 3349, 3281: 3350, 3282: 3351, 3283: 3352, 3284: 3353, 3285: 3354, 3286: 3355, 3287: 3356, 3288: 3357, 3289: 3358, 3290: 3359, 3291: 3360, 3292: 3361, 3293: 3362, 3294: 3363, 3295: 3364, 3296: 3365, 3297: 3366, 3298: 3367, 3299: 3368, 3300: 3369, 3301: 3370, 3302: 3371, 3303: 3372, 3304: 3373, 3305: 3374, 3306: 3375, 3307: 3376, 3308: 3377, 3309: 3378, 3310: 3379, 3311: 3380, 3312: 3381, 3313: 3382, 3314: 3383, 3315: 3384, 3316: 3385, 3317: 3386, 3318: 3387, 3319: 3388, 3320: 3389, 3321: 3390, 3322: 3391, 3323: 3392, 3324: 3393, 3325: 3394, 3326: 3395, 3327: 3396, 3328: 3397, 3329: 3398, 3330: 3399, 3331: 3400, 3332: 3401, 3333: 3402, 3334: 3403, 3335: 3404, 3336: 3405, 3337: 3406, 3338: 3407, 3339: 3408, 3340: 3409, 3341: 3410, 3342: 3411, 3343: 3412, 3344: 3413, 3345: 3414, 3346: 3415, 3347: 3416, 3348: 3417, 3349: 3418, 3350: 3419, 3351: 3420, 3352: 3421, 3353: 3422, 3354: 3423, 3355: 3424, 3356: 3425, 3357: 3426, 3358: 3427, 3359: 3428, 3360: 3429, 3361: 3430, 3362: 3431, 3363: 3432, 3364: 3433, 3365: 3434, 3366: 3435, 3367: 3436, 3368: 3437, 3369: 3438, 3370: 3439, 3371: 3440, 3372: 3441, 3373: 3442, 3374: 3443, 3375: 3444, 3376: 3445, 3377: 3446, 3378: 3447, 3379: 3448, 3380: 3449, 3381: 3450, 3382: 3451, 3383: 3452, 3384: 3453, 3385: 3454, 3386: 3455, 3387: 3456, 3388: 3457, 3389: 3458, 3390: 3459, 3391: 3460, 3392: 3461, 3393: 3462, 3394: 3463, 3395: 3464, 3396: 3465, 3397: 3466, 3398: 3467, 3399: 3468, 3400: 3469, 3401: 3470, 3402: 3471, 3403: 3472, 3404: 3473, 3405: 3474, 3406: 3475, 3407: 3476, 3408: 3477, 3409: 3478, 3410: 3479, 3411: 3480, 3412: 3481, 3413: 3482, 3414: 3483, 3415: 3484, 3416: 3485, 3417: 3486, 3418: 3487, 3419: 3488, 3420: 3489, 3421: 3490, 3422: 3491, 3423: 3492, 3424: 3493, 3425: 3494, 3426: 3495, 3427: 3496, 3428: 3497, 3429: 3498, 3430: 3499, 3431: 3500, 3432: 3501, 3433: 3502, 3434: 3503, 3435: 3504, 3436: 3505, 3437: 3506, 3438: 3507, 3439: 3508, 3440: 3509, 3441: 3510, 3442: 3511, 3443: 3512, 3444: 3513, 3445: 3514, 3446: 3515, 3447: 3516, 3448: 3517, 3449: 3518, 3450: 3519, 3451: 3520, 3452: 3521, 3453: 3522, 3454: 3523, 3455: 3524, 3456: 3525, 3457: 3526, 3458: 3527, 3459: 3528, 3460: 3529, 3461: 3530, 3462: 3531, 3463: 3532, 3464: 3533, 3465: 3534, 3466: 3535, 3467: 3536, 3468: 3537, 3469: 3538, 3470: 3539, 3471: 3540, 3472: 3541, 3473: 3542, 3474: 3543, 3475: 3544, 3476: 3545, 3477: 3546, 3478: 3547, 3479: 3548, 3480: 3549, 3481: 3550, 3482: 3551, 3483: 3552, 3484: 3553, 3485: 3554, 3486: 3555, 3487: 3556, 3488: 3557, 3489: 3558, 3490: 3559, 3491: 3560, 3492: 3561, 3493: 3562, 3494: 3563, 3495: 3564, 3496: 3565, 3497: 3566, 3498: 3567, 3499: 3568, 3500: 3569, 3501: 3570, 3502: 3571, 3503: 3572, 3504: 3573, 3505: 3574, 3506: 3575, 3507: 3576, 3508: 3577, 3509: 3578, 3510: 3579, 3511: 3580, 3512: 3581, 3513: 3582, 3514: 3583, 3515: 3584, 3516: 3585, 3517: 3586, 3518: 3587, 3519: 3588, 3520: 3589, 3521: 3590, 3522: 3591, 3523: 3592, 3524: 3593, 3525: 3594, 3526: 3595, 3527: 3596, 3528: 3597, 3529: 3598, 3530: 3599, 3531: 3600, 3532: 3601, 3533: 3602, 3534: 3603, 3535: 3604, 3536: 3605, 3537: 3606, 3538: 3607, 3539: 3608, 3540: 3609, 3541: 3610, 3542: 3611, 3543: 3612, 3544: 3613, 3545: 3614, 3546: 3615, 3547: 3616, 3548: 3617, 3549: 3618, 3550: 3619, 3551: 3620, 3552: 3621, 3553: 3622, 3554: 3623, 3555: 3624, 3556: 3625, 3557: 3626, 3558: 3627, 3559: 3628, 3560: 3629, 3561: 3630, 3562: 3631, 3563: 3632, 3564: 3633, 3565: 3634, 3566: 3635, 3567: 3636, 3568: 3637, 3569: 3638, 3570: 3639, 3571: 3640, 3572: 3641, 3573: 3642, 3574: 3643, 3575: 3644, 3576: 3645, 3577: 3646, 3578: 3647, 3579: 3648, 3580: 3649, 3581: 3650, 3582: 3651, 3583: 3652, 3584: 3653, 3585: 3654, 3586: 3655, 3587: 3656, 3588: 3657, 3589: 3658, 3590: 3659, 3591: 3660, 3592: 3661, 3593: 3662, 3594: 3663, 3595: 3664, 3596: 3665, 3597: 3666, 3598: 3667, 3599: 3668, 3600: 3669, 3601: 3670, 3602: 3671, 3603: 3672, 3604: 3673, 3605: 3674, 3606: 3675, 3607: 3676, 3608: 3677, 3609: 3678, 3610: 3679, 3611: 3680, 3612: 3681, 3613: 3682, 3614: 3683, 3615: 3684, 3616: 3685, 3617: 3686, 3618: 3687, 3619: 3688, 3620: 3689, 3621: 3690, 3622: 3691, 3623: 3692, 3624: 3693, 3625: 3694, 3626: 3695, 3627: 3696, 3628: 3697, 3629: 3698, 3630: 3699, 3631: 3700, 3632: 3701, 3633: 3702, 3634: 3703, 3635: 3704, 3636: 3705, 3637: 3706, 3638: 3707, 3639: 3708, 3640: 3709, 3641: 3710, 3642: 3711, 3643: 3712, 3644: 3713, 3645: 3714, 3646: 3715, 3647: 3716, 3648: 3717, 3649: 3718, 3650: 3719, 3651: 3720, 3652: 3721, 3653: 3722, 3654: 3723, 3655: 3724, 3656: 3725, 3657: 3726, 3658: 3727, 3659: 3728, 3660: 3729, 3661: 3730, 3662: 3731, 3663: 3732, 3664: 3733, 3665: 3734, 3666: 3735, 3667: 3736, 3668: 3737, 3669: 3738, 3670: 3739, 3671: 3740, 3672: 3741, 3673: 3742, 3674: 3743, 3675: 3744, 3676: 3745, 3677: 3746, 3678: 3747, 3679: 3748, 3680: 3749, 3681: 3750, 3682: 3751, 3683: 3752, 3684: 3753, 3685: 3754, 3686: 3755, 3687: 3756, 3688: 3757, 3689: 3758, 3690: 3759, 3691: 3760, 3692: 3761, 3693: 3762, 3694: 3763, 3695: 3764, 3696: 3765, 3697: 3766, 3698: 3767, 3699: 3768, 3700: 3769, 3701: 3770, 3702: 3771, 3703: 3772, 3704: 3773, 3705: 3774, 3706: 3775, 3707: 3776, 3708: 3777, 3709: 3778, 3710: 3779, 3711: 3780, 3712: 3781, 3713: 3782, 3714: 3783, 3715: 3784, 3716: 3785, 3717: 3786, 3718: 3787, 3719: 3788, 3720: 3789, 3721: 3790, 3722: 3791, 3723: 3792, 3724: 3793, 3725: 3794, 3726: 3795, 3727: 3796, 3728: 3797, 3729: 3798, 3730: 3799, 3731: 3800, 3732: 3801, 3733: 3802, 3734: 3803, 3735: 3804, 3736: 3805, 3737: 3806, 3738: 3807, 3739: 3808, 3740: 3809, 3741: 3810, 3742: 3811, 3743: 3812, 3744: 3813, 3745: 3814, 3746: 3816, 3747: 3817, 3748: 3818, 3749: 3819, 3750: 3820, 3751: 3821, 3752: 3822, 3753: 3823, 3754: 3824, 3755: 3825, 3756: 3826, 3757: 3827, 3758: 3828, 3759: 3829, 3760: 3830, 3761: 3831, 3762: 3832, 3763: 3833, 3764: 3834, 3765: 3835, 3766: 3836, 3767: 3837, 3768: 3838, 3769: 3839, 3770: 3840, 3771: 3841, 3772: 3842, 3773: 3843, 3774: 3844, 3775: 3845, 3776: 3846, 3777: 3847, 3778: 3848, 3779: 3849, 3780: 3850, 3781: 3851, 3782: 3852, 3783: 3853, 3784: 3854, 3785: 3855, 3786: 3856, 3787: 3857, 3788: 3858, 3789: 3859, 3790: 3860, 3791: 3861, 3792: 3862, 3793: 3863, 3794: 3864, 3795: 3865, 3796: 3866, 3797: 3867, 3798: 3868, 3799: 3869, 3800: 3870, 3801: 3871, 3802: 3872, 3803: 3873, 3804: 3874, 3805: 3875, 3806: 3876, 3807: 3877, 3808: 3878, 3809: 3879, 3810: 3880, 3811: 3881, 3812: 3882, 3813: 3883, 3814: 3884, 3815: 3885, 3816: 3886, 3817: 3887, 3818: 3888, 3819: 3889, 3820: 3890, 3821: 3891, 3822: 3892, 3823: 3893, 3824: 3894, 3825: 3895, 3826: 3896, 3827: 3897, 3828: 3898, 3829: 3899, 3830: 3900, 3831: 3901, 3832: 3902, 3833: 3903, 3834: 3904, 3835: 3905, 3836: 3906, 3837: 3907, 3838: 3908, 3839: 3909, 3840: 3910, 3841: 3911, 3842: 3912, 3843: 3913, 3844: 3914, 3845: 3915, 3846: 3916, 3847: 3917, 3848: 3918, 3849: 3919, 3850: 3920, 3851: 3921, 3852: 3922, 3853: 3923, 3854: 3924, 3855: 3925, 3856: 3926, 3857: 3927, 3858: 3928, 3859: 3929, 3860: 3930, 3861: 3931, 3862: 3932, 3863: 3933, 3864: 3934, 3865: 3935, 3866: 3936, 3867: 3937, 3868: 3938, 3869: 3939, 3870: 3940, 3871: 3941, 3872: 3942, 3873: 3943, 3874: 3944, 3875: 3945, 3876: 3946, 3877: 3947, 3878: 3948, 3879: 3949, 3880: 3950, 3881: 3951, 3882: 3952}}\n"
     ]
    }
   ],
   "source": [
    "print(tokenizer.query_id_encoder.mapping, tokenizer.query_id_encoder.inverse_mapping)\n",
    "print(tokenizer.item_id_encoder.mapping, tokenizer.item_id_encoder.inverse_mapping)"
   ]
  },
  {
   "attachments": {},
   "cell_type": "markdown",
   "metadata": {},
   "source": [
    "## Train model\n",
    "### Create SASRec model instance and run the training stage using lightning\n",
    "After each epoch validation metrics are shown. You can change the list of validation metrics in ValidationMetricsCallback\n",
    "The model is determined to be the best and is saved if the metric updates its maximum during validation (see the ModelCheckpoint)"
   ]
  },
  {
   "cell_type": "code",
   "execution_count": null,
   "metadata": {},
   "outputs": [],
   "source": [
    "from replay_main.models.nn.sequential import SasRec\n",
    "from replay_main.models.nn.sequential.sasrec import (\n",
    "    SasRecPredictionDataset,\n",
    "    SasRecTrainingDataset,\n",
    "    SasRecValidationDataset,\n",
    "    SasRecPredictionBatch,\n",
    "    SasRecModel\n",
    ")\n",
    "\n",
    "%load_ext autoreload\n",
    "%autoreload 2"
   ]
  },
  {
   "cell_type": "code",
   "execution_count": null,
   "metadata": {},
   "outputs": [
    {
     "name": "stderr",
     "output_type": "stream",
     "text": [
      "GPU available: True (cuda), used: True\n",
      "TPU available: False, using: 0 TPU cores\n",
      "IPU available: False, using: 0 IPUs\n",
      "HPU available: False, using: 0 HPUs\n",
      "/usr/local/lib/python3.11/site-packages/lightning/pytorch/callbacks/model_checkpoint.py:653: Checkpoint directory /app/.checkpoints exists and is not empty.\n",
      "LOCAL_RANK: 0 - CUDA_VISIBLE_DEVICES: [0]\n",
      "\n",
      "  | Name   | Type             | Params\n",
      "--------------------------------------------\n",
      "0 | _model | SasRecModel      | 2.3 M \n",
      "1 | _loss  | CrossEntropyLoss | 0     \n",
      "--------------------------------------------\n",
      "2.3 M     Trainable params\n",
      "0         Non-trainable params\n",
      "2.3 M     Total params\n",
      "9.247     Total estimated model params size (MB)\n"
     ]
    },
    {
     "data": {
      "application/vnd.jupyter.widget-view+json": {
       "model_id": "c075ed3fbbe84812b52dec74f1d26397",
       "version_major": 2,
       "version_minor": 0
      },
      "text/plain": [
       "Sanity Checking: |          | 0/? [00:00<?, ?it/s]"
      ]
     },
     "metadata": {},
     "output_type": "display_data"
    },
    {
     "name": "stderr",
     "output_type": "stream",
     "text": [
      "/usr/local/lib/python3.11/site-packages/lightning/pytorch/loops/fit_loop.py:298: The number of training batches (12) is smaller than the logging interval Trainer(log_every_n_steps=50). Set a lower value for log_every_n_steps if you want to see logs for the training epoch.\n"
     ]
    },
    {
     "data": {
      "application/vnd.jupyter.widget-view+json": {
       "model_id": "784f9268d4dc488ba842d9818c8e3608",
       "version_major": 2,
       "version_minor": 0
      },
      "text/plain": [
       "Training: |          | 0/? [00:00<?, ?it/s]"
      ]
     },
     "metadata": {},
     "output_type": "display_data"
    },
    {
     "data": {
      "application/vnd.jupyter.widget-view+json": {
       "model_id": "4b2e2adc736141cbbbb68053ea7f1cfe",
       "version_major": 2,
       "version_minor": 0
      },
      "text/plain": [
       "Validation: |          | 0/? [00:00<?, ?it/s]"
      ]
     },
     "metadata": {},
     "output_type": "display_data"
    },
    {
     "name": "stderr",
     "output_type": "stream",
     "text": [
      "Epoch 0, global step 12: 'recall@10' reached 0.04272 (best 0.04272), saving model to '/app/.checkpoints/epoch=0-step=12-v9.ckpt' as top 1\n"
     ]
    },
    {
     "name": "stdout",
     "output_type": "stream",
     "text": [
      "k              1        10        20         5\n",
      "map     0.007119  0.015521  0.017586  0.013317\n",
      "ndcg    0.007119  0.021813  0.029535  0.016433\n",
      "recall  0.007119  0.042715  0.073675  0.025993\n",
      "\n"
     ]
    },
    {
     "data": {
      "application/vnd.jupyter.widget-view+json": {
       "model_id": "1a7c200926d749fb9e2f766c9e087bab",
       "version_major": 2,
       "version_minor": 0
      },
      "text/plain": [
       "Validation: |          | 0/? [00:00<?, ?it/s]"
      ]
     },
     "metadata": {},
     "output_type": "display_data"
    },
    {
     "name": "stderr",
     "output_type": "stream",
     "text": [
      "Epoch 1, global step 24: 'recall@10' reached 0.04305 (best 0.04305), saving model to '/app/.checkpoints/epoch=1-step=24-v3.ckpt' as top 1\n"
     ]
    },
    {
     "name": "stdout",
     "output_type": "stream",
     "text": [
      "k              1        10        20         5\n",
      "map     0.005795  0.014113  0.015927  0.011507\n",
      "ndcg    0.005795  0.020752  0.027391  0.014373\n",
      "recall  0.005795  0.043046  0.069371  0.023179\n",
      "\n"
     ]
    },
    {
     "data": {
      "application/vnd.jupyter.widget-view+json": {
       "model_id": "59913a1f0f1241a49cd91f345c49ec5c",
       "version_major": 2,
       "version_minor": 0
      },
      "text/plain": [
       "Validation: |          | 0/? [00:00<?, ?it/s]"
      ]
     },
     "metadata": {},
     "output_type": "display_data"
    },
    {
     "name": "stderr",
     "output_type": "stream",
     "text": [
      "Epoch 2, global step 36: 'recall@10' reached 0.04586 (best 0.04586), saving model to '/app/.checkpoints/epoch=2-step=36-v1.ckpt' as top 1\n"
     ]
    },
    {
     "name": "stdout",
     "output_type": "stream",
     "text": [
      "k              1        10        20         5\n",
      "map     0.006291  0.015180  0.017102  0.012591\n",
      "ndcg    0.006291  0.022229  0.029279  0.015835\n",
      "recall  0.006291  0.045861  0.073841  0.025828\n",
      "\n"
     ]
    },
    {
     "data": {
      "application/vnd.jupyter.widget-view+json": {
       "model_id": "83170d6990bf4151acfb74769425bf67",
       "version_major": 2,
       "version_minor": 0
      },
      "text/plain": [
       "Validation: |          | 0/? [00:00<?, ?it/s]"
      ]
     },
     "metadata": {},
     "output_type": "display_data"
    },
    {
     "name": "stderr",
     "output_type": "stream",
     "text": [
      "Epoch 3, global step 48: 'recall@10' was not in top 1\n"
     ]
    },
    {
     "name": "stdout",
     "output_type": "stream",
     "text": [
      "k              1        10        20         5\n",
      "map     0.007616  0.016444  0.018417  0.014266\n",
      "ndcg    0.007616  0.023003  0.030366  0.017555\n",
      "recall  0.007616  0.044868  0.074338  0.027649\n",
      "\n"
     ]
    },
    {
     "data": {
      "application/vnd.jupyter.widget-view+json": {
       "model_id": "150e9518173c46a6ad5d318999ee7e8b",
       "version_major": 2,
       "version_minor": 0
      },
      "text/plain": [
       "Validation: |          | 0/? [00:00<?, ?it/s]"
      ]
     },
     "metadata": {},
     "output_type": "display_data"
    },
    {
     "name": "stderr",
     "output_type": "stream",
     "text": [
      "Epoch 4, global step 60: 'recall@10' reached 0.06026 (best 0.06026), saving model to '/app/.checkpoints/epoch=4-step=60.ckpt' as top 1\n"
     ]
    },
    {
     "name": "stdout",
     "output_type": "stream",
     "text": [
      "k              1        10        20         5\n",
      "map     0.009272  0.021408  0.024126  0.018079\n",
      "ndcg    0.009272  0.030371  0.040587  0.022202\n",
      "recall  0.009272  0.060265  0.101324  0.034768\n",
      "\n"
     ]
    },
    {
     "data": {
      "application/vnd.jupyter.widget-view+json": {
       "model_id": "dd8ef9bc01b441ff88a4ad528cb33320",
       "version_major": 2,
       "version_minor": 0
      },
      "text/plain": [
       "Validation: |          | 0/? [00:00<?, ?it/s]"
      ]
     },
     "metadata": {},
     "output_type": "display_data"
    },
    {
     "name": "stderr",
     "output_type": "stream",
     "text": [
      "Epoch 5, global step 72: 'recall@10' reached 0.10298 (best 0.10298), saving model to '/app/.checkpoints/epoch=5-step=72-v3.ckpt' as top 1\n"
     ]
    },
    {
     "name": "stdout",
     "output_type": "stream",
     "text": [
      "k              1        10        20         5\n",
      "map     0.021026  0.040638  0.044213  0.035497\n",
      "ndcg    0.021026  0.055075  0.068454  0.042578\n",
      "recall  0.021026  0.102980  0.156623  0.064238\n",
      "\n"
     ]
    },
    {
     "data": {
      "application/vnd.jupyter.widget-view+json": {
       "model_id": "b8873b2c6cd6431a945f4df5f0577133",
       "version_major": 2,
       "version_minor": 0
      },
      "text/plain": [
       "Validation: |          | 0/? [00:00<?, ?it/s]"
      ]
     },
     "metadata": {},
     "output_type": "display_data"
    },
    {
     "name": "stderr",
     "output_type": "stream",
     "text": [
      "Epoch 6, global step 84: 'recall@10' reached 0.15033 (best 0.15033), saving model to '/app/.checkpoints/epoch=6-step=84-v1.ckpt' as top 1\n"
     ]
    },
    {
     "name": "stdout",
     "output_type": "stream",
     "text": [
      "k             1        10        20         5\n",
      "map     0.03096  0.060900  0.065658  0.053681\n",
      "ndcg    0.03096  0.081682  0.099206  0.064149\n",
      "recall  0.03096  0.150331  0.220033  0.096026\n",
      "\n"
     ]
    },
    {
     "data": {
      "application/vnd.jupyter.widget-view+json": {
       "model_id": "af16b9c92b9843f5a6d9d8377078eb77",
       "version_major": 2,
       "version_minor": 0
      },
      "text/plain": [
       "Validation: |          | 0/? [00:00<?, ?it/s]"
      ]
     },
     "metadata": {},
     "output_type": "display_data"
    },
    {
     "name": "stderr",
     "output_type": "stream",
     "text": [
      "Epoch 7, global step 96: 'recall@10' reached 0.17235 (best 0.17235), saving model to '/app/.checkpoints/epoch=7-step=96-v1.ckpt' as top 1\n"
     ]
    },
    {
     "name": "stdout",
     "output_type": "stream",
     "text": [
      "k              1        10        20         5\n",
      "map     0.037417  0.071911  0.077654  0.064379\n",
      "ndcg    0.037417  0.095298  0.116335  0.076822\n",
      "recall  0.037417  0.172351  0.255795  0.114735\n",
      "\n"
     ]
    },
    {
     "data": {
      "application/vnd.jupyter.widget-view+json": {
       "model_id": "edae7210030a4045b322ca81c06a6709",
       "version_major": 2,
       "version_minor": 0
      },
      "text/plain": [
       "Validation: |          | 0/? [00:00<?, ?it/s]"
      ]
     },
     "metadata": {},
     "output_type": "display_data"
    },
    {
     "name": "stderr",
     "output_type": "stream",
     "text": [
      "Epoch 8, global step 108: 'recall@10' reached 0.19503 (best 0.19503), saving model to '/app/.checkpoints/epoch=8-step=108-v1.ckpt' as top 1\n"
     ]
    },
    {
     "name": "stdout",
     "output_type": "stream",
     "text": [
      "k              1        10        20         5\n",
      "map     0.035927  0.077679  0.083528  0.069123\n",
      "ndcg    0.035927  0.105087  0.126562  0.084145\n",
      "recall  0.035927  0.195033  0.280298  0.129801\n",
      "\n"
     ]
    },
    {
     "data": {
      "application/vnd.jupyter.widget-view+json": {
       "model_id": "155dec8ff5bc41f59fe80665d7b0ee49",
       "version_major": 2,
       "version_minor": 0
      },
      "text/plain": [
       "Validation: |          | 0/? [00:00<?, ?it/s]"
      ]
     },
     "metadata": {},
     "output_type": "display_data"
    },
    {
     "name": "stderr",
     "output_type": "stream",
     "text": [
      "Epoch 9, global step 120: 'recall@10' reached 0.21060 (best 0.21060), saving model to '/app/.checkpoints/epoch=9-step=120-v5.ckpt' as top 1\n"
     ]
    },
    {
     "name": "stdout",
     "output_type": "stream",
     "text": [
      "k              1        10        20         5\n",
      "map     0.041887  0.085027  0.091486  0.075795\n",
      "ndcg    0.041887  0.114298  0.137910  0.091701\n",
      "recall  0.041887  0.210596  0.304139  0.140232\n",
      "\n"
     ]
    },
    {
     "data": {
      "application/vnd.jupyter.widget-view+json": {
       "model_id": "a053bbd9847142a1b98a02e426d6df89",
       "version_major": 2,
       "version_minor": 0
      },
      "text/plain": [
       "Validation: |          | 0/? [00:00<?, ?it/s]"
      ]
     },
     "metadata": {},
     "output_type": "display_data"
    },
    {
     "name": "stderr",
     "output_type": "stream",
     "text": [
      "Epoch 10, global step 132: 'recall@10' reached 0.22152 (best 0.22152), saving model to '/app/.checkpoints/epoch=10-step=132.ckpt' as top 1\n"
     ]
    },
    {
     "name": "stdout",
     "output_type": "stream",
     "text": [
      "k              1        10        20         5\n",
      "map     0.041391  0.087420  0.094294  0.077508\n",
      "ndcg    0.041391  0.118680  0.143797  0.094495\n",
      "recall  0.041391  0.221523  0.321027  0.146358\n",
      "\n"
     ]
    },
    {
     "data": {
      "application/vnd.jupyter.widget-view+json": {
       "model_id": "128eab4eaef146b8b8d663bb0613ada7",
       "version_major": 2,
       "version_minor": 0
      },
      "text/plain": [
       "Validation: |          | 0/? [00:00<?, ?it/s]"
      ]
     },
     "metadata": {},
     "output_type": "display_data"
    },
    {
     "name": "stderr",
     "output_type": "stream",
     "text": [
      "Epoch 11, global step 144: 'recall@10' reached 0.23576 (best 0.23576), saving model to '/app/.checkpoints/epoch=11-step=144.ckpt' as top 1\n"
     ]
    },
    {
     "name": "stdout",
     "output_type": "stream",
     "text": [
      "k             1        10        20         5\n",
      "map     0.04404  0.092634  0.099417  0.081642\n",
      "ndcg    0.04404  0.125938  0.151107  0.099004\n",
      "recall  0.04404  0.235762  0.336258  0.151821\n",
      "\n"
     ]
    },
    {
     "data": {
      "application/vnd.jupyter.widget-view+json": {
       "model_id": "d17c42c2ae5442a986559a250e41b328",
       "version_major": 2,
       "version_minor": 0
      },
      "text/plain": [
       "Validation: |          | 0/? [00:00<?, ?it/s]"
      ]
     },
     "metadata": {},
     "output_type": "display_data"
    },
    {
     "name": "stderr",
     "output_type": "stream",
     "text": [
      "Epoch 12, global step 156: 'recall@10' reached 0.24255 (best 0.24255), saving model to '/app/.checkpoints/epoch=12-step=156.ckpt' as top 1\n"
     ]
    },
    {
     "name": "stdout",
     "output_type": "stream",
     "text": [
      "k              1        10        20         5\n",
      "map     0.045861  0.095321  0.102805  0.083852\n",
      "ndcg    0.045861  0.129583  0.156894  0.101671\n",
      "recall  0.045861  0.242550  0.350662  0.155960\n",
      "\n"
     ]
    },
    {
     "data": {
      "application/vnd.jupyter.widget-view+json": {
       "model_id": "f5fcd2fec88940cd8f182dce8e65a2f3",
       "version_major": 2,
       "version_minor": 0
      },
      "text/plain": [
       "Validation: |          | 0/? [00:00<?, ?it/s]"
      ]
     },
     "metadata": {},
     "output_type": "display_data"
    },
    {
     "name": "stderr",
     "output_type": "stream",
     "text": [
      "Epoch 13, global step 168: 'recall@10' reached 0.25265 (best 0.25265), saving model to '/app/.checkpoints/epoch=13-step=168.ckpt' as top 1\n"
     ]
    },
    {
     "name": "stdout",
     "output_type": "stream",
     "text": [
      "k              1        10        20         5\n",
      "map     0.045199  0.098147  0.105922  0.086642\n",
      "ndcg    0.045199  0.134155  0.162488  0.106017\n",
      "recall  0.045199  0.252649  0.364735  0.165066\n",
      "\n"
     ]
    },
    {
     "data": {
      "application/vnd.jupyter.widget-view+json": {
       "model_id": "1e762b9f151b4773b77c09146b711981",
       "version_major": 2,
       "version_minor": 0
      },
      "text/plain": [
       "Validation: |          | 0/? [00:00<?, ?it/s]"
      ]
     },
     "metadata": {},
     "output_type": "display_data"
    },
    {
     "name": "stderr",
     "output_type": "stream",
     "text": [
      "Epoch 14, global step 180: 'recall@10' reached 0.25877 (best 0.25877), saving model to '/app/.checkpoints/epoch=14-step=180.ckpt' as top 1\n"
     ]
    },
    {
     "name": "stdout",
     "output_type": "stream",
     "text": [
      "k              1        10        20         5\n",
      "map     0.047848  0.101678  0.109486  0.089536\n",
      "ndcg    0.047848  0.138272  0.166868  0.108678\n",
      "recall  0.047848  0.258775  0.372185  0.166887\n",
      "\n"
     ]
    },
    {
     "data": {
      "application/vnd.jupyter.widget-view+json": {
       "model_id": "2c386c51f16f41c39c7d55fb4cd86d41",
       "version_major": 2,
       "version_minor": 0
      },
      "text/plain": [
       "Validation: |          | 0/? [00:00<?, ?it/s]"
      ]
     },
     "metadata": {},
     "output_type": "display_data"
    },
    {
     "name": "stderr",
     "output_type": "stream",
     "text": [
      "Epoch 15, global step 192: 'recall@10' reached 0.26523 (best 0.26523), saving model to '/app/.checkpoints/epoch=15-step=192.ckpt' as top 1\n"
     ]
    },
    {
     "name": "stdout",
     "output_type": "stream",
     "text": [
      "k              1        10        20         5\n",
      "map     0.049172  0.105461  0.113722  0.093438\n",
      "ndcg    0.049172  0.142783  0.173015  0.113652\n",
      "recall  0.049172  0.265232  0.385099  0.175166\n",
      "\n"
     ]
    },
    {
     "data": {
      "application/vnd.jupyter.widget-view+json": {
       "model_id": "4186a43447e0422eb5a319627e8760ff",
       "version_major": 2,
       "version_minor": 0
      },
      "text/plain": [
       "Validation: |          | 0/? [00:00<?, ?it/s]"
      ]
     },
     "metadata": {},
     "output_type": "display_data"
    },
    {
     "name": "stderr",
     "output_type": "stream",
     "text": [
      "Epoch 16, global step 204: 'recall@10' reached 0.27301 (best 0.27301), saving model to '/app/.checkpoints/epoch=16-step=204.ckpt' as top 1\n"
     ]
    },
    {
     "name": "stdout",
     "output_type": "stream",
     "text": [
      "k              1        10        20         5\n",
      "map     0.054139  0.109396  0.117134  0.096705\n",
      "ndcg    0.054139  0.147506  0.175770  0.116704\n",
      "recall  0.054139  0.273013  0.384934  0.177649\n",
      "\n"
     ]
    },
    {
     "data": {
      "application/vnd.jupyter.widget-view+json": {
       "model_id": "8a3042a68c5347f09510697c7bed9825",
       "version_major": 2,
       "version_minor": 0
      },
      "text/plain": [
       "Validation: |          | 0/? [00:00<?, ?it/s]"
      ]
     },
     "metadata": {},
     "output_type": "display_data"
    },
    {
     "name": "stderr",
     "output_type": "stream",
     "text": [
      "Epoch 17, global step 216: 'recall@10' was not in top 1\n"
     ]
    },
    {
     "name": "stdout",
     "output_type": "stream",
     "text": [
      "k             1        10        20         5\n",
      "map     0.05447  0.109511  0.118061  0.097274\n",
      "ndcg    0.05447  0.147447  0.178563  0.117539\n",
      "recall  0.05447  0.272517  0.395530  0.179470\n",
      "\n"
     ]
    },
    {
     "data": {
      "application/vnd.jupyter.widget-view+json": {
       "model_id": "6d8e0b0b409a495fbce1b184654acbf3",
       "version_major": 2,
       "version_minor": 0
      },
      "text/plain": [
       "Validation: |          | 0/? [00:00<?, ?it/s]"
      ]
     },
     "metadata": {},
     "output_type": "display_data"
    },
    {
     "name": "stderr",
     "output_type": "stream",
     "text": [
      "Epoch 18, global step 228: 'recall@10' reached 0.28311 (best 0.28311), saving model to '/app/.checkpoints/epoch=18-step=228-v1.ckpt' as top 1\n"
     ]
    },
    {
     "name": "stdout",
     "output_type": "stream",
     "text": [
      "k              1        10        20         5\n",
      "map     0.056291  0.113986  0.121851  0.101614\n",
      "ndcg    0.056291  0.153394  0.182281  0.123068\n",
      "recall  0.056291  0.283113  0.397848  0.188576\n",
      "\n"
     ]
    },
    {
     "data": {
      "application/vnd.jupyter.widget-view+json": {
       "model_id": "d7468360c7984953b1682c70fedc5079",
       "version_major": 2,
       "version_minor": 0
      },
      "text/plain": [
       "Validation: |          | 0/? [00:00<?, ?it/s]"
      ]
     },
     "metadata": {},
     "output_type": "display_data"
    },
    {
     "name": "stderr",
     "output_type": "stream",
     "text": [
      "Epoch 19, global step 240: 'recall@10' reached 0.28394 (best 0.28394), saving model to '/app/.checkpoints/epoch=19-step=240.ckpt' as top 1\n"
     ]
    },
    {
     "name": "stdout",
     "output_type": "stream",
     "text": [
      "k              1        10        20         5\n",
      "map     0.054636  0.112999  0.121064  0.099978\n",
      "ndcg    0.054636  0.152839  0.182418  0.121301\n",
      "recall  0.054636  0.283940  0.401325  0.186424\n",
      "\n"
     ]
    },
    {
     "data": {
      "application/vnd.jupyter.widget-view+json": {
       "model_id": "73f78647b9bc4dd5a2c96c0afd50e840",
       "version_major": 2,
       "version_minor": 0
      },
      "text/plain": [
       "Validation: |          | 0/? [00:00<?, ?it/s]"
      ]
     },
     "metadata": {},
     "output_type": "display_data"
    },
    {
     "name": "stderr",
     "output_type": "stream",
     "text": [
      "Epoch 20, global step 252: 'recall@10' reached 0.28907 (best 0.28907), saving model to '/app/.checkpoints/epoch=20-step=252.ckpt' as top 1\n"
     ]
    },
    {
     "name": "stdout",
     "output_type": "stream",
     "text": [
      "k              1        10        20         5\n",
      "map     0.057781  0.116523  0.124944  0.103358\n",
      "ndcg    0.057781  0.156736  0.187555  0.124798\n",
      "recall  0.057781  0.289073  0.411258  0.190232\n",
      "\n"
     ]
    },
    {
     "data": {
      "application/vnd.jupyter.widget-view+json": {
       "model_id": "809f23917baf4af29786aa8811a4fcf2",
       "version_major": 2,
       "version_minor": 0
      },
      "text/plain": [
       "Validation: |          | 0/? [00:00<?, ?it/s]"
      ]
     },
     "metadata": {},
     "output_type": "display_data"
    },
    {
     "name": "stderr",
     "output_type": "stream",
     "text": [
      "Epoch 21, global step 264: 'recall@10' was not in top 1\n"
     ]
    },
    {
     "name": "stdout",
     "output_type": "stream",
     "text": [
      "k              1        10        20         5\n",
      "map     0.057781  0.116564  0.124982  0.103778\n",
      "ndcg    0.057781  0.156493  0.187257  0.125373\n",
      "recall  0.057781  0.287748  0.409603  0.191225\n",
      "\n"
     ]
    },
    {
     "data": {
      "application/vnd.jupyter.widget-view+json": {
       "model_id": "40967cca36db4d72981f0aa0b910f6af",
       "version_major": 2,
       "version_minor": 0
      },
      "text/plain": [
       "Validation: |          | 0/? [00:00<?, ?it/s]"
      ]
     },
     "metadata": {},
     "output_type": "display_data"
    },
    {
     "name": "stderr",
     "output_type": "stream",
     "text": [
      "Epoch 22, global step 276: 'recall@10' reached 0.28957 (best 0.28957), saving model to '/app/.checkpoints/epoch=22-step=276.ckpt' as top 1\n"
     ]
    },
    {
     "name": "stdout",
     "output_type": "stream",
     "text": [
      "k              1        10        20         5\n",
      "map     0.060265  0.119045  0.127597  0.106198\n",
      "ndcg    0.060265  0.158832  0.190036  0.127685\n",
      "recall  0.060265  0.289570  0.413079  0.193212\n",
      "\n"
     ]
    },
    {
     "data": {
      "application/vnd.jupyter.widget-view+json": {
       "model_id": "292421b59cb64e89844f8eb0f73caae5",
       "version_major": 2,
       "version_minor": 0
      },
      "text/plain": [
       "Validation: |          | 0/? [00:00<?, ?it/s]"
      ]
     },
     "metadata": {},
     "output_type": "display_data"
    },
    {
     "name": "stderr",
     "output_type": "stream",
     "text": [
      "Epoch 23, global step 288: 'recall@10' reached 0.29321 (best 0.29321), saving model to '/app/.checkpoints/epoch=23-step=288.ckpt' as top 1\n"
     ]
    },
    {
     "name": "stdout",
     "output_type": "stream",
     "text": [
      "k              1        10        20         5\n",
      "map     0.063742  0.122011  0.130452  0.109034\n",
      "ndcg    0.063742  0.161872  0.192775  0.130252\n",
      "recall  0.063742  0.293212  0.415728  0.195033\n",
      "\n"
     ]
    },
    {
     "data": {
      "application/vnd.jupyter.widget-view+json": {
       "model_id": "c054d8d48b3e4e52a9c2cb54f55fbf84",
       "version_major": 2,
       "version_minor": 0
      },
      "text/plain": [
       "Validation: |          | 0/? [00:00<?, ?it/s]"
      ]
     },
     "metadata": {},
     "output_type": "display_data"
    },
    {
     "name": "stderr",
     "output_type": "stream",
     "text": [
      "Epoch 24, global step 300: 'recall@10' reached 0.29834 (best 0.29834), saving model to '/app/.checkpoints/epoch=24-step=300-v1.ckpt' as top 1\n"
     ]
    },
    {
     "name": "stdout",
     "output_type": "stream",
     "text": [
      "k              1        10        20         5\n",
      "map     0.062914  0.122484  0.130725  0.109241\n",
      "ndcg    0.062914  0.163422  0.193657  0.131094\n",
      "recall  0.062914  0.298344  0.418377  0.197848\n",
      "\n"
     ]
    },
    {
     "data": {
      "application/vnd.jupyter.widget-view+json": {
       "model_id": "ed78814bbc024be8a872470402d6715b",
       "version_major": 2,
       "version_minor": 0
      },
      "text/plain": [
       "Validation: |          | 0/? [00:00<?, ?it/s]"
      ]
     },
     "metadata": {},
     "output_type": "display_data"
    },
    {
     "name": "stderr",
     "output_type": "stream",
     "text": [
      "Epoch 25, global step 312: 'recall@10' was not in top 1\n"
     ]
    },
    {
     "name": "stdout",
     "output_type": "stream",
     "text": [
      "k              1        10        20         5\n",
      "map     0.063245  0.123063  0.131353  0.109636\n",
      "ndcg    0.063245  0.163739  0.194181  0.131069\n",
      "recall  0.063245  0.297682  0.418543  0.196358\n",
      "\n"
     ]
    },
    {
     "data": {
      "application/vnd.jupyter.widget-view+json": {
       "model_id": "2b25637b1c9b479bb9d1ab721f086491",
       "version_major": 2,
       "version_minor": 0
      },
      "text/plain": [
       "Validation: |          | 0/? [00:00<?, ?it/s]"
      ]
     },
     "metadata": {},
     "output_type": "display_data"
    },
    {
     "name": "stderr",
     "output_type": "stream",
     "text": [
      "Epoch 26, global step 324: 'recall@10' reached 0.30464 (best 0.30464), saving model to '/app/.checkpoints/epoch=26-step=324-v1.ckpt' as top 1\n"
     ]
    },
    {
     "name": "stdout",
     "output_type": "stream",
     "text": [
      "k              1        10        20         5\n",
      "map     0.065066  0.125389  0.133202  0.111355\n",
      "ndcg    0.065066  0.167079  0.195467  0.132890\n",
      "recall  0.065066  0.304636  0.416722  0.198510\n",
      "\n"
     ]
    },
    {
     "data": {
      "application/vnd.jupyter.widget-view+json": {
       "model_id": "5fcaf6b387e04a7490f09f9fbb8e28ab",
       "version_major": 2,
       "version_minor": 0
      },
      "text/plain": [
       "Validation: |          | 0/? [00:00<?, ?it/s]"
      ]
     },
     "metadata": {},
     "output_type": "display_data"
    },
    {
     "name": "stderr",
     "output_type": "stream",
     "text": [
      "Epoch 27, global step 336: 'recall@10' was not in top 1\n"
     ]
    },
    {
     "name": "stdout",
     "output_type": "stream",
     "text": [
      "k              1        10        20         5\n",
      "map     0.061921  0.123059  0.131376  0.109076\n",
      "ndcg    0.061921  0.164815  0.195478  0.130741\n",
      "recall  0.061921  0.302483  0.424503  0.196689\n",
      "\n"
     ]
    },
    {
     "data": {
      "application/vnd.jupyter.widget-view+json": {
       "model_id": "89d336bdbb904ef7ba19ff37bde9b0a3",
       "version_major": 2,
       "version_minor": 0
      },
      "text/plain": [
       "Validation: |          | 0/? [00:00<?, ?it/s]"
      ]
     },
     "metadata": {},
     "output_type": "display_data"
    },
    {
     "name": "stderr",
     "output_type": "stream",
     "text": [
      "Epoch 28, global step 348: 'recall@10' was not in top 1\n"
     ]
    },
    {
     "name": "stdout",
     "output_type": "stream",
     "text": [
      "k              1        10        20         5\n",
      "map     0.060762  0.122805  0.130972  0.109065\n",
      "ndcg    0.060762  0.164957  0.194884  0.131380\n",
      "recall  0.060762  0.303808  0.422517  0.199338\n",
      "\n"
     ]
    },
    {
     "data": {
      "application/vnd.jupyter.widget-view+json": {
       "model_id": "beb0c9a057014a529149acf49dddd8fb",
       "version_major": 2,
       "version_minor": 0
      },
      "text/plain": [
       "Validation: |          | 0/? [00:00<?, ?it/s]"
      ]
     },
     "metadata": {},
     "output_type": "display_data"
    },
    {
     "name": "stderr",
     "output_type": "stream",
     "text": [
      "Epoch 29, global step 360: 'recall@10' was not in top 1\n",
      "`Trainer.fit` stopped: `max_epochs=30` reached.\n"
     ]
    },
    {
     "name": "stdout",
     "output_type": "stream",
     "text": [
      "k              1        10        20         5\n",
      "map     0.062914  0.124921  0.133545  0.111711\n",
      "ndcg    0.062914  0.166372  0.197995  0.134390\n",
      "recall  0.062914  0.302318  0.427815  0.203477\n",
      "\n"
     ]
    }
   ],
   "source": [
    "MAX_SEQ_LEN = 200\n",
    "BATCH_SIZE = 512\n",
    "NUM_WORKERS = 4\n",
    "\n",
    "model = SasRec(\n",
    "    tensor_schema,\n",
    "    block_count=2,\n",
    "    head_count=2,\n",
    "    max_seq_len=MAX_SEQ_LEN,\n",
    "    hidden_size=300,\n",
    "    dropout_rate=0.3,\n",
    "    loss_type='CE',\n",
    "    n_buckets = 300,\n",
    "    bucket_size_x = 300,\n",
    "    bucket_size_y = 512,\n",
    "    mix_x = True,\n",
    "    optimizer_factory=FatOptimizerFactory(learning_rate=0.001),\n",
    ")\n",
    "\n",
    "csv_logger = CSVLogger(save_dir=\".logs/train\", name=\"SASRec_example\")\n",
    "\n",
    "checkpoint_callback = ModelCheckpoint(\n",
    "    dirpath=\".checkpoints\",\n",
    "    save_top_k=1,\n",
    "    verbose=True,\n",
    "    # if you use multiple dataloaders, then add the serial number of the dataloader to the suffix of the metric name.\n",
    "    # For example,\"recall@10/dataloader_idx_0\"\n",
    "    monitor=\"recall@10\",\n",
    "    mode=\"max\",\n",
    ")\n",
    "\n",
    "validation_metrics_callback = ValidationMetricsCallback(\n",
    "    metrics=[\"map\", \"ndcg\", \"recall\"],\n",
    "    ks=[1, 5, 10, 20],\n",
    "    item_count=train_dataset.item_count,\n",
    "    postprocessors=[RemoveSeenItems(sequential_validation_dataset)]\n",
    ")\n",
    "\n",
    "trainer = L.Trainer(\n",
    "    max_epochs=30,\n",
    "    callbacks=[checkpoint_callback, validation_metrics_callback],\n",
    "    logger=csv_logger,\n",
    "    # accelerator=\"cpu\",\n",
    ")\n",
    "\n",
    "train_dataloader = DataLoader(\n",
    "    dataset=SasRecTrainingDataset(\n",
    "        sequential_train_dataset,\n",
    "        max_sequence_length=MAX_SEQ_LEN,\n",
    "    ),\n",
    "    batch_size=BATCH_SIZE,\n",
    "    shuffle=True,\n",
    "    num_workers=4,\n",
    "    pin_memory=True,\n",
    ")\n",
    "\n",
    "validation_dataloader = DataLoader(\n",
    "    dataset=SasRecValidationDataset(\n",
    "        sequential_validation_dataset,\n",
    "        sequential_validation_gt,\n",
    "        sequential_train_dataset,\n",
    "        max_sequence_length=MAX_SEQ_LEN,\n",
    "    ),\n",
    "    batch_size=BATCH_SIZE,\n",
    "    num_workers=NUM_WORKERS,\n",
    "    pin_memory=True,\n",
    ")\n",
    "\n",
    "trainer.fit(\n",
    "    model,\n",
    "    train_dataloaders=train_dataloader,\n",
    "    val_dataloaders=validation_dataloader,\n",
    ")"
   ]
  },
  {
   "attachments": {},
   "cell_type": "markdown",
   "metadata": {},
   "source": [
    "The path to the best model is saved inside checkpoint_callback"
   ]
  },
  {
   "cell_type": "code",
   "execution_count": null,
   "metadata": {},
   "outputs": [],
   "source": [
    "best_model = SasRec.load_from_checkpoint(checkpoint_callback.best_model_path)"
   ]
  },
  {
   "attachments": {},
   "cell_type": "markdown",
   "metadata": {},
   "source": [
    "## Inference stage\n",
    "### Prepare Dataloader and logger"
   ]
  },
  {
   "cell_type": "code",
   "execution_count": null,
   "metadata": {},
   "outputs": [],
   "source": [
    "prediction_dataloader = DataLoader(\n",
    "    dataset=SasRecPredictionDataset(\n",
    "        sequential_test_dataset,\n",
    "        max_sequence_length=MAX_SEQ_LEN,\n",
    "    ),\n",
    "    batch_size=BATCH_SIZE,\n",
    "    num_workers=NUM_WORKERS,\n",
    "    pin_memory=True,\n",
    ")\n",
    "\n",
    "csv_logger = CSVLogger(save_dir=\".logs/test\", name=\"SASRec_example\")"
   ]
  },
  {
   "attachments": {},
   "cell_type": "markdown",
   "metadata": {},
   "source": [
    "### Run inference\n",
    "You can get the recommendations in three formats: PySpark DataFrame, Pandas DataFrame, PyTorch tensors. Each of the types corresponds a callback\n",
    "You can filter the results using postprocessors strategy. For example the RemoveSeenItems postprocessor is filtering out the items that already have been seen in test dataset\n",
    "You don't need to use all three callbacks. This is shown only for example\n",
    "\n",
    "Also, you can get user embeddings, that were used to perform predictions, using `get_query_embedding` method inside SasRecModel or `QueryEmbeddingsPredictionCallback` for lightning module."
   ]
  },
  {
   "cell_type": "code",
   "execution_count": null,
   "metadata": {},
   "outputs": [
    {
     "name": "stderr",
     "output_type": "stream",
     "text": [
      "GPU available: True (cuda), used: True\n",
      "TPU available: False, using: 0 TPU cores\n",
      "IPU available: False, using: 0 IPUs\n",
      "HPU available: False, using: 0 HPUs\n",
      "LOCAL_RANK: 0 - CUDA_VISIBLE_DEVICES: [0]\n"
     ]
    },
    {
     "data": {
      "application/vnd.jupyter.widget-view+json": {
       "model_id": "7eec9f1d4bb64e0e9537c6029d7f5dd2",
       "version_major": 2,
       "version_minor": 0
      },
      "text/plain": [
       "Predicting: |          | 0/? [00:00<?, ?it/s]"
      ]
     },
     "metadata": {},
     "output_type": "display_data"
    },
    {
     "name": "stderr",
     "output_type": "stream",
     "text": [
      "24/11/21 10:47:19 WARN SQLConf: The SQL config 'spark.sql.execution.arrow.enabled' has been deprecated in Spark v3.0 and may be removed in the future. Use 'spark.sql.execution.arrow.pyspark.enabled' instead of it.\n",
      "24/11/21 10:47:19 WARN SQLConf: The SQL config 'spark.sql.execution.arrow.enabled' has been deprecated in Spark v3.0 and may be removed in the future. Use 'spark.sql.execution.arrow.pyspark.enabled' instead of it.\n",
      "24/11/21 10:47:19 WARN SQLConf: The SQL config 'spark.sql.execution.arrow.enabled' has been deprecated in Spark v3.0 and may be removed in the future. Use 'spark.sql.execution.arrow.pyspark.enabled' instead of it.\n"
     ]
    }
   ],
   "source": [
    "TOPK = [1, 10, 20, 100]\n",
    "\n",
    "postprocessors = [RemoveSeenItems(sequential_test_dataset)]\n",
    "\n",
    "spark_prediction_callback = SparkPredictionCallback(\n",
    "    spark_session=spark_session,\n",
    "    top_k=max(TOPK),\n",
    "    query_column=\"user_id\",\n",
    "    item_column=\"item_id\",\n",
    "    rating_column=\"score\",\n",
    "    postprocessors=postprocessors,\n",
    ")\n",
    "\n",
    "pandas_prediction_callback = PandasPredictionCallback(\n",
    "    top_k=max(TOPK),\n",
    "    query_column=\"user_id\",\n",
    "    item_column=\"item_id\",\n",
    "    rating_column=\"score\",\n",
    "    postprocessors=postprocessors,\n",
    ")\n",
    "\n",
    "torch_prediction_callback = TorchPredictionCallback(\n",
    "    top_k=max(TOPK),\n",
    "    postprocessors=postprocessors,\n",
    ")\n",
    "\n",
    "query_embeddings_callback = QueryEmbeddingsPredictionCallback()\n",
    "\n",
    "trainer = L.Trainer(\n",
    "    callbacks=[\n",
    "        spark_prediction_callback,\n",
    "        pandas_prediction_callback,\n",
    "        torch_prediction_callback,\n",
    "        query_embeddings_callback\n",
    "    ], \n",
    "    logger=csv_logger, \n",
    "    inference_mode=True\n",
    ")\n",
    "trainer.predict(best_model, dataloaders=prediction_dataloader, return_predictions=False)\n",
    "\n",
    "spark_res = spark_prediction_callback.get_result()\n",
    "pandas_res = pandas_prediction_callback.get_result()\n",
    "torch_user_ids, torch_item_ids, torch_scores = torch_prediction_callback.get_result()\n",
    "user_embeddings = query_embeddings_callback.get_result()"
   ]
  },
  {
   "cell_type": "code",
   "execution_count": null,
   "metadata": {},
   "outputs": [
    {
     "name": "stderr",
     "output_type": "stream",
     "text": [
      "[Stage 0:>                                                          (0 + 1) / 1]\r"
     ]
    },
    {
     "name": "stdout",
     "output_type": "stream",
     "text": [
      "+-------+-------+------------------+\n",
      "|user_id|item_id|             score|\n",
      "+-------+-------+------------------+\n",
      "|      0|    360| 8.046719551086426|\n",
      "|      0|   1642| 7.732348442077637|\n",
      "|      0|   2325| 7.694272518157959|\n",
      "|      0|   2020| 7.501646518707275|\n",
      "|      0|   2012| 7.387465476989746|\n",
      "|      0|     47| 7.252443790435791|\n",
      "|      0|   1020|7.0669989585876465|\n",
      "|      0|   2014| 7.052806854248047|\n",
      "|      0|   2027| 6.939379692077637|\n",
      "|      0|    612| 6.934659004211426|\n",
      "|      0|   2016| 6.825642108917236|\n",
      "|      0|   2965|  6.74445915222168|\n",
      "|      0|   1012| 6.743430137634277|\n",
      "|      0|   1019| 6.726681709289551|\n",
      "|      0|   2021| 6.695346832275391|\n",
      "|      0|   1382|  6.68765926361084|\n",
      "|      0|   2009| 6.643287658691406|\n",
      "|      0|   2018| 6.635516166687012|\n",
      "|      0|   1050| 6.411828994750977|\n",
      "|      0|   3090| 6.392594814300537|\n",
      "+-------+-------+------------------+\n",
      "only showing top 20 rows\n",
      "\n"
     ]
    },
    {
     "name": "stderr",
     "output_type": "stream",
     "text": [
      "                                                                                \r"
     ]
    }
   ],
   "source": [
    "spark_res.show()"
   ]
  },
  {
   "cell_type": "code",
   "execution_count": null,
   "metadata": {},
   "outputs": [
    {
     "data": {
      "text/html": [
       "<div>\n",
       "<style scoped>\n",
       "    .dataframe tbody tr th:only-of-type {\n",
       "        vertical-align: middle;\n",
       "    }\n",
       "\n",
       "    .dataframe tbody tr th {\n",
       "        vertical-align: top;\n",
       "    }\n",
       "\n",
       "    .dataframe thead th {\n",
       "        text-align: right;\n",
       "    }\n",
       "</style>\n",
       "<table border=\"1\" class=\"dataframe\">\n",
       "  <thead>\n",
       "    <tr style=\"text-align: right;\">\n",
       "      <th></th>\n",
       "      <th>user_id</th>\n",
       "      <th>item_id</th>\n",
       "      <th>score</th>\n",
       "    </tr>\n",
       "  </thead>\n",
       "  <tbody>\n",
       "    <tr>\n",
       "      <th>0</th>\n",
       "      <td>0</td>\n",
       "      <td>360</td>\n",
       "      <td>8.04672</td>\n",
       "    </tr>\n",
       "    <tr>\n",
       "      <th>0</th>\n",
       "      <td>0</td>\n",
       "      <td>1642</td>\n",
       "      <td>7.732348</td>\n",
       "    </tr>\n",
       "    <tr>\n",
       "      <th>0</th>\n",
       "      <td>0</td>\n",
       "      <td>2325</td>\n",
       "      <td>7.694273</td>\n",
       "    </tr>\n",
       "    <tr>\n",
       "      <th>0</th>\n",
       "      <td>0</td>\n",
       "      <td>2020</td>\n",
       "      <td>7.501647</td>\n",
       "    </tr>\n",
       "    <tr>\n",
       "      <th>0</th>\n",
       "      <td>0</td>\n",
       "      <td>2012</td>\n",
       "      <td>7.387465</td>\n",
       "    </tr>\n",
       "    <tr>\n",
       "      <th>...</th>\n",
       "      <td>...</td>\n",
       "      <td>...</td>\n",
       "      <td>...</td>\n",
       "    </tr>\n",
       "    <tr>\n",
       "      <th>6039</th>\n",
       "      <td>6039</td>\n",
       "      <td>3664</td>\n",
       "      <td>3.21084</td>\n",
       "    </tr>\n",
       "    <tr>\n",
       "      <th>6039</th>\n",
       "      <td>6039</td>\n",
       "      <td>2473</td>\n",
       "      <td>3.202641</td>\n",
       "    </tr>\n",
       "    <tr>\n",
       "      <th>6039</th>\n",
       "      <td>6039</td>\n",
       "      <td>373</td>\n",
       "      <td>3.19296</td>\n",
       "    </tr>\n",
       "    <tr>\n",
       "      <th>6039</th>\n",
       "      <td>6039</td>\n",
       "      <td>2143</td>\n",
       "      <td>3.184542</td>\n",
       "    </tr>\n",
       "    <tr>\n",
       "      <th>6039</th>\n",
       "      <td>6039</td>\n",
       "      <td>1681</td>\n",
       "      <td>3.17996</td>\n",
       "    </tr>\n",
       "  </tbody>\n",
       "</table>\n",
       "<p>604000 rows × 3 columns</p>\n",
       "</div>"
      ],
      "text/plain": [
       "      user_id item_id     score\n",
       "0           0     360   8.04672\n",
       "0           0    1642  7.732348\n",
       "0           0    2325  7.694273\n",
       "0           0    2020  7.501647\n",
       "0           0    2012  7.387465\n",
       "...       ...     ...       ...\n",
       "6039     6039    3664   3.21084\n",
       "6039     6039    2473  3.202641\n",
       "6039     6039     373   3.19296\n",
       "6039     6039    2143  3.184542\n",
       "6039     6039    1681   3.17996\n",
       "\n",
       "[604000 rows x 3 columns]"
      ]
     },
     "execution_count": 27,
     "metadata": {},
     "output_type": "execute_result"
    }
   ],
   "source": [
    "pandas_res"
   ]
  },
  {
   "cell_type": "code",
   "execution_count": null,
   "metadata": {},
   "outputs": [
    {
     "name": "stdout",
     "output_type": "stream",
     "text": [
      "tensor(0) tensor([ 360, 1642, 2325, 2020, 2012,   47, 1020, 2014, 2027,  612, 2016, 2965,\n",
      "        1012, 1019, 2021, 1382, 2009, 2018, 1050, 3090, 2068, 1990,  547,  105,\n",
      "          12, 2072, 3088, 1964, 2011, 2030, 1018, 1010, 1346, 2070, 2023, 3546,\n",
      "        1017,  310,  592,  358,  700,  582, 1011,  259, 2073, 1002, 1977, 2315,\n",
      "        2918, 1262, 1000, 1547,  974, 3328, 3144, 1743, 2631, 2047, 1850, 3414,\n",
      "        1979, 2033,  667, 2692, 3329, 1058, 2640, 2985, 1664, 2285, 2830,  826,\n",
      "         156, 3218, 2013, 2807,  236,   59, 3327,  314, 2677, 1004, 2054,   33,\n",
      "        1539, 1851,  999,  791, 1393, 3106,  476, 2788, 1459, 1936, 3676,    1,\n",
      "        1187, 2092, 2559, 3682]) tensor([8.0467, 7.7323, 7.6943, 7.5016, 7.3875, 7.2524, 7.0670, 7.0528, 6.9394,\n",
      "        6.9347, 6.8256, 6.7445, 6.7434, 6.7267, 6.6953, 6.6877, 6.6433, 6.6355,\n",
      "        6.4118, 6.3926, 6.3765, 6.2563, 6.1451, 6.1335, 6.1097, 6.0522, 6.0269,\n",
      "        5.9829, 5.9490, 5.8249, 5.8111, 5.7396, 5.7180, 5.7064, 5.6984, 5.6906,\n",
      "        5.6772, 5.6565, 5.6070, 5.5908, 5.5336, 5.5006, 5.4892, 5.4412, 5.4207,\n",
      "        5.3906, 5.3590, 5.3543, 5.3500, 5.3283, 5.3129, 5.2215, 5.1980, 5.1891,\n",
      "        5.1869, 5.1858, 5.1763, 5.1756, 5.1305, 5.1056, 5.0994, 5.0972, 5.0707,\n",
      "        5.0583, 5.0505, 5.0500, 5.0199, 5.0197, 5.0139, 5.0098, 4.9889, 4.9854,\n",
      "        4.9738, 4.9712, 4.9650, 4.9348, 4.9166, 4.9056, 4.8575, 4.8374, 4.7912,\n",
      "        4.7761, 4.7649, 4.7417, 4.7077, 4.7039, 4.6815, 4.6487, 4.6393, 4.6283,\n",
      "        4.6135, 4.6111, 4.6108, 4.6009, 4.5918, 4.5734, 4.5426, 4.4404, 4.4287,\n",
      "        4.4151])\n"
     ]
    }
   ],
   "source": [
    "print(torch_user_ids[0], torch_item_ids[0], torch_scores[0])"
   ]
  },
  {
   "attachments": {},
   "cell_type": "markdown",
   "metadata": {},
   "source": [
    "Suppose we want to get the recomendations in PySpark format. \n",
    "Let's get the inverse representation of labels using inverse_transform method.\n",
    "\n",
    "Note that the reverse representation can only be obtained for PySpark and Pandas formats. When working with PyTorch tensors, the reverse representation must be done manually"
   ]
  },
  {
   "cell_type": "code",
   "execution_count": null,
   "metadata": {},
   "outputs": [],
   "source": [
    "recommendations = tokenizer.query_and_item_id_encoder.inverse_transform(spark_res)"
   ]
  },
  {
   "cell_type": "code",
   "execution_count": null,
   "metadata": {},
   "outputs": [
    {
     "name": "stderr",
     "output_type": "stream",
     "text": [
      "                                                                                \r"
     ]
    },
    {
     "name": "stdout",
     "output_type": "stream",
     "text": [
      "+------------------+-------+-------+\n",
      "|             score|user_id|item_id|\n",
      "+------------------+-------+-------+\n",
      "| 6.643287658691406|      1|   2078|\n",
      "| 8.046719551086426|      1|    364|\n",
      "| 6.695346832275391|      1|   2090|\n",
      "| 6.376459121704102|      1|   2137|\n",
      "| 6.934659004211426|      1|    616|\n",
      "| 6.825642108917236|      1|   2085|\n",
      "|  6.74445915222168|      1|   3034|\n",
      "| 7.732348442077637|      1|   1688|\n",
      "| 6.411828994750977|      1|   1064|\n",
      "| 6.726681709289551|      1|   1032|\n",
      "| 6.635516166687012|      1|   2087|\n",
      "| 7.694272518157959|      1|   2394|\n",
      "| 7.501646518707275|      1|   2089|\n",
      "| 6.743430137634277|      1|   1025|\n",
      "| 6.939379692077637|      1|   2096|\n",
      "|  6.68765926361084|      1|   1405|\n",
      "| 7.052806854248047|      1|   2083|\n",
      "| 6.392594814300537|      1|   3159|\n",
      "| 7.387465476989746|      1|   2081|\n",
      "|7.0669989585876465|      1|   1033|\n",
      "+------------------+-------+-------+\n",
      "only showing top 20 rows\n",
      "\n"
     ]
    }
   ],
   "source": [
    "recommendations.show()"
   ]
  },
  {
   "attachments": {},
   "cell_type": "markdown",
   "metadata": {},
   "source": [
    "### Calculating metrics"
   ]
  },
  {
   "cell_type": "code",
   "execution_count": null,
   "metadata": {},
   "outputs": [],
   "source": [
    "init_args = {\"query_column\": \"user_id\", \"rating_column\": \"score\"}"
   ]
  },
  {
   "cell_type": "code",
   "execution_count": null,
   "metadata": {},
   "outputs": [
    {
     "name": "stderr",
     "output_type": "stream",
     "text": [
      "                                                                                \r"
     ]
    }
   ],
   "source": [
    "result_metrics = OfflineMetrics(\n",
    "    [Recall(TOPK), Precision(TOPK), MAP(TOPK), NDCG(TOPK), MRR(TOPK), HitRate(TOPK)], **init_args\n",
    ")(recommendations.toPandas(), raw_test_gt)"
   ]
  },
  {
   "cell_type": "code",
   "execution_count": null,
   "metadata": {},
   "outputs": [
    {
     "data": {
      "text/html": [
       "<div>\n",
       "<style scoped>\n",
       "    .dataframe tbody tr th:only-of-type {\n",
       "        vertical-align: middle;\n",
       "    }\n",
       "\n",
       "    .dataframe tbody tr th {\n",
       "        vertical-align: top;\n",
       "    }\n",
       "\n",
       "    .dataframe thead th {\n",
       "        text-align: right;\n",
       "    }\n",
       "</style>\n",
       "<table border=\"1\" class=\"dataframe\">\n",
       "  <thead>\n",
       "    <tr style=\"text-align: right;\">\n",
       "      <th>k</th>\n",
       "      <th>1</th>\n",
       "      <th>10</th>\n",
       "      <th>100</th>\n",
       "      <th>20</th>\n",
       "    </tr>\n",
       "  </thead>\n",
       "  <tbody>\n",
       "    <tr>\n",
       "      <th>HitRate</th>\n",
       "      <td>0.065563</td>\n",
       "      <td>0.290894</td>\n",
       "      <td>0.669040</td>\n",
       "      <td>0.401325</td>\n",
       "    </tr>\n",
       "    <tr>\n",
       "      <th>MAP</th>\n",
       "      <td>0.065563</td>\n",
       "      <td>0.123624</td>\n",
       "      <td>0.137725</td>\n",
       "      <td>0.131145</td>\n",
       "    </tr>\n",
       "    <tr>\n",
       "      <th>MRR</th>\n",
       "      <td>0.065563</td>\n",
       "      <td>0.123624</td>\n",
       "      <td>0.137725</td>\n",
       "      <td>0.131145</td>\n",
       "    </tr>\n",
       "    <tr>\n",
       "      <th>NDCG</th>\n",
       "      <td>0.065563</td>\n",
       "      <td>0.162662</td>\n",
       "      <td>0.239511</td>\n",
       "      <td>0.190401</td>\n",
       "    </tr>\n",
       "    <tr>\n",
       "      <th>Precision</th>\n",
       "      <td>0.065563</td>\n",
       "      <td>0.029089</td>\n",
       "      <td>0.006690</td>\n",
       "      <td>0.020066</td>\n",
       "    </tr>\n",
       "    <tr>\n",
       "      <th>Recall</th>\n",
       "      <td>0.065563</td>\n",
       "      <td>0.290894</td>\n",
       "      <td>0.669040</td>\n",
       "      <td>0.401325</td>\n",
       "    </tr>\n",
       "  </tbody>\n",
       "</table>\n",
       "</div>"
      ],
      "text/plain": [
       "k                 1        10       100        20\n",
       "HitRate    0.065563  0.290894  0.669040  0.401325\n",
       "MAP        0.065563  0.123624  0.137725  0.131145\n",
       "MRR        0.065563  0.123624  0.137725  0.131145\n",
       "NDCG       0.065563  0.162662  0.239511  0.190401\n",
       "Precision  0.065563  0.029089  0.006690  0.020066\n",
       "Recall     0.065563  0.290894  0.669040  0.401325"
      ]
     },
     "execution_count": 33,
     "metadata": {},
     "output_type": "execute_result"
    }
   ],
   "source": [
    "metrics_to_df(result_metrics)"
   ]
  },
  {
   "cell_type": "markdown",
   "metadata": {},
   "source": [
    "### User embeddings"
   ]
  },
  {
   "cell_type": "markdown",
   "metadata": {},
   "source": [
    "Got 6040 x 300 user embeddings, because among all 12 batches: \n",
    "\n",
    "11 batches contains 512 samples\n",
    "\n",
    "1 batch contains 408 left samples\n",
    "\n",
    "11 * 512 + 408 == 6040"
   ]
  },
  {
   "cell_type": "code",
   "execution_count": null,
   "metadata": {},
   "outputs": [
    {
     "data": {
      "text/plain": [
       "tensor([[ 0.4910,  0.6541,  1.1989,  ...,  2.2221, -1.2411, -0.0531],\n",
       "        [ 2.5156,  0.4305,  1.9696,  ...,  0.1247, -0.9331, -0.6492],\n",
       "        [ 0.0670,  0.3857,  1.4655,  ...,  0.2879, -0.6575, -2.2343],\n",
       "        ...,\n",
       "        [ 0.9231,  1.0865,  1.4352,  ...,  1.9022, -0.6079, -0.3271],\n",
       "        [ 1.5254,  1.3568,  1.5015,  ..., -0.8955, -0.7593,  0.6642],\n",
       "        [ 1.3330,  1.8731,  0.2909,  ..., -0.0608, -0.4536, -0.4237]],\n",
       "       device='cuda:0')"
      ]
     },
     "execution_count": 34,
     "metadata": {},
     "output_type": "execute_result"
    }
   ],
   "source": [
    "user_embeddings"
   ]
  },
  {
   "cell_type": "code",
   "execution_count": null,
   "metadata": {},
   "outputs": [
    {
     "data": {
      "text/plain": [
       "torch.Size([6040, 300])"
      ]
     },
     "execution_count": 35,
     "metadata": {},
     "output_type": "execute_result"
    }
   ],
   "source": [
    "user_embeddings.shape"
   ]
  },
  {
   "cell_type": "markdown",
   "metadata": {},
   "source": [
    "You can access user embeddings directly with `SasRecModel` class"
   ]
  },
  {
   "cell_type": "code",
   "execution_count": null,
   "metadata": {},
   "outputs": [
    {
     "data": {
      "text/plain": [
       "tensor([[ 0.2009,  0.2045, -1.6319,  ..., -0.5309,  1.1969, -0.9846],\n",
       "        [ 1.4582,  1.0053,  0.1122,  ..., -0.8022, -0.1704, -1.5288],\n",
       "        [ 0.1422, -1.3389, -1.3301,  ...,  0.9273, -0.5299, -0.0613],\n",
       "        ...,\n",
       "        [ 1.1273,  1.3454, -1.2446,  ...,  0.5884,  1.7028, -0.5070],\n",
       "        [-0.5969, -0.0760, -1.1440,  ..., -1.6136,  0.6426, -0.1457],\n",
       "        [ 0.2223, -0.8884, -1.4245,  ..., -0.9016, -0.4539, -1.0314]],\n",
       "       device='cuda:0', grad_fn=<SliceBackward0>)"
      ]
     },
     "execution_count": 36,
     "metadata": {},
     "output_type": "execute_result"
    }
   ],
   "source": [
    "device = \"cuda\" if torch.cuda.is_available() else \"cpu\"\n",
    "\n",
    "core_model = SasRecModel(\n",
    "    tensor_schema,\n",
    "    num_blocks=2,\n",
    "    num_heads=2,\n",
    "    max_len=MAX_SEQ_LEN,\n",
    "    hidden_size=300,\n",
    "    dropout=0.5\n",
    ")\n",
    "core_model.eval()\n",
    "core_model = core_model.to(device)\n",
    "\n",
    "# Get first batch of data \n",
    "data = next(iter(prediction_dataloader))\n",
    "tensor_map, padding_mask = data.features, data.padding_mask\n",
    "\n",
    "# Ensure everything is on the same device\n",
    "padding_mask = padding_mask.to(device)\n",
    "tensor_map[\"item_id_seq\"] = tensor_map[\"item_id_seq\"].to(device)\n",
    "\n",
    "# Get user embeddings\n",
    "user_embeddings_batch = core_model.get_query_embeddings(tensor_map, padding_mask)\n",
    "user_embeddings_batch"
   ]
  },
  {
   "cell_type": "code",
   "execution_count": null,
   "metadata": {},
   "outputs": [
    {
     "data": {
      "text/plain": [
       "torch.Size([512, 300])"
      ]
     },
     "execution_count": 37,
     "metadata": {},
     "output_type": "execute_result"
    }
   ],
   "source": [
    "user_embeddings_batch.shape"
   ]
  },
  {
   "cell_type": "markdown",
   "metadata": {},
   "source": [
    "### Item embeddings"
   ]
  },
  {
   "cell_type": "markdown",
   "metadata": {},
   "source": [
    "`get_all_embeddings()` method in transformers can be used to get copies of all embeddings that are presented in model as a dict."
   ]
  },
  {
   "cell_type": "code",
   "execution_count": null,
   "metadata": {},
   "outputs": [
    {
     "data": {
      "text/plain": [
       "{'item_embedding': tensor([[ 9.4805e-03, -1.5640e-02,  4.9842e-02,  ...,  5.8018e-02,\n",
       "          -1.9742e-02, -1.7690e-02],\n",
       "         [ 4.2578e-02,  2.4021e-02,  3.4127e-02,  ..., -3.9668e-02,\n",
       "          -6.5346e-03,  3.5604e-02],\n",
       "         [-2.3519e-02, -1.8128e-02,  4.3848e-02,  ...,  1.7946e-02,\n",
       "          -2.4065e-02, -7.5919e-03],\n",
       "         ...,\n",
       "         [ 2.2887e-02, -5.9028e-04, -1.4553e-02,  ..., -3.9487e-02,\n",
       "           5.0269e-03, -5.8281e-04],\n",
       "         [ 4.6296e-04, -3.9671e-02, -2.1013e-03,  ...,  1.4380e-02,\n",
       "           2.5738e-02,  1.1222e-02],\n",
       "         [ 9.3840e-03,  4.2885e-05,  7.9688e-03,  ..., -2.3441e-02,\n",
       "          -6.3776e-03,  2.7823e-02]]),\n",
       " 'positional_embedding': tensor([[-0.1173,  0.2469,  0.0626,  ...,  0.1187,  0.1661,  0.2812],\n",
       "         [-0.0256,  0.3096,  0.0077,  ...,  0.1707,  0.2212,  0.0348],\n",
       "         [-0.0189,  0.2336, -0.0485,  ...,  0.1639,  0.2487,  0.1630],\n",
       "         ...,\n",
       "         [ 0.1219, -0.1439, -0.0398,  ...,  0.0203, -0.1814, -0.0694],\n",
       "         [ 0.2573, -0.0046, -0.0096,  ..., -0.0295, -0.2011, -0.1178],\n",
       "         [ 0.2820, -0.0594, -0.1109,  ...,  0.1217, -0.1012,  0.0391]])}"
      ]
     },
     "execution_count": 38,
     "metadata": {},
     "output_type": "execute_result"
    }
   ],
   "source": [
    "all_embeddings = best_model.get_all_embeddings()\n",
    "all_embeddings"
   ]
  },
  {
   "cell_type": "markdown",
   "metadata": {},
   "source": [
    "You can access item embeddings from this dictionary"
   ]
  },
  {
   "cell_type": "code",
   "execution_count": null,
   "metadata": {},
   "outputs": [
    {
     "data": {
      "text/plain": [
       "tensor([[ 9.4805e-03, -1.5640e-02,  4.9842e-02,  ...,  5.8018e-02,\n",
       "         -1.9742e-02, -1.7690e-02],\n",
       "        [ 4.2578e-02,  2.4021e-02,  3.4127e-02,  ..., -3.9668e-02,\n",
       "         -6.5346e-03,  3.5604e-02],\n",
       "        [-2.3519e-02, -1.8128e-02,  4.3848e-02,  ...,  1.7946e-02,\n",
       "         -2.4065e-02, -7.5919e-03],\n",
       "        ...,\n",
       "        [ 2.2887e-02, -5.9028e-04, -1.4553e-02,  ..., -3.9487e-02,\n",
       "          5.0269e-03, -5.8281e-04],\n",
       "        [ 4.6296e-04, -3.9671e-02, -2.1013e-03,  ...,  1.4380e-02,\n",
       "          2.5738e-02,  1.1222e-02],\n",
       "        [ 9.3840e-03,  4.2885e-05,  7.9688e-03,  ..., -2.3441e-02,\n",
       "         -6.3776e-03,  2.7823e-02]])"
      ]
     },
     "execution_count": 39,
     "metadata": {},
     "output_type": "execute_result"
    }
   ],
   "source": [
    "item_embeddings = all_embeddings[\"item_embedding\"]\n",
    "item_embeddings"
   ]
  },
  {
   "cell_type": "markdown",
   "metadata": {},
   "source": [
    "Item embeddings shape is (N_ITEMS, HIDDEN_SIZE)"
   ]
  },
  {
   "cell_type": "code",
   "execution_count": null,
   "metadata": {},
   "outputs": [
    {
     "data": {
      "text/plain": [
       "torch.Size([3883, 300])"
      ]
     },
     "execution_count": 40,
     "metadata": {},
     "output_type": "execute_result"
    }
   ],
   "source": [
    "item_embeddings.shape"
   ]
  },
  {
   "cell_type": "markdown",
   "metadata": {},
   "source": [
    "Ensure we got correct dimension and ensure we got the copy of tensor"
   ]
  },
  {
   "cell_type": "code",
   "execution_count": null,
   "metadata": {},
   "outputs": [],
   "source": [
    "assert item_embeddings.shape[0] == len(tokenizer.item_id_encoder.mapping[\"item_id\"])\n",
    "assert id(item_embeddings) != id(best_model._model.item_embedder.item_emb.weight.data)"
   ]
  },
  {
   "cell_type": "markdown",
   "metadata": {},
   "source": [
    "For example we observe one new item id in our training data. We can easily expand our item embedder by one element"
   ]
  },
  {
   "cell_type": "markdown",
   "metadata": {},
   "source": [
    "In order to expand item embeddings by new size `set_item_embeddings_by_size` method is applied"
   ]
  },
  {
   "cell_type": "code",
   "execution_count": null,
   "metadata": {},
   "outputs": [],
   "source": [
    "best_model.set_item_embeddings_by_size(item_embeddings.shape[0] + 1)"
   ]
  },
  {
   "cell_type": "markdown",
   "metadata": {},
   "source": [
    "Now our new item embeddings have one extra embedding"
   ]
  },
  {
   "cell_type": "code",
   "execution_count": null,
   "metadata": {},
   "outputs": [],
   "source": [
    "new_size = best_model.get_all_embeddings()[\"item_embedding\"].shape[0]\n",
    "old_size = item_embeddings.shape[0]\n",
    "\n",
    "assert new_size == old_size + 1"
   ]
  },
  {
   "cell_type": "markdown",
   "metadata": {},
   "source": [
    "Alternatively, we can pass our item embeddings that replace the existing ones by calling `set_item_embeddings_by_tensor`.\n",
    "\n",
    "If tensor contains new items, they will be added to item embedder."
   ]
  },
  {
   "cell_type": "code",
   "execution_count": null,
   "metadata": {},
   "outputs": [],
   "source": [
    "new_embeddings_weights = torch.rand((new_size + 1, 300))    # randint used for example only\n",
    "\n",
    "best_model.set_item_embeddings_by_tensor(new_embeddings_weights)"
   ]
  },
  {
   "cell_type": "markdown",
   "metadata": {},
   "source": [
    "At the moment we expanded our item embeddings by one more item and replace weights by passing `new_embeddings_weights`"
   ]
  },
  {
   "cell_type": "code",
   "execution_count": null,
   "metadata": {},
   "outputs": [],
   "source": [
    "old_size = new_size\n",
    "new_size = best_model.get_all_embeddings()[\"item_embedding\"].shape[0]\n",
    "\n",
    "assert new_size == old_size + 1"
   ]
  },
  {
   "cell_type": "markdown",
   "metadata": {},
   "source": [
    "Similarly, we can append tensor for only new items with no replace for existing by calling `append_item_embeddings`"
   ]
  },
  {
   "cell_type": "code",
   "execution_count": null,
   "metadata": {},
   "outputs": [],
   "source": [
    "new_item_weights = torch.rand((1, 300))    # randint used for example only\n",
    "\n",
    "best_model.append_item_embeddings(new_item_weights)"
   ]
  },
  {
   "cell_type": "markdown",
   "metadata": {},
   "source": [
    "We passed one new example and its weights to item embeddings, thus expanded our vocabulary by one item again"
   ]
  },
  {
   "cell_type": "code",
   "execution_count": null,
   "metadata": {},
   "outputs": [],
   "source": [
    "old_size = new_size\n",
    "new_size = best_model.get_all_embeddings()[\"item_embedding\"].shape[0]\n",
    "\n",
    "assert new_size == old_size + 1"
   ]
  },
  {
   "attachments": {},
   "cell_type": "markdown",
   "metadata": {},
   "source": [
    "## Example of launching an inference for a single user without using a trainer (in order to speed up)\n",
    "An example for the production of an online script\n",
    "\n",
    "Let's assume that the user's sequence consisted of a sequence of items [1, 2, 3, 4, 5]. \n",
    "Сreate a padding mask corresponding to the sequence of items.\n",
    "\n",
    "It is important to take only the latest MAX_SEQ_LEN or less items."
   ]
  },
  {
   "cell_type": "code",
   "execution_count": null,
   "metadata": {},
   "outputs": [],
   "source": [
    "item_sequence = torch.arange(1, 5).unsqueeze(0)[:, -MAX_SEQ_LEN:]\n",
    "padding_mask = torch.ones_like(item_sequence, dtype=torch.bool)\n",
    "sequence_item_count = item_sequence.shape[1]"
   ]
  },
  {
   "attachments": {},
   "cell_type": "markdown",
   "metadata": {},
   "source": [
    "### Wrapping created tensors in the SasRecPredictionBatch entity"
   ]
  },
  {
   "cell_type": "code",
   "execution_count": null,
   "metadata": {},
   "outputs": [],
   "source": [
    "batch = SasRecPredictionBatch(\n",
    "    query_id=torch.arange(0, item_sequence.shape[0], 1).long(),\n",
    "    padding_mask=padding_mask.bool(),\n",
    "    features={ITEM_FEATURE_NAME: item_sequence.long()}\n",
    ")"
   ]
  },
  {
   "attachments": {},
   "cell_type": "markdown",
   "metadata": {},
   "source": [
    "### Run predict step of the SasRec and get scores from the model"
   ]
  },
  {
   "cell_type": "code",
   "execution_count": null,
   "metadata": {},
   "outputs": [
    {
     "data": {
      "text/plain": [
       "tensor([[-9.3361, -4.6010, -6.1914,  ...,  3.2796,  2.0030,  4.3570]])"
      ]
     },
     "execution_count": 50,
     "metadata": {},
     "output_type": "execute_result"
    }
   ],
   "source": [
    "with torch.no_grad():\n",
    "    scores = best_model.predict_step(batch, 0)\n",
    "scores"
   ]
  },
  {
   "attachments": {},
   "cell_type": "markdown",
   "metadata": {},
   "source": [
    "### Getting three items with the highest score"
   ]
  },
  {
   "cell_type": "code",
   "execution_count": null,
   "metadata": {},
   "outputs": [
    {
     "data": {
      "text/plain": [
       "tensor([[1429, 1968,  684]])"
      ]
     },
     "execution_count": 51,
     "metadata": {},
     "output_type": "execute_result"
    }
   ],
   "source": [
    "torch.topk(scores, k=3).indices"
   ]
  }
 ],
 "metadata": {
  "kernelspec": {
   "display_name": "Python 3",
   "language": "python",
   "name": "python3"
  },
  "language_info": {
   "codemirror_mode": {
    "name": "ipython",
    "version": 3
   },
   "file_extension": ".py",
   "mimetype": "text/x-python",
   "name": "python",
   "nbconvert_exporter": "python",
   "pygments_lexer": "ipython3",
   "version": "3.11.10"
  },
  "orig_nbformat": 4,
  "vscode": {
   "interpreter": {
    "hash": "0857f111b041889635bea848a6a183706c3f1c18c9dafdb447caa5e8bea01452"
   }
  }
 },
 "nbformat": 4,
 "nbformat_minor": 2
}
